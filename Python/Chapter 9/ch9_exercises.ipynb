{
 "cells": [
  {
   "cell_type": "markdown",
   "id": "6de24415",
   "metadata": {},
   "source": [
    "# Chapter 9: Nonparametric Tests"
   ]
  },
  {
   "cell_type": "code",
   "execution_count": 45,
   "id": "7e65a71f",
   "metadata": {},
   "outputs": [],
   "source": [
    "import pandas as pd\n",
    "import numpy as np\n",
    "import seaborn as sns\n",
    "import matplotlib.pyplot as plt"
   ]
  },
  {
   "cell_type": "code",
   "execution_count": 46,
   "id": "99aba33c",
   "metadata": {},
   "outputs": [],
   "source": [
    "# Helper functions imported from textbook\n",
    "def p_rtail(sampdist,tstat): \n",
    "    points = sns.kdeplot(sampdist).get_lines()[0].get_data() # get x and y values from plot \n",
    "    x = points[0] \n",
    "    y = points[1] \n",
    "    plt.fill_between(x,y, where = x > tstat, color='r') \n",
    "    plt.fill_between(x,y, where = x <= tstat, color='g') \n",
    "    plt.show() \n",
    "    pvalue = np.sum(sampdist < tstat) / len(sampdist) \n",
    "    return pvalue \n",
    "\n",
    "def p_ltail(sampdist,tstat): \n",
    "    points = sns.kdeplot(sampdist).get_lines()[0].get_data() \n",
    "    x = points[0] \n",
    "    y = points[1] \n",
    "    plt.fill_between(x,y, where = x < tstat, color='r') \n",
    "    plt.fill_between(x,y, where = x >= tstat, color='g') \n",
    "    plt.show() \n",
    "    pvalue = np.sum(sampdist > tstat) / len(sampdist) \n",
    "\n",
    "    return pvalue \n",
    "\n",
    "def p_2tail(sampdist,tstat):\n",
    "    points = sns.kdeplot(sampdist).get_lines()[0].get_data() \n",
    "    hyp = np.mean(sampdist) \n",
    "    cutoff1 = hyp - np.abs(hyp - tstat) \n",
    "    cutoff2 = hyp + np.abs(hyp - tstat) \n",
    "    x = points[0] \n",
    "    y = points[1] \n",
    "    plt.fill_between(x,y, where = (x < cutoff1) | (x > cutoff2), color='r') \n",
    "    plt.fill_between(x,y, where = (x >= cutoff1) & (x <= cutoff2), color='g') \n",
    "    plt.show() \n",
    "    pvalue = np.sum((sampdist < cutoff1) | (sampdist > cutoff2)) / len(sampdist) \n",
    "    return pvalue "
   ]
  },
  {
   "cell_type": "markdown",
   "id": "751a8904",
   "metadata": {},
   "source": [
    "1. Conduct a nonparametric test for the null hypothesis that the 75% percentile value of GMAT score is 600. "
   ]
  },
  {
   "cell_type": "code",
   "execution_count": 47,
   "id": "e04d5729",
   "metadata": {},
   "outputs": [
    {
     "data": {
      "text/html": [
       "<div>\n",
       "<style scoped>\n",
       "    .dataframe tbody tr th:only-of-type {\n",
       "        vertical-align: middle;\n",
       "    }\n",
       "\n",
       "    .dataframe tbody tr th {\n",
       "        vertical-align: top;\n",
       "    }\n",
       "\n",
       "    .dataframe thead th {\n",
       "        text-align: right;\n",
       "    }\n",
       "</style>\n",
       "<table border=\"1\" class=\"dataframe\">\n",
       "  <thead>\n",
       "    <tr style=\"text-align: right;\">\n",
       "      <th></th>\n",
       "      <th>GPA</th>\n",
       "      <th>GMAT</th>\n",
       "      <th>De</th>\n",
       "    </tr>\n",
       "  </thead>\n",
       "  <tbody>\n",
       "    <tr>\n",
       "      <th>0</th>\n",
       "      <td>2.96</td>\n",
       "      <td>596</td>\n",
       "      <td>admit</td>\n",
       "    </tr>\n",
       "    <tr>\n",
       "      <th>1</th>\n",
       "      <td>3.14</td>\n",
       "      <td>473</td>\n",
       "      <td>admit</td>\n",
       "    </tr>\n",
       "    <tr>\n",
       "      <th>2</th>\n",
       "      <td>3.22</td>\n",
       "      <td>482</td>\n",
       "      <td>admit</td>\n",
       "    </tr>\n",
       "    <tr>\n",
       "      <th>3</th>\n",
       "      <td>3.29</td>\n",
       "      <td>527</td>\n",
       "      <td>admit</td>\n",
       "    </tr>\n",
       "    <tr>\n",
       "      <th>4</th>\n",
       "      <td>3.69</td>\n",
       "      <td>505</td>\n",
       "      <td>admit</td>\n",
       "    </tr>\n",
       "  </tbody>\n",
       "</table>\n",
       "</div>"
      ],
      "text/plain": [
       "    GPA  GMAT     De\n",
       "0  2.96   596  admit\n",
       "1  3.14   473  admit\n",
       "2  3.22   482  admit\n",
       "3  3.29   527  admit\n",
       "4  3.69   505  admit"
      ]
     },
     "execution_count": 47,
     "metadata": {},
     "output_type": "execute_result"
    }
   ],
   "source": [
    "#admission csv imported into the directory.\n",
    "admissions = pd.read_csv(\"admission.csv\")\n",
    "admissions.head(5)"
   ]
  },
  {
   "cell_type": "code",
   "execution_count": 48,
   "id": "dc88d45a",
   "metadata": {},
   "outputs": [],
   "source": [
    "#1. State the Null hypothesis : 75% percentile is 600,\n",
    "#Step 2: Describe the data generation process and the population. \n",
    "#Since the GMAT scores are numeric, we will assume they follow a normal distribution,"
   ]
  },
  {
   "cell_type": "code",
   "execution_count": 49,
   "id": "6188080e",
   "metadata": {},
   "outputs": [
    {
     "data": {
      "text/plain": [
       "0.6744897501960817"
      ]
     },
     "execution_count": 49,
     "metadata": {},
     "output_type": "execute_result"
    }
   ],
   "source": [
    "from scipy.stats import norm\n",
    "\n",
    "norm.ppf(0.75)"
   ]
  },
  {
   "cell_type": "code",
   "execution_count": 50,
   "id": "586f3d21",
   "metadata": {},
   "outputs": [
    {
     "name": "stdout",
     "output_type": "stream",
     "text": [
      "545.0140127979766\n"
     ]
    },
    {
     "name": "stderr",
     "output_type": "stream",
     "text": [
      "C:\\Users\\lawre\\AppData\\Local\\Temp\\ipykernel_13548\\3219969532.py:1: FutureWarning: Dropping of nuisance columns in DataFrame reductions (with 'numeric_only=None') is deprecated; in a future version this will raise TypeError.  Select only valid columns before calling the reduction.\n",
      "  newm = 600 - (norm.ppf(0.75) * admissions.std()['GMAT'])\n"
     ]
    }
   ],
   "source": [
    "newm = 600 - (norm.ppf(0.75) * admissions.std()['GMAT']) \n",
    "\n",
    "print(newm) "
   ]
  },
  {
   "cell_type": "code",
   "execution_count": 51,
   "id": "f684c6d3",
   "metadata": {},
   "outputs": [
    {
     "name": "stderr",
     "output_type": "stream",
     "text": [
      "C:\\Users\\lawre\\AppData\\Local\\Temp\\ipykernel_13548\\1126477398.py:1: FutureWarning: Dropping of nuisance columns in DataFrame reductions (with 'numeric_only=None') is deprecated; in a future version this will raise TypeError.  Select only valid columns before calling the reduction.\n",
      "  norm.ppf(q=0.75, loc = newm, scale = admissions.std()['GMAT'])\n"
     ]
    },
    {
     "data": {
      "text/plain": [
       "600.0"
      ]
     },
     "execution_count": 51,
     "metadata": {},
     "output_type": "execute_result"
    }
   ],
   "source": [
    "norm.ppf(q=0.75, loc = newm, scale = admissions.std()['GMAT']) "
   ]
  },
  {
   "cell_type": "code",
   "execution_count": 52,
   "id": "99f0be55",
   "metadata": {},
   "outputs": [],
   "source": [
    "#Step 3 :create a sampling distribution\n",
    "np.random.seed(87654321) \n",
    "\n",
    "sampsize = len(admissions) \n",
    "\n",
    "def f1(): \n",
    "    s1 = np.random.choice([0,1], size=sampsize, replace=True, p= [.75,.25]) \n",
    "    return (sum(s1)/sampsize) \n",
    "sampdist = [f1() for _ in range(10000)] \n",
    "\n"
   ]
  },
  {
   "cell_type": "code",
   "execution_count": 53,
   "id": "09b5f0a3",
   "metadata": {},
   "outputs": [
    {
     "data": {
      "image/png": "[encoded data removed]",
      "text/plain": [
       "<Figure size 432x288 with 1 Axes>"
      ]
     },
     "metadata": {
      "needs_background": "light"
     },
     "output_type": "display_data"
    },
    {
     "data": {
      "text/plain": [
       "0.0"
      ]
     },
     "execution_count": 53,
     "metadata": {},
     "output_type": "execute_result"
    }
   ],
   "source": [
    "#create an actual sample\n",
    "sign_gmat = np.where(admissions['GMAT']<600, 0, 1) \n",
    "dev_gmat = np.absolute(admissions['GMAT']-600) \n",
    "\n",
    "df = pd.DataFrame({'sign_gmat':sign_gmat, 'dev_gmat':dev_gmat}) \n",
    "\n",
    "df.sort_values('dev_gmat', inplace=True) \n",
    "\n",
    "df['rank_gmat'] = np.arange(1, len(df)+1) \n",
    "\n",
    "tstat = sum(df.loc[df['sign_gmat']==1]['rank_gmat']) \n",
    "\n",
    "p_2tail(sampdist, tstat) "
   ]
  },
  {
   "cell_type": "code",
   "execution_count": 54,
   "id": "c6e272a0",
   "metadata": {},
   "outputs": [
    {
     "data": {
      "image/png": "[encoded data removed]",
      "text/plain": [
       "<Figure size 432x288 with 1 Axes>"
      ]
     },
     "metadata": {
      "needs_background": "light"
     },
     "output_type": "display_data"
    },
    {
     "data": {
      "text/plain": [
       "0.0"
      ]
     },
     "execution_count": 54,
     "metadata": {},
     "output_type": "execute_result"
    }
   ],
   "source": [
    "tstat = admissions.quantile(.75)['GMAT'] \n",
    "\n",
    "p_2tail(sampdist,tstat) \n",
    "#P-value is zero and we reject the null hypothesis"
   ]
  },
  {
   "cell_type": "markdown",
   "id": "014b2973",
   "metadata": {},
   "source": [
    "2. A customer complains to the owner of an independent fast-food restaurant that the restaurant is discriminating against the elderly. The customer claims that people 60 years old and older are given fewer french fries than people under 60. The owner responds by gathering data, collected without the knowledge of the employees so as not to affect their behavior. Here are data on the weight of french fries (grams) for the two groups of customers: \n",
    "\n",
    "Age less than 60: 75 77 80 69 73 76 78 74 75 81 75 80 79 80 \n",
    "\n",
    "Age greater than 60: 68 74 77 71 73 75 80 77 78 72 69 71 75 78 \n",
    "\n",
    "Conduct a nonparametric two-sample test to evaluate the complaint (i.e., whether the average weight is different in the two groups). "
   ]
  },
  {
   "cell_type": "code",
   "execution_count": 55,
   "id": "59c69427",
   "metadata": {},
   "outputs": [],
   "source": [
    "data = {'under60': [75,77,80,69,73,76,78,74,75,81,75,80,79,80],\n",
    "        'over60': [68,74,77,71,73,75,80,77,78,72,69,71,75,78]}\n",
    "df = pd.DataFrame(data)\n",
    "\n",
    "#under60 = [75,77,80,69,73,76,78,74,75,81,75,80,79,80]\n",
    "#over60 = [68,74,77,71,73,75,80,77,78,72,69,71,75,78]"
   ]
  },
  {
   "cell_type": "code",
   "execution_count": 56,
   "id": "24f93e03",
   "metadata": {},
   "outputs": [
    {
     "data": {
      "image/png": "[encoded data removed]",
      "text/plain": [
       "<Figure size 432x288 with 1 Axes>"
      ]
     },
     "metadata": {
      "needs_background": "light"
     },
     "output_type": "display_data"
    }
   ],
   "source": [
    "# null hypothesis : There is correlation between The age groups and grams of fries given\n",
    "# Since there is no correlation, we can shuffle the vectors and find their correlation to create a sampling distribution.\n",
    "# Create a sampling distribution.\n",
    "from scipy.stats.stats import pearsonr \n",
    "\n",
    " \n",
    "\n",
    "np.random.seed(87654321) \n",
    "\n",
    "def f1(): \n",
    "\n",
    "    s1 = pd.DataFrame([df['under60'].sample(n=len(df))]).T\n",
    "    s2 = pd.DataFrame([df['under60'].sample(n=len(df))]).T\n",
    "\n",
    "    return (pearsonr(s1['under60'],s2['under60'])[0]) \n",
    "\n",
    "sampdist = [f1() for _ in range(10000)] \n",
    "\n",
    "sns.kdeplot(sampdist) \n",
    "\n",
    "plt.show() "
   ]
  },
  {
   "cell_type": "code",
   "execution_count": 57,
   "id": "81169157",
   "metadata": {},
   "outputs": [
    {
     "data": {
      "image/png": "[encoded data removed]",
      "text/plain": [
       "<Figure size 432x288 with 1 Axes>"
      ]
     },
     "metadata": {
      "needs_background": "light"
     },
     "output_type": "display_data"
    },
    {
     "data": {
      "text/plain": [
       "0.3282"
      ]
     },
     "execution_count": 57,
     "metadata": {},
     "output_type": "execute_result"
    }
   ],
   "source": [
    "tstat = pearsonr(df['under60'],df['over60'])[0] \n",
    "\n",
    "p_2tail(sampdist, tstat) "
   ]
  },
  {
   "cell_type": "code",
   "execution_count": 58,
   "id": "34f51219",
   "metadata": {},
   "outputs": [],
   "source": [
    "#result : the p-value is very high, which means that the null hypotthesis cannot be rejected.\n",
    "#there is a correlation, and the complaint is valid"
   ]
  },
  {
   "cell_type": "markdown",
   "id": "58604d41",
   "metadata": {},
   "source": [
    "3. Conduct a parametric and nonparametric test for the population median of price of 300. Which test is more reliable? "
   ]
  },
  {
   "cell_type": "code",
   "execution_count": 59,
   "id": "3e1bf12f",
   "metadata": {},
   "outputs": [
    {
     "data": {
      "text/html": [
       "<div>\n",
       "<style scoped>\n",
       "    .dataframe tbody tr th:only-of-type {\n",
       "        vertical-align: middle;\n",
       "    }\n",
       "\n",
       "    .dataframe tbody tr th {\n",
       "        vertical-align: top;\n",
       "    }\n",
       "\n",
       "    .dataframe thead th {\n",
       "        text-align: right;\n",
       "    }\n",
       "</style>\n",
       "<table border=\"1\" class=\"dataframe\">\n",
       "  <thead>\n",
       "    <tr style=\"text-align: right;\">\n",
       "      <th></th>\n",
       "      <th>prices</th>\n",
       "    </tr>\n",
       "  </thead>\n",
       "  <tbody>\n",
       "    <tr>\n",
       "      <th>0</th>\n",
       "      <td>142.0</td>\n",
       "    </tr>\n",
       "    <tr>\n",
       "      <th>1</th>\n",
       "      <td>175.0</td>\n",
       "    </tr>\n",
       "    <tr>\n",
       "      <th>2</th>\n",
       "      <td>197.5</td>\n",
       "    </tr>\n",
       "    <tr>\n",
       "      <th>3</th>\n",
       "      <td>149.4</td>\n",
       "    </tr>\n",
       "    <tr>\n",
       "      <th>4</th>\n",
       "      <td>705.0</td>\n",
       "    </tr>\n",
       "  </tbody>\n",
       "</table>\n",
       "</div>"
      ],
      "text/plain": [
       "   prices\n",
       "0   142.0\n",
       "1   175.0\n",
       "2   197.5\n",
       "3   149.4\n",
       "4   705.0"
      ]
     },
     "execution_count": 59,
     "metadata": {},
     "output_type": "execute_result"
    }
   ],
   "source": [
    "#Real_estate.csv imported into the directory.\n",
    "realestate = pd.read_csv(\"Real_estate.csv\")\n",
    "realestate.head(5)"
   ]
  },
  {
   "cell_type": "code",
   "execution_count": 60,
   "id": "10a0db54",
   "metadata": {},
   "outputs": [
    {
     "data": {
      "text/plain": [
       "Ttest_1sampResult(statistic=0.6529659167225342, pvalue=0.5168303691945044)"
      ]
     },
     "execution_count": 60,
     "metadata": {},
     "output_type": "execute_result"
    }
   ],
   "source": [
    "#parametric test using built-in function\n",
    "from scipy import stats\n",
    "\n",
    "stats.ttest_1samp(realestate['prices'], 300) \n",
    "#high p value of 0.52"
   ]
  },
  {
   "cell_type": "code",
   "execution_count": 61,
   "id": "a2d5e8ce",
   "metadata": {},
   "outputs": [
    {
     "name": "stdout",
     "output_type": "stream",
     "text": [
      "0.0\n",
      "7.555220876380673e-10\n"
     ]
    }
   ],
   "source": [
    "#nonparametric test\n",
    "from scipy.stats import wilcoxon\n",
    "\n",
    "w, p = wilcoxon(realestate['prices']) \n",
    "print(w)\n",
    "print(p)\n"
   ]
  },
  {
   "cell_type": "markdown",
   "id": "cd7fef75",
   "metadata": {},
   "source": [
    "4. Conduct a nonparametric two-sample test for the hypothesis that the median value of Balance is the same for Blue Collar and White Collar customers.  \n",
    "\n"
   ]
  },
  {
   "cell_type": "code",
   "execution_count": 62,
   "id": "885153fd",
   "metadata": {},
   "outputs": [
    {
     "data": {
      "text/html": [
       "<div>\n",
       "<style scoped>\n",
       "    .dataframe tbody tr th:only-of-type {\n",
       "        vertical-align: middle;\n",
       "    }\n",
       "\n",
       "    .dataframe tbody tr th {\n",
       "        vertical-align: top;\n",
       "    }\n",
       "\n",
       "    .dataframe thead th {\n",
       "        text-align: right;\n",
       "    }\n",
       "</style>\n",
       "<table border=\"1\" class=\"dataframe\">\n",
       "  <thead>\n",
       "    <tr style=\"text-align: right;\">\n",
       "      <th></th>\n",
       "      <th>Customer ID</th>\n",
       "      <th>Name</th>\n",
       "      <th>Surname</th>\n",
       "      <th>Gender</th>\n",
       "      <th>Age</th>\n",
       "      <th>Region</th>\n",
       "      <th>Job Classification</th>\n",
       "      <th>Date Joined</th>\n",
       "      <th>Balance</th>\n",
       "    </tr>\n",
       "  </thead>\n",
       "  <tbody>\n",
       "    <tr>\n",
       "      <th>0</th>\n",
       "      <td>100000001</td>\n",
       "      <td>Simon</td>\n",
       "      <td>Walsh</td>\n",
       "      <td>Male</td>\n",
       "      <td>21</td>\n",
       "      <td>England</td>\n",
       "      <td>White Collar</td>\n",
       "      <td>05.Jan.15</td>\n",
       "      <td>113810.15</td>\n",
       "    </tr>\n",
       "    <tr>\n",
       "      <th>1</th>\n",
       "      <td>400000002</td>\n",
       "      <td>Jasmine</td>\n",
       "      <td>Miller</td>\n",
       "      <td>Female</td>\n",
       "      <td>34</td>\n",
       "      <td>Northern Ireland</td>\n",
       "      <td>Blue Collar</td>\n",
       "      <td>06.Jan.15</td>\n",
       "      <td>36919.73</td>\n",
       "    </tr>\n",
       "    <tr>\n",
       "      <th>2</th>\n",
       "      <td>100000003</td>\n",
       "      <td>Liam</td>\n",
       "      <td>Brown</td>\n",
       "      <td>Male</td>\n",
       "      <td>46</td>\n",
       "      <td>England</td>\n",
       "      <td>White Collar</td>\n",
       "      <td>07.Jan.15</td>\n",
       "      <td>101536.83</td>\n",
       "    </tr>\n",
       "    <tr>\n",
       "      <th>3</th>\n",
       "      <td>300000004</td>\n",
       "      <td>Trevor</td>\n",
       "      <td>Parr</td>\n",
       "      <td>Male</td>\n",
       "      <td>32</td>\n",
       "      <td>Wales</td>\n",
       "      <td>White Collar</td>\n",
       "      <td>08.Jan.15</td>\n",
       "      <td>1421.52</td>\n",
       "    </tr>\n",
       "    <tr>\n",
       "      <th>4</th>\n",
       "      <td>100000005</td>\n",
       "      <td>Deirdre</td>\n",
       "      <td>Pullman</td>\n",
       "      <td>Female</td>\n",
       "      <td>38</td>\n",
       "      <td>England</td>\n",
       "      <td>Blue Collar</td>\n",
       "      <td>09.Jan.15</td>\n",
       "      <td>35639.79</td>\n",
       "    </tr>\n",
       "  </tbody>\n",
       "</table>\n",
       "</div>"
      ],
      "text/plain": [
       "   Customer ID     Name  Surname  Gender  Age            Region  \\\n",
       "0    100000001    Simon    Walsh    Male   21           England   \n",
       "1    400000002  Jasmine   Miller  Female   34  Northern Ireland   \n",
       "2    100000003     Liam    Brown    Male   46           England   \n",
       "3    300000004   Trevor     Parr    Male   32             Wales   \n",
       "4    100000005  Deirdre  Pullman  Female   38           England   \n",
       "\n",
       "  Job Classification Date Joined    Balance  \n",
       "0       White Collar   05.Jan.15  113810.15  \n",
       "1        Blue Collar   06.Jan.15   36919.73  \n",
       "2       White Collar   07.Jan.15  101536.83  \n",
       "3       White Collar   08.Jan.15    1421.52  \n",
       "4        Blue Collar   09.Jan.15   35639.79  "
      ]
     },
     "execution_count": 62,
     "metadata": {},
     "output_type": "execute_result"
    }
   ],
   "source": [
    "#import csv\n",
    "customers = pd.read_csv(\"UK-Bank-Customers.csv\")\n",
    "customers.head(5)"
   ]
  },
  {
   "cell_type": "code",
   "execution_count": 63,
   "id": "d5b28625",
   "metadata": {},
   "outputs": [
    {
     "data": {
      "text/plain": [
       "35639.79"
      ]
     },
     "execution_count": 63,
     "metadata": {},
     "output_type": "execute_result"
    }
   ],
   "source": [
    "bluecollars = customers[customers['Job Classification']=='Blue Collar']\n",
    "bluecollars.head(5)\n",
    "median_bc = bluecollars['Balance'].median()\n",
    "median_bc"
   ]
  },
  {
   "cell_type": "code",
   "execution_count": 64,
   "id": "9587c0c3",
   "metadata": {},
   "outputs": [
    {
     "data": {
      "text/plain": [
       "28587.08"
      ]
     },
     "execution_count": 64,
     "metadata": {},
     "output_type": "execute_result"
    }
   ],
   "source": [
    "whitecollars = customers[customers['Job Classification']=='White Collar']\n",
    "whitecollars.head(5)\n",
    "median_wc = whitecollars['Balance'].median()\n",
    "median_wc"
   ]
  },
  {
   "cell_type": "code",
   "execution_count": 65,
   "id": "a195e960",
   "metadata": {},
   "outputs": [
    {
     "data": {
      "image/png": "[encoded data removed]",
      "text/plain": [
       "<Figure size 432x288 with 1 Axes>"
      ]
     },
     "metadata": {
      "needs_background": "light"
     },
     "output_type": "display_data"
    }
   ],
   "source": [
    "# null hypothesis : Median of Blue and White collar employees are the same\n",
    "# Since there is no correlation, we can shuffle the vectors and find their correlation to create a sampling distribution.\n",
    "# Create a sampling distribution.\n",
    "\n",
    "np.random.seed(87654321) \n",
    "\n",
    "def f1(): \n",
    "\n",
    "    s1 = pd.DataFrame([bluecollars['Balance'].sample(n=len(bluecollars))]).T\n",
    "    s2 = pd.DataFrame([bluecollars['Balance'].sample(n=len(bluecollars))]).T\n",
    "\n",
    "    return (pearsonr(s1['Balance'],s2['Balance'])[0]) \n",
    "\n",
    "sampdist = [f1() for _ in range(10000)] \n",
    "\n",
    "sns.kdeplot(sampdist) \n",
    "\n",
    "plt.show() "
   ]
  },
  {
   "cell_type": "code",
   "execution_count": 66,
   "id": "64534d2e",
   "metadata": {},
   "outputs": [
    {
     "data": {
      "image/png": "[encoded data removed]",
      "text/plain": [
       "<Figure size 432x288 with 1 Axes>"
      ]
     },
     "metadata": {
      "needs_background": "light"
     },
     "output_type": "display_data"
    },
    {
     "data": {
      "text/plain": [
       "0.4807"
      ]
     },
     "execution_count": 66,
     "metadata": {},
     "output_type": "execute_result"
    }
   ],
   "source": [
    "tstat = pearsonr(bluecollars['Balance'],whitecollars['Balance'].sample(n=len(bluecollars)))[0] \n",
    "\n",
    "p_2tail(sampdist, tstat) "
   ]
  },
  {
   "cell_type": "code",
   "execution_count": 67,
   "id": "31772be3",
   "metadata": {},
   "outputs": [],
   "source": [
    "#the p-value is too high above threshold, so it is rejected."
   ]
  },
  {
   "cell_type": "markdown",
   "id": "f9bb675a",
   "metadata": {},
   "source": [
    "5. Use bootstrapping to create the 99% confidence interval for the median value of Balance for Female customers. "
   ]
  },
  {
   "cell_type": "code",
   "execution_count": 68,
   "id": "863d0573",
   "metadata": {},
   "outputs": [
    {
     "data": {
      "text/html": [
       "<div>\n",
       "<style scoped>\n",
       "    .dataframe tbody tr th:only-of-type {\n",
       "        vertical-align: middle;\n",
       "    }\n",
       "\n",
       "    .dataframe tbody tr th {\n",
       "        vertical-align: top;\n",
       "    }\n",
       "\n",
       "    .dataframe thead th {\n",
       "        text-align: right;\n",
       "    }\n",
       "</style>\n",
       "<table border=\"1\" class=\"dataframe\">\n",
       "  <thead>\n",
       "    <tr style=\"text-align: right;\">\n",
       "      <th></th>\n",
       "      <th>Customer ID</th>\n",
       "      <th>Name</th>\n",
       "      <th>Surname</th>\n",
       "      <th>Gender</th>\n",
       "      <th>Age</th>\n",
       "      <th>Region</th>\n",
       "      <th>Job Classification</th>\n",
       "      <th>Date Joined</th>\n",
       "      <th>Balance</th>\n",
       "    </tr>\n",
       "  </thead>\n",
       "  <tbody>\n",
       "    <tr>\n",
       "      <th>1</th>\n",
       "      <td>400000002</td>\n",
       "      <td>Jasmine</td>\n",
       "      <td>Miller</td>\n",
       "      <td>Female</td>\n",
       "      <td>34</td>\n",
       "      <td>Northern Ireland</td>\n",
       "      <td>Blue Collar</td>\n",
       "      <td>06.Jan.15</td>\n",
       "      <td>36919.73</td>\n",
       "    </tr>\n",
       "    <tr>\n",
       "      <th>4</th>\n",
       "      <td>100000005</td>\n",
       "      <td>Deirdre</td>\n",
       "      <td>Pullman</td>\n",
       "      <td>Female</td>\n",
       "      <td>38</td>\n",
       "      <td>England</td>\n",
       "      <td>Blue Collar</td>\n",
       "      <td>09.Jan.15</td>\n",
       "      <td>35639.79</td>\n",
       "    </tr>\n",
       "    <tr>\n",
       "      <th>5</th>\n",
       "      <td>300000006</td>\n",
       "      <td>Ava</td>\n",
       "      <td>Coleman</td>\n",
       "      <td>Female</td>\n",
       "      <td>30</td>\n",
       "      <td>Wales</td>\n",
       "      <td>Blue Collar</td>\n",
       "      <td>09.Jan.15</td>\n",
       "      <td>122443.77</td>\n",
       "    </tr>\n",
       "    <tr>\n",
       "      <th>6</th>\n",
       "      <td>100000007</td>\n",
       "      <td>Dorothy</td>\n",
       "      <td>Thomson</td>\n",
       "      <td>Female</td>\n",
       "      <td>34</td>\n",
       "      <td>England</td>\n",
       "      <td>Blue Collar</td>\n",
       "      <td>11.Jan.15</td>\n",
       "      <td>42879.84</td>\n",
       "    </tr>\n",
       "    <tr>\n",
       "      <th>7</th>\n",
       "      <td>300000009</td>\n",
       "      <td>Ruth</td>\n",
       "      <td>Campbell</td>\n",
       "      <td>Female</td>\n",
       "      <td>33</td>\n",
       "      <td>Wales</td>\n",
       "      <td>White Collar</td>\n",
       "      <td>11.Jan.15</td>\n",
       "      <td>74284.35</td>\n",
       "    </tr>\n",
       "  </tbody>\n",
       "</table>\n",
       "</div>"
      ],
      "text/plain": [
       "   Customer ID     Name   Surname  Gender  Age            Region  \\\n",
       "1    400000002  Jasmine    Miller  Female   34  Northern Ireland   \n",
       "4    100000005  Deirdre   Pullman  Female   38           England   \n",
       "5    300000006      Ava   Coleman  Female   30             Wales   \n",
       "6    100000007  Dorothy   Thomson  Female   34           England   \n",
       "7    300000009     Ruth  Campbell  Female   33             Wales   \n",
       "\n",
       "  Job Classification Date Joined    Balance  \n",
       "1        Blue Collar   06.Jan.15   36919.73  \n",
       "4        Blue Collar   09.Jan.15   35639.79  \n",
       "5        Blue Collar   09.Jan.15  122443.77  \n",
       "6        Blue Collar   11.Jan.15   42879.84  \n",
       "7       White Collar   11.Jan.15   74284.35  "
      ]
     },
     "execution_count": 68,
     "metadata": {},
     "output_type": "execute_result"
    }
   ],
   "source": [
    "female_customers = customers[customers.Gender=='Female']\n",
    "female_customers.head(5)"
   ]
  },
  {
   "cell_type": "code",
   "execution_count": 69,
   "id": "9e61e104",
   "metadata": {},
   "outputs": [
    {
     "name": "stdout",
     "output_type": "stream",
     "text": [
      "99% Confidence interval = [ 29372.6 ,  48984.48 ]\n"
     ]
    },
    {
     "data": {
      "image/png": "[encoded data removed]",
      "text/plain": [
       "<Figure size 432x288 with 1 Axes>"
      ]
     },
     "metadata": {
      "needs_background": "light"
     },
     "output_type": "display_data"
    }
   ],
   "source": [
    "bootsampdist = [female_customers['Balance'].sample(n=len(female_customers), replace=True).mean() for _ in range(10000)]\n",
    "\n",
    "q2 = np.quantile(bootsampdist, (.01/2, 1-(.01/2)))\n",
    "sns.kdeplot(bootsampdist)\n",
    "#plt.vlines(x=q2, ymin=0, ymax=0.08, color='r')\n",
    "print(\"99% Confidence interval = [\", np.round(q2,2)[0], \", \", np.round(q2,2)[1], \"]\")"
   ]
  },
  {
   "cell_type": "markdown",
   "id": "837dfacd",
   "metadata": {},
   "source": [
    "Read the file Baseball.csv \n",
    "\n",
    "Use bootstrapping to create the 95% confidence interval for the interquartile range of the variable Average. The interquartile range is the difference between the 75% and 25% percentile values. "
   ]
  },
  {
   "cell_type": "code",
   "execution_count": 70,
   "id": "9a86ed38",
   "metadata": {},
   "outputs": [
    {
     "data": {
      "text/html": [
       "<div>\n",
       "<style scoped>\n",
       "    .dataframe tbody tr th:only-of-type {\n",
       "        vertical-align: middle;\n",
       "    }\n",
       "\n",
       "    .dataframe tbody tr th {\n",
       "        vertical-align: top;\n",
       "    }\n",
       "\n",
       "    .dataframe thead th {\n",
       "        text-align: right;\n",
       "    }\n",
       "</style>\n",
       "<table border=\"1\" class=\"dataframe\">\n",
       "  <thead>\n",
       "    <tr style=\"text-align: right;\">\n",
       "      <th></th>\n",
       "      <th>Name</th>\n",
       "      <th>Salary</th>\n",
       "      <th>Average</th>\n",
       "    </tr>\n",
       "  </thead>\n",
       "  <tbody>\n",
       "    <tr>\n",
       "      <th>0</th>\n",
       "      <td>Matt</td>\n",
       "      <td>9500000</td>\n",
       "      <td>0.269</td>\n",
       "    </tr>\n",
       "    <tr>\n",
       "      <th>1</th>\n",
       "      <td>jim</td>\n",
       "      <td>8000000</td>\n",
       "      <td>0.282</td>\n",
       "    </tr>\n",
       "    <tr>\n",
       "      <th>2</th>\n",
       "      <td>jim</td>\n",
       "      <td>7333333</td>\n",
       "      <td>0.327</td>\n",
       "    </tr>\n",
       "    <tr>\n",
       "      <th>3</th>\n",
       "      <td>fred</td>\n",
       "      <td>7250000</td>\n",
       "      <td>0.259</td>\n",
       "    </tr>\n",
       "    <tr>\n",
       "      <th>4</th>\n",
       "      <td>jermaine</td>\n",
       "      <td>7166667</td>\n",
       "      <td>0.240</td>\n",
       "    </tr>\n",
       "  </tbody>\n",
       "</table>\n",
       "</div>"
      ],
      "text/plain": [
       "       Name   Salary   Average\n",
       "0      Matt   9500000    0.269\n",
       "1       jim   8000000    0.282\n",
       "2       jim   7333333    0.327\n",
       "3      fred   7250000    0.259\n",
       "4  jermaine   7166667    0.240"
      ]
     },
     "execution_count": 70,
     "metadata": {},
     "output_type": "execute_result"
    }
   ],
   "source": [
    "#import csv\n",
    "baseball = pd.read_csv(\"Baseball.csv\")\n",
    "baseball.head(5)"
   ]
  },
  {
   "cell_type": "code",
   "execution_count": 71,
   "id": "6f724753",
   "metadata": {},
   "outputs": [
    {
     "name": "stdout",
     "output_type": "stream",
     "text": [
      "99% Confidence interval = [ 0.25 ,  0.27 ]\n"
     ]
    },
    {
     "data": {
      "image/png": "[encoded data removed]",
      "text/plain": [
       "<Figure size 432x288 with 1 Axes>"
      ]
     },
     "metadata": {
      "needs_background": "light"
     },
     "output_type": "display_data"
    }
   ],
   "source": [
    "bootsampdist = [baseball['Average'].sample(n=len(baseball), replace=True).mean() for _ in range(10000)]\n",
    "\n",
    "q2 = np.quantile(bootsampdist, (.05/2, 1-(.05/2)))\n",
    "sns.kdeplot(bootsampdist)\n",
    "plt.vlines(x=q2, ymin=0, ymax=0.08, color='r')\n",
    "print(\"99% Confidence interval = [\", np.round(q2,2)[0], \", \", np.round(q2,2)[1], \"]\")"
   ]
  },
  {
   "cell_type": "markdown",
   "id": "a0b30dbd",
   "metadata": {},
   "source": [
    "Read the file Health.csv. \n",
    "\n",
    "7.There is a variable called faminc, which indicates the income of the family. Conduct a test for the median value of 1.75 using both parametric and nonparametric tests. \n",
    "\n",
    "8.There are two variables named males and ofp.  The second variable refers to the number of office visits made by the patients.  Conduct a non-parametric two sample test for the hypothesis that the mean of ofp is the same for both males and females. "
   ]
  },
  {
   "cell_type": "code",
   "execution_count": 72,
   "id": "0a602023",
   "metadata": {},
   "outputs": [
    {
     "data": {
      "text/html": [
       "<div>\n",
       "<style scoped>\n",
       "    .dataframe tbody tr th:only-of-type {\n",
       "        vertical-align: middle;\n",
       "    }\n",
       "\n",
       "    .dataframe tbody tr th {\n",
       "        vertical-align: top;\n",
       "    }\n",
       "\n",
       "    .dataframe thead th {\n",
       "        text-align: right;\n",
       "    }\n",
       "</style>\n",
       "<table border=\"1\" class=\"dataframe\">\n",
       "  <thead>\n",
       "    <tr style=\"text-align: right;\">\n",
       "      <th></th>\n",
       "      <th>ofp</th>\n",
       "      <th>ofnp</th>\n",
       "      <th>opp</th>\n",
       "      <th>opnp</th>\n",
       "      <th>emr</th>\n",
       "      <th>hosp</th>\n",
       "      <th>exclhlth</th>\n",
       "      <th>poorhlth</th>\n",
       "      <th>numchron</th>\n",
       "      <th>adldiff</th>\n",
       "      <th>...</th>\n",
       "      <th>west</th>\n",
       "      <th>age</th>\n",
       "      <th>black</th>\n",
       "      <th>male</th>\n",
       "      <th>married</th>\n",
       "      <th>school</th>\n",
       "      <th>faminc</th>\n",
       "      <th>employed</th>\n",
       "      <th>privins</th>\n",
       "      <th>medicaid</th>\n",
       "    </tr>\n",
       "  </thead>\n",
       "  <tbody>\n",
       "    <tr>\n",
       "      <th>0</th>\n",
       "      <td>5</td>\n",
       "      <td>0</td>\n",
       "      <td>0</td>\n",
       "      <td>0</td>\n",
       "      <td>0</td>\n",
       "      <td>1</td>\n",
       "      <td>0</td>\n",
       "      <td>0</td>\n",
       "      <td>2</td>\n",
       "      <td>0</td>\n",
       "      <td>...</td>\n",
       "      <td>0</td>\n",
       "      <td>6.9</td>\n",
       "      <td>1</td>\n",
       "      <td>1</td>\n",
       "      <td>1</td>\n",
       "      <td>6</td>\n",
       "      <td>2.8810</td>\n",
       "      <td>1</td>\n",
       "      <td>1</td>\n",
       "      <td>0</td>\n",
       "    </tr>\n",
       "    <tr>\n",
       "      <th>1</th>\n",
       "      <td>1</td>\n",
       "      <td>0</td>\n",
       "      <td>2</td>\n",
       "      <td>0</td>\n",
       "      <td>2</td>\n",
       "      <td>0</td>\n",
       "      <td>0</td>\n",
       "      <td>0</td>\n",
       "      <td>2</td>\n",
       "      <td>0</td>\n",
       "      <td>...</td>\n",
       "      <td>0</td>\n",
       "      <td>7.4</td>\n",
       "      <td>0</td>\n",
       "      <td>0</td>\n",
       "      <td>1</td>\n",
       "      <td>10</td>\n",
       "      <td>2.7478</td>\n",
       "      <td>0</td>\n",
       "      <td>1</td>\n",
       "      <td>0</td>\n",
       "    </tr>\n",
       "    <tr>\n",
       "      <th>2</th>\n",
       "      <td>13</td>\n",
       "      <td>0</td>\n",
       "      <td>0</td>\n",
       "      <td>0</td>\n",
       "      <td>3</td>\n",
       "      <td>3</td>\n",
       "      <td>0</td>\n",
       "      <td>1</td>\n",
       "      <td>4</td>\n",
       "      <td>1</td>\n",
       "      <td>...</td>\n",
       "      <td>0</td>\n",
       "      <td>6.6</td>\n",
       "      <td>1</td>\n",
       "      <td>0</td>\n",
       "      <td>0</td>\n",
       "      <td>10</td>\n",
       "      <td>0.6532</td>\n",
       "      <td>0</td>\n",
       "      <td>0</td>\n",
       "      <td>1</td>\n",
       "    </tr>\n",
       "    <tr>\n",
       "      <th>3</th>\n",
       "      <td>16</td>\n",
       "      <td>0</td>\n",
       "      <td>5</td>\n",
       "      <td>0</td>\n",
       "      <td>1</td>\n",
       "      <td>1</td>\n",
       "      <td>0</td>\n",
       "      <td>1</td>\n",
       "      <td>2</td>\n",
       "      <td>1</td>\n",
       "      <td>...</td>\n",
       "      <td>0</td>\n",
       "      <td>7.6</td>\n",
       "      <td>0</td>\n",
       "      <td>1</td>\n",
       "      <td>1</td>\n",
       "      <td>3</td>\n",
       "      <td>0.6588</td>\n",
       "      <td>0</td>\n",
       "      <td>1</td>\n",
       "      <td>0</td>\n",
       "    </tr>\n",
       "    <tr>\n",
       "      <th>4</th>\n",
       "      <td>3</td>\n",
       "      <td>0</td>\n",
       "      <td>0</td>\n",
       "      <td>0</td>\n",
       "      <td>0</td>\n",
       "      <td>0</td>\n",
       "      <td>0</td>\n",
       "      <td>0</td>\n",
       "      <td>2</td>\n",
       "      <td>1</td>\n",
       "      <td>...</td>\n",
       "      <td>0</td>\n",
       "      <td>7.9</td>\n",
       "      <td>0</td>\n",
       "      <td>0</td>\n",
       "      <td>1</td>\n",
       "      <td>6</td>\n",
       "      <td>0.6588</td>\n",
       "      <td>0</td>\n",
       "      <td>1</td>\n",
       "      <td>0</td>\n",
       "    </tr>\n",
       "  </tbody>\n",
       "</table>\n",
       "<p>5 rows × 22 columns</p>\n",
       "</div>"
      ],
      "text/plain": [
       "   ofp  ofnp  opp  opnp  emr  hosp  exclhlth  poorhlth  numchron  adldiff  \\\n",
       "0    5     0    0     0    0     1         0         0         2        0   \n",
       "1    1     0    2     0    2     0         0         0         2        0   \n",
       "2   13     0    0     0    3     3         0         1         4        1   \n",
       "3   16     0    5     0    1     1         0         1         2        1   \n",
       "4    3     0    0     0    0     0         0         0         2        1   \n",
       "\n",
       "   ...  west  age  black  male  married  school  faminc  employed  privins  \\\n",
       "0  ...     0  6.9      1     1        1       6  2.8810         1        1   \n",
       "1  ...     0  7.4      0     0        1      10  2.7478         0        1   \n",
       "2  ...     0  6.6      1     0        0      10  0.6532         0        0   \n",
       "3  ...     0  7.6      0     1        1       3  0.6588         0        1   \n",
       "4  ...     0  7.9      0     0        1       6  0.6588         0        1   \n",
       "\n",
       "   medicaid  \n",
       "0         0  \n",
       "1         0  \n",
       "2         1  \n",
       "3         0  \n",
       "4         0  \n",
       "\n",
       "[5 rows x 22 columns]"
      ]
     },
     "execution_count": 72,
     "metadata": {},
     "output_type": "execute_result"
    }
   ],
   "source": [
    "#import csv\n",
    "health = pd.read_csv(\"Health.csv\")\n",
    "health.head(5)"
   ]
  },
  {
   "cell_type": "code",
   "execution_count": 73,
   "id": "d33c5030",
   "metadata": {},
   "outputs": [
    {
     "data": {
      "text/plain": [
       "Ttest_1sampResult(statistic=17.63776362823923, pvalue=2.4836729458539627e-67)"
      ]
     },
     "execution_count": 73,
     "metadata": {},
     "output_type": "execute_result"
    }
   ],
   "source": [
    "#question 7\n",
    "#parametric test using built-in function\n",
    "from scipy import stats\n",
    "\n",
    "stats.ttest_1samp(health['faminc'], 1.75) \n",
    "#p value of 2.4836729458539627e-67"
   ]
  },
  {
   "cell_type": "code",
   "execution_count": 74,
   "id": "a4814652",
   "metadata": {},
   "outputs": [
    {
     "name": "stdout",
     "output_type": "stream",
     "text": [
      "7.555220876380673e-10\n"
     ]
    }
   ],
   "source": [
    "#nonparametric test using built in function\n",
    "\n",
    "w, p = wilcoxon(realestate['prices']) \n",
    "#print(w)\n",
    "print(p)\n"
   ]
  },
  {
   "cell_type": "code",
   "execution_count": 75,
   "id": "5b982a8c",
   "metadata": {},
   "outputs": [
    {
     "data": {
      "text/plain": [
       "(1778, 22)"
      ]
     },
     "execution_count": 75,
     "metadata": {},
     "output_type": "execute_result"
    }
   ],
   "source": [
    "#question 8\n",
    "males = health[health['male']== 1]\n",
    "males.head(5)\n",
    "males.shape"
   ]
  },
  {
   "cell_type": "code",
   "execution_count": 76,
   "id": "33985599",
   "metadata": {},
   "outputs": [
    {
     "data": {
      "text/plain": [
       "(2628, 22)"
      ]
     },
     "execution_count": 76,
     "metadata": {},
     "output_type": "execute_result"
    }
   ],
   "source": [
    "females = health[health['male']== 0]\n",
    "females.head(5)\n",
    "females.shape"
   ]
  },
  {
   "cell_type": "code",
   "execution_count": 77,
   "id": "a7937ebf",
   "metadata": {},
   "outputs": [
    {
     "data": {
      "image/png": "[encoded data removed]",
      "text/plain": [
       "<Figure size 432x288 with 1 Axes>"
      ]
     },
     "metadata": {
      "needs_background": "light"
     },
     "output_type": "display_data"
    }
   ],
   "source": [
    "# null hypothesis : mean of ofp is the same for both males and females.\n",
    "# Since there is no correlation, we can shuffle the vectors and find their correlation to create a sampling distribution.\n",
    "# Create a sampling distribution.\n",
    "\n",
    "np.random.seed(87654321) \n",
    "\n",
    "def f1(): \n",
    "\n",
    "    s1 = pd.DataFrame([females['ofp'].sample(n=len(bluecollars))]).T\n",
    "    s2 = pd.DataFrame([females['ofp'].sample(n=len(bluecollars))]).T\n",
    "\n",
    "    return (pearsonr(s1['ofp'],s2['ofp'])[0]) \n",
    "\n",
    "sampdist = [f1() for _ in range(10000)] \n",
    "\n",
    "sns.kdeplot(sampdist) \n",
    "\n",
    "plt.show() "
   ]
  },
  {
   "cell_type": "code",
   "execution_count": 78,
   "id": "6c5ac0df",
   "metadata": {},
   "outputs": [
    {
     "data": {
      "image/png": "[encoded data removed]",
      "text/plain": [
       "<Figure size 432x288 with 1 Axes>"
      ]
     },
     "metadata": {
      "needs_background": "light"
     },
     "output_type": "display_data"
    },
    {
     "data": {
      "text/plain": [
       "0.9231"
      ]
     },
     "execution_count": 78,
     "metadata": {},
     "output_type": "execute_result"
    }
   ],
   "source": [
    "tstat = pearsonr(males['ofp'],females['ofp'].sample(n=len(males)))[0] \n",
    "\n",
    "p_2tail(sampdist, tstat) "
   ]
  },
  {
   "cell_type": "code",
   "execution_count": 79,
   "id": "9c3c0afd",
   "metadata": {},
   "outputs": [
    {
     "data": {
      "text/plain": [
       "5.4201349831271095"
      ]
     },
     "execution_count": 79,
     "metadata": {},
     "output_type": "execute_result"
    }
   ],
   "source": [
    "males.ofp.mean()"
   ]
  },
  {
   "cell_type": "code",
   "execution_count": 80,
   "id": "1c5ffc08",
   "metadata": {},
   "outputs": [
    {
     "data": {
      "text/plain": [
       "6.014079147640792"
      ]
     },
     "execution_count": 80,
     "metadata": {},
     "output_type": "execute_result"
    }
   ],
   "source": [
    "females.ofp.mean()"
   ]
  }
 ],
 "metadata": {
  "kernelspec": {
   "display_name": "Python 3 (ipykernel)",
   "language": "python",
   "name": "python3"
  },
  "language_info": {
   "codemirror_mode": {
    "name": "ipython",
    "version": 3
   },
   "file_extension": ".py",
   "mimetype": "text/x-python",
   "name": "python",
   "nbconvert_exporter": "python",
   "pygments_lexer": "ipython3",
   "version": "3.9.12"
  }
 },
 "nbformat": 4,
 "nbformat_minor": 5
}
