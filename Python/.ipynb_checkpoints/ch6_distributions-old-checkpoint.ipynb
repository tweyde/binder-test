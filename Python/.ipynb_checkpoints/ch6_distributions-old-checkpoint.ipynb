{
 "cells": [
  {
   "cell_type": "markdown",
   "metadata": {},
   "source": [
    "# Chapter 5: Random Variables, Probability, Distributions\n"
   ]
  },
  {
   "cell_type": "markdown",
   "metadata": {},
   "source": [
    "Let's simulate tossing a coin 10 times"
   ]
  },
  {
   "cell_type": "markdown",
   "metadata": {},
   "source": [
    "## Multiple Distributions"
   ]
  },
  {
   "cell_type": "code",
   "execution_count": null,
   "metadata": {},
   "outputs": [],
   "source": [
    "import numpy as np\n",
    "import pandas as pd\n",
    "import matplotlib.pyplot as plt\n",
    "import seaborn as sns\n",
    "# for 3D plots\n",
    "from mpl_toolkits.mplot3d import Axes3D\n",
    "from scipy import stats\n"
   ]
  },
  {
   "cell_type": "code",
   "execution_count": null,
   "metadata": {},
   "outputs": [],
   "source": [
    "np.random.seed(87654321)\n",
    "coindomain = np.array([0,1])\n",
    "coinsupport = np.array([0,1])\n",
    "coinprob = np.array([.5,.5])\n",
    "diesupport = np.array(range(1,7))\n",
    "dieprob = np.array([1/6]*6)\n",
    "coinedf = np.random.choice(coinsupport, size=10000, replace=True, p=coinprob)\n",
    "dieedf = np.random.choice(diesupport, size=10000, replace=True, p=dieprob)"
   ]
  },
  {
   "cell_type": "code",
   "execution_count": null,
   "metadata": {},
   "outputs": [],
   "source": [
    "# crosstab\n",
    "np.bincount(coinedf) / len(coinedf) # coinedf_table = np.vstack((coinedf_counts, coinedf_prob)).T"
   ]
  },
  {
   "cell_type": "code",
   "execution_count": null,
   "metadata": {},
   "outputs": [],
   "source": [
    "np.bincount(dieedf) / len(dieedf)"
   ]
  },
  {
   "cell_type": "code",
   "execution_count": null,
   "metadata": {},
   "outputs": [],
   "source": [
    "pd.crosstab(coinedf, dieedf, rownames=['Coins'], colnames=['Dies']) / len(coinedf)"
   ]
  },
  {
   "cell_type": "code",
   "execution_count": null,
   "metadata": {},
   "outputs": [],
   "source": [
    "Transactions = pd.read_csv('../data/Transactions.csv')\n",
    "np.bincount(Transactions['Toothbrush']) / len(Transactions['Toothbrush'])"
   ]
  },
  {
   "cell_type": "code",
   "execution_count": null,
   "metadata": {},
   "outputs": [],
   "source": [
    "np.bincount(Transactions['Perfume']) / len(Transactions['Perfume'])"
   ]
  },
  {
   "cell_type": "code",
   "execution_count": null,
   "metadata": {},
   "outputs": [],
   "source": [
    "pd.crosstab(Transactions['Toothbrush'], Transactions['Perfume']) / len(Transactions['Toothbrush'])"
   ]
  },
  {
   "cell_type": "markdown",
   "metadata": {},
   "source": [
    "## Univariate and Multivariate Distributions"
   ]
  },
  {
   "cell_type": "code",
   "execution_count": null,
   "metadata": {},
   "outputs": [],
   "source": [
    "M = np.array([4,10])\n",
    "S = np.array([[2,1],[1,3]])\n",
    "x = np.random.multivariate_normal(M, S, 10)\n",
    "x"
   ]
  },
  {
   "cell_type": "code",
   "execution_count": null,
   "metadata": {},
   "outputs": [],
   "source": [
    "np.corrcoef(x[:,0], x[:,1])[0,1] # [0,1] is the first row and first column of the correlation matrix"
   ]
  },
  {
   "cell_type": "code",
   "execution_count": null,
   "metadata": {},
   "outputs": [],
   "source": [
    "#Create grid and multivariate normal\n",
    "x = np.linspace(0, 7, 500)\n",
    "y = np.linspace(5, 20,500)\n",
    "X, Y = np.meshgrid(x,y)\n",
    "pos = np.empty(X.shape + (2,))\n",
    "pos[:, :, 0] = X; pos[:, :, 1] = Y\n",
    "rv = stats.multivariate_normal(M, S)\n",
    "\n",
    "#Make a 3D plot\n",
    "fig = plt.figure()\n",
    "ax = fig.gca(projection='3d')\n",
    "ax.plot_surface(X, Y, rv.pdf(pos),cmap='viridis',linewidth=0)\n",
    "ax.set_xlabel('X axis')\n",
    "ax.set_ylabel('Y axis')\n",
    "ax.set_zlabel('Z axis')\n",
    "plt.show()"
   ]
  },
  {
   "cell_type": "markdown",
   "metadata": {},
   "source": [
    "## Transformations and Convolutions"
   ]
  },
  {
   "cell_type": "code",
   "execution_count": null,
   "metadata": {},
   "outputs": [],
   "source": [
    "u1 = np.random.uniform(0,1,10000)\n",
    "sns.kdeplot(u1)\n",
    "plt.show()"
   ]
  },
  {
   "cell_type": "code",
   "execution_count": null,
   "metadata": {},
   "outputs": [],
   "source": [
    "u2 = u1 ** 2\n",
    "sns.kdeplot(u2)\n",
    "plt.show()"
   ]
  },
  {
   "cell_type": "code",
   "execution_count": null,
   "metadata": {},
   "outputs": [],
   "source": [
    "u3 = np.sqrt(u1)\n",
    "sns.kdeplot(u3)\n",
    "plt.show()\n"
   ]
  },
  {
   "cell_type": "code",
   "execution_count": null,
   "metadata": {},
   "outputs": [],
   "source": [
    "n1 = np.random.normal(0,1,10000)\n",
    "sns.kdeplot(u1)\n",
    "plt.show()"
   ]
  },
  {
   "cell_type": "code",
   "execution_count": null,
   "metadata": {},
   "outputs": [],
   "source": [
    "n2 = np.exp(n1)\n",
    "sns.kdeplot(n2)\n",
    "plt.show()"
   ]
  },
  {
   "cell_type": "code",
   "execution_count": null,
   "metadata": {},
   "outputs": [],
   "source": [
    "newdist = np.random.uniform(0,1,10000)\n",
    "newdist = (newdist-min(newdist))/max(newdist)\n",
    "sns.kdeplot(newdist)\n",
    "for i in range(1,3):\n",
    "    newdist = newdist + np.random.uniform(0,1,10000)\n",
    "    newdist = (newdist-min(newdist))/max(newdist)\n",
    "    sns.kdeplot(newdist, color=sns.color_palette()[i])\n",
    "plt.show()"
   ]
  },
  {
   "cell_type": "code",
   "execution_count": null,
   "metadata": {},
   "outputs": [],
   "source": [
    "newdist = np.random.uniform(0,1,10000)\n",
    "newdist = (newdist-min(newdist))/max(newdist)\n",
    "sns.kdeplot(newdist)\n",
    "for i in range(1,100):\n",
    "    newdist = newdist + np.random.uniform(0,1,10000)\n",
    "    newdist = (newdist-min(newdist))/max(newdist)\n",
    "    sns.kdeplot(newdist, color=sns.color_palette()[i%10])\n",
    "plt.show()\n"
   ]
  },
  {
   "cell_type": "markdown",
   "metadata": {},
   "source": [
    "## Sampling Distributions"
   ]
  },
  {
   "cell_type": "code",
   "execution_count": null,
   "metadata": {},
   "outputs": [],
   "source": [
    "women = pd.read_csv('../data/women.csv')"
   ]
  },
  {
   "cell_type": "code",
   "execution_count": null,
   "metadata": {},
   "outputs": [],
   "source": [
    "women['weight'].mean()"
   ]
  },
  {
   "cell_type": "code",
   "execution_count": null,
   "metadata": {},
   "outputs": [],
   "source": [
    "women['weight'].std()"
   ]
  },
  {
   "cell_type": "code",
   "execution_count": null,
   "metadata": {},
   "outputs": [],
   "source": [
    "np.random.seed(87654321)\n",
    "s = np.random.choice(a=women['weight'], size=5, replace=True)\n",
    "s.mean()"
   ]
  },
  {
   "cell_type": "code",
   "execution_count": null,
   "metadata": {},
   "outputs": [],
   "source": [
    "def f1():\n",
    "  s = np.random.choice(a=women['weight'], size=5, replace=False)\n",
    "  return s.mean()\n",
    "samplingdist = np.array([f1() for i in range(10000)])"
   ]
  },
  {
   "cell_type": "code",
   "execution_count": null,
   "metadata": {},
   "outputs": [],
   "source": [
    "samplingdist.min()"
   ]
  },
  {
   "cell_type": "code",
   "execution_count": null,
   "metadata": {},
   "outputs": [],
   "source": [
    "samplingdist.max()"
   ]
  },
  {
   "cell_type": "code",
   "execution_count": null,
   "metadata": {},
   "outputs": [],
   "source": [
    "samplingdist.mean()"
   ]
  },
  {
   "cell_type": "code",
   "execution_count": null,
   "metadata": {},
   "outputs": [],
   "source": [
    "sns.kdeplot(samplingdist)\n",
    "plt.show()"
   ]
  },
  {
   "cell_type": "code",
   "execution_count": null,
   "metadata": {},
   "outputs": [],
   "source": [
    "def f2():\n",
    "  s2 = np.random.choice(a=women['weight'], size=5, replace=False)\n",
    "  return s2.mean()\n",
    "samplingdist2 = np.array([f2() for i in range(10000)])"
   ]
  },
  {
   "cell_type": "code",
   "execution_count": null,
   "metadata": {},
   "outputs": [],
   "source": [
    "women['weight'].median()"
   ]
  },
  {
   "cell_type": "code",
   "execution_count": null,
   "metadata": {},
   "outputs": [],
   "source": [
    "samplingdist2.mean()"
   ]
  },
  {
   "cell_type": "code",
   "execution_count": null,
   "metadata": {},
   "outputs": [],
   "source": [
    "sns.kdeplot(samplingdist2)\n",
    "plt.show()"
   ]
  },
  {
   "cell_type": "code",
   "execution_count": null,
   "metadata": {},
   "outputs": [],
   "source": [
    "def f3():\n",
    "    s3 = np.random.choice(a=women['weight'], size=5, replace=False)\n",
    "    return np.quantile(s3, 0.25)\n",
    "samplingdist3 = np.array([f3() for i in range(10000)])"
   ]
  },
  {
   "cell_type": "code",
   "execution_count": null,
   "metadata": {},
   "outputs": [],
   "source": [
    "women['weight'].quantile(0.25)"
   ]
  },
  {
   "cell_type": "code",
   "execution_count": null,
   "metadata": {},
   "outputs": [],
   "source": [
    "samplingdist3.mean()"
   ]
  },
  {
   "cell_type": "code",
   "execution_count": null,
   "metadata": {},
   "outputs": [],
   "source": []
  },
  {
   "cell_type": "code",
   "execution_count": null,
   "metadata": {},
   "outputs": [],
   "source": []
  },
  {
   "cell_type": "code",
   "execution_count": null,
   "metadata": {},
   "outputs": [],
   "source": []
  },
  {
   "cell_type": "markdown",
   "metadata": {},
   "source": [
    "## Start Tillman"
   ]
  },
  {
   "cell_type": "code",
   "execution_count": null,
   "metadata": {
    "id": "e6PqWHYSeIAQ"
   },
   "outputs": [],
   "source": [
    "import numpy as np\n",
    "coindomain = [0,1]\n",
    "coinprob = [.5,.5]\n",
    "np.random.choice(coindomain, size=10, replace=True, p=coinprob) "
   ]
  },
  {
   "cell_type": "markdown",
   "metadata": {},
   "source": [
    "Now, let's simulate rolling a die 15 times. "
   ]
  },
  {
   "cell_type": "code",
   "execution_count": null,
   "metadata": {
    "colab": {
     "base_uri": "https://localhost:8080/"
    },
    "id": "Eo40hfHFednT",
    "outputId": "da2b8e09-fe73-4d86-8344-e0c322e70a65"
   },
   "outputs": [],
   "source": [
    "diedomain = range(1,7)\n",
    "dieprob = np.repeat(1/6,6)\n",
    "np.random.choice(diedomain, size = 15, replace = True, p = dieprob)"
   ]
  },
  {
   "cell_type": "markdown",
   "metadata": {},
   "source": [
    "Let's simulate 5 coin tosses, i.e. draw 5 sample values, and calculate the relative frequencies:"
   ]
  },
  {
   "cell_type": "code",
   "execution_count": null,
   "metadata": {
    "colab": {
     "base_uri": "https://localhost:8080/"
    },
    "id": "dOU5Zqlae2yR",
    "outputId": "1fc5f5ae-0f21-4272-c38b-1f051593fdff"
   },
   "outputs": [],
   "source": [
    "import pandas as pd\n",
    "res1 = np.random.choice(coindomain, size=5, replace=True, p=coinprob) \n",
    "pd.DataFrame(data=res1).value_counts(normalize=True)"
   ]
  },
  {
   "cell_type": "markdown",
   "metadata": {},
   "source": [
    "And now the same but with 1000 draws:"
   ]
  },
  {
   "cell_type": "code",
   "execution_count": null,
   "metadata": {
    "colab": {
     "base_uri": "https://localhost:8080/"
    },
    "id": "9j-L1lmOkOMp",
    "outputId": "c3e35761-6fcb-45b0-a6d3-d71b65033fb1"
   },
   "outputs": [],
   "source": [
    "res1 = np.random.choice(coindomain, size=1000, replace=True, p=coinprob) \n",
    "pd.DataFrame(data=res1).value_counts(normalize=True)"
   ]
  },
  {
   "cell_type": "code",
   "execution_count": null,
   "metadata": {
    "id": "F7VexUJymAAn"
   },
   "outputs": [],
   "source": []
  }
 ],
 "metadata": {
  "colab": {
   "name": "Untitled12.ipynb",
   "provenance": []
  },
  "kernelspec": {
   "display_name": "Python 3 (ipykernel)",
   "language": "python",
   "name": "python3"
  },
  "language_info": {
   "codemirror_mode": {
    "name": "ipython",
    "version": 3
   },
   "file_extension": ".py",
   "mimetype": "text/x-python",
   "name": "python",
   "nbconvert_exporter": "python",
   "pygments_lexer": "ipython3",
   "version": "3.8.8"
  }
 },
 "nbformat": 4,
 "nbformat_minor": 1
}
