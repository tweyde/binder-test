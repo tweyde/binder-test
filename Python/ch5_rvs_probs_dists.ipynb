{
 "cells": [
  {
   "cell_type": "markdown",
   "metadata": {},
   "source": [
    "# Chapter 5: Random Variables, Probability, Distributions"
   ]
  },
  {
   "cell_type": "code",
   "execution_count": 1,
   "metadata": {},
   "outputs": [],
   "source": [
    "import numpy as np\n",
    "import pandas as pd\n",
    "import matplotlib.pyplot as plt"
   ]
  },
  {
   "cell_type": "markdown",
   "metadata": {},
   "source": [
    "## Random Variables\n",
    "Let's simulate tossing a coin 10 times"
   ]
  },
  {
   "cell_type": "code",
   "execution_count": 2,
   "metadata": {},
   "outputs": [
    {
     "data": {
      "text/plain": [
       "array([0, 1, 0, 1, 1, 1, 0, 1, 1, 0])"
      ]
     },
     "execution_count": 2,
     "metadata": {},
     "output_type": "execute_result"
    }
   ],
   "source": [
    "coindomain = [0,1]\n",
    "coinprob = [.5,.5]\n",
    "np.random.choice(coindomain, size=10, replace=True, p= coinprob)"
   ]
  },
  {
   "cell_type": "markdown",
   "metadata": {},
   "source": [
    "Now, let's simulate rolling a die 15 times."
   ]
  },
  {
   "cell_type": "code",
   "execution_count": 3,
   "metadata": {},
   "outputs": [
    {
     "data": {
      "text/plain": [
       "array([4, 1, 5, 1, 2, 2, 3, 5, 5, 6, 3, 5, 5, 6, 2])"
      ]
     },
     "execution_count": 3,
     "metadata": {},
     "output_type": "execute_result"
    }
   ],
   "source": [
    "diedomain = range(1,7)\n",
    "dieprob = np.repeat(1/6,6)\n",
    "np.random.choice(diedomain, size=15, replace=True, p= dieprob)"
   ]
  },
  {
   "cell_type": "markdown",
   "metadata": {},
   "source": [
    "## Sample Size\n",
    "Let's simulate 5 coin tosses, i.e. draw 5 sample values, and calculate the relative frequencies:"
   ]
  },
  {
   "cell_type": "code",
   "execution_count": 4,
   "metadata": {},
   "outputs": [
    {
     "data": {
      "text/plain": [
       "0    0.8\n",
       "1    0.2\n",
       "dtype: float64"
      ]
     },
     "execution_count": 4,
     "metadata": {},
     "output_type": "execute_result"
    }
   ],
   "source": [
    "res1 = np.random.choice(coindomain, size=5, replace=True, p= coinprob)\n",
    "pd.DataFrame(data=res1).value_counts(normalize=True)"
   ]
  },
  {
   "cell_type": "markdown",
   "metadata": {},
   "source": [
    "And now the same but with 1000 draws:"
   ]
  },
  {
   "cell_type": "code",
   "execution_count": 5,
   "metadata": {},
   "outputs": [
    {
     "data": {
      "text/plain": [
       "0    0.525\n",
       "1    0.475\n",
       "dtype: float64"
      ]
     },
     "execution_count": 5,
     "metadata": {},
     "output_type": "execute_result"
    }
   ],
   "source": [
    "res1 = np.random.choice(coindomain, size=1000, replace=True, p=coinprob) \n",
    "pd.DataFrame(data=res1).value_counts(normalize=True)"
   ]
  },
  {
   "cell_type": "markdown",
   "metadata": {},
   "source": [
    "Repeat it one more time with a sample of 100,000:"
   ]
  },
  {
   "cell_type": "code",
   "execution_count": 6,
   "metadata": {},
   "outputs": [
    {
     "data": {
      "text/plain": [
       "0    0.50328\n",
       "1    0.49672\n",
       "dtype: float64"
      ]
     },
     "execution_count": 6,
     "metadata": {},
     "output_type": "execute_result"
    }
   ],
   "source": [
    "res1 = np.random.choice(coindomain, size=100000, replace=True, p=coinprob) \n",
    "pd.DataFrame(data=res1).value_counts(normalize=True)"
   ]
  },
  {
   "cell_type": "markdown",
   "metadata": {},
   "source": [
    "Let's simulate with the die example, using sizes of 5, 1000, and 100000:"
   ]
  },
  {
   "cell_type": "code",
   "execution_count": 7,
   "metadata": {},
   "outputs": [
    {
     "data": {
      "text/plain": [
       "3    0.2\n",
       "4    0.6\n",
       "6    0.2\n",
       "dtype: float64"
      ]
     },
     "execution_count": 7,
     "metadata": {},
     "output_type": "execute_result"
    }
   ],
   "source": [
    "res2 = np.random.choice(diedomain, size=5, replace=True, p= dieprob)\n",
    "pd.DataFrame(data=res2).value_counts(normalize=True).sort_index(ascending=True)"
   ]
  },
  {
   "cell_type": "code",
   "execution_count": 8,
   "metadata": {},
   "outputs": [
    {
     "data": {
      "text/plain": [
       "1    0.147\n",
       "2    0.152\n",
       "3    0.164\n",
       "4    0.176\n",
       "5    0.193\n",
       "6    0.168\n",
       "dtype: float64"
      ]
     },
     "execution_count": 8,
     "metadata": {},
     "output_type": "execute_result"
    }
   ],
   "source": [
    "res2 = np.random.choice(diedomain, size=1000, replace=True, p= dieprob)\n",
    "pd.DataFrame(data=res2).value_counts(normalize=True).sort_index(ascending=True)"
   ]
  },
  {
   "cell_type": "code",
   "execution_count": 9,
   "metadata": {},
   "outputs": [
    {
     "data": {
      "text/plain": [
       "1    0.16836\n",
       "2    0.16570\n",
       "3    0.16834\n",
       "4    0.16502\n",
       "5    0.16410\n",
       "6    0.16848\n",
       "dtype: float64"
      ]
     },
     "execution_count": 9,
     "metadata": {},
     "output_type": "execute_result"
    }
   ],
   "source": [
    "res2 = np.random.choice(diedomain, size=100000, replace=True, p= dieprob)\n",
    "pd.DataFrame(data=res2).value_counts(normalize=True).sort_index(ascending=True)"
   ]
  },
  {
   "cell_type": "markdown",
   "metadata": {},
   "source": [
    "## Empirical Distribution Functions"
   ]
  },
  {
   "cell_type": "markdown",
   "metadata": {},
   "source": [
    "Replicate a simulating fucntion many times as much to get the empirical distribution:"
   ]
  },
  {
   "cell_type": "code",
   "execution_count": 28,
   "metadata": {},
   "outputs": [
    {
     "data": {
      "text/plain": [
       "21"
      ]
     },
     "execution_count": 28,
     "metadata": {},
     "output_type": "execute_result"
    }
   ],
   "source": [
    "coindomain = [0,1]\n",
    "coinprob = [.5,.5]\n",
    "\n",
    "def f1(coindomain, coinprob):\n",
    "    y = np.random.choice(coindomain, size=50, replace=True, p= coinprob)\n",
    "    return sum(y)\n",
    "\n",
    "f1(coindomain, coinprob)"
   ]
  },
  {
   "cell_type": "code",
   "execution_count": 29,
   "metadata": {},
   "outputs": [
    {
     "data": {
      "text/plain": [
       "12    0.0001\n",
       "13    0.0003\n",
       "14    0.0012\n",
       "15    0.0015\n",
       "16    0.0042\n",
       "17    0.0084\n",
       "18    0.0168\n",
       "19    0.0256\n",
       "20    0.0422\n",
       "21    0.0547\n",
       "22    0.0785\n",
       "23    0.0896\n",
       "24    0.1076\n",
       "25    0.1140\n",
       "26    0.1119\n",
       "27    0.0929\n",
       "28    0.0813\n",
       "29    0.0616\n",
       "30    0.0453\n",
       "31    0.0253\n",
       "32    0.0175\n",
       "33    0.0104\n",
       "34    0.0045\n",
       "35    0.0032\n",
       "36    0.0011\n",
       "37    0.0001\n",
       "38    0.0002\n",
       "dtype: float64"
      ]
     },
     "execution_count": 29,
     "metadata": {},
     "output_type": "execute_result"
    }
   ],
   "source": [
    "s1 = [f1(coindomain, coinprob) for _ in range(10000)]\n",
    "edf1 = pd.DataFrame(data=s1).value_counts().sort_index(ascending=True)\n",
    "edf1.div(10000)"
   ]
  },
  {
   "cell_type": "code",
   "execution_count": 30,
   "metadata": {},
   "outputs": [
    {
     "data": {
      "image/png": "[encoded data removed]",
      "text/plain": [
       "<Figure size 432x288 with 1 Axes>"
      ]
     },
     "metadata": {
      "needs_background": "light"
     },
     "output_type": "display_data"
    }
   ],
   "source": [
    "ax = edf1.plot.hist()\n",
    "ax.get_figure().tight_layout()"
   ]
  },
  {
   "cell_type": "code",
   "execution_count": null,
   "metadata": {},
   "outputs": [],
   "source": []
  }
 ],
 "metadata": {
  "kernelspec": {
   "display_name": "Python 3",
   "language": "python",
   "name": "python3"
  },
  "language_info": {
   "codemirror_mode": {
    "name": "ipython",
    "version": 3
   },
   "file_extension": ".py",
   "mimetype": "text/x-python",
   "name": "python",
   "nbconvert_exporter": "python",
   "pygments_lexer": "ipython3",
   "version": "3.8.5"
  }
 },
 "nbformat": 4,
 "nbformat_minor": 4
}
