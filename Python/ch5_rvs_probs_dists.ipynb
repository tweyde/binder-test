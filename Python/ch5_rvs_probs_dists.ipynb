{
  "cells": [
    {
      "cell_type": "markdown",
      "metadata": {},
      "source": [
        "# Chapter 5: Random Variables, Probability, Distributions\n"
      ]
    },
    {
      "cell_type": "markdown",
      "metadata": {},
      "source": [
        "Let's simulate tossing a coin 10 times"
      ]
    },
    {
      "cell_type": "code",
      "execution_count": 37,
      "metadata": {
        "id": "e6PqWHYSeIAQ"
      },
      "outputs": [
        {
          "data": {
            "text/plain": [
              "array([0, 0, 1, 0, 0, 0, 1, 1, 1, 1])"
            ]
          },
          "execution_count": 37,
          "metadata": {},
          "output_type": "execute_result"
        }
      ],
      "source": [
        "import numpy as np\n",
        "coindomain = [0,1]\n",
        "coinprob = [.5,.5]\n",
        "np.random.choice(coindomain, size=10, replace=True, p=coinprob) "
      ]
    },
    {
      "cell_type": "markdown",
      "metadata": {},
      "source": [
        "Now, let's simulate rolling a die 15 times. "
      ]
    },
    {
      "cell_type": "code",
      "execution_count": 38,
      "metadata": {
        "colab": {
          "base_uri": "https://localhost:8080/"
        },
        "id": "Eo40hfHFednT",
        "outputId": "da2b8e09-fe73-4d86-8344-e0c322e70a65"
      },
      "outputs": [
        {
          "data": {
            "text/plain": [
              "array([1, 5, 6, 5, 4, 4, 2, 6, 4, 3, 6, 2, 3, 5, 2])"
            ]
          },
          "execution_count": 38,
          "metadata": {},
          "output_type": "execute_result"
        }
      ],
      "source": [
        "diedomain = range(1,7)\n",
        "dieprob = np.repeat(1/6,6)\n",
        "np.random.choice(diedomain, size = 15, replace = True, p = dieprob)"
      ]
    },
    {
      "cell_type": "markdown",
      "metadata": {},
      "source": [
        "Let's simulate 5 coin tosses, i.e. draw 5 sample values, and calculate the relative frequencies:"
      ]
    },
    {
      "cell_type": "code",
      "execution_count": 39,
      "metadata": {
        "colab": {
          "base_uri": "https://localhost:8080/"
        },
        "id": "dOU5Zqlae2yR",
        "outputId": "1fc5f5ae-0f21-4272-c38b-1f051593fdff"
      },
      "outputs": [
        {
          "data": {
            "text/plain": [
              "0    0.8\n",
              "1    0.2\n",
              "dtype: float64"
            ]
          },
          "execution_count": 39,
          "metadata": {},
          "output_type": "execute_result"
        }
      ],
      "source": [
        "import pandas as pd\n",
        "res1 = np.random.choice(coindomain, size=5, replace=True, p=coinprob) \n",
        "pd.DataFrame(data=res1).value_counts(normalize=True)"
      ]
    },
    {
      "cell_type": "markdown",
      "metadata": {},
      "source": [
        "And now the same but with 1000 draws:"
      ]
    },
    {
      "cell_type": "code",
      "execution_count": 40,
      "metadata": {
        "colab": {
          "base_uri": "https://localhost:8080/"
        },
        "id": "9j-L1lmOkOMp",
        "outputId": "c3e35761-6fcb-45b0-a6d3-d71b65033fb1"
      },
      "outputs": [
        {
          "data": {
            "text/plain": [
              "1    0.513\n",
              "0    0.487\n",
              "dtype: float64"
            ]
          },
          "execution_count": 40,
          "metadata": {},
          "output_type": "execute_result"
        }
      ],
      "source": [
        "res1 = np.random.choice(coindomain, size=1000, replace=True, p=coinprob) \n",
        "pd.DataFrame(data=res1).value_counts(normalize=True)"
      ]
    },
    {
      "cell_type": "code",
      "execution_count": null,
      "metadata": {
        "id": "F7VexUJymAAn"
      },
      "outputs": [],
      "source": []
    }
  ],
  "metadata": {
    "colab": {
      "name": "Untitled12.ipynb",
      "provenance": []
    },
    "kernelspec": {
      "display_name": "Python 3",
      "name": "python3"
    },
    "language_info": {
      "codemirror_mode": {
        "name": "ipython",
        "version": 3
      },
      "file_extension": ".py",
      "mimetype": "text/x-python",
      "name": "python",
      "nbconvert_exporter": "python",
      "pygments_lexer": "ipython3",
      "version": "3.8.8"
    }
  },
  "nbformat": 4,
  "nbformat_minor": 0
}
