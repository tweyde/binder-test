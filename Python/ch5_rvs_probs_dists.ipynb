{
  "nbformat": 4,
  "nbformat_minor": 0,
  "metadata": {
    "colab": {
      "name": "Untitled12.ipynb",
      "provenance": []
    },
    "kernelspec": {
      "name": "python3",
      "display_name": "Python 3"
    },
    "language_info": {
      "name": "python"
    }
  },
  "cells": [
    {
      "cell_type": "code",
      "execution_count": 1,
      "metadata": {
        "id": "pzkz5CRpeFym"
      },
      "outputs": [],
      "source": [
        "import numpy as np"
      ]
    },
    {
      "cell_type": "code",
      "source": [
        "coindomain = [0,1]\n",
        "coinprob = [.5,.5]"
      ],
      "metadata": {
        "id": "e6PqWHYSeIAQ"
      },
      "execution_count": 2,
      "outputs": []
    },
    {
      "cell_type": "code",
      "source": [
        "np.random.choice(coindomain, size=10, replace=True, p=coinprob) "
      ],
      "metadata": {
        "colab": {
          "base_uri": "https://localhost:8080/"
        },
        "id": "zGT-l_UweVwI",
        "outputId": "caca0c12-3e69-45da-ba54-5653d8195823"
      },
      "execution_count": 6,
      "outputs": [
        {
          "output_type": "execute_result",
          "data": {
            "text/plain": [
              "array([1, 0, 1, 0, 0, 0, 0, 0, 0, 0])"
            ]
          },
          "metadata": {},
          "execution_count": 6
        }
      ]
    },
    {
      "cell_type": "code",
      "source": [
        "diedomain = range(1,7)\n",
        "dieprob = np.repeat(1/6,6)\n",
        "np.random.choice(diedomain, size = 15, replace = True, p = dieprob)"
      ],
      "metadata": {
        "colab": {
          "base_uri": "https://localhost:8080/"
        },
        "id": "Eo40hfHFednT",
        "outputId": "da2b8e09-fe73-4d86-8344-e0c322e70a65"
      },
      "execution_count": 12,
      "outputs": [
        {
          "output_type": "execute_result",
          "data": {
            "text/plain": [
              "array([6, 4, 5, 4, 6, 2, 1, 6, 1, 1, 4, 6, 4, 1, 5])"
            ]
          },
          "metadata": {},
          "execution_count": 12
        }
      ]
    },
    {
      "cell_type": "code",
      "source": [
        "import pandas as pd\n",
        "res1 = np.random.choice(coindomain, size=5, replace=True, p=coinprob) \n",
        "pd.DataFrame(data=res1).value_counts(normalize=True)"
      ],
      "metadata": {
        "colab": {
          "base_uri": "https://localhost:8080/"
        },
        "id": "dOU5Zqlae2yR",
        "outputId": "1fc5f5ae-0f21-4272-c38b-1f051593fdff"
      },
      "execution_count": 28,
      "outputs": [
        {
          "output_type": "execute_result",
          "data": {
            "text/plain": [
              "0    0.8\n",
              "1    0.2\n",
              "dtype: float64"
            ]
          },
          "metadata": {},
          "execution_count": 28
        }
      ]
    },
    {
      "cell_type": "code",
      "source": [
        ""
      ],
      "metadata": {
        "colab": {
          "base_uri": "https://localhost:8080/"
        },
        "id": "9j-L1lmOkOMp",
        "outputId": "c3e35761-6fcb-45b0-a6d3-d71b65033fb1"
      },
      "execution_count": 27,
      "outputs": [
        {
          "output_type": "execute_result",
          "data": {
            "text/plain": [
              "0    0.8\n",
              "1    0.2\n",
              "dtype: float64"
            ]
          },
          "metadata": {},
          "execution_count": 27
        }
      ]
    },
    {
      "cell_type": "code",
      "source": [
        ""
      ],
      "metadata": {
        "id": "F7VexUJymAAn"
      },
      "execution_count": null,
      "outputs": []
    }
  ]
}