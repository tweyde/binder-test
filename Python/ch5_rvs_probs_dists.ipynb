{
 "cells": [
  {
   "cell_type": "markdown",
   "metadata": {},
   "source": [
    "# Chapter 5: Random Variables, Probability, Distributions"
   ]
  },
  {
   "cell_type": "code",
   "execution_count": 1,
   "metadata": {},
   "outputs": [],
   "source": [
    "import numpy as np\n",
    "import pandas as pd"
   ]
  },
  {
   "cell_type": "markdown",
   "metadata": {},
   "source": [
    "## Random Variables\n",
    "Let's simulate tossing a coin 10 times"
   ]
  },
  {
   "cell_type": "code",
   "execution_count": 2,
   "metadata": {},
   "outputs": [
    {
     "data": {
      "text/plain": [
       "array([1, 1, 1, 1, 1, 0, 0, 0, 1, 1])"
      ]
     },
     "execution_count": 2,
     "metadata": {},
     "output_type": "execute_result"
    }
   ],
   "source": [
    "coindomain = [0,1]\n",
    "coinprob = [.5,.5]\n",
    "np.random.choice(coindomain, size=10, replace=True, p= coinprob)"
   ]
  },
  {
   "cell_type": "markdown",
   "metadata": {},
   "source": [
    "Now, let's simulate rolling a die 15 times."
   ]
  },
  {
   "cell_type": "code",
   "execution_count": 3,
   "metadata": {},
   "outputs": [
    {
     "data": {
      "text/plain": [
       "array([4, 4, 5, 3, 1, 5, 3, 1, 1, 4, 2, 5, 4, 6, 2])"
      ]
     },
     "execution_count": 3,
     "metadata": {},
     "output_type": "execute_result"
    }
   ],
   "source": [
    "diedomain = range(1,7)\n",
    "dieprob = np.repeat(1/6,6)\n",
    "np.random.choice(diedomain, size=15, replace=True, p= dieprob)"
   ]
  },
  {
   "cell_type": "markdown",
   "metadata": {},
   "source": [
    "## Sample Size\n",
    "Let's simulate 5 coin tosses, i.e. draw 5 sample values, and calculate the relative frequencies:"
   ]
  },
  {
   "cell_type": "code",
   "execution_count": 4,
   "metadata": {},
   "outputs": [
    {
     "data": {
      "text/plain": [
       "0    0.6\n",
       "1    0.4\n",
       "dtype: float64"
      ]
     },
     "execution_count": 4,
     "metadata": {},
     "output_type": "execute_result"
    }
   ],
   "source": [
    "res1 = np.random.choice(coindomain, size=5, replace=True, p= coinprob)\n",
    "pd.DataFrame(data=res1).value_counts(normalize=True)"
   ]
  },
  {
   "cell_type": "markdown",
   "metadata": {},
   "source": [
    "And now the same but with 1000 draws:"
   ]
  },
  {
   "cell_type": "code",
   "execution_count": 5,
   "metadata": {},
   "outputs": [
    {
     "data": {
      "text/plain": [
       "1    0.506\n",
       "0    0.494\n",
       "dtype: float64"
      ]
     },
     "execution_count": 5,
     "metadata": {},
     "output_type": "execute_result"
    }
   ],
   "source": [
    "res1 = np.random.choice(coindomain, size=1000, replace=True, p=coinprob) \n",
    "pd.DataFrame(data=res1).value_counts(normalize=True)"
   ]
  },
  {
   "cell_type": "markdown",
   "metadata": {},
   "source": [
    "Repeat it one more time with a sample of 100,000:"
   ]
  },
  {
   "cell_type": "code",
   "execution_count": 6,
   "metadata": {},
   "outputs": [
    {
     "data": {
      "text/plain": [
       "1    0.50005\n",
       "0    0.49995\n",
       "dtype: float64"
      ]
     },
     "execution_count": 6,
     "metadata": {},
     "output_type": "execute_result"
    }
   ],
   "source": [
    "res1 = np.random.choice(coindomain, size=100000, replace=True, p=coinprob) \n",
    "pd.DataFrame(data=res1).value_counts(normalize=True)"
   ]
  },
  {
   "cell_type": "markdown",
   "metadata": {},
   "source": [
    "Let's simulate with the die example, using sizes of 5, 1000, and 100000:"
   ]
  },
  {
   "cell_type": "code",
   "execution_count": 7,
   "metadata": {},
   "outputs": [
    {
     "data": {
      "text/plain": [
       "2    0.4\n",
       "3    0.4\n",
       "6    0.2\n",
       "dtype: float64"
      ]
     },
     "execution_count": 7,
     "metadata": {},
     "output_type": "execute_result"
    }
   ],
   "source": [
    "res2 = np.random.choice(diedomain, size=5, replace=True, p= dieprob)\n",
    "pd.DataFrame(data=res2).value_counts(normalize=True).sort_index(ascending=True)"
   ]
  },
  {
   "cell_type": "code",
   "execution_count": 8,
   "metadata": {},
   "outputs": [
    {
     "data": {
      "text/plain": [
       "1    0.177\n",
       "2    0.171\n",
       "3    0.175\n",
       "4    0.147\n",
       "5    0.152\n",
       "6    0.178\n",
       "dtype: float64"
      ]
     },
     "execution_count": 8,
     "metadata": {},
     "output_type": "execute_result"
    }
   ],
   "source": [
    "res2 = np.random.choice(diedomain, size=1000, replace=True, p= dieprob)\n",
    "pd.DataFrame(data=res2).value_counts(normalize=True).sort_index(ascending=True)"
   ]
  },
  {
   "cell_type": "code",
   "execution_count": 9,
   "metadata": {},
   "outputs": [
    {
     "data": {
      "text/plain": [
       "1    0.16589\n",
       "2    0.16662\n",
       "3    0.16685\n",
       "4    0.16752\n",
       "5    0.16727\n",
       "6    0.16585\n",
       "dtype: float64"
      ]
     },
     "execution_count": 9,
     "metadata": {},
     "output_type": "execute_result"
    }
   ],
   "source": [
    "res2 = np.random.choice(diedomain, size=100000, replace=True, p= dieprob)\n",
    "pd.DataFrame(data=res2).value_counts(normalize=True).sort_index(ascending=True)"
   ]
  },
  {
   "cell_type": "markdown",
   "metadata": {},
   "source": [
    "## Empirical Distribution Functions"
   ]
  },
  {
   "cell_type": "markdown",
   "metadata": {},
   "source": [
    "Replicate a simulating fucntion many times as much to get the empirical distribution:"
   ]
  },
  {
   "cell_type": "code",
   "execution_count": 10,
   "metadata": {},
   "outputs": [
    {
     "data": {
      "text/plain": [
       "20"
      ]
     },
     "execution_count": 10,
     "metadata": {},
     "output_type": "execute_result"
    }
   ],
   "source": [
    "coindomain = [0,1]\n",
    "coinprob = [.5,.5]\n",
    "\n",
    "def f1(coindomain, coinprob):\n",
    "    y = np.random.choice(coindomain, size=50, replace=True, p= coinprob)\n",
    "    return sum(y)\n",
    "\n",
    "f1(coindomain, coinprob)"
   ]
  },
  {
   "cell_type": "code",
   "execution_count": 11,
   "metadata": {},
   "outputs": [
    {
     "data": {
      "text/plain": [
       "11    0.0001\n",
       "12    0.0001\n",
       "13    0.0005\n",
       "14    0.0009\n",
       "15    0.0015\n",
       "16    0.0050\n",
       "17    0.0093\n",
       "18    0.0160\n",
       "19    0.0252\n",
       "20    0.0430\n",
       "21    0.0590\n",
       "22    0.0813\n",
       "23    0.1005\n",
       "24    0.1105\n",
       "25    0.1090\n",
       "26    0.1034\n",
       "27    0.0931\n",
       "28    0.0790\n",
       "29    0.0577\n",
       "30    0.0451\n",
       "31    0.0257\n",
       "32    0.0177\n",
       "33    0.0085\n",
       "34    0.0050\n",
       "35    0.0013\n",
       "36    0.0008\n",
       "37    0.0006\n",
       "38    0.0002\n",
       "dtype: float64"
      ]
     },
     "execution_count": 11,
     "metadata": {},
     "output_type": "execute_result"
    }
   ],
   "source": [
    "s1 = [f1(coindomain, coinprob) for _ in range(10000)]\n",
    "edf1 = pd.DataFrame(data=s1).value_counts(normalize=True).sort_index(ascending=True)\n",
    "edf1"
   ]
  },
  {
   "cell_type": "markdown",
   "metadata": {},
   "source": [
    "Plot the empirical distribution function:"
   ]
  },
  {
   "cell_type": "code",
   "execution_count": 12,
   "metadata": {},
   "outputs": [
    {
     "data": {
      "image/png": "[encoded data removed]",
      "text/plain": [
       "<Figure size 432x288 with 1 Axes>"
      ]
     },
     "metadata": {
      "needs_background": "light"
     },
     "output_type": "display_data"
    }
   ],
   "source": [
    "ax = edf1.plot(kind='bar')\n",
    "ax.set_xlabel('s1')\n",
    "ax.set_ylabel('edf1')\n",
    "ax.get_figure().tight_layout()"
   ]
  },
  {
   "cell_type": "markdown",
   "metadata": {},
   "source": [
    "Find probabilities and compare:"
   ]
  },
  {
   "cell_type": "code",
   "execution_count": 13,
   "metadata": {},
   "outputs": [
    {
     "data": {
      "text/plain": [
       "0.1016"
      ]
     },
     "execution_count": 13,
     "metadata": {},
     "output_type": "execute_result"
    }
   ],
   "source": [
    "len([i for i in s1 if i <= 20]) / len(s1)"
   ]
  },
  {
   "cell_type": "code",
   "execution_count": 14,
   "metadata": {},
   "outputs": [
    {
     "data": {
      "text/plain": [
       "0.9984"
      ]
     },
     "execution_count": 14,
     "metadata": {},
     "output_type": "execute_result"
    }
   ],
   "source": [
    "len([i for i in s1 if i >= 15]) / len(s1)"
   ]
  },
  {
   "cell_type": "markdown",
   "metadata": {},
   "source": [
    "Expand the computation to a dice rolling example:"
   ]
  },
  {
   "cell_type": "code",
   "execution_count": 15,
   "metadata": {},
   "outputs": [
    {
     "data": {
      "text/plain": [
       "8"
      ]
     },
     "execution_count": 15,
     "metadata": {},
     "output_type": "execute_result"
    }
   ],
   "source": [
    "diedomain = range(1,7)\n",
    "dieprob = np.repeat(1/6,6)\n",
    "\n",
    "v1 = np.random.choice(diedomain, size=35, replace=True, p= dieprob)\n",
    "c1 = np.cumsum(v1)\n",
    "[i for i, x in enumerate(c1) if x > 35][0]"
   ]
  },
  {
   "cell_type": "markdown",
   "metadata": {},
   "source": [
    "Apply the example to replicate a function:"
   ]
  },
  {
   "cell_type": "code",
   "execution_count": 20,
   "metadata": {},
   "outputs": [
    {
     "data": {
      "image/png": "[encoded data removed]",
      "text/plain": [
       "<Figure size 432x288 with 1 Axes>"
      ]
     },
     "metadata": {
      "needs_background": "light"
     },
     "output_type": "display_data"
    }
   ],
   "source": [
    "def f2(diedomain, dieprob):\n",
    "    v1 = np.random.choice(diedomain, size=35, replace=True, p= dieprob)\n",
    "    c1 = np.cumsum(v1)\n",
    "    return ([i for i, x in enumerate(c1) if x > 35][0])\n",
    "\n",
    "s2 = [f2(diedomain, dieprob) for _ in range(10000)]\n",
    "edf2 = pd.DataFrame(data=s2).value_counts(normalize=True).sort_index(ascending=True)\n",
    "ax = edf2.plot(kind='bar')\n",
    "ax.set_xlabel('s2')\n",
    "ax.set_ylabel('edf2')\n",
    "ax.get_figure().tight_layout()"
   ]
  },
  {
   "cell_type": "markdown",
   "metadata": {},
   "source": [
    "Find the probability:"
   ]
  },
  {
   "cell_type": "code",
   "execution_count": 21,
   "metadata": {},
   "outputs": [
    {
     "data": {
      "text/plain": [
       "0.2227"
      ]
     },
     "execution_count": 21,
     "metadata": {},
     "output_type": "execute_result"
    }
   ],
   "source": [
    "len([i for i in s2 if i <= 8]) / len(s2)"
   ]
  },
  {
   "cell_type": "markdown",
   "metadata": {},
   "source": [
    "## A Practical Look"
   ]
  },
  {
   "cell_type": "code",
   "execution_count": 22,
   "metadata": {},
   "outputs": [
    {
     "data": {
      "image/png": "[encoded data removed]",
      "text/plain": [
       "<Figure size 720x360 with 1 Axes>"
      ]
     },
     "metadata": {
      "needs_background": "light"
     },
     "output_type": "display_data"
    }
   ],
   "source": [
    "drugdomain = [0,1]\n",
    "\n",
    "def f3(sz, successprob):\n",
    "    drugprob = [1-successprob, successprob]\n",
    "    v2 = np.random.choice(drugdomain, size=sz, replace=True, p= drugprob)\n",
    "    s3 = sum(v2)\n",
    "    return (s3)\n",
    "\n",
    "s4 = [f3(sz=300, successprob=.6) for _ in range(100000)]\n",
    "edf3 = pd.DataFrame(data=s4).value_counts(normalize=True).sort_index(ascending=True)\n",
    "ax = edf3.plot(kind='bar', figsize=(10,5))\n",
    "ax.set_xlabel('s4')\n",
    "ax.set_ylabel('edf3')\n",
    "ax.get_figure().tight_layout()"
   ]
  },
  {
   "cell_type": "code",
   "execution_count": 23,
   "metadata": {},
   "outputs": [
    {
     "data": {
      "text/plain": [
       "0.0116"
      ]
     },
     "execution_count": 23,
     "metadata": {},
     "output_type": "execute_result"
    }
   ],
   "source": [
    "len([i for i in s4 if i <= 160]) / len(s4)"
   ]
  },
  {
   "cell_type": "markdown",
   "metadata": {},
   "source": [
    "## Mean and Variance of a Distribution"
   ]
  },
  {
   "cell_type": "code",
   "execution_count": 26,
   "metadata": {},
   "outputs": [
    {
     "data": {
      "text/plain": [
       "1.6"
      ]
     },
     "execution_count": 26,
     "metadata": {},
     "output_type": "execute_result"
    }
   ],
   "source": [
    "ddomain = np.array(range(1,5))\n",
    "dprob = [.7,.1,.1,.1]\n",
    "meandistribution = sum(ddomain * dprob)\n",
    "meandistribution"
   ]
  },
  {
   "cell_type": "code",
   "execution_count": 27,
   "metadata": {},
   "outputs": [
    {
     "data": {
      "text/plain": [
       "1.04"
      ]
     },
     "execution_count": 27,
     "metadata": {},
     "output_type": "execute_result"
    }
   ],
   "source": [
    "vardistribution = sum((dprob)*(ddomain-meandistribution)**2)\n",
    "vardistribution"
   ]
  },
  {
   "cell_type": "markdown",
   "metadata": {},
   "source": [
    "## Working with Distributions in R and Python"
   ]
  },
  {
   "cell_type": "markdown",
   "metadata": {},
   "source": [
    "Compute the probability from the binomial distribution:"
   ]
  },
  {
   "cell_type": "code",
   "execution_count": 28,
   "metadata": {},
   "outputs": [
    {
     "data": {
      "text/plain": [
       "0.011177261497786776"
      ]
     },
     "execution_count": 28,
     "metadata": {},
     "output_type": "execute_result"
    }
   ],
   "source": [
    "import scipy.stats as stats\n",
    "from scipy.stats import binom\n",
    "binom.cdf(160, 300, .6)"
   ]
  },
  {
   "cell_type": "markdown",
   "metadata": {},
   "source": [
    "Create 20 random variables from N(6,3):"
   ]
  },
  {
   "cell_type": "code",
   "execution_count": 29,
   "metadata": {},
   "outputs": [
    {
     "data": {
      "text/plain": [
       "array([ 8.50714434,  1.58077139, 10.20295704,  9.59418902,  6.65466507,\n",
       "        3.2954385 ,  3.79275167,  7.12326062,  5.54652208,  7.72761443,\n",
       "        6.95098476, 13.86205514, -1.49168332,  7.12077041,  5.91949799,\n",
       "        2.59593398,  4.91482118,  2.40662953,  9.7909979 ,  5.61188799])"
      ]
     },
     "execution_count": 29,
     "metadata": {},
     "output_type": "execute_result"
    }
   ],
   "source": [
    "np.random.normal(loc=6, scale=3, size=20)"
   ]
  },
  {
   "cell_type": "markdown",
   "metadata": {},
   "source": [
    "Let's examine exponential distributions with different parameters:"
   ]
  },
  {
   "cell_type": "code",
   "execution_count": 52,
   "metadata": {},
   "outputs": [
    {
     "data": {
      "text/plain": [
       "Text(0, 0.5, 'dexp(x), rate=1')"
      ]
     },
     "execution_count": 52,
     "metadata": {},
     "output_type": "execute_result"
    },
    {
     "data": {
      "image/png": "[encoded data removed]",
      "text/plain": [
       "<Figure size 432x288 with 1 Axes>"
      ]
     },
     "metadata": {
      "needs_background": "light"
     },
     "output_type": "display_data"
    }
   ],
   "source": [
    "from scipy.stats import expon\n",
    "import matplotlib.pyplot as plt\n",
    "\n",
    "x = np.linspace(0, 10, 1000)\n",
    "plt.plot(x, expon.pdf(x))\n",
    "plt.plot(x, expon.pdf(x)*.5, color ='blue')\n",
    "plt.plot(x, expon.pdf(x)*.1, color ='purple')\n",
    "plt.xlabel('x')\n",
    "plt.ylabel('dexp(x), rate=1')"
   ]
  },
  {
   "cell_type": "code",
   "execution_count": 53,
   "metadata": {},
   "outputs": [
    {
     "data": {
      "text/plain": [
       "0.041042885500710405"
      ]
     },
     "execution_count": 53,
     "metadata": {},
     "output_type": "execute_result"
    }
   ],
   "source": [
    "np.quantile(expon.pdf(x)*.5, .75)"
   ]
  },
  {
   "cell_type": "markdown",
   "metadata": {},
   "source": [
    "Plot a normal distribution:"
   ]
  },
  {
   "cell_type": "code",
   "execution_count": 54,
   "metadata": {},
   "outputs": [
    {
     "data": {
      "image/png": "[encoded data removed]",
      "text/plain": [
       "<Figure size 432x288 with 1 Axes>"
      ]
     },
     "metadata": {
      "needs_background": "light"
     },
     "output_type": "display_data"
    }
   ],
   "source": [
    "from scipy.stats import norm\n",
    "\n",
    "mu = 10\n",
    "sigma = 5\n",
    "x = np.linspace(-5, 30, 1000)\n",
    "plt.plot(x, norm.pdf(x, mu, sigma))\n",
    "plt.xlabel('x')\n",
    "plt.ylabel('stats.norm.pdf(x, mu = 10, sigma = 5)')\n",
    "plt.show()"
   ]
  },
  {
   "cell_type": "markdown",
   "metadata": {},
   "source": [
    "Plot an empirically constructed distribution and compare:"
   ]
  },
  {
   "cell_type": "code",
   "execution_count": 55,
   "metadata": {},
   "outputs": [
    {
     "data": {
      "image/png": "[encoded data removed]",
      "text/plain": [
       "<Figure size 360x360 with 1 Axes>"
      ]
     },
     "metadata": {
      "needs_background": "light"
     },
     "output_type": "display_data"
    }
   ],
   "source": [
    "import seaborn as sns\n",
    "\n",
    "x = np.random.normal(loc=10, scale=5, size=1000)\n",
    "sns.displot(x, kind = 'kde')\n",
    "plt.xlabel('N=1000')\n",
    "plt.ylabel('Density')\n",
    "plt.title('density.default(x = x)')\n",
    "plt.show()"
   ]
  }
 ],
 "metadata": {
  "kernelspec": {
   "display_name": "Python 3",
   "language": "python",
   "name": "python3"
  },
  "language_info": {
   "codemirror_mode": {
    "name": "ipython",
    "version": 3
   },
   "file_extension": ".py",
   "mimetype": "text/x-python",
   "name": "python",
   "nbconvert_exporter": "python",
   "pygments_lexer": "ipython3",
   "version": "3.8.5"
  }
 },
 "nbformat": 4,
 "nbformat_minor": 4
}
