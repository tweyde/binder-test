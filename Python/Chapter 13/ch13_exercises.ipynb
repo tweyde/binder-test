{
 "cells": [
  {
   "cell_type": "markdown",
   "id": "dd50f171",
   "metadata": {},
   "source": [
    "### Chapter 13 : General Linear Models\n"
   ]
  },
  {
   "cell_type": "code",
   "execution_count": 1,
   "id": "81ac8428",
   "metadata": {},
   "outputs": [],
   "source": [
    "import pandas as pd\n",
    "import numpy as np\n",
    "import seaborn as sns\n",
    "import matplotlib.pyplot as plt\n",
    "\n",
    "import scipy.stats\n",
    "import statsmodels.api as sm"
   ]
  },
  {
   "cell_type": "code",
   "execution_count": 2,
   "id": "537b8cf6",
   "metadata": {},
   "outputs": [],
   "source": [
    "# Helper functions imported from textbook\n",
    "def p_rtail(sampdist,tstat): \n",
    "    points = sns.kdeplot(sampdist).get_lines()[0].get_data() # get x and y values from plot \n",
    "    x = points[0] \n",
    "    y = points[1] \n",
    "    plt.fill_between(x,y, where = x > tstat, color='r') \n",
    "    plt.fill_between(x,y, where = x <= tstat, color='g') \n",
    "    plt.show() \n",
    "    pvalue = np.sum(sampdist < tstat) / len(sampdist) \n",
    "    return pvalue \n",
    "\n",
    "def p_ltail(sampdist,tstat): \n",
    "    points = sns.kdeplot(sampdist).get_lines()[0].get_data() \n",
    "    x = points[0] \n",
    "    y = points[1] \n",
    "    plt.fill_between(x,y, where = x < tstat, color='r') \n",
    "    plt.fill_between(x,y, where = x >= tstat, color='g') \n",
    "    plt.show() \n",
    "    pvalue = np.sum(sampdist > tstat) / len(sampdist) \n",
    "\n",
    "    return pvalue \n",
    "\n",
    "def p_2tail(sampdist,tstat):\n",
    "    points = sns.kdeplot(sampdist).get_lines()[0].get_data() \n",
    "    hyp = np.mean(sampdist) \n",
    "    cutoff1 = hyp - np.abs(hyp - tstat) \n",
    "    cutoff2 = hyp + np.abs(hyp - tstat) \n",
    "    x = points[0] \n",
    "    y = points[1] \n",
    "    plt.fill_between(x,y, where = (x < cutoff1) | (x > cutoff2), color='r') \n",
    "    plt.fill_between(x,y, where = (x >= cutoff1) & (x <= cutoff2), color='g') \n",
    "    plt.show() \n",
    "    pvalue = np.sum((sampdist < cutoff1) | (sampdist > cutoff2)) / len(sampdist) \n",
    "    return pvalue "
   ]
  },
  {
   "cell_type": "markdown",
   "id": "5b9bb265",
   "metadata": {},
   "source": [
    "Read the file CA.COVID.csv \n",
    "\n",
    "3.Compute the AIC and BIC values for both the Poisson regression model and the baseline model. \n",
    "\n",
    "4.Does the Poisson regression model add value over the baseline model, based on AIC and BIC values? "
   ]
  },
  {
   "cell_type": "markdown",
   "id": "c8e04037",
   "metadata": {},
   "source": [
    "1. Using the maximum likelihood approach develop a Poisson regression model for the cumulative number of patient infections based on the cumulative number of staff infections and the number of available beds. "
   ]
  },
  {
   "cell_type": "code",
   "execution_count": 3,
   "id": "25559111",
   "metadata": {},
   "outputs": [
    {
     "data": {
      "text/html": [
       "<div>\n",
       "<style scoped>\n",
       "    .dataframe tbody tr th:only-of-type {\n",
       "        vertical-align: middle;\n",
       "    }\n",
       "\n",
       "    .dataframe tbody tr th {\n",
       "        vertical-align: top;\n",
       "    }\n",
       "\n",
       "    .dataframe thead th {\n",
       "        text-align: right;\n",
       "    }\n",
       "</style>\n",
       "<table border=\"1\" class=\"dataframe\">\n",
       "  <thead>\n",
       "    <tr style=\"text-align: right;\">\n",
       "      <th></th>\n",
       "      <th>County</th>\n",
       "      <th>FACILITY NAME</th>\n",
       "      <th>COUNTY</th>\n",
       "      <th>FACILITY ID</th>\n",
       "      <th>AVAILABLE BEDS</th>\n",
       "      <th>AVAILABLE BEDS CAPABLE OF ISOLATION</th>\n",
       "      <th>NEW CONFIRMED POSITIVE RESIDENTS</th>\n",
       "      <th>CURRENT ACTIVE CASES RESIDENTS</th>\n",
       "      <th>CUMULATIVE POSITIVE RESIDENTS</th>\n",
       "      <th>COVID-RELATED RESIDENT DEATHS</th>\n",
       "      <th>NEW CONFIRMED POSITIVE HCW</th>\n",
       "      <th>CURRENT ACTIVE HCW</th>\n",
       "      <th>CUMULATIVE POSITIVE HCW</th>\n",
       "      <th>COVID-RELATED HCW DEATHS</th>\n",
       "    </tr>\n",
       "  </thead>\n",
       "  <tbody>\n",
       "    <tr>\n",
       "      <th>0</th>\n",
       "      <td>Alameda</td>\n",
       "      <td>ALAMEDA COUNTY MEDICAL CENTER D/P SNF</td>\n",
       "      <td>ALAMEDA</td>\n",
       "      <td>140000321</td>\n",
       "      <td>7</td>\n",
       "      <td>4</td>\n",
       "      <td>0</td>\n",
       "      <td>0</td>\n",
       "      <td>86</td>\n",
       "      <td>0</td>\n",
       "      <td>0</td>\n",
       "      <td>&lt;11</td>\n",
       "      <td>76</td>\n",
       "      <td>0</td>\n",
       "    </tr>\n",
       "    <tr>\n",
       "      <th>1</th>\n",
       "      <td>Alameda</td>\n",
       "      <td>ALAMEDA HEALTHCARE &amp; WELLNESS CENTER</td>\n",
       "      <td>ALAMEDA</td>\n",
       "      <td>20000043</td>\n",
       "      <td>54</td>\n",
       "      <td>8</td>\n",
       "      <td>0</td>\n",
       "      <td>0</td>\n",
       "      <td>88</td>\n",
       "      <td>&lt;11</td>\n",
       "      <td>0</td>\n",
       "      <td>0</td>\n",
       "      <td>55</td>\n",
       "      <td>0</td>\n",
       "    </tr>\n",
       "    <tr>\n",
       "      <th>2</th>\n",
       "      <td>Alameda</td>\n",
       "      <td>ALAMEDA HOSPITAL - SOUTHSHORE CONVALESCENT</td>\n",
       "      <td>ALAMEDA</td>\n",
       "      <td>630011864</td>\n",
       "      <td>1</td>\n",
       "      <td>1</td>\n",
       "      <td>0</td>\n",
       "      <td>0</td>\n",
       "      <td>&lt;11</td>\n",
       "      <td>0</td>\n",
       "      <td>0</td>\n",
       "      <td>0</td>\n",
       "      <td>&lt;11</td>\n",
       "      <td>0</td>\n",
       "    </tr>\n",
       "    <tr>\n",
       "      <th>3</th>\n",
       "      <td>Alameda</td>\n",
       "      <td>ALAMEDA HOSPITAL D/P SNF</td>\n",
       "      <td>ALAMEDA</td>\n",
       "      <td>140000686</td>\n",
       "      <td>3</td>\n",
       "      <td>1</td>\n",
       "      <td>0</td>\n",
       "      <td>0</td>\n",
       "      <td>&lt;11</td>\n",
       "      <td>0</td>\n",
       "      <td>0</td>\n",
       "      <td>0</td>\n",
       "      <td>13</td>\n",
       "      <td>0</td>\n",
       "    </tr>\n",
       "    <tr>\n",
       "      <th>4</th>\n",
       "      <td>Alameda</td>\n",
       "      <td>ALL SAINT'S MAUBERT</td>\n",
       "      <td>ALAMEDA</td>\n",
       "      <td>630013891</td>\n",
       "      <td>2</td>\n",
       "      <td>0</td>\n",
       "      <td>0</td>\n",
       "      <td>0</td>\n",
       "      <td>0</td>\n",
       "      <td>0</td>\n",
       "      <td>0</td>\n",
       "      <td>0</td>\n",
       "      <td>&lt;11</td>\n",
       "      <td>0</td>\n",
       "    </tr>\n",
       "  </tbody>\n",
       "</table>\n",
       "</div>"
      ],
      "text/plain": [
       "    County                               FACILITY NAME   COUNTY  FACILITY ID  \\\n",
       "0  Alameda       ALAMEDA COUNTY MEDICAL CENTER D/P SNF  ALAMEDA    140000321   \n",
       "1  Alameda        ALAMEDA HEALTHCARE & WELLNESS CENTER  ALAMEDA     20000043   \n",
       "2  Alameda  ALAMEDA HOSPITAL - SOUTHSHORE CONVALESCENT  ALAMEDA    630011864   \n",
       "3  Alameda                    ALAMEDA HOSPITAL D/P SNF  ALAMEDA    140000686   \n",
       "4  Alameda                         ALL SAINT'S MAUBERT  ALAMEDA    630013891   \n",
       "\n",
       "   AVAILABLE BEDS  AVAILABLE BEDS CAPABLE OF ISOLATION  \\\n",
       "0               7                                    4   \n",
       "1              54                                    8   \n",
       "2               1                                    1   \n",
       "3               3                                    1   \n",
       "4               2                                    0   \n",
       "\n",
       "  NEW CONFIRMED POSITIVE RESIDENTS  CURRENT ACTIVE CASES RESIDENTS   \\\n",
       "0                                 0                               0   \n",
       "1                                 0                               0   \n",
       "2                                 0                               0   \n",
       "3                                 0                               0   \n",
       "4                                 0                               0   \n",
       "\n",
       "  CUMULATIVE POSITIVE RESIDENTS  COVID-RELATED RESIDENT DEATHS  \\\n",
       "0                             86                             0   \n",
       "1                             88                           <11   \n",
       "2                            <11                             0   \n",
       "3                            <11                             0   \n",
       "4                              0                             0   \n",
       "\n",
       "  NEW CONFIRMED POSITIVE HCW    CURRENT ACTIVE HCW CUMULATIVE POSITIVE HCW   \\\n",
       "0                             0                <11                       76   \n",
       "1                             0                  0                       55   \n",
       "2                             0                  0                      <11   \n",
       "3                             0                  0                       13   \n",
       "4                             0                  0                      <11   \n",
       "\n",
       "  COVID-RELATED HCW DEATHS   \n",
       "0                         0  \n",
       "1                         0  \n",
       "2                         0  \n",
       "3                         0  \n",
       "4                         0  "
      ]
     },
     "execution_count": 3,
     "metadata": {},
     "output_type": "execute_result"
    }
   ],
   "source": [
    "#diabetes csv imported into the directory.\n",
    "covid = pd.read_csv(\"CA COVID.csv\")\n",
    "covid.head(5)"
   ]
  },
  {
   "cell_type": "code",
   "execution_count": 4,
   "id": "4f410484",
   "metadata": {},
   "outputs": [
    {
     "data": {
      "text/html": [
       "<div>\n",
       "<style scoped>\n",
       "    .dataframe tbody tr th:only-of-type {\n",
       "        vertical-align: middle;\n",
       "    }\n",
       "\n",
       "    .dataframe tbody tr th {\n",
       "        vertical-align: top;\n",
       "    }\n",
       "\n",
       "    .dataframe thead th {\n",
       "        text-align: right;\n",
       "    }\n",
       "</style>\n",
       "<table border=\"1\" class=\"dataframe\">\n",
       "  <thead>\n",
       "    <tr style=\"text-align: right;\">\n",
       "      <th></th>\n",
       "      <th>size</th>\n",
       "      <th>patients_I</th>\n",
       "      <th>staff_I</th>\n",
       "      <th>patients_D</th>\n",
       "      <th>staff_D</th>\n",
       "      <th>beds</th>\n",
       "    </tr>\n",
       "  </thead>\n",
       "  <tbody>\n",
       "    <tr>\n",
       "      <th>0</th>\n",
       "      <td>7</td>\n",
       "      <td>86</td>\n",
       "      <td>76</td>\n",
       "      <td>0</td>\n",
       "      <td>0</td>\n",
       "      <td>7</td>\n",
       "    </tr>\n",
       "    <tr>\n",
       "      <th>1</th>\n",
       "      <td>54</td>\n",
       "      <td>88</td>\n",
       "      <td>55</td>\n",
       "      <td>&lt;11</td>\n",
       "      <td>0</td>\n",
       "      <td>54</td>\n",
       "    </tr>\n",
       "    <tr>\n",
       "      <th>2</th>\n",
       "      <td>1</td>\n",
       "      <td>&lt;11</td>\n",
       "      <td>&lt;11</td>\n",
       "      <td>0</td>\n",
       "      <td>0</td>\n",
       "      <td>1</td>\n",
       "    </tr>\n",
       "    <tr>\n",
       "      <th>3</th>\n",
       "      <td>3</td>\n",
       "      <td>&lt;11</td>\n",
       "      <td>13</td>\n",
       "      <td>0</td>\n",
       "      <td>0</td>\n",
       "      <td>3</td>\n",
       "    </tr>\n",
       "    <tr>\n",
       "      <th>4</th>\n",
       "      <td>2</td>\n",
       "      <td>0</td>\n",
       "      <td>&lt;11</td>\n",
       "      <td>0</td>\n",
       "      <td>0</td>\n",
       "      <td>2</td>\n",
       "    </tr>\n",
       "  </tbody>\n",
       "</table>\n",
       "</div>"
      ],
      "text/plain": [
       "   size patients_I staff_I patients_D staff_D  beds\n",
       "0     7         86      76          0       0     7\n",
       "1    54         88      55        <11       0    54\n",
       "2     1        <11     <11          0       0     1\n",
       "3     3        <11      13          0       0     3\n",
       "4     2          0     <11          0       0     2"
      ]
     },
     "execution_count": 4,
     "metadata": {},
     "output_type": "execute_result"
    }
   ],
   "source": [
    "size =covid['AVAILABLE BEDS']\n",
    "patients_I = covid['CUMULATIVE POSITIVE RESIDENTS ']\n",
    "patients_D = covid['COVID-RELATED RESIDENT DEATHS']\n",
    "staff_I = covid['CUMULATIVE POSITIVE HCW ']\n",
    "staff_D = covid['COVID-RELATED HCW DEATHS ']\n",
    "beds = covid['AVAILABLE BEDS']\n",
    "\n",
    "df = pd.DataFrame(data = {'size':size, 'patients_I':patients_I, 'staff_I':staff_I, 'patients_D':patients_D, 'staff_D':staff_D, 'beds' : beds})\n",
    "df.head()"
   ]
  },
  {
   "cell_type": "code",
   "execution_count": 5,
   "id": "bdaa07c9",
   "metadata": {},
   "outputs": [],
   "source": [
    "df_five = df.replace(['<11'], 5)"
   ]
  },
  {
   "cell_type": "code",
   "execution_count": 6,
   "id": "6a2debec",
   "metadata": {},
   "outputs": [
    {
     "name": "stdout",
     "output_type": "stream",
     "text": [
      "size           int64\n",
      "patients_I    object\n",
      "staff_I       object\n",
      "patients_D    object\n",
      "staff_D       object\n",
      "beds           int64\n",
      "dtype: object\n"
     ]
    }
   ],
   "source": [
    "print(df_five.dtypes)"
   ]
  },
  {
   "cell_type": "code",
   "execution_count": 7,
   "id": "8c753b05",
   "metadata": {},
   "outputs": [
    {
     "name": "stdout",
     "output_type": "stream",
     "text": [
      "size          int64\n",
      "patients_I    int64\n",
      "staff_I       int64\n",
      "patients_D    int64\n",
      "staff_D       int64\n",
      "beds          int64\n",
      "dtype: object\n"
     ]
    }
   ],
   "source": [
    "df_five['patients_I'] = pd.to_numeric(df_five['patients_I'])\n",
    "df_five['staff_I'] = pd.to_numeric(df_five['staff_I'])\n",
    "df_five['patients_D'] = pd.to_numeric(df_five['patients_D'])\n",
    "df_five['staff_D'] = pd.to_numeric(df_five['staff_D'])\n",
    "print(df_five.dtypes)"
   ]
  },
  {
   "cell_type": "markdown",
   "id": "7b7b1565",
   "metadata": {},
   "source": [
    "1.Using the maximum likelihood approach develop a Poisson regression model for the cumulative number of patient infections based on the cumulative number of staff infections and the number of available beds. "
   ]
  },
  {
   "cell_type": "code",
   "execution_count": 14,
   "id": "c69a1de9",
   "metadata": {},
   "outputs": [],
   "source": [
    "df_cumsum = df_five.cumsum()"
   ]
  },
  {
   "cell_type": "code",
   "execution_count": 15,
   "id": "9d0a1f9a",
   "metadata": {},
   "outputs": [
    {
     "data": {
      "text/html": [
       "<div>\n",
       "<style scoped>\n",
       "    .dataframe tbody tr th:only-of-type {\n",
       "        vertical-align: middle;\n",
       "    }\n",
       "\n",
       "    .dataframe tbody tr th {\n",
       "        vertical-align: top;\n",
       "    }\n",
       "\n",
       "    .dataframe thead th {\n",
       "        text-align: right;\n",
       "    }\n",
       "</style>\n",
       "<table border=\"1\" class=\"dataframe\">\n",
       "  <thead>\n",
       "    <tr style=\"text-align: right;\">\n",
       "      <th></th>\n",
       "      <th>size</th>\n",
       "      <th>patients_I</th>\n",
       "      <th>staff_I</th>\n",
       "      <th>patients_D</th>\n",
       "      <th>staff_D</th>\n",
       "      <th>beds</th>\n",
       "    </tr>\n",
       "  </thead>\n",
       "  <tbody>\n",
       "    <tr>\n",
       "      <th>0</th>\n",
       "      <td>7</td>\n",
       "      <td>86</td>\n",
       "      <td>76</td>\n",
       "      <td>0</td>\n",
       "      <td>0</td>\n",
       "      <td>7</td>\n",
       "    </tr>\n",
       "    <tr>\n",
       "      <th>1</th>\n",
       "      <td>61</td>\n",
       "      <td>174</td>\n",
       "      <td>131</td>\n",
       "      <td>5</td>\n",
       "      <td>0</td>\n",
       "      <td>61</td>\n",
       "    </tr>\n",
       "    <tr>\n",
       "      <th>2</th>\n",
       "      <td>62</td>\n",
       "      <td>179</td>\n",
       "      <td>136</td>\n",
       "      <td>5</td>\n",
       "      <td>0</td>\n",
       "      <td>62</td>\n",
       "    </tr>\n",
       "    <tr>\n",
       "      <th>3</th>\n",
       "      <td>65</td>\n",
       "      <td>184</td>\n",
       "      <td>149</td>\n",
       "      <td>5</td>\n",
       "      <td>0</td>\n",
       "      <td>65</td>\n",
       "    </tr>\n",
       "    <tr>\n",
       "      <th>4</th>\n",
       "      <td>67</td>\n",
       "      <td>184</td>\n",
       "      <td>154</td>\n",
       "      <td>5</td>\n",
       "      <td>0</td>\n",
       "      <td>67</td>\n",
       "    </tr>\n",
       "  </tbody>\n",
       "</table>\n",
       "</div>"
      ],
      "text/plain": [
       "   size  patients_I  staff_I  patients_D  staff_D  beds\n",
       "0     7          86       76           0        0     7\n",
       "1    61         174      131           5        0    61\n",
       "2    62         179      136           5        0    62\n",
       "3    65         184      149           5        0    65\n",
       "4    67         184      154           5        0    67"
      ]
     },
     "execution_count": 15,
     "metadata": {},
     "output_type": "execute_result"
    }
   ],
   "source": [
    "df_cumsum.head(5)"
   ]
  },
  {
   "cell_type": "code",
   "execution_count": 16,
   "id": "2ef1c922",
   "metadata": {},
   "outputs": [
    {
     "name": "stderr",
     "output_type": "stream",
     "text": [
      "C:\\Users\\jwyan\\AppData\\Local\\Temp/ipykernel_18996/1790921170.py:6: RuntimeWarning: divide by zero encountered in log\n",
      "  LL = np.sum(np.log(p))\n",
      "C:\\Users\\jwyan\\anaconda3\\lib\\site-packages\\scipy\\optimize\\optimize.py:734: RuntimeWarning: invalid value encountered in subtract\n",
      "  np.max(np.abs(fsim[0] - fsim[1:])) <= fatol):\n"
     ]
    },
    {
     "name": "stdout",
     "output_type": "stream",
     "text": [
      " final_simplex: (array([[1.78507048e+00, 0.00000000e+00, 0.00000000e+00],\n",
      "       [1.78507048e+00, 0.00000000e+00, 0.00000000e+00],\n",
      "       [1.78507048e+00, 1.88079096e-40, 0.00000000e+00],\n",
      "       [1.78507048e+00, 0.00000000e+00, 1.88079096e-40]]), array([inf, inf, inf, inf]))\n",
      "           fun: inf\n",
      "       message: 'Maximum number of function evaluations has been exceeded.'\n",
      "          nfev: 604\n",
      "           nit: 121\n",
      "        status: 1\n",
      "       success: False\n",
      "             x: array([1.78507048, 0.        , 0.        ])\n"
     ]
    }
   ],
   "source": [
    "def LLpois(params):\n",
    "    b0, b1,b2 = params\n",
    "    X = b0 + b1*df_cumsum['staff_I'] + b2*df_cumsum['beds']\n",
    "    lam = np.exp(X)\n",
    "    p = scipy.stats.poisson.pmf(df_cumsum['patients_I'], lam)\n",
    "    LL = np.sum(np.log(p))\n",
    "    return(-1*LL)\n",
    "\n",
    "res5 = scipy.optimize.minimize(LLpois, x0 = [np.log(5.96), 0, 0], method = 'Nelder-Mead')\n",
    "print(res5)"
   ]
  },
  {
   "cell_type": "code",
   "execution_count": 24,
   "id": "630e7188",
   "metadata": {},
   "outputs": [
    {
     "data": {
      "text/html": [
       "<style>#sk-container-id-2 {color: black;background-color: white;}#sk-container-id-2 pre{padding: 0;}#sk-container-id-2 div.sk-toggleable {background-color: white;}#sk-container-id-2 label.sk-toggleable__label {cursor: pointer;display: block;width: 100%;margin-bottom: 0;padding: 0.3em;box-sizing: border-box;text-align: center;}#sk-container-id-2 label.sk-toggleable__label-arrow:before {content: \"▸\";float: left;margin-right: 0.25em;color: #696969;}#sk-container-id-2 label.sk-toggleable__label-arrow:hover:before {color: black;}#sk-container-id-2 div.sk-estimator:hover label.sk-toggleable__label-arrow:before {color: black;}#sk-container-id-2 div.sk-toggleable__content {max-height: 0;max-width: 0;overflow: hidden;text-align: left;background-color: #f0f8ff;}#sk-container-id-2 div.sk-toggleable__content pre {margin: 0.2em;color: black;border-radius: 0.25em;background-color: #f0f8ff;}#sk-container-id-2 input.sk-toggleable__control:checked~div.sk-toggleable__content {max-height: 200px;max-width: 100%;overflow: auto;}#sk-container-id-2 input.sk-toggleable__control:checked~label.sk-toggleable__label-arrow:before {content: \"▾\";}#sk-container-id-2 div.sk-estimator input.sk-toggleable__control:checked~label.sk-toggleable__label {background-color: #d4ebff;}#sk-container-id-2 div.sk-label input.sk-toggleable__control:checked~label.sk-toggleable__label {background-color: #d4ebff;}#sk-container-id-2 input.sk-hidden--visually {border: 0;clip: rect(1px 1px 1px 1px);clip: rect(1px, 1px, 1px, 1px);height: 1px;margin: -1px;overflow: hidden;padding: 0;position: absolute;width: 1px;}#sk-container-id-2 div.sk-estimator {font-family: monospace;background-color: #f0f8ff;border: 1px dotted black;border-radius: 0.25em;box-sizing: border-box;margin-bottom: 0.5em;}#sk-container-id-2 div.sk-estimator:hover {background-color: #d4ebff;}#sk-container-id-2 div.sk-parallel-item::after {content: \"\";width: 100%;border-bottom: 1px solid gray;flex-grow: 1;}#sk-container-id-2 div.sk-label:hover label.sk-toggleable__label {background-color: #d4ebff;}#sk-container-id-2 div.sk-serial::before {content: \"\";position: absolute;border-left: 1px solid gray;box-sizing: border-box;top: 0;bottom: 0;left: 50%;z-index: 0;}#sk-container-id-2 div.sk-serial {display: flex;flex-direction: column;align-items: center;background-color: white;padding-right: 0.2em;padding-left: 0.2em;position: relative;}#sk-container-id-2 div.sk-item {position: relative;z-index: 1;}#sk-container-id-2 div.sk-parallel {display: flex;align-items: stretch;justify-content: center;background-color: white;position: relative;}#sk-container-id-2 div.sk-item::before, #sk-container-id-2 div.sk-parallel-item::before {content: \"\";position: absolute;border-left: 1px solid gray;box-sizing: border-box;top: 0;bottom: 0;left: 50%;z-index: -1;}#sk-container-id-2 div.sk-parallel-item {display: flex;flex-direction: column;z-index: 1;position: relative;background-color: white;}#sk-container-id-2 div.sk-parallel-item:first-child::after {align-self: flex-end;width: 50%;}#sk-container-id-2 div.sk-parallel-item:last-child::after {align-self: flex-start;width: 50%;}#sk-container-id-2 div.sk-parallel-item:only-child::after {width: 0;}#sk-container-id-2 div.sk-dashed-wrapped {border: 1px dashed gray;margin: 0 0.4em 0.5em 0.4em;box-sizing: border-box;padding-bottom: 0.4em;background-color: white;}#sk-container-id-2 div.sk-label label {font-family: monospace;font-weight: bold;display: inline-block;line-height: 1.2em;}#sk-container-id-2 div.sk-label-container {text-align: center;}#sk-container-id-2 div.sk-container {/* jupyter's `normalize.less` sets `[hidden] { display: none; }` but bootstrap.min.css set `[hidden] { display: none !important; }` so we also need the `!important` here to be able to override the default hidden behavior on the sphinx rendered scikit-learn.org. See: https://github.com/scikit-learn/scikit-learn/issues/21755 */display: inline-block !important;position: relative;}#sk-container-id-2 div.sk-text-repr-fallback {display: none;}</style><div id=\"sk-container-id-2\" class=\"sk-top-container\"><div class=\"sk-text-repr-fallback\"><pre>PoissonRegressor()</pre><b>In a Jupyter environment, please rerun this cell to show the HTML representation or trust the notebook. <br />On GitHub, the HTML representation is unable to render, please try loading this page with nbviewer.org.</b></div><div class=\"sk-container\" hidden><div class=\"sk-item\"><div class=\"sk-estimator sk-toggleable\"><input class=\"sk-toggleable__control sk-hidden--visually\" id=\"sk-estimator-id-2\" type=\"checkbox\" checked><label for=\"sk-estimator-id-2\" class=\"sk-toggleable__label sk-toggleable__label-arrow\">PoissonRegressor</label><div class=\"sk-toggleable__content\"><pre>PoissonRegressor()</pre></div></div></div></div></div>"
      ],
      "text/plain": [
       "PoissonRegressor()"
      ]
     },
     "execution_count": 24,
     "metadata": {},
     "output_type": "execute_result"
    }
   ],
   "source": [
    "#due to error, use inbuilt function\n",
    "from sklearn.linear_model import PoissonRegressor\n",
    "X_train = df_five[['staff_I','beds']]\n",
    "y_train = df_five['patients_I']\n",
    "pr = PoissonRegressor()\n",
    "pr.fit(X_train, y_train)"
   ]
  },
  {
   "cell_type": "code",
   "execution_count": 25,
   "id": "8dec4d43",
   "metadata": {},
   "outputs": [
    {
     "name": "stdout",
     "output_type": "stream",
     "text": [
      "[0.00670216 0.0005734 ]\n",
      "3.716312796718689\n"
     ]
    }
   ],
   "source": [
    "pr.get_params(deep=True)\n",
    "print(pr.coef_)\n",
    "print(pr.intercept_)"
   ]
  },
  {
   "cell_type": "code",
   "execution_count": null,
   "id": "7844dec9",
   "metadata": {},
   "outputs": [],
   "source": [
    "sm.formula.glm(\"df_five ~ \", family= sm.families.<familyname>, data=) "
   ]
  },
  {
   "cell_type": "markdown",
   "id": "71ea9222",
   "metadata": {},
   "source": [
    "2.Are independent variables statistically significant? What is the marginal effect of the two independent variables? Are they practically significant? What do you conclude? \n",
    "\n",
    "The poisson regressor returns coefficients of 0.007 and 0.0006, which are very low numbers and are not practically significant."
   ]
  },
  {
   "cell_type": "markdown",
   "id": "530a2aa3",
   "metadata": {},
   "source": [
    "3.Compute the AIC and BIC values for both the Poisson regression model and the baseline model. "
   ]
  }
 ],
 "metadata": {
  "kernelspec": {
   "display_name": "Python 3 (ipykernel)",
   "language": "python",
   "name": "python3"
  },
  "language_info": {
   "codemirror_mode": {
    "name": "ipython",
    "version": 3
   },
   "file_extension": ".py",
   "mimetype": "text/x-python",
   "name": "python",
   "nbconvert_exporter": "python",
   "pygments_lexer": "ipython3",
   "version": "3.8.5"
  }
 },
 "nbformat": 4,
 "nbformat_minor": 5
}
