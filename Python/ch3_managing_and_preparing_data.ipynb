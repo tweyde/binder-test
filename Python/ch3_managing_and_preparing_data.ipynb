{
 "cells": [
  {
   "cell_type": "markdown",
   "id": "778a67f2",
   "metadata": {},
   "source": [
    "# Chapter 3: Managing and preparing data\n",
    "\n"
   ]
  },
  {
   "cell_type": "markdown",
   "id": "1f8a3e5f",
   "metadata": {},
   "source": [
    "Let us begin with simple computations in Python using +,-,* and / operators and functions."
   ]
  },
  {
   "cell_type": "code",
   "execution_count": 1,
   "id": "f2aee184",
   "metadata": {},
   "outputs": [
    {
     "data": {
      "text/html": [
       "<div>\n",
       "<style scoped>\n",
       "    .dataframe tbody tr th:only-of-type {\n",
       "        vertical-align: middle;\n",
       "    }\n",
       "\n",
       "    .dataframe tbody tr th {\n",
       "        vertical-align: top;\n",
       "    }\n",
       "\n",
       "    .dataframe thead th {\n",
       "        text-align: right;\n",
       "    }\n",
       "</style>\n",
       "<table border=\"1\" class=\"dataframe\">\n",
       "  <thead>\n",
       "    <tr style=\"text-align: right;\">\n",
       "      <th></th>\n",
       "      <th>gender</th>\n",
       "      <th>height</th>\n",
       "      <th>weight</th>\n",
       "    </tr>\n",
       "  </thead>\n",
       "  <tbody>\n",
       "    <tr>\n",
       "      <th>0</th>\n",
       "      <td>m</td>\n",
       "      <td>1.75</td>\n",
       "      <td>60</td>\n",
       "    </tr>\n",
       "    <tr>\n",
       "      <th>1</th>\n",
       "      <td>f</td>\n",
       "      <td>1.80</td>\n",
       "      <td>72</td>\n",
       "    </tr>\n",
       "    <tr>\n",
       "      <th>2</th>\n",
       "      <td>m</td>\n",
       "      <td>1.65</td>\n",
       "      <td>57</td>\n",
       "    </tr>\n",
       "    <tr>\n",
       "      <th>3</th>\n",
       "      <td>f</td>\n",
       "      <td>1.90</td>\n",
       "      <td>90</td>\n",
       "    </tr>\n",
       "    <tr>\n",
       "      <th>4</th>\n",
       "      <td>f</td>\n",
       "      <td>1.74</td>\n",
       "      <td>95</td>\n",
       "    </tr>\n",
       "    <tr>\n",
       "      <th>5</th>\n",
       "      <td>m</td>\n",
       "      <td>1.91</td>\n",
       "      <td>72</td>\n",
       "    </tr>\n",
       "  </tbody>\n",
       "</table>\n",
       "</div>"
      ],
      "text/plain": [
       "  gender  height  weight\n",
       "0      m    1.75      60\n",
       "1      f    1.80      72\n",
       "2      m    1.65      57\n",
       "3      f    1.90      90\n",
       "4      f    1.74      95\n",
       "5      m    1.91      72"
      ]
     },
     "execution_count": 4,
     "metadata": {},
     "output_type": "execute_result"
    }
   ],
   "source": [
    "import numpy as np\n",
    "import pandas as pd\n",
    "\n",
    "weight = np.array([60,72,57,90,95,72])\n",
    "height = np.array([1.75,1.8,1.65,1.9,1.74,1.91])\n",
    "gender = np.array([\"m\",\"f\",\"m\",\"f\",\"f\",\"m\"])\n",
    "ghw  = pd.DataFrame({\"gender\":gender,\"height\":height,\"weight\":weight})\n",
    "ghw"
   ]
  },
  {
   "cell_type": "code",
   "execution_count": 12,
   "id": "6d1d4cc7",
   "metadata": {},
   "outputs": [
    {
     "data": {
      "text/plain": [
       "'m'"
      ]
     },
     "execution_count": 12,
     "metadata": {},
     "output_type": "execute_result"
    }
   ],
   "source": [
    "ghw.iloc[0,0]"
   ]
  },
  {
   "cell_type": "markdown",
   "id": "c6569679",
   "metadata": {},
   "source": [
    "Commonly used functions like sqrt(),exp(), and log() are made available in the `math` package."
   ]
  },
  {
   "cell_type": "code",
   "execution_count": 13,
   "id": "bf08127d",
   "metadata": {},
   "outputs": [
    {
     "name": "stdout",
     "output_type": "stream",
     "text": [
      "   height  weight\n",
      "0    1.75      60\n",
      "1    1.80      72\n",
      "2    1.65      57\n",
      "3    1.90      90\n",
      "4    1.74      95\n",
      "5    1.91      72\n"
     ]
    }
   ],
   "source": [
    "print(ghw.iloc[:,1:3])"
   ]
  },
  {
   "cell_type": "code",
   "execution_count": 14,
   "id": "21f64751",
   "metadata": {},
   "outputs": [
    {
     "data": {
      "text/html": [
       "<div>\n",
       "<style scoped>\n",
       "    .dataframe tbody tr th:only-of-type {\n",
       "        vertical-align: middle;\n",
       "    }\n",
       "\n",
       "    .dataframe tbody tr th {\n",
       "        vertical-align: top;\n",
       "    }\n",
       "\n",
       "    .dataframe thead th {\n",
       "        text-align: right;\n",
       "    }\n",
       "</style>\n",
       "<table border=\"1\" class=\"dataframe\">\n",
       "  <thead>\n",
       "    <tr style=\"text-align: right;\">\n",
       "      <th></th>\n",
       "      <th>gender</th>\n",
       "      <th>height</th>\n",
       "      <th>weight</th>\n",
       "    </tr>\n",
       "  </thead>\n",
       "  <tbody>\n",
       "    <tr>\n",
       "      <th>1</th>\n",
       "      <td>f</td>\n",
       "      <td>1.80</td>\n",
       "      <td>72</td>\n",
       "    </tr>\n",
       "    <tr>\n",
       "      <th>2</th>\n",
       "      <td>m</td>\n",
       "      <td>1.65</td>\n",
       "      <td>57</td>\n",
       "    </tr>\n",
       "    <tr>\n",
       "      <th>3</th>\n",
       "      <td>f</td>\n",
       "      <td>1.90</td>\n",
       "      <td>90</td>\n",
       "    </tr>\n",
       "    <tr>\n",
       "      <th>4</th>\n",
       "      <td>f</td>\n",
       "      <td>1.74</td>\n",
       "      <td>95</td>\n",
       "    </tr>\n",
       "  </tbody>\n",
       "</table>\n",
       "</div>"
      ],
      "text/plain": [
       "  gender  height  weight\n",
       "1      f    1.80      72\n",
       "2      m    1.65      57\n",
       "3      f    1.90      90\n",
       "4      f    1.74      95"
      ]
     },
     "execution_count": 14,
     "metadata": {},
     "output_type": "execute_result"
    }
   ],
   "source": [
    "ghw.iloc[1:5,:]"
   ]
  },
  {
   "cell_type": "code",
   "execution_count": 15,
   "id": "ab974fc7",
   "metadata": {},
   "outputs": [
    {
     "data": {
      "text/plain": [
       "0    m\n",
       "1    f\n",
       "2    m\n",
       "3    f\n",
       "4    f\n",
       "5    m\n",
       "Name: gender, dtype: object"
      ]
     },
     "execution_count": 15,
     "metadata": {},
     "output_type": "execute_result"
    }
   ],
   "source": [
    "ghw.iloc[:,0]"
   ]
  },
  {
   "cell_type": "code",
   "execution_count": 16,
   "id": "fbce0377-8255-42e6-a6ac-f8b4e08ebef3",
   "metadata": {},
   "outputs": [
    {
     "data": {
      "text/html": [
       "<div>\n",
       "<style scoped>\n",
       "    .dataframe tbody tr th:only-of-type {\n",
       "        vertical-align: middle;\n",
       "    }\n",
       "\n",
       "    .dataframe tbody tr th {\n",
       "        vertical-align: top;\n",
       "    }\n",
       "\n",
       "    .dataframe thead th {\n",
       "        text-align: right;\n",
       "    }\n",
       "</style>\n",
       "<table border=\"1\" class=\"dataframe\">\n",
       "  <thead>\n",
       "    <tr style=\"text-align: right;\">\n",
       "      <th></th>\n",
       "      <th>height</th>\n",
       "      <th>weight</th>\n",
       "    </tr>\n",
       "  </thead>\n",
       "  <tbody>\n",
       "    <tr>\n",
       "      <th>0</th>\n",
       "      <td>1.75</td>\n",
       "      <td>60</td>\n",
       "    </tr>\n",
       "    <tr>\n",
       "      <th>2</th>\n",
       "      <td>1.65</td>\n",
       "      <td>57</td>\n",
       "    </tr>\n",
       "    <tr>\n",
       "      <th>5</th>\n",
       "      <td>1.91</td>\n",
       "      <td>72</td>\n",
       "    </tr>\n",
       "  </tbody>\n",
       "</table>\n",
       "</div>"
      ],
      "text/plain": [
       "   height  weight\n",
       "0    1.75      60\n",
       "2    1.65      57\n",
       "5    1.91      72"
      ]
     },
     "execution_count": 16,
     "metadata": {},
     "output_type": "execute_result"
    }
   ],
   "source": [
    "ghw.iloc[[0,2,5],1:3]"
   ]
  },
  {
   "cell_type": "code",
   "execution_count": 17,
   "id": "9a59de25-798b-4485-aea1-1b2d3d0a548b",
   "metadata": {},
   "outputs": [
    {
     "data": {
      "text/plain": [
       "(3, 3)"
      ]
     },
     "execution_count": 17,
     "metadata": {},
     "output_type": "execute_result"
    }
   ],
   "source": [
    "x = ghw.iloc[0:3,:]\n",
    "x.shape"
   ]
  },
  {
   "cell_type": "code",
   "execution_count": 18,
   "id": "d8ae6a02-0a0a-4121-9110-68d9610bd794",
   "metadata": {},
   "outputs": [
    {
     "ename": "ZeroDivisionError",
     "evalue": "division by zero",
     "output_type": "error",
     "traceback": [
      "\u001b[0;31m---------------------------------------------------------------------------\u001b[0m",
      "\u001b[0;31mZeroDivisionError\u001b[0m                         Traceback (most recent call last)",
      "\u001b[0;32m/var/folders/j_/122h77c562dczctc6d7kv9mc0000gr/T/ipykernel_93423/182040962.py\u001b[0m in \u001b[0;36m<module>\u001b[0;34m\u001b[0m\n\u001b[0;32m----> 1\u001b[0;31m \u001b[0;36m0\u001b[0m\u001b[0;34m/\u001b[0m\u001b[0;36m0\u001b[0m\u001b[0;34m\u001b[0m\u001b[0;34m\u001b[0m\u001b[0m\n\u001b[0m",
      "\u001b[0;31mZeroDivisionError\u001b[0m: division by zero"
     ]
    }
   ],
   "source": [
    "0/0"
   ]
  },
  {
   "cell_type": "code",
   "execution_count": 19,
   "id": "0bd3fd7c-60d5-447c-bb7d-91c54bd7c3c9",
   "metadata": {},
   "outputs": [
    {
     "data": {
      "text/plain": [
       "0"
      ]
     },
     "execution_count": 19,
     "metadata": {},
     "output_type": "execute_result"
    }
   ],
   "source": [
    "y = 0\n",
    "0 if y == 0 or np.isnan(y) else x/y \n",
    "#0 if y == 0  else x/y"
   ]
  },
  {
   "cell_type": "code",
   "execution_count": 20,
   "id": "fa536f0d-7f87-47c5-ab9a-2a6a2bba489e",
   "metadata": {},
   "outputs": [
    {
     "name": "stdout",
     "output_type": "stream",
     "text": [
      "   a  b\n",
      "0  0  2\n",
      "1 -1  3\n",
      "     a    b\n",
      "0  NaN  inf\n",
      "1 -inf  inf\n"
     ]
    }
   ],
   "source": [
    "df = pd.DataFrame({'a': [0,-1], 'b': [2,3]})\n",
    "print(df)\n",
    "df /= 0\n",
    "print(df)"
   ]
  },
  {
   "cell_type": "code",
   "execution_count": 21,
   "id": "65c0edbd-97be-4126-baae-0654bd9b29ee",
   "metadata": {},
   "outputs": [
    {
     "data": {
      "text/plain": [
       "0     True\n",
       "1    False\n",
       "Name: a, dtype: bool"
      ]
     },
     "execution_count": 21,
     "metadata": {},
     "output_type": "execute_result"
    }
   ],
   "source": [
    "df['a'].isna()"
   ]
  },
  {
   "cell_type": "code",
   "execution_count": 22,
   "id": "3919a6ca-1c9c-4ea9-be93-4fde1e09a306",
   "metadata": {},
   "outputs": [
    {
     "data": {
      "text/html": [
       "<div>\n",
       "<style scoped>\n",
       "    .dataframe tbody tr th:only-of-type {\n",
       "        vertical-align: middle;\n",
       "    }\n",
       "\n",
       "    .dataframe tbody tr th {\n",
       "        vertical-align: top;\n",
       "    }\n",
       "\n",
       "    .dataframe thead th {\n",
       "        text-align: right;\n",
       "    }\n",
       "</style>\n",
       "<table border=\"1\" class=\"dataframe\">\n",
       "  <thead>\n",
       "    <tr style=\"text-align: right;\">\n",
       "      <th></th>\n",
       "      <th>a</th>\n",
       "      <th>b</th>\n",
       "    </tr>\n",
       "  </thead>\n",
       "  <tbody>\n",
       "    <tr>\n",
       "      <th>0</th>\n",
       "      <td>1</td>\n",
       "      <td>3</td>\n",
       "    </tr>\n",
       "    <tr>\n",
       "      <th>1</th>\n",
       "      <td>2</td>\n",
       "      <td>4</td>\n",
       "    </tr>\n",
       "  </tbody>\n",
       "</table>\n",
       "</div>"
      ],
      "text/plain": [
       "   a  b\n",
       "0  1  3\n",
       "1  2  4"
      ]
     },
     "metadata": {},
     "output_type": "display_data"
    },
    {
     "data": {
      "text/html": [
       "<div>\n",
       "<style scoped>\n",
       "    .dataframe tbody tr th:only-of-type {\n",
       "        vertical-align: middle;\n",
       "    }\n",
       "\n",
       "    .dataframe tbody tr th {\n",
       "        vertical-align: top;\n",
       "    }\n",
       "\n",
       "    .dataframe thead th {\n",
       "        text-align: right;\n",
       "    }\n",
       "</style>\n",
       "<table border=\"1\" class=\"dataframe\">\n",
       "  <thead>\n",
       "    <tr style=\"text-align: right;\">\n",
       "      <th></th>\n",
       "      <th>a</th>\n",
       "      <th>b</th>\n",
       "    </tr>\n",
       "  </thead>\n",
       "  <tbody>\n",
       "    <tr>\n",
       "      <th>x</th>\n",
       "      <td>NaN</td>\n",
       "      <td>NaN</td>\n",
       "    </tr>\n",
       "  </tbody>\n",
       "</table>\n",
       "</div>"
      ],
      "text/plain": [
       "    a   b\n",
       "x NaN NaN"
      ]
     },
     "execution_count": 22,
     "metadata": {},
     "output_type": "execute_result"
    }
   ],
   "source": [
    "df = pd.DataFrame({'a': [1,2], 'b': [3,4]})\n",
    "display(df)\n",
    "df2 = df.reindex(['x'])\n",
    "df2"
   ]
  },
  {
   "cell_type": "code",
   "execution_count": 23,
   "id": "cf010ff7-d355-4a59-898d-e90f5be3d6f9",
   "metadata": {},
   "outputs": [
    {
     "data": {
      "text/plain": [
       "True"
      ]
     },
     "execution_count": 23,
     "metadata": {},
     "output_type": "execute_result"
    }
   ],
   "source": [
    "x = True\n",
    "not not 2<=2"
   ]
  },
  {
   "cell_type": "markdown",
   "id": "d061ba0d",
   "metadata": {},
   "source": [
    "## Specifiying Conditions"
   ]
  },
  {
   "cell_type": "code",
   "execution_count": 24,
   "id": "681d67e6-22b1-4abd-9510-90953604b55e",
   "metadata": {},
   "outputs": [
    {
     "data": {
      "text/html": [
       "<div>\n",
       "<style scoped>\n",
       "    .dataframe tbody tr th:only-of-type {\n",
       "        vertical-align: middle;\n",
       "    }\n",
       "\n",
       "    .dataframe tbody tr th {\n",
       "        vertical-align: top;\n",
       "    }\n",
       "\n",
       "    .dataframe thead th {\n",
       "        text-align: right;\n",
       "    }\n",
       "</style>\n",
       "<table border=\"1\" class=\"dataframe\">\n",
       "  <thead>\n",
       "    <tr style=\"text-align: right;\">\n",
       "      <th></th>\n",
       "      <th>id</th>\n",
       "      <th>gender</th>\n",
       "      <th>math</th>\n",
       "      <th>prog</th>\n",
       "      <th>daysabs</th>\n",
       "    </tr>\n",
       "  </thead>\n",
       "  <tbody>\n",
       "    <tr>\n",
       "      <th>0</th>\n",
       "      <td>1001</td>\n",
       "      <td>0</td>\n",
       "      <td>63</td>\n",
       "      <td>2</td>\n",
       "      <td>4</td>\n",
       "    </tr>\n",
       "    <tr>\n",
       "      <th>1</th>\n",
       "      <td>1002</td>\n",
       "      <td>0</td>\n",
       "      <td>27</td>\n",
       "      <td>2</td>\n",
       "      <td>4</td>\n",
       "    </tr>\n",
       "    <tr>\n",
       "      <th>2</th>\n",
       "      <td>1003</td>\n",
       "      <td>1</td>\n",
       "      <td>20</td>\n",
       "      <td>2</td>\n",
       "      <td>2</td>\n",
       "    </tr>\n",
       "    <tr>\n",
       "      <th>3</th>\n",
       "      <td>1004</td>\n",
       "      <td>1</td>\n",
       "      <td>16</td>\n",
       "      <td>2</td>\n",
       "      <td>3</td>\n",
       "    </tr>\n",
       "    <tr>\n",
       "      <th>4</th>\n",
       "      <td>1005</td>\n",
       "      <td>1</td>\n",
       "      <td>2</td>\n",
       "      <td>2</td>\n",
       "      <td>3</td>\n",
       "    </tr>\n",
       "  </tbody>\n",
       "</table>\n",
       "</div>"
      ],
      "text/plain": [
       "     id  gender  math  prog  daysabs\n",
       "0  1001       0    63     2        4\n",
       "1  1002       0    27     2        4\n",
       "2  1003       1    20     2        2\n",
       "3  1004       1    16     2        3\n",
       "4  1005       1     2     2        3"
      ]
     },
     "execution_count": 24,
     "metadata": {},
     "output_type": "execute_result"
    }
   ],
   "source": [
    "student = pd.read_csv(\"../data/student.csv\")\n",
    "student.head()"
   ]
  },
  {
   "cell_type": "code",
   "execution_count": 25,
   "id": "7b840fa1-5ce5-449b-b9d1-d645ec02baa3",
   "metadata": {},
   "outputs": [
    {
     "name": "stdout",
     "output_type": "stream",
     "text": [
      "      id  gender  math  prog  daysabs\n",
      "15  1016       0    89     2        0\n",
      "17  1018       1    35     2        0\n",
      "21  1022       0    61     2        0\n",
      "23  1024       0    63     2        0\n",
      "27  1028       1    21     2        0\n"
     ]
    }
   ],
   "source": [
    "x1 = student[student['daysabs']==0]\n",
    "print(x1.head())"
   ]
  },
  {
   "cell_type": "code",
   "execution_count": 26,
   "id": "ced401bb-baaf-40ec-a103-66c62465f636",
   "metadata": {},
   "outputs": [
    {
     "name": "stdout",
     "output_type": "stream",
     "text": [
      "      id  gender  math  prog  daysabs\n",
      "15  1016       0    89     2        0\n",
      "21  1022       0    61     2        0\n",
      "23  1024       0    63     2        0\n",
      "34  1035       0    68     2        0\n",
      "70  1071       0    72     2        0\n"
     ]
    }
   ],
   "source": [
    "x2 = student[(student['daysabs']==0) & (student['math']>60)]\n",
    "print(x2.head())"
   ]
  },
  {
   "cell_type": "code",
   "execution_count": 27,
   "id": "704cf22a-9f17-4dae-b8e9-299e3bd5d66a",
   "metadata": {},
   "outputs": [
    {
     "data": {
      "text/plain": [
       "0      False\n",
       "1      False\n",
       "2      False\n",
       "3      False\n",
       "4      False\n",
       "       ...  \n",
       "309    False\n",
       "310    False\n",
       "311    False\n",
       "312    False\n",
       "313    False\n",
       "Length: 314, dtype: bool"
      ]
     },
     "execution_count": 27,
     "metadata": {},
     "output_type": "execute_result"
    }
   ],
   "source": [
    "f1 = (student['gender']==0) & (student['prog']==3) & (student['math']>60)\n",
    "f1"
   ]
  },
  {
   "cell_type": "code",
   "execution_count": 28,
   "id": "0d3aff4f-cebe-43c1-b922-48c8dac19b56",
   "metadata": {},
   "outputs": [
    {
     "name": "stdout",
     "output_type": "stream",
     "text": [
      "       id  gender  math  prog  daysabs\n",
      "88   1089       0    84     3        4\n",
      "164  2007       0    71     3        0\n",
      "166  2009       0    71     3        0\n",
      "168  2011       0    77     3        2\n",
      "172  2015       0    65     3        1\n"
     ]
    }
   ],
   "source": [
    "x3 = student[f1]\n",
    "print(x3.head())"
   ]
  },
  {
   "cell_type": "markdown",
   "id": "6d55846b-e8dc-46b4-b917-da589f211286",
   "metadata": {},
   "source": [
    "## Factor Variables"
   ]
  },
  {
   "cell_type": "code",
   "execution_count": 29,
   "id": "d18c09bd-9a7e-4234-97fd-95161e4b062c",
   "metadata": {},
   "outputs": [
    {
     "data": {
      "text/html": [
       "<div>\n",
       "<style scoped>\n",
       "    .dataframe tbody tr th:only-of-type {\n",
       "        vertical-align: middle;\n",
       "    }\n",
       "\n",
       "    .dataframe tbody tr th {\n",
       "        vertical-align: top;\n",
       "    }\n",
       "\n",
       "    .dataframe thead th {\n",
       "        text-align: right;\n",
       "    }\n",
       "</style>\n",
       "<table border=\"1\" class=\"dataframe\">\n",
       "  <thead>\n",
       "    <tr style=\"text-align: right;\">\n",
       "      <th></th>\n",
       "      <th>Unnamed: 0</th>\n",
       "      <th>ID</th>\n",
       "      <th>Treatment</th>\n",
       "      <th>Sex</th>\n",
       "      <th>Age</th>\n",
       "      <th>Improved</th>\n",
       "    </tr>\n",
       "  </thead>\n",
       "  <tbody>\n",
       "    <tr>\n",
       "      <th>0</th>\n",
       "      <td>1</td>\n",
       "      <td>57</td>\n",
       "      <td>Treated</td>\n",
       "      <td>Male</td>\n",
       "      <td>27</td>\n",
       "      <td>Some</td>\n",
       "    </tr>\n",
       "    <tr>\n",
       "      <th>1</th>\n",
       "      <td>2</td>\n",
       "      <td>46</td>\n",
       "      <td>Treated</td>\n",
       "      <td>Male</td>\n",
       "      <td>29</td>\n",
       "      <td>None</td>\n",
       "    </tr>\n",
       "    <tr>\n",
       "      <th>2</th>\n",
       "      <td>3</td>\n",
       "      <td>77</td>\n",
       "      <td>Treated</td>\n",
       "      <td>Male</td>\n",
       "      <td>30</td>\n",
       "      <td>None</td>\n",
       "    </tr>\n",
       "    <tr>\n",
       "      <th>3</th>\n",
       "      <td>4</td>\n",
       "      <td>17</td>\n",
       "      <td>Treated</td>\n",
       "      <td>Male</td>\n",
       "      <td>32</td>\n",
       "      <td>Marked</td>\n",
       "    </tr>\n",
       "    <tr>\n",
       "      <th>4</th>\n",
       "      <td>5</td>\n",
       "      <td>36</td>\n",
       "      <td>Treated</td>\n",
       "      <td>Male</td>\n",
       "      <td>46</td>\n",
       "      <td>Marked</td>\n",
       "    </tr>\n",
       "  </tbody>\n",
       "</table>\n",
       "</div>"
      ],
      "text/plain": [
       "   Unnamed: 0  ID Treatment   Sex  Age Improved\n",
       "0           1  57   Treated  Male   27     Some\n",
       "1           2  46   Treated  Male   29     None\n",
       "2           3  77   Treated  Male   30     None\n",
       "3           4  17   Treated  Male   32   Marked\n",
       "4           5  36   Treated  Male   46   Marked"
      ]
     },
     "execution_count": 29,
     "metadata": {},
     "output_type": "execute_result"
    }
   ],
   "source": [
    "arthritis = pd.read_csv(\"../data/Arthritis.csv\")\n",
    "arthritis.head()"
   ]
  },
  {
   "cell_type": "code",
   "execution_count": 30,
   "id": "9200718e-d387-4cc5-9f7f-0d88047663e7",
   "metadata": {},
   "outputs": [
    {
     "data": {
      "text/plain": [
       "Female    59\n",
       "Male      25\n",
       "Name: Sex, dtype: int64"
      ]
     },
     "execution_count": 30,
     "metadata": {},
     "output_type": "execute_result"
    }
   ],
   "source": [
    "arthritis['Sex'].value_counts()"
   ]
  },
  {
   "cell_type": "code",
   "execution_count": 44,
   "id": "0258b7c4-5c0a-4079-b8a7-2f14d8a96b34",
   "metadata": {},
   "outputs": [
    {
     "data": {
      "text/html": [
       "<div>\n",
       "<style scoped>\n",
       "    .dataframe tbody tr th:only-of-type {\n",
       "        vertical-align: middle;\n",
       "    }\n",
       "\n",
       "    .dataframe tbody tr th {\n",
       "        vertical-align: top;\n",
       "    }\n",
       "\n",
       "    .dataframe thead th {\n",
       "        text-align: right;\n",
       "    }\n",
       "</style>\n",
       "<table border=\"1\" class=\"dataframe\">\n",
       "  <thead>\n",
       "    <tr style=\"text-align: right;\">\n",
       "      <th>Improved</th>\n",
       "      <th>Marked</th>\n",
       "      <th>None</th>\n",
       "      <th>Some</th>\n",
       "    </tr>\n",
       "    <tr>\n",
       "      <th>Treatment</th>\n",
       "      <th></th>\n",
       "      <th></th>\n",
       "      <th></th>\n",
       "    </tr>\n",
       "  </thead>\n",
       "  <tbody>\n",
       "    <tr>\n",
       "      <th>Placebo</th>\n",
       "      <td>7</td>\n",
       "      <td>29</td>\n",
       "      <td>7</td>\n",
       "    </tr>\n",
       "    <tr>\n",
       "      <th>Treated</th>\n",
       "      <td>21</td>\n",
       "      <td>13</td>\n",
       "      <td>7</td>\n",
       "    </tr>\n",
       "  </tbody>\n",
       "</table>\n",
       "</div>"
      ],
      "text/plain": [
       "Improved   Marked  None  Some\n",
       "Treatment                    \n",
       "Placebo         7    29     7\n",
       "Treated        21    13     7"
      ]
     },
     "execution_count": 44,
     "metadata": {},
     "output_type": "execute_result"
    }
   ],
   "source": [
    "arthritis[['Treatment','Improved']].value_counts().unstack()"
   ]
  },
  {
   "cell_type": "code",
   "execution_count": 32,
   "id": "8fbfd88b-ebda-47d4-88bf-11f465ccf9b0",
   "metadata": {},
   "outputs": [
    {
     "data": {
      "text/html": [
       "<div>\n",
       "<style scoped>\n",
       "    .dataframe tbody tr th:only-of-type {\n",
       "        vertical-align: middle;\n",
       "    }\n",
       "\n",
       "    .dataframe tbody tr th {\n",
       "        vertical-align: top;\n",
       "    }\n",
       "\n",
       "    .dataframe thead th {\n",
       "        text-align: right;\n",
       "    }\n",
       "</style>\n",
       "<table border=\"1\" class=\"dataframe\">\n",
       "  <thead>\n",
       "    <tr style=\"text-align: right;\">\n",
       "      <th>Improved</th>\n",
       "      <th>Marked</th>\n",
       "      <th>None</th>\n",
       "      <th>Some</th>\n",
       "    </tr>\n",
       "    <tr>\n",
       "      <th>Treatment</th>\n",
       "      <th></th>\n",
       "      <th></th>\n",
       "      <th></th>\n",
       "    </tr>\n",
       "  </thead>\n",
       "  <tbody>\n",
       "    <tr>\n",
       "      <th>Placebo</th>\n",
       "      <td>0.083333</td>\n",
       "      <td>0.345238</td>\n",
       "      <td>0.083333</td>\n",
       "    </tr>\n",
       "    <tr>\n",
       "      <th>Treated</th>\n",
       "      <td>0.250000</td>\n",
       "      <td>0.154762</td>\n",
       "      <td>0.083333</td>\n",
       "    </tr>\n",
       "  </tbody>\n",
       "</table>\n",
       "</div>"
      ],
      "text/plain": [
       "Improved     Marked      None      Some\n",
       "Treatment                              \n",
       "Placebo    0.083333  0.345238  0.083333\n",
       "Treated    0.250000  0.154762  0.083333"
      ]
     },
     "execution_count": 32,
     "metadata": {},
     "output_type": "execute_result"
    }
   ],
   "source": [
    "arthritis[['Treatment','Improved']].value_counts(normalize=True).unstack()"
   ]
  },
  {
   "cell_type": "code",
   "execution_count": 46,
   "id": "e7dc4b2d-8995-4e64-b7ab-d4c9cf58cac1",
   "metadata": {},
   "outputs": [
    {
     "data": {
      "text/html": [
       "<div>\n",
       "<style scoped>\n",
       "    .dataframe tbody tr th:only-of-type {\n",
       "        vertical-align: middle;\n",
       "    }\n",
       "\n",
       "    .dataframe tbody tr th {\n",
       "        vertical-align: top;\n",
       "    }\n",
       "\n",
       "    .dataframe thead th {\n",
       "        text-align: right;\n",
       "    }\n",
       "</style>\n",
       "<table border=\"1\" class=\"dataframe\">\n",
       "  <thead>\n",
       "    <tr style=\"text-align: right;\">\n",
       "      <th>Treatment</th>\n",
       "      <th>Placebo</th>\n",
       "      <th>Treated</th>\n",
       "    </tr>\n",
       "    <tr>\n",
       "      <th>Improved</th>\n",
       "      <th></th>\n",
       "      <th></th>\n",
       "    </tr>\n",
       "  </thead>\n",
       "  <tbody>\n",
       "    <tr>\n",
       "      <th>Marked</th>\n",
       "      <td>0.250000</td>\n",
       "      <td>0.750000</td>\n",
       "    </tr>\n",
       "    <tr>\n",
       "      <th>None</th>\n",
       "      <td>0.690476</td>\n",
       "      <td>0.309524</td>\n",
       "    </tr>\n",
       "    <tr>\n",
       "      <th>Some</th>\n",
       "      <td>0.500000</td>\n",
       "      <td>0.500000</td>\n",
       "    </tr>\n",
       "  </tbody>\n",
       "</table>\n",
       "</div>"
      ],
      "text/plain": [
       "Treatment   Placebo   Treated\n",
       "Improved                     \n",
       "Marked     0.250000  0.750000\n",
       "None       0.690476  0.309524\n",
       "Some       0.500000  0.500000"
      ]
     },
     "execution_count": 46,
     "metadata": {},
     "output_type": "execute_result"
    }
   ],
   "source": [
    "arthritis.groupby('Improved')['Treatment'].value_counts(normalize=True).unstack()"
   ]
  },
  {
   "cell_type": "code",
   "execution_count": 47,
   "id": "f5c66392-27c9-4bd7-ab50-41fdeeaaf2eb",
   "metadata": {},
   "outputs": [
    {
     "data": {
      "text/html": [
       "<div>\n",
       "<style scoped>\n",
       "    .dataframe tbody tr th:only-of-type {\n",
       "        vertical-align: middle;\n",
       "    }\n",
       "\n",
       "    .dataframe tbody tr th {\n",
       "        vertical-align: top;\n",
       "    }\n",
       "\n",
       "    .dataframe thead th {\n",
       "        text-align: right;\n",
       "    }\n",
       "</style>\n",
       "<table border=\"1\" class=\"dataframe\">\n",
       "  <thead>\n",
       "    <tr style=\"text-align: right;\">\n",
       "      <th>Improved</th>\n",
       "      <th>Marked</th>\n",
       "      <th>None</th>\n",
       "      <th>Some</th>\n",
       "    </tr>\n",
       "    <tr>\n",
       "      <th>Treatment</th>\n",
       "      <th></th>\n",
       "      <th></th>\n",
       "      <th></th>\n",
       "    </tr>\n",
       "  </thead>\n",
       "  <tbody>\n",
       "    <tr>\n",
       "      <th>Placebo</th>\n",
       "      <td>0.162791</td>\n",
       "      <td>0.674419</td>\n",
       "      <td>0.162791</td>\n",
       "    </tr>\n",
       "    <tr>\n",
       "      <th>Treated</th>\n",
       "      <td>0.512195</td>\n",
       "      <td>0.317073</td>\n",
       "      <td>0.170732</td>\n",
       "    </tr>\n",
       "  </tbody>\n",
       "</table>\n",
       "</div>"
      ],
      "text/plain": [
       "Improved     Marked      None      Some\n",
       "Treatment                              \n",
       "Placebo    0.162791  0.674419  0.162791\n",
       "Treated    0.512195  0.317073  0.170732"
      ]
     },
     "execution_count": 47,
     "metadata": {},
     "output_type": "execute_result"
    }
   ],
   "source": [
    "arthritis.groupby('Treatment')['Improved'].value_counts(normalize=True).unstack()"
   ]
  },
  {
   "cell_type": "code",
   "execution_count": 49,
   "id": "18cfec06-bdbf-41aa-90ea-a491581488da",
   "metadata": {},
   "outputs": [
    {
     "data": {
      "text/html": [
       "<div>\n",
       "<style scoped>\n",
       "    .dataframe tbody tr th:only-of-type {\n",
       "        vertical-align: middle;\n",
       "    }\n",
       "\n",
       "    .dataframe tbody tr th {\n",
       "        vertical-align: top;\n",
       "    }\n",
       "\n",
       "    .dataframe thead th {\n",
       "        text-align: right;\n",
       "    }\n",
       "</style>\n",
       "<table border=\"1\" class=\"dataframe\">\n",
       "  <thead>\n",
       "    <tr style=\"text-align: right;\">\n",
       "      <th></th>\n",
       "      <th>Improved</th>\n",
       "      <th>None</th>\n",
       "      <th>Some</th>\n",
       "      <th>Marked</th>\n",
       "    </tr>\n",
       "    <tr>\n",
       "      <th>Sex</th>\n",
       "      <th>Treatment</th>\n",
       "      <th></th>\n",
       "      <th></th>\n",
       "      <th></th>\n",
       "    </tr>\n",
       "  </thead>\n",
       "  <tbody>\n",
       "    <tr>\n",
       "      <th rowspan=\"2\" valign=\"top\">Female</th>\n",
       "      <th>Placebo</th>\n",
       "      <td>19.0</td>\n",
       "      <td>7.0</td>\n",
       "      <td>6.0</td>\n",
       "    </tr>\n",
       "    <tr>\n",
       "      <th>Treated</th>\n",
       "      <td>6.0</td>\n",
       "      <td>5.0</td>\n",
       "      <td>16.0</td>\n",
       "    </tr>\n",
       "    <tr>\n",
       "      <th rowspan=\"2\" valign=\"top\">Male</th>\n",
       "      <th>Placebo</th>\n",
       "      <td>10.0</td>\n",
       "      <td>NaN</td>\n",
       "      <td>1.0</td>\n",
       "    </tr>\n",
       "    <tr>\n",
       "      <th>Treated</th>\n",
       "      <td>7.0</td>\n",
       "      <td>2.0</td>\n",
       "      <td>5.0</td>\n",
       "    </tr>\n",
       "  </tbody>\n",
       "</table>\n",
       "</div>"
      ],
      "text/plain": [
       "Improved          None  Some  Marked\n",
       "Sex    Treatment                    \n",
       "Female Placebo    19.0   7.0     6.0\n",
       "       Treated     6.0   5.0    16.0\n",
       "Male   Placebo    10.0   NaN     1.0\n",
       "       Treated     7.0   2.0     5.0"
      ]
     },
     "execution_count": 49,
     "metadata": {},
     "output_type": "execute_result"
    }
   ],
   "source": [
    "df3 = arthritis[['Sex','Treatment','Improved']].value_counts().unstack()[['None','Some','Marked']]\n",
    "df3"
   ]
  },
  {
   "cell_type": "code",
   "execution_count": 37,
   "id": "69f49397-b7e6-42a5-a0b5-ffe68d0223f3",
   "metadata": {},
   "outputs": [
    {
     "data": {
      "text/html": [
       "<div>\n",
       "<style scoped>\n",
       "    .dataframe tbody tr th:only-of-type {\n",
       "        vertical-align: middle;\n",
       "    }\n",
       "\n",
       "    .dataframe tbody tr th {\n",
       "        vertical-align: top;\n",
       "    }\n",
       "\n",
       "    .dataframe thead tr th {\n",
       "        text-align: left;\n",
       "    }\n",
       "\n",
       "    .dataframe thead tr:last-of-type th {\n",
       "        text-align: right;\n",
       "    }\n",
       "</style>\n",
       "<table border=\"1\" class=\"dataframe\">\n",
       "  <thead>\n",
       "    <tr>\n",
       "      <th>Improved</th>\n",
       "      <th colspan=\"2\" halign=\"left\">Marked</th>\n",
       "      <th colspan=\"2\" halign=\"left\">None</th>\n",
       "      <th colspan=\"2\" halign=\"left\">Some</th>\n",
       "    </tr>\n",
       "    <tr>\n",
       "      <th>Treatment</th>\n",
       "      <th>Placebo</th>\n",
       "      <th>Treated</th>\n",
       "      <th>Placebo</th>\n",
       "      <th>Treated</th>\n",
       "      <th>Placebo</th>\n",
       "      <th>Treated</th>\n",
       "    </tr>\n",
       "    <tr>\n",
       "      <th>Sex</th>\n",
       "      <th></th>\n",
       "      <th></th>\n",
       "      <th></th>\n",
       "      <th></th>\n",
       "      <th></th>\n",
       "      <th></th>\n",
       "    </tr>\n",
       "  </thead>\n",
       "  <tbody>\n",
       "    <tr>\n",
       "      <th>Female</th>\n",
       "      <td>6.0</td>\n",
       "      <td>16.0</td>\n",
       "      <td>19.0</td>\n",
       "      <td>6.0</td>\n",
       "      <td>7.0</td>\n",
       "      <td>5.0</td>\n",
       "    </tr>\n",
       "    <tr>\n",
       "      <th>Male</th>\n",
       "      <td>1.0</td>\n",
       "      <td>5.0</td>\n",
       "      <td>10.0</td>\n",
       "      <td>7.0</td>\n",
       "      <td>NaN</td>\n",
       "      <td>2.0</td>\n",
       "    </tr>\n",
       "  </tbody>\n",
       "</table>\n",
       "</div>"
      ],
      "text/plain": [
       "Improved   Marked            None            Some        \n",
       "Treatment Placebo Treated Placebo Treated Placebo Treated\n",
       "Sex                                                      \n",
       "Female        6.0    16.0    19.0     6.0     7.0     5.0\n",
       "Male          1.0     5.0    10.0     7.0     NaN     2.0"
      ]
     },
     "execution_count": 37,
     "metadata": {},
     "output_type": "execute_result"
    }
   ],
   "source": [
    "#df4 = df3.reset_index(level='Improved')\n",
    "#display(df4)\n",
    "df4 = df3.unstack()\n",
    "df4"
   ]
  },
  {
   "cell_type": "markdown",
   "id": "70f3f90c-f7eb-46f2-be3d-193e3fe621c3",
   "metadata": {},
   "source": [
    "## Numeric Variables"
   ]
  },
  {
   "cell_type": "code",
   "execution_count": 110,
   "id": "26c205d1-c206-4a20-934d-5996b4e9313b",
   "metadata": {},
   "outputs": [
    {
     "data": {
      "text/html": [
       "<div>\n",
       "<style scoped>\n",
       "    .dataframe tbody tr th:only-of-type {\n",
       "        vertical-align: middle;\n",
       "    }\n",
       "\n",
       "    .dataframe tbody tr th {\n",
       "        vertical-align: top;\n",
       "    }\n",
       "\n",
       "    .dataframe thead th {\n",
       "        text-align: right;\n",
       "    }\n",
       "</style>\n",
       "<table border=\"1\" class=\"dataframe\">\n",
       "  <thead>\n",
       "    <tr style=\"text-align: right;\">\n",
       "      <th></th>\n",
       "      <th>Temp</th>\n",
       "      <th>Gas</th>\n",
       "    </tr>\n",
       "    <tr>\n",
       "      <th>Insul</th>\n",
       "      <th></th>\n",
       "      <th></th>\n",
       "    </tr>\n",
       "  </thead>\n",
       "  <tbody>\n",
       "    <tr>\n",
       "      <th>Before</th>\n",
       "      <td>-0.8</td>\n",
       "      <td>7.2</td>\n",
       "    </tr>\n",
       "    <tr>\n",
       "      <th>Before</th>\n",
       "      <td>-0.7</td>\n",
       "      <td>6.9</td>\n",
       "    </tr>\n",
       "    <tr>\n",
       "      <th>Before</th>\n",
       "      <td>0.4</td>\n",
       "      <td>6.4</td>\n",
       "    </tr>\n",
       "    <tr>\n",
       "      <th>Before</th>\n",
       "      <td>2.5</td>\n",
       "      <td>6.0</td>\n",
       "    </tr>\n",
       "    <tr>\n",
       "      <th>Before</th>\n",
       "      <td>2.9</td>\n",
       "      <td>5.8</td>\n",
       "    </tr>\n",
       "  </tbody>\n",
       "</table>\n",
       "</div>"
      ],
      "text/plain": [
       "        Temp  Gas\n",
       "Insul            \n",
       "Before  -0.8  7.2\n",
       "Before  -0.7  6.9\n",
       "Before   0.4  6.4\n",
       "Before   2.5  6.0\n",
       "Before   2.9  5.8"
      ]
     },
     "execution_count": 110,
     "metadata": {},
     "output_type": "execute_result"
    }
   ],
   "source": [
    "whiteside = pd.read_csv('../data/whiteside.csv',index_col=0)\n",
    "whiteside.head()"
   ]
  },
  {
   "cell_type": "code",
   "execution_count": 14,
   "id": "db43a37f-89b5-4ff0-9d87-4a9cbe380837",
   "metadata": {},
   "outputs": [
    {
     "data": {
      "text/plain": [
       "Insul\n",
       "After     4.463333\n",
       "Before    5.350000\n",
       "Name: Temp, dtype: float64"
      ]
     },
     "execution_count": 14,
     "metadata": {},
     "output_type": "execute_result"
    }
   ],
   "source": [
    "whiteside.groupby(['Insul'])['Temp'].agg(np.mean)"
   ]
  },
  {
   "cell_type": "code",
   "execution_count": 23,
   "id": "38e911b9-3480-4dba-99c1-13f561b5b9db",
   "metadata": {},
   "outputs": [
    {
     "data": {
      "text/plain": [
       "Insul\n",
       "After     4.463333\n",
       "Before    5.350000\n",
       "Name: Temp, dtype: float64"
      ]
     },
     "execution_count": 23,
     "metadata": {},
     "output_type": "execute_result"
    }
   ],
   "source": [
    "whiteside.groupby(['Insul'])['Temp'].mean()"
   ]
  },
  {
   "cell_type": "code",
   "execution_count": null,
   "id": "925335f6-b047-49d2-aaba-1b72cd3d87c9",
   "metadata": {},
   "outputs": [],
   "source": []
  }
 ],
 "metadata": {
  "interpreter": {
   "hash": "31f2aee4e71d21fbe5cf8b01ff0e069b9275f58929596ceb00d14d90e3e16cd6"
  },
  "kernelspec": {
   "display_name": "Python 3 (ipykernel)",
   "language": "python",
   "name": "python3"
  },
  "language_info": {
   "codemirror_mode": {
    "name": "ipython",
    "version": 3
   },
   "file_extension": ".py",
   "mimetype": "text/x-python",
   "name": "python",
   "nbconvert_exporter": "python",
   "pygments_lexer": "ipython3",
   "version": "3.8.8"
  },
  "toc-autonumbering": true,
  "toc-showcode": false,
  "toc-showmarkdowntxt": false,
  "toc-showtags": false
 },
 "nbformat": 4,
 "nbformat_minor": 5
}
