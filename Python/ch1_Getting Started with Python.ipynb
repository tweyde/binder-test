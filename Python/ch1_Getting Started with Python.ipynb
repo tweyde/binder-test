{
 "cells": [
  {
   "cell_type": "markdown",
   "id": "778a67f2",
   "metadata": {},
   "source": [
    "# Basics of Python\n",
    "\n",
    "In this first lesson, we will explore two basic data structures that are very useful: vectors and dataframes. Vectors are one dimensional and dataframes are two dimensional objects. But first, let’s get the necessary software to begin coding."
   ]
  },
  {
   "cell_type": "markdown",
   "id": "1f8a3e5f",
   "metadata": {},
   "source": [
    "Let us begin with simple computations in Python using +,-,* and / operators and functions."
   ]
  },
  {
   "cell_type": "code",
   "execution_count": 2,
   "id": "f2aee184",
   "metadata": {},
   "outputs": [
    {
     "data": {
      "text/plain": [
       "1925"
      ]
     },
     "execution_count": 2,
     "metadata": {},
     "output_type": "execute_result"
    }
   ],
   "source": [
    "25*77"
   ]
  },
  {
   "cell_type": "code",
   "execution_count": 3,
   "id": "6d1d4cc7",
   "metadata": {},
   "outputs": [
    {
     "data": {
      "text/plain": [
       "5.0"
      ]
     },
     "execution_count": 3,
     "metadata": {},
     "output_type": "execute_result"
    }
   ],
   "source": [
    "25/5  "
   ]
  },
  {
   "cell_type": "markdown",
   "id": "c6569679",
   "metadata": {},
   "source": [
    "Commonly used functions like sqrt(),exp(), and log() are made available in the `math` package."
   ]
  },
  {
   "cell_type": "code",
   "execution_count": 4,
   "id": "bf08127d",
   "metadata": {},
   "outputs": [
    {
     "data": {
      "text/plain": [
       "8.774964387392123"
      ]
     },
     "execution_count": 4,
     "metadata": {},
     "output_type": "execute_result"
    }
   ],
   "source": [
    "import math\n",
    "math.sqrt(77)  "
   ]
  },
  {
   "cell_type": "code",
   "execution_count": 5,
   "id": "21f64751",
   "metadata": {},
   "outputs": [
    {
     "data": {
      "text/plain": [
       "12.182493960703473"
      ]
     },
     "execution_count": 5,
     "metadata": {},
     "output_type": "execute_result"
    }
   ],
   "source": [
    "math.exp(2.5)  "
   ]
  },
  {
   "cell_type": "code",
   "execution_count": 6,
   "id": "ab974fc7",
   "metadata": {},
   "outputs": [
    {
     "data": {
      "text/plain": [
       "4.007333185232471"
      ]
     },
     "execution_count": 6,
     "metadata": {},
     "output_type": "execute_result"
    }
   ],
   "source": [
    "math.log(55)"
   ]
  },
  {
   "cell_type": "markdown",
   "id": "d061ba0d",
   "metadata": {},
   "source": [
    "## Creating Vectors\n",
    "To create a vector, we can use Python tuples. The appropriate syntax is v = (). An example is:"
   ]
  },
  {
   "cell_type": "code",
   "execution_count": 7,
   "id": "a645e109",
   "metadata": {},
   "outputs": [
    {
     "data": {
      "text/plain": [
       "(1, 2, 3, 4)"
      ]
     },
     "execution_count": 7,
     "metadata": {},
     "output_type": "execute_result"
    }
   ],
   "source": [
    "v = (1,2,3,4)\n",
    "v"
   ]
  },
  {
   "cell_type": "markdown",
   "id": "aad458c5",
   "metadata": {},
   "source": [
    "For most numerical and statistical uses, it is however more practical to use the NumPy package and its ndarray"
   ]
  },
  {
   "cell_type": "code",
   "execution_count": 8,
   "id": "e2aa1849",
   "metadata": {},
   "outputs": [
    {
     "name": "stdout",
     "output_type": "stream",
     "text": [
      "<class 'numpy.ndarray'>\n"
     ]
    },
    {
     "data": {
      "text/plain": [
       "array([1, 2, 3, 4])"
      ]
     },
     "execution_count": 8,
     "metadata": {},
     "output_type": "execute_result"
    }
   ],
   "source": [
    "import numpy as np\n",
    "v1 = np.array([1,2,3,4])\n",
    "print(type(v1))\n",
    "v1"
   ]
  },
  {
   "cell_type": "markdown",
   "id": "52df625f",
   "metadata": {},
   "source": [
    "To create a vector with a reglar sequence over a range of numbers, we can use `arange()`. The second argument is excluded from the generated sequence. "
   ]
  },
  {
   "cell_type": "code",
   "execution_count": 9,
   "id": "db0d5db0",
   "metadata": {},
   "outputs": [
    {
     "data": {
      "text/plain": [
       "array([1, 2, 3, 4, 5])"
      ]
     },
     "execution_count": 9,
     "metadata": {},
     "output_type": "execute_result"
    }
   ],
   "source": [
    "vec1 = np.arange(1,6)\n",
    "vec1"
   ]
  },
  {
   "cell_type": "markdown",
   "id": "b9d2663f",
   "metadata": {},
   "source": [
    "We can add a third argumment with specific step size."
   ]
  },
  {
   "cell_type": "code",
   "execution_count": 10,
   "id": "5eddfb5b",
   "metadata": {},
   "outputs": [
    {
     "data": {
      "text/plain": [
       "array([ 2,  5,  8, 11, 14, 17, 20, 23, 26, 29, 32, 35, 38, 41, 44, 47, 50,\n",
       "       53])"
      ]
     },
     "execution_count": 10,
     "metadata": {},
     "output_type": "execute_result"
    }
   ],
   "source": [
    "np.arange(2,55,3)"
   ]
  },
  {
   "cell_type": "markdown",
   "id": "0be51dde",
   "metadata": {},
   "source": [
    "To create a vector that repeats a number, character, or a vector of numbers or characters, we use `tile()`. Characters must be in quotations."
   ]
  },
  {
   "cell_type": "code",
   "execution_count": 11,
   "id": "02230ab4",
   "metadata": {},
   "outputs": [
    {
     "data": {
      "text/plain": [
       "array([1, 1, 1, 1, 1, 1, 1, 1, 1, 1])"
      ]
     },
     "execution_count": 11,
     "metadata": {},
     "output_type": "execute_result"
    }
   ],
   "source": [
    "vec1 = np.tile(1,10)\n",
    "vec1"
   ]
  },
  {
   "cell_type": "code",
   "execution_count": 12,
   "id": "266aa509",
   "metadata": {},
   "outputs": [
    {
     "name": "stdout",
     "output_type": "stream",
     "text": [
      "[3 4 5 3 4 5 3 4 5]\n",
      "['a' 'b' 'c' 'a' 'b' 'c' 'a' 'b' 'c' 'a' 'b' 'c' 'a' 'b' 'c']\n"
     ]
    }
   ],
   "source": [
    "print(np.tile((3,4,5),3))\n",
    "print(np.tile(('a','b','c'),5))"
   ]
  },
  {
   "cell_type": "markdown",
   "id": "22f9a9e5",
   "metadata": {},
   "source": [
    "The second argument (the elements in parenthesis) is the number of times you want the first element to be repeated.\n",
    "\n",
    "To find the sum of a vector, we use the NumPy command sum()."
   ]
  },
  {
   "cell_type": "code",
   "execution_count": 13,
   "id": "6d6dcc88",
   "metadata": {},
   "outputs": [
    {
     "data": {
      "text/plain": [
       "10"
      ]
     },
     "execution_count": 13,
     "metadata": {},
     "output_type": "execute_result"
    }
   ],
   "source": [
    "np.sum(vec1)"
   ]
  },
  {
   "cell_type": "markdown",
   "id": "4fdd6c60",
   "metadata": {},
   "source": [
    "The following are other useful vector based functions in Python with NumPy.\n",
    "\n",
    "- `min(x)` - minimum value of vector x \n",
    "- `max(x)` - maximum value of vector x\n",
    "- `mean(x)` - mean value of vector x\n",
    "- `median(x)` - median value of vector x\n",
    "- `quantile(x, p)` - pth quantile of vector x\n",
    "- `std(x)` - standard deviation of vector x\n",
    "- `var(x)` - variance of vector x\n",
    "\n",
    "\n",
    "Let us create three vectors to store information about weight, height, and gender. since gender is not numeric data, we use quotation marks when creating the vector.\n",
    "\n",
    "Note that initially, the gender vector contains  elements of type character. This can be seen using the type() command. The gender vector must be a factor (or more commonly refered to as categorical data) in order to be plotted, and thus we write factor(gender) in the parenthesis of the plot() command"
   ]
  },
  {
   "cell_type": "code",
   "execution_count": 14,
   "id": "7c55aa3a",
   "metadata": {},
   "outputs": [
    {
     "name": "stdout",
     "output_type": "stream",
     "text": [
      "<class 'numpy.str_'>\n",
      "<class 'numpy.ndarray'>\n",
      "57\n",
      "95\n",
      "72.0\n",
      "66.0\n"
     ]
    }
   ],
   "source": [
    "weight = np.array([60,72,57,90,95,72])\n",
    "height = np.array([1.75,1.8,1.65,1.9,1.74,1.91])\n",
    "gender = np.array(['f','m','f','m','m','f'])\n",
    "print(type(gender[0]))\n",
    "print(type(gender))\n",
    "print(np.min(weight))\n",
    "print(np.max(weight))\n",
    "print(np.median(weight))\n",
    "print(np.quantile(weight,0.3))"
   ]
  },
  {
   "cell_type": "markdown",
   "id": "6cf06d5a",
   "metadata": {},
   "source": [
    "We will now import the data into a object of class dataframe. We will not go into details of object oriented programming here. It is sufficient for now to think of a dataframe as way of facility that holds data in a table and provides many useful functions to work with them. The dataframe class is provided by a package called Pandas, more information is abvailable at [https://pandas.pydata.org/pandas-docs/stable/reference/index.html](https://pandas.pydata.org/pandas-docs/stable/reference/index.html)\n",
    "\n",
    "A dataframe holds data in a tabular structure with columns and rows an has an index over rows. Below, we create a dataframe by providing the data together with the column names as strings (surrounded by quotation  marks). Stating the variable name of the dataframe `df` on the last line of this code cell has it displayed, where we can see the three columns and the default numeric index that numbers the rows starting from 0. "
   ]
  },
  {
   "cell_type": "code",
   "execution_count": 15,
   "id": "82c8f413",
   "metadata": {},
   "outputs": [
    {
     "data": {
      "text/plain": [
       "<matplotlib.collections.PathCollection at 0x7fdbd60362e0>"
      ]
     },
     "execution_count": 15,
     "metadata": {},
     "output_type": "execute_result"
    },
    {
     "data": {
      "image/png": "[encoded data removed]",
      "text/plain": [
       "<Figure size 432x288 with 1 Axes>"
      ]
     },
     "metadata": {
      "needs_background": "light"
     },
     "output_type": "display_data"
    }
   ],
   "source": [
    "import matplotlib.pyplot as plt\n",
    "plt.scatter(height,weight,c='red',marker='x')"
   ]
  },
  {
   "cell_type": "code",
   "execution_count": 16,
   "id": "d25cf871",
   "metadata": {},
   "outputs": [
    {
     "name": "stdout",
     "output_type": "stream",
     "text": [
      "  gender  weight  height\n",
      "0      f      60    1.75\n",
      "1      m      72    1.80\n",
      "2      f      57    1.65\n",
      "3      m      90    1.90\n",
      "4      m      95    1.74\n",
      "5      f      72    1.91\n"
     ]
    },
    {
     "data": {
      "text/html": [
       "<div>\n",
       "<style scoped>\n",
       "    .dataframe tbody tr th:only-of-type {\n",
       "        vertical-align: middle;\n",
       "    }\n",
       "\n",
       "    .dataframe tbody tr th {\n",
       "        vertical-align: top;\n",
       "    }\n",
       "\n",
       "    .dataframe thead th {\n",
       "        text-align: right;\n",
       "    }\n",
       "</style>\n",
       "<table border=\"1\" class=\"dataframe\">\n",
       "  <thead>\n",
       "    <tr style=\"text-align: right;\">\n",
       "      <th></th>\n",
       "      <th>gender</th>\n",
       "      <th>weight</th>\n",
       "      <th>height</th>\n",
       "    </tr>\n",
       "  </thead>\n",
       "  <tbody>\n",
       "    <tr>\n",
       "      <th>0</th>\n",
       "      <td>f</td>\n",
       "      <td>60</td>\n",
       "      <td>1.75</td>\n",
       "    </tr>\n",
       "    <tr>\n",
       "      <th>1</th>\n",
       "      <td>m</td>\n",
       "      <td>72</td>\n",
       "      <td>1.80</td>\n",
       "    </tr>\n",
       "    <tr>\n",
       "      <th>2</th>\n",
       "      <td>f</td>\n",
       "      <td>57</td>\n",
       "      <td>1.65</td>\n",
       "    </tr>\n",
       "    <tr>\n",
       "      <th>3</th>\n",
       "      <td>m</td>\n",
       "      <td>90</td>\n",
       "      <td>1.90</td>\n",
       "    </tr>\n",
       "    <tr>\n",
       "      <th>4</th>\n",
       "      <td>m</td>\n",
       "      <td>95</td>\n",
       "      <td>1.74</td>\n",
       "    </tr>\n",
       "    <tr>\n",
       "      <th>5</th>\n",
       "      <td>f</td>\n",
       "      <td>72</td>\n",
       "      <td>1.91</td>\n",
       "    </tr>\n",
       "  </tbody>\n",
       "</table>\n",
       "</div>"
      ],
      "text/plain": [
       "  gender  weight  height\n",
       "0      f      60    1.75\n",
       "1      m      72    1.80\n",
       "2      f      57    1.65\n",
       "3      m      90    1.90\n",
       "4      m      95    1.74\n",
       "5      f      72    1.91"
      ]
     },
     "execution_count": 16,
     "metadata": {},
     "output_type": "execute_result"
    }
   ],
   "source": [
    "import pandas as pd\n",
    "df = pd.DataFrame(data = {'gender':gender,'weight':weight,'height':height})\n",
    "print(df)\n",
    "df"
   ]
  },
  {
   "cell_type": "markdown",
   "id": "ec65d613",
   "metadata": {},
   "source": [
    "A Pandas Dataframe provides many useful functions, including plotting functions. These polotting functions call another package in the background, that is called 'Matplotlib', but for now, we will just use the functions that are availble through the Pandas.\n",
    "\n",
    "A way of showing the data is to use a scatterplot, assingng two columns to  the two axes of a plane such that each row is shown as point in the plane. "
   ]
  },
  {
   "cell_type": "code",
   "execution_count": 17,
   "id": "6d9227b4",
   "metadata": {},
   "outputs": [
    {
     "data": {
      "image/png": "[encoded data removed]",
      "text/plain": [
       "<Figure size 432x288 with 1 Axes>"
      ]
     },
     "metadata": {
      "needs_background": "light"
     },
     "output_type": "display_data"
    }
   ],
   "source": [
    "sp = df.plot.scatter('weight','height')"
   ]
  },
  {
   "cell_type": "markdown",
   "id": "95ed226c",
   "metadata": {},
   "source": [
    "We can select individual columns by providing their name as a character string (i.e. surrounded by quotes) in square brackets. E.g. we can look at the third column named 'gender'."
   ]
  },
  {
   "cell_type": "code",
   "execution_count": 18,
   "id": "f85c9128",
   "metadata": {},
   "outputs": [
    {
     "data": {
      "text/plain": [
       "0    f\n",
       "1    m\n",
       "2    f\n",
       "3    m\n",
       "4    m\n",
       "5    f\n",
       "Name: gender, dtype: object"
      ]
     },
     "execution_count": 18,
     "metadata": {},
     "output_type": "execute_result"
    }
   ],
   "source": [
    "df['gender']"
   ]
  },
  {
   "cell_type": "markdown",
   "id": "cc80819d",
   "metadata": {},
   "source": [
    " It looks like this one has only two different values, as we can verify by calling the function unique()."
   ]
  },
  {
   "cell_type": "code",
   "execution_count": 19,
   "id": "7d41da27",
   "metadata": {},
   "outputs": [
    {
     "data": {
      "text/plain": [
       "array(['f', 'm'], dtype=object)"
      ]
     },
     "execution_count": 19,
     "metadata": {},
     "output_type": "execute_result"
    }
   ],
   "source": [
    "df['gender'].unique()"
   ]
  },
  {
   "cell_type": "markdown",
   "id": "6c0e3c3a",
   "metadata": {},
   "source": [
    "For only two values, a scatter plot is less interesting. Alternatively, we can create a box plot, that visualises information about distribution of one column's values grouped by the values for 'gender'. \n",
    "The call to 'tight_layout()' in the example below is not strictly necessary, but makes the layout tidier)."
   ]
  },
  {
   "cell_type": "code",
   "execution_count": 20,
   "id": "1f645bb6",
   "metadata": {},
   "outputs": [
    {
     "data": {
      "image/png": "[encoded data removed]",
      "text/plain": [
       "<Figure size 432x288 with 1 Axes>"
      ]
     },
     "metadata": {
      "needs_background": "light"
     },
     "output_type": "display_data"
    }
   ],
   "source": [
    "sp = df.boxplot(column='height',by='gender')\n",
    "sp.get_figure().tight_layout()"
   ]
  },
  {
   "cell_type": "markdown",
   "id": "a416b3b3",
   "metadata": {},
   "source": [
    "We can get some information about a dataframe. The function 'describe()' gives us descriptive statistics for each column and 'head()' shows the first few rows in the dataframe."
   ]
  },
  {
   "cell_type": "code",
   "execution_count": 21,
   "id": "9a3fa188",
   "metadata": {},
   "outputs": [
    {
     "data": {
      "text/html": [
       "<div>\n",
       "<style scoped>\n",
       "    .dataframe tbody tr th:only-of-type {\n",
       "        vertical-align: middle;\n",
       "    }\n",
       "\n",
       "    .dataframe tbody tr th {\n",
       "        vertical-align: top;\n",
       "    }\n",
       "\n",
       "    .dataframe thead th {\n",
       "        text-align: right;\n",
       "    }\n",
       "</style>\n",
       "<table border=\"1\" class=\"dataframe\">\n",
       "  <thead>\n",
       "    <tr style=\"text-align: right;\">\n",
       "      <th></th>\n",
       "      <th>weight</th>\n",
       "      <th>height</th>\n",
       "    </tr>\n",
       "  </thead>\n",
       "  <tbody>\n",
       "    <tr>\n",
       "      <th>count</th>\n",
       "      <td>6.000000</td>\n",
       "      <td>6.000000</td>\n",
       "    </tr>\n",
       "    <tr>\n",
       "      <th>mean</th>\n",
       "      <td>74.333333</td>\n",
       "      <td>1.791667</td>\n",
       "    </tr>\n",
       "    <tr>\n",
       "      <th>std</th>\n",
       "      <td>15.422927</td>\n",
       "      <td>0.100283</td>\n",
       "    </tr>\n",
       "    <tr>\n",
       "      <th>min</th>\n",
       "      <td>57.000000</td>\n",
       "      <td>1.650000</td>\n",
       "    </tr>\n",
       "    <tr>\n",
       "      <th>25%</th>\n",
       "      <td>63.000000</td>\n",
       "      <td>1.742500</td>\n",
       "    </tr>\n",
       "    <tr>\n",
       "      <th>50%</th>\n",
       "      <td>72.000000</td>\n",
       "      <td>1.775000</td>\n",
       "    </tr>\n",
       "    <tr>\n",
       "      <th>75%</th>\n",
       "      <td>85.500000</td>\n",
       "      <td>1.875000</td>\n",
       "    </tr>\n",
       "    <tr>\n",
       "      <th>max</th>\n",
       "      <td>95.000000</td>\n",
       "      <td>1.910000</td>\n",
       "    </tr>\n",
       "  </tbody>\n",
       "</table>\n",
       "</div>"
      ],
      "text/plain": [
       "          weight    height\n",
       "count   6.000000  6.000000\n",
       "mean   74.333333  1.791667\n",
       "std    15.422927  0.100283\n",
       "min    57.000000  1.650000\n",
       "25%    63.000000  1.742500\n",
       "50%    72.000000  1.775000\n",
       "75%    85.500000  1.875000\n",
       "max    95.000000  1.910000"
      ]
     },
     "execution_count": 21,
     "metadata": {},
     "output_type": "execute_result"
    }
   ],
   "source": [
    "df.describe()"
   ]
  },
  {
   "cell_type": "code",
   "execution_count": 22,
   "id": "2165bf76",
   "metadata": {},
   "outputs": [
    {
     "data": {
      "text/plain": [
       "(6, 3)"
      ]
     },
     "execution_count": 22,
     "metadata": {},
     "output_type": "execute_result"
    }
   ],
   "source": [
    "df.shape"
   ]
  },
  {
   "cell_type": "code",
   "execution_count": 23,
   "id": "2e97543a",
   "metadata": {},
   "outputs": [
    {
     "data": {
      "text/plain": [
       "gender     object\n",
       "weight      int64\n",
       "height    float64\n",
       "dtype: object"
      ]
     },
     "execution_count": 23,
     "metadata": {},
     "output_type": "execute_result"
    }
   ],
   "source": [
    "df.dtypes"
   ]
  },
  {
   "cell_type": "code",
   "execution_count": 24,
   "id": "2b20811f",
   "metadata": {},
   "outputs": [
    {
     "data": {
      "text/html": [
       "<div>\n",
       "<style scoped>\n",
       "    .dataframe tbody tr th:only-of-type {\n",
       "        vertical-align: middle;\n",
       "    }\n",
       "\n",
       "    .dataframe tbody tr th {\n",
       "        vertical-align: top;\n",
       "    }\n",
       "\n",
       "    .dataframe thead th {\n",
       "        text-align: right;\n",
       "    }\n",
       "</style>\n",
       "<table border=\"1\" class=\"dataframe\">\n",
       "  <thead>\n",
       "    <tr style=\"text-align: right;\">\n",
       "      <th></th>\n",
       "      <th>gender</th>\n",
       "      <th>weight</th>\n",
       "      <th>height</th>\n",
       "    </tr>\n",
       "  </thead>\n",
       "  <tbody>\n",
       "    <tr>\n",
       "      <th>0</th>\n",
       "      <td>f</td>\n",
       "      <td>60</td>\n",
       "      <td>1.75</td>\n",
       "    </tr>\n",
       "    <tr>\n",
       "      <th>1</th>\n",
       "      <td>m</td>\n",
       "      <td>72</td>\n",
       "      <td>1.80</td>\n",
       "    </tr>\n",
       "    <tr>\n",
       "      <th>2</th>\n",
       "      <td>f</td>\n",
       "      <td>57</td>\n",
       "      <td>1.65</td>\n",
       "    </tr>\n",
       "    <tr>\n",
       "      <th>3</th>\n",
       "      <td>m</td>\n",
       "      <td>90</td>\n",
       "      <td>1.90</td>\n",
       "    </tr>\n",
       "    <tr>\n",
       "      <th>4</th>\n",
       "      <td>m</td>\n",
       "      <td>95</td>\n",
       "      <td>1.74</td>\n",
       "    </tr>\n",
       "  </tbody>\n",
       "</table>\n",
       "</div>"
      ],
      "text/plain": [
       "  gender  weight  height\n",
       "0      f      60    1.75\n",
       "1      m      72    1.80\n",
       "2      f      57    1.65\n",
       "3      m      90    1.90\n",
       "4      m      95    1.74"
      ]
     },
     "execution_count": 24,
     "metadata": {},
     "output_type": "execute_result"
    }
   ],
   "source": [
    "df.head()"
   ]
  },
  {
   "cell_type": "code",
   "execution_count": 25,
   "id": "d3b763f7",
   "metadata": {},
   "outputs": [
    {
     "data": {
      "text/html": [
       "<div>\n",
       "<style scoped>\n",
       "    .dataframe tbody tr th:only-of-type {\n",
       "        vertical-align: middle;\n",
       "    }\n",
       "\n",
       "    .dataframe tbody tr th {\n",
       "        vertical-align: top;\n",
       "    }\n",
       "\n",
       "    .dataframe thead th {\n",
       "        text-align: right;\n",
       "    }\n",
       "</style>\n",
       "<table border=\"1\" class=\"dataframe\">\n",
       "  <thead>\n",
       "    <tr style=\"text-align: right;\">\n",
       "      <th></th>\n",
       "      <th>gender</th>\n",
       "      <th>weight</th>\n",
       "      <th>height</th>\n",
       "      <th>bmi</th>\n",
       "    </tr>\n",
       "  </thead>\n",
       "  <tbody>\n",
       "    <tr>\n",
       "      <th>0</th>\n",
       "      <td>f</td>\n",
       "      <td>60</td>\n",
       "      <td>1.75</td>\n",
       "      <td>19.591837</td>\n",
       "    </tr>\n",
       "    <tr>\n",
       "      <th>1</th>\n",
       "      <td>m</td>\n",
       "      <td>72</td>\n",
       "      <td>1.80</td>\n",
       "      <td>22.222222</td>\n",
       "    </tr>\n",
       "    <tr>\n",
       "      <th>2</th>\n",
       "      <td>f</td>\n",
       "      <td>57</td>\n",
       "      <td>1.65</td>\n",
       "      <td>20.936639</td>\n",
       "    </tr>\n",
       "    <tr>\n",
       "      <th>3</th>\n",
       "      <td>m</td>\n",
       "      <td>90</td>\n",
       "      <td>1.90</td>\n",
       "      <td>24.930748</td>\n",
       "    </tr>\n",
       "    <tr>\n",
       "      <th>4</th>\n",
       "      <td>m</td>\n",
       "      <td>95</td>\n",
       "      <td>1.74</td>\n",
       "      <td>31.377989</td>\n",
       "    </tr>\n",
       "    <tr>\n",
       "      <th>5</th>\n",
       "      <td>f</td>\n",
       "      <td>72</td>\n",
       "      <td>1.91</td>\n",
       "      <td>19.736301</td>\n",
       "    </tr>\n",
       "  </tbody>\n",
       "</table>\n",
       "</div>"
      ],
      "text/plain": [
       "  gender  weight  height        bmi\n",
       "0      f      60    1.75  19.591837\n",
       "1      m      72    1.80  22.222222\n",
       "2      f      57    1.65  20.936639\n",
       "3      m      90    1.90  24.930748\n",
       "4      m      95    1.74  31.377989\n",
       "5      f      72    1.91  19.736301"
      ]
     },
     "execution_count": 25,
     "metadata": {},
     "output_type": "execute_result"
    }
   ],
   "source": [
    "df['bmi'] = df['weight'] / df['height']**2\n",
    "df"
   ]
  },
  {
   "cell_type": "code",
   "execution_count": null,
   "id": "a1d97461",
   "metadata": {},
   "outputs": [],
   "source": []
  },
  {
   "cell_type": "code",
   "execution_count": 26,
   "id": "fb03bbf1",
   "metadata": {},
   "outputs": [
    {
     "name": "stdout",
     "output_type": "stream",
     "text": [
      ".. _iris_dataset:\n",
      "\n",
      "Iris plants dataset\n",
      "--------------------\n",
      "\n",
      "**Data Set Characteristics:**\n",
      "\n",
      "    :Number of Instances: 150 (50 in each of three classes)\n",
      "    :Number of Attributes: 4 numeric, predictive attributes and the class\n",
      "    :Attribute Information:\n",
      "        - sepal length in cm\n",
      "        - sepal width in cm\n",
      "        - petal length in cm\n",
      "        - petal width in cm\n",
      "        - class:\n",
      "                - Iris-Setosa\n",
      "                - Iris-Versicolour\n",
      "                - Iris-Virginica\n",
      "                \n",
      "    :Summary Statistics:\n",
      "\n",
      "    ============== ==== ==== ======= ===== ====================\n",
      "                    Min  Max   Mean    SD   Class Correlation\n",
      "    ============== ==== ==== ======= ===== ====================\n",
      "    sepal length:   4.3  7.9   5.84   0.83    0.7826\n",
      "    sepal width:    2.0  4.4   3.05   0.43   -0.4194\n",
      "    petal length:   1.0  6.9   3.76   1.76    0.9490  (high!)\n",
      "    petal width:    0.1  2.5   1.20   0.76    0.9565  (high!)\n",
      "    ============== ==== ==== ======= ===== ====================\n",
      "\n",
      "    :Missing Attribute Values: None\n",
      "    :Class Distribution: 33.3% for each of 3 classes.\n",
      "    :Creator: R.A. Fisher\n",
      "    :Donor: Michael Marshall (MARSHALL%PLU@io.arc.nasa.gov)\n",
      "    :Date: July, 1988\n",
      "\n",
      "The famous Iris database, first used by Sir R.A. Fisher. The dataset is taken\n",
      "from Fisher's paper. Note that it's the same as in R, but not as in the UCI\n",
      "Machine Learning Repository, which has two wrong data points.\n",
      "\n",
      "This is perhaps the best known database to be found in the\n",
      "pattern recognition literature.  Fisher's paper is a classic in the field and\n",
      "is referenced frequently to this day.  (See Duda & Hart, for example.)  The\n",
      "data set contains 3 classes of 50 instances each, where each class refers to a\n",
      "type of iris plant.  One class is linearly separable from the other 2; the\n",
      "latter are NOT linearly separable from each other.\n",
      "\n",
      ".. topic:: References\n",
      "\n",
      "   - Fisher, R.A. \"The use of multiple measurements in taxonomic problems\"\n",
      "     Annual Eugenics, 7, Part II, 179-188 (1936); also in \"Contributions to\n",
      "     Mathematical Statistics\" (John Wiley, NY, 1950).\n",
      "   - Duda, R.O., & Hart, P.E. (1973) Pattern Classification and Scene Analysis.\n",
      "     (Q327.D83) John Wiley & Sons.  ISBN 0-471-22361-1.  See page 218.\n",
      "   - Dasarathy, B.V. (1980) \"Nosing Around the Neighborhood: A New System\n",
      "     Structure and Classification Rule for Recognition in Partially Exposed\n",
      "     Environments\".  IEEE Transactions on Pattern Analysis and Machine\n",
      "     Intelligence, Vol. PAMI-2, No. 1, 67-71.\n",
      "   - Gates, G.W. (1972) \"The Reduced Nearest Neighbor Rule\".  IEEE Transactions\n",
      "     on Information Theory, May 1972, 431-433.\n",
      "   - See also: 1988 MLC Proceedings, 54-64.  Cheeseman et al\"s AUTOCLASS II\n",
      "     conceptual clustering system finds 3 classes in the data.\n",
      "   - Many, many more ...\n"
     ]
    }
   ],
   "source": [
    "import sklearn.datasets \n",
    "iris = sklearn.datasets.load_iris()\n",
    "print(iris.DESCR)"
   ]
  },
  {
   "cell_type": "code",
   "execution_count": 27,
   "id": "ae236f78",
   "metadata": {},
   "outputs": [
    {
     "data": {
      "text/html": [
       "<div>\n",
       "<style scoped>\n",
       "    .dataframe tbody tr th:only-of-type {\n",
       "        vertical-align: middle;\n",
       "    }\n",
       "\n",
       "    .dataframe tbody tr th {\n",
       "        vertical-align: top;\n",
       "    }\n",
       "\n",
       "    .dataframe thead th {\n",
       "        text-align: right;\n",
       "    }\n",
       "</style>\n",
       "<table border=\"1\" class=\"dataframe\">\n",
       "  <thead>\n",
       "    <tr style=\"text-align: right;\">\n",
       "      <th></th>\n",
       "      <th>sepal length (cm)</th>\n",
       "      <th>sepal width (cm)</th>\n",
       "      <th>petal length (cm)</th>\n",
       "      <th>petal width (cm)</th>\n",
       "    </tr>\n",
       "  </thead>\n",
       "  <tbody>\n",
       "    <tr>\n",
       "      <th>0</th>\n",
       "      <td>5.1</td>\n",
       "      <td>3.5</td>\n",
       "      <td>1.4</td>\n",
       "      <td>0.2</td>\n",
       "    </tr>\n",
       "    <tr>\n",
       "      <th>1</th>\n",
       "      <td>4.9</td>\n",
       "      <td>3.0</td>\n",
       "      <td>1.4</td>\n",
       "      <td>0.2</td>\n",
       "    </tr>\n",
       "    <tr>\n",
       "      <th>2</th>\n",
       "      <td>4.7</td>\n",
       "      <td>3.2</td>\n",
       "      <td>1.3</td>\n",
       "      <td>0.2</td>\n",
       "    </tr>\n",
       "    <tr>\n",
       "      <th>3</th>\n",
       "      <td>4.6</td>\n",
       "      <td>3.1</td>\n",
       "      <td>1.5</td>\n",
       "      <td>0.2</td>\n",
       "    </tr>\n",
       "    <tr>\n",
       "      <th>4</th>\n",
       "      <td>5.0</td>\n",
       "      <td>3.6</td>\n",
       "      <td>1.4</td>\n",
       "      <td>0.2</td>\n",
       "    </tr>\n",
       "    <tr>\n",
       "      <th>...</th>\n",
       "      <td>...</td>\n",
       "      <td>...</td>\n",
       "      <td>...</td>\n",
       "      <td>...</td>\n",
       "    </tr>\n",
       "    <tr>\n",
       "      <th>145</th>\n",
       "      <td>6.7</td>\n",
       "      <td>3.0</td>\n",
       "      <td>5.2</td>\n",
       "      <td>2.3</td>\n",
       "    </tr>\n",
       "    <tr>\n",
       "      <th>146</th>\n",
       "      <td>6.3</td>\n",
       "      <td>2.5</td>\n",
       "      <td>5.0</td>\n",
       "      <td>1.9</td>\n",
       "    </tr>\n",
       "    <tr>\n",
       "      <th>147</th>\n",
       "      <td>6.5</td>\n",
       "      <td>3.0</td>\n",
       "      <td>5.2</td>\n",
       "      <td>2.0</td>\n",
       "    </tr>\n",
       "    <tr>\n",
       "      <th>148</th>\n",
       "      <td>6.2</td>\n",
       "      <td>3.4</td>\n",
       "      <td>5.4</td>\n",
       "      <td>2.3</td>\n",
       "    </tr>\n",
       "    <tr>\n",
       "      <th>149</th>\n",
       "      <td>5.9</td>\n",
       "      <td>3.0</td>\n",
       "      <td>5.1</td>\n",
       "      <td>1.8</td>\n",
       "    </tr>\n",
       "  </tbody>\n",
       "</table>\n",
       "<p>150 rows × 4 columns</p>\n",
       "</div>"
      ],
      "text/plain": [
       "     sepal length (cm)  sepal width (cm)  petal length (cm)  petal width (cm)\n",
       "0                  5.1               3.5                1.4               0.2\n",
       "1                  4.9               3.0                1.4               0.2\n",
       "2                  4.7               3.2                1.3               0.2\n",
       "3                  4.6               3.1                1.5               0.2\n",
       "4                  5.0               3.6                1.4               0.2\n",
       "..                 ...               ...                ...               ...\n",
       "145                6.7               3.0                5.2               2.3\n",
       "146                6.3               2.5                5.0               1.9\n",
       "147                6.5               3.0                5.2               2.0\n",
       "148                6.2               3.4                5.4               2.3\n",
       "149                5.9               3.0                5.1               1.8\n",
       "\n",
       "[150 rows x 4 columns]"
      ]
     },
     "execution_count": 27,
     "metadata": {},
     "output_type": "execute_result"
    }
   ],
   "source": [
    "iris_df = pd.DataFrame(iris.data, columns=iris.feature_names)\n",
    "iris_df"
   ]
  },
  {
   "cell_type": "code",
   "execution_count": 28,
   "id": "339de73c",
   "metadata": {},
   "outputs": [
    {
     "data": {
      "text/plain": [
       "5.843333333333335"
      ]
     },
     "execution_count": 28,
     "metadata": {},
     "output_type": "execute_result"
    }
   ],
   "source": [
    "iris_df['sepal length (cm)'].mean()"
   ]
  },
  {
   "cell_type": "code",
   "execution_count": 29,
   "id": "bf735e6d",
   "metadata": {},
   "outputs": [],
   "source": [
    "\n",
    "= pd.read_csv('https://forge.scilab.org/index.php/p/rdataset/source/file/master/csv/MASS/whiteside.csv')"
   ]
  },
  {
   "cell_type": "code",
   "execution_count": 30,
   "id": "0acee8ce",
   "metadata": {},
   "outputs": [
    {
     "data": {
      "text/plain": [
       "4.875"
      ]
     },
     "execution_count": 30,
     "metadata": {},
     "output_type": "execute_result"
    }
   ],
   "source": [
    "whiteside['Temp'].mean()"
   ]
  },
  {
   "cell_type": "code",
   "execution_count": 31,
   "id": "4ac675ac",
   "metadata": {},
   "outputs": [
    {
     "data": {
      "text/plain": [
       "'/Users/tweyde/Documents/projects/Textbook/binder-test/Python'"
      ]
     },
     "execution_count": 31,
     "metadata": {},
     "output_type": "execute_result"
    }
   ],
   "source": [
    "%pwd "
   ]
  },
  {
   "cell_type": "code",
   "execution_count": 32,
   "id": "1ee8484a",
   "metadata": {},
   "outputs": [
    {
     "name": "stdout",
     "output_type": "stream",
     "text": [
      "/Users/tweyde/Documents/projects/Textbook/binder-test/data\n"
     ]
    }
   ],
   "source": [
    "%cd ../data"
   ]
  },
  {
   "cell_type": "code",
   "execution_count": 33,
   "id": "601d4998",
   "metadata": {},
   "outputs": [],
   "source": [
    "whiteside = pd.read_csv('./whiteside.csv')"
   ]
  },
  {
   "cell_type": "code",
   "execution_count": 34,
   "id": "72ea0afe",
   "metadata": {},
   "outputs": [
    {
     "name": "stdout",
     "output_type": "stream",
     "text": [
      "48.2\n",
      "59.0\n"
     ]
    }
   ],
   "source": [
    "g1 = (34, 49, 64, 38, 60, 78, 67, 36, 19, 37)\n",
    "g2 = (77, 75, 78, 41, 51, 20, 61, 73, 76, 38)\n",
    "print(np.mean(g1))\n",
    "print(np.mean(g2))"
   ]
  },
  {
   "cell_type": "code",
   "execution_count": 35,
   "id": "31275139",
   "metadata": {},
   "outputs": [
    {
     "name": "stdout",
     "output_type": "stream",
     "text": [
      "48.2\n",
      "59.0\n"
     ]
    }
   ],
   "source": [
    "g1a = (34, 49, 64, 38, 60, 78, 67, 36, 19, 37)\n",
    "g2a = (34, 49, 64, 38, 60, 400, 67, 36, 19, 37)\n",
    "print(np.mean(g1))\n",
    "print(np.mean(g2))"
   ]
  },
  {
   "cell_type": "code",
   "execution_count": 36,
   "id": "e359663c",
   "metadata": {},
   "outputs": [
    {
     "name": "stdout",
     "output_type": "stream",
     "text": [
      "43.5\n",
      "43.5\n"
     ]
    }
   ],
   "source": [
    "print(np.median(g1a))\n",
    "print(np.median(g2a))"
   ]
  },
  {
   "cell_type": "code",
   "execution_count": 37,
   "id": "2b170b13",
   "metadata": {},
   "outputs": [
    {
     "data": {
      "text/plain": [
       "array([19, 34, 36, 37, 38, 49, 60, 64, 67, 78])"
      ]
     },
     "execution_count": 37,
     "metadata": {},
     "output_type": "execute_result"
    }
   ],
   "source": [
    "np.sort(g1a)"
   ]
  },
  {
   "cell_type": "code",
   "execution_count": 38,
   "id": "5555e011",
   "metadata": {},
   "outputs": [
    {
     "data": {
      "text/plain": [
       "340.4"
      ]
     },
     "execution_count": 38,
     "metadata": {},
     "output_type": "execute_result"
    }
   ],
   "source": [
    "np.var(g1,ddof=1)"
   ]
  },
  {
   "cell_type": "code",
   "execution_count": 39,
   "id": "e6b2913a",
   "metadata": {},
   "outputs": [
    {
     "data": {
      "text/plain": [
       "420.0"
      ]
     },
     "execution_count": 39,
     "metadata": {},
     "output_type": "execute_result"
    }
   ],
   "source": [
    "np.var(g2,ddof=1)"
   ]
  },
  {
   "cell_type": "code",
   "execution_count": 40,
   "id": "08599d75",
   "metadata": {},
   "outputs": [
    {
     "name": "stdout",
     "output_type": "stream",
     "text": [
      "18.4499322491981\n",
      "20.493901531919196\n"
     ]
    }
   ],
   "source": [
    "print(np.std(g1,ddof=1))\n",
    "print(np.std(g2,ddof=1))"
   ]
  },
  {
   "cell_type": "code",
   "execution_count": 41,
   "id": "5ad2f56a",
   "metadata": {},
   "outputs": [
    {
     "name": "stdout",
     "output_type": "stream",
     "text": [
      "0.38277867736925514\n",
      "0.3473542632528677\n"
     ]
    }
   ],
   "source": [
    "print(np.std(g1,ddof=1)/np.mean(g1))\n",
    "print(np.std(g2,ddof=1)/np.mean(g2))"
   ]
  },
  {
   "cell_type": "code",
   "execution_count": 42,
   "id": "9228d173",
   "metadata": {},
   "outputs": [
    {
     "name": "stdout",
     "output_type": "stream",
     "text": [
      "[4 4 4 4 4 4 4 4 4 4]\n"
     ]
    },
    {
     "data": {
      "text/plain": [
       "0.0"
      ]
     },
     "execution_count": 42,
     "metadata": {},
     "output_type": "execute_result"
    }
   ],
   "source": [
    "g3 = np.tile(4,10)\n",
    "print(g3)\n",
    "np.var(g3)"
   ]
  },
  {
   "cell_type": "code",
   "execution_count": 43,
   "id": "6ea541dc",
   "metadata": {},
   "outputs": [
    {
     "data": {
      "text/plain": [
       "array([-0.76965052,  0.04336059,  0.85637171, -0.55284756,  0.63956874,\n",
       "        1.61518208,  1.01897393, -0.66124904, -1.58266164, -0.6070483 ])"
      ]
     },
     "execution_count": 43,
     "metadata": {},
     "output_type": "execute_result"
    }
   ],
   "source": [
    "(g1-np.mean(g1))/np.std(g1,ddof=1)"
   ]
  },
  {
   "cell_type": "code",
   "execution_count": 44,
   "id": "9bd384fb",
   "metadata": {},
   "outputs": [
    {
     "data": {
      "text/plain": [
       "array([-0.76965052,  0.04336059,  0.85637171, -0.55284756,  0.63956874,\n",
       "        1.61518208,  1.01897393, -0.66124904, -1.58266164, -0.6070483 ])"
      ]
     },
     "execution_count": 44,
     "metadata": {},
     "output_type": "execute_result"
    }
   ],
   "source": [
    "from scipy import stats\n",
    "stats.zscore(g1,ddof=1)"
   ]
  },
  {
   "cell_type": "code",
   "execution_count": 45,
   "id": "5e002430",
   "metadata": {},
   "outputs": [
    {
     "data": {
      "text/plain": [
       "array([-0.40946419, -0.2770943 , -0.14472441, -0.37416555, -0.18002305,\n",
       "        2.82036111, -0.11825043, -0.39181487, -0.54183408, -0.38299021])"
      ]
     },
     "execution_count": 45,
     "metadata": {},
     "output_type": "execute_result"
    }
   ],
   "source": [
    "stats.zscore(g2a,ddof=1)"
   ]
  },
  {
   "cell_type": "code",
   "execution_count": 46,
   "id": "33aad38f",
   "metadata": {},
   "outputs": [
    {
     "name": "stdout",
     "output_type": "stream",
     "text": [
      "(34, 49, 64, 38, 60, 78, 67, 36, 19, 37)\n"
     ]
    },
    {
     "data": {
      "text/plain": [
       "array([36.25, 43.5 , 63.  ])"
      ]
     },
     "execution_count": 46,
     "metadata": {},
     "output_type": "execute_result"
    }
   ],
   "source": [
    "from scipy.stats.mstats import mquantiles\n",
    "print(g1)\n",
    "mquantiles(g1,alphap=1,betap=1)"
   ]
  },
  {
   "cell_type": "code",
   "execution_count": 47,
   "id": "d20de2c5",
   "metadata": {},
   "outputs": [
    {
     "data": {
      "text/plain": [
       "{'whiskers': [<matplotlib.lines.Line2D at 0x7fdbd8008ca0>,\n",
       "  <matplotlib.lines.Line2D at 0x7fdbd8013040>],\n",
       " 'caps': [<matplotlib.lines.Line2D at 0x7fdbd80133a0>,\n",
       "  <matplotlib.lines.Line2D at 0x7fdbd8013700>],\n",
       " 'boxes': [<matplotlib.lines.Line2D at 0x7fdbd8008940>],\n",
       " 'medians': [<matplotlib.lines.Line2D at 0x7fdbd8013a60>],\n",
       " 'fliers': [<matplotlib.lines.Line2D at 0x7fdbd8013dc0>],\n",
       " 'means': []}"
      ]
     },
     "execution_count": 47,
     "metadata": {},
     "output_type": "execute_result"
    },
    {
     "data": {
      "image/png": "[encoded data removed]",
      "text/plain": [
       "<Figure size 432x288 with 1 Axes>"
      ]
     },
     "metadata": {
      "needs_background": "light"
     },
     "output_type": "display_data"
    }
   ],
   "source": [
    "import matplotlib.pyplot as plt\n",
    "plt.boxplot(g1)"
   ]
  },
  {
   "cell_type": "code",
   "execution_count": 48,
   "id": "f9771eac",
   "metadata": {},
   "outputs": [
    {
     "name": "stdout",
     "output_type": "stream",
     "text": [
      "[[1.00566667e-02 6.77333333e-01]\n",
      " [6.77333333e-01 2.37866667e+02]]\n",
      "[[1.         0.43793396]\n",
      " [0.43793396 1.        ]]\n"
     ]
    }
   ],
   "source": [
    "print(np.cov(df['height'],df['weight']))\n",
    "print(np.corrcoef(df['height'],df['weight']))"
   ]
  }
 ],
 "metadata": {
  "interpreter": {
   "hash": "569d6b7e9215e11aba41c6454007e5c1b78bad7df09dab765d8cf00362c40f03"
  },
  "kernelspec": {
   "display_name": "Python 3",
   "language": "python",
   "name": "python3"
  },
  "language_info": {
   "codemirror_mode": {
    "name": "ipython",
    "version": 3
   },
   "file_extension": ".py",
   "mimetype": "text/x-python",
   "name": "python",
   "nbconvert_exporter": "python",
   "pygments_lexer": "ipython3",
   "version": "3.8.8"
  },
  "toc-autonumbering": true,
  "toc-showcode": false,
  "toc-showmarkdowntxt": false,
  "toc-showtags": false
 },
 "nbformat": 4,
 "nbformat_minor": 5
}
