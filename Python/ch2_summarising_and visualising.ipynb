{
 "cells": [
  {
   "cell_type": "markdown",
   "metadata": {},
   "source": [
    "# Summarizing and Visualizing "
   ]
  },
  {
   "cell_type": "markdown",
   "metadata": {},
   "source": [
    "Let us begin with simple computations in Python using +,-,* and / operators and functions."
   ]
  },
  {
   "cell_type": "code",
   "execution_count": 13,
   "metadata": {},
   "outputs": [
    {
     "data": {
      "text/html": [
       "<div>\n",
       "<style scoped>\n",
       "    .dataframe tbody tr th:only-of-type {\n",
       "        vertical-align: middle;\n",
       "    }\n",
       "\n",
       "    .dataframe tbody tr th {\n",
       "        vertical-align: top;\n",
       "    }\n",
       "\n",
       "    .dataframe thead th {\n",
       "        text-align: right;\n",
       "    }\n",
       "</style>\n",
       "<table border=\"1\" class=\"dataframe\">\n",
       "  <thead>\n",
       "    <tr style=\"text-align: right;\">\n",
       "      <th></th>\n",
       "      <th>gender</th>\n",
       "      <th>height</th>\n",
       "      <th>weight</th>\n",
       "    </tr>\n",
       "  </thead>\n",
       "  <tbody>\n",
       "    <tr>\n",
       "      <th>0</th>\n",
       "      <td>m</td>\n",
       "      <td>1.75</td>\n",
       "      <td>60</td>\n",
       "    </tr>\n",
       "    <tr>\n",
       "      <th>1</th>\n",
       "      <td>f</td>\n",
       "      <td>1.80</td>\n",
       "      <td>72</td>\n",
       "    </tr>\n",
       "    <tr>\n",
       "      <th>2</th>\n",
       "      <td>m</td>\n",
       "      <td>1.65</td>\n",
       "      <td>57</td>\n",
       "    </tr>\n",
       "    <tr>\n",
       "      <th>3</th>\n",
       "      <td>f</td>\n",
       "      <td>1.90</td>\n",
       "      <td>90</td>\n",
       "    </tr>\n",
       "    <tr>\n",
       "      <th>4</th>\n",
       "      <td>f</td>\n",
       "      <td>1.74</td>\n",
       "      <td>95</td>\n",
       "    </tr>\n",
       "    <tr>\n",
       "      <th>5</th>\n",
       "      <td>m</td>\n",
       "      <td>1.91</td>\n",
       "      <td>72</td>\n",
       "    </tr>\n",
       "  </tbody>\n",
       "</table>\n",
       "</div>"
      ],
      "text/plain": [
       "  gender  height  weight\n",
       "0      m    1.75      60\n",
       "1      f    1.80      72\n",
       "2      m    1.65      57\n",
       "3      f    1.90      90\n",
       "4      f    1.74      95\n",
       "5      m    1.91      72"
      ]
     },
     "execution_count": 13,
     "metadata": {},
     "output_type": "execute_result"
    }
   ],
   "source": [
    "import numpy as np\n",
    "import pandas as pd\n",
    "\n",
    "weight = np.array([60,72,57,90,95,72])\n",
    "height = np.array([1.75,1.8,1.65,1.9,1.74,1.91])\n",
    "gender = np.array([\"m\",\"f\",\"m\",\"f\",\"f\",\"m\"])\n",
    "ghw  = pd.DataFrame({\"gender\":gender,\"height\":height,\"weight\":weight})\n",
    "ghw"
   ]
  },
  {
   "cell_type": "code",
   "execution_count": 14,
   "metadata": {},
   "outputs": [
    {
     "data": {
      "text/plain": [
       "'m'"
      ]
     },
     "execution_count": 14,
     "metadata": {},
     "output_type": "execute_result"
    }
   ],
   "source": [
    "ghw.iloc[0,0]"
   ]
  },
  {
   "cell_type": "markdown",
   "metadata": {},
   "source": [
    "Commonly used functions like sqrt(),exp(), and log() are made available in the `math` package."
   ]
  },
  {
   "cell_type": "code",
   "execution_count": 15,
   "metadata": {},
   "outputs": [
    {
     "name": "stdout",
     "output_type": "stream",
     "text": [
      "   height  weight\n",
      "0    1.75      60\n",
      "1    1.80      72\n",
      "2    1.65      57\n",
      "3    1.90      90\n",
      "4    1.74      95\n",
      "5    1.91      72\n"
     ]
    }
   ],
   "source": [
    "print(ghw.iloc[:,1:3])"
   ]
  },
  {
   "cell_type": "code",
   "execution_count": 16,
   "metadata": {},
   "outputs": [
    {
     "data": {
      "text/html": [
       "<div>\n",
       "<style scoped>\n",
       "    .dataframe tbody tr th:only-of-type {\n",
       "        vertical-align: middle;\n",
       "    }\n",
       "\n",
       "    .dataframe tbody tr th {\n",
       "        vertical-align: top;\n",
       "    }\n",
       "\n",
       "    .dataframe thead th {\n",
       "        text-align: right;\n",
       "    }\n",
       "</style>\n",
       "<table border=\"1\" class=\"dataframe\">\n",
       "  <thead>\n",
       "    <tr style=\"text-align: right;\">\n",
       "      <th></th>\n",
       "      <th>gender</th>\n",
       "      <th>height</th>\n",
       "      <th>weight</th>\n",
       "    </tr>\n",
       "  </thead>\n",
       "  <tbody>\n",
       "    <tr>\n",
       "      <th>1</th>\n",
       "      <td>f</td>\n",
       "      <td>1.80</td>\n",
       "      <td>72</td>\n",
       "    </tr>\n",
       "    <tr>\n",
       "      <th>2</th>\n",
       "      <td>m</td>\n",
       "      <td>1.65</td>\n",
       "      <td>57</td>\n",
       "    </tr>\n",
       "    <tr>\n",
       "      <th>3</th>\n",
       "      <td>f</td>\n",
       "      <td>1.90</td>\n",
       "      <td>90</td>\n",
       "    </tr>\n",
       "    <tr>\n",
       "      <th>4</th>\n",
       "      <td>f</td>\n",
       "      <td>1.74</td>\n",
       "      <td>95</td>\n",
       "    </tr>\n",
       "  </tbody>\n",
       "</table>\n",
       "</div>"
      ],
      "text/plain": [
       "  gender  height  weight\n",
       "1      f    1.80      72\n",
       "2      m    1.65      57\n",
       "3      f    1.90      90\n",
       "4      f    1.74      95"
      ]
     },
     "execution_count": 16,
     "metadata": {},
     "output_type": "execute_result"
    }
   ],
   "source": [
    "ghw.iloc[1:5,:]"
   ]
  },
  {
   "cell_type": "code",
   "execution_count": 17,
   "metadata": {},
   "outputs": [
    {
     "data": {
      "text/plain": [
       "0    m\n",
       "1    f\n",
       "2    m\n",
       "3    f\n",
       "4    f\n",
       "5    m\n",
       "Name: gender, dtype: object"
      ]
     },
     "execution_count": 17,
     "metadata": {},
     "output_type": "execute_result"
    }
   ],
   "source": [
    "ghw.iloc[:,0]"
   ]
  },
  {
   "cell_type": "code",
   "execution_count": 18,
   "metadata": {},
   "outputs": [
    {
     "data": {
      "text/html": [
       "<div>\n",
       "<style scoped>\n",
       "    .dataframe tbody tr th:only-of-type {\n",
       "        vertical-align: middle;\n",
       "    }\n",
       "\n",
       "    .dataframe tbody tr th {\n",
       "        vertical-align: top;\n",
       "    }\n",
       "\n",
       "    .dataframe thead th {\n",
       "        text-align: right;\n",
       "    }\n",
       "</style>\n",
       "<table border=\"1\" class=\"dataframe\">\n",
       "  <thead>\n",
       "    <tr style=\"text-align: right;\">\n",
       "      <th></th>\n",
       "      <th>height</th>\n",
       "      <th>weight</th>\n",
       "    </tr>\n",
       "  </thead>\n",
       "  <tbody>\n",
       "    <tr>\n",
       "      <th>0</th>\n",
       "      <td>1.75</td>\n",
       "      <td>60</td>\n",
       "    </tr>\n",
       "    <tr>\n",
       "      <th>2</th>\n",
       "      <td>1.65</td>\n",
       "      <td>57</td>\n",
       "    </tr>\n",
       "    <tr>\n",
       "      <th>5</th>\n",
       "      <td>1.91</td>\n",
       "      <td>72</td>\n",
       "    </tr>\n",
       "  </tbody>\n",
       "</table>\n",
       "</div>"
      ],
      "text/plain": [
       "   height  weight\n",
       "0    1.75      60\n",
       "2    1.65      57\n",
       "5    1.91      72"
      ]
     },
     "execution_count": 18,
     "metadata": {},
     "output_type": "execute_result"
    }
   ],
   "source": [
    "ghw.iloc[[0,2,5],1:3]"
   ]
  },
  {
   "cell_type": "code",
   "execution_count": 19,
   "metadata": {},
   "outputs": [
    {
     "data": {
      "text/plain": [
       "(3, 3)"
      ]
     },
     "execution_count": 19,
     "metadata": {},
     "output_type": "execute_result"
    }
   ],
   "source": [
    "x = ghw.iloc[0:3,:]\n",
    "x.shape"
   ]
  },
  {
   "cell_type": "code",
   "execution_count": 20,
   "metadata": {},
   "outputs": [
    {
     "ename": "ZeroDivisionError",
     "evalue": "division by zero",
     "output_type": "error",
     "traceback": [
      "\u001b[0;31m---------------------------------------------------------------------------\u001b[0m",
      "\u001b[0;31mZeroDivisionError\u001b[0m                         Traceback (most recent call last)",
      "\u001b[0;32m/var/folders/j_/122h77c562dczctc6d7kv9mc0000gr/T/ipykernel_14859/182040962.py\u001b[0m in \u001b[0;36m<module>\u001b[0;34m\u001b[0m\n\u001b[0;32m----> 1\u001b[0;31m \u001b[0;36m0\u001b[0m\u001b[0;34m/\u001b[0m\u001b[0;36m0\u001b[0m\u001b[0;34m\u001b[0m\u001b[0;34m\u001b[0m\u001b[0m\n\u001b[0m",
      "\u001b[0;31mZeroDivisionError\u001b[0m: division by zero"
     ]
    }
   ],
   "source": [
    "0/0"
   ]
  },
  {
   "cell_type": "code",
   "execution_count": 21,
   "metadata": {},
   "outputs": [
    {
     "data": {
      "text/plain": [
       "0"
      ]
     },
     "execution_count": 21,
     "metadata": {},
     "output_type": "execute_result"
    }
   ],
   "source": [
    "y = 0\n",
    "0 if y == 0 or np.isnan(y) else x/y \n",
    "#0 if y == 0  else x/y"
   ]
  },
  {
   "cell_type": "code",
   "execution_count": 22,
   "metadata": {},
   "outputs": [
    {
     "name": "stdout",
     "output_type": "stream",
     "text": [
      "   a  b\n",
      "0  0  2\n",
      "1 -1  3\n",
      "     a    b\n",
      "0  NaN  inf\n",
      "1 -inf  inf\n"
     ]
    }
   ],
   "source": [
    "df = pd.DataFrame({'a': [0,-1], 'b': [2,3]})\n",
    "print(df)\n",
    "df /= 0\n",
    "print(df)"
   ]
  },
  {
   "cell_type": "code",
   "execution_count": 23,
   "metadata": {},
   "outputs": [
    {
     "data": {
      "text/plain": [
       "0     True\n",
       "1    False\n",
       "Name: a, dtype: bool"
      ]
     },
     "execution_count": 23,
     "metadata": {},
     "output_type": "execute_result"
    }
   ],
   "source": [
    "df['a'].isna()"
   ]
  },
  {
   "cell_type": "code",
   "execution_count": 24,
   "metadata": {},
   "outputs": [
    {
     "data": {
      "text/html": [
       "<div>\n",
       "<style scoped>\n",
       "    .dataframe tbody tr th:only-of-type {\n",
       "        vertical-align: middle;\n",
       "    }\n",
       "\n",
       "    .dataframe tbody tr th {\n",
       "        vertical-align: top;\n",
       "    }\n",
       "\n",
       "    .dataframe thead th {\n",
       "        text-align: right;\n",
       "    }\n",
       "</style>\n",
       "<table border=\"1\" class=\"dataframe\">\n",
       "  <thead>\n",
       "    <tr style=\"text-align: right;\">\n",
       "      <th></th>\n",
       "      <th>a</th>\n",
       "      <th>b</th>\n",
       "    </tr>\n",
       "  </thead>\n",
       "  <tbody>\n",
       "    <tr>\n",
       "      <th>0</th>\n",
       "      <td>1</td>\n",
       "      <td>3</td>\n",
       "    </tr>\n",
       "    <tr>\n",
       "      <th>1</th>\n",
       "      <td>2</td>\n",
       "      <td>4</td>\n",
       "    </tr>\n",
       "  </tbody>\n",
       "</table>\n",
       "</div>"
      ],
      "text/plain": [
       "   a  b\n",
       "0  1  3\n",
       "1  2  4"
      ]
     },
     "metadata": {},
     "output_type": "display_data"
    },
    {
     "data": {
      "text/html": [
       "<div>\n",
       "<style scoped>\n",
       "    .dataframe tbody tr th:only-of-type {\n",
       "        vertical-align: middle;\n",
       "    }\n",
       "\n",
       "    .dataframe tbody tr th {\n",
       "        vertical-align: top;\n",
       "    }\n",
       "\n",
       "    .dataframe thead th {\n",
       "        text-align: right;\n",
       "    }\n",
       "</style>\n",
       "<table border=\"1\" class=\"dataframe\">\n",
       "  <thead>\n",
       "    <tr style=\"text-align: right;\">\n",
       "      <th></th>\n",
       "      <th>a</th>\n",
       "      <th>b</th>\n",
       "    </tr>\n",
       "  </thead>\n",
       "  <tbody>\n",
       "    <tr>\n",
       "      <th>x</th>\n",
       "      <td>NaN</td>\n",
       "      <td>NaN</td>\n",
       "    </tr>\n",
       "  </tbody>\n",
       "</table>\n",
       "</div>"
      ],
      "text/plain": [
       "    a   b\n",
       "x NaN NaN"
      ]
     },
     "execution_count": 24,
     "metadata": {},
     "output_type": "execute_result"
    }
   ],
   "source": [
    "df = pd.DataFrame({'a': [1,2], 'b': [3,4]})\n",
    "display(df)\n",
    "df2 = df.reindex(['x'])\n",
    "df2"
   ]
  },
  {
   "cell_type": "code",
   "execution_count": 25,
   "metadata": {},
   "outputs": [
    {
     "data": {
      "text/plain": [
       "True"
      ]
     },
     "execution_count": 25,
     "metadata": {},
     "output_type": "execute_result"
    }
   ],
   "source": [
    "x = True\n",
    "not not 2<=2"
   ]
  },
  {
   "cell_type": "markdown",
   "metadata": {},
   "source": [
    "## Specifiying Conditions"
   ]
  },
  {
   "cell_type": "code",
   "execution_count": 26,
   "metadata": {},
   "outputs": [
    {
     "data": {
      "text/html": [
       "<div>\n",
       "<style scoped>\n",
       "    .dataframe tbody tr th:only-of-type {\n",
       "        vertical-align: middle;\n",
       "    }\n",
       "\n",
       "    .dataframe tbody tr th {\n",
       "        vertical-align: top;\n",
       "    }\n",
       "\n",
       "    .dataframe thead th {\n",
       "        text-align: right;\n",
       "    }\n",
       "</style>\n",
       "<table border=\"1\" class=\"dataframe\">\n",
       "  <thead>\n",
       "    <tr style=\"text-align: right;\">\n",
       "      <th></th>\n",
       "      <th>id</th>\n",
       "      <th>gender</th>\n",
       "      <th>math</th>\n",
       "      <th>prog</th>\n",
       "      <th>daysabs</th>\n",
       "    </tr>\n",
       "  </thead>\n",
       "  <tbody>\n",
       "    <tr>\n",
       "      <th>0</th>\n",
       "      <td>1001</td>\n",
       "      <td>0</td>\n",
       "      <td>63</td>\n",
       "      <td>2</td>\n",
       "      <td>4</td>\n",
       "    </tr>\n",
       "    <tr>\n",
       "      <th>1</th>\n",
       "      <td>1002</td>\n",
       "      <td>0</td>\n",
       "      <td>27</td>\n",
       "      <td>2</td>\n",
       "      <td>4</td>\n",
       "    </tr>\n",
       "    <tr>\n",
       "      <th>2</th>\n",
       "      <td>1003</td>\n",
       "      <td>1</td>\n",
       "      <td>20</td>\n",
       "      <td>2</td>\n",
       "      <td>2</td>\n",
       "    </tr>\n",
       "    <tr>\n",
       "      <th>3</th>\n",
       "      <td>1004</td>\n",
       "      <td>1</td>\n",
       "      <td>16</td>\n",
       "      <td>2</td>\n",
       "      <td>3</td>\n",
       "    </tr>\n",
       "    <tr>\n",
       "      <th>4</th>\n",
       "      <td>1005</td>\n",
       "      <td>1</td>\n",
       "      <td>2</td>\n",
       "      <td>2</td>\n",
       "      <td>3</td>\n",
       "    </tr>\n",
       "  </tbody>\n",
       "</table>\n",
       "</div>"
      ],
      "text/plain": [
       "     id  gender  math  prog  daysabs\n",
       "0  1001       0    63     2        4\n",
       "1  1002       0    27     2        4\n",
       "2  1003       1    20     2        2\n",
       "3  1004       1    16     2        3\n",
       "4  1005       1     2     2        3"
      ]
     },
     "execution_count": 26,
     "metadata": {},
     "output_type": "execute_result"
    }
   ],
   "source": [
    "student = pd.read_csv(\"../data/student.csv\")\n",
    "student.head()"
   ]
  },
  {
   "cell_type": "code",
   "execution_count": 27,
   "metadata": {},
   "outputs": [
    {
     "name": "stdout",
     "output_type": "stream",
     "text": [
      "      id  gender  math  prog  daysabs\n",
      "15  1016       0    89     2        0\n",
      "17  1018       1    35     2        0\n",
      "21  1022       0    61     2        0\n",
      "23  1024       0    63     2        0\n",
      "27  1028       1    21     2        0\n"
     ]
    }
   ],
   "source": [
    "x1 = student[student['daysabs']==0]\n",
    "print(x1.head())"
   ]
  },
  {
   "cell_type": "code",
   "execution_count": 28,
   "metadata": {},
   "outputs": [
    {
     "name": "stdout",
     "output_type": "stream",
     "text": [
      "      id  gender  math  prog  daysabs\n",
      "15  1016       0    89     2        0\n",
      "21  1022       0    61     2        0\n",
      "23  1024       0    63     2        0\n",
      "34  1035       0    68     2        0\n",
      "70  1071       0    72     2        0\n"
     ]
    }
   ],
   "source": [
    "x2 = student[(student['daysabs']==0) & (student['math']>60)]\n",
    "print(x2.head())"
   ]
  },
  {
   "cell_type": "code",
   "execution_count": 29,
   "metadata": {},
   "outputs": [
    {
     "data": {
      "text/plain": [
       "0      False\n",
       "1      False\n",
       "2      False\n",
       "3      False\n",
       "4      False\n",
       "       ...  \n",
       "309    False\n",
       "310    False\n",
       "311    False\n",
       "312    False\n",
       "313    False\n",
       "Length: 314, dtype: bool"
      ]
     },
     "execution_count": 29,
     "metadata": {},
     "output_type": "execute_result"
    }
   ],
   "source": [
    "f1 = (student['gender']==0) & (student['prog']==3) & (student['math']>60)\n",
    "f1"
   ]
  },
  {
   "cell_type": "code",
   "execution_count": 30,
   "metadata": {},
   "outputs": [
    {
     "name": "stdout",
     "output_type": "stream",
     "text": [
      "       id  gender  math  prog  daysabs\n",
      "88   1089       0    84     3        4\n",
      "164  2007       0    71     3        0\n",
      "166  2009       0    71     3        0\n",
      "168  2011       0    77     3        2\n",
      "172  2015       0    65     3        1\n"
     ]
    }
   ],
   "source": [
    "x3 = student[f1]\n",
    "print(x3.head())"
   ]
  },
  {
   "cell_type": "markdown",
   "metadata": {},
   "source": [
    "## Factor Variables"
   ]
  },
  {
   "cell_type": "code",
   "execution_count": 31,
   "metadata": {},
   "outputs": [
    {
     "data": {
      "text/html": [
       "<div>\n",
       "<style scoped>\n",
       "    .dataframe tbody tr th:only-of-type {\n",
       "        vertical-align: middle;\n",
       "    }\n",
       "\n",
       "    .dataframe tbody tr th {\n",
       "        vertical-align: top;\n",
       "    }\n",
       "\n",
       "    .dataframe thead th {\n",
       "        text-align: right;\n",
       "    }\n",
       "</style>\n",
       "<table border=\"1\" class=\"dataframe\">\n",
       "  <thead>\n",
       "    <tr style=\"text-align: right;\">\n",
       "      <th></th>\n",
       "      <th>Unnamed: 0</th>\n",
       "      <th>ID</th>\n",
       "      <th>Treatment</th>\n",
       "      <th>Sex</th>\n",
       "      <th>Age</th>\n",
       "      <th>Improved</th>\n",
       "    </tr>\n",
       "  </thead>\n",
       "  <tbody>\n",
       "    <tr>\n",
       "      <th>0</th>\n",
       "      <td>1</td>\n",
       "      <td>57</td>\n",
       "      <td>Treated</td>\n",
       "      <td>Male</td>\n",
       "      <td>27</td>\n",
       "      <td>Some</td>\n",
       "    </tr>\n",
       "    <tr>\n",
       "      <th>1</th>\n",
       "      <td>2</td>\n",
       "      <td>46</td>\n",
       "      <td>Treated</td>\n",
       "      <td>Male</td>\n",
       "      <td>29</td>\n",
       "      <td>None</td>\n",
       "    </tr>\n",
       "    <tr>\n",
       "      <th>2</th>\n",
       "      <td>3</td>\n",
       "      <td>77</td>\n",
       "      <td>Treated</td>\n",
       "      <td>Male</td>\n",
       "      <td>30</td>\n",
       "      <td>None</td>\n",
       "    </tr>\n",
       "    <tr>\n",
       "      <th>3</th>\n",
       "      <td>4</td>\n",
       "      <td>17</td>\n",
       "      <td>Treated</td>\n",
       "      <td>Male</td>\n",
       "      <td>32</td>\n",
       "      <td>Marked</td>\n",
       "    </tr>\n",
       "    <tr>\n",
       "      <th>4</th>\n",
       "      <td>5</td>\n",
       "      <td>36</td>\n",
       "      <td>Treated</td>\n",
       "      <td>Male</td>\n",
       "      <td>46</td>\n",
       "      <td>Marked</td>\n",
       "    </tr>\n",
       "  </tbody>\n",
       "</table>\n",
       "</div>"
      ],
      "text/plain": [
       "   Unnamed: 0  ID Treatment   Sex  Age Improved\n",
       "0           1  57   Treated  Male   27     Some\n",
       "1           2  46   Treated  Male   29     None\n",
       "2           3  77   Treated  Male   30     None\n",
       "3           4  17   Treated  Male   32   Marked\n",
       "4           5  36   Treated  Male   46   Marked"
      ]
     },
     "execution_count": 31,
     "metadata": {},
     "output_type": "execute_result"
    }
   ],
   "source": [
    "arthritis = pd.read_csv(\"../data/Arthritis.csv\")\n",
    "arthritis.head()"
   ]
  },
  {
   "cell_type": "code",
   "execution_count": 32,
   "metadata": {},
   "outputs": [
    {
     "data": {
      "text/plain": [
       "Female    59\n",
       "Male      25\n",
       "Name: Sex, dtype: int64"
      ]
     },
     "execution_count": 32,
     "metadata": {},
     "output_type": "execute_result"
    }
   ],
   "source": [
    "arthritis['Sex'].value_counts()"
   ]
  },
  {
   "cell_type": "code",
   "execution_count": 33,
   "metadata": {},
   "outputs": [
    {
     "data": {
      "text/html": [
       "<div>\n",
       "<style scoped>\n",
       "    .dataframe tbody tr th:only-of-type {\n",
       "        vertical-align: middle;\n",
       "    }\n",
       "\n",
       "    .dataframe tbody tr th {\n",
       "        vertical-align: top;\n",
       "    }\n",
       "\n",
       "    .dataframe thead th {\n",
       "        text-align: right;\n",
       "    }\n",
       "</style>\n",
       "<table border=\"1\" class=\"dataframe\">\n",
       "  <thead>\n",
       "    <tr style=\"text-align: right;\">\n",
       "      <th>Improved</th>\n",
       "      <th>Marked</th>\n",
       "      <th>None</th>\n",
       "      <th>Some</th>\n",
       "    </tr>\n",
       "    <tr>\n",
       "      <th>Treatment</th>\n",
       "      <th></th>\n",
       "      <th></th>\n",
       "      <th></th>\n",
       "    </tr>\n",
       "  </thead>\n",
       "  <tbody>\n",
       "    <tr>\n",
       "      <th>Placebo</th>\n",
       "      <td>7</td>\n",
       "      <td>29</td>\n",
       "      <td>7</td>\n",
       "    </tr>\n",
       "    <tr>\n",
       "      <th>Treated</th>\n",
       "      <td>21</td>\n",
       "      <td>13</td>\n",
       "      <td>7</td>\n",
       "    </tr>\n",
       "  </tbody>\n",
       "</table>\n",
       "</div>"
      ],
      "text/plain": [
       "Improved   Marked  None  Some\n",
       "Treatment                    \n",
       "Placebo         7    29     7\n",
       "Treated        21    13     7"
      ]
     },
     "execution_count": 33,
     "metadata": {},
     "output_type": "execute_result"
    }
   ],
   "source": [
    "arthritis[['Treatment','Improved']].value_counts().unstack()"
   ]
  },
  {
   "cell_type": "code",
   "execution_count": 34,
   "metadata": {},
   "outputs": [
    {
     "data": {
      "text/html": [
       "<div>\n",
       "<style scoped>\n",
       "    .dataframe tbody tr th:only-of-type {\n",
       "        vertical-align: middle;\n",
       "    }\n",
       "\n",
       "    .dataframe tbody tr th {\n",
       "        vertical-align: top;\n",
       "    }\n",
       "\n",
       "    .dataframe thead th {\n",
       "        text-align: right;\n",
       "    }\n",
       "</style>\n",
       "<table border=\"1\" class=\"dataframe\">\n",
       "  <thead>\n",
       "    <tr style=\"text-align: right;\">\n",
       "      <th>Improved</th>\n",
       "      <th>Marked</th>\n",
       "      <th>None</th>\n",
       "      <th>Some</th>\n",
       "    </tr>\n",
       "    <tr>\n",
       "      <th>Treatment</th>\n",
       "      <th></th>\n",
       "      <th></th>\n",
       "      <th></th>\n",
       "    </tr>\n",
       "  </thead>\n",
       "  <tbody>\n",
       "    <tr>\n",
       "      <th>Placebo</th>\n",
       "      <td>0.083333</td>\n",
       "      <td>0.345238</td>\n",
       "      <td>0.083333</td>\n",
       "    </tr>\n",
       "    <tr>\n",
       "      <th>Treated</th>\n",
       "      <td>0.250000</td>\n",
       "      <td>0.154762</td>\n",
       "      <td>0.083333</td>\n",
       "    </tr>\n",
       "  </tbody>\n",
       "</table>\n",
       "</div>"
      ],
      "text/plain": [
       "Improved     Marked      None      Some\n",
       "Treatment                              \n",
       "Placebo    0.083333  0.345238  0.083333\n",
       "Treated    0.250000  0.154762  0.083333"
      ]
     },
     "execution_count": 34,
     "metadata": {},
     "output_type": "execute_result"
    }
   ],
   "source": [
    "arthritis[['Treatment','Improved']].value_counts(normalize=True).unstack()"
   ]
  },
  {
   "cell_type": "code",
   "execution_count": 35,
   "metadata": {},
   "outputs": [
    {
     "data": {
      "text/html": [
       "<div>\n",
       "<style scoped>\n",
       "    .dataframe tbody tr th:only-of-type {\n",
       "        vertical-align: middle;\n",
       "    }\n",
       "\n",
       "    .dataframe tbody tr th {\n",
       "        vertical-align: top;\n",
       "    }\n",
       "\n",
       "    .dataframe thead th {\n",
       "        text-align: right;\n",
       "    }\n",
       "</style>\n",
       "<table border=\"1\" class=\"dataframe\">\n",
       "  <thead>\n",
       "    <tr style=\"text-align: right;\">\n",
       "      <th>Treatment</th>\n",
       "      <th>Placebo</th>\n",
       "      <th>Treated</th>\n",
       "    </tr>\n",
       "    <tr>\n",
       "      <th>Improved</th>\n",
       "      <th></th>\n",
       "      <th></th>\n",
       "    </tr>\n",
       "  </thead>\n",
       "  <tbody>\n",
       "    <tr>\n",
       "      <th>Marked</th>\n",
       "      <td>0.250000</td>\n",
       "      <td>0.750000</td>\n",
       "    </tr>\n",
       "    <tr>\n",
       "      <th>None</th>\n",
       "      <td>0.690476</td>\n",
       "      <td>0.309524</td>\n",
       "    </tr>\n",
       "    <tr>\n",
       "      <th>Some</th>\n",
       "      <td>0.500000</td>\n",
       "      <td>0.500000</td>\n",
       "    </tr>\n",
       "  </tbody>\n",
       "</table>\n",
       "</div>"
      ],
      "text/plain": [
       "Treatment   Placebo   Treated\n",
       "Improved                     \n",
       "Marked     0.250000  0.750000\n",
       "None       0.690476  0.309524\n",
       "Some       0.500000  0.500000"
      ]
     },
     "execution_count": 35,
     "metadata": {},
     "output_type": "execute_result"
    }
   ],
   "source": [
    "arthritis.groupby('Improved')['Treatment'].value_counts(normalize=True).unstack()"
   ]
  },
  {
   "cell_type": "code",
   "execution_count": 36,
   "metadata": {},
   "outputs": [
    {
     "data": {
      "text/html": [
       "<div>\n",
       "<style scoped>\n",
       "    .dataframe tbody tr th:only-of-type {\n",
       "        vertical-align: middle;\n",
       "    }\n",
       "\n",
       "    .dataframe tbody tr th {\n",
       "        vertical-align: top;\n",
       "    }\n",
       "\n",
       "    .dataframe thead th {\n",
       "        text-align: right;\n",
       "    }\n",
       "</style>\n",
       "<table border=\"1\" class=\"dataframe\">\n",
       "  <thead>\n",
       "    <tr style=\"text-align: right;\">\n",
       "      <th>Improved</th>\n",
       "      <th>Marked</th>\n",
       "      <th>None</th>\n",
       "      <th>Some</th>\n",
       "    </tr>\n",
       "    <tr>\n",
       "      <th>Treatment</th>\n",
       "      <th></th>\n",
       "      <th></th>\n",
       "      <th></th>\n",
       "    </tr>\n",
       "  </thead>\n",
       "  <tbody>\n",
       "    <tr>\n",
       "      <th>Placebo</th>\n",
       "      <td>0.162791</td>\n",
       "      <td>0.674419</td>\n",
       "      <td>0.162791</td>\n",
       "    </tr>\n",
       "    <tr>\n",
       "      <th>Treated</th>\n",
       "      <td>0.512195</td>\n",
       "      <td>0.317073</td>\n",
       "      <td>0.170732</td>\n",
       "    </tr>\n",
       "  </tbody>\n",
       "</table>\n",
       "</div>"
      ],
      "text/plain": [
       "Improved     Marked      None      Some\n",
       "Treatment                              \n",
       "Placebo    0.162791  0.674419  0.162791\n",
       "Treated    0.512195  0.317073  0.170732"
      ]
     },
     "execution_count": 36,
     "metadata": {},
     "output_type": "execute_result"
    }
   ],
   "source": [
    "arthritis.groupby('Treatment')['Improved'].value_counts(normalize=True).unstack()"
   ]
  },
  {
   "cell_type": "code",
   "execution_count": 37,
   "metadata": {},
   "outputs": [
    {
     "data": {
      "text/html": [
       "<div>\n",
       "<style scoped>\n",
       "    .dataframe tbody tr th:only-of-type {\n",
       "        vertical-align: middle;\n",
       "    }\n",
       "\n",
       "    .dataframe tbody tr th {\n",
       "        vertical-align: top;\n",
       "    }\n",
       "\n",
       "    .dataframe thead th {\n",
       "        text-align: right;\n",
       "    }\n",
       "</style>\n",
       "<table border=\"1\" class=\"dataframe\">\n",
       "  <thead>\n",
       "    <tr style=\"text-align: right;\">\n",
       "      <th></th>\n",
       "      <th>Improved</th>\n",
       "      <th>None</th>\n",
       "      <th>Some</th>\n",
       "      <th>Marked</th>\n",
       "    </tr>\n",
       "    <tr>\n",
       "      <th>Sex</th>\n",
       "      <th>Treatment</th>\n",
       "      <th></th>\n",
       "      <th></th>\n",
       "      <th></th>\n",
       "    </tr>\n",
       "  </thead>\n",
       "  <tbody>\n",
       "    <tr>\n",
       "      <th rowspan=\"2\" valign=\"top\">Female</th>\n",
       "      <th>Placebo</th>\n",
       "      <td>19.0</td>\n",
       "      <td>7.0</td>\n",
       "      <td>6.0</td>\n",
       "    </tr>\n",
       "    <tr>\n",
       "      <th>Treated</th>\n",
       "      <td>6.0</td>\n",
       "      <td>5.0</td>\n",
       "      <td>16.0</td>\n",
       "    </tr>\n",
       "    <tr>\n",
       "      <th rowspan=\"2\" valign=\"top\">Male</th>\n",
       "      <th>Placebo</th>\n",
       "      <td>10.0</td>\n",
       "      <td>NaN</td>\n",
       "      <td>1.0</td>\n",
       "    </tr>\n",
       "    <tr>\n",
       "      <th>Treated</th>\n",
       "      <td>7.0</td>\n",
       "      <td>2.0</td>\n",
       "      <td>5.0</td>\n",
       "    </tr>\n",
       "  </tbody>\n",
       "</table>\n",
       "</div>"
      ],
      "text/plain": [
       "Improved          None  Some  Marked\n",
       "Sex    Treatment                    \n",
       "Female Placebo    19.0   7.0     6.0\n",
       "       Treated     6.0   5.0    16.0\n",
       "Male   Placebo    10.0   NaN     1.0\n",
       "       Treated     7.0   2.0     5.0"
      ]
     },
     "execution_count": 37,
     "metadata": {},
     "output_type": "execute_result"
    }
   ],
   "source": [
    "df3 = arthritis[['Sex','Treatment','Improved']].value_counts().unstack()[['None','Some','Marked']]\n",
    "df3"
   ]
  },
  {
   "cell_type": "code",
   "execution_count": 38,
   "metadata": {},
   "outputs": [
    {
     "data": {
      "text/html": [
       "<div>\n",
       "<style scoped>\n",
       "    .dataframe tbody tr th:only-of-type {\n",
       "        vertical-align: middle;\n",
       "    }\n",
       "\n",
       "    .dataframe tbody tr th {\n",
       "        vertical-align: top;\n",
       "    }\n",
       "\n",
       "    .dataframe thead tr th {\n",
       "        text-align: left;\n",
       "    }\n",
       "\n",
       "    .dataframe thead tr:last-of-type th {\n",
       "        text-align: right;\n",
       "    }\n",
       "</style>\n",
       "<table border=\"1\" class=\"dataframe\">\n",
       "  <thead>\n",
       "    <tr>\n",
       "      <th>Improved</th>\n",
       "      <th colspan=\"2\" halign=\"left\">None</th>\n",
       "      <th colspan=\"2\" halign=\"left\">Some</th>\n",
       "      <th colspan=\"2\" halign=\"left\">Marked</th>\n",
       "    </tr>\n",
       "    <tr>\n",
       "      <th>Treatment</th>\n",
       "      <th>Placebo</th>\n",
       "      <th>Treated</th>\n",
       "      <th>Placebo</th>\n",
       "      <th>Treated</th>\n",
       "      <th>Placebo</th>\n",
       "      <th>Treated</th>\n",
       "    </tr>\n",
       "    <tr>\n",
       "      <th>Sex</th>\n",
       "      <th></th>\n",
       "      <th></th>\n",
       "      <th></th>\n",
       "      <th></th>\n",
       "      <th></th>\n",
       "      <th></th>\n",
       "    </tr>\n",
       "  </thead>\n",
       "  <tbody>\n",
       "    <tr>\n",
       "      <th>Female</th>\n",
       "      <td>19.0</td>\n",
       "      <td>6.0</td>\n",
       "      <td>7.0</td>\n",
       "      <td>5.0</td>\n",
       "      <td>6.0</td>\n",
       "      <td>16.0</td>\n",
       "    </tr>\n",
       "    <tr>\n",
       "      <th>Male</th>\n",
       "      <td>10.0</td>\n",
       "      <td>7.0</td>\n",
       "      <td>NaN</td>\n",
       "      <td>2.0</td>\n",
       "      <td>1.0</td>\n",
       "      <td>5.0</td>\n",
       "    </tr>\n",
       "  </tbody>\n",
       "</table>\n",
       "</div>"
      ],
      "text/plain": [
       "Improved     None            Some          Marked        \n",
       "Treatment Placebo Treated Placebo Treated Placebo Treated\n",
       "Sex                                                      \n",
       "Female       19.0     6.0     7.0     5.0     6.0    16.0\n",
       "Male         10.0     7.0     NaN     2.0     1.0     5.0"
      ]
     },
     "execution_count": 38,
     "metadata": {},
     "output_type": "execute_result"
    }
   ],
   "source": [
    "#df4 = df3.reset_index(level='Improved')\n",
    "#display(df4)\n",
    "df4 = df3.unstack()\n",
    "df4"
   ]
  },
  {
   "cell_type": "markdown",
   "metadata": {},
   "source": [
    "## Numeric Variables"
   ]
  },
  {
   "cell_type": "code",
   "execution_count": 39,
   "metadata": {},
   "outputs": [
    {
     "data": {
      "text/html": [
       "<div>\n",
       "<style scoped>\n",
       "    .dataframe tbody tr th:only-of-type {\n",
       "        vertical-align: middle;\n",
       "    }\n",
       "\n",
       "    .dataframe tbody tr th {\n",
       "        vertical-align: top;\n",
       "    }\n",
       "\n",
       "    .dataframe thead th {\n",
       "        text-align: right;\n",
       "    }\n",
       "</style>\n",
       "<table border=\"1\" class=\"dataframe\">\n",
       "  <thead>\n",
       "    <tr style=\"text-align: right;\">\n",
       "      <th></th>\n",
       "      <th>Temp</th>\n",
       "      <th>Gas</th>\n",
       "    </tr>\n",
       "    <tr>\n",
       "      <th>Insul</th>\n",
       "      <th></th>\n",
       "      <th></th>\n",
       "    </tr>\n",
       "  </thead>\n",
       "  <tbody>\n",
       "    <tr>\n",
       "      <th>Before</th>\n",
       "      <td>-0.8</td>\n",
       "      <td>7.2</td>\n",
       "    </tr>\n",
       "    <tr>\n",
       "      <th>Before</th>\n",
       "      <td>-0.7</td>\n",
       "      <td>6.9</td>\n",
       "    </tr>\n",
       "    <tr>\n",
       "      <th>Before</th>\n",
       "      <td>0.4</td>\n",
       "      <td>6.4</td>\n",
       "    </tr>\n",
       "    <tr>\n",
       "      <th>Before</th>\n",
       "      <td>2.5</td>\n",
       "      <td>6.0</td>\n",
       "    </tr>\n",
       "    <tr>\n",
       "      <th>Before</th>\n",
       "      <td>2.9</td>\n",
       "      <td>5.8</td>\n",
       "    </tr>\n",
       "  </tbody>\n",
       "</table>\n",
       "</div>"
      ],
      "text/plain": [
       "        Temp  Gas\n",
       "Insul            \n",
       "Before  -0.8  7.2\n",
       "Before  -0.7  6.9\n",
       "Before   0.4  6.4\n",
       "Before   2.5  6.0\n",
       "Before   2.9  5.8"
      ]
     },
     "execution_count": 39,
     "metadata": {},
     "output_type": "execute_result"
    }
   ],
   "source": [
    "whiteside = pd.read_csv('../data/whiteside.csv',index_col=0)\n",
    "whiteside.head()"
   ]
  },
  {
   "cell_type": "code",
   "execution_count": 40,
   "metadata": {},
   "outputs": [
    {
     "data": {
      "text/plain": [
       "Insul\n",
       "After     4.463333\n",
       "Before    5.350000\n",
       "Name: Temp, dtype: float64"
      ]
     },
     "execution_count": 40,
     "metadata": {},
     "output_type": "execute_result"
    }
   ],
   "source": [
    "whiteside.groupby(['Insul'])['Temp'].agg(np.mean)"
   ]
  },
  {
   "cell_type": "code",
   "execution_count": 41,
   "metadata": {},
   "outputs": [
    {
     "data": {
      "text/plain": [
       "Insul\n",
       "After     4.463333\n",
       "Before    5.350000\n",
       "Name: Temp, dtype: float64"
      ]
     },
     "execution_count": 41,
     "metadata": {},
     "output_type": "execute_result"
    }
   ],
   "source": [
    "whiteside.groupby(['Insul'])['Temp'].mean()"
   ]
  },
  {
   "cell_type": "markdown",
   "metadata": {},
   "source": [
    "## Pandas Graph plotting with matplotlib and seaborn"
   ]
  },
  {
   "cell_type": "code",
   "execution_count": 42,
   "metadata": {},
   "outputs": [],
   "source": [
    "import matplotlib.pyplot as plt\n",
    "import seaborn as sns"
   ]
  },
  {
   "cell_type": "code",
   "execution_count": 43,
   "metadata": {},
   "outputs": [
    {
     "data": {
      "text/html": [
       "<div>\n",
       "<style scoped>\n",
       "    .dataframe tbody tr th:only-of-type {\n",
       "        vertical-align: middle;\n",
       "    }\n",
       "\n",
       "    .dataframe tbody tr th {\n",
       "        vertical-align: top;\n",
       "    }\n",
       "\n",
       "    .dataframe thead th {\n",
       "        text-align: right;\n",
       "    }\n",
       "</style>\n",
       "<table border=\"1\" class=\"dataframe\">\n",
       "  <thead>\n",
       "    <tr style=\"text-align: right;\">\n",
       "      <th></th>\n",
       "      <th>Insul</th>\n",
       "      <th>Temp</th>\n",
       "      <th>Gas</th>\n",
       "    </tr>\n",
       "  </thead>\n",
       "  <tbody>\n",
       "    <tr>\n",
       "      <th>0</th>\n",
       "      <td>Before</td>\n",
       "      <td>-0.8</td>\n",
       "      <td>7.2</td>\n",
       "    </tr>\n",
       "    <tr>\n",
       "      <th>1</th>\n",
       "      <td>Before</td>\n",
       "      <td>-0.7</td>\n",
       "      <td>6.9</td>\n",
       "    </tr>\n",
       "    <tr>\n",
       "      <th>2</th>\n",
       "      <td>Before</td>\n",
       "      <td>0.4</td>\n",
       "      <td>6.4</td>\n",
       "    </tr>\n",
       "    <tr>\n",
       "      <th>3</th>\n",
       "      <td>Before</td>\n",
       "      <td>2.5</td>\n",
       "      <td>6.0</td>\n",
       "    </tr>\n",
       "    <tr>\n",
       "      <th>4</th>\n",
       "      <td>Before</td>\n",
       "      <td>2.9</td>\n",
       "      <td>5.8</td>\n",
       "    </tr>\n",
       "  </tbody>\n",
       "</table>\n",
       "</div>"
      ],
      "text/plain": [
       "    Insul  Temp  Gas\n",
       "0  Before  -0.8  7.2\n",
       "1  Before  -0.7  6.9\n",
       "2  Before   0.4  6.4\n",
       "3  Before   2.5  6.0\n",
       "4  Before   2.9  5.8"
      ]
     },
     "execution_count": 43,
     "metadata": {},
     "output_type": "execute_result"
    }
   ],
   "source": [
    "whiteside = pd.read_csv('../data/whiteside.csv')\n",
    "whiteside.head()"
   ]
  },
  {
   "cell_type": "markdown",
   "metadata": {},
   "source": [
    "***Bar graph: part1***"
   ]
  },
  {
   "cell_type": "code",
   "execution_count": 44,
   "metadata": {},
   "outputs": [
    {
     "data": {
      "text/html": [
       "<div>\n",
       "<style scoped>\n",
       "    .dataframe tbody tr th:only-of-type {\n",
       "        vertical-align: middle;\n",
       "    }\n",
       "\n",
       "    .dataframe tbody tr th {\n",
       "        vertical-align: top;\n",
       "    }\n",
       "\n",
       "    .dataframe thead th {\n",
       "        text-align: right;\n",
       "    }\n",
       "</style>\n",
       "<table border=\"1\" class=\"dataframe\">\n",
       "  <thead>\n",
       "    <tr style=\"text-align: right;\">\n",
       "      <th></th>\n",
       "      <th>Insul</th>\n",
       "      <th>count</th>\n",
       "    </tr>\n",
       "  </thead>\n",
       "  <tbody>\n",
       "    <tr>\n",
       "      <th>0</th>\n",
       "      <td>Before</td>\n",
       "      <td>26</td>\n",
       "    </tr>\n",
       "    <tr>\n",
       "      <th>1</th>\n",
       "      <td>After</td>\n",
       "      <td>30</td>\n",
       "    </tr>\n",
       "  </tbody>\n",
       "</table>\n",
       "</div>"
      ],
      "text/plain": [
       "    Insul  count\n",
       "0  Before     26\n",
       "1   After     30"
      ]
     },
     "execution_count": 44,
     "metadata": {},
     "output_type": "execute_result"
    }
   ],
   "source": [
    "g = whiteside.groupby(['Insul'])['Temp'].count().sort_values().reset_index()\n",
    "g.rename(columns={'Temp':'count'}, inplace=True)\n",
    "g"
   ]
  },
  {
   "cell_type": "code",
   "execution_count": 45,
   "metadata": {},
   "outputs": [
    {
     "data": {
      "text/plain": [
       "[]"
      ]
     },
     "execution_count": 45,
     "metadata": {},
     "output_type": "execute_result"
    },
    {
     "data": {
      "image/png": "[encoded data removed]",
      "text/plain": [
       "<Figure size 432x288 with 1 Axes>"
      ]
     },
     "metadata": {},
     "output_type": "display_data"
    }
   ],
   "source": [
    "plt.style.use('ggplot')\n",
    "plt.plot()"
   ]
  },
  {
   "cell_type": "code",
   "execution_count": 46,
   "metadata": {},
   "outputs": [
    {
     "data": {
      "text/plain": [
       "<BarContainer object of 2 artists>"
      ]
     },
     "execution_count": 46,
     "metadata": {},
     "output_type": "execute_result"
    },
    {
     "data": {
      "image/png": "[encoded data removed]",
      "text/plain": [
       "<Figure size 432x288 with 1 Axes>"
      ]
     },
     "metadata": {},
     "output_type": "display_data"
    }
   ],
   "source": [
    "plt.bar(g['Insul'], g['count'])"
   ]
  },
  {
   "cell_type": "code",
   "execution_count": 47,
   "metadata": {},
   "outputs": [
    {
     "data": {
      "text/plain": [
       "<BarContainer object of 2 artists>"
      ]
     },
     "execution_count": 47,
     "metadata": {},
     "output_type": "execute_result"
    },
    {
     "data": {
      "image/png": "[encoded data removed]",
      "text/plain": [
       "<Figure size 432x288 with 1 Axes>"
      ]
     },
     "metadata": {},
     "output_type": "display_data"
    }
   ],
   "source": [
    "plt.bar(g['Insul'], g['count'], edgecolor='blue', color='orange')"
   ]
  },
  {
   "cell_type": "code",
   "execution_count": 48,
   "metadata": {},
   "outputs": [
    {
     "data": {
      "text/plain": [
       "<BarContainer object of 2 artists>"
      ]
     },
     "execution_count": 48,
     "metadata": {},
     "output_type": "execute_result"
    },
    {
     "data": {
      "image/png": "[encoded data removed]",
      "text/plain": [
       "<Figure size 640x480 with 1 Axes>"
      ]
     },
     "metadata": {},
     "output_type": "display_data"
    }
   ],
   "source": [
    "plt.style.use('default')\n",
    "plt.grid(alpha=.2)\n",
    "plt.bar(g['Insul'], g['count'], edgecolor='blue', color='orange')"
   ]
  },
  {
   "cell_type": "code",
   "execution_count": 49,
   "metadata": {},
   "outputs": [
    {
     "data": {
      "text/plain": [
       "Text(0.5, 0, 'count')"
      ]
     },
     "execution_count": 49,
     "metadata": {},
     "output_type": "execute_result"
    },
    {
     "data": {
      "image/png": "[encoded data removed]",
      "text/plain": [
       "<Figure size 640x480 with 1 Axes>"
      ]
     },
     "metadata": {},
     "output_type": "display_data"
    }
   ],
   "source": [
    "plt.grid(alpha=.2)\n",
    "plt.barh(g['Insul'], g['count'], edgecolor='blue', color='orange')\n",
    "plt.ylabel('Insul')\n",
    "plt.xlabel('count')"
   ]
  },
  {
   "cell_type": "markdown",
   "metadata": {},
   "source": [
    "***Scatter plot: using dots***"
   ]
  },
  {
   "cell_type": "code",
   "execution_count": 50,
   "metadata": {},
   "outputs": [
    {
     "data": {
      "image/png": "[encoded data removed]",
      "text/plain": [
       "<Figure size 640x480 with 1 Axes>"
      ]
     },
     "metadata": {},
     "output_type": "display_data"
    }
   ],
   "source": [
    "g['percent'] = g['count'].div(g['count'].sum())\n",
    "\n",
    "fig = plt.figure()\n",
    "fig.suptitle('Insulation')\n",
    "ax = plt.subplot(111)\n",
    "ax.grid(alpha=.2)\n",
    "ax.set_title('Observations With and Without Insulation')\n",
    "ax.scatter(g['Insul'], g['percent'], edgecolor='blue', color='orange')\n",
    "ax.set_ylim([-.05, 1.05])\n",
    "ax.set_ylabel('Percent')\n",
    "ax.set_xlabel('count')\n",
    "plt.show()"
   ]
  },
  {
   "cell_type": "markdown",
   "metadata": {},
   "source": [
    "***Histogram***"
   ]
  },
  {
   "cell_type": "code",
   "execution_count": 51,
   "metadata": {},
   "outputs": [
    {
     "data": {
      "image/png": "[encoded data removed]",
      "text/plain": [
       "<Figure size 640x480 with 1 Axes>"
      ]
     },
     "metadata": {},
     "output_type": "display_data"
    }
   ],
   "source": [
    "plt.style.use('ggplot')\n",
    "plt.hist(whiteside['Temp'], bins=30)\n",
    "plt.ylabel('count')\n",
    "plt.xlabel('Temp')\n",
    "plt.show()"
   ]
  },
  {
   "cell_type": "code",
   "execution_count": 52,
   "metadata": {},
   "outputs": [
    {
     "data": {
      "image/png": "[encoded data removed]",
      "text/plain": [
       "<Figure size 640x480 with 1 Axes>"
      ]
     },
     "metadata": {},
     "output_type": "display_data"
    }
   ],
   "source": [
    "plt.style.use('default')\n",
    "plt.grid(alpha=.2)\n",
    "plt.hist(whiteside['Temp'], bins=10, edgecolor='purple', color='yellow')\n",
    "plt.ylabel('count')\n",
    "plt.xlabel('Temp')\n",
    "plt.show()"
   ]
  },
  {
   "cell_type": "code",
   "execution_count": 53,
   "metadata": {},
   "outputs": [
    {
     "data": {
      "image/png": "[encoded data removed]",
      "text/plain": [
       "<Figure size 640x480 with 1 Axes>"
      ]
     },
     "metadata": {},
     "output_type": "display_data"
    }
   ],
   "source": [
    "plt.grid(alpha=.2)\n",
    "plt.hist(whiteside['Temp'], bins=[-2,-1,0,2,5,10], edgecolor='purple', color='yellow')\n",
    "plt.ylabel('count')\n",
    "plt.xlabel('Temp')\n",
    "plt.show()"
   ]
  },
  {
   "cell_type": "code",
   "execution_count": 54,
   "metadata": {},
   "outputs": [
    {
     "data": {
      "image/png": "[encoded data removed]",
      "text/plain": [
       "<Figure size 640x480 with 1 Axes>"
      ]
     },
     "metadata": {},
     "output_type": "display_data"
    }
   ],
   "source": [
    "plt.grid(alpha=.2)\n",
    "plt.hist(whiteside['Temp'], bins=range(-2, 10, 1), edgecolor='purple', color='yellow')\n",
    "plt.ylabel('count')\n",
    "plt.xlabel('Temp')\n",
    "plt.show()"
   ]
  },
  {
   "cell_type": "markdown",
   "metadata": {},
   "source": [
    "***Density plot - part1***"
   ]
  },
  {
   "cell_type": "code",
   "execution_count": 55,
   "metadata": {},
   "outputs": [
    {
     "data": {
      "image/png": "[encoded data removed]",
      "text/plain": [
       "<Figure size 640x480 with 1 Axes>"
      ]
     },
     "metadata": {},
     "output_type": "display_data"
    }
   ],
   "source": [
    "ax = whiteside['Temp'].plot(kind='density')\n",
    "ax.set_xlim(-1, 11)\n",
    "plt.xlabel('Temp')\n",
    "plt.show()"
   ]
  },
  {
   "cell_type": "code",
   "execution_count": 56,
   "metadata": {},
   "outputs": [
    {
     "data": {
      "image/png": "[encoded data removed]",
      "text/plain": [
       "<Figure size 500x500 with 1 Axes>"
      ]
     },
     "metadata": {},
     "output_type": "display_data"
    }
   ],
   "source": [
    "sns.set_style(\"whitegrid\")\n",
    "ax = sns.displot(whiteside['Temp'], kind = 'kde', color = 'yellow', fill='y')\n",
    "ax.set(xlim=(-1, 11))\n",
    "plt.xlabel('Temp')\n",
    "plt.show()"
   ]
  },
  {
   "cell_type": "code",
   "execution_count": 57,
   "metadata": {},
   "outputs": [
    {
     "data": {
      "image/png": "[encoded data removed]",
      "text/plain": [
       "<Figure size 500x500 with 1 Axes>"
      ]
     },
     "metadata": {},
     "output_type": "display_data"
    }
   ],
   "source": [
    "maxtemp = whiteside['Temp'].max()\n",
    "mintemp = whiteside['Temp'].min()\n",
    "meantemp = whiteside['Temp'].mean()\n",
    "\n",
    "ax = sns.displot(whiteside['Temp'], kind = 'kde', color = 'yellow', fill='y')\n",
    "plt.axvline(maxtemp, color='blue')\n",
    "plt.axvline(mintemp, color='pink')\n",
    "plt.axvline(meantemp, color='purple')\n",
    "ax.set(xlim=(-1, 11))\n",
    "plt.xlabel('Temp')\n",
    "plt.show()"
   ]
  },
  {
   "cell_type": "markdown",
   "metadata": {},
   "source": [
    "***boxplot***"
   ]
  },
  {
   "cell_type": "code",
   "execution_count": 58,
   "metadata": {},
   "outputs": [
    {
     "data": {
      "image/png": "[encoded data removed]",
      "text/plain": [
       "<Figure size 640x480 with 1 Axes>"
      ]
     },
     "metadata": {},
     "output_type": "display_data"
    }
   ],
   "source": [
    "ax = sns.boxplot(x=whiteside['Temp'], linewidth=1, \\\n",
    "                boxprops=dict(facecolor='lightblue', edgecolor='violet'), \\\n",
    "                medianprops=dict(linewidth=3, color='violet'), \\\n",
    "                whiskerprops=dict(color='violet'), \\\n",
    "                capprops=dict(color='violet'))"
   ]
  },
  {
   "cell_type": "code",
   "execution_count": 59,
   "metadata": {},
   "outputs": [
    {
     "data": {
      "image/png": "[encoded data removed]",
      "text/plain": [
       "<Figure size 640x480 with 1 Axes>"
      ]
     },
     "metadata": {},
     "output_type": "display_data"
    }
   ],
   "source": [
    "ax = sns.boxplot(x='Temp', y='Insul', data=whiteside)"
   ]
  },
  {
   "cell_type": "code",
   "execution_count": 60,
   "metadata": {},
   "outputs": [
    {
     "data": {
      "image/png": "[encoded data removed]",
      "text/plain": [
       "<Figure size 640x480 with 1 Axes>"
      ]
     },
     "metadata": {},
     "output_type": "display_data"
    }
   ],
   "source": [
    "ax = sns.boxplot(x='Temp', y='Insul', data=whiteside)\n",
    "box_before = ax.patches[0]\n",
    "box_after = ax.patches[1]\n",
    "box_before.set_edgecolor('red')\n",
    "box_after.set_edgecolor('blue')\n",
    "plt.show()"
   ]
  },
  {
   "cell_type": "markdown",
   "metadata": {},
   "source": [
    "***Density plot - part2***"
   ]
  },
  {
   "cell_type": "code",
   "execution_count": 61,
   "metadata": {},
   "outputs": [
    {
     "data": {
      "image/png": "[encoded data removed]",
      "text/plain": [
       "<Figure size 640x480 with 1 Axes>"
      ]
     },
     "metadata": {},
     "output_type": "display_data"
    }
   ],
   "source": [
    "fig = sns.kdeplot(whiteside.loc[whiteside['Insul'] == 'Before']['Temp'], color=\"pink\", shade=True, alpha=1)\n",
    "fig = sns.kdeplot(whiteside.loc[whiteside['Insul'] == 'After']['Temp'], color=\"lightblue\", shade=True, alpha=1)\n",
    "plt.show()"
   ]
  },
  {
   "cell_type": "code",
   "execution_count": 62,
   "metadata": {},
   "outputs": [
    {
     "data": {
      "image/png": "[encoded data removed]",
      "text/plain": [
       "<Figure size 640x480 with 1 Axes>"
      ]
     },
     "metadata": {},
     "output_type": "display_data"
    }
   ],
   "source": [
    "fig = sns.kdeplot(whiteside.loc[whiteside['Insul'] == 'Before']['Temp'], color=\"pink\", shade=True, alpha=.4)\n",
    "fig = sns.kdeplot(whiteside.loc[whiteside['Insul'] == 'After']['Temp'], color=\"lightblue\", shade=True, alpha=.4)\n",
    "plt.show()"
   ]
  },
  {
   "cell_type": "markdown",
   "metadata": {},
   "source": [
    "***Scatter plot: with linear line***"
   ]
  },
  {
   "cell_type": "code",
   "execution_count": 63,
   "metadata": {},
   "outputs": [
    {
     "data": {
      "image/png": "[encoded data removed]",
      "text/plain": [
       "<Figure size 640x480 with 1 Axes>"
      ]
     },
     "metadata": {},
     "output_type": "display_data"
    }
   ],
   "source": [
    "x = whiteside['Temp']\n",
    "y = whiteside['Gas']\n",
    "a, b = np.polyfit(x, y, 1)\n",
    "plt.plot(x, a*x+b)\n",
    "plt.scatter(x, y, linewidths=.7, color='purple', marker='x')\n",
    "plt.ylabel('Gas')\n",
    "plt.xlabel('Temp')\n",
    "plt.show()"
   ]
  },
  {
   "cell_type": "code",
   "execution_count": 64,
   "metadata": {},
   "outputs": [
    {
     "data": {
      "image/png": "[encoded data removed]",
      "text/plain": [
       "<Figure size 500x500 with 1 Axes>"
      ]
     },
     "metadata": {},
     "output_type": "display_data"
    }
   ],
   "source": [
    "sns.lmplot(x='Temp', y='Gas', data=whiteside, order=3)\n",
    "plt.show()"
   ]
  },
  {
   "cell_type": "code",
   "execution_count": 65,
   "metadata": {},
   "outputs": [
    {
     "data": {
      "image/png": "[encoded data removed]",
      "text/plain": [
       "<Figure size 591.125x500 with 1 Axes>"
      ]
     },
     "metadata": {},
     "output_type": "display_data"
    }
   ],
   "source": [
    "sns.lmplot(x='Temp', y='Gas', hue='Insul', data=whiteside, palette=['pink','lightblue'], ci=None)\n",
    "plt.show()"
   ]
  },
  {
   "cell_type": "code",
   "execution_count": 66,
   "metadata": {},
   "outputs": [
    {
     "data": {
      "image/png": "[encoded data removed]",
      "text/plain": [
       "<Figure size 640x480 with 1 Axes>"
      ]
     },
     "metadata": {},
     "output_type": "display_data"
    }
   ],
   "source": [
    "sns.scatterplot(x='Temp', y='Gas', hue='Insul', data=whiteside, palette=['magenta','magenta'], size='Insul', sizes=(100,30))\n",
    "plt.show()"
   ]
  },
  {
   "cell_type": "code",
   "execution_count": 67,
   "metadata": {},
   "outputs": [
    {
     "data": {
      "text/plain": [
       "<seaborn.axisgrid.FacetGrid at 0x7f93387e28e0>"
      ]
     },
     "execution_count": 67,
     "metadata": {},
     "output_type": "execute_result"
    },
    {
     "data": {
      "image/png": "[encoded data removed]",
      "text/plain": [
       "<Figure size 1000x500 with 2 Axes>"
      ]
     },
     "metadata": {},
     "output_type": "display_data"
    }
   ],
   "source": [
    "sns.catplot(x='Temp', y='Gas', col='Insul', data=whiteside, kind='swarm', palette=['black','black'], dodge=True)"
   ]
  },
  {
   "cell_type": "markdown",
   "metadata": {},
   "source": [
    "***Bar graph: part2***"
   ]
  },
  {
   "cell_type": "code",
   "execution_count": 68,
   "metadata": {},
   "outputs": [
    {
     "data": {
      "text/html": [
       "<div>\n",
       "<style scoped>\n",
       "    .dataframe tbody tr th:only-of-type {\n",
       "        vertical-align: middle;\n",
       "    }\n",
       "\n",
       "    .dataframe tbody tr th {\n",
       "        vertical-align: top;\n",
       "    }\n",
       "\n",
       "    .dataframe thead th {\n",
       "        text-align: right;\n",
       "    }\n",
       "</style>\n",
       "<table border=\"1\" class=\"dataframe\">\n",
       "  <thead>\n",
       "    <tr style=\"text-align: right;\">\n",
       "      <th></th>\n",
       "      <th>manufacturer</th>\n",
       "      <th>model</th>\n",
       "      <th>displ</th>\n",
       "      <th>year</th>\n",
       "      <th>cyl</th>\n",
       "      <th>trans</th>\n",
       "      <th>drv</th>\n",
       "      <th>cty</th>\n",
       "      <th>hwy</th>\n",
       "      <th>fl</th>\n",
       "      <th>class</th>\n",
       "    </tr>\n",
       "  </thead>\n",
       "  <tbody>\n",
       "    <tr>\n",
       "      <th>1</th>\n",
       "      <td>audi</td>\n",
       "      <td>a4</td>\n",
       "      <td>1.8</td>\n",
       "      <td>1999</td>\n",
       "      <td>4</td>\n",
       "      <td>auto(l5)</td>\n",
       "      <td>f</td>\n",
       "      <td>18</td>\n",
       "      <td>29</td>\n",
       "      <td>p</td>\n",
       "      <td>compact</td>\n",
       "    </tr>\n",
       "    <tr>\n",
       "      <th>2</th>\n",
       "      <td>audi</td>\n",
       "      <td>a4</td>\n",
       "      <td>1.8</td>\n",
       "      <td>1999</td>\n",
       "      <td>4</td>\n",
       "      <td>manual(m5)</td>\n",
       "      <td>f</td>\n",
       "      <td>21</td>\n",
       "      <td>29</td>\n",
       "      <td>p</td>\n",
       "      <td>compact</td>\n",
       "    </tr>\n",
       "    <tr>\n",
       "      <th>3</th>\n",
       "      <td>audi</td>\n",
       "      <td>a4</td>\n",
       "      <td>2.0</td>\n",
       "      <td>2008</td>\n",
       "      <td>4</td>\n",
       "      <td>manual(m6)</td>\n",
       "      <td>f</td>\n",
       "      <td>20</td>\n",
       "      <td>31</td>\n",
       "      <td>p</td>\n",
       "      <td>compact</td>\n",
       "    </tr>\n",
       "    <tr>\n",
       "      <th>4</th>\n",
       "      <td>audi</td>\n",
       "      <td>a4</td>\n",
       "      <td>2.0</td>\n",
       "      <td>2008</td>\n",
       "      <td>4</td>\n",
       "      <td>auto(av)</td>\n",
       "      <td>f</td>\n",
       "      <td>21</td>\n",
       "      <td>30</td>\n",
       "      <td>p</td>\n",
       "      <td>compact</td>\n",
       "    </tr>\n",
       "    <tr>\n",
       "      <th>5</th>\n",
       "      <td>audi</td>\n",
       "      <td>a4</td>\n",
       "      <td>2.8</td>\n",
       "      <td>1999</td>\n",
       "      <td>6</td>\n",
       "      <td>auto(l5)</td>\n",
       "      <td>f</td>\n",
       "      <td>16</td>\n",
       "      <td>26</td>\n",
       "      <td>p</td>\n",
       "      <td>compact</td>\n",
       "    </tr>\n",
       "  </tbody>\n",
       "</table>\n",
       "</div>"
      ],
      "text/plain": [
       "  manufacturer model  displ  year  cyl       trans drv  cty  hwy fl    class\n",
       "1         audi    a4    1.8  1999    4    auto(l5)   f   18   29  p  compact\n",
       "2         audi    a4    1.8  1999    4  manual(m5)   f   21   29  p  compact\n",
       "3         audi    a4    2.0  2008    4  manual(m6)   f   20   31  p  compact\n",
       "4         audi    a4    2.0  2008    4    auto(av)   f   21   30  p  compact\n",
       "5         audi    a4    2.8  1999    6    auto(l5)   f   16   26  p  compact"
      ]
     },
     "execution_count": 68,
     "metadata": {},
     "output_type": "execute_result"
    }
   ],
   "source": [
    "mpg = pd.read_csv(\"../data/mpg.csv\", index_col=0)\n",
    "mpg.head()"
   ]
  },
  {
   "cell_type": "code",
   "execution_count": 69,
   "metadata": {},
   "outputs": [
    {
     "data": {
      "text/html": [
       "<div>\n",
       "<style scoped>\n",
       "    .dataframe tbody tr th:only-of-type {\n",
       "        vertical-align: middle;\n",
       "    }\n",
       "\n",
       "    .dataframe tbody tr th {\n",
       "        vertical-align: top;\n",
       "    }\n",
       "\n",
       "    .dataframe thead th {\n",
       "        text-align: right;\n",
       "    }\n",
       "</style>\n",
       "<table border=\"1\" class=\"dataframe\">\n",
       "  <thead>\n",
       "    <tr style=\"text-align: right;\">\n",
       "      <th></th>\n",
       "      <th>class</th>\n",
       "      <th>count</th>\n",
       "    </tr>\n",
       "  </thead>\n",
       "  <tbody>\n",
       "    <tr>\n",
       "      <th>0</th>\n",
       "      <td>2seater</td>\n",
       "      <td>5</td>\n",
       "    </tr>\n",
       "    <tr>\n",
       "      <th>1</th>\n",
       "      <td>compact</td>\n",
       "      <td>47</td>\n",
       "    </tr>\n",
       "    <tr>\n",
       "      <th>2</th>\n",
       "      <td>midsize</td>\n",
       "      <td>41</td>\n",
       "    </tr>\n",
       "    <tr>\n",
       "      <th>3</th>\n",
       "      <td>minivan</td>\n",
       "      <td>11</td>\n",
       "    </tr>\n",
       "    <tr>\n",
       "      <th>4</th>\n",
       "      <td>pickup</td>\n",
       "      <td>33</td>\n",
       "    </tr>\n",
       "    <tr>\n",
       "      <th>5</th>\n",
       "      <td>subcompact</td>\n",
       "      <td>35</td>\n",
       "    </tr>\n",
       "    <tr>\n",
       "      <th>6</th>\n",
       "      <td>suv</td>\n",
       "      <td>62</td>\n",
       "    </tr>\n",
       "  </tbody>\n",
       "</table>\n",
       "</div>"
      ],
      "text/plain": [
       "        class  count\n",
       "0     2seater      5\n",
       "1     compact     47\n",
       "2     midsize     41\n",
       "3     minivan     11\n",
       "4      pickup     33\n",
       "5  subcompact     35\n",
       "6         suv     62"
      ]
     },
     "execution_count": 69,
     "metadata": {},
     "output_type": "execute_result"
    }
   ],
   "source": [
    "g = mpg.groupby(['class'])['drv'].count().reset_index()\n",
    "g.rename(columns={'drv':'count'}, inplace=True)\n",
    "g"
   ]
  },
  {
   "cell_type": "code",
   "execution_count": 70,
   "metadata": {},
   "outputs": [
    {
     "data": {
      "text/plain": [
       "<BarContainer object of 7 artists>"
      ]
     },
     "execution_count": 70,
     "metadata": {},
     "output_type": "execute_result"
    },
    {
     "data": {
      "image/png": "[encoded data removed]",
      "text/plain": [
       "<Figure size 640x480 with 1 Axes>"
      ]
     },
     "metadata": {},
     "output_type": "display_data"
    }
   ],
   "source": [
    "plt.style.use('ggplot')\n",
    "plt.bar(g['class'], g['count'])"
   ]
  },
  {
   "cell_type": "code",
   "execution_count": 71,
   "metadata": {},
   "outputs": [
    {
     "data": {
      "text/plain": [
       "<AxesSubplot:xlabel='class', ylabel='Count'>"
      ]
     },
     "execution_count": 71,
     "metadata": {},
     "output_type": "execute_result"
    },
    {
     "data": {
      "image/png": "[encoded data removed]",
      "text/plain": [
       "<Figure size 640x480 with 1 Axes>"
      ]
     },
     "metadata": {},
     "output_type": "display_data"
    }
   ],
   "source": [
    "sns.histplot(mpg.sort_values(by=['class','drv']), x='class', hue='drv', multiple='stack')"
   ]
  },
  {
   "cell_type": "code",
   "execution_count": 72,
   "metadata": {},
   "outputs": [
    {
     "data": {
      "text/plain": [
       "<AxesSubplot:xlabel='class', ylabel='Count'>"
      ]
     },
     "execution_count": 72,
     "metadata": {},
     "output_type": "execute_result"
    },
    {
     "data": {
      "image/png": "[encoded data removed]",
      "text/plain": [
       "<Figure size 640x480 with 1 Axes>"
      ]
     },
     "metadata": {},
     "output_type": "display_data"
    }
   ],
   "source": [
    "sns.histplot(mpg.sort_values(by=['class','drv']), x='class', hue='drv', multiple='dodge')"
   ]
  },
  {
   "cell_type": "code",
   "execution_count": 74,
   "metadata": {},
   "outputs": [
    {
     "data": {
      "text/plain": [
       "<seaborn.axisgrid.FacetGrid at 0x7f93395bf7c0>"
      ]
     },
     "execution_count": 74,
     "metadata": {},
     "output_type": "execute_result"
    },
    {
     "data": {
      "image/png": "[encoded data removed]",
      "text/plain": [
       "<Figure size 600x300 with 2 Axes>"
      ]
     },
     "metadata": {},
     "output_type": "display_data"
    }
   ],
   "source": [
    "g = sns.FacetGrid(mpg, col=\"year\")\n",
    "g.map_dataframe(sns.histplot, x=\"class\",hue='drv')"
   ]
  },
  {
   "cell_type": "code",
   "execution_count": 77,
   "metadata": {},
   "outputs": [
    {
     "data": {
      "application/javascript": [
       "/* Put everything inside the global mpl namespace */\n",
       "/* global mpl */\n",
       "window.mpl = {};\n",
       "\n",
       "mpl.get_websocket_type = function () {\n",
       "    if (typeof WebSocket !== 'undefined') {\n",
       "        return WebSocket;\n",
       "    } else if (typeof MozWebSocket !== 'undefined') {\n",
       "        return MozWebSocket;\n",
       "    } else {\n",
       "        alert(\n",
       "            'Your browser does not have WebSocket support. ' +\n",
       "                'Please try Chrome, Safari or Firefox ≥ 6. ' +\n",
       "                'Firefox 4 and 5 are also supported but you ' +\n",
       "                'have to enable WebSockets in about:config.'\n",
       "        );\n",
       "    }\n",
       "};\n",
       "\n",
       "mpl.figure = function (figure_id, websocket, ondownload, parent_element) {\n",
       "    this.id = figure_id;\n",
       "\n",
       "    this.ws = websocket;\n",
       "\n",
       "    this.supports_binary = this.ws.binaryType !== undefined;\n",
       "\n",
       "    if (!this.supports_binary) {\n",
       "        var warnings = document.getElementById('mpl-warnings');\n",
       "        if (warnings) {\n",
       "            warnings.style.display = 'block';\n",
       "            warnings.textContent =\n",
       "                'This browser does not support binary websocket messages. ' +\n",
       "                'Performance may be slow.';\n",
       "        }\n",
       "    }\n",
       "\n",
       "    this.imageObj = new Image();\n",
       "\n",
       "    this.context = undefined;\n",
       "    this.message = undefined;\n",
       "    this.canvas = undefined;\n",
       "    this.rubberband_canvas = undefined;\n",
       "    this.rubberband_context = undefined;\n",
       "    this.format_dropdown = undefined;\n",
       "\n",
       "    this.image_mode = 'full';\n",
       "\n",
       "    this.root = document.createElement('div');\n",
       "    this.root.setAttribute('style', 'display: inline-block');\n",
       "    this._root_extra_style(this.root);\n",
       "\n",
       "    parent_element.appendChild(this.root);\n",
       "\n",
       "    this._init_header(this);\n",
       "    this._init_canvas(this);\n",
       "    this._init_toolbar(this);\n",
       "\n",
       "    var fig = this;\n",
       "\n",
       "    this.waiting = false;\n",
       "\n",
       "    this.ws.onopen = function () {\n",
       "        fig.send_message('supports_binary', { value: fig.supports_binary });\n",
       "        fig.send_message('send_image_mode', {});\n",
       "        if (fig.ratio !== 1) {\n",
       "            fig.send_message('set_device_pixel_ratio', {\n",
       "                device_pixel_ratio: fig.ratio,\n",
       "            });\n",
       "        }\n",
       "        fig.send_message('refresh', {});\n",
       "    };\n",
       "\n",
       "    this.imageObj.onload = function () {\n",
       "        if (fig.image_mode === 'full') {\n",
       "            // Full images could contain transparency (where diff images\n",
       "            // almost always do), so we need to clear the canvas so that\n",
       "            // there is no ghosting.\n",
       "            fig.context.clearRect(0, 0, fig.canvas.width, fig.canvas.height);\n",
       "        }\n",
       "        fig.context.drawImage(fig.imageObj, 0, 0);\n",
       "    };\n",
       "\n",
       "    this.imageObj.onunload = function () {\n",
       "        fig.ws.close();\n",
       "    };\n",
       "\n",
       "    this.ws.onmessage = this._make_on_message_function(this);\n",
       "\n",
       "    this.ondownload = ondownload;\n",
       "};\n",
       "\n",
       "mpl.figure.prototype._init_header = function () {\n",
       "    var titlebar = document.createElement('div');\n",
       "    titlebar.classList =\n",
       "        'ui-dialog-titlebar ui-widget-header ui-corner-all ui-helper-clearfix';\n",
       "    var titletext = document.createElement('div');\n",
       "    titletext.classList = 'ui-dialog-title';\n",
       "    titletext.setAttribute(\n",
       "        'style',\n",
       "        'width: 100%; text-align: center; padding: 3px;'\n",
       "    );\n",
       "    titlebar.appendChild(titletext);\n",
       "    this.root.appendChild(titlebar);\n",
       "    this.header = titletext;\n",
       "};\n",
       "\n",
       "mpl.figure.prototype._canvas_extra_style = function (_canvas_div) {};\n",
       "\n",
       "mpl.figure.prototype._root_extra_style = function (_canvas_div) {};\n",
       "\n",
       "mpl.figure.prototype._init_canvas = function () {\n",
       "    var fig = this;\n",
       "\n",
       "    var canvas_div = (this.canvas_div = document.createElement('div'));\n",
       "    canvas_div.setAttribute(\n",
       "        'style',\n",
       "        'border: 1px solid #ddd;' +\n",
       "            'box-sizing: content-box;' +\n",
       "            'clear: both;' +\n",
       "            'min-height: 1px;' +\n",
       "            'min-width: 1px;' +\n",
       "            'outline: 0;' +\n",
       "            'overflow: hidden;' +\n",
       "            'position: relative;' +\n",
       "            'resize: both;'\n",
       "    );\n",
       "\n",
       "    function on_keyboard_event_closure(name) {\n",
       "        return function (event) {\n",
       "            return fig.key_event(event, name);\n",
       "        };\n",
       "    }\n",
       "\n",
       "    canvas_div.addEventListener(\n",
       "        'keydown',\n",
       "        on_keyboard_event_closure('key_press')\n",
       "    );\n",
       "    canvas_div.addEventListener(\n",
       "        'keyup',\n",
       "        on_keyboard_event_closure('key_release')\n",
       "    );\n",
       "\n",
       "    this._canvas_extra_style(canvas_div);\n",
       "    this.root.appendChild(canvas_div);\n",
       "\n",
       "    var canvas = (this.canvas = document.createElement('canvas'));\n",
       "    canvas.classList.add('mpl-canvas');\n",
       "    canvas.setAttribute('style', 'box-sizing: content-box;');\n",
       "\n",
       "    this.context = canvas.getContext('2d');\n",
       "\n",
       "    var backingStore =\n",
       "        this.context.backingStorePixelRatio ||\n",
       "        this.context.webkitBackingStorePixelRatio ||\n",
       "        this.context.mozBackingStorePixelRatio ||\n",
       "        this.context.msBackingStorePixelRatio ||\n",
       "        this.context.oBackingStorePixelRatio ||\n",
       "        this.context.backingStorePixelRatio ||\n",
       "        1;\n",
       "\n",
       "    this.ratio = (window.devicePixelRatio || 1) / backingStore;\n",
       "\n",
       "    var rubberband_canvas = (this.rubberband_canvas = document.createElement(\n",
       "        'canvas'\n",
       "    ));\n",
       "    rubberband_canvas.setAttribute(\n",
       "        'style',\n",
       "        'box-sizing: content-box; position: absolute; left: 0; top: 0; z-index: 1;'\n",
       "    );\n",
       "\n",
       "    // Apply a ponyfill if ResizeObserver is not implemented by browser.\n",
       "    if (this.ResizeObserver === undefined) {\n",
       "        if (window.ResizeObserver !== undefined) {\n",
       "            this.ResizeObserver = window.ResizeObserver;\n",
       "        } else {\n",
       "            var obs = _JSXTOOLS_RESIZE_OBSERVER({});\n",
       "            this.ResizeObserver = obs.ResizeObserver;\n",
       "        }\n",
       "    }\n",
       "\n",
       "    this.resizeObserverInstance = new this.ResizeObserver(function (entries) {\n",
       "        var nentries = entries.length;\n",
       "        for (var i = 0; i < nentries; i++) {\n",
       "            var entry = entries[i];\n",
       "            var width, height;\n",
       "            if (entry.contentBoxSize) {\n",
       "                if (entry.contentBoxSize instanceof Array) {\n",
       "                    // Chrome 84 implements new version of spec.\n",
       "                    width = entry.contentBoxSize[0].inlineSize;\n",
       "                    height = entry.contentBoxSize[0].blockSize;\n",
       "                } else {\n",
       "                    // Firefox implements old version of spec.\n",
       "                    width = entry.contentBoxSize.inlineSize;\n",
       "                    height = entry.contentBoxSize.blockSize;\n",
       "                }\n",
       "            } else {\n",
       "                // Chrome <84 implements even older version of spec.\n",
       "                width = entry.contentRect.width;\n",
       "                height = entry.contentRect.height;\n",
       "            }\n",
       "\n",
       "            // Keep the size of the canvas and rubber band canvas in sync with\n",
       "            // the canvas container.\n",
       "            if (entry.devicePixelContentBoxSize) {\n",
       "                // Chrome 84 implements new version of spec.\n",
       "                canvas.setAttribute(\n",
       "                    'width',\n",
       "                    entry.devicePixelContentBoxSize[0].inlineSize\n",
       "                );\n",
       "                canvas.setAttribute(\n",
       "                    'height',\n",
       "                    entry.devicePixelContentBoxSize[0].blockSize\n",
       "                );\n",
       "            } else {\n",
       "                canvas.setAttribute('width', width * fig.ratio);\n",
       "                canvas.setAttribute('height', height * fig.ratio);\n",
       "            }\n",
       "            canvas.setAttribute(\n",
       "                'style',\n",
       "                'width: ' + width + 'px; height: ' + height + 'px;'\n",
       "            );\n",
       "\n",
       "            rubberband_canvas.setAttribute('width', width);\n",
       "            rubberband_canvas.setAttribute('height', height);\n",
       "\n",
       "            // And update the size in Python. We ignore the initial 0/0 size\n",
       "            // that occurs as the element is placed into the DOM, which should\n",
       "            // otherwise not happen due to the minimum size styling.\n",
       "            if (fig.ws.readyState == 1 && width != 0 && height != 0) {\n",
       "                fig.request_resize(width, height);\n",
       "            }\n",
       "        }\n",
       "    });\n",
       "    this.resizeObserverInstance.observe(canvas_div);\n",
       "\n",
       "    function on_mouse_event_closure(name) {\n",
       "        return function (event) {\n",
       "            return fig.mouse_event(event, name);\n",
       "        };\n",
       "    }\n",
       "\n",
       "    rubberband_canvas.addEventListener(\n",
       "        'mousedown',\n",
       "        on_mouse_event_closure('button_press')\n",
       "    );\n",
       "    rubberband_canvas.addEventListener(\n",
       "        'mouseup',\n",
       "        on_mouse_event_closure('button_release')\n",
       "    );\n",
       "    rubberband_canvas.addEventListener(\n",
       "        'dblclick',\n",
       "        on_mouse_event_closure('dblclick')\n",
       "    );\n",
       "    // Throttle sequential mouse events to 1 every 20ms.\n",
       "    rubberband_canvas.addEventListener(\n",
       "        'mousemove',\n",
       "        on_mouse_event_closure('motion_notify')\n",
       "    );\n",
       "\n",
       "    rubberband_canvas.addEventListener(\n",
       "        'mouseenter',\n",
       "        on_mouse_event_closure('figure_enter')\n",
       "    );\n",
       "    rubberband_canvas.addEventListener(\n",
       "        'mouseleave',\n",
       "        on_mouse_event_closure('figure_leave')\n",
       "    );\n",
       "\n",
       "    canvas_div.addEventListener('wheel', function (event) {\n",
       "        if (event.deltaY < 0) {\n",
       "            event.step = 1;\n",
       "        } else {\n",
       "            event.step = -1;\n",
       "        }\n",
       "        on_mouse_event_closure('scroll')(event);\n",
       "    });\n",
       "\n",
       "    canvas_div.appendChild(canvas);\n",
       "    canvas_div.appendChild(rubberband_canvas);\n",
       "\n",
       "    this.rubberband_context = rubberband_canvas.getContext('2d');\n",
       "    this.rubberband_context.strokeStyle = '#000000';\n",
       "\n",
       "    this._resize_canvas = function (width, height, forward) {\n",
       "        if (forward) {\n",
       "            canvas_div.style.width = width + 'px';\n",
       "            canvas_div.style.height = height + 'px';\n",
       "        }\n",
       "    };\n",
       "\n",
       "    // Disable right mouse context menu.\n",
       "    this.rubberband_canvas.addEventListener('contextmenu', function (_e) {\n",
       "        event.preventDefault();\n",
       "        return false;\n",
       "    });\n",
       "\n",
       "    function set_focus() {\n",
       "        canvas.focus();\n",
       "        canvas_div.focus();\n",
       "    }\n",
       "\n",
       "    window.setTimeout(set_focus, 100);\n",
       "};\n",
       "\n",
       "mpl.figure.prototype._init_toolbar = function () {\n",
       "    var fig = this;\n",
       "\n",
       "    var toolbar = document.createElement('div');\n",
       "    toolbar.classList = 'mpl-toolbar';\n",
       "    this.root.appendChild(toolbar);\n",
       "\n",
       "    function on_click_closure(name) {\n",
       "        return function (_event) {\n",
       "            return fig.toolbar_button_onclick(name);\n",
       "        };\n",
       "    }\n",
       "\n",
       "    function on_mouseover_closure(tooltip) {\n",
       "        return function (event) {\n",
       "            if (!event.currentTarget.disabled) {\n",
       "                return fig.toolbar_button_onmouseover(tooltip);\n",
       "            }\n",
       "        };\n",
       "    }\n",
       "\n",
       "    fig.buttons = {};\n",
       "    var buttonGroup = document.createElement('div');\n",
       "    buttonGroup.classList = 'mpl-button-group';\n",
       "    for (var toolbar_ind in mpl.toolbar_items) {\n",
       "        var name = mpl.toolbar_items[toolbar_ind][0];\n",
       "        var tooltip = mpl.toolbar_items[toolbar_ind][1];\n",
       "        var image = mpl.toolbar_items[toolbar_ind][2];\n",
       "        var method_name = mpl.toolbar_items[toolbar_ind][3];\n",
       "\n",
       "        if (!name) {\n",
       "            /* Instead of a spacer, we start a new button group. */\n",
       "            if (buttonGroup.hasChildNodes()) {\n",
       "                toolbar.appendChild(buttonGroup);\n",
       "            }\n",
       "            buttonGroup = document.createElement('div');\n",
       "            buttonGroup.classList = 'mpl-button-group';\n",
       "            continue;\n",
       "        }\n",
       "\n",
       "        var button = (fig.buttons[name] = document.createElement('button'));\n",
       "        button.classList = 'mpl-widget';\n",
       "        button.setAttribute('role', 'button');\n",
       "        button.setAttribute('aria-disabled', 'false');\n",
       "        button.addEventListener('click', on_click_closure(method_name));\n",
       "        button.addEventListener('mouseover', on_mouseover_closure(tooltip));\n",
       "\n",
       "        var icon_img = document.createElement('img');\n",
       "        icon_img.src = '_images/' + image + '.png';\n",
       "        icon_img.srcset = '_images/' + image + '_large.png 2x';\n",
       "        icon_img.alt = tooltip;\n",
       "        button.appendChild(icon_img);\n",
       "\n",
       "        buttonGroup.appendChild(button);\n",
       "    }\n",
       "\n",
       "    if (buttonGroup.hasChildNodes()) {\n",
       "        toolbar.appendChild(buttonGroup);\n",
       "    }\n",
       "\n",
       "    var fmt_picker = document.createElement('select');\n",
       "    fmt_picker.classList = 'mpl-widget';\n",
       "    toolbar.appendChild(fmt_picker);\n",
       "    this.format_dropdown = fmt_picker;\n",
       "\n",
       "    for (var ind in mpl.extensions) {\n",
       "        var fmt = mpl.extensions[ind];\n",
       "        var option = document.createElement('option');\n",
       "        option.selected = fmt === mpl.default_extension;\n",
       "        option.innerHTML = fmt;\n",
       "        fmt_picker.appendChild(option);\n",
       "    }\n",
       "\n",
       "    var status_bar = document.createElement('span');\n",
       "    status_bar.classList = 'mpl-message';\n",
       "    toolbar.appendChild(status_bar);\n",
       "    this.message = status_bar;\n",
       "};\n",
       "\n",
       "mpl.figure.prototype.request_resize = function (x_pixels, y_pixels) {\n",
       "    // Request matplotlib to resize the figure. Matplotlib will then trigger a resize in the client,\n",
       "    // which will in turn request a refresh of the image.\n",
       "    this.send_message('resize', { width: x_pixels, height: y_pixels });\n",
       "};\n",
       "\n",
       "mpl.figure.prototype.send_message = function (type, properties) {\n",
       "    properties['type'] = type;\n",
       "    properties['figure_id'] = this.id;\n",
       "    this.ws.send(JSON.stringify(properties));\n",
       "};\n",
       "\n",
       "mpl.figure.prototype.send_draw_message = function () {\n",
       "    if (!this.waiting) {\n",
       "        this.waiting = true;\n",
       "        this.ws.send(JSON.stringify({ type: 'draw', figure_id: this.id }));\n",
       "    }\n",
       "};\n",
       "\n",
       "mpl.figure.prototype.handle_save = function (fig, _msg) {\n",
       "    var format_dropdown = fig.format_dropdown;\n",
       "    var format = format_dropdown.options[format_dropdown.selectedIndex].value;\n",
       "    fig.ondownload(fig, format);\n",
       "};\n",
       "\n",
       "mpl.figure.prototype.handle_resize = function (fig, msg) {\n",
       "    var size = msg['size'];\n",
       "    if (size[0] !== fig.canvas.width || size[1] !== fig.canvas.height) {\n",
       "        fig._resize_canvas(size[0], size[1], msg['forward']);\n",
       "        fig.send_message('refresh', {});\n",
       "    }\n",
       "};\n",
       "\n",
       "mpl.figure.prototype.handle_rubberband = function (fig, msg) {\n",
       "    var x0 = msg['x0'] / fig.ratio;\n",
       "    var y0 = (fig.canvas.height - msg['y0']) / fig.ratio;\n",
       "    var x1 = msg['x1'] / fig.ratio;\n",
       "    var y1 = (fig.canvas.height - msg['y1']) / fig.ratio;\n",
       "    x0 = Math.floor(x0) + 0.5;\n",
       "    y0 = Math.floor(y0) + 0.5;\n",
       "    x1 = Math.floor(x1) + 0.5;\n",
       "    y1 = Math.floor(y1) + 0.5;\n",
       "    var min_x = Math.min(x0, x1);\n",
       "    var min_y = Math.min(y0, y1);\n",
       "    var width = Math.abs(x1 - x0);\n",
       "    var height = Math.abs(y1 - y0);\n",
       "\n",
       "    fig.rubberband_context.clearRect(\n",
       "        0,\n",
       "        0,\n",
       "        fig.canvas.width / fig.ratio,\n",
       "        fig.canvas.height / fig.ratio\n",
       "    );\n",
       "\n",
       "    fig.rubberband_context.strokeRect(min_x, min_y, width, height);\n",
       "};\n",
       "\n",
       "mpl.figure.prototype.handle_figure_label = function (fig, msg) {\n",
       "    // Updates the figure title.\n",
       "    fig.header.textContent = msg['label'];\n",
       "};\n",
       "\n",
       "mpl.figure.prototype.handle_cursor = function (fig, msg) {\n",
       "    fig.rubberband_canvas.style.cursor = msg['cursor'];\n",
       "};\n",
       "\n",
       "mpl.figure.prototype.handle_message = function (fig, msg) {\n",
       "    fig.message.textContent = msg['message'];\n",
       "};\n",
       "\n",
       "mpl.figure.prototype.handle_draw = function (fig, _msg) {\n",
       "    // Request the server to send over a new figure.\n",
       "    fig.send_draw_message();\n",
       "};\n",
       "\n",
       "mpl.figure.prototype.handle_image_mode = function (fig, msg) {\n",
       "    fig.image_mode = msg['mode'];\n",
       "};\n",
       "\n",
       "mpl.figure.prototype.handle_history_buttons = function (fig, msg) {\n",
       "    for (var key in msg) {\n",
       "        if (!(key in fig.buttons)) {\n",
       "            continue;\n",
       "        }\n",
       "        fig.buttons[key].disabled = !msg[key];\n",
       "        fig.buttons[key].setAttribute('aria-disabled', !msg[key]);\n",
       "    }\n",
       "};\n",
       "\n",
       "mpl.figure.prototype.handle_navigate_mode = function (fig, msg) {\n",
       "    if (msg['mode'] === 'PAN') {\n",
       "        fig.buttons['Pan'].classList.add('active');\n",
       "        fig.buttons['Zoom'].classList.remove('active');\n",
       "    } else if (msg['mode'] === 'ZOOM') {\n",
       "        fig.buttons['Pan'].classList.remove('active');\n",
       "        fig.buttons['Zoom'].classList.add('active');\n",
       "    } else {\n",
       "        fig.buttons['Pan'].classList.remove('active');\n",
       "        fig.buttons['Zoom'].classList.remove('active');\n",
       "    }\n",
       "};\n",
       "\n",
       "mpl.figure.prototype.updated_canvas_event = function () {\n",
       "    // Called whenever the canvas gets updated.\n",
       "    this.send_message('ack', {});\n",
       "};\n",
       "\n",
       "// A function to construct a web socket function for onmessage handling.\n",
       "// Called in the figure constructor.\n",
       "mpl.figure.prototype._make_on_message_function = function (fig) {\n",
       "    return function socket_on_message(evt) {\n",
       "        if (evt.data instanceof Blob) {\n",
       "            var img = evt.data;\n",
       "            if (img.type !== 'image/png') {\n",
       "                /* FIXME: We get \"Resource interpreted as Image but\n",
       "                 * transferred with MIME type text/plain:\" errors on\n",
       "                 * Chrome.  But how to set the MIME type?  It doesn't seem\n",
       "                 * to be part of the websocket stream */\n",
       "                img.type = 'image/png';\n",
       "            }\n",
       "\n",
       "            /* Free the memory for the previous frames */\n",
       "            if (fig.imageObj.src) {\n",
       "                (window.URL || window.webkitURL).revokeObjectURL(\n",
       "                    fig.imageObj.src\n",
       "                );\n",
       "            }\n",
       "\n",
       "            fig.imageObj.src = (window.URL || window.webkitURL).createObjectURL(\n",
       "                img\n",
       "            );\n",
       "            fig.updated_canvas_event();\n",
       "            fig.waiting = false;\n",
       "            return;\n",
       "        } else if (\n",
       "            typeof evt.data === 'string' &&\n",
       "            evt.data.slice(0, 21) === 'data:image/png;base64'\n",
       "        ) {\n",
       "            fig.imageObj.src = evt.data;\n",
       "            fig.updated_canvas_event();\n",
       "            fig.waiting = false;\n",
       "            return;\n",
       "        }\n",
       "\n",
       "        var msg = JSON.parse(evt.data);\n",
       "        var msg_type = msg['type'];\n",
       "\n",
       "        // Call the  \"handle_{type}\" callback, which takes\n",
       "        // the figure and JSON message as its only arguments.\n",
       "        try {\n",
       "            var callback = fig['handle_' + msg_type];\n",
       "        } catch (e) {\n",
       "            console.log(\n",
       "                \"No handler for the '\" + msg_type + \"' message type: \",\n",
       "                msg\n",
       "            );\n",
       "            return;\n",
       "        }\n",
       "\n",
       "        if (callback) {\n",
       "            try {\n",
       "                // console.log(\"Handling '\" + msg_type + \"' message: \", msg);\n",
       "                callback(fig, msg);\n",
       "            } catch (e) {\n",
       "                console.log(\n",
       "                    \"Exception inside the 'handler_\" + msg_type + \"' callback:\",\n",
       "                    e,\n",
       "                    e.stack,\n",
       "                    msg\n",
       "                );\n",
       "            }\n",
       "        }\n",
       "    };\n",
       "};\n",
       "\n",
       "// from https://stackoverflow.com/questions/1114465/getting-mouse-location-in-canvas\n",
       "mpl.findpos = function (e) {\n",
       "    //this section is from http://www.quirksmode.org/js/events_properties.html\n",
       "    var targ;\n",
       "    if (!e) {\n",
       "        e = window.event;\n",
       "    }\n",
       "    if (e.target) {\n",
       "        targ = e.target;\n",
       "    } else if (e.srcElement) {\n",
       "        targ = e.srcElement;\n",
       "    }\n",
       "    if (targ.nodeType === 3) {\n",
       "        // defeat Safari bug\n",
       "        targ = targ.parentNode;\n",
       "    }\n",
       "\n",
       "    // pageX,Y are the mouse positions relative to the document\n",
       "    var boundingRect = targ.getBoundingClientRect();\n",
       "    var x = e.pageX - (boundingRect.left + document.body.scrollLeft);\n",
       "    var y = e.pageY - (boundingRect.top + document.body.scrollTop);\n",
       "\n",
       "    return { x: x, y: y };\n",
       "};\n",
       "\n",
       "/*\n",
       " * return a copy of an object with only non-object keys\n",
       " * we need this to avoid circular references\n",
       " * https://stackoverflow.com/a/24161582/3208463\n",
       " */\n",
       "function simpleKeys(original) {\n",
       "    return Object.keys(original).reduce(function (obj, key) {\n",
       "        if (typeof original[key] !== 'object') {\n",
       "            obj[key] = original[key];\n",
       "        }\n",
       "        return obj;\n",
       "    }, {});\n",
       "}\n",
       "\n",
       "mpl.figure.prototype.mouse_event = function (event, name) {\n",
       "    var canvas_pos = mpl.findpos(event);\n",
       "\n",
       "    if (name === 'button_press') {\n",
       "        this.canvas.focus();\n",
       "        this.canvas_div.focus();\n",
       "    }\n",
       "\n",
       "    var x = canvas_pos.x * this.ratio;\n",
       "    var y = canvas_pos.y * this.ratio;\n",
       "\n",
       "    this.send_message(name, {\n",
       "        x: x,\n",
       "        y: y,\n",
       "        button: event.button,\n",
       "        step: event.step,\n",
       "        guiEvent: simpleKeys(event),\n",
       "    });\n",
       "\n",
       "    /* This prevents the web browser from automatically changing to\n",
       "     * the text insertion cursor when the button is pressed.  We want\n",
       "     * to control all of the cursor setting manually through the\n",
       "     * 'cursor' event from matplotlib */\n",
       "    event.preventDefault();\n",
       "    return false;\n",
       "};\n",
       "\n",
       "mpl.figure.prototype._key_event_extra = function (_event, _name) {\n",
       "    // Handle any extra behaviour associated with a key event\n",
       "};\n",
       "\n",
       "mpl.figure.prototype.key_event = function (event, name) {\n",
       "    // Prevent repeat events\n",
       "    if (name === 'key_press') {\n",
       "        if (event.key === this._key) {\n",
       "            return;\n",
       "        } else {\n",
       "            this._key = event.key;\n",
       "        }\n",
       "    }\n",
       "    if (name === 'key_release') {\n",
       "        this._key = null;\n",
       "    }\n",
       "\n",
       "    var value = '';\n",
       "    if (event.ctrlKey && event.key !== 'Control') {\n",
       "        value += 'ctrl+';\n",
       "    }\n",
       "    else if (event.altKey && event.key !== 'Alt') {\n",
       "        value += 'alt+';\n",
       "    }\n",
       "    else if (event.shiftKey && event.key !== 'Shift') {\n",
       "        value += 'shift+';\n",
       "    }\n",
       "\n",
       "    value += 'k' + event.key;\n",
       "\n",
       "    this._key_event_extra(event, name);\n",
       "\n",
       "    this.send_message(name, { key: value, guiEvent: simpleKeys(event) });\n",
       "    return false;\n",
       "};\n",
       "\n",
       "mpl.figure.prototype.toolbar_button_onclick = function (name) {\n",
       "    if (name === 'download') {\n",
       "        this.handle_save(this, null);\n",
       "    } else {\n",
       "        this.send_message('toolbar_button', { name: name });\n",
       "    }\n",
       "};\n",
       "\n",
       "mpl.figure.prototype.toolbar_button_onmouseover = function (tooltip) {\n",
       "    this.message.textContent = tooltip;\n",
       "};\n",
       "\n",
       "///////////////// REMAINING CONTENT GENERATED BY embed_js.py /////////////////\n",
       "// prettier-ignore\n",
       "var _JSXTOOLS_RESIZE_OBSERVER=function(A){var t,i=new WeakMap,n=new WeakMap,a=new WeakMap,r=new WeakMap,o=new Set;function s(e){if(!(this instanceof s))throw new TypeError(\"Constructor requires 'new' operator\");i.set(this,e)}function h(){throw new TypeError(\"Function is not a constructor\")}function c(e,t,i,n){e=0 in arguments?Number(arguments[0]):0,t=1 in arguments?Number(arguments[1]):0,i=2 in arguments?Number(arguments[2]):0,n=3 in arguments?Number(arguments[3]):0,this.right=(this.x=this.left=e)+(this.width=i),this.bottom=(this.y=this.top=t)+(this.height=n),Object.freeze(this)}function d(){t=requestAnimationFrame(d);var s=new WeakMap,p=new Set;o.forEach((function(t){r.get(t).forEach((function(i){var r=t instanceof window.SVGElement,o=a.get(t),d=r?0:parseFloat(o.paddingTop),f=r?0:parseFloat(o.paddingRight),l=r?0:parseFloat(o.paddingBottom),u=r?0:parseFloat(o.paddingLeft),g=r?0:parseFloat(o.borderTopWidth),m=r?0:parseFloat(o.borderRightWidth),w=r?0:parseFloat(o.borderBottomWidth),b=u+f,F=d+l,v=(r?0:parseFloat(o.borderLeftWidth))+m,W=g+w,y=r?0:t.offsetHeight-W-t.clientHeight,E=r?0:t.offsetWidth-v-t.clientWidth,R=b+v,z=F+W,M=r?t.width:parseFloat(o.width)-R-E,O=r?t.height:parseFloat(o.height)-z-y;if(n.has(t)){var k=n.get(t);if(k[0]===M&&k[1]===O)return}n.set(t,[M,O]);var S=Object.create(h.prototype);S.target=t,S.contentRect=new c(u,d,M,O),s.has(i)||(s.set(i,[]),p.add(i)),s.get(i).push(S)}))})),p.forEach((function(e){i.get(e).call(e,s.get(e),e)}))}return s.prototype.observe=function(i){if(i instanceof window.Element){r.has(i)||(r.set(i,new Set),o.add(i),a.set(i,window.getComputedStyle(i)));var n=r.get(i);n.has(this)||n.add(this),cancelAnimationFrame(t),t=requestAnimationFrame(d)}},s.prototype.unobserve=function(i){if(i instanceof window.Element&&r.has(i)){var n=r.get(i);n.has(this)&&(n.delete(this),n.size||(r.delete(i),o.delete(i))),n.size||r.delete(i),o.size||cancelAnimationFrame(t)}},A.DOMRectReadOnly=c,A.ResizeObserver=s,A.ResizeObserverEntry=h,A}; // eslint-disable-line\n",
       "mpl.toolbar_items = [[\"Home\", \"Reset original view\", \"fa fa-home icon-home\", \"home\"], [\"Back\", \"Back to previous view\", \"fa fa-arrow-left icon-arrow-left\", \"back\"], [\"Forward\", \"Forward to next view\", \"fa fa-arrow-right icon-arrow-right\", \"forward\"], [\"\", \"\", \"\", \"\"], [\"Pan\", \"Left button pans, Right button zooms\\nx/y fixes axis, CTRL fixes aspect\", \"fa fa-arrows icon-move\", \"pan\"], [\"Zoom\", \"Zoom to rectangle\\nx/y fixes axis\", \"fa fa-square-o icon-check-empty\", \"zoom\"], [\"\", \"\", \"\", \"\"], [\"Download\", \"Download plot\", \"fa fa-floppy-o icon-save\", \"download\"]];\n",
       "\n",
       "mpl.extensions = [\"eps\", \"jpeg\", \"pgf\", \"pdf\", \"png\", \"ps\", \"raw\", \"svg\", \"tif\"];\n",
       "\n",
       "mpl.default_extension = \"png\";/* global mpl */\n",
       "\n",
       "var comm_websocket_adapter = function (comm) {\n",
       "    // Create a \"websocket\"-like object which calls the given IPython comm\n",
       "    // object with the appropriate methods. Currently this is a non binary\n",
       "    // socket, so there is still some room for performance tuning.\n",
       "    var ws = {};\n",
       "\n",
       "    ws.binaryType = comm.kernel.ws.binaryType;\n",
       "    ws.readyState = comm.kernel.ws.readyState;\n",
       "    function updateReadyState(_event) {\n",
       "        if (comm.kernel.ws) {\n",
       "            ws.readyState = comm.kernel.ws.readyState;\n",
       "        } else {\n",
       "            ws.readyState = 3; // Closed state.\n",
       "        }\n",
       "    }\n",
       "    comm.kernel.ws.addEventListener('open', updateReadyState);\n",
       "    comm.kernel.ws.addEventListener('close', updateReadyState);\n",
       "    comm.kernel.ws.addEventListener('error', updateReadyState);\n",
       "\n",
       "    ws.close = function () {\n",
       "        comm.close();\n",
       "    };\n",
       "    ws.send = function (m) {\n",
       "        //console.log('sending', m);\n",
       "        comm.send(m);\n",
       "    };\n",
       "    // Register the callback with on_msg.\n",
       "    comm.on_msg(function (msg) {\n",
       "        //console.log('receiving', msg['content']['data'], msg);\n",
       "        var data = msg['content']['data'];\n",
       "        if (data['blob'] !== undefined) {\n",
       "            data = {\n",
       "                data: new Blob(msg['buffers'], { type: data['blob'] }),\n",
       "            };\n",
       "        }\n",
       "        // Pass the mpl event to the overridden (by mpl) onmessage function.\n",
       "        ws.onmessage(data);\n",
       "    });\n",
       "    return ws;\n",
       "};\n",
       "\n",
       "mpl.mpl_figure_comm = function (comm, msg) {\n",
       "    // This is the function which gets called when the mpl process\n",
       "    // starts-up an IPython Comm through the \"matplotlib\" channel.\n",
       "\n",
       "    var id = msg.content.data.id;\n",
       "    // Get hold of the div created by the display call when the Comm\n",
       "    // socket was opened in Python.\n",
       "    var element = document.getElementById(id);\n",
       "    var ws_proxy = comm_websocket_adapter(comm);\n",
       "\n",
       "    function ondownload(figure, _format) {\n",
       "        window.open(figure.canvas.toDataURL());\n",
       "    }\n",
       "\n",
       "    var fig = new mpl.figure(id, ws_proxy, ondownload, element);\n",
       "\n",
       "    // Call onopen now - mpl needs it, as it is assuming we've passed it a real\n",
       "    // web socket which is closed, not our websocket->open comm proxy.\n",
       "    ws_proxy.onopen();\n",
       "\n",
       "    fig.parent_element = element;\n",
       "    fig.cell_info = mpl.find_output_cell(\"<div id='\" + id + \"'></div>\");\n",
       "    if (!fig.cell_info) {\n",
       "        console.error('Failed to find cell for figure', id, fig);\n",
       "        return;\n",
       "    }\n",
       "    fig.cell_info[0].output_area.element.on(\n",
       "        'cleared',\n",
       "        { fig: fig },\n",
       "        fig._remove_fig_handler\n",
       "    );\n",
       "};\n",
       "\n",
       "mpl.figure.prototype.handle_close = function (fig, msg) {\n",
       "    var width = fig.canvas.width / fig.ratio;\n",
       "    fig.cell_info[0].output_area.element.off(\n",
       "        'cleared',\n",
       "        fig._remove_fig_handler\n",
       "    );\n",
       "    fig.resizeObserverInstance.unobserve(fig.canvas_div);\n",
       "\n",
       "    // Update the output cell to use the data from the current canvas.\n",
       "    fig.push_to_output();\n",
       "    var dataURL = fig.canvas.toDataURL();\n",
       "    // Re-enable the keyboard manager in IPython - without this line, in FF,\n",
       "    // the notebook keyboard shortcuts fail.\n",
       "    IPython.keyboard_manager.enable();\n",
       "    fig.parent_element.innerHTML =\n",
       "        '<img src=\"' + dataURL + '\" width=\"' + width + '\">';\n",
       "    fig.close_ws(fig, msg);\n",
       "};\n",
       "\n",
       "mpl.figure.prototype.close_ws = function (fig, msg) {\n",
       "    fig.send_message('closing', msg);\n",
       "    // fig.ws.close()\n",
       "};\n",
       "\n",
       "mpl.figure.prototype.push_to_output = function (_remove_interactive) {\n",
       "    // Turn the data on the canvas into data in the output cell.\n",
       "    var width = this.canvas.width / this.ratio;\n",
       "    var dataURL = this.canvas.toDataURL();\n",
       "    this.cell_info[1]['text/html'] =\n",
       "        '<img src=\"' + dataURL + '\" width=\"' + width + '\">';\n",
       "};\n",
       "\n",
       "mpl.figure.prototype.updated_canvas_event = function () {\n",
       "    // Tell IPython that the notebook contents must change.\n",
       "    IPython.notebook.set_dirty(true);\n",
       "    this.send_message('ack', {});\n",
       "    var fig = this;\n",
       "    // Wait a second, then push the new image to the DOM so\n",
       "    // that it is saved nicely (might be nice to debounce this).\n",
       "    setTimeout(function () {\n",
       "        fig.push_to_output();\n",
       "    }, 1000);\n",
       "};\n",
       "\n",
       "mpl.figure.prototype._init_toolbar = function () {\n",
       "    var fig = this;\n",
       "\n",
       "    var toolbar = document.createElement('div');\n",
       "    toolbar.classList = 'btn-toolbar';\n",
       "    this.root.appendChild(toolbar);\n",
       "\n",
       "    function on_click_closure(name) {\n",
       "        return function (_event) {\n",
       "            return fig.toolbar_button_onclick(name);\n",
       "        };\n",
       "    }\n",
       "\n",
       "    function on_mouseover_closure(tooltip) {\n",
       "        return function (event) {\n",
       "            if (!event.currentTarget.disabled) {\n",
       "                return fig.toolbar_button_onmouseover(tooltip);\n",
       "            }\n",
       "        };\n",
       "    }\n",
       "\n",
       "    fig.buttons = {};\n",
       "    var buttonGroup = document.createElement('div');\n",
       "    buttonGroup.classList = 'btn-group';\n",
       "    var button;\n",
       "    for (var toolbar_ind in mpl.toolbar_items) {\n",
       "        var name = mpl.toolbar_items[toolbar_ind][0];\n",
       "        var tooltip = mpl.toolbar_items[toolbar_ind][1];\n",
       "        var image = mpl.toolbar_items[toolbar_ind][2];\n",
       "        var method_name = mpl.toolbar_items[toolbar_ind][3];\n",
       "\n",
       "        if (!name) {\n",
       "            /* Instead of a spacer, we start a new button group. */\n",
       "            if (buttonGroup.hasChildNodes()) {\n",
       "                toolbar.appendChild(buttonGroup);\n",
       "            }\n",
       "            buttonGroup = document.createElement('div');\n",
       "            buttonGroup.classList = 'btn-group';\n",
       "            continue;\n",
       "        }\n",
       "\n",
       "        button = fig.buttons[name] = document.createElement('button');\n",
       "        button.classList = 'btn btn-default';\n",
       "        button.href = '#';\n",
       "        button.title = name;\n",
       "        button.innerHTML = '<i class=\"fa ' + image + ' fa-lg\"></i>';\n",
       "        button.addEventListener('click', on_click_closure(method_name));\n",
       "        button.addEventListener('mouseover', on_mouseover_closure(tooltip));\n",
       "        buttonGroup.appendChild(button);\n",
       "    }\n",
       "\n",
       "    if (buttonGroup.hasChildNodes()) {\n",
       "        toolbar.appendChild(buttonGroup);\n",
       "    }\n",
       "\n",
       "    // Add the status bar.\n",
       "    var status_bar = document.createElement('span');\n",
       "    status_bar.classList = 'mpl-message pull-right';\n",
       "    toolbar.appendChild(status_bar);\n",
       "    this.message = status_bar;\n",
       "\n",
       "    // Add the close button to the window.\n",
       "    var buttongrp = document.createElement('div');\n",
       "    buttongrp.classList = 'btn-group inline pull-right';\n",
       "    button = document.createElement('button');\n",
       "    button.classList = 'btn btn-mini btn-primary';\n",
       "    button.href = '#';\n",
       "    button.title = 'Stop Interaction';\n",
       "    button.innerHTML = '<i class=\"fa fa-power-off icon-remove icon-large\"></i>';\n",
       "    button.addEventListener('click', function (_evt) {\n",
       "        fig.handle_close(fig, {});\n",
       "    });\n",
       "    button.addEventListener(\n",
       "        'mouseover',\n",
       "        on_mouseover_closure('Stop Interaction')\n",
       "    );\n",
       "    buttongrp.appendChild(button);\n",
       "    var titlebar = this.root.querySelector('.ui-dialog-titlebar');\n",
       "    titlebar.insertBefore(buttongrp, titlebar.firstChild);\n",
       "};\n",
       "\n",
       "mpl.figure.prototype._remove_fig_handler = function (event) {\n",
       "    var fig = event.data.fig;\n",
       "    if (event.target !== this) {\n",
       "        // Ignore bubbled events from children.\n",
       "        return;\n",
       "    }\n",
       "    fig.close_ws(fig, {});\n",
       "};\n",
       "\n",
       "mpl.figure.prototype._root_extra_style = function (el) {\n",
       "    el.style.boxSizing = 'content-box'; // override notebook setting of border-box.\n",
       "};\n",
       "\n",
       "mpl.figure.prototype._canvas_extra_style = function (el) {\n",
       "    // this is important to make the div 'focusable\n",
       "    el.setAttribute('tabindex', 0);\n",
       "    // reach out to IPython and tell the keyboard manager to turn it's self\n",
       "    // off when our div gets focus\n",
       "\n",
       "    // location in version 3\n",
       "    if (IPython.notebook.keyboard_manager) {\n",
       "        IPython.notebook.keyboard_manager.register_events(el);\n",
       "    } else {\n",
       "        // location in version 2\n",
       "        IPython.keyboard_manager.register_events(el);\n",
       "    }\n",
       "};\n",
       "\n",
       "mpl.figure.prototype._key_event_extra = function (event, _name) {\n",
       "    // Check for shift+enter\n",
       "    if (event.shiftKey && event.which === 13) {\n",
       "        this.canvas_div.blur();\n",
       "        // select the cell after this one\n",
       "        var index = IPython.notebook.find_cell_index(this.cell_info[0]);\n",
       "        IPython.notebook.select(index + 1);\n",
       "    }\n",
       "};\n",
       "\n",
       "mpl.figure.prototype.handle_save = function (fig, _msg) {\n",
       "    fig.ondownload(fig, null);\n",
       "};\n",
       "\n",
       "mpl.find_output_cell = function (html_output) {\n",
       "    // Return the cell and output element which can be found *uniquely* in the notebook.\n",
       "    // Note - this is a bit hacky, but it is done because the \"notebook_saving.Notebook\"\n",
       "    // IPython event is triggered only after the cells have been serialised, which for\n",
       "    // our purposes (turning an active figure into a static one), is too late.\n",
       "    var cells = IPython.notebook.get_cells();\n",
       "    var ncells = cells.length;\n",
       "    for (var i = 0; i < ncells; i++) {\n",
       "        var cell = cells[i];\n",
       "        if (cell.cell_type === 'code') {\n",
       "            for (var j = 0; j < cell.output_area.outputs.length; j++) {\n",
       "                var data = cell.output_area.outputs[j];\n",
       "                if (data.data) {\n",
       "                    // IPython >= 3 moved mimebundle to data attribute of output\n",
       "                    data = data.data;\n",
       "                }\n",
       "                if (data['text/html'] === html_output) {\n",
       "                    return [cell, data, j];\n",
       "                }\n",
       "            }\n",
       "        }\n",
       "    }\n",
       "};\n",
       "\n",
       "// Register the function which deals with the matplotlib target/channel.\n",
       "// The kernel may be null if the page has been refreshed.\n",
       "if (IPython.notebook.kernel !== null) {\n",
       "    IPython.notebook.kernel.comm_manager.register_target(\n",
       "        'matplotlib',\n",
       "        mpl.mpl_figure_comm\n",
       "    );\n",
       "}\n"
      ],
      "text/plain": [
       "<IPython.core.display.Javascript object>"
      ]
     },
     "metadata": {},
     "output_type": "display_data"
    },
    {
     "data": {
      "text/html": [
       "<img src=\"data:image/png;base64,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\" width=\"600\">"
      ],
      "text/plain": [
       "<IPython.core.display.HTML object>"
      ]
     },
     "metadata": {},
     "output_type": "display_data"
    },
    {
     "data": {
      "text/plain": [
       "<seaborn.axisgrid.FacetGrid at 0x7f9336544760>"
      ]
     },
     "execution_count": 77,
     "metadata": {},
     "output_type": "execute_result"
    }
   ],
   "source": [
    "%matplotlib notebook\n",
    "plt.ion()\n",
    "g = sns.FacetGrid(mpg, col=\"year\")\n",
    "g.map_dataframe(sns.histplot, x=\"class\",hue='drv')"
   ]
  }
 ],
 "metadata": {
  "kernelspec": {
   "display_name": "Python 3 (ipykernel)",
   "language": "python",
   "name": "python3"
  },
  "language_info": {
   "codemirror_mode": {
    "name": "ipython",
    "version": 3
   },
   "file_extension": ".py",
   "mimetype": "text/x-python",
   "name": "python",
   "nbconvert_exporter": "python",
   "pygments_lexer": "ipython3",
   "version": "3.8.8"
  }
 },
 "nbformat": 4,
 "nbformat_minor": 4
}
