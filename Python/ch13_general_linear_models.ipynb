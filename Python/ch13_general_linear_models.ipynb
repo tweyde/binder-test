{
 "cells": [
  {
   "cell_type": "markdown",
   "metadata": {},
   "source": [
    "# Chapter 13: General Linear Models"
   ]
  },
  {
   "cell_type": "code",
   "execution_count": 1,
   "metadata": {},
   "outputs": [],
   "source": [
    "import numpy as np\n",
    "import pandas as pd\n",
    "import matplotlib.pyplot as plt\n",
    "import seaborn as sns\n",
    "\n",
    "import scipy.stats"
   ]
  },
  {
   "cell_type": "code",
   "execution_count": 2,
   "metadata": {},
   "outputs": [
    {
     "data": {
      "text/html": [
       "<div>\n",
       "<style scoped>\n",
       "    .dataframe tbody tr th:only-of-type {\n",
       "        vertical-align: middle;\n",
       "    }\n",
       "\n",
       "    .dataframe tbody tr th {\n",
       "        vertical-align: top;\n",
       "    }\n",
       "\n",
       "    .dataframe thead th {\n",
       "        text-align: right;\n",
       "    }\n",
       "</style>\n",
       "<table border=\"1\" class=\"dataframe\">\n",
       "  <thead>\n",
       "    <tr style=\"text-align: right;\">\n",
       "      <th></th>\n",
       "      <th>admit</th>\n",
       "      <th>gre</th>\n",
       "      <th>gpa</th>\n",
       "      <th>rank</th>\n",
       "    </tr>\n",
       "  </thead>\n",
       "  <tbody>\n",
       "    <tr>\n",
       "      <th>0</th>\n",
       "      <td>0</td>\n",
       "      <td>380</td>\n",
       "      <td>3.61</td>\n",
       "      <td>3</td>\n",
       "    </tr>\n",
       "    <tr>\n",
       "      <th>1</th>\n",
       "      <td>1</td>\n",
       "      <td>660</td>\n",
       "      <td>3.67</td>\n",
       "      <td>3</td>\n",
       "    </tr>\n",
       "    <tr>\n",
       "      <th>2</th>\n",
       "      <td>1</td>\n",
       "      <td>800</td>\n",
       "      <td>4.00</td>\n",
       "      <td>1</td>\n",
       "    </tr>\n",
       "    <tr>\n",
       "      <th>3</th>\n",
       "      <td>1</td>\n",
       "      <td>640</td>\n",
       "      <td>3.19</td>\n",
       "      <td>4</td>\n",
       "    </tr>\n",
       "    <tr>\n",
       "      <th>4</th>\n",
       "      <td>0</td>\n",
       "      <td>520</td>\n",
       "      <td>2.93</td>\n",
       "      <td>4</td>\n",
       "    </tr>\n",
       "    <tr>\n",
       "      <th>5</th>\n",
       "      <td>1</td>\n",
       "      <td>760</td>\n",
       "      <td>3.00</td>\n",
       "      <td>2</td>\n",
       "    </tr>\n",
       "  </tbody>\n",
       "</table>\n",
       "</div>"
      ],
      "text/plain": [
       "   admit  gre   gpa  rank\n",
       "0      0  380  3.61     3\n",
       "1      1  660  3.67     3\n",
       "2      1  800  4.00     1\n",
       "3      1  640  3.19     4\n",
       "4      0  520  2.93     4\n",
       "5      1  760  3.00     2"
      ]
     },
     "execution_count": 2,
     "metadata": {},
     "output_type": "execute_result"
    }
   ],
   "source": [
    "admit = pd.read_csv(\"../data/admit.csv\")\n",
    "admit.head(6)"
   ]
  },
  {
   "cell_type": "markdown",
   "metadata": {},
   "source": [
    "## Baseline Model"
   ]
  },
  {
   "cell_type": "code",
   "execution_count": 3,
   "metadata": {},
   "outputs": [
    {
     "name": "stdout",
     "output_type": "stream",
     "text": [
      "     fun: 249.98825877745776\n",
      "     jac: array([0.])\n",
      " message: 'Positive directional derivative for linesearch'\n",
      "    nfev: 29\n",
      "     nit: 12\n",
      "    njev: 8\n",
      "  status: 8\n",
      " success: False\n",
      "       x: array([0.31749999])\n"
     ]
    },
    {
     "name": "stderr",
     "output_type": "stream",
     "text": [
      "<ipython-input-3-55fc32290d63>:3: RuntimeWarning: invalid value encountered in log\n",
      "  LL = np.sum(np.log(p))\n",
      "<ipython-input-3-55fc32290d63>:3: RuntimeWarning: invalid value encountered in log\n",
      "  LL = np.sum(np.log(p))\n",
      "<ipython-input-3-55fc32290d63>:3: RuntimeWarning: invalid value encountered in log\n",
      "  LL = np.sum(np.log(p))\n"
     ]
    }
   ],
   "source": [
    "def LLbinary(pi):\n",
    "    p = np.where(admit.admit == 1, pi, 1-pi)\n",
    "    LL = np.sum(np.log(p))\n",
    "    return(-1*LL)\n",
    "constraint = ({'type': 'eq', 'fun': lambda x: x[0]+(1-x[0])})\n",
    "res1 = scipy.optimize.minimize(LLbinary, x0 = .5, constraints=constraint)\n",
    "print(res1)"
   ]
  },
  {
   "cell_type": "markdown",
   "metadata": {},
   "source": [
    "## Logistic Regression"
   ]
  },
  {
   "cell_type": "code",
   "execution_count": 4,
   "metadata": {},
   "outputs": [
    {
     "name": "stdout",
     "output_type": "stream",
     "text": [
      "     fun: 277.2588722239781\n",
      "     jac: array([   73.        , 38940.26725769,   234.85000992,   224.00000763])\n",
      " message: 'Singular matrix C in LSQ subproblem'\n",
      "    nfev: 5\n",
      "     nit: 1\n",
      "    njev: 1\n",
      "  status: 6\n",
      " success: False\n",
      "       x: array([0., 0., 0., 0.])\n"
     ]
    }
   ],
   "source": [
    "def LLbinary(params):\n",
    "    b0, b1, b2, b3 = params\n",
    "    X = b0 + b1*admit['gre'] + b2*admit['gpa'] + b3*admit['rank']\n",
    "    pi = np.exp(X)/(1+np.exp(X))\n",
    "    p = np.where(admit.admit == 1, pi, 1-pi)\n",
    "    LL = np.sum(np.log(p))\n",
    "    return(-1*LL)\n",
    "constraint = ({'type': 'eq', 'fun': lambda x: x[0]+(1-x[0])})\n",
    "res2 = scipy.optimize.minimize(LLbinary, x0 = [0, 0, 0, 0], constraints=constraint)\n",
    "print(res2)"
   ]
  },
  {
   "cell_type": "markdown",
   "metadata": {},
   "source": [
    "## Probit Regression"
   ]
  },
  {
   "cell_type": "code",
   "execution_count": 5,
   "metadata": {},
   "outputs": [
    {
     "name": "stdout",
     "output_type": "stream",
     "text": [
      "     fun: 277.2588722239781\n",
      "     jac: array([  116.49115372, 62139.93015289,   374.7664032 ,   357.45230103])\n",
      " message: 'Singular matrix C in LSQ subproblem'\n",
      "    nfev: 5\n",
      "     nit: 1\n",
      "    njev: 1\n",
      "  status: 6\n",
      " success: False\n",
      "       x: array([0., 0., 0., 0.])\n"
     ]
    }
   ],
   "source": [
    "def LLbinary(params):\n",
    "    b0, b1, b2, b3 = params\n",
    "    X = b0 + b1*admit['gre'] + b2*admit['gpa'] + b3*admit['rank']\n",
    "    pi = scipy.stats.norm.cdf(X)\n",
    "    p = np.where(admit.admit == 1, pi, 1-pi)\n",
    "    LL = np.sum(np.log(p))\n",
    "    return(-1*LL)\n",
    "constraint = ({'type': 'eq', 'fun': lambda x: x[0]+(1-x[0])})\n",
    "res3 = scipy.optimize.minimize(LLbinary, x0 = [0, 0, 0, 0], constraints=constraint)\n",
    "print(res3)"
   ]
  },
  {
   "cell_type": "markdown",
   "metadata": {},
   "source": [
    "## Count Outcomes"
   ]
  },
  {
   "cell_type": "code",
   "execution_count": 6,
   "metadata": {},
   "outputs": [
    {
     "data": {
      "text/html": [
       "<div>\n",
       "<style scoped>\n",
       "    .dataframe tbody tr th:only-of-type {\n",
       "        vertical-align: middle;\n",
       "    }\n",
       "\n",
       "    .dataframe tbody tr th {\n",
       "        vertical-align: top;\n",
       "    }\n",
       "\n",
       "    .dataframe thead th {\n",
       "        text-align: right;\n",
       "    }\n",
       "</style>\n",
       "<table border=\"1\" class=\"dataframe\">\n",
       "  <thead>\n",
       "    <tr style=\"text-align: right;\">\n",
       "      <th></th>\n",
       "      <th>id</th>\n",
       "      <th>gender</th>\n",
       "      <th>math</th>\n",
       "      <th>prog</th>\n",
       "      <th>daysabs</th>\n",
       "    </tr>\n",
       "  </thead>\n",
       "  <tbody>\n",
       "    <tr>\n",
       "      <th>0</th>\n",
       "      <td>1001</td>\n",
       "      <td>0</td>\n",
       "      <td>63</td>\n",
       "      <td>2</td>\n",
       "      <td>4</td>\n",
       "    </tr>\n",
       "    <tr>\n",
       "      <th>1</th>\n",
       "      <td>1002</td>\n",
       "      <td>0</td>\n",
       "      <td>27</td>\n",
       "      <td>2</td>\n",
       "      <td>4</td>\n",
       "    </tr>\n",
       "    <tr>\n",
       "      <th>2</th>\n",
       "      <td>1003</td>\n",
       "      <td>1</td>\n",
       "      <td>20</td>\n",
       "      <td>2</td>\n",
       "      <td>2</td>\n",
       "    </tr>\n",
       "    <tr>\n",
       "      <th>3</th>\n",
       "      <td>1004</td>\n",
       "      <td>1</td>\n",
       "      <td>16</td>\n",
       "      <td>2</td>\n",
       "      <td>3</td>\n",
       "    </tr>\n",
       "    <tr>\n",
       "      <th>4</th>\n",
       "      <td>1005</td>\n",
       "      <td>1</td>\n",
       "      <td>2</td>\n",
       "      <td>2</td>\n",
       "      <td>3</td>\n",
       "    </tr>\n",
       "    <tr>\n",
       "      <th>5</th>\n",
       "      <td>1006</td>\n",
       "      <td>1</td>\n",
       "      <td>71</td>\n",
       "      <td>2</td>\n",
       "      <td>13</td>\n",
       "    </tr>\n",
       "  </tbody>\n",
       "</table>\n",
       "</div>"
      ],
      "text/plain": [
       "     id  gender  math  prog  daysabs\n",
       "0  1001       0    63     2        4\n",
       "1  1002       0    27     2        4\n",
       "2  1003       1    20     2        2\n",
       "3  1004       1    16     2        3\n",
       "4  1005       1     2     2        3\n",
       "5  1006       1    71     2       13"
      ]
     },
     "execution_count": 6,
     "metadata": {},
     "output_type": "execute_result"
    }
   ],
   "source": [
    "student = pd.read_csv(\"../data/student.csv\")\n",
    "student.head(6)"
   ]
  },
  {
   "cell_type": "code",
   "execution_count": 7,
   "metadata": {},
   "outputs": [
    {
     "name": "stdout",
     "output_type": "stream",
     "text": [
      "     fun: nan\n",
      "     jac: array([nan])\n",
      " message: 'Inequality constraints incompatible'\n",
      "    nfev: 2\n",
      "     nit: 1\n",
      "    njev: 1\n",
      "  status: 4\n",
      " success: False\n",
      "       x: array([10.])\n"
     ]
    },
    {
     "name": "stderr",
     "output_type": "stream",
     "text": [
      "<ipython-input-7-8e8dd742feb8>:3: RuntimeWarning: invalid value encountered in log\n",
      "  LL = np.sum(np.log(p))\n"
     ]
    }
   ],
   "source": [
    "def LLpois(params):\n",
    "    p = scipy.stats.poisson.ppf(student['daysabs'], params)\n",
    "    LL = np.sum(np.log(p))\n",
    "    return(-1*LL)\n",
    "constraint = ({'type': 'eq', 'fun': lambda x: x[0]+(1-x[0])})\n",
    "res4 = scipy.optimize.minimize(LLpois, x0 = 10, constraints=constraint)\n",
    "print(res4)"
   ]
  },
  {
   "cell_type": "markdown",
   "metadata": {},
   "source": [
    "## Poisson Regression"
   ]
  },
  {
   "cell_type": "code",
   "execution_count": 8,
   "metadata": {},
   "outputs": [
    {
     "name": "stdout",
     "output_type": "stream",
     "text": [
      "     fun: nan\n",
      "     jac: array([nan, nan, nan, nan])\n",
      " message: 'Singular matrix C in LSQ subproblem'\n",
      "    nfev: 5\n",
      "     nit: 1\n",
      "    njev: 1\n",
      "  status: 6\n",
      " success: False\n",
      "       x: array([1.78507048, 0.        , 0.        , 0.        ])\n"
     ]
    },
    {
     "name": "stderr",
     "output_type": "stream",
     "text": [
      "<ipython-input-8-cfc7b669b4d1>:6: RuntimeWarning: invalid value encountered in log\n",
      "  LL = np.sum(np.log(p))\n"
     ]
    }
   ],
   "source": [
    "def LLpois(params):\n",
    "    b0, b1, b2, b3 = params\n",
    "    X = b0 + b1*student['gender'] + b2*student['math'] + b3*student['prog']\n",
    "    lam = np.exp(X)\n",
    "    p = scipy.stats.poisson.ppf(student['daysabs'], lam)\n",
    "    LL = np.sum(np.log(p))\n",
    "    return(-1*LL)\n",
    "constraint = ({'type': 'eq', 'fun': lambda x: x[0]+(1-x[0])})\n",
    "res5 = scipy.optimize.minimize(LLpois, x0 = [np.log(5.96), 0, 0, 0], constraints=constraint)\n",
    "print(res5)"
   ]
  }
 ],
 "metadata": {
  "kernelspec": {
   "display_name": "Python 3",
   "language": "python",
   "name": "python3"
  },
  "language_info": {
   "codemirror_mode": {
    "name": "ipython",
    "version": 3
   },
   "file_extension": ".py",
   "mimetype": "text/x-python",
   "name": "python",
   "nbconvert_exporter": "python",
   "pygments_lexer": "ipython3",
   "version": "3.8.5"
  }
 },
 "nbformat": 4,
 "nbformat_minor": 4
}
