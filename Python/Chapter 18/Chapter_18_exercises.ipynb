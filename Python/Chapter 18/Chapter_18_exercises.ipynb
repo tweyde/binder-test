{
 "cells": [
  {
   "cell_type": "markdown",
   "metadata": {},
   "source": [
    "# Chapter 18: Regression Models and Evaluation\n",
    "## Exercises solutions"
   ]
  },
  {
   "cell_type": "markdown",
   "metadata": {},
   "source": [
    "## Exercises 1\n",
    "Inspect the coefficients of the linear model trained on the polynomial features. Find the coefficient responsible for the large error and explain why it has an especially strong effect on the polynomial features. "
   ]
  },
  {
   "cell_type": "markdown",
   "metadata": {},
   "source": [
    "For this exercise we will use the *diabetes* dataset: this dataset has 10 attributes about a patient as features and disease progression after a year as the target. The dataset contains data for 442 patients."
   ]
  },
  {
   "cell_type": "code",
   "execution_count": 6,
   "metadata": {},
   "outputs": [],
   "source": [
    "# import all the modules\n",
    "import sklearn\n",
    "from sklearn.datasets import load_diabetes\n",
    "import pandas as pd\n",
    "import numpy as np\n",
    "import matplotlib.pyplot as plt\n",
    "import time"
   ]
  },
  {
   "cell_type": "markdown",
   "metadata": {},
   "source": [
    "We load the dataset and analyse its attributes:"
   ]
  },
  {
   "cell_type": "code",
   "execution_count": 7,
   "metadata": {},
   "outputs": [
    {
     "name": "stdout",
     "output_type": "stream",
     "text": [
      "Dataset type: \n",
      "<class 'sklearn.utils.Bunch'>\n",
      "\n",
      "Dataset attributes: \n",
      "dict_keys(['data', 'target', 'frame', 'DESCR', 'feature_names', 'data_filename', 'target_filename', 'data_module'])\n",
      "\n",
      "Feaures names: \n",
      "['age', 'sex', 'bmi', 'bp', 's1', 's2', 's3', 's4', 's5', 's6']\n",
      "\n",
      "Feaures file name: \n",
      "diabetes_data.csv.gz\n",
      "\n",
      "Target file name: \n",
      "diabetes_target.csv.gz\n",
      "\n",
      "Number of samples: \n",
      "442\n",
      "\n"
     ]
    }
   ],
   "source": [
    "# load the dataset\n",
    "dataset = load_diabetes()\n",
    "# store the features in a variable X\n",
    "X = dataset.data\n",
    "# store the targets in a variable y \n",
    "y = dataset.target\n",
    "\n",
    "# we can see that this dataset is a class \n",
    "print(f'Dataset type: \\n{type(dataset)}\\n')\n",
    "# and it has some functions and attributes that describe it\n",
    "print(f'Dataset attributes: \\n{dataset.keys()}\\n')\n",
    "# these are our features (X)\n",
    "print(f'Feaures names: \\n{dataset.feature_names}\\n')\n",
    "# this is the features file name\n",
    "print(f'Feaures file name: \\n{dataset.data_filename}\\n')\n",
    "# this is the targets/labels file\n",
    "print(f'Target file name: \\n{dataset.target_filename}\\n')\n",
    "# number of samples\n",
    "print(f'Number of samples: \\n{len(dataset.data)}\\n')"
   ]
  },
  {
   "cell_type": "markdown",
   "metadata": {},
   "source": [
    "Note how, differently from the previous Sklearn datasets, the *diabetes* dataset pulls features and targets data from two different datafiles. "
   ]
  },
  {
   "cell_type": "markdown",
   "metadata": {},
   "source": [
    "We split the data in training, validation and test sets:"
   ]
  },
  {
   "cell_type": "code",
   "execution_count": 8,
   "metadata": {},
   "outputs": [
    {
     "name": "stdout",
     "output_type": "stream",
     "text": [
      "Number of features in the training set: 265\n",
      "Number of features in the validation set: 89\n",
      "Number of features in the test set: 88\n"
     ]
    }
   ],
   "source": [
    "from sklearn.model_selection import train_test_split\n",
    "\n",
    "seed = 0 # this is used with the train_test_split to avoid random behaviour \n",
    "\n",
    "X_train, X_rest, y_train, y_rest = train_test_split(X, y, test_size=.4,random_state=seed)\n",
    "X_test, X_val, y_test, y_val = train_test_split(X_rest, y_rest, test_size=.5,random_state=seed)\n",
    "\n",
    "print(f'Number of features in the training set: {len(X_train)}')\n",
    "print(f'Number of features in the validation set: {len(X_val)}')\n",
    "print(f'Number of features in the test set: {len(X_test)}')"
   ]
  },
  {
   "cell_type": "markdown",
   "metadata": {},
   "source": [
    "We stadardize the features:"
   ]
  },
  {
   "cell_type": "code",
   "execution_count": 9,
   "metadata": {},
   "outputs": [
    {
     "name": "stdout",
     "output_type": "stream",
     "text": [
      "X_train_scl mean: 9.384526698718305e-18, X_train_scl std: 1.0000000000000002\n",
      "X_val_scl mean: -0.026560858245457477, X_train_scl std: 0.9586107835341086\n",
      "X_test_scl mean: -0.006411628461981172, X_test_scl std: 0.9215631575692944\n"
     ]
    }
   ],
   "source": [
    "from sklearn.preprocessing import StandardScaler\n",
    "sclr = StandardScaler()\n",
    "sclr.fit(X_train) # scale to 0 mean and std dev 1 on training data\n",
    "\n",
    "X_train_scl = sclr.transform(X_train) # scale all 3 sets:\n",
    "X_val_scl = sclr.transform(X_val)\n",
    "X_test_scl = sclr.transform(X_test)\n",
    "\n",
    "\n",
    "print(f'X_train_scl mean: {np.mean(X_train_scl)}, X_train_scl std: {np.std(X_train_scl)}')\n",
    "print(f'X_val_scl mean: {np.mean(X_val_scl)}, X_train_scl std: {np.std(X_val_scl)}')\n",
    "print(f'X_test_scl mean: {np.mean(X_test_scl)}, X_test_scl std: {np.std(X_test_scl)}')"
   ]
  },
  {
   "cell_type": "markdown",
   "metadata": {},
   "source": [
    "We process the data to a second polyynomial degree, so that we have more features that relate to the input in different ways:"
   ]
  },
  {
   "cell_type": "code",
   "execution_count": 10,
   "metadata": {},
   "outputs": [
    {
     "name": "stdout",
     "output_type": "stream",
     "text": [
      "X_train data - Number of samples:  265, Number of features: 10\n",
      "X_train_sc_pf2 - Number of samples:  265, Number of features: 66\n"
     ]
    }
   ],
   "source": [
    "from sklearn.preprocessing import PolynomialFeatures\n",
    "pf2 = PolynomialFeatures(degree=2)\n",
    "X_train_sc_pf2 = pf2.fit_transform(X_train_scl)\n",
    "\n",
    "print(f'X_train data - Number of samples:  {X_train.shape[0]}, Number of features: {X_train.shape[1]}')\n",
    "print(f'X_train_sc_pf2 - Number of samples:  {X_train_sc_pf2.shape[0]}, Number of features: {X_train_sc_pf2.shape[1]}')"
   ]
  },
  {
   "cell_type": "markdown",
   "metadata": {},
   "source": [
    "With the available programming libraries in Python or R, linear regression is very easy to use and just like the previous models for classification we use their fit and predict methods:"
   ]
  },
  {
   "cell_type": "code",
   "execution_count": 11,
   "metadata": {},
   "outputs": [
    {
     "name": "stdout",
     "output_type": "stream",
     "text": [
      "Poly2 Features, train RMSE:  44.510653384993034 , val RMSE:  67.57200276608783 , test RMSE:  63.302612578827166\n"
     ]
    }
   ],
   "source": [
    "from sklearn.linear_model import LinearRegression\n",
    "\n",
    "# create the polynomial features from the scaled sets \n",
    "X_val_sc_pf2 = pf2.transform(X_val_scl)\n",
    "X_test_sc_pf2 = pf2.transform(X_test_scl)\n",
    "\n",
    "# train a linar model \n",
    "lr2 = LinearRegression()\n",
    "lr2.fit(X_train_sc_pf2,y_train)\n",
    "\n",
    "# helper functions to calculate the accuracy values on train, validation and test set. \n",
    "def rmse(X,y,predictor):\n",
    "    return (mse(X,y,predictor))**.5\n",
    "\n",
    "# helper functions to calculate the accuracy values on train, validation and test set. \n",
    "def mse(X,y,predictor):\n",
    "    return ((predictor.predict(X)-y)**2).mean()\n",
    "\n",
    "def trainValTestMse(predictor):\n",
    "    vals = {}\n",
    "    vals['train'] = rmse(X_train_scl,y_train,predictor)\n",
    "    vals['val'] = rmse(X_val_scl,y_val,predictor)\n",
    "    vals['test'] = rmse(X_test_scl,y_test,predictor)\n",
    "    return vals\n",
    "\n",
    "# make predictions and print the model performance\n",
    "print('Poly2 Features, train RMSE: ', rmse(X_train_sc_pf2,y_train,lr2),\n",
    "      ', val RMSE: ' , rmse(X_val_sc_pf2,y_val,lr2),\n",
    "      ', test RMSE: ' , rmse(X_test_sc_pf2,y_test,lr2))"
   ]
  },
  {
   "cell_type": "markdown",
   "metadata": {},
   "source": [
    "We can retrieve the non-zero polynamial features and see their weight:"
   ]
  },
  {
   "cell_type": "code",
   "execution_count": 26,
   "metadata": {},
   "outputs": [
    {
     "name": "stdout",
     "output_type": "stream",
     "text": [
      "Names and values of non-zero coefficients [('1', 2.5223795439938152e-11), ('x0', -0.20511584590732124), ('x1', -1524667891983.5903), ('x2', 25.040544010051313), ('x3', 13.961026894473497), ('x4', 616.9132360227866), ('x5', -550.7496843582958), ('x6', -250.38763410759816), ('x7', -6.787510444727749), ('x8', -166.05624389648438), ('x9', -2.8990478515625), ('x0^2', 4.3992919921875), ('x0 x1', 11.645872592926025), ('x0 x2', -0.1331024169921875), ('x0 x3', -1.105499267578125), ('x0 x4', 18.490509033203125), ('x0 x5', -35.373291015625), ('x0 x6', 0.9011077880859375), ('x0 x7', 14.819023132324219), ('x0 x8', -3.2235870361328125), ('x0 x9', 4.136219024658203), ('x1^2', 67335183326055.91), ('x1 x2', 4.298942565917969), ('x1 x3', 6.38946533203125), ('x1 x4', 37.453277587890625), ('x1 x5', -35.497161865234375), ('x1 x6', -4.8126220703125), ('x1 x7', 6.168281555175781), ('x1 x8', -18.69781494140625), ('x1 x9', -1.32861328125), ('x2^2', 0.92742919921875), ('x2 x3', 3.303680419921875), ('x2 x4', -2.5377197265625), ('x2 x5', -10.054847717285156), ('x2 x6', 11.7989501953125), ('x2 x7', 16.06646728515625), ('x2 x8', 6.022502899169922), ('x2 x9', -7.2200469970703125), ('x3^2', 6.927154541015625), ('x3 x4', -76.1461181640625), ('x3 x5', 70.01773071289062), ('x3 x6', 32.48463439941406), ('x3 x7', -2.488433837890625), ('x3 x8', 25.46917724609375), ('x3 x9', -7.748443603515625), ('x4^2', 302.24859619140625), ('x4 x5', -410.1386413574219), ('x4 x6', -312.3190612792969), ('x4 x7', -176.96011352539062), ('x4 x8', -333.5286865234375), ('x4 x9', -60.94465637207031), ('x5^2', 139.02743530273438), ('x5 x6', 202.0415496826172), ('x5 x7', 115.12100219726562), ('x5 x8', 249.1632080078125), ('x5 x9', 54.50048828125), ('x6^2', 93.84478759765625), ('x6 x7', 119.61395263671875), ('x6 x8', 151.4703369140625), ('x6 x9', 24.528472900390625), ('x7^2', 34.46563720703125), ('x7 x8', 64.32049560546875), ('x7 x9', 3.916107177734375), ('x8^2', 23.83916473388672), ('x8 x9', 20.477493286132812), ('x9^2', 8.383834838867188)]\n"
     ]
    }
   ],
   "source": [
    "nz_feature_names = pf2.get_feature_names_out()[np.nonzero(lr2.coef_)]\n",
    "nz_feature_values = lr2.coef_[np.nonzero(lr2.coef_)]\n",
    "zipped = list(zip(nz_feature_names,nz_feature_values))\n",
    "print('Names and values of non-zero coefficients', zipped)"
   ]
  },
  {
   "cell_type": "code",
   "execution_count": 28,
   "metadata": {},
   "outputs": [
    {
     "data": {
      "text/plain": [
       "[('x1^2', 67335183326055.91),\n",
       " ('x4', 616.9132360227866),\n",
       " ('x4^2', 302.24859619140625),\n",
       " ('x5 x8', 249.1632080078125),\n",
       " ('x5 x6', 202.0415496826172),\n",
       " ('x6 x8', 151.4703369140625),\n",
       " ('x5^2', 139.02743530273438),\n",
       " ('x6 x7', 119.61395263671875),\n",
       " ('x5 x7', 115.12100219726562),\n",
       " ('x6^2', 93.84478759765625),\n",
       " ('x3 x5', 70.01773071289062),\n",
       " ('x7 x8', 64.32049560546875),\n",
       " ('x5 x9', 54.50048828125),\n",
       " ('x1 x4', 37.453277587890625),\n",
       " ('x7^2', 34.46563720703125),\n",
       " ('x3 x6', 32.48463439941406),\n",
       " ('x3 x8', 25.46917724609375),\n",
       " ('x2', 25.040544010051313),\n",
       " ('x6 x9', 24.528472900390625),\n",
       " ('x8^2', 23.83916473388672),\n",
       " ('x8 x9', 20.477493286132812),\n",
       " ('x0 x4', 18.490509033203125),\n",
       " ('x2 x7', 16.06646728515625),\n",
       " ('x0 x7', 14.819023132324219),\n",
       " ('x3', 13.961026894473497),\n",
       " ('x2 x6', 11.7989501953125),\n",
       " ('x0 x1', 11.645872592926025),\n",
       " ('x9^2', 8.383834838867188),\n",
       " ('x3^2', 6.927154541015625),\n",
       " ('x1 x3', 6.38946533203125),\n",
       " ('x1 x7', 6.168281555175781),\n",
       " ('x2 x8', 6.022502899169922),\n",
       " ('x0^2', 4.3992919921875),\n",
       " ('x1 x2', 4.298942565917969),\n",
       " ('x0 x9', 4.136219024658203),\n",
       " ('x7 x9', 3.916107177734375),\n",
       " ('x2 x3', 3.303680419921875),\n",
       " ('x2^2', 0.92742919921875),\n",
       " ('x0 x6', 0.9011077880859375),\n",
       " ('1', 2.5223795439938152e-11),\n",
       " ('x0 x2', -0.1331024169921875),\n",
       " ('x0', -0.20511584590732124),\n",
       " ('x0 x3', -1.105499267578125),\n",
       " ('x1 x9', -1.32861328125),\n",
       " ('x3 x7', -2.488433837890625),\n",
       " ('x2 x4', -2.5377197265625),\n",
       " ('x9', -2.8990478515625),\n",
       " ('x0 x8', -3.2235870361328125),\n",
       " ('x1 x6', -4.8126220703125),\n",
       " ('x7', -6.787510444727749),\n",
       " ('x2 x9', -7.2200469970703125),\n",
       " ('x3 x9', -7.748443603515625),\n",
       " ('x2 x5', -10.054847717285156),\n",
       " ('x1 x8', -18.69781494140625),\n",
       " ('x0 x5', -35.373291015625),\n",
       " ('x1 x5', -35.497161865234375),\n",
       " ('x4 x9', -60.94465637207031),\n",
       " ('x3 x4', -76.1461181640625),\n",
       " ('x8', -166.05624389648438),\n",
       " ('x4 x7', -176.96011352539062),\n",
       " ('x6', -250.38763410759816),\n",
       " ('x4 x6', -312.3190612792969),\n",
       " ('x4 x8', -333.5286865234375),\n",
       " ('x4 x5', -410.1386413574219),\n",
       " ('x5', -550.7496843582958),\n",
       " ('x1', -1524667891983.5903)]"
      ]
     },
     "execution_count": 28,
     "metadata": {},
     "output_type": "execute_result"
    }
   ],
   "source": [
    "# sort the features by their coefficients weights\n",
    "zipped.sort(key=lambda x: x[1], reverse = True)\n",
    "zipped"
   ]
  },
  {
   "cell_type": "markdown",
   "metadata": {},
   "source": [
    "It is particularly evident how some features'coefficients tend to \"explode\" (e.g., 'x1^2': 67335183326055.91 and 'x1': -1524667891983.5903) in the model's research of fitting each data point exactly. This is the typical behaviour of a model **overfitting** the traininig data, therefore incapable of generalising on unseen data and likely to yield much big errros on validation and test sets. This well known issue with high-order polynomials tends to get worse with the increasing of the polynomial order. Standard solutions to this problem are regularizations methods such as *L1 (Lasso)* and *L2 (Ridge)* which add a penalty term to the model's *cost function* proportional to the size of the coefficients, hence penalizing large values. Namely, the L1 regularization adds a *penalty* equal to the absolute value of the magnitude of the coefficients, whereas the L2 regularization one equal to the square of the magnitude. These help reduce *variance* in the model and make it generalize better."
   ]
  },
  {
   "cell_type": "markdown",
   "metadata": {},
   "source": [
    "## Exercises 2\n",
    "Implement a grid search for the alpha parameter of a linear regression on the train/validation split with the poly 2 features of the diabetes data: "
   ]
  },
  {
   "cell_type": "code",
   "execution_count": 82,
   "metadata": {},
   "outputs": [
    {
     "data": {
      "image/png": "[encoded data removed]",
      "text/plain": [
       "<Figure size 640x480 with 1 Axes>"
      ]
     },
     "metadata": {},
     "output_type": "display_data"
    }
   ],
   "source": [
    "from sklearn.linear_model import Ridge\n",
    "\n",
    "# we store trainig and validation scores here\n",
    "scores_t = []; scores_v = [] \n",
    "\n",
    "# set the range of values for our hyperparameter\n",
    "params = np.arange(0, 100)\n",
    "\n",
    "# test the KNN at different number of neighbors and append the results to the above lists\n",
    "for p in params:\n",
    "    lr_rd = Ridge(alpha = p, fit_intercept=True)\n",
    "    lr_rd.fit(X_train_sc_pf2, y_train)\n",
    "    scores_t.append(rmse(X_train_sc_pf2, y_train, lr_rd))\n",
    "    scores_v.append(rmse(X_val_sc_pf2, y_val, lr_rd))\n",
    "\n",
    "# plot the training and validation curves \n",
    "plt.title(\"Training and Validation Curves at different α\")\n",
    "plt.xlabel(\"α\")\n",
    "plt.ylabel(\"RMSE\")\n",
    "plt.ylim(0, 100)\n",
    "plt.plot(params, scores_t, label=\"Train RMSE\")\n",
    "plt.plot(params, scores_v, label=\"Validation RMSE\")\n",
    "plt.legend(loc=\"best\");"
   ]
  },
  {
   "cell_type": "markdown",
   "metadata": {},
   "source": [
    "## Exercises 3\n",
    "Implement a grid search for the alpha parameter of a linear regression using cross validation with the poly 2 features of the diabetes data. Use the Scikit-Learn class GridSearchCV. "
   ]
  },
  {
   "cell_type": "code",
   "execution_count": 79,
   "metadata": {},
   "outputs": [
    {
     "data": {
      "text/html": [
       "<div>\n",
       "<style scoped>\n",
       "    .dataframe tbody tr th:only-of-type {\n",
       "        vertical-align: middle;\n",
       "    }\n",
       "\n",
       "    .dataframe tbody tr th {\n",
       "        vertical-align: top;\n",
       "    }\n",
       "\n",
       "    .dataframe thead th {\n",
       "        text-align: right;\n",
       "    }\n",
       "</style>\n",
       "<table border=\"1\" class=\"dataframe\">\n",
       "  <thead>\n",
       "    <tr style=\"text-align: right;\">\n",
       "      <th></th>\n",
       "      <th>mean_fit_time</th>\n",
       "      <th>std_fit_time</th>\n",
       "      <th>mean_score_time</th>\n",
       "      <th>std_score_time</th>\n",
       "      <th>param_alpha</th>\n",
       "      <th>params</th>\n",
       "      <th>split0_test_MSE</th>\n",
       "      <th>split1_test_MSE</th>\n",
       "      <th>split2_test_MSE</th>\n",
       "      <th>split3_test_MSE</th>\n",
       "      <th>split4_test_MSE</th>\n",
       "      <th>mean_test_MSE</th>\n",
       "      <th>std_test_MSE</th>\n",
       "      <th>rank_test_MSE</th>\n",
       "    </tr>\n",
       "  </thead>\n",
       "  <tbody>\n",
       "    <tr>\n",
       "      <th>67</th>\n",
       "      <td>0.000905</td>\n",
       "      <td>0.000201</td>\n",
       "      <td>0.0</td>\n",
       "      <td>0.0</td>\n",
       "      <td>67</td>\n",
       "      <td>{'alpha': 67}</td>\n",
       "      <td>-51.246532</td>\n",
       "      <td>-56.870821</td>\n",
       "      <td>-64.272535</td>\n",
       "      <td>-55.076004</td>\n",
       "      <td>-56.220974</td>\n",
       "      <td>-56.737373</td>\n",
       "      <td>4.241995</td>\n",
       "      <td>1</td>\n",
       "    </tr>\n",
       "    <tr>\n",
       "      <th>68</th>\n",
       "      <td>0.000597</td>\n",
       "      <td>0.000488</td>\n",
       "      <td>0.0</td>\n",
       "      <td>0.0</td>\n",
       "      <td>68</td>\n",
       "      <td>{'alpha': 68}</td>\n",
       "      <td>-51.261669</td>\n",
       "      <td>-56.861426</td>\n",
       "      <td>-64.252735</td>\n",
       "      <td>-55.066144</td>\n",
       "      <td>-56.245864</td>\n",
       "      <td>-56.737568</td>\n",
       "      <td>4.231170</td>\n",
       "      <td>2</td>\n",
       "    </tr>\n",
       "    <tr>\n",
       "      <th>66</th>\n",
       "      <td>0.001001</td>\n",
       "      <td>0.000551</td>\n",
       "      <td>0.0</td>\n",
       "      <td>0.0</td>\n",
       "      <td>66</td>\n",
       "      <td>{'alpha': 66}</td>\n",
       "      <td>-51.231746</td>\n",
       "      <td>-56.880644</td>\n",
       "      <td>-64.292808</td>\n",
       "      <td>-55.086603</td>\n",
       "      <td>-56.196060</td>\n",
       "      <td>-56.737572</td>\n",
       "      <td>4.252884</td>\n",
       "      <td>3</td>\n",
       "    </tr>\n",
       "  </tbody>\n",
       "</table>\n",
       "</div>"
      ],
      "text/plain": [
       "    mean_fit_time  std_fit_time  mean_score_time  std_score_time param_alpha  \\\n",
       "67       0.000905      0.000201              0.0             0.0          67   \n",
       "68       0.000597      0.000488              0.0             0.0          68   \n",
       "66       0.001001      0.000551              0.0             0.0          66   \n",
       "\n",
       "           params  split0_test_MSE  split1_test_MSE  split2_test_MSE  \\\n",
       "67  {'alpha': 67}       -51.246532       -56.870821       -64.272535   \n",
       "68  {'alpha': 68}       -51.261669       -56.861426       -64.252735   \n",
       "66  {'alpha': 66}       -51.231746       -56.880644       -64.292808   \n",
       "\n",
       "    split3_test_MSE  split4_test_MSE  mean_test_MSE  std_test_MSE  \\\n",
       "67       -55.076004       -56.220974     -56.737373      4.241995   \n",
       "68       -55.066144       -56.245864     -56.737568      4.231170   \n",
       "66       -55.086603       -56.196060     -56.737572      4.252884   \n",
       "\n",
       "    rank_test_MSE  \n",
       "67              1  \n",
       "68              2  \n",
       "66              3  "
      ]
     },
     "execution_count": 79,
     "metadata": {},
     "output_type": "execute_result"
    }
   ],
   "source": [
    "from sklearn.model_selection import GridSearchCV\n",
    "\n",
    "# implemente a linear least squares with l2 regularization\n",
    "lr_rd = Ridge(fit_intercept=True)\n",
    "\n",
    "# check alpha parameters between 0 and 100 \n",
    "parameters = {'alpha':np.arange(0, 100)}\n",
    "\n",
    "# in sklearn all scorer objects follow the convention that higher return values are better than lower return values. \n",
    "# Thus metrics which measure the distance between the model and the data, like metrics.mean_squared_error, are available as neg_mean_squared_error.\n",
    "scoring = {'MSE': 'neg_root_mean_squared_error'}\n",
    "\n",
    "# set a 5 fold nested grid search on the poly2 features\n",
    "clf = GridSearchCV(lr_rd, parameters, scoring = scoring, refit = False, cv = 5)\n",
    "clf.fit(X_train_sc_pf2, y_train)\n",
    "\n",
    "# display the top ranked models \n",
    "pd.DataFrame(clf.cv_results_).sort_values(by = 'rank_test_MSE').head(3)"
   ]
  },
  {
   "cell_type": "code",
   "execution_count": 80,
   "metadata": {},
   "outputs": [
    {
     "name": "stdout",
     "output_type": "stream",
     "text": [
      "Train RMSE:  48.0190692372308\n",
      "Val RMSE:  54.53498875140474\n"
     ]
    }
   ],
   "source": [
    "lr_rd = Ridge(alpha = 67, fit_intercept=True)\n",
    "lr_rd.fit(X_train_sc_pf2, y_train)\n",
    "\n",
    "print('Train RMSE: ', rmse(X_train_sc_pf2, y_train,lr_rd),)\n",
    "print('Val RMSE: ', rmse(X_val_sc_pf2, y_val,lr_rd))"
   ]
  },
  {
   "cell_type": "markdown",
   "metadata": {},
   "source": [
    "## Exercise 4\n",
    "Load the California Housing dataset (either with sklearn.datasets.fetch_california_housing or from here ) and predict the house price (as a regression). Use different models, expand the features, tune the hyper-parameters, select the best model and estimate its performance on new data. Justify the choices or methods and models.  "
   ]
  },
  {
   "cell_type": "markdown",
   "metadata": {},
   "source": [
    "## Exercise 5\n",
    "Load the Temperature Prediction Bias dataset from  here and predict the the difference between predicted and actual next day temperatures. Model this regression problem with different models and determine their optimal hyper-parameters, select the best model and estimate its performance on new data. Justify the choices or methods and models. "
   ]
  },
  {
   "cell_type": "markdown",
   "metadata": {},
   "source": []
  }
 ],
 "metadata": {
  "kernelspec": {
   "display_name": "Python 3.10.4 ('book')",
   "language": "python",
   "name": "python3"
  },
  "language_info": {
   "codemirror_mode": {
    "name": "ipython",
    "version": 3
   },
   "file_extension": ".py",
   "mimetype": "text/x-python",
   "name": "python",
   "nbconvert_exporter": "python",
   "pygments_lexer": "ipython3",
   "version": "3.10.4"
  },
  "orig_nbformat": 4,
  "vscode": {
   "interpreter": {
    "hash": "fdb129d5228a765a304b8d5599f04ed0b9473866110291e13ce84f812c5eadab"
   }
  }
 },
 "nbformat": 4,
 "nbformat_minor": 2
}
