{
 "cells": [
  {
   "cell_type": "markdown",
   "metadata": {},
   "source": [
    "# Chapter 18: Regression Models and Evaluation\n",
    "## Exercises solutions"
   ]
  },
  {
   "cell_type": "markdown",
   "metadata": {},
   "source": [
    "## Exercise 1\n",
    "Inspect the coefficients of the linear model trained on the polynomial features. Find the coefficient responsible for the large error and explain why it has an especially strong effect on the polynomial features. "
   ]
  },
  {
   "cell_type": "markdown",
   "metadata": {},
   "source": [
    "For this exercise we will use the *diabetes* dataset: this dataset has 10 attributes about a patient as features and disease progression after a year as the target. The dataset contains data for 442 patients."
   ]
  },
  {
   "cell_type": "code",
   "execution_count": 1,
   "metadata": {},
   "outputs": [],
   "source": [
    "# import all the modules\n",
    "import sklearn\n",
    "from sklearn.datasets import load_diabetes\n",
    "import pandas as pd\n",
    "import numpy as np\n",
    "import matplotlib.pyplot as plt\n",
    "import time"
   ]
  },
  {
   "cell_type": "markdown",
   "metadata": {},
   "source": [
    "We load the dataset and analyse its attributes:"
   ]
  },
  {
   "cell_type": "code",
   "execution_count": 2,
   "metadata": {},
   "outputs": [
    {
     "name": "stdout",
     "output_type": "stream",
     "text": [
      "Dataset type: \n",
      "<class 'sklearn.utils.Bunch'>\n",
      "\n",
      "Dataset attributes: \n",
      "dict_keys(['data', 'target', 'frame', 'DESCR', 'feature_names', 'data_filename', 'target_filename', 'data_module'])\n",
      "\n",
      "Feaures names: \n",
      "['age', 'sex', 'bmi', 'bp', 's1', 's2', 's3', 's4', 's5', 's6']\n",
      "\n",
      "Feaures file name: \n",
      "diabetes_data.csv.gz\n",
      "\n",
      "Target file name: \n",
      "diabetes_target.csv.gz\n",
      "\n",
      "Number of samples: \n",
      "442\n",
      "\n"
     ]
    }
   ],
   "source": [
    "# load the dataset\n",
    "dataset = load_diabetes()\n",
    "# store the features in a variable X\n",
    "X = dataset.data\n",
    "# store the targets in a variable y \n",
    "y = dataset.target\n",
    "\n",
    "# we can see that this dataset is a class \n",
    "print(f'Dataset type: \\n{type(dataset)}\\n')\n",
    "# and it has some functions and attributes that describe it\n",
    "print(f'Dataset attributes: \\n{dataset.keys()}\\n')\n",
    "# these are our features (X)\n",
    "print(f'Feaures names: \\n{dataset.feature_names}\\n')\n",
    "# this is the features file name\n",
    "print(f'Feaures file name: \\n{dataset.data_filename}\\n')\n",
    "# this is the targets/labels file\n",
    "print(f'Target file name: \\n{dataset.target_filename}\\n')\n",
    "# number of samples\n",
    "print(f'Number of samples: \\n{len(dataset.data)}\\n')"
   ]
  },
  {
   "cell_type": "markdown",
   "metadata": {},
   "source": [
    "Note how, differently from the previous Sklearn datasets, the *diabetes* dataset pulls features and targets data from two different datafiles. "
   ]
  },
  {
   "cell_type": "markdown",
   "metadata": {},
   "source": [
    "### Data Preparation"
   ]
  },
  {
   "cell_type": "markdown",
   "metadata": {},
   "source": [
    "We split the data in training, validation and test sets:"
   ]
  },
  {
   "cell_type": "code",
   "execution_count": 3,
   "metadata": {},
   "outputs": [
    {
     "name": "stdout",
     "output_type": "stream",
     "text": [
      "Number of features in the training set: 265\n",
      "Number of features in the validation set: 89\n",
      "Number of features in the test set: 88\n"
     ]
    }
   ],
   "source": [
    "from sklearn.model_selection import train_test_split\n",
    "\n",
    "seed = 0 # this is used with the train_test_split to avoid random behaviour \n",
    "\n",
    "X_train, X_rest, y_train, y_rest = train_test_split(X, y, test_size=.4,random_state=seed)\n",
    "X_test, X_val, y_test, y_val = train_test_split(X_rest, y_rest, test_size=.5,random_state=seed)\n",
    "\n",
    "print(f'Number of features in the training set: {len(X_train)}')\n",
    "print(f'Number of features in the validation set: {len(X_val)}')\n",
    "print(f'Number of features in the test set: {len(X_test)}')"
   ]
  },
  {
   "cell_type": "markdown",
   "metadata": {},
   "source": [
    "We stadardize the features:"
   ]
  },
  {
   "cell_type": "code",
   "execution_count": 4,
   "metadata": {},
   "outputs": [
    {
     "name": "stdout",
     "output_type": "stream",
     "text": [
      "X_train_scl mean: 9.384526698718305e-18, X_train_scl std: 1.0000000000000002\n",
      "X_val_scl mean: -0.026560858245457477, X_train_scl std: 0.9586107835341086\n",
      "X_test_scl mean: -0.006411628461981172, X_test_scl std: 0.9215631575692944\n"
     ]
    }
   ],
   "source": [
    "from sklearn.preprocessing import StandardScaler\n",
    "sclr = StandardScaler()\n",
    "sclr.fit(X_train) # scale to 0 mean and std dev 1 on training data\n",
    "\n",
    "X_train_scl = sclr.transform(X_train) # scale all 3 sets:\n",
    "X_val_scl = sclr.transform(X_val)\n",
    "X_test_scl = sclr.transform(X_test)\n",
    "\n",
    "\n",
    "print(f'X_train_scl mean: {np.mean(X_train_scl)}, X_train_scl std: {np.std(X_train_scl)}')\n",
    "print(f'X_val_scl mean: {np.mean(X_val_scl)}, X_train_scl std: {np.std(X_val_scl)}')\n",
    "print(f'X_test_scl mean: {np.mean(X_test_scl)}, X_test_scl std: {np.std(X_test_scl)}')"
   ]
  },
  {
   "cell_type": "markdown",
   "metadata": {},
   "source": [
    "We process the data to a second polyynomial degree, so that we have more features that relate to the input in different ways:"
   ]
  },
  {
   "cell_type": "code",
   "execution_count": 5,
   "metadata": {},
   "outputs": [
    {
     "name": "stdout",
     "output_type": "stream",
     "text": [
      "X_train data - Number of samples:  265, Number of features: 10\n",
      "X_train_sc_pf2 - Number of samples:  265, Number of features: 66\n"
     ]
    }
   ],
   "source": [
    "from sklearn.preprocessing import PolynomialFeatures\n",
    "pf2 = PolynomialFeatures(degree=2)\n",
    "X_train_sc_pf2 = pf2.fit_transform(X_train_scl)\n",
    "\n",
    "print(f'X_train data - Number of samples:  {X_train.shape[0]}, Number of features: {X_train.shape[1]}')\n",
    "print(f'X_train_sc_pf2 - Number of samples:  {X_train_sc_pf2.shape[0]}, Number of features: {X_train_sc_pf2.shape[1]}')"
   ]
  },
  {
   "cell_type": "markdown",
   "metadata": {},
   "source": [
    "### Model Training"
   ]
  },
  {
   "cell_type": "markdown",
   "metadata": {},
   "source": [
    "With the available programming libraries in Python or R, linear regression is very easy to use and just like the previous models for classification we use their fit and predict methods:"
   ]
  },
  {
   "cell_type": "code",
   "execution_count": 6,
   "metadata": {},
   "outputs": [
    {
     "name": "stdout",
     "output_type": "stream",
     "text": [
      "Poly2 Features, train RMSE:  44.510653384993034 , val RMSE:  67.57200276608783 , test RMSE:  63.302612578827166\n"
     ]
    }
   ],
   "source": [
    "from sklearn.linear_model import LinearRegression\n",
    "\n",
    "# create the polynomial features from the scaled sets \n",
    "X_val_sc_pf2 = pf2.transform(X_val_scl)\n",
    "X_test_sc_pf2 = pf2.transform(X_test_scl)\n",
    "\n",
    "# train a linar model \n",
    "lr2 = LinearRegression()\n",
    "lr2.fit(X_train_sc_pf2,y_train)\n",
    "\n",
    "# helper functions to calculate the accuracy values on train, validation and test set. \n",
    "def rmse(X,y,predictor):\n",
    "    return (mse(X,y,predictor))**.5\n",
    "\n",
    "# helper functions to calculate the accuracy values on train, validation and test set. \n",
    "def mse(X,y,predictor):\n",
    "    return ((predictor.predict(X)-y)**2).mean()\n",
    "\n",
    "def trainValTestMse(predictor):\n",
    "    vals = {}\n",
    "    vals['train'] = rmse(X_train_scl,y_train,predictor)\n",
    "    vals['val'] = rmse(X_val_scl,y_val,predictor)\n",
    "    vals['test'] = rmse(X_test_scl,y_test,predictor)\n",
    "    return vals\n",
    "\n",
    "# make predictions and print the model performance\n",
    "print('Poly2 Features, train RMSE: ', rmse(X_train_sc_pf2,y_train,lr2),\n",
    "      ', val RMSE: ' , rmse(X_val_sc_pf2,y_val,lr2),\n",
    "      ', test RMSE: ' , rmse(X_test_sc_pf2,y_test,lr2))"
   ]
  },
  {
   "cell_type": "markdown",
   "metadata": {},
   "source": [
    "### Model Evaluation"
   ]
  },
  {
   "cell_type": "markdown",
   "metadata": {},
   "source": [
    "We can retrieve the non-zero polynamial features and see their weight:"
   ]
  },
  {
   "cell_type": "code",
   "execution_count": 7,
   "metadata": {},
   "outputs": [
    {
     "name": "stdout",
     "output_type": "stream",
     "text": [
      "Names and values of non-zero coefficients [('1', 2.5223795439938152e-11), ('x0', -0.20511584590732124), ('x1', -1524667891983.5903), ('x2', 25.040544010051313), ('x3', 13.961026894473497), ('x4', 616.9132360227866), ('x5', -550.7496843582958), ('x6', -250.38763410759816), ('x7', -6.787510444727749), ('x8', -166.05624389648438), ('x9', -2.8990478515625), ('x0^2', 4.3992919921875), ('x0 x1', 11.645872592926025), ('x0 x2', -0.1331024169921875), ('x0 x3', -1.105499267578125), ('x0 x4', 18.490509033203125), ('x0 x5', -35.373291015625), ('x0 x6', 0.9011077880859375), ('x0 x7', 14.819023132324219), ('x0 x8', -3.2235870361328125), ('x0 x9', 4.136219024658203), ('x1^2', 67335183326055.91), ('x1 x2', 4.298942565917969), ('x1 x3', 6.38946533203125), ('x1 x4', 37.453277587890625), ('x1 x5', -35.497161865234375), ('x1 x6', -4.8126220703125), ('x1 x7', 6.168281555175781), ('x1 x8', -18.69781494140625), ('x1 x9', -1.32861328125), ('x2^2', 0.92742919921875), ('x2 x3', 3.303680419921875), ('x2 x4', -2.5377197265625), ('x2 x5', -10.054847717285156), ('x2 x6', 11.7989501953125), ('x2 x7', 16.06646728515625), ('x2 x8', 6.022502899169922), ('x2 x9', -7.2200469970703125), ('x3^2', 6.927154541015625), ('x3 x4', -76.1461181640625), ('x3 x5', 70.01773071289062), ('x3 x6', 32.48463439941406), ('x3 x7', -2.488433837890625), ('x3 x8', 25.46917724609375), ('x3 x9', -7.748443603515625), ('x4^2', 302.24859619140625), ('x4 x5', -410.1386413574219), ('x4 x6', -312.3190612792969), ('x4 x7', -176.96011352539062), ('x4 x8', -333.5286865234375), ('x4 x9', -60.94465637207031), ('x5^2', 139.02743530273438), ('x5 x6', 202.0415496826172), ('x5 x7', 115.12100219726562), ('x5 x8', 249.1632080078125), ('x5 x9', 54.50048828125), ('x6^2', 93.84478759765625), ('x6 x7', 119.61395263671875), ('x6 x8', 151.4703369140625), ('x6 x9', 24.528472900390625), ('x7^2', 34.46563720703125), ('x7 x8', 64.32049560546875), ('x7 x9', 3.916107177734375), ('x8^2', 23.83916473388672), ('x8 x9', 20.477493286132812), ('x9^2', 8.383834838867188)]\n"
     ]
    }
   ],
   "source": [
    "nz_feature_names = pf2.get_feature_names_out()[np.nonzero(lr2.coef_)]\n",
    "nz_feature_values = lr2.coef_[np.nonzero(lr2.coef_)]\n",
    "zipped = list(zip(nz_feature_names,nz_feature_values))\n",
    "print('Names and values of non-zero coefficients', zipped)"
   ]
  },
  {
   "cell_type": "code",
   "execution_count": 8,
   "metadata": {},
   "outputs": [
    {
     "data": {
      "text/plain": [
       "[('x1^2', 67335183326055.91),\n",
       " ('x4', 616.9132360227866),\n",
       " ('x4^2', 302.24859619140625),\n",
       " ('x5 x8', 249.1632080078125),\n",
       " ('x5 x6', 202.0415496826172),\n",
       " ('x6 x8', 151.4703369140625),\n",
       " ('x5^2', 139.02743530273438),\n",
       " ('x6 x7', 119.61395263671875),\n",
       " ('x5 x7', 115.12100219726562),\n",
       " ('x6^2', 93.84478759765625),\n",
       " ('x3 x5', 70.01773071289062),\n",
       " ('x7 x8', 64.32049560546875),\n",
       " ('x5 x9', 54.50048828125),\n",
       " ('x1 x4', 37.453277587890625),\n",
       " ('x7^2', 34.46563720703125),\n",
       " ('x3 x6', 32.48463439941406),\n",
       " ('x3 x8', 25.46917724609375),\n",
       " ('x2', 25.040544010051313),\n",
       " ('x6 x9', 24.528472900390625),\n",
       " ('x8^2', 23.83916473388672),\n",
       " ('x8 x9', 20.477493286132812),\n",
       " ('x0 x4', 18.490509033203125),\n",
       " ('x2 x7', 16.06646728515625),\n",
       " ('x0 x7', 14.819023132324219),\n",
       " ('x3', 13.961026894473497),\n",
       " ('x2 x6', 11.7989501953125),\n",
       " ('x0 x1', 11.645872592926025),\n",
       " ('x9^2', 8.383834838867188),\n",
       " ('x3^2', 6.927154541015625),\n",
       " ('x1 x3', 6.38946533203125),\n",
       " ('x1 x7', 6.168281555175781),\n",
       " ('x2 x8', 6.022502899169922),\n",
       " ('x0^2', 4.3992919921875),\n",
       " ('x1 x2', 4.298942565917969),\n",
       " ('x0 x9', 4.136219024658203),\n",
       " ('x7 x9', 3.916107177734375),\n",
       " ('x2 x3', 3.303680419921875),\n",
       " ('x2^2', 0.92742919921875),\n",
       " ('x0 x6', 0.9011077880859375),\n",
       " ('1', 2.5223795439938152e-11),\n",
       " ('x0 x2', -0.1331024169921875),\n",
       " ('x0', -0.20511584590732124),\n",
       " ('x0 x3', -1.105499267578125),\n",
       " ('x1 x9', -1.32861328125),\n",
       " ('x3 x7', -2.488433837890625),\n",
       " ('x2 x4', -2.5377197265625),\n",
       " ('x9', -2.8990478515625),\n",
       " ('x0 x8', -3.2235870361328125),\n",
       " ('x1 x6', -4.8126220703125),\n",
       " ('x7', -6.787510444727749),\n",
       " ('x2 x9', -7.2200469970703125),\n",
       " ('x3 x9', -7.748443603515625),\n",
       " ('x2 x5', -10.054847717285156),\n",
       " ('x1 x8', -18.69781494140625),\n",
       " ('x0 x5', -35.373291015625),\n",
       " ('x1 x5', -35.497161865234375),\n",
       " ('x4 x9', -60.94465637207031),\n",
       " ('x3 x4', -76.1461181640625),\n",
       " ('x8', -166.05624389648438),\n",
       " ('x4 x7', -176.96011352539062),\n",
       " ('x6', -250.38763410759816),\n",
       " ('x4 x6', -312.3190612792969),\n",
       " ('x4 x8', -333.5286865234375),\n",
       " ('x4 x5', -410.1386413574219),\n",
       " ('x5', -550.7496843582958),\n",
       " ('x1', -1524667891983.5903)]"
      ]
     },
     "execution_count": 8,
     "metadata": {},
     "output_type": "execute_result"
    }
   ],
   "source": [
    "# sort the features by their coefficients weights\n",
    "zipped.sort(key=lambda x: x[1], reverse = True)\n",
    "zipped"
   ]
  },
  {
   "cell_type": "markdown",
   "metadata": {},
   "source": [
    "It is particularly evident how some features'coefficients tend to \"explode\" (e.g., 'x1^2': 67335183326055.91 and 'x1': -1524667891983.5903) in the model's research of fitting each data point exactly. This is the typical behaviour of a model **overfitting** the traininig data, therefore incapable of generalising on unseen data and likely to yield much big errros on validation and test sets. This issue with high-order polynomials tends to get worse with the increasing of the polynomial order. <br>Standard solutions to this problem are regularizations methods such as *L1 (Lasso)* and *L2 (Ridge)* which add a penalty term to the model's *cost function* proportional to the size of the coefficients, hence penalizing large values. Namely, the L1 regularization adds a *penalty* equal to the absolute value of the magnitude of the coefficients, whereas the L2 regularization one equal to the square of the magnitude. These techniques can help reduce *variance* in the model and yield smaller generalization errors."
   ]
  },
  {
   "cell_type": "markdown",
   "metadata": {},
   "source": [
    "## Exercise 2\n",
    "Implement a grid search for the alpha parameter of a linear regression on the train/validation split with the poly 2 features of the diabetes data: "
   ]
  },
  {
   "cell_type": "code",
   "execution_count": 9,
   "metadata": {},
   "outputs": [
    {
     "data": {
      "image/png": "[encoded data removed]",
      "text/plain": [
       "<Figure size 640x480 with 1 Axes>"
      ]
     },
     "metadata": {},
     "output_type": "display_data"
    }
   ],
   "source": [
    "from sklearn.linear_model import Ridge\n",
    "\n",
    "# we store trainig and validation scores here\n",
    "scores_t = []; scores_v = [] \n",
    "\n",
    "# set the range of values for our hyperparameter\n",
    "params = np.arange(0, 100)\n",
    "\n",
    "# test the KNN at different number of neighbors and append the results to the above lists\n",
    "for p in params:\n",
    "    lr_rd = Ridge(alpha = p, fit_intercept=True)\n",
    "    lr_rd.fit(X_train_sc_pf2, y_train)\n",
    "    scores_t.append(rmse(X_train_sc_pf2, y_train, lr_rd))\n",
    "    scores_v.append(rmse(X_val_sc_pf2, y_val, lr_rd))\n",
    "\n",
    "# plot the training and validation curves \n",
    "plt.title(\"Training and Validation Curves at different α\")\n",
    "plt.xlabel(\"α\")\n",
    "plt.ylabel(\"RMSE\")\n",
    "plt.ylim(0, 100)\n",
    "plt.plot(params, scores_t, label=\"Train RMSE\")\n",
    "plt.plot(params, scores_v, label=\"Validation RMSE\")\n",
    "plt.legend(loc=\"best\");"
   ]
  },
  {
   "cell_type": "markdown",
   "metadata": {},
   "source": [
    "We notice how larger values of α for the *Ridge (L2)* regularization loss reduce the model's *variance* resulting in progressively higher errors on the trainig data but a better generalization error on the validation data. Regularization techniques can help us control what in ML is described as *bias-variance trade-off* of a model, which relates to its degree of fitting the trainig and validation data (*underfitting-overfitting*). It's the operator's task to find the sweat-spot where the model performs at the desired/required accuracy level on either or both the trainig and validation data.  "
   ]
  },
  {
   "cell_type": "markdown",
   "metadata": {},
   "source": [
    "## Exercise 3\n",
    "Implement a grid search for the alpha parameter of a linear regression using cross validation with the poly 2 features of the diabetes data. Use the Scikit-Learn class GridSearchCV. "
   ]
  },
  {
   "cell_type": "code",
   "execution_count": 10,
   "metadata": {},
   "outputs": [
    {
     "data": {
      "text/html": [
       "<div>\n",
       "<style scoped>\n",
       "    .dataframe tbody tr th:only-of-type {\n",
       "        vertical-align: middle;\n",
       "    }\n",
       "\n",
       "    .dataframe tbody tr th {\n",
       "        vertical-align: top;\n",
       "    }\n",
       "\n",
       "    .dataframe thead th {\n",
       "        text-align: right;\n",
       "    }\n",
       "</style>\n",
       "<table border=\"1\" class=\"dataframe\">\n",
       "  <thead>\n",
       "    <tr style=\"text-align: right;\">\n",
       "      <th></th>\n",
       "      <th>mean_fit_time</th>\n",
       "      <th>std_fit_time</th>\n",
       "      <th>mean_score_time</th>\n",
       "      <th>std_score_time</th>\n",
       "      <th>param_alpha</th>\n",
       "      <th>params</th>\n",
       "      <th>split0_test_MSE</th>\n",
       "      <th>split1_test_MSE</th>\n",
       "      <th>split2_test_MSE</th>\n",
       "      <th>split3_test_MSE</th>\n",
       "      <th>split4_test_MSE</th>\n",
       "      <th>mean_test_MSE</th>\n",
       "      <th>std_test_MSE</th>\n",
       "      <th>rank_test_MSE</th>\n",
       "    </tr>\n",
       "  </thead>\n",
       "  <tbody>\n",
       "    <tr>\n",
       "      <th>67</th>\n",
       "      <td>0.000209</td>\n",
       "      <td>0.000418</td>\n",
       "      <td>0.000621</td>\n",
       "      <td>0.000508</td>\n",
       "      <td>67</td>\n",
       "      <td>{'alpha': 67}</td>\n",
       "      <td>-51.246532</td>\n",
       "      <td>-56.870821</td>\n",
       "      <td>-64.272535</td>\n",
       "      <td>-55.076004</td>\n",
       "      <td>-56.220974</td>\n",
       "      <td>-56.737373</td>\n",
       "      <td>4.241995</td>\n",
       "      <td>1</td>\n",
       "    </tr>\n",
       "    <tr>\n",
       "      <th>68</th>\n",
       "      <td>0.000600</td>\n",
       "      <td>0.000490</td>\n",
       "      <td>0.000000</td>\n",
       "      <td>0.000000</td>\n",
       "      <td>68</td>\n",
       "      <td>{'alpha': 68}</td>\n",
       "      <td>-51.261669</td>\n",
       "      <td>-56.861426</td>\n",
       "      <td>-64.252735</td>\n",
       "      <td>-55.066144</td>\n",
       "      <td>-56.245864</td>\n",
       "      <td>-56.737568</td>\n",
       "      <td>4.231170</td>\n",
       "      <td>2</td>\n",
       "    </tr>\n",
       "    <tr>\n",
       "      <th>66</th>\n",
       "      <td>0.000435</td>\n",
       "      <td>0.000538</td>\n",
       "      <td>0.000200</td>\n",
       "      <td>0.000400</td>\n",
       "      <td>66</td>\n",
       "      <td>{'alpha': 66}</td>\n",
       "      <td>-51.231746</td>\n",
       "      <td>-56.880644</td>\n",
       "      <td>-64.292808</td>\n",
       "      <td>-55.086603</td>\n",
       "      <td>-56.196060</td>\n",
       "      <td>-56.737572</td>\n",
       "      <td>4.252884</td>\n",
       "      <td>3</td>\n",
       "    </tr>\n",
       "  </tbody>\n",
       "</table>\n",
       "</div>"
      ],
      "text/plain": [
       "    mean_fit_time  std_fit_time  mean_score_time  std_score_time param_alpha  \\\n",
       "67       0.000209      0.000418         0.000621        0.000508          67   \n",
       "68       0.000600      0.000490         0.000000        0.000000          68   \n",
       "66       0.000435      0.000538         0.000200        0.000400          66   \n",
       "\n",
       "           params  split0_test_MSE  split1_test_MSE  split2_test_MSE  \\\n",
       "67  {'alpha': 67}       -51.246532       -56.870821       -64.272535   \n",
       "68  {'alpha': 68}       -51.261669       -56.861426       -64.252735   \n",
       "66  {'alpha': 66}       -51.231746       -56.880644       -64.292808   \n",
       "\n",
       "    split3_test_MSE  split4_test_MSE  mean_test_MSE  std_test_MSE  \\\n",
       "67       -55.076004       -56.220974     -56.737373      4.241995   \n",
       "68       -55.066144       -56.245864     -56.737568      4.231170   \n",
       "66       -55.086603       -56.196060     -56.737572      4.252884   \n",
       "\n",
       "    rank_test_MSE  \n",
       "67              1  \n",
       "68              2  \n",
       "66              3  "
      ]
     },
     "execution_count": 10,
     "metadata": {},
     "output_type": "execute_result"
    }
   ],
   "source": [
    "from sklearn.model_selection import GridSearchCV\n",
    "\n",
    "# implemente a linear least squares with l2 regularization\n",
    "lr_rd = Ridge(fit_intercept=True)\n",
    "\n",
    "# check alpha parameters between 0 and 100 \n",
    "parameters = {'alpha':np.arange(0, 100)}\n",
    "\n",
    "# in sklearn all scorer objects follow the convention that higher return values are better than lower return values. \n",
    "# Thus metrics which measure the distance between the model and the data, like metrics.mean_squared_error, are available as neg_mean_squared_error.\n",
    "scoring = {'MSE': 'neg_root_mean_squared_error'}\n",
    "\n",
    "# set a 5 fold nested grid search on the poly2 features\n",
    "clf = GridSearchCV(lr_rd, parameters, scoring = scoring, refit = False, cv = 5)\n",
    "clf.fit(X_train_sc_pf2, y_train)\n",
    "\n",
    "# display the top ranked models \n",
    "pd.DataFrame(clf.cv_results_).sort_values(by = 'rank_test_MSE').head(3)"
   ]
  },
  {
   "cell_type": "code",
   "execution_count": 11,
   "metadata": {},
   "outputs": [
    {
     "name": "stdout",
     "output_type": "stream",
     "text": [
      "Train RMSE:  48.0190692372308\n",
      "Val RMSE:  54.53498875140474\n"
     ]
    }
   ],
   "source": [
    "lr_rd = Ridge(alpha = 67, fit_intercept=True)\n",
    "lr_rd.fit(X_train_sc_pf2, y_train)\n",
    "\n",
    "print('Train RMSE: ', rmse(X_train_sc_pf2, y_train,lr_rd),)\n",
    "print('Val RMSE: ', rmse(X_val_sc_pf2, y_val,lr_rd))"
   ]
  },
  {
   "cell_type": "markdown",
   "metadata": {},
   "source": [
    "Through a nested grid search we can find the value of α that yields the best model performance on the given data. To notice how the model performance varies on the splits (look at *split2*) which highliths how training and testing a model is a complex matter, where all the moving parts can have a significant impact on the final result. E.g., if we tested this model on differnt splits, would we alwasy get the same optimal α?"
   ]
  },
  {
   "cell_type": "markdown",
   "metadata": {},
   "source": [
    "## Exercise 4\n",
    "Load the California Housing dataset (either with sklearn.datasets.fetch_california_housing or from here ) and predict the house price (as a regression). Use different models, expand the features, tune the hyper-parameters, select the best model and estimate its performance on new data. Justify the choices or methods and models.  "
   ]
  },
  {
   "cell_type": "code",
   "execution_count": 12,
   "metadata": {},
   "outputs": [
    {
     "name": "stdout",
     "output_type": "stream",
     "text": [
      "Dataset type: \n",
      "<class 'sklearn.utils.Bunch'>\n",
      "\n",
      "Dataset attributes: \n",
      "dict_keys(['data', 'target', 'frame', 'target_names', 'feature_names', 'DESCR'])\n",
      "\n",
      "Feaures names: \n",
      "['MedInc', 'HouseAge', 'AveRooms', 'AveBedrms', 'Population', 'AveOccup', 'Latitude', 'Longitude']\n",
      "\n",
      "Target name: \n",
      "['MedHouseVal']\n",
      "\n",
      "Number of samples: \n",
      "20640\n",
      "\n"
     ]
    }
   ],
   "source": [
    "# load the dataset\n",
    "df = sklearn.datasets.fetch_california_housing()\n",
    "\n",
    "# this dataset is a class \n",
    "print(f'Dataset type: \\n{type(df)}\\n')\n",
    "# and it has some functions and attributes that describe it\n",
    "print(f'Dataset attributes: \\n{df.keys()}\\n')\n",
    "# these are our features (X)\n",
    "print(f'Feaures names: \\n{df.feature_names}\\n')\n",
    "# this is our target (y)\n",
    "print(f'Target name: \\n{df.target_names}\\n')\n",
    "# number of samples\n",
    "print(f'Number of samples: \\n{len(df.data)}\\n')\n"
   ]
  },
  {
   "cell_type": "markdown",
   "metadata": {},
   "source": [
    "### Data Preparation"
   ]
  },
  {
   "cell_type": "code",
   "execution_count": 13,
   "metadata": {},
   "outputs": [
    {
     "name": "stdout",
     "output_type": "stream",
     "text": [
      "Number of features in the training set: 14448\n",
      "Number of targets in the training set: 14448\n",
      "Number of features in the test set: 6192\n",
      "Number of targtes in the test set: 6192\n"
     ]
    }
   ],
   "source": [
    "# assign features and targets to X and y\n",
    "X = df.data\n",
    "y = df.target\n",
    "\n",
    "# split features and targets in train and test sets (). Note how we can easily stratify the sets. \n",
    "X_train, X_test, y_train, y_test = train_test_split(X, y, test_size = .3, random_state = seed)\n",
    "\n",
    "print(f'Number of features in the training set: {len(X_train)}')\n",
    "print(f'Number of targets in the training set: {len(y_train)}')\n",
    "print(f'Number of features in the test set: {len(X_test)}')\n",
    "print(f'Number of targtes in the test set: {len(y_test)}')"
   ]
  },
  {
   "cell_type": "markdown",
   "metadata": {},
   "source": [
    "Normalize the data:"
   ]
  },
  {
   "cell_type": "code",
   "execution_count": 14,
   "metadata": {},
   "outputs": [
    {
     "name": "stdout",
     "output_type": "stream",
     "text": [
      "X_train_scl mean: -7.349110860901894e-15, X_train_scl std: 1.000000000000002\n",
      "X_test_scl mean: 0.005991271762881557, X_test_scl std: 1.2785474136594306\n"
     ]
    }
   ],
   "source": [
    "sclr.fit(X_train) # scale to 0 mean and std dev 1 on training data\n",
    "\n",
    "X_train_scl = sclr.transform(X_train) # scale all 3 sets:\n",
    "X_test_scl = sclr.transform(X_test)\n",
    "\n",
    "\n",
    "print(f'X_train_scl mean: {np.mean(X_train_scl)}, X_train_scl std: {np.std(X_train_scl)}')\n",
    "print(f'X_test_scl mean: {np.mean(X_test_scl)}, X_test_scl std: {np.std(X_test_scl)}')"
   ]
  },
  {
   "cell_type": "markdown",
   "metadata": {},
   "source": [
    "### Models Training\n",
    "Let us compare a few regression models:\n",
    "- Ordinary least squares (OLS)\n",
    "- Lasso \n",
    "- Ridge \n",
    "- Decision tree\n",
    "- Multy-layer perceptron (MLP)"
   ]
  },
  {
   "cell_type": "markdown",
   "metadata": {},
   "source": [
    "We fit and train a \"vanilla\" version of the models on the data. No hyperparameters tuning, no expanded features, all very basic for now: "
   ]
  },
  {
   "cell_type": "code",
   "execution_count": 15,
   "metadata": {},
   "outputs": [
    {
     "name": "stdout",
     "output_type": "stream",
     "text": [
      "LinearRegression(): \n",
      "Train RMSE: 0.719 - Test RMSE: 0.737\n",
      "Lasso(): \n",
      "Train RMSE: 1.154 - Test RMSE: 1.155\n",
      "Ridge(): \n",
      "Train RMSE: 0.719 - Test RMSE: 0.737\n",
      "DecisionTreeRegressor(): \n",
      "Train RMSE: 0.000 - Test RMSE: 0.733\n",
      "MLPRegressor(max_iter=500): \n",
      "Train RMSE: 0.522 - Test RMSE: 0.546\n"
     ]
    }
   ],
   "source": [
    "# import the models \n",
    "from sklearn.linear_model import Lasso, Ridge, LinearRegression\n",
    "from sklearn.neural_network import MLPRegressor\n",
    "from sklearn.tree import DecisionTreeRegressor\n",
    "\n",
    "# OLS\n",
    "ols = LinearRegression()\n",
    "# Lasso\n",
    "lasso = Lasso()\n",
    "# Ridge\n",
    "ridge = Ridge()\n",
    "# Decision tree\n",
    "dt = DecisionTreeRegressor()\n",
    "# MLP\n",
    "mlp = MLPRegressor(max_iter = 500)\n",
    "# store the models in a list of models \n",
    "models = [ols, lasso, ridge, dt, mlp]\n",
    "# loop through the above list to fit, train and test the models\n",
    "for model in models:\n",
    "    model.fit(X_train_scl, y_train)\n",
    "    print(f'{model}: \\nTrain RMSE:',f'{rmse(X_train_scl, y_train, model):.3f}', \n",
    "                    '- Test RMSE:', f'{rmse(X_test_scl, y_test, model):.3f}')\n"
   ]
  },
  {
   "cell_type": "markdown",
   "metadata": {},
   "source": [
    "We notice how the MLP was the best peformer in this scenario. Also interesting to see how the decision tree perfectly fitted the training data (trees tend to *overfit* if not tuned). "
   ]
  },
  {
   "cell_type": "markdown",
   "metadata": {},
   "source": [
    "### Models training on polynomial features"
   ]
  },
  {
   "cell_type": "markdown",
   "metadata": {},
   "source": [
    "Let us expand the features:"
   ]
  },
  {
   "cell_type": "code",
   "execution_count": 16,
   "metadata": {},
   "outputs": [],
   "source": [
    "# create polynomial features for the scaled training and test features\n",
    "pf = PolynomialFeatures(degree=2)\n",
    "X_train_pf_scl = pf.fit_transform(X_train_scl)\n",
    "X_test_pf_scl = pf.transform(X_test_scl)"
   ]
  },
  {
   "cell_type": "code",
   "execution_count": 17,
   "metadata": {},
   "outputs": [
    {
     "name": "stdout",
     "output_type": "stream",
     "text": [
      "LinearRegression(): \n",
      "Train RMSE: 0.646 - Test RMSE: 1.462\n",
      "Lasso(): \n",
      "Train RMSE: 1.132 - Test RMSE: 1.133\n",
      "Ridge(): \n",
      "Train RMSE: 0.646 - Test RMSE: 1.428\n",
      "DecisionTreeRegressor(): \n",
      "Train RMSE: 0.000 - Test RMSE: 0.742\n",
      "MLPRegressor(max_iter=500): \n",
      "Train RMSE: 0.958 - Test RMSE: 1.807\n"
     ]
    }
   ],
   "source": [
    "for model in models:\n",
    "    model.fit(X_train_pf_scl, y_train)\n",
    "    print(f'{model}: \\nTrain RMSE:',f'{rmse(X_train_pf_scl, y_train, model):.3f}', \n",
    "                    '- Test RMSE:', f'{rmse(X_test_pf_scl, y_test, model):.3f}')"
   ]
  },
  {
   "cell_type": "markdown",
   "metadata": {},
   "source": [
    "Above we can see how the *linear models* respond well to training on the polynomial features, altough they overfit the data more heavily and will require more extensive hyperparameter tuning to transfer that learning to the test data. Differently, MLP (non-linear) does not like that features engineering at all... <br> By looking at the above results, in accordance with the theory, we can try and optimize the linear models (OLS, Lasso and Ridge) on the polynomial features and the *non-linear* models (Decision Tree and MLP on the original features):"
   ]
  },
  {
   "cell_type": "markdown",
   "metadata": {},
   "source": [
    "### Models fine tuning\n",
    "We set the hyperparameters space for each model:"
   ]
  },
  {
   "cell_type": "code",
   "execution_count": 18,
   "metadata": {},
   "outputs": [],
   "source": [
    "# Lasso\n",
    "lasso_param = {'alpha':np.arange(1, 100)}\n",
    "# Ridge\n",
    "ridge_param = {'alpha':np.arange(1, 100)}\n",
    "# Decision tree\n",
    "dt_param = {'max_depth':np.arange(1, 20, 4), \n",
    "            'min_samples_split':np.arange(2, 8, 2),\n",
    "            'min_samples_leaf':np.arange(1, 20, 4)}\n",
    "\n",
    "# MLP - we can specify its architecture by defining the number of neurons at each layer \n",
    "mlp_param = {'hidden_layer_sizes': [(100,), (100, 100)],\n",
    "             'max_iter': [500]}"
   ]
  },
  {
   "cell_type": "markdown",
   "metadata": {},
   "source": [
    "We run a nested gridsearch for each model:"
   ]
  },
  {
   "cell_type": "code",
   "execution_count": 19,
   "metadata": {},
   "outputs": [
    {
     "name": "stdout",
     "output_type": "stream",
     "text": [
      "Lasso(): \n",
      "Train RMSE: 1.1320566676355657 - Best parameters: {'alpha': 1}\n",
      "Ridge(): \n",
      "Train RMSE: 0.68844599485411 - Best parameters: {'alpha': 99}\n",
      "DecisionTreeRegressor(): \n",
      "Train RMSE: 0.6205940829038027 - Best parameters: {'max_depth': 17, 'min_samples_leaf': 17, 'min_samples_split': 6}\n",
      "MLPRegressor(max_iter=500): \n",
      "Train RMSE: 0.5256631972046046 - Best parameters: {'hidden_layer_sizes': (100, 100), 'max_iter': 500}\n"
     ]
    }
   ],
   "source": [
    "# in sklearn all scorer objects follow the convention that higher return values are better than lower return values. \n",
    "# Thus metrics which measure the distance between the model and the data, like metrics.mean_squared_error, are available as neg_mean_squared_error.\n",
    "scoring = {'MSE': 'neg_root_mean_squared_error'}\n",
    "# store the models \n",
    "models = [lasso, ridge, dt, mlp]\n",
    "# store the models parameters \n",
    "models_parameters = [lasso_param, ridge_param, dt_param, mlp_param]\n",
    "\n",
    "# loop through each model, and their paramaters to estimate, and run a grid search for each of them \n",
    "for m in range(len(models)):\n",
    "    grid = GridSearchCV(models[m], models_parameters[m], scoring = scoring, refit = False, cv = 5)\n",
    "    # fit the lasso and ridge models to the polynomial scaled features \n",
    "    if m <= 1:\n",
    "        grid.fit(X_train_pf_scl, y_train)\n",
    "    # fit the deciosion tree and the MLP to the original scaled features \n",
    "    else:\n",
    "        grid.fit(X_train_scl, y_train)\n",
    "    # extract the best model \n",
    "    model_df = pd.DataFrame(grid.cv_results_).sort_values(by = 'rank_test_MSE').head(1)\n",
    "    print(f'{models[m]}: \\nTrain RMSE: {-model_df.mean_test_MSE.values[0]} - Best parameters: {model_df.params.values[0]}')\n"
   ]
  },
  {
   "cell_type": "markdown",
   "metadata": {},
   "source": [
    "We can now re-train the above models with the above hyperparameters and see how they perform on the test data:"
   ]
  },
  {
   "cell_type": "code",
   "execution_count": 20,
   "metadata": {},
   "outputs": [
    {
     "name": "stdout",
     "output_type": "stream",
     "text": [
      "Lasso(alpha=1): \n",
      "Train RMSE: 1.132 - Test RMSE: 1.133\n",
      "Ridge(alpha=99): \n",
      "Train RMSE: 0.654 - Test RMSE: 0.692\n",
      "DecisionTreeRegressor(max_depth=17, min_samples_leaf=17, min_samples_split=6): \n",
      "Train RMSE: 0.491 - Test RMSE: 0.621\n",
      "MLPRegressor(max_iter=500): \n",
      "Train RMSE: 0.517 - Test RMSE: 0.538\n"
     ]
    }
   ],
   "source": [
    "lasso = Lasso(alpha = 1)\n",
    "ridge = Ridge(alpha = 99)\n",
    "dt = DecisionTreeRegressor(max_depth = 17, min_samples_leaf = 17, min_samples_split = 6)\n",
    "MLP = MLPRegressor(hidden_layer_sizes = (100, 100), max_iter = 500)\n",
    "\n",
    "models = [lasso, ridge, dt, mlp]\n",
    "\n",
    "for m in range(len(models)):\n",
    "    if m <= 1:\n",
    "        models[m].fit(X_train_pf_scl, y_train)\n",
    "        print(f'{models[m]}: \\nTrain RMSE:',f'{rmse(X_train_pf_scl, y_train, models[m]):.3f}', \n",
    "                    '- Test RMSE:', f'{rmse(X_test_pf_scl, y_test, models[m]):.3f}')\n",
    "    # fit the deciosion tree and the MLP to the original scaled features \n",
    "    else:\n",
    "        models[m].fit(X_train_scl, y_train)\n",
    "        print(f'{models[m]}: \\nTrain RMSE:',f'{rmse(X_train_scl, y_train, models[m]):.3f}', \n",
    "                    '- Test RMSE:', f'{rmse(X_test_scl, y_test, models[m]):.3f}')\n"
   ]
  },
  {
   "cell_type": "markdown",
   "metadata": {},
   "source": [
    "### Models Comparison"
   ]
  },
  {
   "cell_type": "markdown",
   "metadata": {},
   "source": [
    "If we compare the above results to first ones we obtained from the *vanilla* models on the standard features we can see how we managed to lower the error on the test set for each model! <br>\n",
    "Below we re-write some code to facilitate the comparison bertween the untuned and tuned models (results may vary when re-running the code):"
   ]
  },
  {
   "cell_type": "code",
   "execution_count": 21,
   "metadata": {},
   "outputs": [
    {
     "name": "stdout",
     "output_type": "stream",
     "text": [
      "=== UNTUNED MODELS === \n",
      "\n",
      "Lasso(): \n",
      "Train RMSE: 1.154 - Test RMSE: 1.155\n",
      "Ridge(): \n",
      "Train RMSE: 0.719 - Test RMSE: 0.737\n",
      "DecisionTreeRegressor(): \n",
      "Train RMSE: 0.000 - Test RMSE: 0.737\n",
      "MLPRegressor(max_iter=500): \n",
      "Train RMSE: 0.530 - Test RMSE: 0.572\n",
      "\n",
      "=== TUNED MODELS === \n",
      "\n",
      "Lasso(alpha=1): \n",
      "Train RMSE: 1.132 - Test RMSE: 1.133\n",
      "Ridge(alpha=99): \n",
      "Train RMSE: 0.654 - Test RMSE: 0.692\n",
      "DecisionTreeRegressor(max_depth=17, min_samples_leaf=17, min_samples_split=6): \n",
      "Train RMSE: 0.491 - Test RMSE: 0.621\n",
      "MLPRegressor(hidden_layer_sizes=(100, 100), max_iter=500): \n",
      "Train RMSE: 0.428 - Test RMSE: 0.534\n"
     ]
    }
   ],
   "source": [
    "### UNTUNED MODELS ###\n",
    "lasso = Lasso()\n",
    "# Ridge\n",
    "ridge = Ridge()\n",
    "# Decision tree\n",
    "dt = DecisionTreeRegressor()\n",
    "# MLP\n",
    "mlp = MLPRegressor(max_iter = 500)\n",
    "# store the models in a list of models \n",
    "models = [lasso, ridge, dt, mlp]\n",
    "# loop through the above list to fit, train and test the models\n",
    "print('=== UNTUNED MODELS === \\n')\n",
    "for model in models:\n",
    "    model.fit(X_train_scl, y_train)\n",
    "    print(f'{model}: \\nTrain RMSE:',f'{rmse(X_train_scl, y_train, model):.3f}', \n",
    "                    '- Test RMSE:', f'{rmse(X_test_scl, y_test, model):.3f}')\n",
    "\n",
    "### TUNED MODELS ###\n",
    "lasso = Lasso(alpha = 1)\n",
    "ridge = Ridge(alpha = 99)\n",
    "dt = DecisionTreeRegressor(max_depth = 17, min_samples_leaf = 17, min_samples_split = 6)\n",
    "mlp = MLPRegressor(hidden_layer_sizes = (100, 100), max_iter = 500)\n",
    "\n",
    "models = [lasso, ridge, dt, mlp]\n",
    "print('\\n=== TUNED MODELS === \\n')\n",
    "for m in range(len(models)):\n",
    "    if m <= 1:\n",
    "        models[m].fit(X_train_pf_scl, y_train)\n",
    "        print(f'{models[m]}: \\nTrain RMSE:',f'{rmse(X_train_pf_scl, y_train, models[m]):.3f}', \n",
    "                    '- Test RMSE:', f'{rmse(X_test_pf_scl, y_test, models[m]):.3f}')\n",
    "    # fit the deciosion tree and the MLP to the original scaled features \n",
    "    else:\n",
    "        models[m].fit(X_train_scl, y_train)\n",
    "        print(f'{models[m]}: \\nTrain RMSE:',f'{rmse(X_train_scl, y_train, models[m]):.3f}', \n",
    "                    '- Test RMSE:', f'{rmse(X_test_scl, y_test, models[m]):.3f}')"
   ]
  },
  {
   "cell_type": "markdown",
   "metadata": {},
   "source": [
    "## Exercise 5\n",
    "Load the Temperature Prediction Bias dataset from https://archive.ics.uci.edu/ml/datasets/Bias+correction+of+numerical+prediction+model+temperature+forecast and predict the the difference between predicted and actual next day temperatures. Model this regression problem with different models and determine their optimal hyper-parameters, select the best model and estimate its performance on new data. Justify the choices or methods and models. "
   ]
  },
  {
   "cell_type": "markdown",
   "metadata": {},
   "source": [
    "This exercise is similar to the previous one so we will use the same logic: \n",
    "1. We will prepare the data\n",
    "2. Train the vanilla models \n",
    "3. Tune the models \n",
    "4. Compare the results"
   ]
  },
  {
   "cell_type": "markdown",
   "metadata": {},
   "source": [
    "### Dataset Information\n",
    "This data is for the purpose of bias correction of next-day maximum and minimum air temperatures forecast of the LDAPS model operated by the Korea Meteorological Administration over Seoul, South Korea. This data consists of summer data from 2013 to 2017. The input data is largely composed of the LDAPS model's next-day forecast data, in-situ maximum and minimum temperatures of present-day, and geographic auxiliary variables. There are two outputs (i.e. next-day maximum and minimum air temperatures) in this data. Hindcast validation was conducted for the period from 2015 to 2017."
   ]
  },
  {
   "cell_type": "code",
   "execution_count": 22,
   "metadata": {},
   "outputs": [
    {
     "name": "stdout",
     "output_type": "stream",
     "text": [
      "Dataset attributes: \n",
      "Index(['station', 'Date', 'Present_Tmax', 'Present_Tmin', 'LDAPS_RHmin',\n",
      "       'LDAPS_RHmax', 'LDAPS_Tmax_lapse', 'LDAPS_Tmin_lapse', 'LDAPS_WS',\n",
      "       'LDAPS_LH', 'LDAPS_CC1', 'LDAPS_CC2', 'LDAPS_CC3', 'LDAPS_CC4',\n",
      "       'LDAPS_PPT1', 'LDAPS_PPT2', 'LDAPS_PPT3', 'LDAPS_PPT4', 'lat', 'lon',\n",
      "       'DEM', 'Slope', 'Solar radiation', 'Next_Tmax', 'Next_Tmin'],\n",
      "      dtype='object')\n",
      "\n",
      "Number of samples: \n",
      "7752\n",
      "\n"
     ]
    },
    {
     "data": {
      "text/html": [
       "<div>\n",
       "<style scoped>\n",
       "    .dataframe tbody tr th:only-of-type {\n",
       "        vertical-align: middle;\n",
       "    }\n",
       "\n",
       "    .dataframe tbody tr th {\n",
       "        vertical-align: top;\n",
       "    }\n",
       "\n",
       "    .dataframe thead th {\n",
       "        text-align: right;\n",
       "    }\n",
       "</style>\n",
       "<table border=\"1\" class=\"dataframe\">\n",
       "  <thead>\n",
       "    <tr style=\"text-align: right;\">\n",
       "      <th></th>\n",
       "      <th>station</th>\n",
       "      <th>Date</th>\n",
       "      <th>Present_Tmax</th>\n",
       "      <th>Present_Tmin</th>\n",
       "      <th>LDAPS_RHmin</th>\n",
       "      <th>LDAPS_RHmax</th>\n",
       "      <th>LDAPS_Tmax_lapse</th>\n",
       "      <th>LDAPS_Tmin_lapse</th>\n",
       "      <th>LDAPS_WS</th>\n",
       "      <th>LDAPS_LH</th>\n",
       "      <th>...</th>\n",
       "      <th>LDAPS_PPT2</th>\n",
       "      <th>LDAPS_PPT3</th>\n",
       "      <th>LDAPS_PPT4</th>\n",
       "      <th>lat</th>\n",
       "      <th>lon</th>\n",
       "      <th>DEM</th>\n",
       "      <th>Slope</th>\n",
       "      <th>Solar radiation</th>\n",
       "      <th>Next_Tmax</th>\n",
       "      <th>Next_Tmin</th>\n",
       "    </tr>\n",
       "  </thead>\n",
       "  <tbody>\n",
       "    <tr>\n",
       "      <th>0</th>\n",
       "      <td>1.0</td>\n",
       "      <td>2013-06-30</td>\n",
       "      <td>28.7</td>\n",
       "      <td>21.4</td>\n",
       "      <td>58.255688</td>\n",
       "      <td>91.116364</td>\n",
       "      <td>28.074101</td>\n",
       "      <td>23.006936</td>\n",
       "      <td>6.818887</td>\n",
       "      <td>69.451805</td>\n",
       "      <td>...</td>\n",
       "      <td>0.0</td>\n",
       "      <td>0.0</td>\n",
       "      <td>0.0</td>\n",
       "      <td>37.6046</td>\n",
       "      <td>126.991</td>\n",
       "      <td>212.3350</td>\n",
       "      <td>2.7850</td>\n",
       "      <td>5992.895996</td>\n",
       "      <td>29.1</td>\n",
       "      <td>21.2</td>\n",
       "    </tr>\n",
       "    <tr>\n",
       "      <th>1</th>\n",
       "      <td>2.0</td>\n",
       "      <td>2013-06-30</td>\n",
       "      <td>31.9</td>\n",
       "      <td>21.6</td>\n",
       "      <td>52.263397</td>\n",
       "      <td>90.604721</td>\n",
       "      <td>29.850689</td>\n",
       "      <td>24.035009</td>\n",
       "      <td>5.691890</td>\n",
       "      <td>51.937448</td>\n",
       "      <td>...</td>\n",
       "      <td>0.0</td>\n",
       "      <td>0.0</td>\n",
       "      <td>0.0</td>\n",
       "      <td>37.6046</td>\n",
       "      <td>127.032</td>\n",
       "      <td>44.7624</td>\n",
       "      <td>0.5141</td>\n",
       "      <td>5869.312500</td>\n",
       "      <td>30.5</td>\n",
       "      <td>22.5</td>\n",
       "    </tr>\n",
       "    <tr>\n",
       "      <th>2</th>\n",
       "      <td>3.0</td>\n",
       "      <td>2013-06-30</td>\n",
       "      <td>31.6</td>\n",
       "      <td>23.3</td>\n",
       "      <td>48.690479</td>\n",
       "      <td>83.973587</td>\n",
       "      <td>30.091292</td>\n",
       "      <td>24.565633</td>\n",
       "      <td>6.138224</td>\n",
       "      <td>20.573050</td>\n",
       "      <td>...</td>\n",
       "      <td>0.0</td>\n",
       "      <td>0.0</td>\n",
       "      <td>0.0</td>\n",
       "      <td>37.5776</td>\n",
       "      <td>127.058</td>\n",
       "      <td>33.3068</td>\n",
       "      <td>0.2661</td>\n",
       "      <td>5863.555664</td>\n",
       "      <td>31.1</td>\n",
       "      <td>23.9</td>\n",
       "    </tr>\n",
       "  </tbody>\n",
       "</table>\n",
       "<p>3 rows × 25 columns</p>\n",
       "</div>"
      ],
      "text/plain": [
       "   station        Date  Present_Tmax  Present_Tmin  LDAPS_RHmin  LDAPS_RHmax  \\\n",
       "0      1.0  2013-06-30          28.7          21.4    58.255688    91.116364   \n",
       "1      2.0  2013-06-30          31.9          21.6    52.263397    90.604721   \n",
       "2      3.0  2013-06-30          31.6          23.3    48.690479    83.973587   \n",
       "\n",
       "   LDAPS_Tmax_lapse  LDAPS_Tmin_lapse  LDAPS_WS   LDAPS_LH  ...  LDAPS_PPT2  \\\n",
       "0         28.074101         23.006936  6.818887  69.451805  ...         0.0   \n",
       "1         29.850689         24.035009  5.691890  51.937448  ...         0.0   \n",
       "2         30.091292         24.565633  6.138224  20.573050  ...         0.0   \n",
       "\n",
       "   LDAPS_PPT3  LDAPS_PPT4      lat      lon       DEM   Slope  \\\n",
       "0         0.0         0.0  37.6046  126.991  212.3350  2.7850   \n",
       "1         0.0         0.0  37.6046  127.032   44.7624  0.5141   \n",
       "2         0.0         0.0  37.5776  127.058   33.3068  0.2661   \n",
       "\n",
       "   Solar radiation  Next_Tmax  Next_Tmin  \n",
       "0      5992.895996       29.1       21.2  \n",
       "1      5869.312500       30.5       22.5  \n",
       "2      5863.555664       31.1       23.9  \n",
       "\n",
       "[3 rows x 25 columns]"
      ]
     },
     "execution_count": 22,
     "metadata": {},
     "output_type": "execute_result"
    }
   ],
   "source": [
    "# load the dataset\n",
    "df = pd.read_csv('https://archive.ics.uci.edu/ml/machine-learning-databases/00514/Bias_correction_ucl.csv')\n",
    "\n",
    "# columns names\n",
    "print(f'Dataset attributes: \\n{df.keys()}\\n')\n",
    "# number of samples\n",
    "print(f'Number of samples: \\n{len(df)}\\n')\n",
    "df.head(3)"
   ]
  },
  {
   "cell_type": "code",
   "execution_count": 23,
   "metadata": {},
   "outputs": [
    {
     "data": {
      "text/plain": [
       "station              2\n",
       "Date                 2\n",
       "Present_Tmax        70\n",
       "Present_Tmin        70\n",
       "LDAPS_RHmin         75\n",
       "LDAPS_RHmax         75\n",
       "LDAPS_Tmax_lapse    75\n",
       "LDAPS_Tmin_lapse    75\n",
       "LDAPS_WS            75\n",
       "LDAPS_LH            75\n",
       "LDAPS_CC1           75\n",
       "LDAPS_CC2           75\n",
       "LDAPS_CC3           75\n",
       "LDAPS_CC4           75\n",
       "LDAPS_PPT1          75\n",
       "LDAPS_PPT2          75\n",
       "LDAPS_PPT3          75\n",
       "LDAPS_PPT4          75\n",
       "lat                  0\n",
       "lon                  0\n",
       "DEM                  0\n",
       "Slope                0\n",
       "Solar radiation      0\n",
       "Next_Tmax           27\n",
       "Next_Tmin           27\n",
       "dtype: int64"
      ]
     },
     "execution_count": 23,
     "metadata": {},
     "output_type": "execute_result"
    }
   ],
   "source": [
    "# checks for missing values\n",
    "df.isna().sum()"
   ]
  },
  {
   "cell_type": "markdown",
   "metadata": {},
   "source": [
    "One way to deal with those missing values could be by *back-filling* or *forward-filling* them, like so:\n",
    "- df = df.fillna('bfill')\n",
    "- df = df.fillna('ffill')"
   ]
  },
  {
   "cell_type": "markdown",
   "metadata": {},
   "source": [
    "Since they are very few though we will just remove them in this case: "
   ]
  },
  {
   "cell_type": "code",
   "execution_count": 24,
   "metadata": {},
   "outputs": [],
   "source": [
    "df = df.dropna()"
   ]
  },
  {
   "cell_type": "markdown",
   "metadata": {},
   "source": [
    "### Data Preparation \n",
    "We start by taking care of the *Date* column. There are many ways to deal with dates in ML problems and depending on the data, problem, and degree of precision required these can be more or less involved. In this exercise we will use one of the simplest approaches and just convert the dates to ordinal numbers:  "
   ]
  },
  {
   "cell_type": "code",
   "execution_count": 25,
   "metadata": {},
   "outputs": [],
   "source": [
    "import datetime as dt\n",
    "# convert the date colums to a datetuime object \n",
    "df['Date'] = pd.to_datetime(df['Date'])\n",
    "# convert the dates to ordinal numbers \n",
    "df['Date']= df['Date'].map(dt.datetime.toordinal)"
   ]
  },
  {
   "cell_type": "markdown",
   "metadata": {},
   "source": [
    "**Note:** This is a multi-target regression problem since we are trying to predict the next day minimum and maximum temperature (*Next_Tmin, Next_Tmax*). <br> We assing **two targets** to y, which is now a bidimensional array (*matrix*):"
   ]
  },
  {
   "cell_type": "code",
   "execution_count": 26,
   "metadata": {},
   "outputs": [
    {
     "name": "stdout",
     "output_type": "stream",
     "text": [
      "Number of features in the training set: 5311\n",
      "Number of targets in the training set: 5311\n",
      "Number of features in the test set: 2277\n",
      "Number of targtes in the test set: 2277\n"
     ]
    }
   ],
   "source": [
    "# assign features and targets to X and y\n",
    "X = df.iloc[:, :-2].values\n",
    "y = df.iloc[:, -2:].values\n",
    "\n",
    "# split features and targets in train and test sets (). Note how we can easily stratify the sets. \n",
    "X_train, X_test, y_train, y_test = train_test_split(X, y, test_size = .3, random_state = seed)\n",
    "\n",
    "print(f'Number of features in the training set: {len(X_train)}')\n",
    "print(f'Number of targets in the training set: {len(y_train)}')\n",
    "print(f'Number of features in the test set: {len(X_test)}')\n",
    "print(f'Number of targtes in the test set: {len(y_test)}')"
   ]
  },
  {
   "cell_type": "markdown",
   "metadata": {},
   "source": [
    "We stadardize the features:"
   ]
  },
  {
   "cell_type": "code",
   "execution_count": 27,
   "metadata": {},
   "outputs": [
    {
     "name": "stdout",
     "output_type": "stream",
     "text": [
      "X_train_scl mean: 2.2368448157803305e-12, X_train_scl std: 0.9999999999999986\n",
      "X_test_scl mean: 0.009333647463976257, X_test_scl std: 1.0064106348684931\n"
     ]
    }
   ],
   "source": [
    "from sklearn.preprocessing import StandardScaler\n",
    "sclr = StandardScaler()\n",
    "sclr.fit(X_train) # scale to 0 mean and std dev 1 on training data\n",
    "\n",
    "X_train_scl = sclr.transform(X_train) # scale all 3 sets:\n",
    "X_test_scl = sclr.transform(X_test)\n",
    "\n",
    "\n",
    "print(f'X_train_scl mean: {np.mean(X_train_scl)}, X_train_scl std: {np.std(X_train_scl)}')\n",
    "print(f'X_test_scl mean: {np.mean(X_test_scl)}, X_test_scl std: {np.std(X_test_scl)}')"
   ]
  },
  {
   "cell_type": "markdown",
   "metadata": {},
   "source": [
    "### Models Training\n",
    "Let us compare a few regression models:\n",
    "\n",
    "Ordinary least squares (OLS)\n",
    "Lasso\n",
    "Ridge\n",
    "Decision tree\n",
    "Multy-layer perceptron (MLP)\n",
    "We fit and train a \"vanilla\" version of the models on the data. No hyperparameters tuning, no expanded features, all very basic for now. <br> Note the use of **MultiOutputRegressor()** to wrap our models and make them support multi-target regression:"
   ]
  },
  {
   "cell_type": "code",
   "execution_count": 28,
   "metadata": {},
   "outputs": [
    {
     "name": "stdout",
     "output_type": "stream",
     "text": [
      "Lasso(): \n",
      "Train RMSE: 1.752 - Test RMSE: 1.778\n",
      "Ridge(): \n",
      "Train RMSE: 1.249 - Test RMSE: 1.246\n",
      "DecisionTreeRegressor(): \n",
      "Train RMSE: 0.000 - Test RMSE: 1.287\n",
      "MLPRegressor(max_iter=1000): \n",
      "Train RMSE: 0.518 - Test RMSE: 0.827\n"
     ]
    }
   ],
   "source": [
    "# import the models \n",
    "from sklearn.linear_model import  Ridge, LinearRegression\n",
    "from sklearn.neural_network import MLPRegressor\n",
    "from sklearn.tree import DecisionTreeRegressor\n",
    "from sklearn.multioutput import MultiOutputRegressor\n",
    "\n",
    "# Lasso\n",
    "lasso = Lasso()\n",
    "# Ridge\n",
    "ridge = Ridge()\n",
    "# Decision tree\n",
    "dt = DecisionTreeRegressor()\n",
    "# MLP\n",
    "mlp = MLPRegressor(max_iter = 1000)\n",
    "# store the models in a list of models \n",
    "models = [lasso, ridge, dt, mlp]\n",
    "# loop through the above list to fit, train and test the models\n",
    "for model in models:\n",
    "    regr = MultiOutputRegressor(model).fit(X_train_scl, y_train)\n",
    "    print(f'{model}: \\nTrain RMSE:',f'{rmse(X_train_scl, y_train, regr):.3f}', \n",
    "                    '- Test RMSE:', f'{rmse(X_test_scl, y_test, regr):.3f}')"
   ]
  },
  {
   "cell_type": "markdown",
   "metadata": {},
   "source": [
    "Note how the models now make a double prediction (i.e., on *Next_Tmax, Next_Tmin*):"
   ]
  },
  {
   "cell_type": "code",
   "execution_count": 29,
   "metadata": {},
   "outputs": [
    {
     "name": "stdout",
     "output_type": "stream",
     "text": [
      "Prediction: [30.10738751 20.62798573]\n",
      "Real values: [30.6 20.1]\n"
     ]
    }
   ],
   "source": [
    "# make a prediction on the first sample\n",
    "print(f'Prediction: {(regr.predict(X_train_scl[:1])[0])}')\n",
    "# show the first sample\n",
    "print(f'Real values: {y_train[:1][0]}')"
   ]
  },
  {
   "cell_type": "markdown",
   "metadata": {},
   "source": [
    "Let us expand the features for the linear models:"
   ]
  },
  {
   "cell_type": "code",
   "execution_count": 30,
   "metadata": {},
   "outputs": [],
   "source": [
    "# create polynomial features for the scaled training and test features\n",
    "pf = PolynomialFeatures(degree=2)\n",
    "X_train_pf_scl = pf.fit_transform(X_train_scl)\n",
    "X_test_pf_scl = pf.transform(X_test_scl)"
   ]
  },
  {
   "cell_type": "code",
   "execution_count": 31,
   "metadata": {},
   "outputs": [
    {
     "name": "stdout",
     "output_type": "stream",
     "text": [
      "Lasso(): \n",
      "Train RMSE: 1.747 - Test RMSE: 1.778\n",
      "Ridge(): \n",
      "Train RMSE: 0.931 - Test RMSE: 1.005\n"
     ]
    }
   ],
   "source": [
    "linear_models = [lasso, ridge]\n",
    "for model in linear_models:\n",
    "    model.fit(X_train_pf_scl, y_train)\n",
    "    print(f'{model}: \\nTrain RMSE:',f'{rmse(X_train_pf_scl, y_train, model):.3f}', \n",
    "                    '- Test RMSE:', f'{rmse(X_test_pf_scl, y_test, model):.3f}')"
   ]
  },
  {
   "cell_type": "markdown",
   "metadata": {},
   "source": [
    "We notice how the *Lasso* does not improve (it may require fine tuning) while the *Ridge* does. "
   ]
  },
  {
   "cell_type": "markdown",
   "metadata": {},
   "source": [
    "### Models fine tuning"
   ]
  },
  {
   "cell_type": "code",
   "execution_count": 32,
   "metadata": {},
   "outputs": [],
   "source": [
    "# Lasso\n",
    "lasso_param = {'alpha':np.arange(1, 100)}\n",
    "# Ridge\n",
    "ridge_param = {'alpha':np.arange(1, 100)}\n",
    "# Decision tree\n",
    "dt_param = {'max_depth':np.arange(1, 20, 4), \n",
    "            'min_samples_split':np.arange(2, 8, 2),\n",
    "            'min_samples_leaf':np.arange(1, 20, 4)}\n",
    "\n",
    "# MLP - we can specify its architecture by defining the number of neurons at each layer \n",
    "mlp_param = {'hidden_layer_sizes': [(100,), (100, 100)],\n",
    "             'max_iter': [1000]}"
   ]
  },
  {
   "cell_type": "markdown",
   "metadata": {},
   "source": [
    "We run a nested gridsearch for each model:"
   ]
  },
  {
   "cell_type": "code",
   "execution_count": 33,
   "metadata": {},
   "outputs": [
    {
     "name": "stdout",
     "output_type": "stream",
     "text": [
      "Lasso(): \n",
      "Train RMSE: 1.7336111957862568 - Best parameters: {'alpha': 1}\n",
      "Ridge(): \n",
      "Train RMSE: 0.9910981527865677 - Best parameters: {'alpha': 1}\n",
      "DecisionTreeRegressor(): \n",
      "Train RMSE: 1.2717257524102006 - Best parameters: {'max_depth': 9, 'min_samples_leaf': 5, 'min_samples_split': 6}\n",
      "MLPRegressor(max_iter=1000): \n",
      "Train RMSE: 0.9039234195101878 - Best parameters: {'hidden_layer_sizes': (100, 100), 'max_iter': 1000}\n"
     ]
    }
   ],
   "source": [
    "scoring = {'MSE': 'neg_root_mean_squared_error'}\n",
    "# store the models parameters \n",
    "models_parameters = [lasso_param, ridge_param, dt_param, mlp_param]\n",
    "\n",
    "# loop through each model, and their paramaters to estimate, and run a grid search for each of them \n",
    "for m in range(len(models)):\n",
    "    grid = GridSearchCV(models[m], models_parameters[m], scoring = scoring, refit = False, cv = 5)\n",
    "    # fit the lasso and ridge models to the polynomial scaled features \n",
    "    if m <= 1:\n",
    "        grid.fit(X_train_pf_scl, y_train)\n",
    "    # fit the deciosion tree and the MLP to the original scaled features \n",
    "    else:\n",
    "        grid.fit(X_train_scl, y_train)\n",
    "    # extract the best model \n",
    "    model_df = pd.DataFrame(grid.cv_results_).sort_values(by = 'rank_test_MSE').head(1)\n",
    "    print(f'{models[m]}: \\nTrain RMSE: {-model_df.mean_test_MSE.values[0]} - Best parameters: {model_df.params.values[0]}')"
   ]
  },
  {
   "cell_type": "markdown",
   "metadata": {},
   "source": [
    "### Models Comparison"
   ]
  },
  {
   "cell_type": "markdown",
   "metadata": {},
   "source": [
    "We can now re-train the above models with the above hyperparameters and compare them to the untuned models:"
   ]
  },
  {
   "cell_type": "code",
   "execution_count": 34,
   "metadata": {},
   "outputs": [
    {
     "name": "stdout",
     "output_type": "stream",
     "text": [
      "=== UNTUNED MODELS === \n",
      "\n",
      "Lasso(): \n",
      "Train RMSE: 1.752 - Test RMSE: 1.778\n",
      "Ridge(): \n",
      "Train RMSE: 1.249 - Test RMSE: 1.246\n",
      "DecisionTreeRegressor(): \n",
      "Train RMSE: 0.000 - Test RMSE: 1.345\n",
      "MLPRegressor(max_iter=1000): \n",
      "Train RMSE: 0.694 - Test RMSE: 0.876\n",
      "\n",
      "=== TUNED MODELS === \n",
      "\n",
      "Lasso(alpha=1): \n",
      "Train RMSE: 1.747 - Test RMSE: 1.778\n",
      "Ridge(alpha=1): \n",
      "Train RMSE: 0.931 - Test RMSE: 1.005\n",
      "DecisionTreeRegressor(max_depth=13, min_samples_leaf=5, min_samples_split=4): \n",
      "Train RMSE: 0.716 - Test RMSE: 1.229\n",
      "MLPRegressor(hidden_layer_sizes=(100, 100), max_iter=1000): \n",
      "Train RMSE: 0.578 - Test RMSE: 0.857\n"
     ]
    }
   ],
   "source": [
    "lasso = Lasso()\n",
    "# Ridge\n",
    "ridge = Ridge()\n",
    "# Decision tree\n",
    "dt = DecisionTreeRegressor()\n",
    "# MLP\n",
    "mlp = MLPRegressor(max_iter = 1000)\n",
    "# store the models in a list of models \n",
    "models = [lasso, ridge, dt, mlp]\n",
    "# loop through the above list to fit, train and test the models\n",
    "print('=== UNTUNED MODELS === \\n')\n",
    "for model in models:\n",
    "    model.fit(X_train_scl, y_train)\n",
    "    print(f'{model}: \\nTrain RMSE:',f'{rmse(X_train_scl, y_train, model):.3f}', \n",
    "                    '- Test RMSE:', f'{rmse(X_test_scl, y_test, model):.3f}')\n",
    "\n",
    "lasso = Lasso(alpha = 1)\n",
    "ridge = Ridge(alpha = 1)\n",
    "dt = DecisionTreeRegressor(max_depth = 9, min_samples_leaf = 5, min_samples_split = 6)\n",
    "mlp = MLPRegressor(hidden_layer_sizes = (100, 100), max_iter = 1000)\n",
    "\n",
    "models = [lasso, ridge, dt, mlp]\n",
    "print('\\n=== TUNED MODELS === \\n')\n",
    "for m in range(len(models)):\n",
    "    if m <= 1:\n",
    "        models[m].fit(X_train_pf_scl, y_train)\n",
    "        print(f'{models[m]}: \\nTrain RMSE:',f'{rmse(X_train_pf_scl, y_train, models[m]):.3f}', \n",
    "                    '- Test RMSE:', f'{rmse(X_test_pf_scl, y_test, models[m]):.3f}')\n",
    "    # fit the deciosion tree and the MLP to the original scaled features \n",
    "    else:\n",
    "        models[m].fit(X_train_scl, y_train)\n",
    "        print(f'{models[m]}: \\nTrain RMSE:',f'{rmse(X_train_scl, y_train, models[m]):.3f}', \n",
    "                    '- Test RMSE:', f'{rmse(X_test_scl, y_test, models[m]):.3f}')"
   ]
  },
  {
   "cell_type": "markdown",
   "metadata": {},
   "source": [
    "We see an improvement in performance in the tuned models and the multy-layer perceptron confirms to be the best performer among the trained models.  "
   ]
  }
 ],
 "metadata": {
  "kernelspec": {
   "display_name": "Python 3 (ipykernel)",
   "language": "python",
   "name": "python3"
  },
  "language_info": {
   "codemirror_mode": {
    "name": "ipython",
    "version": 3
   },
   "file_extension": ".py",
   "mimetype": "text/x-python",
   "name": "python",
   "nbconvert_exporter": "python",
   "pygments_lexer": "ipython3",
   "version": "3.9.12"
  },
  "vscode": {
   "interpreter": {
    "hash": "fdb129d5228a765a304b8d5599f04ed0b9473866110291e13ce84f812c5eadab"
   }
  }
 },
 "nbformat": 4,
 "nbformat_minor": 2
}
