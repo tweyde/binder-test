{
 "cells": [
  {
   "cell_type": "code",
   "execution_count": 1,
   "id": "635dd3df-7397-4361-95b1-b550a8725582",
   "metadata": {},
   "outputs": [],
   "source": [
    "import pandas as pd\n",
    "import numpy as np"
   ]
  },
  {
   "cell_type": "code",
   "execution_count": 2,
   "id": "127453f8-1dfa-4aba-a374-e937193075a9",
   "metadata": {},
   "outputs": [],
   "source": [
    "df = pd.read_csv(\"../data/corona-UK-overview_2021-11-20.csv\")\n",
    "df = df.sort_values(by='date')"
   ]
  },
  {
   "cell_type": "code",
   "execution_count": 3,
   "id": "346e9a63-39a3-4e48-b90b-9a5885e89fcd",
   "metadata": {},
   "outputs": [],
   "source": [
    "def myCorr(x,y):\n",
    "    return np.argmax(np.correlate(x,y,mode=\"fullsize\"))"
   ]
  },
  {
   "cell_type": "code",
   "execution_count": 4,
   "id": "6c7250f3-84af-458c-ae6e-16162cc5186d",
   "metadata": {},
   "outputs": [
    {
     "data": {
      "text/html": [
       "<div>\n",
       "<style scoped>\n",
       "    .dataframe tbody tr th:only-of-type {\n",
       "        vertical-align: middle;\n",
       "    }\n",
       "\n",
       "    .dataframe tbody tr th {\n",
       "        vertical-align: top;\n",
       "    }\n",
       "\n",
       "    .dataframe thead th {\n",
       "        text-align: right;\n",
       "    }\n",
       "</style>\n",
       "<table border=\"1\" class=\"dataframe\">\n",
       "  <thead>\n",
       "    <tr style=\"text-align: right;\">\n",
       "      <th></th>\n",
       "      <th>cumPeopleVaccinatedSecondDoseByPublishDate</th>\n",
       "      <th>newAdmissions</th>\n",
       "      <th>newCasesBySpecimenDate</th>\n",
       "      <th>newDeaths28DaysByDeathDate</th>\n",
       "      <th>newVirusTests</th>\n",
       "    </tr>\n",
       "  </thead>\n",
       "  <tbody>\n",
       "    <tr>\n",
       "      <th>cumPeopleVaccinatedSecondDoseByPublishDate</th>\n",
       "      <td>1.0</td>\n",
       "      <td>537.0</td>\n",
       "      <td>312.0</td>\n",
       "      <td>552.0</td>\n",
       "      <td>339.0</td>\n",
       "    </tr>\n",
       "    <tr>\n",
       "      <th>newAdmissions</th>\n",
       "      <td>537.0</td>\n",
       "      <td>1.0</td>\n",
       "      <td>337.0</td>\n",
       "      <td>598.0</td>\n",
       "      <td>510.0</td>\n",
       "    </tr>\n",
       "    <tr>\n",
       "      <th>newCasesBySpecimenDate</th>\n",
       "      <td>312.0</td>\n",
       "      <td>337.0</td>\n",
       "      <td>1.0</td>\n",
       "      <td>892.0</td>\n",
       "      <td>576.0</td>\n",
       "    </tr>\n",
       "    <tr>\n",
       "      <th>newDeaths28DaysByDeathDate</th>\n",
       "      <td>552.0</td>\n",
       "      <td>598.0</td>\n",
       "      <td>892.0</td>\n",
       "      <td>1.0</td>\n",
       "      <td>332.0</td>\n",
       "    </tr>\n",
       "    <tr>\n",
       "      <th>newVirusTests</th>\n",
       "      <td>339.0</td>\n",
       "      <td>510.0</td>\n",
       "      <td>576.0</td>\n",
       "      <td>332.0</td>\n",
       "      <td>1.0</td>\n",
       "    </tr>\n",
       "  </tbody>\n",
       "</table>\n",
       "</div>"
      ],
      "text/plain": [
       "                                            cumPeopleVaccinatedSecondDoseByPublishDate  \\\n",
       "cumPeopleVaccinatedSecondDoseByPublishDate                                         1.0   \n",
       "newAdmissions                                                                    537.0   \n",
       "newCasesBySpecimenDate                                                           312.0   \n",
       "newDeaths28DaysByDeathDate                                                       552.0   \n",
       "newVirusTests                                                                    339.0   \n",
       "\n",
       "                                            newAdmissions  \\\n",
       "cumPeopleVaccinatedSecondDoseByPublishDate          537.0   \n",
       "newAdmissions                                         1.0   \n",
       "newCasesBySpecimenDate                              337.0   \n",
       "newDeaths28DaysByDeathDate                          598.0   \n",
       "newVirusTests                                       510.0   \n",
       "\n",
       "                                            newCasesBySpecimenDate  \\\n",
       "cumPeopleVaccinatedSecondDoseByPublishDate                   312.0   \n",
       "newAdmissions                                                337.0   \n",
       "newCasesBySpecimenDate                                         1.0   \n",
       "newDeaths28DaysByDeathDate                                   892.0   \n",
       "newVirusTests                                                576.0   \n",
       "\n",
       "                                            newDeaths28DaysByDeathDate  \\\n",
       "cumPeopleVaccinatedSecondDoseByPublishDate                       552.0   \n",
       "newAdmissions                                                    598.0   \n",
       "newCasesBySpecimenDate                                           892.0   \n",
       "newDeaths28DaysByDeathDate                                         1.0   \n",
       "newVirusTests                                                    332.0   \n",
       "\n",
       "                                            newVirusTests  \n",
       "cumPeopleVaccinatedSecondDoseByPublishDate          339.0  \n",
       "newAdmissions                                       510.0  \n",
       "newCasesBySpecimenDate                              576.0  \n",
       "newDeaths28DaysByDeathDate                          332.0  \n",
       "newVirusTests                                         1.0  "
      ]
     },
     "execution_count": 4,
     "metadata": {},
     "output_type": "execute_result"
    }
   ],
   "source": [
    "df.corr(method=myCorr)"
   ]
  },
  {
   "cell_type": "code",
   "execution_count": 5,
   "id": "a3526a5c-4d9c-43f4-9480-2294cc4a6593",
   "metadata": {},
   "outputs": [
    {
     "data": {
      "text/html": [
       "<div>\n",
       "<style scoped>\n",
       "    .dataframe tbody tr th:only-of-type {\n",
       "        vertical-align: middle;\n",
       "    }\n",
       "\n",
       "    .dataframe tbody tr th {\n",
       "        vertical-align: top;\n",
       "    }\n",
       "\n",
       "    .dataframe thead th {\n",
       "        text-align: right;\n",
       "    }\n",
       "</style>\n",
       "<table border=\"1\" class=\"dataframe\">\n",
       "  <thead>\n",
       "    <tr style=\"text-align: right;\">\n",
       "      <th></th>\n",
       "      <th>cumPeopleVaccinatedSecondDoseByPublishDate</th>\n",
       "      <th>newAdmissions</th>\n",
       "      <th>newCasesBySpecimenDate</th>\n",
       "      <th>newDeaths28DaysByDeathDate</th>\n",
       "      <th>newVirusTests</th>\n",
       "    </tr>\n",
       "  </thead>\n",
       "  <tbody>\n",
       "    <tr>\n",
       "      <th>cumPeopleVaccinatedSecondDoseByPublishDate</th>\n",
       "      <td>1.000000e+00</td>\n",
       "      <td>5.414647e+12</td>\n",
       "      <td>2.232808e+14</td>\n",
       "      <td>7.185277e+11</td>\n",
       "      <td>7.077454e+15</td>\n",
       "    </tr>\n",
       "    <tr>\n",
       "      <th>newAdmissions</th>\n",
       "      <td>5.414647e+12</td>\n",
       "      <td>1.000000e+00</td>\n",
       "      <td>1.394417e+10</td>\n",
       "      <td>2.978457e+08</td>\n",
       "      <td>2.814096e+11</td>\n",
       "    </tr>\n",
       "    <tr>\n",
       "      <th>newCasesBySpecimenDate</th>\n",
       "      <td>2.232808e+14</td>\n",
       "      <td>1.394417e+10</td>\n",
       "      <td>1.000000e+00</td>\n",
       "      <td>3.104993e+09</td>\n",
       "      <td>6.858724e+12</td>\n",
       "    </tr>\n",
       "    <tr>\n",
       "      <th>newDeaths28DaysByDeathDate</th>\n",
       "      <td>7.185277e+11</td>\n",
       "      <td>2.978457e+08</td>\n",
       "      <td>3.104993e+09</td>\n",
       "      <td>1.000000e+00</td>\n",
       "      <td>5.889134e+10</td>\n",
       "    </tr>\n",
       "    <tr>\n",
       "      <th>newVirusTests</th>\n",
       "      <td>7.077454e+15</td>\n",
       "      <td>2.814096e+11</td>\n",
       "      <td>6.858724e+12</td>\n",
       "      <td>5.889134e+10</td>\n",
       "      <td>1.000000e+00</td>\n",
       "    </tr>\n",
       "  </tbody>\n",
       "</table>\n",
       "</div>"
      ],
      "text/plain": [
       "                                            cumPeopleVaccinatedSecondDoseByPublishDate  \\\n",
       "cumPeopleVaccinatedSecondDoseByPublishDate                                1.000000e+00   \n",
       "newAdmissions                                                             5.414647e+12   \n",
       "newCasesBySpecimenDate                                                    2.232808e+14   \n",
       "newDeaths28DaysByDeathDate                                                7.185277e+11   \n",
       "newVirusTests                                                             7.077454e+15   \n",
       "\n",
       "                                            newAdmissions  \\\n",
       "cumPeopleVaccinatedSecondDoseByPublishDate   5.414647e+12   \n",
       "newAdmissions                                1.000000e+00   \n",
       "newCasesBySpecimenDate                       1.394417e+10   \n",
       "newDeaths28DaysByDeathDate                   2.978457e+08   \n",
       "newVirusTests                                2.814096e+11   \n",
       "\n",
       "                                            newCasesBySpecimenDate  \\\n",
       "cumPeopleVaccinatedSecondDoseByPublishDate            2.232808e+14   \n",
       "newAdmissions                                         1.394417e+10   \n",
       "newCasesBySpecimenDate                                1.000000e+00   \n",
       "newDeaths28DaysByDeathDate                            3.104993e+09   \n",
       "newVirusTests                                         6.858724e+12   \n",
       "\n",
       "                                            newDeaths28DaysByDeathDate  \\\n",
       "cumPeopleVaccinatedSecondDoseByPublishDate                7.185277e+11   \n",
       "newAdmissions                                             2.978457e+08   \n",
       "newCasesBySpecimenDate                                    3.104993e+09   \n",
       "newDeaths28DaysByDeathDate                                1.000000e+00   \n",
       "newVirusTests                                             5.889134e+10   \n",
       "\n",
       "                                            newVirusTests  \n",
       "cumPeopleVaccinatedSecondDoseByPublishDate   7.077454e+15  \n",
       "newAdmissions                                2.814096e+11  \n",
       "newCasesBySpecimenDate                       6.858724e+12  \n",
       "newDeaths28DaysByDeathDate                   5.889134e+10  \n",
       "newVirusTests                                1.000000e+00  "
      ]
     },
     "execution_count": 5,
     "metadata": {},
     "output_type": "execute_result"
    }
   ],
   "source": [
    "df.corr(method=np.correlate)"
   ]
  },
  {
   "cell_type": "code",
   "execution_count": 33,
   "id": "c6212a68-6dd2-4492-9973-09203deda4eb",
   "metadata": {},
   "outputs": [],
   "source": [
    "#from functools import partial"
   ]
  },
  {
   "cell_type": "code",
   "execution_count": 34,
   "id": "bece6913-bee6-41de-91db-050d01b4ef91",
   "metadata": {},
   "outputs": [],
   "source": [
    "#df.corr(method=lambda x,y: np.correlate(x,y,mode=\"full\"))"
   ]
  },
  {
   "cell_type": "code",
   "execution_count": 36,
   "id": "6a01b671-c8c9-4a57-b98c-95d4d67394ee",
   "metadata": {},
   "outputs": [],
   "source": [
    "def histogram_intersection(a, b):\n",
    "...     v = np.minimum(a, b).sum().round(decimals=1)\n",
    "...     return v"
   ]
  },
  {
   "cell_type": "code",
   "execution_count": 37,
   "id": "afb01f1e-0b6c-4f58-8f0a-cb90fd10ed59",
   "metadata": {},
   "outputs": [
    {
     "data": {
      "text/html": [
       "<div>\n",
       "<style scoped>\n",
       "    .dataframe tbody tr th:only-of-type {\n",
       "        vertical-align: middle;\n",
       "    }\n",
       "\n",
       "    .dataframe tbody tr th {\n",
       "        vertical-align: top;\n",
       "    }\n",
       "\n",
       "    .dataframe thead th {\n",
       "        text-align: right;\n",
       "    }\n",
       "</style>\n",
       "<table border=\"1\" class=\"dataframe\">\n",
       "  <thead>\n",
       "    <tr style=\"text-align: right;\">\n",
       "      <th></th>\n",
       "      <th>cumPeopleVaccinatedSecondDoseByPublishDate</th>\n",
       "      <th>newAdmissions</th>\n",
       "      <th>newCasesBySpecimenDate</th>\n",
       "      <th>newDeaths28DaysByDeathDate</th>\n",
       "      <th>newVirusTests</th>\n",
       "    </tr>\n",
       "  </thead>\n",
       "  <tbody>\n",
       "    <tr>\n",
       "      <th>cumPeopleVaccinatedSecondDoseByPublishDate</th>\n",
       "      <td>1.0</td>\n",
       "      <td>268610.0</td>\n",
       "      <td>6659016.0</td>\n",
       "      <td>59441.0</td>\n",
       "      <td>266532253.0</td>\n",
       "    </tr>\n",
       "    <tr>\n",
       "      <th>newAdmissions</th>\n",
       "      <td>268610.0</td>\n",
       "      <td>1.0</td>\n",
       "      <td>588799.0</td>\n",
       "      <td>142898.0</td>\n",
       "      <td>519625.0</td>\n",
       "    </tr>\n",
       "    <tr>\n",
       "      <th>newCasesBySpecimenDate</th>\n",
       "      <td>6659016.0</td>\n",
       "      <td>588799.0</td>\n",
       "      <td>1.0</td>\n",
       "      <td>143832.0</td>\n",
       "      <td>9667757.0</td>\n",
       "    </tr>\n",
       "    <tr>\n",
       "      <th>newDeaths28DaysByDeathDate</th>\n",
       "      <td>59441.0</td>\n",
       "      <td>142898.0</td>\n",
       "      <td>143832.0</td>\n",
       "      <td>1.0</td>\n",
       "      <td>121687.0</td>\n",
       "    </tr>\n",
       "    <tr>\n",
       "      <th>newVirusTests</th>\n",
       "      <td>266532253.0</td>\n",
       "      <td>519625.0</td>\n",
       "      <td>9667757.0</td>\n",
       "      <td>121687.0</td>\n",
       "      <td>1.0</td>\n",
       "    </tr>\n",
       "  </tbody>\n",
       "</table>\n",
       "</div>"
      ],
      "text/plain": [
       "                                            cumPeopleVaccinatedSecondDoseByPublishDate  \\\n",
       "cumPeopleVaccinatedSecondDoseByPublishDate                                         1.0   \n",
       "newAdmissions                                                                 268610.0   \n",
       "newCasesBySpecimenDate                                                       6659016.0   \n",
       "newDeaths28DaysByDeathDate                                                     59441.0   \n",
       "newVirusTests                                                              266532253.0   \n",
       "\n",
       "                                            newAdmissions  \\\n",
       "cumPeopleVaccinatedSecondDoseByPublishDate       268610.0   \n",
       "newAdmissions                                         1.0   \n",
       "newCasesBySpecimenDate                           588799.0   \n",
       "newDeaths28DaysByDeathDate                       142898.0   \n",
       "newVirusTests                                    519625.0   \n",
       "\n",
       "                                            newCasesBySpecimenDate  \\\n",
       "cumPeopleVaccinatedSecondDoseByPublishDate               6659016.0   \n",
       "newAdmissions                                             588799.0   \n",
       "newCasesBySpecimenDate                                         1.0   \n",
       "newDeaths28DaysByDeathDate                                143832.0   \n",
       "newVirusTests                                            9667757.0   \n",
       "\n",
       "                                            newDeaths28DaysByDeathDate  \\\n",
       "cumPeopleVaccinatedSecondDoseByPublishDate                     59441.0   \n",
       "newAdmissions                                                 142898.0   \n",
       "newCasesBySpecimenDate                                        143832.0   \n",
       "newDeaths28DaysByDeathDate                                         1.0   \n",
       "newVirusTests                                                 121687.0   \n",
       "\n",
       "                                            newVirusTests  \n",
       "cumPeopleVaccinatedSecondDoseByPublishDate    266532253.0  \n",
       "newAdmissions                                    519625.0  \n",
       "newCasesBySpecimenDate                          9667757.0  \n",
       "newDeaths28DaysByDeathDate                       121687.0  \n",
       "newVirusTests                                         1.0  "
      ]
     },
     "execution_count": 37,
     "metadata": {},
     "output_type": "execute_result"
    }
   ],
   "source": [
    "df.corr(method=histogram_intersection)"
   ]
  },
  {
   "cell_type": "code",
   "execution_count": 38,
   "id": "952420a7-cd82-4089-b4e2-8a43e93ae456",
   "metadata": {},
   "outputs": [
    {
     "data": {
      "text/html": [
       "<div>\n",
       "<style scoped>\n",
       "    .dataframe tbody tr th:only-of-type {\n",
       "        vertical-align: middle;\n",
       "    }\n",
       "\n",
       "    .dataframe tbody tr th {\n",
       "        vertical-align: top;\n",
       "    }\n",
       "\n",
       "    .dataframe thead th {\n",
       "        text-align: right;\n",
       "    }\n",
       "</style>\n",
       "<table border=\"1\" class=\"dataframe\">\n",
       "  <thead>\n",
       "    <tr style=\"text-align: right;\">\n",
       "      <th></th>\n",
       "      <th>newCasesBySpecimenDate</th>\n",
       "      <th>newDeaths28DaysByDeathDate</th>\n",
       "    </tr>\n",
       "  </thead>\n",
       "  <tbody>\n",
       "    <tr>\n",
       "      <th>659</th>\n",
       "      <td>2.0</td>\n",
       "      <td>NaN</td>\n",
       "    </tr>\n",
       "    <tr>\n",
       "      <th>658</th>\n",
       "      <td>0.0</td>\n",
       "      <td>NaN</td>\n",
       "    </tr>\n",
       "    <tr>\n",
       "      <th>657</th>\n",
       "      <td>0.0</td>\n",
       "      <td>NaN</td>\n",
       "    </tr>\n",
       "    <tr>\n",
       "      <th>656</th>\n",
       "      <td>0.0</td>\n",
       "      <td>NaN</td>\n",
       "    </tr>\n",
       "    <tr>\n",
       "      <th>655</th>\n",
       "      <td>0.0</td>\n",
       "      <td>NaN</td>\n",
       "    </tr>\n",
       "    <tr>\n",
       "      <th>...</th>\n",
       "      <td>...</td>\n",
       "      <td>...</td>\n",
       "    </tr>\n",
       "    <tr>\n",
       "      <th>4</th>\n",
       "      <td>49387.0</td>\n",
       "      <td>150.0</td>\n",
       "    </tr>\n",
       "    <tr>\n",
       "      <th>3</th>\n",
       "      <td>43533.0</td>\n",
       "      <td>134.0</td>\n",
       "    </tr>\n",
       "    <tr>\n",
       "      <th>2</th>\n",
       "      <td>39694.0</td>\n",
       "      <td>91.0</td>\n",
       "    </tr>\n",
       "    <tr>\n",
       "      <th>1</th>\n",
       "      <td>32226.0</td>\n",
       "      <td>91.0</td>\n",
       "    </tr>\n",
       "    <tr>\n",
       "      <th>0</th>\n",
       "      <td>NaN</td>\n",
       "      <td>NaN</td>\n",
       "    </tr>\n",
       "  </tbody>\n",
       "</table>\n",
       "<p>660 rows × 2 columns</p>\n",
       "</div>"
      ],
      "text/plain": [
       "     newCasesBySpecimenDate  newDeaths28DaysByDeathDate\n",
       "659                     2.0                         NaN\n",
       "658                     0.0                         NaN\n",
       "657                     0.0                         NaN\n",
       "656                     0.0                         NaN\n",
       "655                     0.0                         NaN\n",
       "..                      ...                         ...\n",
       "4                   49387.0                       150.0\n",
       "3                   43533.0                       134.0\n",
       "2                   39694.0                        91.0\n",
       "1                   32226.0                        91.0\n",
       "0                       NaN                         NaN\n",
       "\n",
       "[660 rows x 2 columns]"
      ]
     },
     "execution_count": 38,
     "metadata": {},
     "output_type": "execute_result"
    }
   ],
   "source": [
    "casesDeaths = df[['newCasesBySpecimenDate','newDeaths28DaysByDeathDate']]\n",
    "casesDeaths"
   ]
  },
  {
   "cell_type": "code",
   "execution_count": 39,
   "id": "d1382da2-3d16-4f3e-897d-51853835c4fc",
   "metadata": {},
   "outputs": [
    {
     "data": {
      "text/plain": [
       "array([[2.0000e+00,        nan],\n",
       "       [0.0000e+00,        nan],\n",
       "       [0.0000e+00,        nan],\n",
       "       ...,\n",
       "       [3.9694e+04, 9.1000e+01],\n",
       "       [3.2226e+04, 9.1000e+01],\n",
       "       [       nan,        nan]])"
      ]
     },
     "execution_count": 39,
     "metadata": {},
     "output_type": "execute_result"
    }
   ],
   "source": [
    "cdnp = casesDeaths.to_numpy()\n",
    "cdnp"
   ]
  },
  {
   "cell_type": "code",
   "execution_count": 40,
   "id": "17138b62-157a-4eda-b14d-fb2e9d4d3bd5",
   "metadata": {},
   "outputs": [
    {
     "data": {
      "text/plain": [
       "array([nan, nan, nan, ..., nan, nan, nan])"
      ]
     },
     "execution_count": 40,
     "metadata": {},
     "output_type": "execute_result"
    }
   ],
   "source": [
    "np.correlate(cdnp[:,0],cdnp[:,1],mode='full')"
   ]
  },
  {
   "cell_type": "code",
   "execution_count": 41,
   "id": "1d6962b1-d295-4eb1-b95c-329e71a0903e",
   "metadata": {},
   "outputs": [
    {
     "data": {
      "text/plain": [
       "newCasesBySpecimenDate         1\n",
       "newDeaths28DaysByDeathDate    33\n",
       "dtype: int64"
      ]
     },
     "execution_count": 41,
     "metadata": {},
     "output_type": "execute_result"
    }
   ],
   "source": [
    "casesDeaths.shape[0]-casesDeaths.count()"
   ]
  },
  {
   "cell_type": "code",
   "execution_count": 42,
   "id": "4eeca4da-fd5b-4d35-bd94-f8b07b4a0613",
   "metadata": {},
   "outputs": [],
   "source": [
    "deaths = df[['newDeaths28DaysByDeathDate']]"
   ]
  },
  {
   "cell_type": "code",
   "execution_count": 43,
   "id": "9f79d13c-0823-4497-93ed-7f7afb135d08",
   "metadata": {},
   "outputs": [
    {
     "data": {
      "text/plain": [
       "(627, 1)"
      ]
     },
     "execution_count": 43,
     "metadata": {},
     "output_type": "execute_result"
    }
   ],
   "source": [
    "deaths[1:-32].shape"
   ]
  },
  {
   "cell_type": "code",
   "execution_count": 44,
   "id": "2721753d-5a80-431d-a04c-c32808c5d674",
   "metadata": {},
   "outputs": [
    {
     "data": {
      "text/plain": [
       "newDeaths28DaysByDeathDate    596\n",
       "dtype: int64"
      ]
     },
     "execution_count": 44,
     "metadata": {},
     "output_type": "execute_result"
    }
   ],
   "source": [
    "deaths[1:-32].count()"
   ]
  },
  {
   "cell_type": "code",
   "execution_count": 45,
   "id": "622cc8b4-58d8-46d8-99ec-4204dc99ffd5",
   "metadata": {},
   "outputs": [],
   "source": [
    "casesDeaths2 = casesDeaths.iloc[32:-1,:]"
   ]
  },
  {
   "cell_type": "code",
   "execution_count": 46,
   "id": "986f65a9-fdc5-41e4-a503-b462a1d56bc0",
   "metadata": {},
   "outputs": [
    {
     "name": "stdout",
     "output_type": "stream",
     "text": [
      "(627, 2)\n",
      "newCasesBySpecimenDate        627\n",
      "newDeaths28DaysByDeathDate    627\n",
      "dtype: int64\n"
     ]
    }
   ],
   "source": [
    "print(casesDeaths2.shape)\n",
    "print(casesDeaths2.count())"
   ]
  },
  {
   "cell_type": "code",
   "execution_count": 47,
   "id": "4545bcbc-0987-4cbb-9155-c808972d01be",
   "metadata": {},
   "outputs": [],
   "source": [
    "cdnp2 = casesDeaths2.to_numpy()"
   ]
  },
  {
   "cell_type": "code",
   "execution_count": 48,
   "id": "8a368656-2740-4005-b93d-10242040f1df",
   "metadata": {},
   "outputs": [
    {
     "data": {
      "text/plain": [
       "array([  3549.,   8736.,  15509., ..., 122921., 104146.,  32226.])"
      ]
     },
     "execution_count": 48,
     "metadata": {},
     "output_type": "execute_result"
    }
   ],
   "source": [
    "np.correlate(cdnp2[:,0],cdnp2[:,1],mode='full')"
   ]
  },
  {
   "cell_type": "code",
   "execution_count": 49,
   "id": "4c893920-bcb0-4627-bbac-3a298b563640",
   "metadata": {},
   "outputs": [],
   "source": [
    "import matplotlib.pyplot as plt"
   ]
  },
  {
   "cell_type": "code",
   "execution_count": 50,
   "id": "1d226f7a-c842-47a4-90c5-7f17bdfcb05e",
   "metadata": {},
   "outputs": [
    {
     "data": {
      "text/plain": [
       "[<matplotlib.lines.Line2D at 0x7febbd938fa0>]"
      ]
     },
     "execution_count": 50,
     "metadata": {},
     "output_type": "execute_result"
    },
    {
     "data": {
      "image/png": "[encoded data removed]",
      "text/plain": [
       "<Figure size 432x288 with 1 Axes>"
      ]
     },
     "metadata": {
      "needs_background": "light"
     },
     "output_type": "display_data"
    }
   ],
   "source": [
    "plt.plot(np.correlate(cdnp2[:,0],cdnp2[:,1],mode='full'))"
   ]
  },
  {
   "cell_type": "code",
   "execution_count": 51,
   "id": "08b2befe-d1bf-44f0-aeb2-3cd46245a10b",
   "metadata": {},
   "outputs": [
    {
     "data": {
      "text/plain": [
       "[<matplotlib.lines.Line2D at 0x7febbe3def10>]"
      ]
     },
     "execution_count": 51,
     "metadata": {},
     "output_type": "execute_result"
    },
    {
     "data": {
      "image/png": "[encoded data removed]",
      "text/plain": [
       "<Figure size 432x288 with 1 Axes>"
      ]
     },
     "metadata": {
      "needs_background": "light"
     },
     "output_type": "display_data"
    }
   ],
   "source": [
    "plt.plot(cdnp2[:,0],'green') # cases\n",
    "plt.plot(cdnp2[:,1]*10,'orange') # deaths\n",
    "#plt.plot('xlabel', data=cdnp2)"
   ]
  },
  {
   "cell_type": "code",
   "execution_count": 52,
   "id": "7d9dfde3-1b27-4cfc-ba68-b9ad9cfd3cac",
   "metadata": {},
   "outputs": [
    {
     "data": {
      "text/plain": [
       "[<matplotlib.lines.Line2D at 0x7febbe2e30a0>]"
      ]
     },
     "execution_count": 52,
     "metadata": {},
     "output_type": "execute_result"
    },
    {
     "data": {
      "image/png": "[encoded data removed]",
      "text/plain": [
       "<Figure size 432x288 with 1 Axes>"
      ]
     },
     "metadata": {
      "needs_background": "light"
     },
     "output_type": "display_data"
    }
   ],
   "source": [
    "l = 40\n",
    "xcorrcoefs = [0]*l\n",
    "xcorrcoefs[0] = np.corrcoef(cdnp2,rowvar=False)[0,1]\n",
    "#print(len(xcorrcoefs))\n",
    "for i in range(1,l):\n",
    "    x0 = cdnp2[:-i,0] # cases\n",
    "#    print(x0.shape)\n",
    "    x1 = cdnp2[i:,1] # deaths\n",
    "#    print(x1.shape)\n",
    "    x  =  np.array([x0,x1])\n",
    "#    print(x.shape)\n",
    "    xcorrcoefs[i] = np.corrcoef(x)[0,1]\n",
    "#    print(xcorrcoefs[i])\n",
    "#print(xcorrcoefs)\n",
    "plt.plot(xcorrcoefs)"
   ]
  },
  {
   "cell_type": "code",
   "execution_count": 53,
   "id": "251c0b9e-0bb8-4889-94e9-b516705cd8f2",
   "metadata": {},
   "outputs": [
    {
     "data": {
      "text/plain": [
       "[<matplotlib.lines.Line2D at 0x7febbe0d5ac0>]"
      ]
     },
     "execution_count": 53,
     "metadata": {},
     "output_type": "execute_result"
    },
    {
     "data": {
      "image/png": "[encoded data removed]",
      "text/plain": [
       "<Figure size 432x288 with 1 Axes>"
      ]
     },
     "metadata": {
      "needs_background": "light"
     },
     "output_type": "display_data"
    }
   ],
   "source": [
    "from scipy import signal\n",
    "numtaps = 41\n",
    "f = 1/10\n",
    "flt = signal.firwin(numtaps, f, pass_zero=False)\n",
    "plt.plot(flt)"
   ]
  },
  {
   "cell_type": "code",
   "execution_count": 54,
   "id": "d1a05e47-3000-4ffa-9749-a219d0354505",
   "metadata": {},
   "outputs": [
    {
     "data": {
      "text/plain": [
       "array([[1., 1., 1., 1., 1.],\n",
       "       [0., 0., 0., 0., 0.],\n",
       "       [1., 1., 1., 1., 1.],\n",
       "       [0., 0., 0., 0., 0.],\n",
       "       [1., 1., 1., 1., 1.]])"
      ]
     },
     "execution_count": 54,
     "metadata": {},
     "output_type": "execute_result"
    }
   ],
   "source": [
    "l = 5\n",
    "data = np.ones([l,l])\n",
    "#print(data)\n",
    "#print(*range(1,5,2))\n",
    "for i in range(1,l,2):\n",
    "    data[i,:] = 0 \n",
    "data"
   ]
  },
  {
   "cell_type": "code",
   "execution_count": 55,
   "id": "fc932e12-aa29-4996-8932-83eabdfe3f03",
   "metadata": {},
   "outputs": [
    {
     "data": {
      "text/plain": [
       "array([[0.5, 0.5, 0.5, 0.5, 0.5],\n",
       "       [0.5, 0.5, 0.5, 0.5, 0.5],\n",
       "       [0.5, 0.5, 0.5, 0.5, 0.5],\n",
       "       [0.5, 0.5, 0.5, 0.5, 0.5],\n",
       "       [0.5, 0.5, 0.5, 0.5, 0.5]])"
      ]
     },
     "execution_count": 55,
     "metadata": {},
     "output_type": "execute_result"
    }
   ],
   "source": [
    "flta = [.5,.5]; fltb = [1]\n",
    "signal.lfilter(flta,[1,0],data,axis=0)"
   ]
  },
  {
   "cell_type": "code",
   "execution_count": 56,
   "id": "00d294fc-59d4-4ef4-86bb-4c17bee037e4",
   "metadata": {},
   "outputs": [
    {
     "data": {
      "image/png": "[encoded data removed]",
      "text/plain": [
       "<Figure size 432x288 with 1 Axes>"
      ]
     },
     "metadata": {
      "needs_background": "light"
     },
     "output_type": "display_data"
    }
   ],
   "source": [
    "import math\n",
    "numtaps = 81\n",
    "f = 1/40\n",
    "flt = signal.firwin(numtaps, f, pass_zero=False, fs=1)\n",
    "w,h = signal.freqz(flt,[1])\n",
    "w = w/math.pi\n",
    "fig, ax1 = plt.subplots()\n",
    "#plt.plot(flt)\n",
    "ax1.set_title('Digital filter frequency response')\n",
    "plt.plot(w,20 * np.log10(abs(h)),'b')\n",
    "ax1.set_ylabel('Amplitude [dB]', color='b')\n",
    "ax1.set_xlabel('Frequency [rad/sample]')\n",
    "pass"
   ]
  },
  {
   "cell_type": "code",
   "execution_count": 61,
   "id": "41ef29a0-2ff7-4157-bfa4-f8b8f081ce2e",
   "metadata": {},
   "outputs": [
    {
     "data": {
      "text/plain": [
       "[<matplotlib.lines.Line2D at 0x7febbe205e20>]"
      ]
     },
     "execution_count": 61,
     "metadata": {},
     "output_type": "execute_result"
    },
    {
     "data": {
      "image/png": "[encoded data removed]",
      "text/plain": [
       "<Figure size 432x288 with 1 Axes>"
      ]
     },
     "metadata": {
      "needs_background": "light"
     },
     "output_type": "display_data"
    }
   ],
   "source": [
    "cdnp2a = signal.filtfilt([1/7,1/7,1/7,1/7,1/7,1/7,1/7],[1], cdnp2, axis=0)\n",
    "cdnp3 = signal.filtfilt(flt,[1], cdnp2a, axis=0)\n",
    "plt.plot(cdnp2[:,0],'b')\n",
    "plt.plot(cdnp2[:,1]*10,'teal')\n",
    "\n",
    "plt.plot(cdnp2a[:,0],'g')\n",
    "plt.plot(cdnp2a[:,1]*10,'yellow')\n",
    "\n",
    "plt.plot(cdnp3[:,0],'r')\n",
    "plt.plot(cdnp3[:,1]*10,'orange')"
   ]
  },
  {
   "cell_type": "code",
   "execution_count": 31,
   "id": "bd85a5fc-ff2b-46f8-b7c5-30cd04ee75e8",
   "metadata": {},
   "outputs": [
    {
     "data": {
      "text/plain": [
       "[<matplotlib.lines.Line2D at 0x7febbc94cb50>]"
      ]
     },
     "execution_count": 31,
     "metadata": {},
     "output_type": "execute_result"
    },
    {
     "data": {
      "image/png": "[encoded data removed]",
      "text/plain": [
       "<Figure size 432x288 with 1 Axes>"
      ]
     },
     "metadata": {
      "needs_background": "light"
     },
     "output_type": "display_data"
    }
   ],
   "source": [
    "l = 80\n",
    "xcorrcoefs = [0]*l\n",
    "xcorrcoefs[0] = np.corrcoef(cdnp3,rowvar=False)[0,1]\n",
    "#print(len(xcorrcoefs))\n",
    "for i in range(1,l):\n",
    "    x0 = cdnp3[80:-i,0] # cases\n",
    "#    print(x0.shape)\n",
    "    x1 = cdnp3[80+i:,1] # deaths\n",
    "#    print(x1.shape)\n",
    "    x  =  np.array([x0,x1])\n",
    "#    print(x.shape)\n",
    "    xcorrcoefs[i] = np.corrcoef(x)[0,1]\n",
    "#    print(xcorrcoefs[i])\n",
    "#print(xcorrcoefs)\n",
    "plt.plot(xcorrcoefs)"
   ]
  },
  {
   "cell_type": "code",
   "execution_count": 32,
   "id": "1f433031-fbd3-4d1d-be39-5eb0636ab91c",
   "metadata": {},
   "outputs": [],
   "source": [
    "import sqlite3\n",
    "con = sqlite3.connect('EDUCBA.db')"
   ]
  },
  {
   "cell_type": "code",
   "execution_count": 321,
   "id": "242e84bc-e989-4be3-92fe-5cea52f64b05",
   "metadata": {},
   "outputs": [
    {
     "data": {
      "text/plain": [
       "[]"
      ]
     },
     "execution_count": 321,
     "metadata": {},
     "output_type": "execute_result"
    }
   ],
   "source": [
    "## Creating cursor object and namimg it as cur\n",
    "cur = con.cursor()\n",
    "cur.execute(\"SELECT name FROM sqlite_schema WHERE type ='table' AND name NOT LIKE 'sqlite_%'\").fetchall()"
   ]
  },
  {
   "cell_type": "code",
   "execution_count": 322,
   "id": "0dfd6df9-6326-4d8a-9573-63829b75b6a6",
   "metadata": {},
   "outputs": [
    {
     "data": {
      "text/plain": [
       "<sqlite3.Cursor at 0x7fa175e03ab0>"
      ]
     },
     "execution_count": 322,
     "metadata": {},
     "output_type": "execute_result"
    }
   ],
   "source": [
    "cur.execute(\"CREATE TEMPORARY TABLE temp_table1( name TEXT );\")"
   ]
  },
  {
   "cell_type": "code",
   "execution_count": 323,
   "id": "f0f95efd-7d93-44b8-99d2-1c7e0b71c0ec",
   "metadata": {},
   "outputs": [
    {
     "data": {
      "text/plain": [
       "<sqlite3.Cursor at 0x7fa175e03ab0>"
      ]
     },
     "execution_count": 323,
     "metadata": {},
     "output_type": "execute_result"
    }
   ],
   "source": [
    "cur.execute(\"INSERT INTO temp_table1 VALUES ('A')\")"
   ]
  },
  {
   "cell_type": "code",
   "execution_count": 325,
   "id": "89109569-9339-4345-b6f3-31ad4540ba0e",
   "metadata": {},
   "outputs": [
    {
     "data": {
      "text/plain": [
       "[('A',)]"
      ]
     },
     "execution_count": 325,
     "metadata": {},
     "output_type": "execute_result"
    }
   ],
   "source": [
    "cur.execute(\"Select * from temp_table1\").fetchall()"
   ]
  },
  {
   "cell_type": "code",
   "execution_count": null,
   "id": "91db5d6b-2a80-4ae5-a6e7-0fcb97459eaf",
   "metadata": {},
   "outputs": [],
   "source": []
  }
 ],
 "metadata": {
  "kernelspec": {
   "display_name": "Python 3 (ipykernel)",
   "language": "python",
   "name": "python3"
  },
  "language_info": {
   "codemirror_mode": {
    "name": "ipython",
    "version": 3
   },
   "file_extension": ".py",
   "mimetype": "text/x-python",
   "name": "python",
   "nbconvert_exporter": "python",
   "pygments_lexer": "ipython3",
   "version": "3.8.8"
  }
 },
 "nbformat": 4,
 "nbformat_minor": 5
}
