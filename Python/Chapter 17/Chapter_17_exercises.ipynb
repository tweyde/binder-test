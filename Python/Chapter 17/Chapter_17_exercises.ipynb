{
 "cells": [
  {
   "cell_type": "markdown",
   "metadata": {},
   "source": [
    "# Chapter 17: Model Selection and Cross Validation\n",
    "## Exercises solutions"
   ]
  },
  {
   "cell_type": "markdown",
   "metadata": {},
   "source": [
    "The dataset used in this chapter is the *Iris dataset* and can be imported with the Sklearn laod_iris() function."
   ]
  },
  {
   "cell_type": "code",
   "execution_count": 90,
   "metadata": {},
   "outputs": [],
   "source": [
    "# import all the modules\n",
    "import sklearn\n",
    "from sklearn.datasets import load_iris\n",
    "import numpy as np\n",
    "import matplotlib.pyplot as plt\n",
    "import time"
   ]
  },
  {
   "cell_type": "markdown",
   "metadata": {},
   "source": [
    "Load the dataset and show its attributes:"
   ]
  },
  {
   "cell_type": "code",
   "execution_count": 91,
   "metadata": {},
   "outputs": [
    {
     "name": "stdout",
     "output_type": "stream",
     "text": [
      "Dataset type: \n",
      "<class 'sklearn.utils.Bunch'>\n",
      "\n",
      "Dataset attributes: \n",
      "dict_keys(['data', 'target', 'frame', 'target_names', 'DESCR', 'feature_names', 'filename', 'data_module'])\n",
      "\n",
      "Feaures names: \n",
      "['sepal length (cm)', 'sepal width (cm)', 'petal length (cm)', 'petal width (cm)']\n",
      "\n",
      "Target names: \n",
      "['setosa' 'versicolor' 'virginica']\n",
      "\n",
      "Number of samples: \n",
      "150\n",
      "\n"
     ]
    }
   ],
   "source": [
    "# load the dataset\n",
    "iris = load_iris() \n",
    "# we can see that this dataset is a class \n",
    "print(f'Dataset type: \\n{type(iris)}\\n')\n",
    "# and it has some functions and attributes that describe it\n",
    "print(f'Dataset attributes: \\n{iris.keys()}\\n')\n",
    "# these are our features (X)\n",
    "print(f'Feaures names: \\n{iris.feature_names}\\n')\n",
    "# these are the targets/labels (y)\n",
    "print(f'Target names: \\n{iris.target_names}\\n')\n",
    "# number of samples\n",
    "print(f'Number of samples: \\n{len(iris.data)}\\n')"
   ]
  },
  {
   "cell_type": "markdown",
   "metadata": {},
   "source": [
    "## Exercise 1\n",
    "Implement the model selection and HP tuning as above for the iris dataset."
   ]
  },
  {
   "cell_type": "markdown",
   "metadata": {},
   "source": [
    "Our question now is, whether to use KNN or a Decision Tree (DT) classifier. We start by training both models on our training set and calculate the performance on the test set. <br>\n",
    "### Data Preparation\n",
    "We start off by splitting our data in train and test sets:"
   ]
  },
  {
   "cell_type": "code",
   "execution_count": 92,
   "metadata": {},
   "outputs": [
    {
     "name": "stdout",
     "output_type": "stream",
     "text": [
      "Number of features in the training set: 105\n",
      "Number of targets in the training set: 105\n",
      "Number of features in the test set: 45\n",
      "Number of targtes in the test set: 45\n"
     ]
    }
   ],
   "source": [
    "# import the function to split the data in train and test set\n",
    "from sklearn.model_selection import train_test_split\n",
    "\n",
    "# set the seed to promote the reproducibility of the results (it controls the randomness in the splits in this case)\n",
    "seed = 0\n",
    "\n",
    "# assign features and targets to X and y\n",
    "X = iris.data\n",
    "y = iris.target\n",
    "\n",
    "# split features and targets in train and test sets (). Note how we can easily stratify the sets. \n",
    "X_train, X_test, y_train, y_test = train_test_split(X, y, test_size = .3, random_state = seed, stratify = y)\n",
    "\n",
    "print(f'Number of features in the training set: {len(X_train)}')\n",
    "print(f'Number of targets in the training set: {len(y_train)}')\n",
    "print(f'Number of features in the test set: {len(X_test)}')\n",
    "print(f'Number of targtes in the test set: {len(y_test)}')"
   ]
  },
  {
   "cell_type": "markdown",
   "metadata": {},
   "source": [
    "### Model Tuning"
   ]
  },
  {
   "cell_type": "markdown",
   "metadata": {},
   "source": [
    "We train both classifiers and check their accuracy on training and test sets:"
   ]
  },
  {
   "cell_type": "code",
   "execution_count": 93,
   "metadata": {},
   "outputs": [
    {
     "name": "stdout",
     "output_type": "stream",
     "text": [
      " DT:  {'train': 1.0, 'test': 0.9777777777777777}\n",
      "KNN:  {'train': 0.9619047619047619, 'test': 1.0}\n"
     ]
    }
   ],
   "source": [
    "from sklearn.neighbors import KNeighborsClassifier\n",
    "from sklearn.tree import DecisionTreeClassifier\n",
    "import numpy as np\n",
    "\n",
    "# train both classifiers\n",
    "dtc = DecisionTreeClassifier(max_depth=5,random_state=0)\n",
    "dtc.fit(X_train,y_train)\n",
    "\n",
    "#knn = KNeighborsClassifier(n_neighbors=1)\n",
    "knn = KNeighborsClassifier()\n",
    "knn.fit(X_train,y_train)\n",
    "\n",
    "# helper functions to calculate the accuracy values on train and test set. \n",
    "def accuracy(X,y,predictor):\n",
    "    return np.sum(np.equal(predictor.predict(X),y))/len(X)\n",
    "\n",
    "def trainValTestAcc(predictor):\n",
    "    vals = {}\n",
    "    vals['train'] = accuracy(X_train,y_train,predictor)\n",
    "    vals['test'] = accuracy(X_test,y_test,predictor)\n",
    "    return vals\n",
    "\n",
    "print(\" DT: \",trainValTestAcc(dtc))\n",
    "print(\"KNN: \",trainValTestAcc(knn))"
   ]
  },
  {
   "cell_type": "markdown",
   "metadata": {},
   "source": [
    "*Sklearn* offers some convenient functions to measure the models' metrics. Above we illustrated how to build our own helper function (sometimes we will need that!), below an alternative ready-to-go:"
   ]
  },
  {
   "cell_type": "code",
   "execution_count": 94,
   "metadata": {},
   "outputs": [
    {
     "name": "stdout",
     "output_type": "stream",
     "text": [
      " DT train: 1.0,  DT test: 0.9777777777777777\n",
      "KNN train: 0.9619047619047619, KNN test: 1.0\n"
     ]
    }
   ],
   "source": [
    "# import the function to measure the models'accuracy \n",
    "from sklearn.metrics import accuracy_score\n",
    "\n",
    "# calculate the accuracy of both models on train and test sets.\n",
    "dt_train = accuracy_score(y_train, dtc.predict(X_train))\n",
    "dt_test = accuracy_score(y_test, dtc.predict(X_test))\n",
    "knn_train = accuracy_score(y_train, knn.predict(X_train))\n",
    "knn_test = accuracy_score(y_test, knn.predict(X_test))\n",
    "\n",
    "# print the results (matching the previous ones as expected)\n",
    "print(f\" DT train: {dt_train},  DT test: {dt_test}\")\n",
    "print(f\"KNN train: {knn_train}, KNN test: {knn_test}\")\n"
   ]
  },
  {
   "cell_type": "markdown",
   "metadata": {},
   "source": [
    "Both models do extremely well on train and test set, with the KNN performing better on the unseen data. <br>"
   ]
  },
  {
   "cell_type": "markdown",
   "metadata": {},
   "source": [
    "- vary the n_neighbors parameter for KNN:"
   ]
  },
  {
   "cell_type": "code",
   "execution_count": 95,
   "metadata": {},
   "outputs": [
    {
     "name": "stdout",
     "output_type": "stream",
     "text": [
      "KNN_1: {'train': 1.0, 'test': 0.9777777777777777}\n",
      "KNN_2: {'train': 0.9619047619047619, 'test': 0.9333333333333333}\n",
      "KNN_3: {'train': 0.9428571428571428, 'test': 1.0}\n",
      "KNN_4: {'train': 0.9619047619047619, 'test': 1.0}\n",
      "KNN_5: {'train': 0.9619047619047619, 'test': 1.0}\n",
      "KNN_6: {'train': 0.9523809523809523, 'test': 1.0}\n",
      "KNN_7: {'train': 0.9523809523809523, 'test': 1.0}\n",
      "KNN_8: {'train': 0.9523809523809523, 'test': 1.0}\n",
      "KNN_9: {'train': 0.9714285714285714, 'test': 1.0}\n"
     ]
    }
   ],
   "source": [
    "#knn = KNeighborsClassifier\n",
    "neighbors = np.arange(1, 10)\n",
    "for n in neighbors:\n",
    "    knn = KNeighborsClassifier(n_neighbors = n)\n",
    "    knn.fit(X_train,y_train)\n",
    "    print(f\"KNN_{n}: {trainValTestAcc(knn)}\")"
   ]
  },
  {
   "cell_type": "markdown",
   "metadata": {},
   "source": [
    "- plot the validation curve:"
   ]
  },
  {
   "cell_type": "code",
   "execution_count": 96,
   "metadata": {},
   "outputs": [
    {
     "data": {
      "image/png": "[encoded data removed]",
      "text/plain": [
       "<Figure size 640x480 with 1 Axes>"
      ]
     },
     "metadata": {},
     "output_type": "display_data"
    }
   ],
   "source": [
    "# these two lists will store our results \n",
    "train_scores = []; val_scores = []\n",
    "\n",
    "# test the KNN at different number of neighbors and append the results to the above lists\n",
    "for n in neighbors:\n",
    "    knn = KNeighborsClassifier(n_neighbors = n)\n",
    "    knn.fit(X_train,y_train)\n",
    "    train_scores.append(accuracy_score(y_train, knn.predict(X_train)))\n",
    "    val_scores.append(accuracy_score(y_test, knn.predict(X_test)))\n",
    "\n",
    "# plot the training and validation curves \n",
    "plt.title(\"Validation Curve with KNN\")\n",
    "plt.xlabel(\"Number of neighbors\")\n",
    "plt.ylabel(\"Accuracy\")\n",
    "plt.ylim(0.8, 1.1)\n",
    "plt.plot(neighbors, train_scores, label=\"Training accuracy\")\n",
    "plt.plot(neighbors, val_scores, label=\"Validation accuracy\")\n",
    "plt.legend(loc=\"best\")\n",
    "plt.show()"
   ]
  },
  {
   "cell_type": "markdown",
   "metadata": {},
   "source": [
    "## Exercises 2 \n",
    "Implement nested cross-validation for tuning the max_depth of the decision tree on wine dataset. "
   ]
  },
  {
   "cell_type": "markdown",
   "metadata": {},
   "source": [
    "We start-off by importing the wine dataset:"
   ]
  },
  {
   "cell_type": "code",
   "execution_count": 97,
   "metadata": {},
   "outputs": [
    {
     "name": "stdout",
     "output_type": "stream",
     "text": [
      "Dataset type: \n",
      "<class 'sklearn.utils.Bunch'>\n",
      "\n",
      "Dataset attributes: \n",
      "dict_keys(['data', 'target', 'frame', 'target_names', 'DESCR', 'feature_names'])\n",
      "\n",
      "Feaures names: \n",
      "['alcohol', 'malic_acid', 'ash', 'alcalinity_of_ash', 'magnesium', 'total_phenols', 'flavanoids', 'nonflavanoid_phenols', 'proanthocyanins', 'color_intensity', 'hue', 'od280/od315_of_diluted_wines', 'proline']\n",
      "\n",
      "Target names: \n",
      "['class_0' 'class_1' 'class_2']\n",
      "\n",
      "Number of samples: \n",
      "178\n",
      "\n"
     ]
    }
   ],
   "source": [
    "from sklearn.datasets import load_wine\n",
    "dataset = load_wine()\n",
    "\n",
    "# we can see that this dataset is a class \n",
    "print(f'Dataset type: \\n{type(dataset)}\\n')\n",
    "# and it has some functions and attributes that describe it\n",
    "print(f'Dataset attributes: \\n{dataset.keys()}\\n')\n",
    "# these are our features (X)\n",
    "print(f'Feaures names: \\n{dataset.feature_names}\\n')\n",
    "# these are the targets/labels (y)\n",
    "print(f'Target names: \\n{dataset.target_names}\\n')\n",
    "# number of samples\n",
    "print(f'Number of samples: \\n{len(dataset.data)}\\n')"
   ]
  },
  {
   "cell_type": "markdown",
   "metadata": {},
   "source": [
    "### Data Preparation"
   ]
  },
  {
   "cell_type": "markdown",
   "metadata": {},
   "source": [
    "We store the features and targets in two variables and create the training, validation and test sets:"
   ]
  },
  {
   "cell_type": "code",
   "execution_count": 98,
   "metadata": {},
   "outputs": [
    {
     "name": "stdout",
     "output_type": "stream",
     "text": [
      "Number of features in the training set: 124\n",
      "Number of targets in the training set: 124\n",
      "Number of features in the test set: 54\n",
      "Number of targtes in the test set: 54\n"
     ]
    }
   ],
   "source": [
    "# store features and targets \n",
    "X = dataset.data\n",
    "y = dataset.target\n",
    "\n",
    "# create the training and test sets \n",
    "seed = 0\n",
    "X_train, X_test, y_train, y_test = train_test_split(X, y, test_size=.3,random_state=seed)\n",
    "\n",
    "print(f'Number of features in the training set: {len(X_train)}')\n",
    "print(f'Number of targets in the training set: {len(y_train)}')\n",
    "print(f'Number of features in the test set: {len(X_test)}')\n",
    "print(f'Number of targtes in the test set: {len(y_test)}')"
   ]
  },
  {
   "cell_type": "markdown",
   "metadata": {},
   "source": [
    "### Model Tuning"
   ]
  },
  {
   "cell_type": "code",
   "execution_count": 99,
   "metadata": {},
   "outputs": [
    {
     "name": "stdout",
     "output_type": "stream",
     "text": [
      "Nested scores at maximum depth = 1: \n",
      "[0.52777778 0.66666667 0.69444444 0.6        0.74285714]\n",
      "Nested scores at maximum depth = 2: \n",
      "[0.80555556 0.80555556 0.77777778 0.74285714 0.97142857]\n",
      "Nested scores at maximum depth = 3: \n",
      "[0.94444444 0.83333333 0.91666667 0.8        0.97142857]\n",
      "Nested scores at maximum depth = 4: \n",
      "[0.94444444 0.86111111 0.88888889 0.91428571 0.97142857]\n",
      "Nested scores at maximum depth = 5: \n",
      "[0.94444444 0.83333333 0.88888889 0.91428571 0.85714286]\n",
      "Nested scores at maximum depth = 6: \n",
      "[0.94444444 0.83333333 0.88888889 0.91428571 0.85714286]\n",
      "Nested scores at maximum depth = 7: \n",
      "[0.94444444 0.83333333 0.88888889 0.91428571 0.85714286]\n",
      "Nested scores at maximum depth = 8: \n",
      "[0.94444444 0.83333333 0.88888889 0.91428571 0.85714286]\n",
      "Nested scores at maximum depth = 9: \n",
      "[0.94444444 0.83333333 0.88888889 0.91428571 0.85714286]\n"
     ]
    }
   ],
   "source": [
    "# import the module to run nested cross validation\n",
    "from sklearn.model_selection import GridSearchCV, cross_val_score, KFold\n",
    "\n",
    "# we store all the scores here (useful for the next exercise)\n",
    "nested_scores = [] \n",
    "# we store all the mean score here \n",
    "nested_scores_mean = [] \n",
    "\n",
    "# set the range of values for our hyperparameter\n",
    "md = np.arange(1, 10)\n",
    "\n",
    "# test the KNN at different number of neighbors and append the results to the above lists\n",
    "for d in md:\n",
    "    dtc = DecisionTreeClassifier(max_depth = d, random_state = 0)\n",
    "    nested_score = cross_val_score(dtc, dataset.data, dataset.target, cv = 5)\n",
    "    print(f'Nested scores at maximum depth = {d}: \\n{nested_score}')\n",
    "    nested_scores.append(nested_score)\n",
    "    nested_scores_mean.append(nested_score.mean())"
   ]
  },
  {
   "cell_type": "markdown",
   "metadata": {},
   "source": [
    "Above we note that, since we indicated a 5 fold split (cv = 5) we are now generating 5 scores (one on each fold) for each parameter we are testing; we are essentially scoring our model on 5 subsets of the original dataset. "
   ]
  },
  {
   "cell_type": "markdown",
   "metadata": {},
   "source": [
    "Below we plot the results, taking the mean of the five scores at each maximum depth:"
   ]
  },
  {
   "cell_type": "code",
   "execution_count": 100,
   "metadata": {},
   "outputs": [
    {
     "data": {
      "image/png": "[encoded data removed]",
      "text/plain": [
       "<Figure size 640x480 with 1 Axes>"
      ]
     },
     "metadata": {},
     "output_type": "display_data"
    }
   ],
   "source": [
    "# plot the training and validation curves \n",
    "plt.title(\"Validation Curve with DT and cross-validation\")\n",
    "plt.xlabel(\"Maximum depth\")\n",
    "plt.ylabel(\"Accuracy\")\n",
    "plt.ylim(0.5, 1)\n",
    "plt.plot(md, nested_scores_mean,label=\"Cross-validation accuracy\")\n",
    "plt.legend(loc=\"best\");"
   ]
  },
  {
   "cell_type": "markdown",
   "metadata": {},
   "source": [
    "From the above results it would seem that 4 is the optimal *maximum depth* for our classification tree, on this data."
   ]
  },
  {
   "cell_type": "markdown",
   "metadata": {},
   "source": [
    "## Exercise 3\n",
    "Implement a validation curve plot that shows the accuracies plus and minus the standard deviation. "
   ]
  },
  {
   "cell_type": "code",
   "execution_count": 101,
   "metadata": {},
   "outputs": [
    {
     "data": {
      "image/png": "[encoded data removed]",
      "text/plain": [
       "<Figure size 640x480 with 1 Axes>"
      ]
     },
     "metadata": {},
     "output_type": "display_data"
    }
   ],
   "source": [
    "# store the standard deviations in a variable \n",
    "sd = np.std(nested_scores, axis = 1)\n",
    "\n",
    "# plot the validation curve with the standard deviations (red)\n",
    "plt.errorbar(md, nested_scores_mean, yerr= sd, ecolor= 'red')\n",
    "plt.title(\"Validation Curve with standard deviation bars\")\n",
    "plt.xlabel(\"Maximum depth\")\n",
    "plt.ylabel(\"Accuracy\")\n",
    "plt.ylim(0.5, 1);"
   ]
  },
  {
   "cell_type": "markdown",
   "metadata": {},
   "source": [
    "# Exercise 4\n",
    "Tune a KNN model on the Abalone dataset with the hyperparameters k (number of neighbors), and p (metric exponent). Evaluate the results in a 2-dimensional grid search with cross-validation. Make sure to avoid overfitting and estimate model performance. "
   ]
  },
  {
   "cell_type": "markdown",
   "metadata": {},
   "source": [
    "Here it is the link to the Abalone dataset: https://archive.ics.uci.edu/ml/datasets/Abalone <br>\n",
    "### Dataset Information\n",
    "Predicting the age of abalone from physical measurements. The age of abalone is determined by cutting the shell through the cone, staining it, and counting the number of rings through a microscope -- a boring and time-consuming task. Other measurements, which are easier to obtain, are used to predict the age. Further information, such as weather patterns and location (hence food availability) may be required to solve the problem.\n",
    "From the original data examples with missing values were removed (the majority having the predicted value missing), and the ranges of the continuous values have been scaled for use with an ANN (by dividing by 200).\n"
   ]
  },
  {
   "cell_type": "markdown",
   "metadata": {},
   "source": [
    "The aim of this exercise is to *predict the age of abalone from physical measurements*. The age of abalone is determined by cutting the shell through the cone, staining it, and counting the number of rings through a microscope, a boring and time-consuming task. Thankfully Machine Learning can help us with this! "
   ]
  },
  {
   "cell_type": "code",
   "execution_count": 102,
   "metadata": {},
   "outputs": [
    {
     "name": "stdout",
     "output_type": "stream",
     "text": [
      "<class 'pandas.core.frame.DataFrame'>\n",
      "RangeIndex: 4177 entries, 0 to 4176\n",
      "Data columns (total 9 columns):\n",
      " #   Column          Non-Null Count  Dtype  \n",
      "---  ------          --------------  -----  \n",
      " 0   sex             4177 non-null   object \n",
      " 1   length          4177 non-null   float64\n",
      " 2   diameter        4177 non-null   float64\n",
      " 3   height          4177 non-null   float64\n",
      " 4   whole weight    4177 non-null   float64\n",
      " 5   shucked weight  4177 non-null   float64\n",
      " 6   viscera weight  4177 non-null   float64\n",
      " 7   shell weight    4177 non-null   float64\n",
      " 8   rings           4177 non-null   int64  \n",
      "dtypes: float64(7), int64(1), object(1)\n",
      "memory usage: 293.8+ KB\n",
      "None\n"
     ]
    },
    {
     "data": {
      "text/html": [
       "<div>\n",
       "<style scoped>\n",
       "    .dataframe tbody tr th:only-of-type {\n",
       "        vertical-align: middle;\n",
       "    }\n",
       "\n",
       "    .dataframe tbody tr th {\n",
       "        vertical-align: top;\n",
       "    }\n",
       "\n",
       "    .dataframe thead th {\n",
       "        text-align: right;\n",
       "    }\n",
       "</style>\n",
       "<table border=\"1\" class=\"dataframe\">\n",
       "  <thead>\n",
       "    <tr style=\"text-align: right;\">\n",
       "      <th></th>\n",
       "      <th>sex</th>\n",
       "      <th>length</th>\n",
       "      <th>diameter</th>\n",
       "      <th>height</th>\n",
       "      <th>whole weight</th>\n",
       "      <th>shucked weight</th>\n",
       "      <th>viscera weight</th>\n",
       "      <th>shell weight</th>\n",
       "      <th>rings</th>\n",
       "    </tr>\n",
       "  </thead>\n",
       "  <tbody>\n",
       "    <tr>\n",
       "      <th>0</th>\n",
       "      <td>M</td>\n",
       "      <td>0.455</td>\n",
       "      <td>0.365</td>\n",
       "      <td>0.095</td>\n",
       "      <td>0.5140</td>\n",
       "      <td>0.2245</td>\n",
       "      <td>0.1010</td>\n",
       "      <td>0.150</td>\n",
       "      <td>15</td>\n",
       "    </tr>\n",
       "    <tr>\n",
       "      <th>1</th>\n",
       "      <td>M</td>\n",
       "      <td>0.350</td>\n",
       "      <td>0.265</td>\n",
       "      <td>0.090</td>\n",
       "      <td>0.2255</td>\n",
       "      <td>0.0995</td>\n",
       "      <td>0.0485</td>\n",
       "      <td>0.070</td>\n",
       "      <td>7</td>\n",
       "    </tr>\n",
       "    <tr>\n",
       "      <th>2</th>\n",
       "      <td>F</td>\n",
       "      <td>0.530</td>\n",
       "      <td>0.420</td>\n",
       "      <td>0.135</td>\n",
       "      <td>0.6770</td>\n",
       "      <td>0.2565</td>\n",
       "      <td>0.1415</td>\n",
       "      <td>0.210</td>\n",
       "      <td>9</td>\n",
       "    </tr>\n",
       "    <tr>\n",
       "      <th>3</th>\n",
       "      <td>M</td>\n",
       "      <td>0.440</td>\n",
       "      <td>0.365</td>\n",
       "      <td>0.125</td>\n",
       "      <td>0.5160</td>\n",
       "      <td>0.2155</td>\n",
       "      <td>0.1140</td>\n",
       "      <td>0.155</td>\n",
       "      <td>10</td>\n",
       "    </tr>\n",
       "    <tr>\n",
       "      <th>4</th>\n",
       "      <td>I</td>\n",
       "      <td>0.330</td>\n",
       "      <td>0.255</td>\n",
       "      <td>0.080</td>\n",
       "      <td>0.2050</td>\n",
       "      <td>0.0895</td>\n",
       "      <td>0.0395</td>\n",
       "      <td>0.055</td>\n",
       "      <td>7</td>\n",
       "    </tr>\n",
       "  </tbody>\n",
       "</table>\n",
       "</div>"
      ],
      "text/plain": [
       "  sex  length  diameter  height  whole weight  shucked weight  viscera weight  \\\n",
       "0   M   0.455     0.365   0.095        0.5140          0.2245          0.1010   \n",
       "1   M   0.350     0.265   0.090        0.2255          0.0995          0.0485   \n",
       "2   F   0.530     0.420   0.135        0.6770          0.2565          0.1415   \n",
       "3   M   0.440     0.365   0.125        0.5160          0.2155          0.1140   \n",
       "4   I   0.330     0.255   0.080        0.2050          0.0895          0.0395   \n",
       "\n",
       "   shell weight  rings  \n",
       "0         0.150     15  \n",
       "1         0.070      7  \n",
       "2         0.210      9  \n",
       "3         0.155     10  \n",
       "4         0.055      7  "
      ]
     },
     "execution_count": 102,
     "metadata": {},
     "output_type": "execute_result"
    }
   ],
   "source": [
    "import pandas as pd\n",
    "\n",
    "# columns names as per documentation\n",
    "columns = [\"sex\", \"length\", \"diameter\", \"height\", \"whole weight\", \n",
    "           \"shucked weight\", \"viscera weight\", \"shell weight\", \"rings\"]\n",
    "\n",
    "# read the dataframe from the repository\n",
    "df = pd.read_csv('https://archive.ics.uci.edu/ml/machine-learning-databases/abalone/abalone.data', names = columns)\n",
    "\n",
    "# print the info on the dataframe\n",
    "print(df.info())\n",
    "\n",
    "# show the first 5 rows\n",
    "df.head()"
   ]
  },
  {
   "cell_type": "markdown",
   "metadata": {},
   "source": [
    "### Data Preparation"
   ]
  },
  {
   "cell_type": "markdown",
   "metadata": {},
   "source": [
    "We start off with converting the categorical data to numbers (*one hot encoding*):"
   ]
  },
  {
   "cell_type": "code",
   "execution_count": 103,
   "metadata": {},
   "outputs": [
    {
     "data": {
      "text/html": [
       "<div>\n",
       "<style scoped>\n",
       "    .dataframe tbody tr th:only-of-type {\n",
       "        vertical-align: middle;\n",
       "    }\n",
       "\n",
       "    .dataframe tbody tr th {\n",
       "        vertical-align: top;\n",
       "    }\n",
       "\n",
       "    .dataframe thead th {\n",
       "        text-align: right;\n",
       "    }\n",
       "</style>\n",
       "<table border=\"1\" class=\"dataframe\">\n",
       "  <thead>\n",
       "    <tr style=\"text-align: right;\">\n",
       "      <th></th>\n",
       "      <th>F</th>\n",
       "      <th>I</th>\n",
       "      <th>M</th>\n",
       "      <th>length</th>\n",
       "      <th>diameter</th>\n",
       "      <th>height</th>\n",
       "      <th>whole weight</th>\n",
       "      <th>shucked weight</th>\n",
       "      <th>viscera weight</th>\n",
       "      <th>shell weight</th>\n",
       "      <th>rings</th>\n",
       "    </tr>\n",
       "  </thead>\n",
       "  <tbody>\n",
       "    <tr>\n",
       "      <th>0</th>\n",
       "      <td>0</td>\n",
       "      <td>0</td>\n",
       "      <td>1</td>\n",
       "      <td>0.455</td>\n",
       "      <td>0.365</td>\n",
       "      <td>0.095</td>\n",
       "      <td>0.5140</td>\n",
       "      <td>0.2245</td>\n",
       "      <td>0.1010</td>\n",
       "      <td>0.150</td>\n",
       "      <td>15</td>\n",
       "    </tr>\n",
       "    <tr>\n",
       "      <th>1</th>\n",
       "      <td>0</td>\n",
       "      <td>0</td>\n",
       "      <td>1</td>\n",
       "      <td>0.350</td>\n",
       "      <td>0.265</td>\n",
       "      <td>0.090</td>\n",
       "      <td>0.2255</td>\n",
       "      <td>0.0995</td>\n",
       "      <td>0.0485</td>\n",
       "      <td>0.070</td>\n",
       "      <td>7</td>\n",
       "    </tr>\n",
       "    <tr>\n",
       "      <th>2</th>\n",
       "      <td>1</td>\n",
       "      <td>0</td>\n",
       "      <td>0</td>\n",
       "      <td>0.530</td>\n",
       "      <td>0.420</td>\n",
       "      <td>0.135</td>\n",
       "      <td>0.6770</td>\n",
       "      <td>0.2565</td>\n",
       "      <td>0.1415</td>\n",
       "      <td>0.210</td>\n",
       "      <td>9</td>\n",
       "    </tr>\n",
       "    <tr>\n",
       "      <th>3</th>\n",
       "      <td>0</td>\n",
       "      <td>0</td>\n",
       "      <td>1</td>\n",
       "      <td>0.440</td>\n",
       "      <td>0.365</td>\n",
       "      <td>0.125</td>\n",
       "      <td>0.5160</td>\n",
       "      <td>0.2155</td>\n",
       "      <td>0.1140</td>\n",
       "      <td>0.155</td>\n",
       "      <td>10</td>\n",
       "    </tr>\n",
       "    <tr>\n",
       "      <th>4</th>\n",
       "      <td>0</td>\n",
       "      <td>1</td>\n",
       "      <td>0</td>\n",
       "      <td>0.330</td>\n",
       "      <td>0.255</td>\n",
       "      <td>0.080</td>\n",
       "      <td>0.2050</td>\n",
       "      <td>0.0895</td>\n",
       "      <td>0.0395</td>\n",
       "      <td>0.055</td>\n",
       "      <td>7</td>\n",
       "    </tr>\n",
       "  </tbody>\n",
       "</table>\n",
       "</div>"
      ],
      "text/plain": [
       "   F  I  M  length  diameter  height  whole weight  shucked weight  \\\n",
       "0  0  0  1   0.455     0.365   0.095        0.5140          0.2245   \n",
       "1  0  0  1   0.350     0.265   0.090        0.2255          0.0995   \n",
       "2  1  0  0   0.530     0.420   0.135        0.6770          0.2565   \n",
       "3  0  0  1   0.440     0.365   0.125        0.5160          0.2155   \n",
       "4  0  1  0   0.330     0.255   0.080        0.2050          0.0895   \n",
       "\n",
       "   viscera weight  shell weight  rings  \n",
       "0          0.1010         0.150     15  \n",
       "1          0.0485         0.070      7  \n",
       "2          0.1415         0.210      9  \n",
       "3          0.1140         0.155     10  \n",
       "4          0.0395         0.055      7  "
      ]
     },
     "execution_count": 103,
     "metadata": {},
     "output_type": "execute_result"
    }
   ],
   "source": [
    "# one hot encode the sex column \n",
    "sex_encoded = pd.get_dummies(df.sex)\n",
    "# concatenate the new columns (one for each gender: female, infant, male) to the original dataframe \n",
    "df = pd.concat([sex_encoded, df.iloc[:, 1:]], axis=1)\n",
    "# preview the new dataframe\n",
    "df.head()"
   ]
  },
  {
   "cell_type": "markdown",
   "metadata": {},
   "source": [
    "We split the data in training and test sets:"
   ]
  },
  {
   "cell_type": "code",
   "execution_count": 104,
   "metadata": {},
   "outputs": [
    {
     "name": "stdout",
     "output_type": "stream",
     "text": [
      "Number of features in the training set: 2923\n",
      "Number of targets in the training set: 2923\n",
      "Number of features in the test set: 1254\n",
      "Number of targtes in the test set: 1254\n"
     ]
    }
   ],
   "source": [
    "# store the features in a variable X\n",
    "X = df.iloc[:, :-1].values\n",
    "# store the targets in a variable y\n",
    "y = df.iloc[:, -1].values\n",
    "\n",
    "# create the training and test sets \n",
    "seed = 0\n",
    "X_train, X_test, y_train, y_test = train_test_split(X, y, test_size=.3, random_state=seed)\n",
    "\n",
    "print(f'Number of features in the training set: {len(X_train)}')\n",
    "print(f'Number of targets in the training set: {len(y_train)}')\n",
    "print(f'Number of features in the test set: {len(X_test)}')\n",
    "print(f'Number of targtes in the test set: {len(y_test)}')"
   ]
  },
  {
   "cell_type": "markdown",
   "metadata": {},
   "source": [
    "Normalize the features:"
   ]
  },
  {
   "cell_type": "code",
   "execution_count": 105,
   "metadata": {},
   "outputs": [],
   "source": [
    "from sklearn.preprocessing import StandardScaler\n",
    "\n",
    "sclr = StandardScaler()\n",
    "sclr.fit(X_train) # scale to 0 mean and std dev 1 on training data. \n",
    "\n",
    "# scale both training and test sets\n",
    "X_train = sclr.transform(X_train) \n",
    "X_test = sclr.transform(X_test)"
   ]
  },
  {
   "cell_type": "markdown",
   "metadata": {},
   "source": [
    "### Model Tuning"
   ]
  },
  {
   "cell_type": "markdown",
   "metadata": {},
   "source": [
    "Create a gridsearch to test the model hyperparameters:"
   ]
  },
  {
   "cell_type": "code",
   "execution_count": 106,
   "metadata": {},
   "outputs": [
    {
     "data": {
      "text/html": [
       "<div>\n",
       "<style scoped>\n",
       "    .dataframe tbody tr th:only-of-type {\n",
       "        vertical-align: middle;\n",
       "    }\n",
       "\n",
       "    .dataframe tbody tr th {\n",
       "        vertical-align: top;\n",
       "    }\n",
       "\n",
       "    .dataframe thead th {\n",
       "        text-align: right;\n",
       "    }\n",
       "</style>\n",
       "<table border=\"1\" class=\"dataframe\">\n",
       "  <thead>\n",
       "    <tr style=\"text-align: right;\">\n",
       "      <th></th>\n",
       "      <th>mean_fit_time</th>\n",
       "      <th>std_fit_time</th>\n",
       "      <th>mean_score_time</th>\n",
       "      <th>std_score_time</th>\n",
       "      <th>param_n_neighbors</th>\n",
       "      <th>param_p</th>\n",
       "      <th>params</th>\n",
       "      <th>split0_test_MSE</th>\n",
       "      <th>split1_test_MSE</th>\n",
       "      <th>split2_test_MSE</th>\n",
       "      <th>split3_test_MSE</th>\n",
       "      <th>split4_test_MSE</th>\n",
       "      <th>mean_test_MSE</th>\n",
       "      <th>std_test_MSE</th>\n",
       "      <th>rank_test_MSE</th>\n",
       "    </tr>\n",
       "  </thead>\n",
       "  <tbody>\n",
       "    <tr>\n",
       "      <th>25</th>\n",
       "      <td>0.001929</td>\n",
       "      <td>0.000168</td>\n",
       "      <td>0.004902</td>\n",
       "      <td>0.000516</td>\n",
       "      <td>13</td>\n",
       "      <td>2</td>\n",
       "      <td>{'n_neighbors': 13, 'p': 2}</td>\n",
       "      <td>-2.118342</td>\n",
       "      <td>-2.212759</td>\n",
       "      <td>-2.193963</td>\n",
       "      <td>-2.359684</td>\n",
       "      <td>-2.281592</td>\n",
       "      <td>-2.233268</td>\n",
       "      <td>0.081841</td>\n",
       "      <td>1</td>\n",
       "    </tr>\n",
       "  </tbody>\n",
       "</table>\n",
       "</div>"
      ],
      "text/plain": [
       "    mean_fit_time  std_fit_time  mean_score_time  std_score_time  \\\n",
       "25       0.001929      0.000168         0.004902        0.000516   \n",
       "\n",
       "   param_n_neighbors param_p                       params  split0_test_MSE  \\\n",
       "25                13       2  {'n_neighbors': 13, 'p': 2}        -2.118342   \n",
       "\n",
       "    split1_test_MSE  split2_test_MSE  split3_test_MSE  split4_test_MSE  \\\n",
       "25        -2.212759        -2.193963        -2.359684        -2.281592   \n",
       "\n",
       "    mean_test_MSE  std_test_MSE  rank_test_MSE  \n",
       "25      -2.233268      0.081841              1  "
      ]
     },
     "execution_count": 106,
     "metadata": {},
     "output_type": "execute_result"
    }
   ],
   "source": [
    "from sklearn.neighbors import KNeighborsRegressor\n",
    "\n",
    "# hyperparameters to search\n",
    "parameters = {'n_neighbors':np.arange(1, 20), 'p':[1, 2]}\n",
    "\n",
    "#model \n",
    "knn = KNeighborsRegressor()\n",
    "\n",
    "# in sklearn all scorer objects follow the convention that higher return values are better than lower return values. \n",
    "# Thus metrics which measure the distance between the model and the data, like metrics.mean_squared_error, are available as neg_mean_squared_error.\n",
    "scoring = {'MSE': 'neg_root_mean_squared_error'}\n",
    "\n",
    "# set a 5 fold nested grid search\n",
    "clf = GridSearchCV(knn, parameters, scoring = scoring, refit = False, cv = 5)\n",
    "clf.fit(X_train, y_train)\n",
    "\n",
    "# display the top ranked models \n",
    "pd.DataFrame(clf.cv_results_).sort_values(by = 'rank_test_MSE').head(1)"
   ]
  },
  {
   "cell_type": "markdown",
   "metadata": {},
   "source": [
    "Above we see the details of the best performing model."
   ]
  },
  {
   "cell_type": "markdown",
   "metadata": {},
   "source": [
    "### Model Testing"
   ]
  },
  {
   "cell_type": "markdown",
   "metadata": {},
   "source": [
    "To make sure this model is not overfitting the training data (it should not since we crossvalidated it) we train a new model with the same parameters and test it on the test set:"
   ]
  },
  {
   "cell_type": "code",
   "execution_count": 107,
   "metadata": {},
   "outputs": [
    {
     "name": "stdout",
     "output_type": "stream",
     "text": [
      "Negative RMSE on test data: -2.2514210380011512\n"
     ]
    }
   ],
   "source": [
    "from sklearn.metrics import mean_squared_error\n",
    "\n",
    "#model \n",
    "knn = KNeighborsRegressor(n_neighbors = 13, p =2)\n",
    "knn.fit(X_train, y_train)\n",
    "\n",
    "# predicted labels \n",
    "y_pred = knn.predict(X_test)\n",
    "\n",
    "# root mean squared error between predicted and true\n",
    "print(f'Negative RMSE on test data: {-mean_squared_error(y_test, y_pred, squared=False)}')"
   ]
  },
  {
   "cell_type": "markdown",
   "metadata": {},
   "source": [
    "The negative root squared mean error on the test data is very similar to the training data's therefore we can conclude that our model did not overfit the training. <br> Additionally we can estabilish the expected error of our model on unseen data (i.e., it predicts the age of the abalone with a RMSE of 2.25 years). "
   ]
  },
  {
   "cell_type": "markdown",
   "metadata": {},
   "source": [
    "### Display Results"
   ]
  },
  {
   "cell_type": "code",
   "execution_count": 108,
   "metadata": {},
   "outputs": [
    {
     "data": {
      "image/png": "[encoded data removed]",
      "text/plain": [
       "<Figure size 500x500 with 1 Axes>"
      ]
     },
     "metadata": {},
     "output_type": "display_data"
    }
   ],
   "source": [
    "# display the results\n",
    "\n",
    "fig, ax = plt.subplots(figsize=(5, 5))\n",
    "ax.scatter(y_test, y_pred, color = 'black', marker = '.')\n",
    "ax.plot([0, 30], [0, 30], '--r')\n",
    "ax.set_xlabel('True number of rings')\n",
    "ax.set_ylabel('Predicted number of rings')\n",
    "plt.title('True vs predicted Number of Rings');"
   ]
  },
  {
   "cell_type": "markdown",
   "metadata": {},
   "source": [
    "# Exercise 5\n",
    "Tune a DT to classify web pages in the Website Phishing dataset with the hyperparameters minimum numbers to split a leaf, maximum tree depth, minimum number of samples in a leaf. Evaluate the results in a 3-dimensional grid search with cross-validation.  Make sure to avoid overfitting and estimate model performance.  "
   ]
  },
  {
   "cell_type": "markdown",
   "metadata": {},
   "source": [
    "The *Website Phishing\" dataset can be found here: https://archive.ics.uci.edu/ml/datasets/Website+Phishing# (enter the Data Folder). <br>\n",
    "Given the *arff* format of this dataset we import it following *Sklearn* documentation: https://docs.scipy.org/doc/scipy/reference/generated/scipy.io.arff.loadarff.html"
   ]
  },
  {
   "cell_type": "markdown",
   "metadata": {},
   "source": [
    "### Dataset information\n",
    "\n",
    "The phishing problem is considered a vital issue in the .COM industry especially e-banking and e-commerce taking the number of online transactions involving payments.\n",
    "We have identified different features related to legitimate and phishy websites and collected 1353 different websites from difference sources. Phishing websites were collected from Phishtank data archive (www.phishtank.com), which is a free community site where users can submit, verify, track and share phishing data. The legitimate websites were collected from Yahoo and starting point directories using a web script developed in PHP. The PHP script was plugged with a browser and we collected 548 legitimate websites out of 1353 websites. There is 702 phishing URLs, and 103 suspicious URLs.\n",
    "\n",
    "When a website is considered SUSPICIOUS that means it can be either phishy or legitimate, meaning the website held some legit and phishy features.\n",
    "\n"
   ]
  },
  {
   "cell_type": "code",
   "execution_count": 109,
   "metadata": {},
   "outputs": [
    {
     "data": {
      "text/html": [
       "<div>\n",
       "<style scoped>\n",
       "    .dataframe tbody tr th:only-of-type {\n",
       "        vertical-align: middle;\n",
       "    }\n",
       "\n",
       "    .dataframe tbody tr th {\n",
       "        vertical-align: top;\n",
       "    }\n",
       "\n",
       "    .dataframe thead th {\n",
       "        text-align: right;\n",
       "    }\n",
       "</style>\n",
       "<table border=\"1\" class=\"dataframe\">\n",
       "  <thead>\n",
       "    <tr style=\"text-align: right;\">\n",
       "      <th></th>\n",
       "      <th>SFH</th>\n",
       "      <th>popUpWidnow</th>\n",
       "      <th>SSLfinal_State</th>\n",
       "      <th>Request_URL</th>\n",
       "      <th>URL_of_Anchor</th>\n",
       "      <th>web_traffic</th>\n",
       "      <th>URL_Length</th>\n",
       "      <th>age_of_domain</th>\n",
       "      <th>having_IP_Address</th>\n",
       "      <th>Result</th>\n",
       "    </tr>\n",
       "  </thead>\n",
       "  <tbody>\n",
       "    <tr>\n",
       "      <th>0</th>\n",
       "      <td>b'1'</td>\n",
       "      <td>b'-1'</td>\n",
       "      <td>b'1'</td>\n",
       "      <td>b'-1'</td>\n",
       "      <td>b'-1'</td>\n",
       "      <td>b'1'</td>\n",
       "      <td>b'1'</td>\n",
       "      <td>b'1'</td>\n",
       "      <td>b'0'</td>\n",
       "      <td>b'0'</td>\n",
       "    </tr>\n",
       "    <tr>\n",
       "      <th>1</th>\n",
       "      <td>b'-1'</td>\n",
       "      <td>b'-1'</td>\n",
       "      <td>b'-1'</td>\n",
       "      <td>b'-1'</td>\n",
       "      <td>b'-1'</td>\n",
       "      <td>b'0'</td>\n",
       "      <td>b'1'</td>\n",
       "      <td>b'1'</td>\n",
       "      <td>b'1'</td>\n",
       "      <td>b'1'</td>\n",
       "    </tr>\n",
       "    <tr>\n",
       "      <th>2</th>\n",
       "      <td>b'1'</td>\n",
       "      <td>b'-1'</td>\n",
       "      <td>b'0'</td>\n",
       "      <td>b'0'</td>\n",
       "      <td>b'-1'</td>\n",
       "      <td>b'0'</td>\n",
       "      <td>b'-1'</td>\n",
       "      <td>b'1'</td>\n",
       "      <td>b'0'</td>\n",
       "      <td>b'1'</td>\n",
       "    </tr>\n",
       "    <tr>\n",
       "      <th>3</th>\n",
       "      <td>b'1'</td>\n",
       "      <td>b'0'</td>\n",
       "      <td>b'1'</td>\n",
       "      <td>b'-1'</td>\n",
       "      <td>b'-1'</td>\n",
       "      <td>b'0'</td>\n",
       "      <td>b'1'</td>\n",
       "      <td>b'1'</td>\n",
       "      <td>b'0'</td>\n",
       "      <td>b'0'</td>\n",
       "    </tr>\n",
       "    <tr>\n",
       "      <th>4</th>\n",
       "      <td>b'-1'</td>\n",
       "      <td>b'-1'</td>\n",
       "      <td>b'1'</td>\n",
       "      <td>b'-1'</td>\n",
       "      <td>b'0'</td>\n",
       "      <td>b'0'</td>\n",
       "      <td>b'-1'</td>\n",
       "      <td>b'1'</td>\n",
       "      <td>b'0'</td>\n",
       "      <td>b'1'</td>\n",
       "    </tr>\n",
       "  </tbody>\n",
       "</table>\n",
       "</div>"
      ],
      "text/plain": [
       "     SFH popUpWidnow SSLfinal_State Request_URL URL_of_Anchor web_traffic  \\\n",
       "0   b'1'       b'-1'           b'1'       b'-1'         b'-1'        b'1'   \n",
       "1  b'-1'       b'-1'          b'-1'       b'-1'         b'-1'        b'0'   \n",
       "2   b'1'       b'-1'           b'0'        b'0'         b'-1'        b'0'   \n",
       "3   b'1'        b'0'           b'1'       b'-1'         b'-1'        b'0'   \n",
       "4  b'-1'       b'-1'           b'1'       b'-1'          b'0'        b'0'   \n",
       "\n",
       "  URL_Length age_of_domain having_IP_Address Result  \n",
       "0       b'1'          b'1'              b'0'   b'0'  \n",
       "1       b'1'          b'1'              b'1'   b'1'  \n",
       "2      b'-1'          b'1'              b'0'   b'1'  \n",
       "3       b'1'          b'1'              b'0'   b'0'  \n",
       "4      b'-1'          b'1'              b'0'   b'1'  "
      ]
     },
     "execution_count": 109,
     "metadata": {},
     "output_type": "execute_result"
    }
   ],
   "source": [
    "# import the modules to load the dataset\n",
    "from scipy.io.arff import loadarff \n",
    "import urllib.request\n",
    "import io \n",
    "\n",
    "# load the dataset\n",
    "url = 'https://archive.ics.uci.edu/ml/machine-learning-databases/00379/PhishingData.arff'\n",
    "ftpstream = urllib.request.urlopen(url)\n",
    "data, meta = loadarff(io.StringIO(ftpstream.read().decode('UTF-8')))\n",
    "\n",
    "# make the dataset a Pandas dataframe and display its first 5 rows\n",
    "df = pd.DataFrame(data) # the data is originally bytes, hence .astype(int)\n",
    "df.head()"
   ]
  },
  {
   "cell_type": "markdown",
   "metadata": {},
   "source": [
    "The collected features hold the categorical values: *Legitimate*, *Suspicious* and *Phishy*. These values have been replaced with numerical values 1,0 and -1 respectively. <br>"
   ]
  },
  {
   "cell_type": "markdown",
   "metadata": {},
   "source": [
    "### Data Preparation"
   ]
  },
  {
   "cell_type": "markdown",
   "metadata": {},
   "source": [
    "Notice how the data is of type \"bytes\", hence those \"b\"."
   ]
  },
  {
   "cell_type": "code",
   "execution_count": 110,
   "metadata": {},
   "outputs": [
    {
     "data": {
      "text/plain": [
       "bytes"
      ]
     },
     "execution_count": 110,
     "metadata": {},
     "output_type": "execute_result"
    }
   ],
   "source": [
    "# check the type of one of the entries\n",
    "type(df.iloc[1, 1])"
   ]
  },
  {
   "cell_type": "markdown",
   "metadata": {},
   "source": [
    "We can easily fix the data type like so:"
   ]
  },
  {
   "cell_type": "code",
   "execution_count": 111,
   "metadata": {},
   "outputs": [
    {
     "data": {
      "text/html": [
       "<div>\n",
       "<style scoped>\n",
       "    .dataframe tbody tr th:only-of-type {\n",
       "        vertical-align: middle;\n",
       "    }\n",
       "\n",
       "    .dataframe tbody tr th {\n",
       "        vertical-align: top;\n",
       "    }\n",
       "\n",
       "    .dataframe thead th {\n",
       "        text-align: right;\n",
       "    }\n",
       "</style>\n",
       "<table border=\"1\" class=\"dataframe\">\n",
       "  <thead>\n",
       "    <tr style=\"text-align: right;\">\n",
       "      <th></th>\n",
       "      <th>SFH</th>\n",
       "      <th>popUpWidnow</th>\n",
       "      <th>SSLfinal_State</th>\n",
       "      <th>Request_URL</th>\n",
       "      <th>URL_of_Anchor</th>\n",
       "      <th>web_traffic</th>\n",
       "      <th>URL_Length</th>\n",
       "      <th>age_of_domain</th>\n",
       "      <th>having_IP_Address</th>\n",
       "      <th>Result</th>\n",
       "    </tr>\n",
       "  </thead>\n",
       "  <tbody>\n",
       "    <tr>\n",
       "      <th>0</th>\n",
       "      <td>1</td>\n",
       "      <td>-1</td>\n",
       "      <td>1</td>\n",
       "      <td>-1</td>\n",
       "      <td>-1</td>\n",
       "      <td>1</td>\n",
       "      <td>1</td>\n",
       "      <td>1</td>\n",
       "      <td>0</td>\n",
       "      <td>0</td>\n",
       "    </tr>\n",
       "    <tr>\n",
       "      <th>1</th>\n",
       "      <td>-1</td>\n",
       "      <td>-1</td>\n",
       "      <td>-1</td>\n",
       "      <td>-1</td>\n",
       "      <td>-1</td>\n",
       "      <td>0</td>\n",
       "      <td>1</td>\n",
       "      <td>1</td>\n",
       "      <td>1</td>\n",
       "      <td>1</td>\n",
       "    </tr>\n",
       "    <tr>\n",
       "      <th>2</th>\n",
       "      <td>1</td>\n",
       "      <td>-1</td>\n",
       "      <td>0</td>\n",
       "      <td>0</td>\n",
       "      <td>-1</td>\n",
       "      <td>0</td>\n",
       "      <td>-1</td>\n",
       "      <td>1</td>\n",
       "      <td>0</td>\n",
       "      <td>1</td>\n",
       "    </tr>\n",
       "  </tbody>\n",
       "</table>\n",
       "</div>"
      ],
      "text/plain": [
       "   SFH  popUpWidnow  SSLfinal_State  Request_URL  URL_of_Anchor  web_traffic  \\\n",
       "0    1           -1               1           -1             -1            1   \n",
       "1   -1           -1              -1           -1             -1            0   \n",
       "2    1           -1               0            0             -1            0   \n",
       "\n",
       "   URL_Length  age_of_domain  having_IP_Address  Result  \n",
       "0           1              1                  0       0  \n",
       "1           1              1                  1       1  \n",
       "2          -1              1                  0       1  "
      ]
     },
     "execution_count": 111,
     "metadata": {},
     "output_type": "execute_result"
    }
   ],
   "source": [
    "# convert from bytes to integers\n",
    "df = df.astype(int)\n",
    "df.head(3)"
   ]
  },
  {
   "cell_type": "markdown",
   "metadata": {},
   "source": [
    "We create the train and test sets:"
   ]
  },
  {
   "cell_type": "code",
   "execution_count": 112,
   "metadata": {},
   "outputs": [
    {
     "name": "stdout",
     "output_type": "stream",
     "text": [
      "Number of features in the training set: 947\n",
      "Number of targets in the training set: 947\n",
      "Number of features in the test set: 406\n",
      "Number of targtes in the test set: 406\n"
     ]
    }
   ],
   "source": [
    "# store the features in a variable X\n",
    "X = df.iloc[:, :-1].values\n",
    "# store the targets in a variable y\n",
    "y = df.iloc[:, -1].values\n",
    "\n",
    "# create the training and test sets \n",
    "seed = 0\n",
    "X_train, X_test, y_train, y_test = train_test_split(X, y, test_size=.3, random_state=seed)\n",
    "\n",
    "print(f'Number of features in the training set: {len(X_train)}')\n",
    "print(f'Number of targets in the training set: {len(y_train)}')\n",
    "print(f'Number of features in the test set: {len(X_test)}')\n",
    "print(f'Number of targtes in the test set: {len(y_test)}')"
   ]
  },
  {
   "cell_type": "markdown",
   "metadata": {},
   "source": [
    "### Model Tuning"
   ]
  },
  {
   "cell_type": "markdown",
   "metadata": {},
   "source": [
    "Tune a DT to classify web pages in the Website Phishing dataset with the hyperparameters minimum numbers to split a leaf, maximum tree depth, minimum number of samples in a leaf:"
   ]
  },
  {
   "cell_type": "code",
   "execution_count": 113,
   "metadata": {},
   "outputs": [
    {
     "data": {
      "text/html": [
       "<div>\n",
       "<style scoped>\n",
       "    .dataframe tbody tr th:only-of-type {\n",
       "        vertical-align: middle;\n",
       "    }\n",
       "\n",
       "    .dataframe tbody tr th {\n",
       "        vertical-align: top;\n",
       "    }\n",
       "\n",
       "    .dataframe thead th {\n",
       "        text-align: right;\n",
       "    }\n",
       "</style>\n",
       "<table border=\"1\" class=\"dataframe\">\n",
       "  <thead>\n",
       "    <tr style=\"text-align: right;\">\n",
       "      <th></th>\n",
       "      <th>mean_fit_time</th>\n",
       "      <th>std_fit_time</th>\n",
       "      <th>mean_score_time</th>\n",
       "      <th>std_score_time</th>\n",
       "      <th>param_max_depth</th>\n",
       "      <th>param_min_samples_leaf</th>\n",
       "      <th>param_min_samples_split</th>\n",
       "      <th>params</th>\n",
       "      <th>split0_test_Accuracy</th>\n",
       "      <th>split1_test_Accuracy</th>\n",
       "      <th>split2_test_Accuracy</th>\n",
       "      <th>split3_test_Accuracy</th>\n",
       "      <th>split4_test_Accuracy</th>\n",
       "      <th>mean_test_Accuracy</th>\n",
       "      <th>std_test_Accuracy</th>\n",
       "      <th>rank_test_Accuracy</th>\n",
       "    </tr>\n",
       "  </thead>\n",
       "  <tbody>\n",
       "    <tr>\n",
       "      <th>567</th>\n",
       "      <td>0.0008</td>\n",
       "      <td>0.0004</td>\n",
       "      <td>0.000201</td>\n",
       "      <td>0.000401</td>\n",
       "      <td>8</td>\n",
       "      <td>1</td>\n",
       "      <td>2</td>\n",
       "      <td>{'max_depth': 8, 'min_samples_leaf': 1, 'min_s...</td>\n",
       "      <td>0.936842</td>\n",
       "      <td>0.9</td>\n",
       "      <td>0.899471</td>\n",
       "      <td>0.904762</td>\n",
       "      <td>0.910053</td>\n",
       "      <td>0.910226</td>\n",
       "      <td>0.013846</td>\n",
       "      <td>1</td>\n",
       "    </tr>\n",
       "  </tbody>\n",
       "</table>\n",
       "</div>"
      ],
      "text/plain": [
       "     mean_fit_time  std_fit_time  mean_score_time  std_score_time  \\\n",
       "567         0.0008        0.0004         0.000201        0.000401   \n",
       "\n",
       "    param_max_depth param_min_samples_leaf param_min_samples_split  \\\n",
       "567               8                      1                       2   \n",
       "\n",
       "                                                params  split0_test_Accuracy  \\\n",
       "567  {'max_depth': 8, 'min_samples_leaf': 1, 'min_s...              0.936842   \n",
       "\n",
       "     split1_test_Accuracy  split2_test_Accuracy  split3_test_Accuracy  \\\n",
       "567                   0.9              0.899471              0.904762   \n",
       "\n",
       "     split4_test_Accuracy  mean_test_Accuracy  std_test_Accuracy  \\\n",
       "567              0.910053            0.910226           0.013846   \n",
       "\n",
       "     rank_test_Accuracy  \n",
       "567                   1  "
      ]
     },
     "execution_count": 113,
     "metadata": {},
     "output_type": "execute_result"
    }
   ],
   "source": [
    "# decision tree classifier\n",
    "dtc = DecisionTreeClassifier()\n",
    "\n",
    "# set the search space \n",
    "space = np.arange(1, 10)\n",
    "# hyperparameters to tune\n",
    "parameters = {'min_samples_split': 1 + space, 'max_depth': space, 'min_samples_leaf': space}\n",
    "\n",
    "# score the model on accuracy\n",
    "scoring = {'Accuracy': 'accuracy'}\n",
    "\n",
    "# set a 5 fold nested grid search\n",
    "clf = GridSearchCV(dtc, parameters, cv = 5, scoring = scoring, refit = False)\n",
    "clf.fit(X_train, y_train)\n",
    "\n",
    "# display the top ranked models \n",
    "top_performing = pd.DataFrame(clf.cv_results_).sort_values(by = 'rank_test_Accuracy')\n",
    "top_performing.head(1)"
   ]
  },
  {
   "cell_type": "markdown",
   "metadata": {},
   "source": [
    "Above we see all the details of the best performing model and below we display its parameters:"
   ]
  },
  {
   "cell_type": "code",
   "execution_count": 114,
   "metadata": {},
   "outputs": [
    {
     "data": {
      "text/plain": [
       "{'max_depth': 8, 'min_samples_leaf': 1, 'min_samples_split': 2}"
      ]
     },
     "execution_count": 114,
     "metadata": {},
     "output_type": "execute_result"
    }
   ],
   "source": [
    "# display the top ranked model's parameters\n",
    "top_performing.loc[top_performing['rank_test_Accuracy'] == 1].params.values[0]"
   ]
  },
  {
   "cell_type": "markdown",
   "metadata": {},
   "source": [
    "### Model Testing"
   ]
  },
  {
   "cell_type": "markdown",
   "metadata": {},
   "source": [
    "To make sure this model is not overfitting the training data (it should not since we crossvalidated it) we train a new model with the same parameters and test it on the test set:"
   ]
  },
  {
   "cell_type": "code",
   "execution_count": 115,
   "metadata": {},
   "outputs": [
    {
     "name": "stdout",
     "output_type": "stream",
     "text": [
      "Accuracy on test data: 0.8694581280788177\n"
     ]
    }
   ],
   "source": [
    "#model \n",
    "dtc = DecisionTreeClassifier(max_depth = 8, min_samples_leaf = 1, min_samples_split = 2)\n",
    "dtc.fit(X_train, y_train)\n",
    "\n",
    "# predicted labels \n",
    "y_pred = dtc.predict(X_test)\n",
    "\n",
    "# root mean squared error between predicted and true\n",
    "print(f'Accuracy on test data: {accuracy_score(y_test, y_pred)}')"
   ]
  },
  {
   "cell_type": "markdown",
   "metadata": {},
   "source": [
    "The accuracy on the test data is very similar to the training data's therefore we can conclude that our model did not overfit the training set. <br> Additionally we can estabilish the expected accuracy of our model on unseen data (i.e., it correctly identifies about 87% of the websites). \n"
   ]
  },
  {
   "cell_type": "markdown",
   "metadata": {},
   "source": [
    "### Display Results"
   ]
  },
  {
   "cell_type": "code",
   "execution_count": 116,
   "metadata": {},
   "outputs": [],
   "source": [
    "# create lists containing the classes names (useful to plot the results) \n",
    "y_test_lab = ['Legitimate' if n == 1 else 'Suspicious' if n == 0 else 'Fishy' for n in y_test]\n",
    "y_pred_lab = ['Legitimate' if n == 1 else 'Suspicious' if n == 0 else 'Fishy' for n in y_pred]"
   ]
  },
  {
   "cell_type": "code",
   "execution_count": 117,
   "metadata": {},
   "outputs": [
    {
     "data": {
      "image/png": "[encoded data removed]",
      "text/plain": [
       "<Figure size 640x480 with 2 Axes>"
      ]
     },
     "metadata": {},
     "output_type": "display_data"
    }
   ],
   "source": [
    "# import modules to create and display the confusion matrix\n",
    "from sklearn.metrics import confusion_matrix, ConfusionMatrixDisplay\n",
    "\n",
    "# create the confusion matrix\n",
    "cf_matrix = confusion_matrix(y_test_lab, y_pred_lab, \n",
    "                             labels= ['Legitimate', 'Suspicious', 'Fishy' ]) \n",
    "\n",
    "# display the results\n",
    "disp = ConfusionMatrixDisplay(confusion_matrix=cf_matrix,\n",
    "                               display_labels= set(y_pred_lab))\n",
    "\n",
    "disp.plot();"
   ]
  },
  {
   "cell_type": "markdown",
   "metadata": {},
   "source": [
    "From the above confusion matrix we notice how accurate our model is (it makes very few errors!) and how the most mistakes are made on classifying as fishy websites that are actually legitimate. "
   ]
  }
 ],
 "metadata": {
  "kernelspec": {
   "display_name": "Python 3.10.4 ('book')",
   "language": "python",
   "name": "python3"
  },
  "language_info": {
   "codemirror_mode": {
    "name": "ipython",
    "version": 3
   },
   "file_extension": ".py",
   "mimetype": "text/x-python",
   "name": "python",
   "nbconvert_exporter": "python",
   "pygments_lexer": "ipython3",
   "version": "3.10.4"
  },
  "orig_nbformat": 4,
  "vscode": {
   "interpreter": {
    "hash": "fdb129d5228a765a304b8d5599f04ed0b9473866110291e13ce84f812c5eadab"
   }
  }
 },
 "nbformat": 4,
 "nbformat_minor": 2
}
