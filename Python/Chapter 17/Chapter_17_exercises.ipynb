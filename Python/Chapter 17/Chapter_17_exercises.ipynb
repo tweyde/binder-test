{
 "cells": [
  {
   "cell_type": "markdown",
   "metadata": {},
   "source": [
    "# Chapter 17: Model Selection and Cross Validation\n",
    "## Exercises solutions"
   ]
  },
  {
   "cell_type": "markdown",
   "metadata": {},
   "source": [
    "The dataset used in this chapter os the *Iris dataset* and can be imported with the Sklearn laod_iris() function."
   ]
  },
  {
   "cell_type": "code",
   "execution_count": 21,
   "metadata": {},
   "outputs": [],
   "source": [
    "# import all the modules\n",
    "import sklearn\n",
    "from sklearn.datasets import load_iris\n",
    "import numpy as np\n",
    "import matplotlib.pyplot as plt\n",
    "import time"
   ]
  },
  {
   "cell_type": "markdown",
   "metadata": {},
   "source": [
    "Load the dataset and show its attributes:"
   ]
  },
  {
   "cell_type": "code",
   "execution_count": 22,
   "metadata": {},
   "outputs": [
    {
     "name": "stdout",
     "output_type": "stream",
     "text": [
      "Dataset type: \n",
      "<class 'sklearn.utils.Bunch'>\n",
      "\n",
      "Dataset attributes: \n",
      "dict_keys(['data', 'target', 'frame', 'target_names', 'DESCR', 'feature_names', 'filename', 'data_module'])\n",
      "\n",
      "Feaures names: \n",
      "['sepal length (cm)', 'sepal width (cm)', 'petal length (cm)', 'petal width (cm)']\n",
      "\n",
      "Target names: \n",
      "['setosa' 'versicolor' 'virginica']\n",
      "\n",
      "Number of samples: \n",
      "150\n",
      "\n"
     ]
    }
   ],
   "source": [
    "# load the dataset\n",
    "iris = load_iris() \n",
    "# we can see that this dataset is a class \n",
    "print(f'Dataset type: \\n{type(iris)}\\n')\n",
    "# and it has some functions and attributes that describe it\n",
    "print(f'Dataset attributes: \\n{iris.keys()}\\n')\n",
    "# these are our features (X)\n",
    "print(f'Feaures names: \\n{iris.feature_names}\\n')\n",
    "# these are the targets/labels (y)\n",
    "print(f'Target names: \\n{iris.target_names}\\n')\n",
    "# number of samples\n",
    "print(f'Number of samples: \\n{len(iris.data)}\\n')"
   ]
  },
  {
   "cell_type": "markdown",
   "metadata": {},
   "source": [
    "## Exercise 1\n",
    "Implement the model selection and HP tuning as above for the iris dataset."
   ]
  },
  {
   "cell_type": "markdown",
   "metadata": {},
   "source": [
    "Our question now is, whether to use KNN or a Decision Tree (DT) classifier. We start by training both models on our training set and calculate the performance on the test set. <br>\n",
    "We start off by splitting our data in train and test sets:"
   ]
  },
  {
   "cell_type": "code",
   "execution_count": 23,
   "metadata": {},
   "outputs": [
    {
     "name": "stdout",
     "output_type": "stream",
     "text": [
      "Number of features in the training set: 105\n",
      "Number of targets in the training set: 105\n",
      "Number of features in the test set: 45\n",
      "Number of targtes in the test set: 45\n"
     ]
    }
   ],
   "source": [
    "# import the function to split the data in train and test set\n",
    "from sklearn.model_selection import train_test_split\n",
    "\n",
    "# set the seed to promote the reproducibility of the results (it controls the randomness in the splits in this case)\n",
    "seed = 0\n",
    "\n",
    "# assign features and targets to X and y\n",
    "X = iris.data\n",
    "y = iris.target\n",
    "\n",
    "# split features and targets in train and test sets (). Note how we can easily stratify the sets. \n",
    "X_train, X_test, y_train, y_test = train_test_split(X, y, test_size = .3, random_state = seed, stratify = y)\n",
    "\n",
    "print(f'Number of features in the training set: {len(X_train)}')\n",
    "print(f'Number of targets in the training set: {len(y_train)}')\n",
    "print(f'Number of features in the test set: {len(X_test)}')\n",
    "print(f'Number of targtes in the test set: {len(y_test)}')"
   ]
  },
  {
   "cell_type": "markdown",
   "metadata": {},
   "source": [
    "We train both classifiers and check their accuracy on training and test sets:"
   ]
  },
  {
   "cell_type": "code",
   "execution_count": 24,
   "metadata": {},
   "outputs": [
    {
     "name": "stdout",
     "output_type": "stream",
     "text": [
      " DT:  {'train': 1.0, 'test': 0.9777777777777777}\n",
      "KNN:  {'train': 0.9619047619047619, 'test': 1.0}\n"
     ]
    }
   ],
   "source": [
    "from sklearn.neighbors import KNeighborsClassifier\n",
    "from sklearn.tree import DecisionTreeClassifier\n",
    "import numpy as np\n",
    "\n",
    "# train both classifiers\n",
    "dtc = DecisionTreeClassifier(max_depth=5,random_state=0)\n",
    "dtc.fit(X_train,y_train)\n",
    "\n",
    "#knn = KNeighborsClassifier(n_neighbors=1)\n",
    "knn = KNeighborsClassifier()\n",
    "knn.fit(X_train,y_train)\n",
    "\n",
    "# helper functions to calculate the accuracy values on train and test set. \n",
    "def accuracy(X,y,predictor):\n",
    "    return np.sum(np.equal(predictor.predict(X),y))/len(X)\n",
    "\n",
    "def trainValTestAcc(predictor):\n",
    "    vals = {}\n",
    "    vals['train'] = accuracy(X_train,y_train,predictor)\n",
    "    vals['test'] = accuracy(X_test,y_test,predictor)\n",
    "    return vals\n",
    "\n",
    "print(\" DT: \",trainValTestAcc(dtc))\n",
    "print(\"KNN: \",trainValTestAcc(knn))"
   ]
  },
  {
   "cell_type": "markdown",
   "metadata": {},
   "source": [
    "*Sklearn* offers some convenient functions to measure the models' metrics. Above we illustrated how to build our own helper function (sometimes we will need that!), below an alternative ready-to-go:"
   ]
  },
  {
   "cell_type": "code",
   "execution_count": 25,
   "metadata": {},
   "outputs": [
    {
     "name": "stdout",
     "output_type": "stream",
     "text": [
      " DT train: 1.0,  DT test: 0.9777777777777777\n",
      "KNN train: 0.9619047619047619, KNN test: 1.0\n"
     ]
    }
   ],
   "source": [
    "# import the function to measure the models'accuracy \n",
    "from sklearn.metrics import accuracy_score\n",
    "\n",
    "# calculate the accuracy of both models on train and test sets.\n",
    "dt_train = accuracy_score(y_train, dtc.predict(X_train))\n",
    "dt_test = accuracy_score(y_test, dtc.predict(X_test))\n",
    "knn_train = accuracy_score(y_train, knn.predict(X_train))\n",
    "knn_test = accuracy_score(y_test, knn.predict(X_test))\n",
    "\n",
    "# print the results (matching the previous ones as expected)\n",
    "print(f\" DT train: {dt_train},  DT test: {dt_test}\")\n",
    "print(f\"KNN train: {knn_train}, KNN test: {knn_test}\")\n"
   ]
  },
  {
   "cell_type": "markdown",
   "metadata": {},
   "source": [
    "Both models do extremely well on train and test set, with the KNN performing better on the unseen data. <br>"
   ]
  },
  {
   "cell_type": "markdown",
   "metadata": {},
   "source": [
    "- vary the n_neighbors parameter for KNN:"
   ]
  },
  {
   "cell_type": "code",
   "execution_count": 47,
   "metadata": {},
   "outputs": [
    {
     "name": "stdout",
     "output_type": "stream",
     "text": [
      "KNN_1: {'train': 1.0, 'test': 0.9777777777777777}\n",
      "KNN_2: {'train': 0.9619047619047619, 'test': 0.9333333333333333}\n",
      "KNN_3: {'train': 0.9428571428571428, 'test': 1.0}\n",
      "KNN_4: {'train': 0.9619047619047619, 'test': 1.0}\n",
      "KNN_5: {'train': 0.9619047619047619, 'test': 1.0}\n",
      "KNN_6: {'train': 0.9523809523809523, 'test': 1.0}\n",
      "KNN_7: {'train': 0.9523809523809523, 'test': 1.0}\n",
      "KNN_8: {'train': 0.9523809523809523, 'test': 1.0}\n",
      "KNN_9: {'train': 0.9714285714285714, 'test': 1.0}\n"
     ]
    }
   ],
   "source": [
    "#knn = KNeighborsClassifier\n",
    "neighbors = np.arange(1, 10)\n",
    "for n in neighbors:\n",
    "    knn = KNeighborsClassifier(n_neighbors = n)\n",
    "    knn.fit(X_train,y_train)\n",
    "    print(f\"KNN_{n}: {trainValTestAcc(knn)}\")"
   ]
  },
  {
   "cell_type": "markdown",
   "metadata": {},
   "source": [
    "- plot the validation curve:"
   ]
  },
  {
   "cell_type": "code",
   "execution_count": 51,
   "metadata": {},
   "outputs": [
    {
     "data": {
      "image/png": "[encoded data removed]",
      "text/plain": [
       "<Figure size 640x480 with 1 Axes>"
      ]
     },
     "metadata": {},
     "output_type": "display_data"
    }
   ],
   "source": [
    "# these two lists will store our results \n",
    "train_scores = []; val_scores = []\n",
    "\n",
    "# test the KNN at different number of neighbors and append the results to the above lists\n",
    "for n in neighbors:\n",
    "    knn = KNeighborsClassifier(n_neighbors = n)\n",
    "    knn.fit(X_train,y_train)\n",
    "    train_scores.append(accuracy_score(y_train, knn.predict(X_train)))\n",
    "    val_scores.append(accuracy_score(y_test, knn.predict(X_test)))\n",
    "\n",
    "# plot the training and validation curves \n",
    "plt.title(\"Validation Curve with KNN\")\n",
    "plt.xlabel(\"Number of neighbors\")\n",
    "plt.ylabel(\"Accuracy\")\n",
    "plt.ylim(0.8, 1.1)\n",
    "plt.plot(neighbors, train_scores, label=\"Training accuracy\")\n",
    "plt.plot(neighbors, val_scores, label=\"Validation accuracy\")\n",
    "plt.legend(loc=\"best\")\n",
    "plt.show()"
   ]
  },
  {
   "cell_type": "markdown",
   "metadata": {},
   "source": [
    "## Exercises 2 \n",
    "Implement nested cross-validation for tuning the max_depth of the decision tree on wine dataset. "
   ]
  },
  {
   "cell_type": "markdown",
   "metadata": {},
   "source": [
    "We start-off by importing the wine dataset:"
   ]
  },
  {
   "cell_type": "code",
   "execution_count": 27,
   "metadata": {},
   "outputs": [
    {
     "name": "stdout",
     "output_type": "stream",
     "text": [
      "Dataset type: \n",
      "<class 'sklearn.utils.Bunch'>\n",
      "\n",
      "Dataset attributes: \n",
      "dict_keys(['data', 'target', 'frame', 'target_names', 'DESCR', 'feature_names'])\n",
      "\n",
      "Feaures names: \n",
      "['alcohol', 'malic_acid', 'ash', 'alcalinity_of_ash', 'magnesium', 'total_phenols', 'flavanoids', 'nonflavanoid_phenols', 'proanthocyanins', 'color_intensity', 'hue', 'od280/od315_of_diluted_wines', 'proline']\n",
      "\n",
      "Target names: \n",
      "['class_0' 'class_1' 'class_2']\n",
      "\n",
      "Number of samples: \n",
      "178\n",
      "\n"
     ]
    }
   ],
   "source": [
    "from sklearn.datasets import load_wine\n",
    "dataset = load_wine()\n",
    "\n",
    "# we can see that this dataset is a class \n",
    "print(f'Dataset type: \\n{type(dataset)}\\n')\n",
    "# and it has some functions and attributes that describe it\n",
    "print(f'Dataset attributes: \\n{dataset.keys()}\\n')\n",
    "# these are our features (X)\n",
    "print(f'Feaures names: \\n{dataset.feature_names}\\n')\n",
    "# these are the targets/labels (y)\n",
    "print(f'Target names: \\n{dataset.target_names}\\n')\n",
    "# number of samples\n",
    "print(f'Number of samples: \\n{len(dataset.data)}\\n')"
   ]
  },
  {
   "cell_type": "markdown",
   "metadata": {},
   "source": [
    "We store the features and targets in two variables and create the training, validation and test sets:"
   ]
  },
  {
   "cell_type": "code",
   "execution_count": 28,
   "metadata": {},
   "outputs": [
    {
     "name": "stdout",
     "output_type": "stream",
     "text": [
      "Number of features in the training set: 124\n",
      "Number of targets in the training set: 124\n",
      "Number of features in the test set: 54\n",
      "Number of targtes in the test set: 54\n"
     ]
    }
   ],
   "source": [
    "# store features and targets \n",
    "X = dataset.data\n",
    "y = dataset.target\n",
    "\n",
    "# create the training and test sets \n",
    "seed = 0\n",
    "X_train, X_test, y_train, y_test = train_test_split(X, y, test_size=.3,random_state=seed)\n",
    "\n",
    "print(f'Number of features in the training set: {len(X_train)}')\n",
    "print(f'Number of targets in the training set: {len(y_train)}')\n",
    "print(f'Number of features in the test set: {len(X_test)}')\n",
    "print(f'Number of targtes in the test set: {len(y_test)}')"
   ]
  },
  {
   "cell_type": "code",
   "execution_count": 44,
   "metadata": {},
   "outputs": [
    {
     "name": "stdout",
     "output_type": "stream",
     "text": [
      "Nested scores at maximum depth = 1: \n",
      "[0.52777778 0.66666667 0.69444444 0.6        0.74285714]\n",
      "Nested scores at maximum depth = 2: \n",
      "[0.80555556 0.80555556 0.77777778 0.74285714 0.97142857]\n",
      "Nested scores at maximum depth = 3: \n",
      "[0.94444444 0.83333333 0.91666667 0.8        0.97142857]\n",
      "Nested scores at maximum depth = 4: \n",
      "[0.94444444 0.86111111 0.88888889 0.91428571 0.97142857]\n",
      "Nested scores at maximum depth = 5: \n",
      "[0.94444444 0.83333333 0.88888889 0.91428571 0.85714286]\n",
      "Nested scores at maximum depth = 6: \n",
      "[0.94444444 0.83333333 0.88888889 0.91428571 0.85714286]\n",
      "Nested scores at maximum depth = 7: \n",
      "[0.94444444 0.83333333 0.88888889 0.91428571 0.85714286]\n",
      "Nested scores at maximum depth = 8: \n",
      "[0.94444444 0.83333333 0.88888889 0.91428571 0.85714286]\n",
      "Nested scores at maximum depth = 9: \n",
      "[0.94444444 0.83333333 0.88888889 0.91428571 0.85714286]\n"
     ]
    }
   ],
   "source": [
    "# import the module to run nested cross validation\n",
    "from sklearn.model_selection import GridSearchCV, cross_val_score, KFold\n",
    "\n",
    "# we store all the scores here (useful for the next exercise)\n",
    "nested_scores = [] \n",
    "# we store all the mean score here \n",
    "nested_scores_mean = [] \n",
    "\n",
    "# set the range of values for our hyperparameter\n",
    "md = np.arange(1, 10)\n",
    "\n",
    "# test the KNN at different number of neighbors and append the results to the above lists\n",
    "for d in md:\n",
    "    dtc = DecisionTreeClassifier(max_depth = d, random_state = 0)\n",
    "    nested_score = cross_val_score(dtc, dataset.data, dataset.target, cv = 5)\n",
    "    print(f'Nested scores at maximum depth = {d}: \\n{nested_score}')\n",
    "    nested_scores.append(nested_score)\n",
    "    nested_scores_mean.append(nested_score.mean())"
   ]
  },
  {
   "cell_type": "markdown",
   "metadata": {},
   "source": [
    "Above we note that, since we indicated a 5 fold split (cv = 5) we are now generating 5 scores (one on each fold) for each parameter we are testing; we are essentially scoring our model on 5 subsets of the original dataset. "
   ]
  },
  {
   "cell_type": "markdown",
   "metadata": {},
   "source": [
    "Below we plot the results, taking the mean of the five scores at each maximum depth:"
   ]
  },
  {
   "cell_type": "code",
   "execution_count": 45,
   "metadata": {},
   "outputs": [
    {
     "data": {
      "image/png": "[encoded data removed]",
      "text/plain": [
       "<Figure size 640x480 with 1 Axes>"
      ]
     },
     "metadata": {},
     "output_type": "display_data"
    }
   ],
   "source": [
    "# plot the training and validation curves \n",
    "plt.title(\"Validation Curve with DT and cross-validation\")\n",
    "plt.xlabel(\"Maximum depth\")\n",
    "plt.ylabel(\"Accuracy\")\n",
    "plt.ylim(0.5, 1)\n",
    "plt.plot(md, nested_scores_mean,label=\"Cross-validation accuracy\")\n",
    "plt.legend(loc=\"best\");"
   ]
  },
  {
   "cell_type": "markdown",
   "metadata": {},
   "source": [
    "From the above results it would seem that 4 is the optimal *maximum depth* for our classification tree, on this data."
   ]
  },
  {
   "cell_type": "markdown",
   "metadata": {},
   "source": [
    "## Exercise 3\n",
    "Implement a validation curve plot that shows the accuracies plus and minus the standard deviation. "
   ]
  },
  {
   "cell_type": "code",
   "execution_count": 68,
   "metadata": {},
   "outputs": [
    {
     "data": {
      "image/png": "[encoded data removed]",
      "text/plain": [
       "<Figure size 640x480 with 1 Axes>"
      ]
     },
     "metadata": {},
     "output_type": "display_data"
    }
   ],
   "source": [
    "# store the standard deviations in a variable \n",
    "sd = np.std(nested_scores, axis = 1)\n",
    "\n",
    "# plot the validation curve with the standard deviations (red)\n",
    "plt.errorbar(md, nested_scores_mean, yerr= sd, ecolor= 'red')\n",
    "plt.title(\"Validation Curve with standard deviation bars\")\n",
    "plt.xlabel(\"Maximum depth\")\n",
    "plt.ylabel(\"Accuracy\")\n",
    "plt.ylim(0.5, 1);"
   ]
  },
  {
   "cell_type": "markdown",
   "metadata": {},
   "source": [
    "# Exercise 4\n",
    "Tune a KNN model on the Abalone dataset with the hyperparameters k (number of neighbors), and p (metric exponent). Evaluate the results in a 2-dimensional grid search with cross-validation. Make sure to avoid overfitting and estimate model performance. "
   ]
  },
  {
   "cell_type": "code",
   "execution_count": null,
   "metadata": {},
   "outputs": [],
   "source": []
  },
  {
   "cell_type": "code",
   "execution_count": null,
   "metadata": {},
   "outputs": [],
   "source": []
  },
  {
   "cell_type": "code",
   "execution_count": null,
   "metadata": {},
   "outputs": [],
   "source": []
  },
  {
   "cell_type": "markdown",
   "metadata": {},
   "source": [
    "# Exercise 5\n",
    "Tune a DT to classify web pages in the Website Phishing dataset with the hyperparameters minimum numbers to split a leave, maximum tree depth, minimum number of samples in a leaf. Evaluate the results in a 3-dimensional grid search with cross-validation.  Make sure to avoid overfitting and estimate model performance.  "
   ]
  },
  {
   "cell_type": "code",
   "execution_count": null,
   "metadata": {},
   "outputs": [],
   "source": []
  }
 ],
 "metadata": {
  "kernelspec": {
   "display_name": "Python 3.10.4 ('book')",
   "language": "python",
   "name": "python3"
  },
  "language_info": {
   "codemirror_mode": {
    "name": "ipython",
    "version": 3
   },
   "file_extension": ".py",
   "mimetype": "text/x-python",
   "name": "python",
   "nbconvert_exporter": "python",
   "pygments_lexer": "ipython3",
   "version": "3.10.4"
  },
  "orig_nbformat": 4,
  "vscode": {
   "interpreter": {
    "hash": "fdb129d5228a765a304b8d5599f04ed0b9473866110291e13ce84f812c5eadab"
   }
  }
 },
 "nbformat": 4,
 "nbformat_minor": 2
}
