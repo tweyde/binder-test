{
 "cells": [
  {
   "cell_type": "markdown",
   "metadata": {},
   "source": [
    "# Chapter 11: Fundamentals of Estimation"
   ]
  },
  {
   "cell_type": "code",
   "execution_count": 3,
   "metadata": {},
   "outputs": [],
   "source": [
    "import numpy as np\n",
    "import pandas as pd\n",
    "import matplotlib.pyplot as plt\n",
    "import seaborn as sns\n",
    "\n",
    "import scipy.stats"
   ]
  },
  {
   "cell_type": "markdown",
   "metadata": {},
   "source": [
    "## Likelihood Principle"
   ]
  },
  {
   "cell_type": "code",
   "execution_count": 4,
   "metadata": {},
   "outputs": [
    {
     "data": {
      "text/plain": [
       "0.13385261753998332"
      ]
     },
     "execution_count": 4,
     "metadata": {},
     "output_type": "execute_result"
    }
   ],
   "source": [
    "x = np.array([4,3,5,13,7,10,9,9,3,6,4,3,7,10,7,6,7,8,7,7])\n",
    "lam = 6\n",
    "scipy.stats.poisson.pmf(k = 4, mu = lam)"
   ]
  },
  {
   "cell_type": "code",
   "execution_count": 5,
   "metadata": {},
   "outputs": [
    {
     "name": "stdout",
     "output_type": "stream",
     "text": [
      "[0.134 0.089 0.161 0.005 0.138 0.041 0.069 0.069 0.089 0.161 0.134 0.089\n",
      " 0.138 0.041 0.138 0.161 0.138 0.103 0.138 0.138]\n"
     ]
    }
   ],
   "source": [
    "x = np.array([4,3,5,13,7,10,9,9,3,6,4,3,7,10,7,6,7,8,7,7])\n",
    "lam = 6\n",
    "p = scipy.stats.poisson.pmf(k = x, mu = lam)\n",
    "print(np.round(p,3))"
   ]
  },
  {
   "cell_type": "code",
   "execution_count": 6,
   "metadata": {},
   "outputs": [
    {
     "name": "stdout",
     "output_type": "stream",
     "text": [
      "1.559273542483997e-21\n"
     ]
    }
   ],
   "source": [
    "lam = 6\n",
    "p = scipy.stats.poisson.pmf(k = x, mu = lam)\n",
    "L = np.prod(p)\n",
    "print(L)"
   ]
  },
  {
   "cell_type": "code",
   "execution_count": 7,
   "metadata": {},
   "outputs": [
    {
     "name": "stdout",
     "output_type": "stream",
     "text": [
      "-47.91006691797001\n"
     ]
    }
   ],
   "source": [
    "lam = 6\n",
    "p = scipy.stats.poisson.pmf(k = x, mu = lam)\n",
    "LL = np.sum(np.log((p)))\n",
    "print(LL)\n"
   ]
  },
  {
   "cell_type": "code",
   "execution_count": 8,
   "metadata": {},
   "outputs": [
    {
     "data": {
      "text/plain": [
       "-52.5234770851539"
      ]
     },
     "execution_count": 8,
     "metadata": {},
     "output_type": "execute_result"
    }
   ],
   "source": [
    "def LLpois(lam):\n",
    "    p = scipy.stats.poisson.pmf(k = x, mu = lam)\n",
    "    LL = np.sum(np.log((p)))\n",
    "    return LL\n",
    "LLpois(5) "
   ]
  },
  {
   "cell_type": "code",
   "execution_count": 9,
   "metadata": {},
   "outputs": [
    {
     "data": {
      "text/plain": [
       "6.75"
      ]
     },
     "execution_count": 9,
     "metadata": {},
     "output_type": "execute_result"
    }
   ],
   "source": [
    "np.mean(x)"
   ]
  },
  {
   "cell_type": "markdown",
   "metadata": {},
   "source": [
    "## Yet Another Distribution!"
   ]
  },
  {
   "cell_type": "code",
   "execution_count": 10,
   "metadata": {},
   "outputs": [],
   "source": [
    "np.random.seed(987654321)\n",
    "paramdist = [np.mean(np.random.choice(x, size=len(x), replace=True)) for i in range(10000)]\n",
    "\n",
    "plt.show()"
   ]
  },
  {
   "cell_type": "code",
   "execution_count": 11,
   "metadata": {},
   "outputs": [
    {
     "data": {
      "image/png": "[encoded data removed]",
      "text/plain": [
       "<Figure size 432x288 with 1 Axes>"
      ]
     },
     "metadata": {
      "needs_background": "light"
     },
     "output_type": "display_data"
    },
    {
     "name": "stdout",
     "output_type": "stream",
     "text": [
      "95% Confindence Interval = [5.65, 7.90]\n"
     ]
    }
   ],
   "source": [
    "q1 = np.percentile(paramdist, 0.05/2 * 100)\n",
    "q2 = np.percentile(paramdist, (1-(0.05/2)) * 100)\n",
    "sns.kdeplot(paramdist)\n",
    "plt.axvline(q1, color='r', linestyle='-')\n",
    "plt.axvline(q2, color='r', linestyle='-')\n",
    "plt.show()\n",
    "print(\"95% Confindence Interval = [{:.2f}, {:.2f}]\".format(q1,q2))"
   ]
  },
  {
   "cell_type": "markdown",
   "metadata": {},
   "source": [
    "## Optimizing Computationally"
   ]
  },
  {
   "cell_type": "code",
   "execution_count": 12,
   "metadata": {},
   "outputs": [
    {
     "name": "stdout",
     "output_type": "stream",
     "text": [
      "      fun: 47.009357104358244\n",
      " hess_inv: array([[0.3373221]])\n",
      "      jac: array([0.])\n",
      "  message: 'Optimization terminated successfully.'\n",
      "     nfev: 14\n",
      "      nit: 6\n",
      "     njev: 7\n",
      "   status: 0\n",
      "  success: True\n",
      "        x: array([6.75000007])\n"
     ]
    }
   ],
   "source": [
    "def LLpois(lam):\n",
    "    p = scipy.stats.poisson.pmf(k = x, mu = lam)\n",
    "    LL = np.sum(np.log((p)))\n",
    "    return(-1*LL)\n",
    "res1 = scipy.optimize.minimize(LLpois, x0 = 10)\n",
    "print(res1) "
   ]
  },
  {
   "cell_type": "markdown",
   "metadata": {},
   "source": [
    "## Numeric Outcome"
   ]
  },
  {
   "cell_type": "code",
   "execution_count": 21,
   "metadata": {},
   "outputs": [],
   "source": [
    "admissions = pd.read_csv(\"../data/admission.csv\")"
   ]
  },
  {
   "cell_type": "code",
   "execution_count": 26,
   "metadata": {},
   "outputs": [
    {
     "name": "stdout",
     "output_type": "stream",
     "text": [
      "      fun: 497.4619917221318\n",
      " hess_inv: array([[117.62970787]])\n",
      "      jac: array([3.81469727e-06])\n",
      "  message: 'Optimization terminated successfully.'\n",
      "     nfev: 12\n",
      "      nit: 3\n",
      "     njev: 6\n",
      "   status: 0\n",
      "  success: True\n",
      "        x: array([488.44782756])\n"
     ]
    }
   ],
   "source": [
    "def LLnorm(mean1, standdev):\n",
    "    p = scipy.stats.norm.pdf(x = admissions.GMAT, loc = mean1, scale = standdev)\n",
    "    LL = np.sum(np.log(p))\n",
    "    return(-1*LL)\n",
    "res1 = scipy.optimize.minimize(LLnorm, x0 = 500, args = (100,))\n",
    "print(res1)"
   ]
  },
  {
   "cell_type": "markdown",
   "metadata": {},
   "source": [
    "## Binary Outcome"
   ]
  },
  {
   "cell_type": "markdown",
   "metadata": {},
   "source": [
    "Important Notice: We need to add a constraint that limits the values of the variables to be between 0 and 1 corresponding to the probabilities. Otherwise we get an error from the log function for negative values."
   ]
  },
  {
   "cell_type": "code",
   "execution_count": 36,
   "metadata": {},
   "outputs": [
    {
     "name": "stdout",
     "output_type": "stream",
     "text": [
      "     fun: 55.76661494816657\n",
      "     jac: array([0.])\n",
      " message: 'Positive directional derivative for linesearch'\n",
      "    nfev: 207\n",
      "     nit: 27\n",
      "    njev: 23\n",
      "  status: 8\n",
      " success: False\n",
      "       x: array([0.36470587])\n"
     ]
    },
    {
     "name": "stderr",
     "output_type": "stream",
     "text": [
      "C:\\Users\\stefan\\AppData\\Local\\Temp/ipykernel_20540/3305734102.py:3: RuntimeWarning: invalid value encountered in log\n",
      "  LL = np.sum(np.log(p))\n"
     ]
    }
   ],
   "source": [
    "def LLbinary(pi):\n",
    "    p = np.where(admissions.De == \"admit\", pi, 1 - pi)\n",
    "    LL = np.sum(np.log(p))\n",
    "    return(-1*LL)\n",
    "constraint = ({'type': 'eq', 'fun': lambda x: x[0]+(1-x[0])})\n",
    "res1 = scipy.optimize.minimize(LLbinary, x0 = .5, constraints=constraint)\n",
    "print(res1)\n"
   ]
  },
  {
   "cell_type": "code",
   "execution_count": 40,
   "metadata": {},
   "outputs": [
    {
     "data": {
      "text/plain": [
       "nan"
      ]
     },
     "execution_count": 40,
     "metadata": {},
     "output_type": "execute_result"
    }
   ],
   "source": [
    "# R:\n",
    "#dpois(3,lambda = -10)\n",
    "# Python:\n",
    "scipy.stats.poisson.pmf(k = 3, mu = -10)"
   ]
  },
  {
   "cell_type": "code",
   "execution_count": null,
   "metadata": {},
   "outputs": [],
   "source": []
  }
 ],
 "metadata": {
  "interpreter": {
   "hash": "4e1d444b270bec56bb770703623aaae73b0d2100263d694401d1f160aa2b76ad"
  },
  "kernelspec": {
   "display_name": "Python 3.9.7 ('book')",
   "language": "python",
   "name": "python3"
  },
  "language_info": {
   "codemirror_mode": {
    "name": "ipython",
    "version": 3
   },
   "file_extension": ".py",
   "mimetype": "text/x-python",
   "name": "python",
   "nbconvert_exporter": "python",
   "pygments_lexer": "ipython3",
   "version": "3.9.7"
  }
 },
 "nbformat": 4,
 "nbformat_minor": 4
}
