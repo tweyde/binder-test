{
 "cells": [
  {
   "cell_type": "code",
   "execution_count": 1,
   "id": "17dff316",
   "metadata": {},
   "outputs": [],
   "source": [
    "import pandas as pd\n",
    "import numpy as np\n"
   ]
  },
  {
   "cell_type": "code",
   "execution_count": 2,
   "id": "97800ea5",
   "metadata": {},
   "outputs": [
    {
     "data": {
      "text/html": [
       "<div>\n",
       "<style scoped>\n",
       "    .dataframe tbody tr th:only-of-type {\n",
       "        vertical-align: middle;\n",
       "    }\n",
       "\n",
       "    .dataframe tbody tr th {\n",
       "        vertical-align: top;\n",
       "    }\n",
       "\n",
       "    .dataframe thead th {\n",
       "        text-align: right;\n",
       "    }\n",
       "</style>\n",
       "<table border=\"1\" class=\"dataframe\">\n",
       "  <thead>\n",
       "    <tr style=\"text-align: right;\">\n",
       "      <th></th>\n",
       "      <th>ofp</th>\n",
       "      <th>ofnp</th>\n",
       "      <th>opp</th>\n",
       "      <th>opnp</th>\n",
       "      <th>emr</th>\n",
       "      <th>hosp</th>\n",
       "      <th>exclhlth</th>\n",
       "      <th>poorhlth</th>\n",
       "      <th>numchron</th>\n",
       "      <th>adldiff</th>\n",
       "      <th>...</th>\n",
       "      <th>west</th>\n",
       "      <th>age</th>\n",
       "      <th>black</th>\n",
       "      <th>male</th>\n",
       "      <th>married</th>\n",
       "      <th>school</th>\n",
       "      <th>faminc</th>\n",
       "      <th>employed</th>\n",
       "      <th>privins</th>\n",
       "      <th>medicaid</th>\n",
       "    </tr>\n",
       "  </thead>\n",
       "  <tbody>\n",
       "    <tr>\n",
       "      <th>0</th>\n",
       "      <td>5</td>\n",
       "      <td>0</td>\n",
       "      <td>0</td>\n",
       "      <td>0</td>\n",
       "      <td>0</td>\n",
       "      <td>1</td>\n",
       "      <td>0</td>\n",
       "      <td>0</td>\n",
       "      <td>2</td>\n",
       "      <td>0</td>\n",
       "      <td>...</td>\n",
       "      <td>0</td>\n",
       "      <td>6.9</td>\n",
       "      <td>1</td>\n",
       "      <td>1</td>\n",
       "      <td>1</td>\n",
       "      <td>6</td>\n",
       "      <td>2.8810</td>\n",
       "      <td>1</td>\n",
       "      <td>1</td>\n",
       "      <td>0</td>\n",
       "    </tr>\n",
       "    <tr>\n",
       "      <th>1</th>\n",
       "      <td>1</td>\n",
       "      <td>0</td>\n",
       "      <td>2</td>\n",
       "      <td>0</td>\n",
       "      <td>2</td>\n",
       "      <td>0</td>\n",
       "      <td>0</td>\n",
       "      <td>0</td>\n",
       "      <td>2</td>\n",
       "      <td>0</td>\n",
       "      <td>...</td>\n",
       "      <td>0</td>\n",
       "      <td>7.4</td>\n",
       "      <td>0</td>\n",
       "      <td>0</td>\n",
       "      <td>1</td>\n",
       "      <td>10</td>\n",
       "      <td>2.7478</td>\n",
       "      <td>0</td>\n",
       "      <td>1</td>\n",
       "      <td>0</td>\n",
       "    </tr>\n",
       "    <tr>\n",
       "      <th>2</th>\n",
       "      <td>13</td>\n",
       "      <td>0</td>\n",
       "      <td>0</td>\n",
       "      <td>0</td>\n",
       "      <td>3</td>\n",
       "      <td>3</td>\n",
       "      <td>0</td>\n",
       "      <td>1</td>\n",
       "      <td>4</td>\n",
       "      <td>1</td>\n",
       "      <td>...</td>\n",
       "      <td>0</td>\n",
       "      <td>6.6</td>\n",
       "      <td>1</td>\n",
       "      <td>0</td>\n",
       "      <td>0</td>\n",
       "      <td>10</td>\n",
       "      <td>0.6532</td>\n",
       "      <td>0</td>\n",
       "      <td>0</td>\n",
       "      <td>1</td>\n",
       "    </tr>\n",
       "    <tr>\n",
       "      <th>3</th>\n",
       "      <td>16</td>\n",
       "      <td>0</td>\n",
       "      <td>5</td>\n",
       "      <td>0</td>\n",
       "      <td>1</td>\n",
       "      <td>1</td>\n",
       "      <td>0</td>\n",
       "      <td>1</td>\n",
       "      <td>2</td>\n",
       "      <td>1</td>\n",
       "      <td>...</td>\n",
       "      <td>0</td>\n",
       "      <td>7.6</td>\n",
       "      <td>0</td>\n",
       "      <td>1</td>\n",
       "      <td>1</td>\n",
       "      <td>3</td>\n",
       "      <td>0.6588</td>\n",
       "      <td>0</td>\n",
       "      <td>1</td>\n",
       "      <td>0</td>\n",
       "    </tr>\n",
       "    <tr>\n",
       "      <th>4</th>\n",
       "      <td>3</td>\n",
       "      <td>0</td>\n",
       "      <td>0</td>\n",
       "      <td>0</td>\n",
       "      <td>0</td>\n",
       "      <td>0</td>\n",
       "      <td>0</td>\n",
       "      <td>0</td>\n",
       "      <td>2</td>\n",
       "      <td>1</td>\n",
       "      <td>...</td>\n",
       "      <td>0</td>\n",
       "      <td>7.9</td>\n",
       "      <td>0</td>\n",
       "      <td>0</td>\n",
       "      <td>1</td>\n",
       "      <td>6</td>\n",
       "      <td>0.6588</td>\n",
       "      <td>0</td>\n",
       "      <td>1</td>\n",
       "      <td>0</td>\n",
       "    </tr>\n",
       "  </tbody>\n",
       "</table>\n",
       "<p>5 rows × 22 columns</p>\n",
       "</div>"
      ],
      "text/plain": [
       "   ofp  ofnp  opp  opnp  emr  hosp  exclhlth  poorhlth  numchron  adldiff  \\\n",
       "0    5     0    0     0    0     1         0         0         2        0   \n",
       "1    1     0    2     0    2     0         0         0         2        0   \n",
       "2   13     0    0     0    3     3         0         1         4        1   \n",
       "3   16     0    5     0    1     1         0         1         2        1   \n",
       "4    3     0    0     0    0     0         0         0         2        1   \n",
       "\n",
       "   ...  west  age  black  male  married  school  faminc  employed  privins  \\\n",
       "0  ...     0  6.9      1     1        1       6  2.8810         1        1   \n",
       "1  ...     0  7.4      0     0        1      10  2.7478         0        1   \n",
       "2  ...     0  6.6      1     0        0      10  0.6532         0        0   \n",
       "3  ...     0  7.6      0     1        1       3  0.6588         0        1   \n",
       "4  ...     0  7.9      0     0        1       6  0.6588         0        1   \n",
       "\n",
       "   medicaid  \n",
       "0         0  \n",
       "1         0  \n",
       "2         1  \n",
       "3         0  \n",
       "4         0  \n",
       "\n",
       "[5 rows x 22 columns]"
      ]
     },
     "execution_count": 2,
     "metadata": {},
     "output_type": "execute_result"
    }
   ],
   "source": [
    "#Transactions.csv moved into the folder for consistency in file input. Edit the file path as needed.\n",
    "health = pd.read_csv(\"Health.csv\")\n",
    "health.head(5)"
   ]
  },
  {
   "cell_type": "markdown",
   "id": "ef5eb130",
   "metadata": {},
   "source": [
    "Exercise 1\n",
    "1. Consider the Health.csv file. Conduct the following tests on the variable ofp (which captures the number of office visits by patients).  \n",
    "\n",
    "a. Number of office visits is less than or equal to 5 \n",
    "\n",
    "b. Number of office visits is more than or equal to 6 \n",
    "\n",
    "c. Number of office visits is 5.5 "
   ]
  },
  {
   "cell_type": "code",
   "execution_count": 10,
   "id": "debc58e7",
   "metadata": {},
   "outputs": [],
   "source": [
    "#a. number of office visits is less than or equal to 5\n",
    "lessthan5 = health[health.ofp<=5].shape[0]"
   ]
  },
  {
   "cell_type": "code",
   "execution_count": 11,
   "id": "60ed95bf",
   "metadata": {},
   "outputs": [
    {
     "name": "stdout",
     "output_type": "stream",
     "text": [
      "2733\n"
     ]
    }
   ],
   "source": [
    "print(lessthan5)"
   ]
  },
  {
   "cell_type": "code",
   "execution_count": 12,
   "id": "2cb489fc",
   "metadata": {},
   "outputs": [
    {
     "name": "stdout",
     "output_type": "stream",
     "text": [
      "2011\n"
     ]
    }
   ],
   "source": [
    "#b. number of office visits is more than or equal to 5\n",
    "morethan5 = health[health.ofp>=5].shape[0]\n",
    "print(morethan5)"
   ]
  },
  {
   "cell_type": "code",
   "execution_count": 14,
   "id": "df7860a5",
   "metadata": {},
   "outputs": [
    {
     "name": "stdout",
     "output_type": "stream",
     "text": [
      "0\n"
     ]
    }
   ],
   "source": [
    "#c. Number of office visits is 5.5\n",
    "nodecimalvisits = health[health.ofp==5.5].shape[0]\n",
    "print(nodecimalvisits)"
   ]
  },
  {
   "cell_type": "markdown",
   "id": "42b69ac1",
   "metadata": {},
   "source": [
    "2. Construct the 95% confidence interval for the average faminc (family income). What conclusion can you draw from it? "
   ]
  },
  {
   "cell_type": "code",
   "execution_count": 15,
   "id": "7a7403b4",
   "metadata": {},
   "outputs": [
    {
     "name": "stdout",
     "output_type": "stream",
     "text": [
      "[0.384,9.280662500000002]\n"
     ]
    }
   ],
   "source": [
    "q1 = np.quantile(health.faminc, [.05/2, 1-(.05/2)])\n",
    "confidence_interval = \"[\" + str(q1[0]) + \",\" + str(q1[1]) + \"]\" \n",
    "print(confidence_interval)"
   ]
  },
  {
   "cell_type": "markdown",
   "id": "d60f63c1",
   "metadata": {},
   "source": [
    "Confidence interval has a very large range, which means that the average family income of the sample is very widely distributed (large income gap)"
   ]
  },
  {
   "cell_type": "markdown",
   "id": "a81a76ae",
   "metadata": {},
   "source": [
    "3. Repeat problem 2, but this time compute the confidence interval for median family income. "
   ]
  },
  {
   "cell_type": "code",
   "execution_count": 22,
   "id": "a4fb6cab",
   "metadata": {},
   "outputs": [
    {
     "name": "stdout",
     "output_type": "stream",
     "text": [
      "median for verification\n",
      "1.69815\n"
     ]
    },
    {
     "data": {
      "text/plain": [
       "(1.6117688983372855, 1.7845311016627146)"
      ]
     },
     "execution_count": 22,
     "metadata": {},
     "output_type": "execute_result"
    }
   ],
   "source": [
    "import scipy.stats as st\n",
    "\n",
    "print(\"median for verification\")\n",
    "print(np.median(health.faminc))\n",
    "st.t.interval(alpha=0.95, df=len(health.faminc)-1, loc=np.median(health.faminc), scale=st.sem(health.faminc)) "
   ]
  },
  {
   "cell_type": "markdown",
   "id": "8898e0c1",
   "metadata": {},
   "source": [
    "4. Compute the 90% confidence interval for median age in the data. "
   ]
  },
  {
   "cell_type": "code",
   "execution_count": 23,
   "id": "6ee5aca4",
   "metadata": {},
   "outputs": [
    {
     "name": "stdout",
     "output_type": "stream",
     "text": [
      "median for verification\n",
      "7.3\n"
     ]
    },
    {
     "data": {
      "text/plain": [
       "(7.284300787787581, 7.315699212212419)"
      ]
     },
     "execution_count": 23,
     "metadata": {},
     "output_type": "execute_result"
    }
   ],
   "source": [
    "print(\"median for verification\")\n",
    "print(np.median(health.age))\n",
    "st.t.interval(alpha=0.90, df=len(health.age)-1, loc=np.median(health.age), scale=st.sem(health.age)) \n"
   ]
  },
  {
   "cell_type": "code",
   "execution_count": null,
   "id": "7ab71bec",
   "metadata": {},
   "outputs": [],
   "source": []
  }
 ],
 "metadata": {
  "kernelspec": {
   "display_name": "Python 3 (ipykernel)",
   "language": "python",
   "name": "python3"
  },
  "language_info": {
   "codemirror_mode": {
    "name": "ipython",
    "version": 3
   },
   "file_extension": ".py",
   "mimetype": "text/x-python",
   "name": "python",
   "nbconvert_exporter": "python",
   "pygments_lexer": "ipython3",
   "version": "3.8.5"
  }
 },
 "nbformat": 4,
 "nbformat_minor": 5
}
