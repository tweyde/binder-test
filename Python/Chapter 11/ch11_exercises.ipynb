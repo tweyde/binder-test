{
 "cells": [
  {
   "cell_type": "markdown",
   "id": "dd50f171",
   "metadata": {},
   "source": [
    "# Chapter 11 : Fundamentals of Estimation\n"
   ]
  },
  {
   "cell_type": "code",
   "execution_count": 1,
   "id": "81ac8428",
   "metadata": {},
   "outputs": [],
   "source": [
    "import pandas as pd\n",
    "import numpy as np\n",
    "import seaborn as sns\n",
    "import matplotlib.pyplot as plt"
   ]
  },
  {
   "cell_type": "code",
   "execution_count": 2,
   "id": "537b8cf6",
   "metadata": {},
   "outputs": [],
   "source": [
    "# Helper functions imported from textbook\n",
    "def p_rtail(sampdist,tstat): \n",
    "    points = sns.kdeplot(sampdist).get_lines()[0].get_data() # get x and y values from plot \n",
    "    x = points[0] \n",
    "    y = points[1] \n",
    "    plt.fill_between(x,y, where = x > tstat, color='r') \n",
    "    plt.fill_between(x,y, where = x <= tstat, color='g') \n",
    "    plt.show() \n",
    "    pvalue = np.sum(sampdist < tstat) / len(sampdist) \n",
    "    return pvalue \n",
    "\n",
    "def p_ltail(sampdist,tstat): \n",
    "    points = sns.kdeplot(sampdist).get_lines()[0].get_data() \n",
    "    x = points[0] \n",
    "    y = points[1] \n",
    "    plt.fill_between(x,y, where = x < tstat, color='r') \n",
    "    plt.fill_between(x,y, where = x >= tstat, color='g') \n",
    "    plt.show() \n",
    "    pvalue = np.sum(sampdist > tstat) / len(sampdist) \n",
    "\n",
    "    return pvalue \n",
    "\n",
    "def p_2tail(sampdist,tstat):\n",
    "    points = sns.kdeplot(sampdist).get_lines()[0].get_data() \n",
    "    hyp = np.mean(sampdist) \n",
    "    cutoff1 = hyp - np.abs(hyp - tstat) \n",
    "    cutoff2 = hyp + np.abs(hyp - tstat) \n",
    "    x = points[0] \n",
    "    y = points[1] \n",
    "    plt.fill_between(x,y, where = (x < cutoff1) | (x > cutoff2), color='r') \n",
    "    plt.fill_between(x,y, where = (x >= cutoff1) & (x <= cutoff2), color='g') \n",
    "    plt.show() \n",
    "    pvalue = np.sum((sampdist < cutoff1) | (sampdist > cutoff2)) / len(sampdist) \n",
    "    return pvalue "
   ]
  },
  {
   "cell_type": "code",
   "execution_count": 3,
   "id": "25559111",
   "metadata": {},
   "outputs": [
    {
     "data": {
      "text/html": [
       "<div>\n",
       "<style scoped>\n",
       "    .dataframe tbody tr th:only-of-type {\n",
       "        vertical-align: middle;\n",
       "    }\n",
       "\n",
       "    .dataframe tbody tr th {\n",
       "        vertical-align: top;\n",
       "    }\n",
       "\n",
       "    .dataframe thead th {\n",
       "        text-align: right;\n",
       "    }\n",
       "</style>\n",
       "<table border=\"1\" class=\"dataframe\">\n",
       "  <thead>\n",
       "    <tr style=\"text-align: right;\">\n",
       "      <th></th>\n",
       "      <th>Pregnancies</th>\n",
       "      <th>Glucose</th>\n",
       "      <th>BloodPressure</th>\n",
       "      <th>SkinThickness</th>\n",
       "      <th>Insulin</th>\n",
       "      <th>BMI</th>\n",
       "      <th>DiabetesPedigreeFunction</th>\n",
       "      <th>Age</th>\n",
       "      <th>Outcome</th>\n",
       "    </tr>\n",
       "  </thead>\n",
       "  <tbody>\n",
       "    <tr>\n",
       "      <th>0</th>\n",
       "      <td>6</td>\n",
       "      <td>148</td>\n",
       "      <td>72</td>\n",
       "      <td>35</td>\n",
       "      <td>0</td>\n",
       "      <td>33.6</td>\n",
       "      <td>0.627</td>\n",
       "      <td>50</td>\n",
       "      <td>1</td>\n",
       "    </tr>\n",
       "    <tr>\n",
       "      <th>1</th>\n",
       "      <td>1</td>\n",
       "      <td>85</td>\n",
       "      <td>66</td>\n",
       "      <td>29</td>\n",
       "      <td>0</td>\n",
       "      <td>26.6</td>\n",
       "      <td>0.351</td>\n",
       "      <td>31</td>\n",
       "      <td>0</td>\n",
       "    </tr>\n",
       "    <tr>\n",
       "      <th>2</th>\n",
       "      <td>8</td>\n",
       "      <td>183</td>\n",
       "      <td>64</td>\n",
       "      <td>0</td>\n",
       "      <td>0</td>\n",
       "      <td>23.3</td>\n",
       "      <td>0.672</td>\n",
       "      <td>32</td>\n",
       "      <td>1</td>\n",
       "    </tr>\n",
       "    <tr>\n",
       "      <th>3</th>\n",
       "      <td>1</td>\n",
       "      <td>89</td>\n",
       "      <td>66</td>\n",
       "      <td>23</td>\n",
       "      <td>94</td>\n",
       "      <td>28.1</td>\n",
       "      <td>0.167</td>\n",
       "      <td>21</td>\n",
       "      <td>0</td>\n",
       "    </tr>\n",
       "    <tr>\n",
       "      <th>4</th>\n",
       "      <td>0</td>\n",
       "      <td>137</td>\n",
       "      <td>40</td>\n",
       "      <td>35</td>\n",
       "      <td>168</td>\n",
       "      <td>43.1</td>\n",
       "      <td>2.288</td>\n",
       "      <td>33</td>\n",
       "      <td>1</td>\n",
       "    </tr>\n",
       "  </tbody>\n",
       "</table>\n",
       "</div>"
      ],
      "text/plain": [
       "   Pregnancies  Glucose  BloodPressure  SkinThickness  Insulin   BMI  \\\n",
       "0            6      148             72             35        0  33.6   \n",
       "1            1       85             66             29        0  26.6   \n",
       "2            8      183             64              0        0  23.3   \n",
       "3            1       89             66             23       94  28.1   \n",
       "4            0      137             40             35      168  43.1   \n",
       "\n",
       "   DiabetesPedigreeFunction  Age  Outcome  \n",
       "0                     0.627   50        1  \n",
       "1                     0.351   31        0  \n",
       "2                     0.672   32        1  \n",
       "3                     0.167   21        0  \n",
       "4                     2.288   33        1  "
      ]
     },
     "execution_count": 3,
     "metadata": {},
     "output_type": "execute_result"
    }
   ],
   "source": [
    "#diabetes csv imported into the directory.\n",
    "diabetes = pd.read_csv(\"diabetes.csv\")\n",
    "diabetes.head(5)"
   ]
  },
  {
   "cell_type": "markdown",
   "id": "7b7b1565",
   "metadata": {},
   "source": [
    "1. Assuming that the variable Pregnancies follows a Poisson distribution, obtain the maximum likelihood estimate of the mean of the distribution.  "
   ]
  },
  {
   "cell_type": "code",
   "execution_count": 4,
   "id": "ea5acadf",
   "metadata": {},
   "outputs": [
    {
     "name": "stdout",
     "output_type": "stream",
     "text": [
      "3.8450520833333335\n",
      "<class 'pandas.core.series.Series'>\n",
      "(768, 9)\n"
     ]
    }
   ],
   "source": [
    "#mean\n",
    "print(diabetes.Pregnancies.mean())\n",
    "print(type(diabetes.Pregnancies))\n",
    "print(diabetes.shape)"
   ]
  },
  {
   "cell_type": "code",
   "execution_count": 5,
   "id": "f0abecd5",
   "metadata": {},
   "outputs": [
    {
     "name": "stdout",
     "output_type": "stream",
     "text": [
      "2.833267093210059e-251\n"
     ]
    }
   ],
   "source": [
    "from scipy.stats import poisson\n",
    "x= diabetes.Pregnancies.sample(n=200).to_numpy()\n",
    "#print(x)\n",
    "lam = 4\n",
    "\n",
    "#since there is no decimal pregnancies, we will round it up to 4\n",
    "\n",
    "p = poisson.pmf(k = x, mu = lam) \n",
    "\n",
    "L = np.prod(p) \n",
    "\n",
    "print(L) "
   ]
  },
  {
   "cell_type": "markdown",
   "id": "71ea9222",
   "metadata": {},
   "source": [
    "2. What is the 95% confidence interval for the parameter? "
   ]
  },
  {
   "cell_type": "code",
   "execution_count": 6,
   "id": "321a2e1d",
   "metadata": {},
   "outputs": [
    {
     "data": {
      "image/png": "[encoded data removed]",
      "text/plain": [
       "<Figure size 432x288 with 1 Axes>"
      ]
     },
     "metadata": {
      "needs_background": "light"
     },
     "output_type": "display_data"
    }
   ],
   "source": [
    "np.random.seed(987654321) \n",
    "\n",
    "paramdist = [diabetes['Pregnancies'].sample(n=len(diabetes), replace=True).mean() for _ in range(10000)]\n",
    "sns.kdeplot(paramdist) \n",
    "\n",
    "plt.show() "
   ]
  },
  {
   "cell_type": "code",
   "execution_count": 7,
   "id": "11db5ec9",
   "metadata": {},
   "outputs": [
    {
     "data": {
      "image/png": "[encoded data removed]",
      "text/plain": [
       "<Figure size 432x288 with 1 Axes>"
      ]
     },
     "metadata": {
      "needs_background": "light"
     },
     "output_type": "display_data"
    },
    {
     "name": "stdout",
     "output_type": "stream",
     "text": [
      "95% Confidence Interval = [3.61, 4.08]\n"
     ]
    }
   ],
   "source": [
    "q1 = np.percentile(paramdist, 0.05/2 * 100) \n",
    "\n",
    "q2 = np.percentile(paramdist, (1-(0.05/2)) * 100) \n",
    "\n",
    "sns.kdeplot(paramdist) \n",
    "\n",
    "plt.axvline(q1, color='r', linestyle='-') \n",
    "\n",
    "plt.axvline(q2, color='r', linestyle='-') \n",
    "\n",
    "plt.show() \n",
    "\n",
    "print(\"95% Confidence Interval = [{:.2f}, {:.2f}]\".format(q1,q2)) "
   ]
  },
  {
   "cell_type": "markdown",
   "id": "5ec14357",
   "metadata": {},
   "source": [
    "3. Assuming that the variable BMI follows a normal distribution, obtain the maximum likelihood estimate of the mean and the standard deviation.  "
   ]
  },
  {
   "cell_type": "code",
   "execution_count": 8,
   "id": "09c0e203",
   "metadata": {},
   "outputs": [
    {
     "name": "stdout",
     "output_type": "stream",
     "text": [
      "8\n",
      "0.0\n"
     ]
    }
   ],
   "source": [
    "x= diabetes.BMI.sample(n=200).to_numpy()\n",
    "#print(x)\n",
    "lam = round(diabetes.BMI.std())\n",
    "print(lam)\n",
    "\n",
    "#since there is no decimal pregnancies, we will round it up to 4\n",
    "\n",
    "p = poisson.pmf(k = x, mu = lam) \n",
    "\n",
    "L = np.prod(p) \n",
    "\n",
    "print(L) "
   ]
  },
  {
   "cell_type": "code",
   "execution_count": 9,
   "id": "113cd5cb",
   "metadata": {},
   "outputs": [
    {
     "data": {
      "text/plain": [
       "7.8841603203754405"
      ]
     },
     "execution_count": 9,
     "metadata": {},
     "output_type": "execute_result"
    }
   ],
   "source": [
    "diabetes.BMI.std()"
   ]
  },
  {
   "cell_type": "code",
   "execution_count": 10,
   "id": "bed17108",
   "metadata": {},
   "outputs": [
    {
     "name": "stdout",
     "output_type": "stream",
     "text": [
      "32\n",
      "0.0\n"
     ]
    }
   ],
   "source": [
    "x= diabetes.BMI.sample(n=100).to_numpy()\n",
    "#print(x)\n",
    "lam = round(diabetes.BMI.mean())\n",
    "print(lam)\n",
    "\n",
    "#since there is no decimal pregnancies, we will round it up to 4\n",
    "\n",
    "p = poisson.pmf(k = x, mu = lam) \n",
    "\n",
    "L = np.prod(p) \n",
    "\n",
    "print(L) "
   ]
  },
  {
   "cell_type": "code",
   "execution_count": 11,
   "id": "add13776",
   "metadata": {},
   "outputs": [
    {
     "data": {
      "image/png": "[encoded data removed]",
      "text/plain": [
       "<Figure size 432x288 with 1 Axes>"
      ]
     },
     "metadata": {
      "needs_background": "light"
     },
     "output_type": "display_data"
    },
    {
     "data": {
      "image/png": "[encoded data removed]",
      "text/plain": [
       "<Figure size 432x288 with 1 Axes>"
      ]
     },
     "metadata": {
      "needs_background": "light"
     },
     "output_type": "display_data"
    },
    {
     "name": "stdout",
     "output_type": "stream",
     "text": [
      "95% Confidence Interval = [31.44, 32.54]\n"
     ]
    }
   ],
   "source": [
    "np.random.seed(987654321) \n",
    "\n",
    "paramdist = [diabetes['BMI'].sample(n=len(diabetes), replace=True).mean() for _ in range(10000)]\n",
    "sns.kdeplot(paramdist) \n",
    "\n",
    "plt.show() \n",
    "\n",
    "q1 = np.percentile(paramdist, 0.05/2 * 100) \n",
    "\n",
    "q2 = np.percentile(paramdist, (1-(0.05/2)) * 100) \n",
    "\n",
    "sns.kdeplot(paramdist) \n",
    "\n",
    "plt.axvline(q1, color='r', linestyle='-') \n",
    "\n",
    "plt.axvline(q2, color='r', linestyle='-') \n",
    "\n",
    "plt.show() \n",
    "\n",
    "print(\"95% Confidence Interval = [{:.2f}, {:.2f}]\".format(q1,q2)) "
   ]
  },
  {
   "cell_type": "markdown",
   "id": "417d9cb4",
   "metadata": {},
   "source": [
    "5. Using the maximum likelihood approach estimate the population parameter for the binary variable Outcome.   "
   ]
  },
  {
   "cell_type": "code",
   "execution_count": 12,
   "id": "e65973cb",
   "metadata": {},
   "outputs": [
    {
     "name": "stdout",
     "output_type": "stream",
     "text": [
      " final_simplex: (array([[0.34892578],\n",
      "       [0.34902344]]), array([496.74195686, 496.74196223]))\n",
      "           fun: 496.7419568605032\n",
      "       message: 'Optimization terminated successfully.'\n",
      "          nfev: 26\n",
      "           nit: 13\n",
      "        status: 0\n",
      "       success: True\n",
      "             x: array([0.34892578])\n"
     ]
    },
    {
     "name": "stderr",
     "output_type": "stream",
     "text": [
      "C:\\Users\\jwyan\\anaconda3\\lib\\site-packages\\scipy\\optimize\\_minimize.py:535: RuntimeWarning: Method Nelder-Mead cannot handle constraints nor bounds.\n",
      "  warn('Method %s cannot handle constraints nor bounds.' % method,\n"
     ]
    }
   ],
   "source": [
    "import scipy\n",
    "\n",
    "def LLbinary(pi): \n",
    "    p = np.where(diabetes.Outcome == 1, pi, 1 - pi) \n",
    "    LL = np.sum(np.log(p)) \n",
    "    return(-1*LL) \n",
    "\n",
    "constraint = ({'type': 'eq', 'fun': lambda x: x[0]+(1-x[0])}) \n",
    "\n",
    "res1 = scipy.optimize.minimize(LLbinary, x0 = .5, constraints=constraint, method='Nelder-Mead') \n",
    "\n",
    "print(res1) "
   ]
  },
  {
   "cell_type": "code",
   "execution_count": null,
   "id": "dd43a04f",
   "metadata": {},
   "outputs": [],
   "source": []
  }
 ],
 "metadata": {
  "kernelspec": {
   "display_name": "Python 3 (ipykernel)",
   "language": "python",
   "name": "python3"
  },
  "language_info": {
   "codemirror_mode": {
    "name": "ipython",
    "version": 3
   },
   "file_extension": ".py",
   "mimetype": "text/x-python",
   "name": "python",
   "nbconvert_exporter": "python",
   "pygments_lexer": "ipython3",
   "version": "3.8.5"
  }
 },
 "nbformat": 4,
 "nbformat_minor": 5
}
