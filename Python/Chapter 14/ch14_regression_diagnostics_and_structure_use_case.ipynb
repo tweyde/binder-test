{
 "cells": [
  {
   "cell_type": "markdown",
   "id": "ead55c37",
   "metadata": {},
   "source": [
    "# Chapter 14: Regression Diagnostics and Structure \n",
    "# Use Case: Profit Forecasting, Steps for a Safety-first Linear Regression \n",
    "# =======================\n",
    "Dataset: https://www.kaggle.com/datasets/farhanmd29/50-startups"
   ]
  },
  {
   "cell_type": "markdown",
   "id": "98d9dbaf",
   "metadata": {},
   "source": [
    "First we load the packages we will use"
   ]
  },
  {
   "cell_type": "code",
   "execution_count": 10,
   "id": "089a3be5",
   "metadata": {},
   "outputs": [],
   "source": [
    "# package for working with tabular data\n",
    "import pandas as pd \n",
    "import numpy as np\n",
    "\n",
    "# Package for charting\n",
    "import matplotlib.pyplot as plt\n",
    "import seaborn as sns #charts\n",
    "\n",
    "# package for timing runtime\n",
    "import time\n",
    "\n",
    "# package for navigating the operating system\n",
    "import os"
   ]
  },
  {
   "cell_type": "markdown",
   "id": "9f71c19f",
   "metadata": {},
   "source": [
    "Load in CSV data: Let us start by loading all the data"
   ]
  },
  {
   "cell_type": "code",
   "execution_count": 11,
   "id": "1977c8b2",
   "metadata": {},
   "outputs": [
    {
     "data": {
      "text/html": [
       "<div>\n",
       "<style scoped>\n",
       "    .dataframe tbody tr th:only-of-type {\n",
       "        vertical-align: middle;\n",
       "    }\n",
       "\n",
       "    .dataframe tbody tr th {\n",
       "        vertical-align: top;\n",
       "    }\n",
       "\n",
       "    .dataframe thead th {\n",
       "        text-align: right;\n",
       "    }\n",
       "</style>\n",
       "<table border=\"1\" class=\"dataframe\">\n",
       "  <thead>\n",
       "    <tr style=\"text-align: right;\">\n",
       "      <th></th>\n",
       "      <th>R&amp;D Spend</th>\n",
       "      <th>Administration</th>\n",
       "      <th>Marketing Spend</th>\n",
       "      <th>State</th>\n",
       "      <th>Profit</th>\n",
       "    </tr>\n",
       "  </thead>\n",
       "  <tbody>\n",
       "    <tr>\n",
       "      <th>0</th>\n",
       "      <td>165349.20</td>\n",
       "      <td>136897.80</td>\n",
       "      <td>471784.10</td>\n",
       "      <td>New York</td>\n",
       "      <td>192261.83</td>\n",
       "    </tr>\n",
       "    <tr>\n",
       "      <th>1</th>\n",
       "      <td>162597.70</td>\n",
       "      <td>151377.59</td>\n",
       "      <td>443898.53</td>\n",
       "      <td>California</td>\n",
       "      <td>191792.06</td>\n",
       "    </tr>\n",
       "    <tr>\n",
       "      <th>2</th>\n",
       "      <td>153441.51</td>\n",
       "      <td>101145.55</td>\n",
       "      <td>407934.54</td>\n",
       "      <td>Florida</td>\n",
       "      <td>191050.39</td>\n",
       "    </tr>\n",
       "    <tr>\n",
       "      <th>3</th>\n",
       "      <td>144372.41</td>\n",
       "      <td>118671.85</td>\n",
       "      <td>383199.62</td>\n",
       "      <td>New York</td>\n",
       "      <td>182901.99</td>\n",
       "    </tr>\n",
       "    <tr>\n",
       "      <th>4</th>\n",
       "      <td>142107.34</td>\n",
       "      <td>91391.77</td>\n",
       "      <td>366168.42</td>\n",
       "      <td>Florida</td>\n",
       "      <td>166187.94</td>\n",
       "    </tr>\n",
       "  </tbody>\n",
       "</table>\n",
       "</div>"
      ],
      "text/plain": [
       "   R&D Spend  Administration  Marketing Spend       State     Profit\n",
       "0  165349.20       136897.80        471784.10    New York  192261.83\n",
       "1  162597.70       151377.59        443898.53  California  191792.06\n",
       "2  153441.51       101145.55        407934.54     Florida  191050.39\n",
       "3  144372.41       118671.85        383199.62    New York  182901.99\n",
       "4  142107.34        91391.77        366168.42     Florida  166187.94"
      ]
     },
     "execution_count": 11,
     "metadata": {},
     "output_type": "execute_result"
    }
   ],
   "source": [
    "# deal with datetime in the csv...\n",
    "mydateparser = lambda x: pd.datetime.strptime(x, 'm%/d%/y%')\n",
    "# Upload\n",
    "df = pd.read_csv(\"../data/50_Startups.csv\", header=0) # Note that we are loading in the csv not specifying an index, df will have an identity index\n",
    "df.fillna(0)\n",
    "df.head()"
   ]
  },
  {
   "cell_type": "code",
   "execution_count": 12,
   "id": "579602be",
   "metadata": {},
   "outputs": [
    {
     "data": {
      "text/html": [
       "<div>\n",
       "<style scoped>\n",
       "    .dataframe tbody tr th:only-of-type {\n",
       "        vertical-align: middle;\n",
       "    }\n",
       "\n",
       "    .dataframe tbody tr th {\n",
       "        vertical-align: top;\n",
       "    }\n",
       "\n",
       "    .dataframe thead th {\n",
       "        text-align: right;\n",
       "    }\n",
       "</style>\n",
       "<table border=\"1\" class=\"dataframe\">\n",
       "  <thead>\n",
       "    <tr style=\"text-align: right;\">\n",
       "      <th></th>\n",
       "      <th>R&amp;D Spend</th>\n",
       "      <th>Administration</th>\n",
       "      <th>Marketing Spend</th>\n",
       "      <th>State</th>\n",
       "      <th>Profit</th>\n",
       "    </tr>\n",
       "  </thead>\n",
       "  <tbody>\n",
       "    <tr>\n",
       "      <th>0</th>\n",
       "      <td>165349.20</td>\n",
       "      <td>136897.80</td>\n",
       "      <td>471784.10</td>\n",
       "      <td>New York</td>\n",
       "      <td>192261.83</td>\n",
       "    </tr>\n",
       "    <tr>\n",
       "      <th>1</th>\n",
       "      <td>162597.70</td>\n",
       "      <td>151377.59</td>\n",
       "      <td>443898.53</td>\n",
       "      <td>California</td>\n",
       "      <td>191792.06</td>\n",
       "    </tr>\n",
       "    <tr>\n",
       "      <th>2</th>\n",
       "      <td>153441.51</td>\n",
       "      <td>101145.55</td>\n",
       "      <td>407934.54</td>\n",
       "      <td>Florida</td>\n",
       "      <td>191050.39</td>\n",
       "    </tr>\n",
       "    <tr>\n",
       "      <th>3</th>\n",
       "      <td>144372.41</td>\n",
       "      <td>118671.85</td>\n",
       "      <td>383199.62</td>\n",
       "      <td>New York</td>\n",
       "      <td>182901.99</td>\n",
       "    </tr>\n",
       "    <tr>\n",
       "      <th>4</th>\n",
       "      <td>142107.34</td>\n",
       "      <td>91391.77</td>\n",
       "      <td>366168.42</td>\n",
       "      <td>Florida</td>\n",
       "      <td>166187.94</td>\n",
       "    </tr>\n",
       "    <tr>\n",
       "      <th>5</th>\n",
       "      <td>131876.90</td>\n",
       "      <td>99814.71</td>\n",
       "      <td>362861.36</td>\n",
       "      <td>New York</td>\n",
       "      <td>156991.12</td>\n",
       "    </tr>\n",
       "    <tr>\n",
       "      <th>6</th>\n",
       "      <td>134615.46</td>\n",
       "      <td>147198.87</td>\n",
       "      <td>127716.82</td>\n",
       "      <td>California</td>\n",
       "      <td>156122.51</td>\n",
       "    </tr>\n",
       "    <tr>\n",
       "      <th>7</th>\n",
       "      <td>130298.13</td>\n",
       "      <td>145530.06</td>\n",
       "      <td>323876.68</td>\n",
       "      <td>Florida</td>\n",
       "      <td>155752.60</td>\n",
       "    </tr>\n",
       "    <tr>\n",
       "      <th>8</th>\n",
       "      <td>120542.52</td>\n",
       "      <td>148718.95</td>\n",
       "      <td>311613.29</td>\n",
       "      <td>New York</td>\n",
       "      <td>152211.77</td>\n",
       "    </tr>\n",
       "    <tr>\n",
       "      <th>9</th>\n",
       "      <td>123334.88</td>\n",
       "      <td>108679.17</td>\n",
       "      <td>304981.62</td>\n",
       "      <td>California</td>\n",
       "      <td>149759.96</td>\n",
       "    </tr>\n",
       "    <tr>\n",
       "      <th>10</th>\n",
       "      <td>101913.08</td>\n",
       "      <td>110594.11</td>\n",
       "      <td>229160.95</td>\n",
       "      <td>Florida</td>\n",
       "      <td>146121.95</td>\n",
       "    </tr>\n",
       "    <tr>\n",
       "      <th>11</th>\n",
       "      <td>100671.96</td>\n",
       "      <td>91790.61</td>\n",
       "      <td>249744.55</td>\n",
       "      <td>California</td>\n",
       "      <td>144259.40</td>\n",
       "    </tr>\n",
       "    <tr>\n",
       "      <th>12</th>\n",
       "      <td>93863.75</td>\n",
       "      <td>127320.38</td>\n",
       "      <td>249839.44</td>\n",
       "      <td>Florida</td>\n",
       "      <td>141585.52</td>\n",
       "    </tr>\n",
       "    <tr>\n",
       "      <th>13</th>\n",
       "      <td>91992.39</td>\n",
       "      <td>135495.07</td>\n",
       "      <td>252664.93</td>\n",
       "      <td>California</td>\n",
       "      <td>134307.35</td>\n",
       "    </tr>\n",
       "    <tr>\n",
       "      <th>14</th>\n",
       "      <td>119943.24</td>\n",
       "      <td>156547.42</td>\n",
       "      <td>256512.92</td>\n",
       "      <td>Florida</td>\n",
       "      <td>132602.65</td>\n",
       "    </tr>\n",
       "    <tr>\n",
       "      <th>15</th>\n",
       "      <td>114523.61</td>\n",
       "      <td>122616.84</td>\n",
       "      <td>261776.23</td>\n",
       "      <td>New York</td>\n",
       "      <td>129917.04</td>\n",
       "    </tr>\n",
       "    <tr>\n",
       "      <th>16</th>\n",
       "      <td>78013.11</td>\n",
       "      <td>121597.55</td>\n",
       "      <td>264346.06</td>\n",
       "      <td>California</td>\n",
       "      <td>126992.93</td>\n",
       "    </tr>\n",
       "    <tr>\n",
       "      <th>17</th>\n",
       "      <td>94657.16</td>\n",
       "      <td>145077.58</td>\n",
       "      <td>282574.31</td>\n",
       "      <td>New York</td>\n",
       "      <td>125370.37</td>\n",
       "    </tr>\n",
       "    <tr>\n",
       "      <th>18</th>\n",
       "      <td>91749.16</td>\n",
       "      <td>114175.79</td>\n",
       "      <td>294919.57</td>\n",
       "      <td>Florida</td>\n",
       "      <td>124266.90</td>\n",
       "    </tr>\n",
       "    <tr>\n",
       "      <th>19</th>\n",
       "      <td>86419.70</td>\n",
       "      <td>153514.11</td>\n",
       "      <td>0.00</td>\n",
       "      <td>New York</td>\n",
       "      <td>122776.86</td>\n",
       "    </tr>\n",
       "    <tr>\n",
       "      <th>20</th>\n",
       "      <td>76253.86</td>\n",
       "      <td>113867.30</td>\n",
       "      <td>298664.47</td>\n",
       "      <td>California</td>\n",
       "      <td>118474.03</td>\n",
       "    </tr>\n",
       "    <tr>\n",
       "      <th>21</th>\n",
       "      <td>78389.47</td>\n",
       "      <td>153773.43</td>\n",
       "      <td>299737.29</td>\n",
       "      <td>New York</td>\n",
       "      <td>111313.02</td>\n",
       "    </tr>\n",
       "    <tr>\n",
       "      <th>22</th>\n",
       "      <td>73994.56</td>\n",
       "      <td>122782.75</td>\n",
       "      <td>303319.26</td>\n",
       "      <td>Florida</td>\n",
       "      <td>110352.25</td>\n",
       "    </tr>\n",
       "    <tr>\n",
       "      <th>23</th>\n",
       "      <td>67532.53</td>\n",
       "      <td>105751.03</td>\n",
       "      <td>304768.73</td>\n",
       "      <td>Florida</td>\n",
       "      <td>108733.99</td>\n",
       "    </tr>\n",
       "    <tr>\n",
       "      <th>24</th>\n",
       "      <td>77044.01</td>\n",
       "      <td>99281.34</td>\n",
       "      <td>140574.81</td>\n",
       "      <td>New York</td>\n",
       "      <td>108552.04</td>\n",
       "    </tr>\n",
       "    <tr>\n",
       "      <th>25</th>\n",
       "      <td>64664.71</td>\n",
       "      <td>139553.16</td>\n",
       "      <td>137962.62</td>\n",
       "      <td>California</td>\n",
       "      <td>107404.34</td>\n",
       "    </tr>\n",
       "    <tr>\n",
       "      <th>26</th>\n",
       "      <td>75328.87</td>\n",
       "      <td>144135.98</td>\n",
       "      <td>134050.07</td>\n",
       "      <td>Florida</td>\n",
       "      <td>105733.54</td>\n",
       "    </tr>\n",
       "    <tr>\n",
       "      <th>27</th>\n",
       "      <td>72107.60</td>\n",
       "      <td>127864.55</td>\n",
       "      <td>353183.81</td>\n",
       "      <td>New York</td>\n",
       "      <td>105008.31</td>\n",
       "    </tr>\n",
       "    <tr>\n",
       "      <th>28</th>\n",
       "      <td>66051.52</td>\n",
       "      <td>182645.56</td>\n",
       "      <td>118148.20</td>\n",
       "      <td>Florida</td>\n",
       "      <td>103282.38</td>\n",
       "    </tr>\n",
       "    <tr>\n",
       "      <th>29</th>\n",
       "      <td>65605.48</td>\n",
       "      <td>153032.06</td>\n",
       "      <td>107138.38</td>\n",
       "      <td>New York</td>\n",
       "      <td>101004.64</td>\n",
       "    </tr>\n",
       "    <tr>\n",
       "      <th>30</th>\n",
       "      <td>61994.48</td>\n",
       "      <td>115641.28</td>\n",
       "      <td>91131.24</td>\n",
       "      <td>Florida</td>\n",
       "      <td>99937.59</td>\n",
       "    </tr>\n",
       "    <tr>\n",
       "      <th>31</th>\n",
       "      <td>61136.38</td>\n",
       "      <td>152701.92</td>\n",
       "      <td>88218.23</td>\n",
       "      <td>New York</td>\n",
       "      <td>97483.56</td>\n",
       "    </tr>\n",
       "    <tr>\n",
       "      <th>32</th>\n",
       "      <td>63408.86</td>\n",
       "      <td>129219.61</td>\n",
       "      <td>46085.25</td>\n",
       "      <td>California</td>\n",
       "      <td>97427.84</td>\n",
       "    </tr>\n",
       "    <tr>\n",
       "      <th>33</th>\n",
       "      <td>55493.95</td>\n",
       "      <td>103057.49</td>\n",
       "      <td>214634.81</td>\n",
       "      <td>Florida</td>\n",
       "      <td>96778.92</td>\n",
       "    </tr>\n",
       "    <tr>\n",
       "      <th>34</th>\n",
       "      <td>46426.07</td>\n",
       "      <td>157693.92</td>\n",
       "      <td>210797.67</td>\n",
       "      <td>California</td>\n",
       "      <td>96712.80</td>\n",
       "    </tr>\n",
       "    <tr>\n",
       "      <th>35</th>\n",
       "      <td>46014.02</td>\n",
       "      <td>85047.44</td>\n",
       "      <td>205517.64</td>\n",
       "      <td>New York</td>\n",
       "      <td>96479.51</td>\n",
       "    </tr>\n",
       "    <tr>\n",
       "      <th>36</th>\n",
       "      <td>28663.76</td>\n",
       "      <td>127056.21</td>\n",
       "      <td>201126.82</td>\n",
       "      <td>Florida</td>\n",
       "      <td>90708.19</td>\n",
       "    </tr>\n",
       "    <tr>\n",
       "      <th>37</th>\n",
       "      <td>44069.95</td>\n",
       "      <td>51283.14</td>\n",
       "      <td>197029.42</td>\n",
       "      <td>California</td>\n",
       "      <td>89949.14</td>\n",
       "    </tr>\n",
       "    <tr>\n",
       "      <th>38</th>\n",
       "      <td>20229.59</td>\n",
       "      <td>65947.93</td>\n",
       "      <td>185265.10</td>\n",
       "      <td>New York</td>\n",
       "      <td>81229.06</td>\n",
       "    </tr>\n",
       "    <tr>\n",
       "      <th>39</th>\n",
       "      <td>38558.51</td>\n",
       "      <td>82982.09</td>\n",
       "      <td>174999.30</td>\n",
       "      <td>California</td>\n",
       "      <td>81005.76</td>\n",
       "    </tr>\n",
       "    <tr>\n",
       "      <th>40</th>\n",
       "      <td>28754.33</td>\n",
       "      <td>118546.05</td>\n",
       "      <td>172795.67</td>\n",
       "      <td>California</td>\n",
       "      <td>78239.91</td>\n",
       "    </tr>\n",
       "    <tr>\n",
       "      <th>41</th>\n",
       "      <td>27892.92</td>\n",
       "      <td>84710.77</td>\n",
       "      <td>164470.71</td>\n",
       "      <td>Florida</td>\n",
       "      <td>77798.83</td>\n",
       "    </tr>\n",
       "    <tr>\n",
       "      <th>42</th>\n",
       "      <td>23640.93</td>\n",
       "      <td>96189.63</td>\n",
       "      <td>148001.11</td>\n",
       "      <td>California</td>\n",
       "      <td>71498.49</td>\n",
       "    </tr>\n",
       "    <tr>\n",
       "      <th>43</th>\n",
       "      <td>15505.73</td>\n",
       "      <td>127382.30</td>\n",
       "      <td>35534.17</td>\n",
       "      <td>New York</td>\n",
       "      <td>69758.98</td>\n",
       "    </tr>\n",
       "    <tr>\n",
       "      <th>44</th>\n",
       "      <td>22177.74</td>\n",
       "      <td>154806.14</td>\n",
       "      <td>28334.72</td>\n",
       "      <td>California</td>\n",
       "      <td>65200.33</td>\n",
       "    </tr>\n",
       "    <tr>\n",
       "      <th>45</th>\n",
       "      <td>1000.23</td>\n",
       "      <td>124153.04</td>\n",
       "      <td>1903.93</td>\n",
       "      <td>New York</td>\n",
       "      <td>64926.08</td>\n",
       "    </tr>\n",
       "    <tr>\n",
       "      <th>46</th>\n",
       "      <td>1315.46</td>\n",
       "      <td>115816.21</td>\n",
       "      <td>297114.46</td>\n",
       "      <td>Florida</td>\n",
       "      <td>49490.75</td>\n",
       "    </tr>\n",
       "    <tr>\n",
       "      <th>47</th>\n",
       "      <td>0.00</td>\n",
       "      <td>135426.92</td>\n",
       "      <td>0.00</td>\n",
       "      <td>California</td>\n",
       "      <td>42559.73</td>\n",
       "    </tr>\n",
       "    <tr>\n",
       "      <th>48</th>\n",
       "      <td>542.05</td>\n",
       "      <td>51743.15</td>\n",
       "      <td>0.00</td>\n",
       "      <td>New York</td>\n",
       "      <td>35673.41</td>\n",
       "    </tr>\n",
       "    <tr>\n",
       "      <th>49</th>\n",
       "      <td>0.00</td>\n",
       "      <td>116983.80</td>\n",
       "      <td>45173.06</td>\n",
       "      <td>California</td>\n",
       "      <td>14681.40</td>\n",
       "    </tr>\n",
       "  </tbody>\n",
       "</table>\n",
       "</div>"
      ],
      "text/plain": [
       "    R&D Spend  Administration  Marketing Spend       State     Profit\n",
       "0   165349.20       136897.80        471784.10    New York  192261.83\n",
       "1   162597.70       151377.59        443898.53  California  191792.06\n",
       "2   153441.51       101145.55        407934.54     Florida  191050.39\n",
       "3   144372.41       118671.85        383199.62    New York  182901.99\n",
       "4   142107.34        91391.77        366168.42     Florida  166187.94\n",
       "5   131876.90        99814.71        362861.36    New York  156991.12\n",
       "6   134615.46       147198.87        127716.82  California  156122.51\n",
       "7   130298.13       145530.06        323876.68     Florida  155752.60\n",
       "8   120542.52       148718.95        311613.29    New York  152211.77\n",
       "9   123334.88       108679.17        304981.62  California  149759.96\n",
       "10  101913.08       110594.11        229160.95     Florida  146121.95\n",
       "11  100671.96        91790.61        249744.55  California  144259.40\n",
       "12   93863.75       127320.38        249839.44     Florida  141585.52\n",
       "13   91992.39       135495.07        252664.93  California  134307.35\n",
       "14  119943.24       156547.42        256512.92     Florida  132602.65\n",
       "15  114523.61       122616.84        261776.23    New York  129917.04\n",
       "16   78013.11       121597.55        264346.06  California  126992.93\n",
       "17   94657.16       145077.58        282574.31    New York  125370.37\n",
       "18   91749.16       114175.79        294919.57     Florida  124266.90\n",
       "19   86419.70       153514.11             0.00    New York  122776.86\n",
       "20   76253.86       113867.30        298664.47  California  118474.03\n",
       "21   78389.47       153773.43        299737.29    New York  111313.02\n",
       "22   73994.56       122782.75        303319.26     Florida  110352.25\n",
       "23   67532.53       105751.03        304768.73     Florida  108733.99\n",
       "24   77044.01        99281.34        140574.81    New York  108552.04\n",
       "25   64664.71       139553.16        137962.62  California  107404.34\n",
       "26   75328.87       144135.98        134050.07     Florida  105733.54\n",
       "27   72107.60       127864.55        353183.81    New York  105008.31\n",
       "28   66051.52       182645.56        118148.20     Florida  103282.38\n",
       "29   65605.48       153032.06        107138.38    New York  101004.64\n",
       "30   61994.48       115641.28         91131.24     Florida   99937.59\n",
       "31   61136.38       152701.92         88218.23    New York   97483.56\n",
       "32   63408.86       129219.61         46085.25  California   97427.84\n",
       "33   55493.95       103057.49        214634.81     Florida   96778.92\n",
       "34   46426.07       157693.92        210797.67  California   96712.80\n",
       "35   46014.02        85047.44        205517.64    New York   96479.51\n",
       "36   28663.76       127056.21        201126.82     Florida   90708.19\n",
       "37   44069.95        51283.14        197029.42  California   89949.14\n",
       "38   20229.59        65947.93        185265.10    New York   81229.06\n",
       "39   38558.51        82982.09        174999.30  California   81005.76\n",
       "40   28754.33       118546.05        172795.67  California   78239.91\n",
       "41   27892.92        84710.77        164470.71     Florida   77798.83\n",
       "42   23640.93        96189.63        148001.11  California   71498.49\n",
       "43   15505.73       127382.30         35534.17    New York   69758.98\n",
       "44   22177.74       154806.14         28334.72  California   65200.33\n",
       "45    1000.23       124153.04          1903.93    New York   64926.08\n",
       "46    1315.46       115816.21        297114.46     Florida   49490.75\n",
       "47       0.00       135426.92             0.00  California   42559.73\n",
       "48     542.05        51743.15             0.00    New York   35673.41\n",
       "49       0.00       116983.80         45173.06  California   14681.40"
      ]
     },
     "execution_count": 12,
     "metadata": {},
     "output_type": "execute_result"
    }
   ],
   "source": [
    "df"
   ]
  },
  {
   "cell_type": "markdown",
   "id": "30340dac",
   "metadata": {},
   "source": [
    "We are looking at a simple dataset from startups in New York, California and Florida about 50 business Startups \"17 in each state\". In the dataset are Profit, R&D spending, Administration Spending, and Marketing Spending."
   ]
  },
  {
   "cell_type": "markdown",
   "id": "f8a712e8",
   "metadata": {},
   "source": [
    "### CHECK 1: Data Exploration"
   ]
  },
  {
   "cell_type": "markdown",
   "id": "a3a80dba",
   "metadata": {},
   "source": [
    "As we have seen in previous chapters we can conduct pairwise plots and other approaches to explore the distributions and relationships within a dataset"
   ]
  },
  {
   "cell_type": "code",
   "execution_count": 14,
   "id": "24fa35e5",
   "metadata": {
    "scrolled": true
   },
   "outputs": [
    {
     "data": {
      "text/plain": [
       "<seaborn.axisgrid.PairGrid at 0x7f8410999190>"
      ]
     },
     "execution_count": 14,
     "metadata": {},
     "output_type": "execute_result"
    },
    {
     "data": {
      "image/png": "[encoded data removed]",
      "text/plain": [
       "<Figure size 720x720 with 20 Axes>"
      ]
     },
     "metadata": {
      "needs_background": "light"
     },
     "output_type": "display_data"
    }
   ],
   "source": [
    "sns.pairplot(df)"
   ]
  },
  {
   "cell_type": "markdown",
   "id": "d34cd89d",
   "metadata": {},
   "source": [
    "### CHECK 2: Colinearity"
   ]
  },
  {
   "cell_type": "markdown",
   "id": "1714b96a",
   "metadata": {},
   "source": [
    "Check correlations of each of the variables. A correlation between your independent variables is a problem, and may cause unstable coefficients (as the job of one correlated input could potentially do the other's which could dramatically change these coefficients when you rerun the models)\n",
    "We will use a rule of thumb that no 2 variables should have a correlation coefficient of >0.5"
   ]
  },
  {
   "cell_type": "code",
   "execution_count": 15,
   "id": "578a2ef2",
   "metadata": {},
   "outputs": [
    {
     "data": {
      "text/html": [
       "<div>\n",
       "<style scoped>\n",
       "    .dataframe tbody tr th:only-of-type {\n",
       "        vertical-align: middle;\n",
       "    }\n",
       "\n",
       "    .dataframe tbody tr th {\n",
       "        vertical-align: top;\n",
       "    }\n",
       "\n",
       "    .dataframe thead th {\n",
       "        text-align: right;\n",
       "    }\n",
       "</style>\n",
       "<table border=\"1\" class=\"dataframe\">\n",
       "  <thead>\n",
       "    <tr style=\"text-align: right;\">\n",
       "      <th></th>\n",
       "      <th>R&amp;D Spend</th>\n",
       "      <th>Administration</th>\n",
       "      <th>Marketing Spend</th>\n",
       "    </tr>\n",
       "  </thead>\n",
       "  <tbody>\n",
       "    <tr>\n",
       "      <th>R&amp;D Spend</th>\n",
       "      <td>1.000000</td>\n",
       "      <td>0.241955</td>\n",
       "      <td>0.724248</td>\n",
       "    </tr>\n",
       "    <tr>\n",
       "      <th>Administration</th>\n",
       "      <td>0.241955</td>\n",
       "      <td>1.000000</td>\n",
       "      <td>-0.032154</td>\n",
       "    </tr>\n",
       "    <tr>\n",
       "      <th>Marketing Spend</th>\n",
       "      <td>0.724248</td>\n",
       "      <td>-0.032154</td>\n",
       "      <td>1.000000</td>\n",
       "    </tr>\n",
       "  </tbody>\n",
       "</table>\n",
       "</div>"
      ],
      "text/plain": [
       "                 R&D Spend  Administration  Marketing Spend\n",
       "R&D Spend         1.000000        0.241955         0.724248\n",
       "Administration    0.241955        1.000000        -0.032154\n",
       "Marketing Spend   0.724248       -0.032154         1.000000"
      ]
     },
     "execution_count": 15,
     "metadata": {},
     "output_type": "execute_result"
    }
   ],
   "source": [
    "df_train = df\n",
    "df_train[['R&D Spend', 'Administration','Marketing Spend']].corr()"
   ]
  },
  {
   "cell_type": "code",
   "execution_count": 16,
   "id": "3daa0db3",
   "metadata": {},
   "outputs": [
    {
     "data": {
      "text/plain": [
       "<AxesSubplot:>"
      ]
     },
     "execution_count": 16,
     "metadata": {},
     "output_type": "execute_result"
    },
    {
     "data": {
      "image/png": "[encoded data removed]",
      "text/plain": [
       "<Figure size 432x288 with 2 Axes>"
      ]
     },
     "metadata": {
      "needs_background": "light"
     },
     "output_type": "display_data"
    }
   ],
   "source": [
    "# plot the heatmap\n",
    "sns.heatmap(df_train[['R&D Spend', 'Administration','Marketing Spend']].corr())"
   ]
  },
  {
   "cell_type": "code",
   "execution_count": 17,
   "id": "9057eb34",
   "metadata": {},
   "outputs": [
    {
     "name": "stdout",
     "output_type": "stream",
     "text": [
      "                R&D Spend Administration Marketing Spend\n",
      "R&D Spend          1.0***          0.24*         0.72***\n",
      "Administration      0.24*         1.0***           -0.03\n",
      "Marketing Spend   0.72***          -0.03          1.0***\n"
     ]
    }
   ],
   "source": [
    "#Use scipy to get the correlation coefficient\n",
    "from scipy.stats import pearsonr\n",
    "\n",
    "def corrl_with_pvals(df: pd.DataFrame):\n",
    "    #Get the correlation matrix\n",
    "    corr = df.corr()\n",
    "    # construct a new matrix which has the p-val of each correlation coefficient\n",
    "    pval = df.corr(method=lambda x, y: pearsonr(x, y)[1]) - np.eye(*corr.shape)\n",
    "\n",
    "    # ow construct our correlation matrix, with *** for 1% significance levcorr\n",
    "    p = pval.applymap(lambda x: ''.join(['*' for t in [0.01,0.05,0.1] if x<=t]))\n",
    "    corr_p = corr.round(2).astype(str) + p\n",
    "\n",
    "    print(corr_p)\n",
    "    \n",
    "# Get correl matrix with pval *s\n",
    "corrl_with_pvals(df_train[['R&D Spend', 'Administration','Marketing Spend']])"
   ]
  },
  {
   "cell_type": "markdown",
   "id": "ba20d33b",
   "metadata": {},
   "source": [
    "Do we have a problem? We have 2 colinear variables 'Marketing Spend' and 'R&D Spend' with a correlation coefficient of 0.72."
   ]
  },
  {
   "cell_type": "markdown",
   "id": "ec04417d",
   "metadata": {},
   "source": [
    "### Fixing colinearities: differencing"
   ]
  },
  {
   "cell_type": "markdown",
   "id": "7f59bf95",
   "metadata": {},
   "source": [
    "To reduce correlations between input variables we can take colinear variables and either deduct one from the other, or divide one by the other.\n",
    "Here we deduct 'Marketing Spend' by 'R&D Spend'. This is a quick fix..."
   ]
  },
  {
   "cell_type": "code",
   "execution_count": 18,
   "id": "78d4ba27",
   "metadata": {},
   "outputs": [
    {
     "name": "stdout",
     "output_type": "stream",
     "text": [
      "                R&D Spend Administration Marketing Spend\n",
      "R&D Spend          1.0***          0.24*         0.45***\n",
      "Administration      0.24*         1.0***           -0.16\n",
      "Marketing Spend   0.45***          -0.16          1.0***\n"
     ]
    }
   ],
   "source": [
    "#Create a copy of th edata frame (not just reasignment)\n",
    "df_train_dif = df_train.copy(deep=True)\n",
    "\n",
    "#Overweight Mareting SPending with a differenced series\n",
    "df_train_dif['Marketing Spend'] = df_train_dif['Marketing Spend'] - df_train_dif['R&D Spend']\n",
    "\n",
    "#Redo the corrl with p *s...\n",
    "corrl_with_pvals(df_train_dif[['R&D Spend', 'Administration','Marketing Spend']])"
   ]
  },
  {
   "cell_type": "markdown",
   "id": "2e80f203",
   "metadata": {},
   "source": [
    "p-values still show statistically significant correlation coefficients but they are now below 0.5"
   ]
  },
  {
   "cell_type": "code",
   "execution_count": 19,
   "id": "6e1df3c5",
   "metadata": {},
   "outputs": [
    {
     "name": "stdout",
     "output_type": "stream",
     "text": [
      "After Differencing Marketing Spend\n"
     ]
    },
    {
     "data": {
      "text/html": [
       "<div>\n",
       "<style scoped>\n",
       "    .dataframe tbody tr th:only-of-type {\n",
       "        vertical-align: middle;\n",
       "    }\n",
       "\n",
       "    .dataframe tbody tr th {\n",
       "        vertical-align: top;\n",
       "    }\n",
       "\n",
       "    .dataframe thead th {\n",
       "        text-align: right;\n",
       "    }\n",
       "</style>\n",
       "<table border=\"1\" class=\"dataframe\">\n",
       "  <thead>\n",
       "    <tr style=\"text-align: right;\">\n",
       "      <th></th>\n",
       "      <th>R&amp;D Spend</th>\n",
       "      <th>Administration</th>\n",
       "      <th>Marketing Spend</th>\n",
       "    </tr>\n",
       "  </thead>\n",
       "  <tbody>\n",
       "    <tr>\n",
       "      <th>R&amp;D Spend</th>\n",
       "      <td>1.000000</td>\n",
       "      <td>0.241955</td>\n",
       "      <td>0.451477</td>\n",
       "    </tr>\n",
       "    <tr>\n",
       "      <th>Administration</th>\n",
       "      <td>0.241955</td>\n",
       "      <td>1.000000</td>\n",
       "      <td>-0.159130</td>\n",
       "    </tr>\n",
       "    <tr>\n",
       "      <th>Marketing Spend</th>\n",
       "      <td>0.451477</td>\n",
       "      <td>-0.159130</td>\n",
       "      <td>1.000000</td>\n",
       "    </tr>\n",
       "  </tbody>\n",
       "</table>\n",
       "</div>"
      ],
      "text/plain": [
       "                 R&D Spend  Administration  Marketing Spend\n",
       "R&D Spend         1.000000        0.241955         0.451477\n",
       "Administration    0.241955        1.000000        -0.159130\n",
       "Marketing Spend   0.451477       -0.159130         1.000000"
      ]
     },
     "execution_count": 19,
     "metadata": {},
     "output_type": "execute_result"
    }
   ],
   "source": [
    "# Run smple correlation matrix too\n",
    "print(\"After Differencing Marketing Spend\")\n",
    "df_train_dif[['R&D Spend', 'Administration','Marketing Spend']].corr()"
   ]
  },
  {
   "cell_type": "markdown",
   "id": "c3c10456",
   "metadata": {},
   "source": [
    "### Linear model of Profit "
   ]
  },
  {
   "cell_type": "markdown",
   "id": "a1b75283",
   "metadata": {},
   "source": [
    "Separate the companies we will learn the linear model for and the 3 companies that we will assess"
   ]
  },
  {
   "cell_type": "markdown",
   "id": "7b9ac78f",
   "metadata": {},
   "source": [
    "Stats packge we will be using"
   ]
  },
  {
   "cell_type": "code",
   "execution_count": 20,
   "id": "b8e23230",
   "metadata": {},
   "outputs": [],
   "source": [
    "#Key library we will use for the linear models is...\n",
    "import statsmodels.api as sm"
   ]
  },
  {
   "cell_type": "code",
   "execution_count": 21,
   "id": "3f9343cd",
   "metadata": {
    "scrolled": true
   },
   "outputs": [
    {
     "data": {
      "text/html": [
       "<table class=\"simpletable\">\n",
       "<caption>OLS Regression Results</caption>\n",
       "<tr>\n",
       "  <th>Dep. Variable:</th>         <td>Profit</td>      <th>  R-squared (uncentered):</th>      <td>   0.987</td>\n",
       "</tr>\n",
       "<tr>\n",
       "  <th>Model:</th>                   <td>OLS</td>       <th>  Adj. R-squared (uncentered):</th> <td>   0.987</td>\n",
       "</tr>\n",
       "<tr>\n",
       "  <th>Method:</th>             <td>Least Squares</td>  <th>  F-statistic:       </th>          <td>   1232.</td>\n",
       "</tr>\n",
       "<tr>\n",
       "  <th>Date:</th>             <td>Wed, 24 Aug 2022</td> <th>  Prob (F-statistic):</th>          <td>1.17e-44</td>\n",
       "</tr>\n",
       "<tr>\n",
       "  <th>Time:</th>                 <td>09:56:26</td>     <th>  Log-Likelihood:    </th>          <td> -545.82</td>\n",
       "</tr>\n",
       "<tr>\n",
       "  <th>No. Observations:</th>      <td>    50</td>      <th>  AIC:               </th>          <td>   1098.</td>\n",
       "</tr>\n",
       "<tr>\n",
       "  <th>Df Residuals:</th>          <td>    47</td>      <th>  BIC:               </th>          <td>   1103.</td>\n",
       "</tr>\n",
       "<tr>\n",
       "  <th>Df Model:</th>              <td>     3</td>      <th>                     </th>              <td> </td>   \n",
       "</tr>\n",
       "<tr>\n",
       "  <th>Covariance Type:</th>      <td>nonrobust</td>    <th>                     </th>              <td> </td>   \n",
       "</tr>\n",
       "</table>\n",
       "<table class=\"simpletable\">\n",
       "<tr>\n",
       "         <td></td>            <th>coef</th>     <th>std err</th>      <th>t</th>      <th>P>|t|</th>  <th>[0.025</th>    <th>0.975]</th>  \n",
       "</tr>\n",
       "<tr>\n",
       "  <th>R&D Spend</th>       <td>    0.8001</td> <td>    0.051</td> <td>   15.719</td> <td> 0.000</td> <td>    0.698</td> <td>    0.903</td>\n",
       "</tr>\n",
       "<tr>\n",
       "  <th>Administration</th>  <td>    0.3277</td> <td>    0.031</td> <td>   10.458</td> <td> 0.000</td> <td>    0.265</td> <td>    0.391</td>\n",
       "</tr>\n",
       "<tr>\n",
       "  <th>Marketing Spend</th> <td>    0.0822</td> <td>    0.022</td> <td>    3.733</td> <td> 0.001</td> <td>    0.038</td> <td>    0.126</td>\n",
       "</tr>\n",
       "</table>\n",
       "<table class=\"simpletable\">\n",
       "<tr>\n",
       "  <th>Omnibus:</th>       <td> 0.665</td> <th>  Durbin-Watson:     </th> <td>   1.361</td>\n",
       "</tr>\n",
       "<tr>\n",
       "  <th>Prob(Omnibus):</th> <td> 0.717</td> <th>  Jarque-Bera (JB):  </th> <td>   0.749</td>\n",
       "</tr>\n",
       "<tr>\n",
       "  <th>Skew:</th>          <td>-0.126</td> <th>  Prob(JB):          </th> <td>   0.688</td>\n",
       "</tr>\n",
       "<tr>\n",
       "  <th>Kurtosis:</th>      <td> 2.456</td> <th>  Cond. No.          </th> <td>    6.09</td>\n",
       "</tr>\n",
       "</table><br/><br/>Notes:<br/>[1] R² is computed without centering (uncentered) since the model does not contain a constant.<br/>[2] Standard Errors assume that the covariance matrix of the errors is correctly specified."
      ],
      "text/plain": [
       "<class 'statsmodels.iolib.summary.Summary'>\n",
       "\"\"\"\n",
       "                                 OLS Regression Results                                \n",
       "=======================================================================================\n",
       "Dep. Variable:                 Profit   R-squared (uncentered):                   0.987\n",
       "Model:                            OLS   Adj. R-squared (uncentered):              0.987\n",
       "Method:                 Least Squares   F-statistic:                              1232.\n",
       "Date:                Wed, 24 Aug 2022   Prob (F-statistic):                    1.17e-44\n",
       "Time:                        09:56:26   Log-Likelihood:                         -545.82\n",
       "No. Observations:                  50   AIC:                                      1098.\n",
       "Df Residuals:                      47   BIC:                                      1103.\n",
       "Df Model:                           3                                                  \n",
       "Covariance Type:            nonrobust                                                  \n",
       "===================================================================================\n",
       "                      coef    std err          t      P>|t|      [0.025      0.975]\n",
       "-----------------------------------------------------------------------------------\n",
       "R&D Spend           0.8001      0.051     15.719      0.000       0.698       0.903\n",
       "Administration      0.3277      0.031     10.458      0.000       0.265       0.391\n",
       "Marketing Spend     0.0822      0.022      3.733      0.001       0.038       0.126\n",
       "==============================================================================\n",
       "Omnibus:                        0.665   Durbin-Watson:                   1.361\n",
       "Prob(Omnibus):                  0.717   Jarque-Bera (JB):                0.749\n",
       "Skew:                          -0.126   Prob(JB):                        0.688\n",
       "Kurtosis:                       2.456   Cond. No.                         6.09\n",
       "==============================================================================\n",
       "\n",
       "Notes:\n",
       "[1] R² is computed without centering (uncentered) since the model does not contain a constant.\n",
       "[2] Standard Errors assume that the covariance matrix of the errors is correctly specified.\n",
       "\"\"\""
      ]
     },
     "execution_count": 21,
     "metadata": {},
     "output_type": "execute_result"
    }
   ],
   "source": [
    "# Instantiate an OLS model from statsmodels \n",
    "lm = sm.OLS(df_train_dif['Profit'], df_train_dif[['R&D Spend', 'Administration','Marketing Spend']])   \n",
    "\n",
    "# Now fit the OLS model... \n",
    "model = lm.fit()   \n",
    "\n",
    "#Get the summary stats of the regression model \n",
    "model.summary() "
   ]
  },
  {
   "cell_type": "markdown",
   "id": "5d488156",
   "metadata": {},
   "source": [
    "### CHECK3: Check the model fit"
   ]
  },
  {
   "cell_type": "markdown",
   "id": "13bfd6dc",
   "metadata": {},
   "source": [
    "Carry out a multipoint check of the regression results..... firstly a plot of the fit. Does it look ok?"
   ]
  },
  {
   "cell_type": "code",
   "execution_count": 22,
   "id": "2fb6b872",
   "metadata": {},
   "outputs": [
    {
     "data": {
      "image/png": "[encoded data removed]",
      "text/plain": [
       "<Figure size 432x288 with 1 Axes>"
      ]
     },
     "metadata": {
      "needs_background": "light"
     },
     "output_type": "display_data"
    },
    {
     "data": {
      "text/plain": [
       "<Figure size 720x720 with 0 Axes>"
      ]
     },
     "metadata": {},
     "output_type": "display_data"
    }
   ],
   "source": [
    "# Regression plot \n",
    "fig, ax = plt.subplots() \n",
    "fig = sm.graphics.plot_fit(model, 0, ax=ax)  \n",
    "\n",
    "# Set the figure size \n",
    "plt.figure(figsize=(10, 10)) \n",
    "\n",
    "ax.set_title(\"Linear Regression: Profit Forcasting\") \n",
    "\n",
    "plt.show() "
   ]
  },
  {
   "cell_type": "markdown",
   "id": "245163c0",
   "metadata": {},
   "source": [
    "Model fit ok?"
   ]
  },
  {
   "cell_type": "code",
   "execution_count": 23,
   "id": "83065b39",
   "metadata": {},
   "outputs": [
    {
     "name": "stdout",
     "output_type": "stream",
     "text": [
      "AdjR2 > 0.7: Check\n"
     ]
    }
   ],
   "source": [
    "# Get the fit object....\n",
    "results = lm.fit()\n",
    "\n",
    "# rule of thumb, and depending on how noisy the data is... \n",
    "if results.rsquared_adj > 0.7: print('AdjR2 > 0.7: Check')\n",
    "elif results.rsquared_adj > 0.5: print('AdjR2 > 0.7: Weak')\n",
    "else: {print('R2: Problem')}"
   ]
  },
  {
   "cell_type": "code",
   "execution_count": 24,
   "id": "e8950073",
   "metadata": {},
   "outputs": [
    {
     "name": "stdout",
     "output_type": "stream",
     "text": [
      "Model fit (F-test): Check\n"
     ]
    }
   ],
   "source": [
    "# Overall fit of the model: F-test\n",
    "if results.f_pvalue < 0.05: print('Model fit (F-test): Check')\n",
    "elif results.f_pvalue < 0.1: print('Model fit (F-test): Weak')\n",
    "else: print('Model fit (F-test): Weak')"
   ]
  },
  {
   "cell_type": "markdown",
   "id": "3fdd9462",
   "metadata": {},
   "source": [
    "Coefficients?"
   ]
  },
  {
   "cell_type": "markdown",
   "id": "17ea2752",
   "metadata": {},
   "source": [
    "### CHECK 4: Check the Residuals "
   ]
  },
  {
   "cell_type": "markdown",
   "id": "b2b8fc12",
   "metadata": {},
   "source": [
    "We are look for patterns, skews and anything other than randomness that would indicate problems with our model"
   ]
  },
  {
   "cell_type": "code",
   "execution_count": 25,
   "id": "80bff79a",
   "metadata": {},
   "outputs": [
    {
     "data": {
      "image/png": "[encoded data removed]",
      "text/plain": [
       "<Figure size 432x288 with 1 Axes>"
      ]
     },
     "metadata": {
      "needs_background": "light"
     },
     "output_type": "display_data"
    }
   ],
   "source": [
    "#Calculat the residuals:\n",
    "y_pred = model.predict()\n",
    "residuals = model.predict() - df_train['Profit']\n",
    "plt.scatter(y_pred,residuals)\n",
    "\n",
    "plt.title(\"Model Residuals: y plotted against y_hat\")\n",
    "plt.axhline(0, color='red') \n",
    "\n",
    "plt.xlabel(\"y_hat\") \n",
    "plt.ylabel(\"Residual\") \n",
    "\n",
    "plt.show()"
   ]
  },
  {
   "cell_type": "code",
   "execution_count": 26,
   "id": "d3c0af13",
   "metadata": {},
   "outputs": [
    {
     "data": {
      "text/plain": [
       "(array([1., 2., 2., 3., 6., 5., 5., 6., 4., 4., 4., 4., 1., 1., 2.]),\n",
       " array([-29869.38453547, -26053.70057028, -22238.0166051 , -18422.33263991,\n",
       "        -14606.64867473, -10790.96470954,  -6975.28074435,  -3159.59677917,\n",
       "           656.08718602,   4471.7711512 ,   8287.45511639,  12103.13908158,\n",
       "         15918.82304676,  19734.50701195,  23550.19097713,  27365.87494232]),\n",
       " <BarContainer object of 15 artists>)"
      ]
     },
     "execution_count": 26,
     "metadata": {},
     "output_type": "execute_result"
    },
    {
     "data": {
      "image/png": "[encoded data removed]",
      "text/plain": [
       "<Figure size 720x504 with 1 Axes>"
      ]
     },
     "metadata": {
      "needs_background": "light"
     },
     "output_type": "display_data"
    }
   ],
   "source": [
    "# frequency distribution of residuals\n",
    "plt.figure(figsize=(10,7)) \n",
    "plt.title('Residuals') \n",
    "plt.hist(residuals, bins=15) "
   ]
  },
  {
   "cell_type": "markdown",
   "id": "60e6851c",
   "metadata": {},
   "source": [
    "Now do a test of normality... are the residuals. \n",
    "The Shapiro-Wilk test tests the null hypothesis that the data was drawn from a normal distribution."
   ]
  },
  {
   "cell_type": "code",
   "execution_count": 27,
   "id": "7ffff09e",
   "metadata": {},
   "outputs": [
    {
     "name": "stdout",
     "output_type": "stream",
     "text": [
      "Residuals are normally distributed: Weak\n",
      "(Normality test: 0.9898763298988342, p-val 0.056751251220703125)\n"
     ]
    }
   ],
   "source": [
    "#Use scipy to get the correlation coefficient\n",
    "from scipy import stats\n",
    "\n",
    "# Normality test\n",
    "results = stats.shapiro(residuals)\n",
    "    \n",
    "# Overall fit of the model: F-test\n",
    "if results.pvalue < 0.9: print('Residuals are normally distributed): Check')\n",
    "elif (1-results.pvalue)  < 0.95: print('Residuals are normally distributed: Weak')\n",
    "else: print('Residuals are normally distributed: Problem')\n",
    "    \n",
    "print(\"(Normality test: \" + str(results.statistic) + \", p-val \" + str(1-results.pvalue) +\")\")"
   ]
  },
  {
   "cell_type": "code",
   "execution_count": 28,
   "id": "88ef869e",
   "metadata": {},
   "outputs": [
    {
     "data": {
      "text/plain": [
       "0.8598434925079346"
      ]
     },
     "execution_count": 28,
     "metadata": {},
     "output_type": "execute_result"
    }
   ],
   "source": [
    "from scipy import stats\n",
    "rng = np.random.default_rng()\n",
    "x = stats.norm.rvs(loc=5, scale=3, size=100, random_state=rng)\n",
    "shapiro_test = stats.shapiro(x)\n",
    "shapiro_test.statistic\n",
    "shapiro_test.pvalue"
   ]
  },
  {
   "cell_type": "code",
   "execution_count": 29,
   "id": "8daad660",
   "metadata": {},
   "outputs": [
    {
     "data": {
      "text/plain": [
       "(array([ 1.,  3.,  2.,  5.,  7.,  8., 18., 10., 14., 11.,  8.,  5.,  3.,\n",
       "         2.,  3.]),\n",
       " array([-2.675022  , -1.69271162, -0.71040125,  0.27190912,  1.25421949,\n",
       "         2.23652986,  3.21884024,  4.20115061,  5.18346098,  6.16577135,\n",
       "         7.14808173,  8.1303921 ,  9.11270247, 10.09501284, 11.07732321,\n",
       "        12.05963359]),\n",
       " <BarContainer object of 15 artists>)"
      ]
     },
     "execution_count": 29,
     "metadata": {},
     "output_type": "execute_result"
    },
    {
     "data": {
      "image/png": "[encoded data removed]",
      "text/plain": [
       "<Figure size 720x504 with 1 Axes>"
      ]
     },
     "metadata": {
      "needs_background": "light"
     },
     "output_type": "display_data"
    }
   ],
   "source": [
    "# frequency distribution of residuals\n",
    "plt.figure(figsize=(10,7)) \n",
    "plt.title('Residuals') \n",
    "plt.hist(x, bins=15) "
   ]
  },
  {
   "cell_type": "code",
   "execution_count": null,
   "id": "1cb76ac7",
   "metadata": {},
   "outputs": [],
   "source": []
  },
  {
   "cell_type": "markdown",
   "id": "792b4089",
   "metadata": {},
   "source": [
    "## Recursive Feature Elmination"
   ]
  },
  {
   "cell_type": "markdown",
   "id": "531362a1",
   "metadata": {},
   "source": [
    "We will now use Recursive Feature Elimination (RFE), to automatically choose our features. And we will use the Sklearn implementation RFECV.\n",
    "\n",
    "Recursive Feature Elimination (RFE), refinesd a model by removing the least important independent variables. This assesses the performance of different independent variables in relation to different samples of our input data (cross validation).\n",
    "\n",
    "We use SKlearns implemetation of OLS regression, then instantiate an RFE object, fit this,  \n",
    "\n",
    "SKlearn has an implementation that you can use with different types of learner (estimator), but here we will just use OLS regression."
   ]
  },
  {
   "cell_type": "code",
   "execution_count": 30,
   "id": "8664344b",
   "metadata": {},
   "outputs": [],
   "source": [
    "# set up our regressor. Today we shall be using the random forest\n",
    "from sklearn.linear_model import LinearRegression\n",
    "\n",
    "reg = LinearRegression().fit(df_train_dif[['R&D Spend', 'Administration','Marketing Spend']],df_train_dif['Profit'])"
   ]
  },
  {
   "cell_type": "markdown",
   "id": "58a92d8e",
   "metadata": {},
   "source": [
    "Recursive feature elimination is an example of backward feature elimination in which we essentially first fit our model using all the features in a given set, then progressively one by one we remove the least significant features, each time re-fitting, until we are left with the desired number of features, which is set by the parameter n_features_to_select."
   ]
  },
  {
   "cell_type": "markdown",
   "id": "ccf73a37",
   "metadata": {},
   "source": [
    "### Different models using different independent variables"
   ]
  },
  {
   "cell_type": "code",
   "execution_count": 31,
   "id": "488cd3d0",
   "metadata": {},
   "outputs": [
    {
     "data": {
      "text/plain": [
       "R&D Spend            162597.7\n",
       "Administration      151377.59\n",
       "Marketing Spend     281300.83\n",
       "State              California\n",
       "Profit              191792.06\n",
       "Name: 1, dtype: object"
      ]
     },
     "execution_count": 31,
     "metadata": {},
     "output_type": "execute_result"
    }
   ],
   "source": [
    "df_train_dif.iloc[1]"
   ]
  },
  {
   "cell_type": "code",
   "execution_count": null,
   "id": "de6cfad7",
   "metadata": {},
   "outputs": [],
   "source": []
  },
  {
   "cell_type": "code",
   "execution_count": 32,
   "id": "853d663c",
   "metadata": {},
   "outputs": [],
   "source": [
    "# perform a scikit-learn Recursive Feature Elimination (RFE) to find the \"best\" model\n",
    "from sklearn.feature_selection import RFE\n",
    "# Calc R2 too\n",
    "from sklearn.metrics import r2_score    \n",
    "\n",
    "# Run RFE but for a given number of features.\n",
    "def run_ref_for_n_features(df_train_dif: pd.DataFrame, reg, n_features_to_select: int = 1) -> object:\n",
    "    # Pass our ols model, into RFECV, to get a model of best fit.\n",
    "    rfe = RFE(estimator=reg,  n_features_to_select=n_features_to_select)\n",
    "    # fit the model.\n",
    "    rfe_mod = rfe.fit(df_train_dif[['R&D Spend', 'Administration','Marketing Spend']],df_train_dif['Profit'])\n",
    "    return rfe_mod"
   ]
  },
  {
   "cell_type": "markdown",
   "id": "e263912b",
   "metadata": {},
   "source": [
    "Now find the best models for 1, then 2, then 3 features."
   ]
  },
  {
   "cell_type": "code",
   "execution_count": 33,
   "id": "173381da",
   "metadata": {},
   "outputs": [
    {
     "data": {
      "image/png": "[encoded data removed]",
      "text/plain": [
       "<Figure size 504x288 with 1 Axes>"
      ]
     },
     "metadata": {
      "needs_background": "light"
     },
     "output_type": "display_data"
    },
    {
     "name": "stdout",
     "output_type": "stream",
     "text": [
      "R2 = 0.9465353160804393\n"
     ]
    },
    {
     "data": {
      "image/png": "[encoded data removed]",
      "text/plain": [
       "<Figure size 504x288 with 1 Axes>"
      ]
     },
     "metadata": {
      "needs_background": "light"
     },
     "output_type": "display_data"
    },
    {
     "name": "stdout",
     "output_type": "stream",
     "text": [
      "R2 = 0.9504503015559763\n"
     ]
    },
    {
     "data": {
      "image/png": "[encoded data removed]",
      "text/plain": [
       "<Figure size 504x288 with 1 Axes>"
      ]
     },
     "metadata": {
      "needs_background": "light"
     },
     "output_type": "display_data"
    },
    {
     "name": "stdout",
     "output_type": "stream",
     "text": [
      "R2 = 0.9507459940683246\n"
     ]
    }
   ],
   "source": [
    "# Get the indpedent variables we are using\n",
    "X = df_train_dif[['R&D Spend', 'Administration','Marketing Spend']]\n",
    "\n",
    "# Construct the best 1 factor OLS model, then the best 2 factor, the 3 ...\n",
    "for i in range(0,X.shape[1]):\n",
    "    #Run the function that generates the rfe_mod model for n independents\n",
    "    rfe_mod = run_ref_for_n_features(df_train_dif, reg, i+1)    \n",
    "    \n",
    "    # y and y_hat\n",
    "    y = df_train_dif['Profit']\n",
    "    y_hat = rfe_mod.predict(df_train_dif[['R&D Spend', 'Administration','Marketing Spend']])\n",
    "    \n",
    "    #Columns selected by RFE?    \n",
    "    cols = X.columns[rfe_mod.support_]\n",
    "    \n",
    "    #Chart  \n",
    "    plt.figure(figsize=(7,4))\n",
    "    plt.title(\"RFE Model using 'best' \" + str(i+1) + \" inputs : \" + str([cols[i] for i in range(cols.__len__())]))\n",
    "    plt.scatter(y_hat, y,color='g')\n",
    "    plt.show()  \n",
    "    \n",
    "    #Get R2 for the regression model\n",
    "    print(\"R2 = \" + str(r2_score(y, y_hat)))"
   ]
  },
  {
   "cell_type": "markdown",
   "id": "f8c39ee5",
   "metadata": {},
   "source": [
    "## Let RFE Find the Best model"
   ]
  },
  {
   "cell_type": "code",
   "execution_count": 35,
   "id": "30d8f5b4",
   "metadata": {},
   "outputs": [],
   "source": [
    "from sklearn.feature_selection import RFECV\n",
    "#OLS...\n",
    "reg = LinearRegression().fit(df_train_dif[['R&D Spend', 'Administration','Marketing Spend']],df_train_dif['Profit'])\n",
    "\n",
    "# Pass our ols model, into RFECV, to get a model of best fit.\n",
    "rfecv_mod = RFECV(estimator=reg)\n",
    "# fit the model.\n",
    "rfecv_mod = rfecv_mod.fit(df_train_dif[['R&D Spend', 'Administration','Marketing Spend']],df_train_dif['Profit'])"
   ]
  },
  {
   "cell_type": "markdown",
   "id": "06d34d79",
   "metadata": {},
   "source": [
    "Regression lines plot for each model"
   ]
  },
  {
   "cell_type": "code",
   "execution_count": 36,
   "id": "d04a2276",
   "metadata": {},
   "outputs": [
    {
     "data": {
      "image/png": "[encoded data removed]",
      "text/plain": [
       "<Figure size 576x432 with 1 Axes>"
      ]
     },
     "metadata": {
      "needs_background": "light"
     },
     "output_type": "display_data"
    },
    {
     "name": "stdout",
     "output_type": "stream",
     "text": [
      "R2 = 0.9507459940683246\n"
     ]
    }
   ],
   "source": [
    "#Columns selected by RFE?    \n",
    "cols = X.columns[rfecv_mod.support_]\n",
    "\n",
    "#Predict\n",
    "y = df_train_dif['Profit']\n",
    "y_hat = rfecv_mod.predict(df_train_dif[['R&D Spend', 'Administration','Marketing Spend']])\n",
    "\n",
    "#Chart  \n",
    "plt.figure(figsize=(8,6))\n",
    "plt.title(\"RFECV Model Uses \" + str(i+1) + \" inputs : \" + str([cols[i] for i in range(cols.__len__())]))\n",
    "plt.scatter(y_hat, y,color='r')\n",
    "plt.show()  \n",
    "\n",
    "#Get R2 for the regression model\n",
    "print(\"R2 = \" + str(r2_score(y, y_hat)))"
   ]
  },
  {
   "cell_type": "code",
   "execution_count": 37,
   "id": "5991c580",
   "metadata": {},
   "outputs": [
    {
     "data": {
      "image/png": "[encoded data removed]",
      "text/plain": [
       "<Figure size 576x432 with 1 Axes>"
      ]
     },
     "metadata": {
      "needs_background": "light"
     },
     "output_type": "display_data"
    },
    {
     "name": "stdout",
     "output_type": "stream",
     "text": [
      "R2 = 0.9507459940683246\n"
     ]
    }
   ],
   "source": [
    " \n",
    "# perform a scikit-learn Recursive Feature Elimination (RFE) to find the \"best\" model\n",
    "from sklearn.feature_selection import RFE\n",
    "# Calc R2 too\n",
    "from sklearn.metrics import r2_score \n",
    " \n",
    "#OLS...\n",
    "reg = LinearRegression().fit(df_train_dif[['R&D Spend', 'Administration','Marketing Spend']],df_train_dif['Profit'])\n",
    " \n",
    "# Pass our ols model, into RFECV, to get a model of best fit.\n",
    "rfecv_mod = RFECV(estimator=reg)\n",
    "# fit the model.\n",
    "rfecv_mod = rfecv_mod.fit(df_train_dif[['R&D Spend', 'Administration','Marketing Spend']],df_train_dif['Profit'])\n",
    " \n",
    "#Columns selected by RFE?   \n",
    "cols = X.columns[rfecv_mod.support_]\n",
    " \n",
    "#Predict\n",
    "y = df_train_dif['Profit']\n",
    "y_hat = rfecv_mod.predict(df_train_dif[['R&D Spend', 'Administration','Marketing Spend']])\n",
    " \n",
    "#Chart \n",
    "plt.figure(figsize=(8,6))\n",
    "plt.title(\"RFECV Model Uses \" + str(i+1) + \" inputs : \" + str([cols[i] for i in range(cols.__len__())]))\n",
    "plt.scatter(y_hat, y,color='r')\n",
    "plt.show() \n",
    " \n",
    "#Get R2 for the regression model\n",
    "print(\"R2 = \" + str(r2_score(y, y_hat)))\n",
    " "
   ]
  },
  {
   "cell_type": "code",
   "execution_count": null,
   "id": "56665e19",
   "metadata": {},
   "outputs": [],
   "source": []
  },
  {
   "cell_type": "code",
   "execution_count": null,
   "id": "196774d9",
   "metadata": {},
   "outputs": [],
   "source": []
  }
 ],
 "metadata": {
  "kernelspec": {
   "display_name": "Python 3 (ipykernel)",
   "language": "python",
   "name": "python3"
  },
  "language_info": {
   "codemirror_mode": {
    "name": "ipython",
    "version": 3
   },
   "file_extension": ".py",
   "mimetype": "text/x-python",
   "name": "python",
   "nbconvert_exporter": "python",
   "pygments_lexer": "ipython3",
   "version": "3.8.8"
  }
 },
 "nbformat": 4,
 "nbformat_minor": 5
}
