{
 "cells": [
  {
   "cell_type": "markdown",
   "id": "f55be158",
   "metadata": {},
   "source": [
    "# Chapter 4: Programming Fundamentals \n",
    "\n"
   ]
  },
  {
   "cell_type": "code",
   "execution_count": 1,
   "id": "ccf087ed",
   "metadata": {},
   "outputs": [],
   "source": [
    "import numpy as np\n",
    "import pandas as pd\n",
    "import math\n",
    "import sympy\n",
    "\n",
    "usedcars = pd.read_csv('../../data/UsedCars2017.csv')"
   ]
  },
  {
   "cell_type": "markdown",
   "id": "06b07a7a",
   "metadata": {},
   "source": [
    "# Exercises"
   ]
  },
  {
   "cell_type": "markdown",
   "id": "03a2eb1b",
   "metadata": {},
   "source": [
    "1. Create a function that takes two numbers $x$ and $y$ and returns $x^3+y^3$."
   ]
  },
  {
   "cell_type": "code",
   "execution_count": 2,
   "id": "4e7cf34b",
   "metadata": {},
   "outputs": [
    {
     "data": {
      "text/plain": [
       "16"
      ]
     },
     "execution_count": 2,
     "metadata": {},
     "output_type": "execute_result"
    }
   ],
   "source": [
    "def myfunction(x,y):\n",
    "    return (x**3 + y**3)\n",
    "\n",
    "myfunction(2,2)"
   ]
  },
  {
   "cell_type": "markdown",
   "id": "ea4c5155",
   "metadata": {},
   "source": [
    "2. Create a function that takes in a numeric vector. The function should do the following: (1) takes all values below the median and calculates the mean of these, (2) takes all values above the median and calculates the mean of these, and (3) return the difference in the value between the higher and the lower mean. Test it with a few vectors from the data sets."
   ]
  },
  {
   "cell_type": "code",
   "execution_count": 9,
   "id": "84dab56d",
   "metadata": {},
   "outputs": [
    {
     "name": "stdout",
     "output_type": "stream",
     "text": [
      "5.0\n",
      "8316.971185064935\n",
      "12.070544945074406\n"
     ]
    }
   ],
   "source": [
    "def myfunction2(v):\n",
    "    cutoff = np.median(v)\n",
    "    lower = np.mean(v[v<cutoff])\n",
    "    upper = np.mean(v[v>cutoff])\n",
    "    \n",
    "    return (upper - lower)\n",
    "\n",
    "print(myfunction2(np.arange(1,11)))\n",
    "print(myfunction2(usedcars[\"Price\"]))\n",
    "print(myfunction2(usedcars[\"MPG\"]))"
   ]
  },
  {
   "cell_type": "markdown",
   "id": "21aef276",
   "metadata": {},
   "source": [
    "3. Create a function that takes in a numeric vector. The output should be a vector with running median values. The ith element of the output vector should be the median of the values in the input vector from 1 to i."
   ]
  },
  {
   "cell_type": "code",
   "execution_count": 80,
   "id": "65e90c80",
   "metadata": {},
   "outputs": [
    {
     "name": "stdout",
     "output_type": "stream",
     "text": [
      "[1.  1.5 2.  2.5 3.  3.5 4.  4.5 5.  5.5]\n"
     ]
    }
   ],
   "source": [
    "v = np.arange(1,11)\n",
    "\n",
    "def myfunction3(v):\n",
    "\n",
    "    v_med = np.zeros(v.shape[0])\n",
    "\n",
    "    for idx, x in enumerate(v):\n",
    "        #print(x)\n",
    "        #print(idx)\n",
    "        v_med[idx] = np.median(v[0:idx+1])\n",
    "\n",
    "    return(v_med)\n",
    "\n",
    "print(myfunction3(v))"
   ]
  },
  {
   "cell_type": "markdown",
   "id": "67ecf662",
   "metadata": {},
   "source": [
    "4. Create a function to return TRUE if a given integer is an element of a given vector. For example, a given vector is (1,3,5,7), if the given integer is 7, the function returns TRUE."
   ]
  },
  {
   "cell_type": "code",
   "execution_count": 5,
   "id": "7d44177d",
   "metadata": {},
   "outputs": [],
   "source": [
    "def myfunction4(v,n):\n",
    "    if n in v:\n",
    "        return True"
   ]
  },
  {
   "cell_type": "code",
   "execution_count": 6,
   "id": "3c062b6b",
   "metadata": {},
   "outputs": [
    {
     "data": {
      "text/plain": [
       "True"
      ]
     },
     "execution_count": 6,
     "metadata": {},
     "output_type": "execute_result"
    }
   ],
   "source": [
    "myfunction4((1,3,5,7), 7)"
   ]
  },
  {
   "cell_type": "markdown",
   "id": "4ff431e7",
   "metadata": {},
   "source": [
    "5. Create a function that returns the total number of divisors that a certain integer has (other than 1 and itself). List all divisors."
   ]
  },
  {
   "cell_type": "code",
   "execution_count": 81,
   "id": "880aaa8d",
   "metadata": {
    "scrolled": true
   },
   "outputs": [
    {
     "ename": "NameError",
     "evalue": "name 'n' is not defined",
     "output_type": "error",
     "traceback": [
      "\u001b[1;31m---------------------------------------------------------------------------\u001b[0m",
      "\u001b[1;31mNameError\u001b[0m                                 Traceback (most recent call last)",
      "Input \u001b[1;32mIn [81]\u001b[0m, in \u001b[0;36m<cell line: 1>\u001b[1;34m()\u001b[0m\n\u001b[1;32m----> 1\u001b[0m \u001b[43mn\u001b[49m\n",
      "\u001b[1;31mNameError\u001b[0m: name 'n' is not defined"
     ]
    }
   ],
   "source": [
    "n"
   ]
  },
  {
   "cell_type": "code",
   "execution_count": 7,
   "id": "c5c38124",
   "metadata": {},
   "outputs": [],
   "source": [
    "def myfunction5(n):\n",
    "    divisors = []\n",
    "    for i in range (2, n):\n",
    "        if n % i == 0:\n",
    "            divisors.append(i)\n",
    "    print (divisors)\n",
    "    \n",
    "    return np.sum(divisors)"
   ]
  },
  {
   "cell_type": "code",
   "execution_count": 8,
   "id": "c271fea2",
   "metadata": {},
   "outputs": [
    {
     "name": "stdout",
     "output_type": "stream",
     "text": [
      "[2, 3]\n"
     ]
    },
    {
     "data": {
      "text/plain": [
       "5"
      ]
     },
     "execution_count": 8,
     "metadata": {},
     "output_type": "execute_result"
    }
   ],
   "source": [
    "myfunction5(6)"
   ]
  },
  {
   "cell_type": "markdown",
   "id": "34ed609b",
   "metadata": {},
   "source": [
    "6. Create a function which replaces the missing values in a vector with the median of the input vector and outputs the vector without any missing values."
   ]
  },
  {
   "cell_type": "code",
   "execution_count": 9,
   "id": "a3500059",
   "metadata": {},
   "outputs": [],
   "source": [
    "def myfunction6(v):\n",
    "    temp = []\n",
    "    missing = []\n",
    "    for index, element in enumerate(v):\n",
    "        if np.isnan(element):\n",
    "            missing.append(index)\n",
    "        else:\n",
    "            temp.append(index)\n",
    "    v[missing] = np.median(v[temp])\n",
    "    \n",
    "    return v"
   ]
  },
  {
   "cell_type": "code",
   "execution_count": 10,
   "id": "57c07350",
   "metadata": {},
   "outputs": [
    {
     "data": {
      "text/plain": [
       "array([1., 2., 3., 3., 5., 6., 3.])"
      ]
     },
     "execution_count": 10,
     "metadata": {},
     "output_type": "execute_result"
    }
   ],
   "source": [
    "sample = np.array([1,2,3,np.nan,5,6,np.nan])\n",
    "myfunction6(sample)"
   ]
  },
  {
   "cell_type": "markdown",
   "id": "9cedaf03",
   "metadata": {},
   "source": [
    "7. Create a function which calculates the Euclidean distance between two points. The input of this function should be two vectors of form (x1,y1) and (x2,y2) and the output the calculation of the Euclidean distance. The formula for the Euclidean distance is $\\sqrt{(x_1-x_2)^2+(y_1-y_2)^2}$"
   ]
  },
  {
   "cell_type": "code",
   "execution_count": 11,
   "id": "3e73a051",
   "metadata": {},
   "outputs": [],
   "source": [
    "def myfunction7(a,b):\n",
    "    return (np.sqrt(((a[0]-b[0])**2) + (a[1]-b[1])**2))"
   ]
  },
  {
   "cell_type": "markdown",
   "id": "17b1c386",
   "metadata": {},
   "source": [
    "8. Create a function that takes in a numeric vector and returns the number of outliers. In this case, outliers are defined as values that are 'two standard deviations away from the median'. Test the function with the $\\textbf{Salary}$ variable in the $\\textbf{Baseball.csv}$ file."
   ]
  },
  {
   "cell_type": "code",
   "execution_count": 12,
   "id": "0cccfd66",
   "metadata": {},
   "outputs": [
    {
     "data": {
      "text/html": [
       "<div>\n",
       "<style scoped>\n",
       "    .dataframe tbody tr th:only-of-type {\n",
       "        vertical-align: middle;\n",
       "    }\n",
       "\n",
       "    .dataframe tbody tr th {\n",
       "        vertical-align: top;\n",
       "    }\n",
       "\n",
       "    .dataframe thead th {\n",
       "        text-align: right;\n",
       "    }\n",
       "</style>\n",
       "<table border=\"1\" class=\"dataframe\">\n",
       "  <thead>\n",
       "    <tr style=\"text-align: right;\">\n",
       "      <th></th>\n",
       "      <th>Name</th>\n",
       "      <th>Salary</th>\n",
       "      <th>Average</th>\n",
       "    </tr>\n",
       "  </thead>\n",
       "  <tbody>\n",
       "    <tr>\n",
       "      <th>0</th>\n",
       "      <td>Matt</td>\n",
       "      <td>9500000</td>\n",
       "      <td>0.269</td>\n",
       "    </tr>\n",
       "    <tr>\n",
       "      <th>1</th>\n",
       "      <td>jim</td>\n",
       "      <td>8000000</td>\n",
       "      <td>0.282</td>\n",
       "    </tr>\n",
       "    <tr>\n",
       "      <th>2</th>\n",
       "      <td>jim</td>\n",
       "      <td>7333333</td>\n",
       "      <td>0.327</td>\n",
       "    </tr>\n",
       "    <tr>\n",
       "      <th>3</th>\n",
       "      <td>fred</td>\n",
       "      <td>7250000</td>\n",
       "      <td>0.259</td>\n",
       "    </tr>\n",
       "    <tr>\n",
       "      <th>4</th>\n",
       "      <td>jermaine</td>\n",
       "      <td>7166667</td>\n",
       "      <td>0.240</td>\n",
       "    </tr>\n",
       "  </tbody>\n",
       "</table>\n",
       "</div>"
      ],
      "text/plain": [
       "       Name   Salary   Average\n",
       "0      Matt   9500000    0.269\n",
       "1       jim   8000000    0.282\n",
       "2       jim   7333333    0.327\n",
       "3      fred   7250000    0.259\n",
       "4  jermaine   7166667    0.240"
      ]
     },
     "execution_count": 12,
     "metadata": {},
     "output_type": "execute_result"
    }
   ],
   "source": [
    "baseball = pd.read_csv('../../data/Baseball.csv')\n",
    "baseball.head()"
   ]
  },
  {
   "cell_type": "code",
   "execution_count": 13,
   "id": "8968fd3b",
   "metadata": {},
   "outputs": [
    {
     "data": {
      "text/plain": [
       "Index(['Name', ' Salary ', 'Average'], dtype='object')"
      ]
     },
     "execution_count": 13,
     "metadata": {},
     "output_type": "execute_result"
    }
   ],
   "source": [
    "baseball.columns"
   ]
  },
  {
   "cell_type": "code",
   "execution_count": 14,
   "id": "f34148c4",
   "metadata": {},
   "outputs": [],
   "source": [
    "def myfunction8(data):\n",
    "    n = len(data)\n",
    "    median = np.median(data)\n",
    "    deviations = [(x - np.mean(data)) ** 2 for x in data]\n",
    "    variance = sum(deviations) / n\n",
    "    std = np.sqrt(variance)\n",
    "    \n",
    "    outliers =[]\n",
    "    for e in data:\n",
    "        if np.abs(e-median) > 2*std:\n",
    "            outliers.append(e)\n",
    "\n",
    "    return outliers"
   ]
  },
  {
   "cell_type": "code",
   "execution_count": 15,
   "id": "2dba030a",
   "metadata": {},
   "outputs": [
    {
     "data": {
      "text/plain": [
       "[9500000, 8000000, 7333333]"
      ]
     },
     "execution_count": 15,
     "metadata": {},
     "output_type": "execute_result"
    }
   ],
   "source": [
    "myfunction8(baseball[' Salary '])"
   ]
  },
  {
   "cell_type": "code",
   "execution_count": null,
   "id": "d8da405e",
   "metadata": {},
   "outputs": [],
   "source": []
  }
 ],
 "metadata": {
  "interpreter": {
   "hash": "31f2aee4e71d21fbe5cf8b01ff0e069b9275f58929596ceb00d14d90e3e16cd6"
  },
  "kernelspec": {
   "display_name": "Python 3 (ipykernel)",
   "language": "python",
   "name": "python3"
  },
  "language_info": {
   "codemirror_mode": {
    "name": "ipython",
    "version": 3
   },
   "file_extension": ".py",
   "mimetype": "text/x-python",
   "name": "python",
   "nbconvert_exporter": "python",
   "pygments_lexer": "ipython3",
   "version": "3.9.12"
  },
  "toc-autonumbering": true,
  "toc-showcode": false,
  "toc-showmarkdowntxt": false,
  "toc-showtags": false
 },
 "nbformat": 4,
 "nbformat_minor": 5
}
