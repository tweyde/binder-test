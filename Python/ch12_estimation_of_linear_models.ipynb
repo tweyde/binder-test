{
 "cells": [
  {
   "cell_type": "markdown",
   "metadata": {},
   "source": [
    "# Chapter 12: Estimation of Linear Models"
   ]
  },
  {
   "cell_type": "code",
   "execution_count": 1,
   "metadata": {},
   "outputs": [],
   "source": [
    "import numpy as np\n",
    "import pandas as pd\n",
    "import matplotlib.pyplot as plt\n",
    "import seaborn as sns\n",
    "\n",
    "import scipy.stats"
   ]
  },
  {
   "cell_type": "code",
   "execution_count": 2,
   "metadata": {},
   "outputs": [],
   "source": [
    "MASchools = pd.read_csv(\"../data/MASchools.csv\")"
   ]
  },
  {
   "cell_type": "code",
   "execution_count": 3,
   "metadata": {},
   "outputs": [
    {
     "data": {
      "text/html": [
       "<div>\n",
       "<style scoped>\n",
       "    .dataframe tbody tr th:only-of-type {\n",
       "        vertical-align: middle;\n",
       "    }\n",
       "\n",
       "    .dataframe tbody tr th {\n",
       "        vertical-align: top;\n",
       "    }\n",
       "\n",
       "    .dataframe thead th {\n",
       "        text-align: right;\n",
       "    }\n",
       "</style>\n",
       "<table border=\"1\" class=\"dataframe\">\n",
       "  <thead>\n",
       "    <tr style=\"text-align: right;\">\n",
       "      <th></th>\n",
       "      <th>score4</th>\n",
       "      <th>exptot</th>\n",
       "      <th>scratio</th>\n",
       "      <th>special</th>\n",
       "      <th>stratio</th>\n",
       "      <th>salary</th>\n",
       "    </tr>\n",
       "  </thead>\n",
       "  <tbody>\n",
       "    <tr>\n",
       "      <th>0</th>\n",
       "      <td>714</td>\n",
       "      <td>4646</td>\n",
       "      <td>16.6</td>\n",
       "      <td>14.6</td>\n",
       "      <td>19.0</td>\n",
       "      <td>34.36</td>\n",
       "    </tr>\n",
       "    <tr>\n",
       "      <th>1</th>\n",
       "      <td>731</td>\n",
       "      <td>4930</td>\n",
       "      <td>5.7</td>\n",
       "      <td>17.4</td>\n",
       "      <td>22.6</td>\n",
       "      <td>38.06</td>\n",
       "    </tr>\n",
       "    <tr>\n",
       "      <th>2</th>\n",
       "      <td>704</td>\n",
       "      <td>4281</td>\n",
       "      <td>7.5</td>\n",
       "      <td>12.1</td>\n",
       "      <td>19.3</td>\n",
       "      <td>32.49</td>\n",
       "    </tr>\n",
       "    <tr>\n",
       "      <th>3</th>\n",
       "      <td>704</td>\n",
       "      <td>4826</td>\n",
       "      <td>8.6</td>\n",
       "      <td>21.1</td>\n",
       "      <td>17.9</td>\n",
       "      <td>33.11</td>\n",
       "    </tr>\n",
       "    <tr>\n",
       "      <th>4</th>\n",
       "      <td>701</td>\n",
       "      <td>4824</td>\n",
       "      <td>6.1</td>\n",
       "      <td>16.8</td>\n",
       "      <td>17.5</td>\n",
       "      <td>34.44</td>\n",
       "    </tr>\n",
       "    <tr>\n",
       "      <th>5</th>\n",
       "      <td>714</td>\n",
       "      <td>6454</td>\n",
       "      <td>7.7</td>\n",
       "      <td>17.2</td>\n",
       "      <td>15.7</td>\n",
       "      <td>NaN</td>\n",
       "    </tr>\n",
       "    <tr>\n",
       "      <th>6</th>\n",
       "      <td>725</td>\n",
       "      <td>5537</td>\n",
       "      <td>5.4</td>\n",
       "      <td>11.3</td>\n",
       "      <td>17.1</td>\n",
       "      <td>41.62</td>\n",
       "    </tr>\n",
       "  </tbody>\n",
       "</table>\n",
       "</div>"
      ],
      "text/plain": [
       "   score4  exptot  scratio  special  stratio  salary\n",
       "0     714    4646     16.6     14.6     19.0   34.36\n",
       "1     731    4930      5.7     17.4     22.6   38.06\n",
       "2     704    4281      7.5     12.1     19.3   32.49\n",
       "3     704    4826      8.6     21.1     17.9   33.11\n",
       "4     701    4824      6.1     16.8     17.5   34.44\n",
       "5     714    6454      7.7     17.2     15.7     NaN\n",
       "6     725    5537      5.4     11.3     17.1   41.62"
      ]
     },
     "execution_count": 3,
     "metadata": {},
     "output_type": "execute_result"
    }
   ],
   "source": [
    "df = MASchools.iloc[:, [12, 6,7,8,10,14]].copy()\n",
    "df.head(7).round(2)"
   ]
  },
  {
   "cell_type": "code",
   "execution_count": 4,
   "metadata": {},
   "outputs": [
    {
     "data": {
      "text/plain": [
       "score4      0.000000\n",
       "exptot      0.000000\n",
       "scratio     4.090909\n",
       "special     0.000000\n",
       "stratio     0.000000\n",
       "salary     11.363636\n",
       "dtype: float64"
      ]
     },
     "execution_count": 4,
     "metadata": {},
     "output_type": "execute_result"
    }
   ],
   "source": [
    "df.isna().mean()*100"
   ]
  },
  {
   "cell_type": "code",
   "execution_count": 5,
   "metadata": {},
   "outputs": [
    {
     "name": "stdout",
     "output_type": "stream",
     "text": [
      "True:  34 False:  186\n"
     ]
    }
   ],
   "source": [
    "num_na = df.isna().sum().sum()\n",
    "num_complete = len(df) - num_na\n",
    "print(\"True: \",num_na, \"False: \", num_complete)"
   ]
  },
  {
   "cell_type": "code",
   "execution_count": 6,
   "metadata": {},
   "outputs": [
    {
     "name": "stdout",
     "output_type": "stream",
     "text": [
      "35.992697446774216\n",
      "35.99269744677423\n",
      "3.1905555712426232\n",
      "3.0029293928495764\n"
     ]
    }
   ],
   "source": [
    "salarymean = df['salary'].mean()\n",
    "salaryimputed = df['salary'].fillna(salarymean)\n",
    "print(salarymean)\n",
    "print(salaryimputed.mean())\n",
    "print(df['salary'].std())\n",
    "print(salaryimputed.std())"
   ]
  },
  {
   "cell_type": "code",
   "execution_count": 7,
   "metadata": {},
   "outputs": [
    {
     "data": {
      "text/plain": [
       "array([False, False, False, False, False,  True, False, False, False,\n",
       "       False, False,  True, False, False, False, False, False, False,\n",
       "       False, False,  True, False, False,  True,  True, False, False,\n",
       "       False, False, False, False, False, False, False, False, False,\n",
       "       False, False, False, False, False, False, False, False, False,\n",
       "       False, False, False, False, False, False, False, False, False,\n",
       "       False, False,  True, False, False,  True, False, False, False,\n",
       "       False, False, False, False, False, False, False, False, False,\n",
       "       False, False, False, False,  True, False, False, False, False,\n",
       "       False, False, False, False, False,  True, False, False, False,\n",
       "       False, False, False, False, False, False, False, False, False,\n",
       "       False, False, False, False,  True, False, False, False, False,\n",
       "       False, False, False,  True, False, False, False, False, False,\n",
       "       False, False, False, False, False, False, False, False, False,\n",
       "        True, False,  True,  True, False, False, False, False, False,\n",
       "       False, False, False,  True, False, False, False, False, False,\n",
       "       False, False, False, False, False, False,  True, False, False,\n",
       "       False, False, False, False, False, False, False, False, False,\n",
       "       False,  True, False, False, False, False, False, False, False,\n",
       "       False, False, False, False, False, False, False, False, False,\n",
       "       False, False, False,  True, False,  True, False, False, False,\n",
       "       False, False, False, False, False, False, False,  True, False,\n",
       "       False,  True, False,  True, False, False, False, False, False,\n",
       "       False, False, False, False, False, False, False, False,  True,\n",
       "        True,  True, False, False])"
      ]
     },
     "execution_count": 7,
     "metadata": {},
     "output_type": "execute_result"
    }
   ],
   "source": [
    "df['salary'].isna().values"
   ]
  },
  {
   "cell_type": "code",
   "execution_count": 8,
   "metadata": {},
   "outputs": [
    {
     "data": {
      "text/plain": [
       "186"
      ]
     },
     "execution_count": 8,
     "metadata": {},
     "output_type": "execute_result"
    }
   ],
   "source": [
    "df1 = df.dropna().copy()\n",
    "len(df1)"
   ]
  },
  {
   "cell_type": "markdown",
   "metadata": {},
   "source": [
    "## Baseline Model"
   ]
  },
  {
   "cell_type": "code",
   "execution_count": 9,
   "metadata": {},
   "outputs": [
    {
     "name": "stdout",
     "output_type": "stream",
     "text": [
      "      fun: 907.3761934976435\n",
      " hess_inv: array([[13.44090285]])\n",
      "      jac: array([0.])\n",
      "  message: 'Optimization terminated successfully.'\n",
      "     nfev: 8\n",
      "      nit: 2\n",
      "     njev: 4\n",
      "   status: 0\n",
      "  success: True\n",
      "        x: array([709.03757973])\n"
     ]
    }
   ],
   "source": [
    "def LLnorm(mean1, standdev):\n",
    "    p = scipy.stats.norm(mean1, standdev).pdf(df1['score4'])\n",
    "    LL = np.sum(np.log(p))\n",
    "    return(-1*LL)\n",
    "res1 = scipy.optimize.minimize(LLnorm, x0 = [700], args=(50,))\n",
    "print(res1)"
   ]
  },
  {
   "cell_type": "code",
   "execution_count": 10,
   "metadata": {},
   "outputs": [
    {
     "data": {
      "image/png": "[encoded data removed]",
      "text/plain": [
       "<Figure size 432x288 with 1 Axes>"
      ]
     },
     "metadata": {
      "needs_background": "light"
     },
     "output_type": "display_data"
    }
   ],
   "source": [
    "# R:\n",
    "# SST = sum((df1$score4 - 709)^2)\n",
    "# SST\n",
    "# Python:\n",
    "x = np.arange(1, len(df1)+1)\n",
    "plt.plot(x, df1['score4'])\n",
    "plt.axhline(709, color='blue')\n",
    "plt.plot(x, df1['score4'], linestyle='-', marker='o', color='r')\n",
    "plt.show()"
   ]
  },
  {
   "cell_type": "code",
   "execution_count": 11,
   "metadata": {},
   "outputs": [
    {
     "name": "stdout",
     "output_type": "stream",
     "text": [
      "44087\n"
     ]
    }
   ],
   "source": [
    "SST = np.sum((df1['score4'] - 709)**2)\n",
    "print(SST)\n"
   ]
  },
  {
   "cell_type": "markdown",
   "metadata": {},
   "source": [
    "## Linear Regression Model"
   ]
  },
  {
   "cell_type": "code",
   "execution_count": 12,
   "metadata": {},
   "outputs": [],
   "source": [
    "def LLnorm(params):\n",
    "    b0, b1, b2, b3, b4, b5, standdev = params\n",
    "    mean1 = b0 + b1*df1['exptot'] + b2*df1['scratio'] + b3*df1['special'] + b4*df1['stratio'] + b5*df1['salary']\n",
    "    p = scipy.stats.norm(mean1, standdev).pdf(df1['score4'])\n",
    "    LL = np.sum(np.log(p))\n",
    "    return(-1*LL)"
   ]
  },
  {
   "cell_type": "code",
   "execution_count": 13,
   "metadata": {},
   "outputs": [
    {
     "name": "stdout",
     "output_type": "stream",
     "text": [
      "      fun: 772.462722882404\n",
      " hess_inv: array([[1, 0, 0, 0, 0, 0, 0],\n",
      "       [0, 1, 0, 0, 0, 0, 0],\n",
      "       [0, 0, 1, 0, 0, 0, 0],\n",
      "       [0, 0, 0, 1, 0, 0, 0],\n",
      "       [0, 0, 0, 0, 1, 0, 0],\n",
      "       [0, 0, 0, 0, 0, 1, 0],\n",
      "       [0, 0, 0, 0, 0, 0, 1]])\n",
      "      jac: array([-2.95104980e-02, -1.33883463e+03,  2.52403259e+00,  8.03593445e+00,\n",
      "        7.24870300e+00, -1.47317505e+01,  6.79016113e-03])\n",
      "  message: 'Desired error not necessarily achieved due to precision loss.'\n",
      "     nfev: 36\n",
      "      nit: 0\n",
      "     njev: 3\n",
      "   status: 2\n",
      "  success: False\n",
      "        x: array([709. ,   0. ,   0. ,   0. ,   0. ,   0. ,  15.4])\n"
     ]
    },
    {
     "name": "stderr",
     "output_type": "stream",
     "text": [
      "C:\\Users\\stefan\\AppData\\Local\\Temp/ipykernel_9928/3372930880.py:5: RuntimeWarning: divide by zero encountered in log\n",
      "  LL = np.sum(np.log(p))\n",
      "c:\\ProgramData\\Anaconda3\\envs\\book\\lib\\site-packages\\scipy\\optimize\\_numdiff.py:557: RuntimeWarning: invalid value encountered in subtract\n",
      "  df = fun(x) - f0\n",
      "C:\\Users\\stefan\\AppData\\Local\\Temp/ipykernel_9928/3372930880.py:5: RuntimeWarning: divide by zero encountered in log\n",
      "  LL = np.sum(np.log(p))\n"
     ]
    }
   ],
   "source": [
    "res2 = scipy.optimize.minimize(LLnorm, x0 = [709, 0, 0, 0, 0, 0, 15.4])\n",
    "print(res2)"
   ]
  },
  {
   "cell_type": "markdown",
   "metadata": {},
   "source": [
    "## Regression Equations"
   ]
  },
  {
   "cell_type": "code",
   "execution_count": 14,
   "metadata": {},
   "outputs": [
    {
     "data": {
      "text/plain": [
       "array([709. ,   0. ,   0. ,   0. ,   0. ,   0. ,  15.4])"
      ]
     },
     "execution_count": 14,
     "metadata": {},
     "output_type": "execute_result"
    }
   ],
   "source": [
    "res2.x"
   ]
  },
  {
   "cell_type": "code",
   "execution_count": 15,
   "metadata": {},
   "outputs": [
    {
     "data": {
      "text/html": [
       "<div>\n",
       "<style scoped>\n",
       "    .dataframe tbody tr th:only-of-type {\n",
       "        vertical-align: middle;\n",
       "    }\n",
       "\n",
       "    .dataframe tbody tr th {\n",
       "        vertical-align: top;\n",
       "    }\n",
       "\n",
       "    .dataframe thead th {\n",
       "        text-align: right;\n",
       "    }\n",
       "</style>\n",
       "<table border=\"1\" class=\"dataframe\">\n",
       "  <thead>\n",
       "    <tr style=\"text-align: right;\">\n",
       "      <th></th>\n",
       "      <th>score4</th>\n",
       "      <th>baseline</th>\n",
       "      <th>regression</th>\n",
       "      <th>regerror</th>\n",
       "    </tr>\n",
       "  </thead>\n",
       "  <tbody>\n",
       "    <tr>\n",
       "      <th>0</th>\n",
       "      <td>714</td>\n",
       "      <td>709</td>\n",
       "      <td>709.0</td>\n",
       "      <td>5.0</td>\n",
       "    </tr>\n",
       "    <tr>\n",
       "      <th>1</th>\n",
       "      <td>731</td>\n",
       "      <td>709</td>\n",
       "      <td>709.0</td>\n",
       "      <td>22.0</td>\n",
       "    </tr>\n",
       "    <tr>\n",
       "      <th>2</th>\n",
       "      <td>704</td>\n",
       "      <td>709</td>\n",
       "      <td>709.0</td>\n",
       "      <td>-5.0</td>\n",
       "    </tr>\n",
       "    <tr>\n",
       "      <th>3</th>\n",
       "      <td>704</td>\n",
       "      <td>709</td>\n",
       "      <td>709.0</td>\n",
       "      <td>-5.0</td>\n",
       "    </tr>\n",
       "    <tr>\n",
       "      <th>4</th>\n",
       "      <td>701</td>\n",
       "      <td>709</td>\n",
       "      <td>709.0</td>\n",
       "      <td>-8.0</td>\n",
       "    </tr>\n",
       "  </tbody>\n",
       "</table>\n",
       "</div>"
      ],
      "text/plain": [
       "   score4  baseline  regression  regerror\n",
       "0     714       709       709.0       5.0\n",
       "1     731       709       709.0      22.0\n",
       "2     704       709       709.0      -5.0\n",
       "3     704       709       709.0      -5.0\n",
       "4     701       709       709.0      -8.0"
      ]
     },
     "execution_count": 15,
     "metadata": {},
     "output_type": "execute_result"
    }
   ],
   "source": [
    "df1['baseline'] = 709\n",
    "df1['regression'] = df1[['exptot', 'scratio', 'special', 'stratio', 'salary']].dot(res2.x[1:6]) + res2.x[0]\n",
    "df1['regerror'] = df1['score4'] - df1['regression']\n",
    "df1.round(3).iloc[0:5, [0,6,7,8]]\n"
   ]
  },
  {
   "cell_type": "code",
   "execution_count": 16,
   "metadata": {},
   "outputs": [
    {
     "data": {
      "image/png": "[encoded data removed]",
      "text/plain": [
       "<Figure size 432x288 with 1 Axes>"
      ]
     },
     "metadata": {
      "needs_background": "light"
     },
     "output_type": "display_data"
    }
   ],
   "source": [
    "x = np.arange(1, len(df1)+1)\n",
    "plt.plot(x, df1['regerror'], color='purple', marker='o', linestyle='-')\n",
    "plt.axhline(0, color='red')\n",
    "plt.show()"
   ]
  },
  {
   "cell_type": "code",
   "execution_count": 18,
   "metadata": {},
   "outputs": [
    {
     "name": "stdout",
     "output_type": "stream",
     "text": [
      "44087.0\n"
     ]
    }
   ],
   "source": [
    "SSE = np.sum((df1['regression'] - df1['score4'])**2)\n",
    "print(SSE)\n"
   ]
  },
  {
   "cell_type": "code",
   "execution_count": 20,
   "metadata": {},
   "outputs": [
    {
     "name": "stdout",
     "output_type": "stream",
     "text": [
      "0.0\n"
     ]
    }
   ],
   "source": [
    "Rsquare = 1 - (SSE/SST)\n",
    "print(Rsquare)\n"
   ]
  },
  {
   "cell_type": "code",
   "execution_count": 21,
   "metadata": {},
   "outputs": [
    {
     "name": "stdout",
     "output_type": "stream",
     "text": [
      "0.2755178562766506\n"
     ]
    }
   ],
   "source": [
    "varbaseline = 15.39563**2\n",
    "varregression = 13.1042240**2\n",
    "print(1 - (varregression/varbaseline))"
   ]
  },
  {
   "cell_type": "markdown",
   "metadata": {},
   "source": [
    "### Statistical Significance"
   ]
  },
  {
   "cell_type": "code",
   "execution_count": 33,
   "metadata": {},
   "outputs": [
    {
     "data": {
      "image/png": "[encoded data removed]",
      "text/plain": [
       "<Figure size 432x288 with 1 Axes>"
      ]
     },
     "metadata": {
      "needs_background": "light"
     },
     "output_type": "display_data"
    }
   ],
   "source": [
    "m1 = -0.1083852\n",
    "se1 = 0.3516757\n",
    "x = np.arange(-1, 1, 0.01)\n",
    "p = scipy.stats.norm(m1, se1).pdf(x)\n",
    "plt.plot(x, p, color='purple', linestyle='-')\n",
    "plt.axvline(m1, color='red')\n",
    "plt.show()"
   ]
  },
  {
   "cell_type": "code",
   "execution_count": 39,
   "metadata": {},
   "outputs": [
    {
     "data": {
      "image/png": "[encoded data removed]",
      "text/plain": [
       "<Figure size 432x288 with 1 Axes>"
      ]
     },
     "metadata": {
      "needs_background": "light"
     },
     "output_type": "display_data"
    },
    {
     "name": "stdout",
     "output_type": "stream",
     "text": [
      "0.7579328585323364\n"
     ]
    }
   ],
   "source": [
    "gap = abs(m1 - 0)\n",
    "x = np.arange(-1, 1, 0.01)\n",
    "p = scipy.stats.norm(m1, se1).pdf(x)\n",
    "plt.plot(x, p, color='purple', linestyle='-')\n",
    "plt.axvline(m1, color='black')\n",
    "plt.axvline(m1 - gap, color='blue')\n",
    "plt.axvline(m1 + gap, color='blue')\n",
    "plt.show()\n",
    "a = scipy.stats.norm(m1, se1).cdf(m1 + gap)\n",
    "b = scipy.stats.norm(m1, se1).cdf(m1 - gap)\n",
    "pval1 = 1 - (a - b)\n",
    "print(pval1)"
   ]
  },
  {
   "cell_type": "markdown",
   "metadata": {},
   "source": [
    "### Assumptions of the Regression Model"
   ]
  },
  {
   "cell_type": "code",
   "execution_count": 43,
   "metadata": {},
   "outputs": [
    {
     "data": {
      "image/png": "[encoded data removed]",
      "text/plain": [
       "<Figure size 432x288 with 1 Axes>"
      ]
     },
     "metadata": {
      "needs_background": "light"
     },
     "output_type": "display_data"
    },
    {
     "name": "stdout",
     "output_type": "stream",
     "text": [
      "ShapiroResult(statistic=0.9795407056808472, pvalue=0.007901106961071491)\n"
     ]
    }
   ],
   "source": [
    "sns.kdeplot(df1['regerror'], color='purple')\n",
    "plt.show()\n",
    "shapiro = scipy.stats.shapiro(df1['regerror'])\n",
    "print(shapiro)"
   ]
  },
  {
   "cell_type": "code",
   "execution_count": 47,
   "metadata": {},
   "outputs": [
    {
     "data": {
      "image/png": "[encoded data removed]",
      "text/plain": [
       "<Figure size 432x288 with 1 Axes>"
      ]
     },
     "metadata": {
      "needs_background": "light"
     },
     "output_type": "display_data"
    }
   ],
   "source": [
    "plt.plot(df1['regression'], df1['regerror'], color='purple', marker='o', linestyle='-')\n",
    "plt.axhline(0, color='red')\n",
    "plt.plot(df1['regression'], df1['regerror'], color='purple', marker='o', linestyle='-')\n",
    "plt.axhline(0, color='red')\n",
    "plt.xlabel('Regression')\n",
    "plt.ylabel('Regression Error')\n",
    "plt.show()\n"
   ]
  },
  {
   "cell_type": "markdown",
   "metadata": {},
   "source": [
    "### Regression Functions in R and Python"
   ]
  },
  {
   "cell_type": "code",
   "execution_count": 52,
   "metadata": {},
   "outputs": [
    {
     "name": "stdout",
     "output_type": "stream",
     "text": [
      "                            OLS Regression Results                            \n",
      "==============================================================================\n",
      "Dep. Variable:                 score4   R-squared:                       0.276\n",
      "Model:                            OLS   Adj. R-squared:                  0.255\n",
      "Method:                 Least Squares   F-statistic:                     13.69\n",
      "Date:                Sat, 11 Jun 2022   Prob (F-statistic):           2.50e-11\n",
      "Time:                        12:39:54   Log-Likelihood:                -742.49\n",
      "No. Observations:                 186   AIC:                             1497.\n",
      "Df Residuals:                     180   BIC:                             1516.\n",
      "Df Model:                           5                                         \n",
      "Covariance Type:            nonrobust                                         \n",
      "==============================================================================\n",
      "                 coef    std err          t      P>|t|      [0.025      0.975]\n",
      "------------------------------------------------------------------------------\n",
      "Intercept    714.7035     16.343     43.730      0.000     682.454     746.953\n",
      "exptot        -0.0050      0.001     -3.353      0.001      -0.008      -0.002\n",
      "scratio       -0.1079      0.367     -0.294      0.769      -0.833       0.617\n",
      "special       -0.7163      0.280     -2.554      0.011      -1.270      -0.163\n",
      "stratio       -2.6469      0.492     -5.384      0.000      -3.617      -1.677\n",
      "salary         2.2107      0.374      5.914      0.000       1.473       2.948\n",
      "==============================================================================\n",
      "Omnibus:                        3.989   Durbin-Watson:                   2.049\n",
      "Prob(Omnibus):                  0.136   Jarque-Bera (JB):                4.735\n",
      "Skew:                          -0.095   Prob(JB):                       0.0937\n",
      "Kurtosis:                       3.758   Cond. No.                     8.99e+04\n",
      "==============================================================================\n",
      "\n",
      "Notes:\n",
      "[1] Standard Errors assume that the covariance matrix of the errors is correctly specified.\n",
      "[2] The condition number is large, 8.99e+04. This might indicate that there are\n",
      "strong multicollinearity or other numerical problems.\n"
     ]
    }
   ],
   "source": [
    "from statsmodels.formula.api import ols\n",
    "res3 = ols(\"score4 ~ exptot + scratio + special + stratio + salary\", data=df1).fit()\n",
    "print(res3.summary())"
   ]
  },
  {
   "cell_type": "code",
   "execution_count": null,
   "metadata": {},
   "outputs": [],
   "source": []
  }
 ],
 "metadata": {
  "interpreter": {
   "hash": "4e1d444b270bec56bb770703623aaae73b0d2100263d694401d1f160aa2b76ad"
  },
  "kernelspec": {
   "display_name": "Python 3.9.7 ('book')",
   "language": "python",
   "name": "python3"
  },
  "language_info": {
   "codemirror_mode": {
    "name": "ipython",
    "version": 3
   },
   "file_extension": ".py",
   "mimetype": "text/x-python",
   "name": "python",
   "nbconvert_exporter": "python",
   "pygments_lexer": "ipython3",
   "version": "3.9.7"
  }
 },
 "nbformat": 4,
 "nbformat_minor": 4
}
