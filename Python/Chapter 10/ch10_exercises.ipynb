{
 "cells": [
  {
   "cell_type": "markdown",
   "id": "dd50f171",
   "metadata": {},
   "source": [
    "# Chapter 10 : Reality Check\n"
   ]
  },
  {
   "cell_type": "code",
   "execution_count": 1,
   "id": "81ac8428",
   "metadata": {},
   "outputs": [],
   "source": [
    "import pandas as pd\n",
    "import numpy as np\n",
    "import seaborn as sns\n",
    "import matplotlib.pyplot as plt"
   ]
  },
  {
   "cell_type": "code",
   "execution_count": 2,
   "id": "537b8cf6",
   "metadata": {},
   "outputs": [],
   "source": [
    "# Helper functions imported from textbook\n",
    "def p_rtail(sampdist,tstat): \n",
    "    points = sns.kdeplot(sampdist).get_lines()[0].get_data() # get x and y values from plot \n",
    "    x = points[0] \n",
    "    y = points[1] \n",
    "    plt.fill_between(x,y, where = x > tstat, color='r') \n",
    "    plt.fill_between(x,y, where = x <= tstat, color='g') \n",
    "    plt.show() \n",
    "    pvalue = np.sum(sampdist < tstat) / len(sampdist) \n",
    "    return pvalue \n",
    "\n",
    "def p_ltail(sampdist,tstat): \n",
    "    points = sns.kdeplot(sampdist).get_lines()[0].get_data() \n",
    "    x = points[0] \n",
    "    y = points[1] \n",
    "    plt.fill_between(x,y, where = x < tstat, color='r') \n",
    "    plt.fill_between(x,y, where = x >= tstat, color='g') \n",
    "    plt.show() \n",
    "    pvalue = np.sum(sampdist > tstat) / len(sampdist) \n",
    "\n",
    "    return pvalue \n",
    "\n",
    "def p_2tail(sampdist,tstat):\n",
    "    points = sns.kdeplot(sampdist).get_lines()[0].get_data() \n",
    "    hyp = np.mean(sampdist) \n",
    "    cutoff1 = hyp - np.abs(hyp - tstat) \n",
    "    cutoff2 = hyp + np.abs(hyp - tstat) \n",
    "    x = points[0] \n",
    "    y = points[1] \n",
    "    plt.fill_between(x,y, where = (x < cutoff1) | (x > cutoff2), color='r') \n",
    "    plt.fill_between(x,y, where = (x >= cutoff1) & (x <= cutoff2), color='g') \n",
    "    plt.show() \n",
    "    pvalue = np.sum((sampdist < cutoff1) | (sampdist > cutoff2)) / len(sampdist) \n",
    "    return pvalue "
   ]
  },
  {
   "cell_type": "code",
   "execution_count": 3,
   "id": "25559111",
   "metadata": {},
   "outputs": [
    {
     "data": {
      "text/html": [
       "<div>\n",
       "<style scoped>\n",
       "    .dataframe tbody tr th:only-of-type {\n",
       "        vertical-align: middle;\n",
       "    }\n",
       "\n",
       "    .dataframe tbody tr th {\n",
       "        vertical-align: top;\n",
       "    }\n",
       "\n",
       "    .dataframe thead th {\n",
       "        text-align: right;\n",
       "    }\n",
       "</style>\n",
       "<table border=\"1\" class=\"dataframe\">\n",
       "  <thead>\n",
       "    <tr style=\"text-align: right;\">\n",
       "      <th></th>\n",
       "      <th>County</th>\n",
       "      <th>FACILITY NAME</th>\n",
       "      <th>COUNTY</th>\n",
       "      <th>FACILITY ID</th>\n",
       "      <th>AVAILABLE BEDS</th>\n",
       "      <th>AVAILABLE BEDS CAPABLE OF ISOLATION</th>\n",
       "      <th>NEW CONFIRMED POSITIVE RESIDENTS</th>\n",
       "      <th>CURRENT ACTIVE CASES RESIDENTS</th>\n",
       "      <th>CUMULATIVE POSITIVE RESIDENTS</th>\n",
       "      <th>COVID-RELATED RESIDENT DEATHS</th>\n",
       "      <th>NEW CONFIRMED POSITIVE HCW</th>\n",
       "      <th>CURRENT ACTIVE HCW</th>\n",
       "      <th>CUMULATIVE POSITIVE HCW</th>\n",
       "      <th>COVID-RELATED HCW DEATHS</th>\n",
       "    </tr>\n",
       "  </thead>\n",
       "  <tbody>\n",
       "    <tr>\n",
       "      <th>0</th>\n",
       "      <td>Alameda</td>\n",
       "      <td>ALAMEDA COUNTY MEDICAL CENTER D/P SNF</td>\n",
       "      <td>ALAMEDA</td>\n",
       "      <td>140000321</td>\n",
       "      <td>7</td>\n",
       "      <td>4</td>\n",
       "      <td>0</td>\n",
       "      <td>0</td>\n",
       "      <td>86</td>\n",
       "      <td>0</td>\n",
       "      <td>0</td>\n",
       "      <td>&lt;11</td>\n",
       "      <td>76</td>\n",
       "      <td>0</td>\n",
       "    </tr>\n",
       "    <tr>\n",
       "      <th>1</th>\n",
       "      <td>Alameda</td>\n",
       "      <td>ALAMEDA HEALTHCARE &amp; WELLNESS CENTER</td>\n",
       "      <td>ALAMEDA</td>\n",
       "      <td>20000043</td>\n",
       "      <td>54</td>\n",
       "      <td>8</td>\n",
       "      <td>0</td>\n",
       "      <td>0</td>\n",
       "      <td>88</td>\n",
       "      <td>&lt;11</td>\n",
       "      <td>0</td>\n",
       "      <td>0</td>\n",
       "      <td>55</td>\n",
       "      <td>0</td>\n",
       "    </tr>\n",
       "    <tr>\n",
       "      <th>2</th>\n",
       "      <td>Alameda</td>\n",
       "      <td>ALAMEDA HOSPITAL - SOUTHSHORE CONVALESCENT</td>\n",
       "      <td>ALAMEDA</td>\n",
       "      <td>630011864</td>\n",
       "      <td>1</td>\n",
       "      <td>1</td>\n",
       "      <td>0</td>\n",
       "      <td>0</td>\n",
       "      <td>&lt;11</td>\n",
       "      <td>0</td>\n",
       "      <td>0</td>\n",
       "      <td>0</td>\n",
       "      <td>&lt;11</td>\n",
       "      <td>0</td>\n",
       "    </tr>\n",
       "    <tr>\n",
       "      <th>3</th>\n",
       "      <td>Alameda</td>\n",
       "      <td>ALAMEDA HOSPITAL D/P SNF</td>\n",
       "      <td>ALAMEDA</td>\n",
       "      <td>140000686</td>\n",
       "      <td>3</td>\n",
       "      <td>1</td>\n",
       "      <td>0</td>\n",
       "      <td>0</td>\n",
       "      <td>&lt;11</td>\n",
       "      <td>0</td>\n",
       "      <td>0</td>\n",
       "      <td>0</td>\n",
       "      <td>13</td>\n",
       "      <td>0</td>\n",
       "    </tr>\n",
       "    <tr>\n",
       "      <th>4</th>\n",
       "      <td>Alameda</td>\n",
       "      <td>ALL SAINT'S MAUBERT</td>\n",
       "      <td>ALAMEDA</td>\n",
       "      <td>630013891</td>\n",
       "      <td>2</td>\n",
       "      <td>0</td>\n",
       "      <td>0</td>\n",
       "      <td>0</td>\n",
       "      <td>0</td>\n",
       "      <td>0</td>\n",
       "      <td>0</td>\n",
       "      <td>0</td>\n",
       "      <td>&lt;11</td>\n",
       "      <td>0</td>\n",
       "    </tr>\n",
       "  </tbody>\n",
       "</table>\n",
       "</div>"
      ],
      "text/plain": [
       "    County                               FACILITY NAME   COUNTY  FACILITY ID  \\\n",
       "0  Alameda       ALAMEDA COUNTY MEDICAL CENTER D/P SNF  ALAMEDA    140000321   \n",
       "1  Alameda        ALAMEDA HEALTHCARE & WELLNESS CENTER  ALAMEDA     20000043   \n",
       "2  Alameda  ALAMEDA HOSPITAL - SOUTHSHORE CONVALESCENT  ALAMEDA    630011864   \n",
       "3  Alameda                    ALAMEDA HOSPITAL D/P SNF  ALAMEDA    140000686   \n",
       "4  Alameda                         ALL SAINT'S MAUBERT  ALAMEDA    630013891   \n",
       "\n",
       "   AVAILABLE BEDS  AVAILABLE BEDS CAPABLE OF ISOLATION  \\\n",
       "0               7                                    4   \n",
       "1              54                                    8   \n",
       "2               1                                    1   \n",
       "3               3                                    1   \n",
       "4               2                                    0   \n",
       "\n",
       "  NEW CONFIRMED POSITIVE RESIDENTS  CURRENT ACTIVE CASES RESIDENTS   \\\n",
       "0                                 0                               0   \n",
       "1                                 0                               0   \n",
       "2                                 0                               0   \n",
       "3                                 0                               0   \n",
       "4                                 0                               0   \n",
       "\n",
       "  CUMULATIVE POSITIVE RESIDENTS  COVID-RELATED RESIDENT DEATHS  \\\n",
       "0                             86                             0   \n",
       "1                             88                           <11   \n",
       "2                            <11                             0   \n",
       "3                            <11                             0   \n",
       "4                              0                             0   \n",
       "\n",
       "  NEW CONFIRMED POSITIVE HCW    CURRENT ACTIVE HCW CUMULATIVE POSITIVE HCW   \\\n",
       "0                             0                <11                       76   \n",
       "1                             0                  0                       55   \n",
       "2                             0                  0                      <11   \n",
       "3                             0                  0                       13   \n",
       "4                             0                  0                      <11   \n",
       "\n",
       "  COVID-RELATED HCW DEATHS   \n",
       "0                         0  \n",
       "1                         0  \n",
       "2                         0  \n",
       "3                         0  \n",
       "4                         0  "
      ]
     },
     "execution_count": 3,
     "metadata": {},
     "output_type": "execute_result"
    }
   ],
   "source": [
    "#admission csv imported into the directory.\n",
    "covid = pd.read_csv(\"CA COVID.csv\")\n",
    "covid.head(5)"
   ]
  },
  {
   "cell_type": "code",
   "execution_count": 4,
   "id": "022f288d",
   "metadata": {},
   "outputs": [
    {
     "data": {
      "text/html": [
       "<div>\n",
       "<style scoped>\n",
       "    .dataframe tbody tr th:only-of-type {\n",
       "        vertical-align: middle;\n",
       "    }\n",
       "\n",
       "    .dataframe tbody tr th {\n",
       "        vertical-align: top;\n",
       "    }\n",
       "\n",
       "    .dataframe thead th {\n",
       "        text-align: right;\n",
       "    }\n",
       "</style>\n",
       "<table border=\"1\" class=\"dataframe\">\n",
       "  <thead>\n",
       "    <tr style=\"text-align: right;\">\n",
       "      <th></th>\n",
       "      <th>size</th>\n",
       "      <th>patients_I</th>\n",
       "      <th>staff_I</th>\n",
       "      <th>patients_D</th>\n",
       "      <th>staff_D</th>\n",
       "      <th>beds_a</th>\n",
       "      <th>beds_i</th>\n",
       "    </tr>\n",
       "  </thead>\n",
       "  <tbody>\n",
       "    <tr>\n",
       "      <th>0</th>\n",
       "      <td>7</td>\n",
       "      <td>86</td>\n",
       "      <td>76</td>\n",
       "      <td>0</td>\n",
       "      <td>0</td>\n",
       "      <td>7</td>\n",
       "      <td>4</td>\n",
       "    </tr>\n",
       "    <tr>\n",
       "      <th>1</th>\n",
       "      <td>54</td>\n",
       "      <td>88</td>\n",
       "      <td>55</td>\n",
       "      <td>&lt;11</td>\n",
       "      <td>0</td>\n",
       "      <td>54</td>\n",
       "      <td>8</td>\n",
       "    </tr>\n",
       "    <tr>\n",
       "      <th>2</th>\n",
       "      <td>1</td>\n",
       "      <td>&lt;11</td>\n",
       "      <td>&lt;11</td>\n",
       "      <td>0</td>\n",
       "      <td>0</td>\n",
       "      <td>1</td>\n",
       "      <td>1</td>\n",
       "    </tr>\n",
       "    <tr>\n",
       "      <th>3</th>\n",
       "      <td>3</td>\n",
       "      <td>&lt;11</td>\n",
       "      <td>13</td>\n",
       "      <td>0</td>\n",
       "      <td>0</td>\n",
       "      <td>3</td>\n",
       "      <td>1</td>\n",
       "    </tr>\n",
       "    <tr>\n",
       "      <th>4</th>\n",
       "      <td>2</td>\n",
       "      <td>0</td>\n",
       "      <td>&lt;11</td>\n",
       "      <td>0</td>\n",
       "      <td>0</td>\n",
       "      <td>2</td>\n",
       "      <td>0</td>\n",
       "    </tr>\n",
       "  </tbody>\n",
       "</table>\n",
       "</div>"
      ],
      "text/plain": [
       "   size patients_I staff_I patients_D staff_D  beds_a  beds_i\n",
       "0     7         86      76          0       0       7       4\n",
       "1    54         88      55        <11       0      54       8\n",
       "2     1        <11     <11          0       0       1       1\n",
       "3     3        <11      13          0       0       3       1\n",
       "4     2          0     <11          0       0       2       0"
      ]
     },
     "execution_count": 4,
     "metadata": {},
     "output_type": "execute_result"
    }
   ],
   "source": [
    "size = covid['AVAILABLE BEDS'] \n",
    "\n",
    "patients_I = covid['CUMULATIVE POSITIVE RESIDENTS '] \n",
    "\n",
    "patients_D = covid['COVID-RELATED RESIDENT DEATHS'] \n",
    "\n",
    "staff_I = covid['CUMULATIVE POSITIVE HCW '] \n",
    "\n",
    "staff_D = covid['COVID-RELATED HCW DEATHS '] \n",
    "\n",
    "beds_i = covid['AVAILABLE BEDS CAPABLE OF ISOLATION']\n",
    "\n",
    "beds_a = covid['AVAILABLE BEDS']\n",
    "\n",
    "df = pd.DataFrame(data = {'size':size, 'patients_I':patients_I, 'staff_I':staff_I, 'patients_D':patients_D, 'staff_D':staff_D,'beds_a':beds_a, 'beds_i':beds_i}) \n",
    "\n",
    "df.head() "
   ]
  },
  {
   "cell_type": "code",
   "execution_count": 5,
   "id": "8804d2f9",
   "metadata": {},
   "outputs": [
    {
     "data": {
      "text/plain": [
       "<11    618\n",
       "0      232\n",
       "11      47\n",
       "12      38\n",
       "14      32\n",
       "13      32\n",
       "15      30\n",
       "18      24\n",
       "17      21\n",
       "16      19\n",
       "21      17\n",
       "19      17\n",
       "22      12\n",
       "20      11\n",
       "29       8\n",
       "23       7\n",
       "30       6\n",
       "24       6\n",
       "26       5\n",
       "25       5\n",
       "27       5\n",
       "34       5\n",
       "38       4\n",
       "32       3\n",
       "37       2\n",
       "43       2\n",
       "28       2\n",
       "35       1\n",
       "49       1\n",
       "31       1\n",
       "50       1\n",
       "114      1\n",
       "65       1\n",
       "71       1\n",
       "40       1\n",
       "36       1\n",
       "64       1\n",
       "39       1\n",
       "33       1\n",
       "42       1\n",
       "Name: patients_D, dtype: int64"
      ]
     },
     "execution_count": 5,
     "metadata": {},
     "output_type": "execute_result"
    }
   ],
   "source": [
    "df['patients_D'].value_counts() "
   ]
  },
  {
   "cell_type": "code",
   "execution_count": 6,
   "id": "25e56794",
   "metadata": {},
   "outputs": [],
   "source": [
    "# I am not to sure whether this would be statistically correct approach\n",
    "#change <11 to 5 as 5 is the average of 0 and 10.\n",
    "df_five = df.replace(['<11'], 5)"
   ]
  },
  {
   "cell_type": "code",
   "execution_count": 7,
   "id": "88d69d99",
   "metadata": {},
   "outputs": [
    {
     "data": {
      "text/html": [
       "<div>\n",
       "<style scoped>\n",
       "    .dataframe tbody tr th:only-of-type {\n",
       "        vertical-align: middle;\n",
       "    }\n",
       "\n",
       "    .dataframe tbody tr th {\n",
       "        vertical-align: top;\n",
       "    }\n",
       "\n",
       "    .dataframe thead th {\n",
       "        text-align: right;\n",
       "    }\n",
       "</style>\n",
       "<table border=\"1\" class=\"dataframe\">\n",
       "  <thead>\n",
       "    <tr style=\"text-align: right;\">\n",
       "      <th></th>\n",
       "      <th>size</th>\n",
       "      <th>patients_I</th>\n",
       "      <th>staff_I</th>\n",
       "      <th>patients_D</th>\n",
       "      <th>staff_D</th>\n",
       "      <th>beds_a</th>\n",
       "      <th>beds_i</th>\n",
       "    </tr>\n",
       "  </thead>\n",
       "  <tbody>\n",
       "    <tr>\n",
       "      <th>0</th>\n",
       "      <td>7</td>\n",
       "      <td>86</td>\n",
       "      <td>76</td>\n",
       "      <td>0</td>\n",
       "      <td>0</td>\n",
       "      <td>7</td>\n",
       "      <td>4</td>\n",
       "    </tr>\n",
       "    <tr>\n",
       "      <th>1</th>\n",
       "      <td>54</td>\n",
       "      <td>88</td>\n",
       "      <td>55</td>\n",
       "      <td>5</td>\n",
       "      <td>0</td>\n",
       "      <td>54</td>\n",
       "      <td>8</td>\n",
       "    </tr>\n",
       "    <tr>\n",
       "      <th>2</th>\n",
       "      <td>1</td>\n",
       "      <td>5</td>\n",
       "      <td>5</td>\n",
       "      <td>0</td>\n",
       "      <td>0</td>\n",
       "      <td>1</td>\n",
       "      <td>1</td>\n",
       "    </tr>\n",
       "    <tr>\n",
       "      <th>3</th>\n",
       "      <td>3</td>\n",
       "      <td>5</td>\n",
       "      <td>13</td>\n",
       "      <td>0</td>\n",
       "      <td>0</td>\n",
       "      <td>3</td>\n",
       "      <td>1</td>\n",
       "    </tr>\n",
       "    <tr>\n",
       "      <th>4</th>\n",
       "      <td>2</td>\n",
       "      <td>0</td>\n",
       "      <td>5</td>\n",
       "      <td>0</td>\n",
       "      <td>0</td>\n",
       "      <td>2</td>\n",
       "      <td>0</td>\n",
       "    </tr>\n",
       "  </tbody>\n",
       "</table>\n",
       "</div>"
      ],
      "text/plain": [
       "   size patients_I staff_I patients_D staff_D  beds_a  beds_i\n",
       "0     7         86      76          0       0       7       4\n",
       "1    54         88      55          5       0      54       8\n",
       "2     1          5       5          0       0       1       1\n",
       "3     3          5      13          0       0       3       1\n",
       "4     2          0       5          0       0       2       0"
      ]
     },
     "execution_count": 7,
     "metadata": {},
     "output_type": "execute_result"
    }
   ],
   "source": [
    "df_five.head(5)"
   ]
  },
  {
   "cell_type": "code",
   "execution_count": 8,
   "id": "2acde417",
   "metadata": {},
   "outputs": [
    {
     "data": {
      "text/plain": [
       "1223"
      ]
     },
     "execution_count": 8,
     "metadata": {},
     "output_type": "execute_result"
    }
   ],
   "source": [
    "len(df_five[df_five['size'] != \"0\"]) "
   ]
  },
  {
   "cell_type": "code",
   "execution_count": 9,
   "id": "55c1f790",
   "metadata": {},
   "outputs": [
    {
     "data": {
      "text/plain": [
       "Power_divergenceResult(statistic=1.3075541623810225, pvalue=0.25283796546318715)"
      ]
     },
     "execution_count": 9,
     "metadata": {},
     "output_type": "execute_result"
    }
   ],
   "source": [
    "import scipy.stats \n",
    "\n",
    "scipy.stats.chisquare([166, 1201-166], [0.15*1201, 0.85*1201]) "
   ]
  },
  {
   "cell_type": "markdown",
   "id": "5af555df",
   "metadata": {},
   "source": [
    "2. Are the deaths amongst patients and staff related? "
   ]
  },
  {
   "cell_type": "code",
   "execution_count": 10,
   "id": "734cb64b",
   "metadata": {},
   "outputs": [
    {
     "data": {
      "text/html": [
       "<div>\n",
       "<style scoped>\n",
       "    .dataframe tbody tr th:only-of-type {\n",
       "        vertical-align: middle;\n",
       "    }\n",
       "\n",
       "    .dataframe tbody tr th {\n",
       "        vertical-align: top;\n",
       "    }\n",
       "\n",
       "    .dataframe thead th {\n",
       "        text-align: right;\n",
       "    }\n",
       "</style>\n",
       "<table border=\"1\" class=\"dataframe\">\n",
       "  <thead>\n",
       "    <tr style=\"text-align: right;\">\n",
       "      <th></th>\n",
       "      <th>size</th>\n",
       "      <th>patients_I</th>\n",
       "      <th>staff_I</th>\n",
       "      <th>patients_D</th>\n",
       "      <th>staff_D</th>\n",
       "      <th>beds_a</th>\n",
       "      <th>beds_i</th>\n",
       "    </tr>\n",
       "  </thead>\n",
       "  <tbody>\n",
       "    <tr>\n",
       "      <th>size</th>\n",
       "      <td>1.000000</td>\n",
       "      <td>0.212309</td>\n",
       "      <td>0.308394</td>\n",
       "      <td>0.229275</td>\n",
       "      <td>0.065633</td>\n",
       "      <td>1.000000</td>\n",
       "      <td>0.333515</td>\n",
       "    </tr>\n",
       "    <tr>\n",
       "      <th>patients_I</th>\n",
       "      <td>0.212309</td>\n",
       "      <td>1.000000</td>\n",
       "      <td>0.719856</td>\n",
       "      <td>0.617668</td>\n",
       "      <td>0.225209</td>\n",
       "      <td>0.212309</td>\n",
       "      <td>0.181630</td>\n",
       "    </tr>\n",
       "    <tr>\n",
       "      <th>staff_I</th>\n",
       "      <td>0.308394</td>\n",
       "      <td>0.719856</td>\n",
       "      <td>1.000000</td>\n",
       "      <td>0.474159</td>\n",
       "      <td>0.182638</td>\n",
       "      <td>0.308394</td>\n",
       "      <td>0.232067</td>\n",
       "    </tr>\n",
       "    <tr>\n",
       "      <th>patients_D</th>\n",
       "      <td>0.229275</td>\n",
       "      <td>0.617668</td>\n",
       "      <td>0.474159</td>\n",
       "      <td>1.000000</td>\n",
       "      <td>0.182712</td>\n",
       "      <td>0.229275</td>\n",
       "      <td>0.183635</td>\n",
       "    </tr>\n",
       "    <tr>\n",
       "      <th>staff_D</th>\n",
       "      <td>0.065633</td>\n",
       "      <td>0.225209</td>\n",
       "      <td>0.182638</td>\n",
       "      <td>0.182712</td>\n",
       "      <td>1.000000</td>\n",
       "      <td>0.065633</td>\n",
       "      <td>0.058129</td>\n",
       "    </tr>\n",
       "    <tr>\n",
       "      <th>beds_a</th>\n",
       "      <td>1.000000</td>\n",
       "      <td>0.212309</td>\n",
       "      <td>0.308394</td>\n",
       "      <td>0.229275</td>\n",
       "      <td>0.065633</td>\n",
       "      <td>1.000000</td>\n",
       "      <td>0.333515</td>\n",
       "    </tr>\n",
       "    <tr>\n",
       "      <th>beds_i</th>\n",
       "      <td>0.333515</td>\n",
       "      <td>0.181630</td>\n",
       "      <td>0.232067</td>\n",
       "      <td>0.183635</td>\n",
       "      <td>0.058129</td>\n",
       "      <td>0.333515</td>\n",
       "      <td>1.000000</td>\n",
       "    </tr>\n",
       "  </tbody>\n",
       "</table>\n",
       "</div>"
      ],
      "text/plain": [
       "                size  patients_I   staff_I  patients_D   staff_D    beds_a  \\\n",
       "size        1.000000    0.212309  0.308394    0.229275  0.065633  1.000000   \n",
       "patients_I  0.212309    1.000000  0.719856    0.617668  0.225209  0.212309   \n",
       "staff_I     0.308394    0.719856  1.000000    0.474159  0.182638  0.308394   \n",
       "patients_D  0.229275    0.617668  0.474159    1.000000  0.182712  0.229275   \n",
       "staff_D     0.065633    0.225209  0.182638    0.182712  1.000000  0.065633   \n",
       "beds_a      1.000000    0.212309  0.308394    0.229275  0.065633  1.000000   \n",
       "beds_i      0.333515    0.181630  0.232067    0.183635  0.058129  0.333515   \n",
       "\n",
       "              beds_i  \n",
       "size        0.333515  \n",
       "patients_I  0.181630  \n",
       "staff_I     0.232067  \n",
       "patients_D  0.183635  \n",
       "staff_D     0.058129  \n",
       "beds_a      0.333515  \n",
       "beds_i      1.000000  "
      ]
     },
     "execution_count": 10,
     "metadata": {},
     "output_type": "execute_result"
    }
   ],
   "source": [
    "df_five=df_five.astype(int)\n",
    "df_five.corr()\n",
    "#df['patients_D'].corr(df['staff_D'])"
   ]
  },
  {
   "cell_type": "code",
   "execution_count": 11,
   "id": "c76d7538",
   "metadata": {},
   "outputs": [],
   "source": [
    "#the correlation coefficient between staff and patient death is very low with 0.18\n"
   ]
  },
  {
   "cell_type": "code",
   "execution_count": 17,
   "id": "66265e9b",
   "metadata": {},
   "outputs": [
    {
     "data": {
      "text/plain": [
       "(24.654522425925222,\n",
       " 6.858362135826109e-07,\n",
       " 1,\n",
       " array([[315.78910192, 523.21089808],\n",
       "        [ 57.21089808,  94.78910192]]))"
      ]
     },
     "execution_count": 17,
     "metadata": {},
     "output_type": "execute_result"
    }
   ],
   "source": [
    "df1 = df[patients_D != \"0\"] \n",
    "\n",
    "staff_D_1 = np.where(df1['staff_D'] == \"0\", \"none\", \"some\") \n",
    "\n",
    "patients_D_1 = np.where(df1['patients_D'] == \"<11\", \"small\", \"large\") \n",
    "\n",
    "# chi square contingency table \n",
    "\n",
    "no_d_large_inf = ((staff_D_1 == 'none') & (patients_D_1 == 'large')).sum() \n",
    "\n",
    "no_d_small_inf = ((staff_D_1 == 'none') & (patients_D_1 == 'small')).sum() \n",
    "\n",
    "some_d_small_inf = ((staff_D_1 == 'some') & (patients_D_1 == 'small')).sum() \n",
    "\n",
    "some_d_large_inf = ((staff_D_1 == 'some') & (patients_D_1 == 'large')).sum() \n",
    "\n",
    "test_arr =np.array( [[no_d_large_inf, no_d_small_inf], [some_d_large_inf, some_d_small_inf]]) \n",
    "\n",
    "scipy.stats.chi2_contingency(test_arr)"
   ]
  },
  {
   "cell_type": "code",
   "execution_count": 16,
   "id": "e07133f8",
   "metadata": {},
   "outputs": [
    {
     "name": "stdout",
     "output_type": "stream",
     "text": [
      "['small' 'small' 'small' 'large' 'large' 'large' 'large' 'large' 'small'\n",
      " 'large' 'small' 'large' 'small' 'small' 'small' 'large' 'small' 'large'\n",
      " 'small' 'small' 'large' 'large' 'large' 'small' 'small' 'small' 'large'\n",
      " 'large' 'large' 'small' 'large' 'large' 'small' 'small' 'large' 'small'\n",
      " 'large' 'large' 'large' 'large' 'large' 'small' 'small' 'large' 'large'\n",
      " 'small' 'small' 'small' 'large' 'small' 'large' 'large' 'large' 'small'\n",
      " 'large' 'large' 'large' 'large' 'large' 'large' 'large' 'small' 'large'\n",
      " 'large' 'large' 'large' 'small' 'large' 'small' 'small' 'large' 'large'\n",
      " 'large' 'large' 'large' 'small' 'large' 'small' 'large' 'small' 'large'\n",
      " 'small' 'small' 'large' 'large' 'large' 'large' 'small' 'small' 'large'\n",
      " 'large' 'large' 'small' 'large' 'large' 'small' 'large' 'large' 'large'\n",
      " 'small' 'small' 'small' 'large' 'small' 'small' 'large' 'small' 'large'\n",
      " 'large' 'large' 'large' 'large' 'large' 'small' 'large' 'small' 'large'\n",
      " 'small' 'large' 'large' 'small' 'small' 'large' 'large' 'small' 'small'\n",
      " 'large' 'small' 'large' 'large' 'small' 'large' 'large' 'large' 'small'\n",
      " 'small' 'large' 'large' 'large' 'large' 'small' 'large' 'small' 'small'\n",
      " 'large' 'large' 'small' 'small' 'large' 'large' 'large' 'large' 'large'\n",
      " 'small' 'small' 'large' 'large' 'small' 'small' 'small' 'small' 'large'\n",
      " 'large' 'large' 'small' 'large']\n"
     ]
    }
   ],
   "source": [
    "#null hypothesis rejected."
   ]
  },
  {
   "cell_type": "markdown",
   "id": "04e68734",
   "metadata": {},
   "source": [
    "3. Explore the relationship of total available beds with those equipped for isolation. "
   ]
  },
  {
   "cell_type": "code",
   "execution_count": 20,
   "id": "f47bd8e4",
   "metadata": {},
   "outputs": [
    {
     "data": {
      "text/plain": [
       "beds_a\n",
       "9         48\n",
       "7         46\n",
       "0         45\n",
       "8         45\n",
       "10        45\n",
       "          ..\n",
       "65         1\n",
       "61         1\n",
       "57         1\n",
       "53         1\n",
       "169        1\n",
       "Length: 99, dtype: int64"
      ]
     },
     "execution_count": 20,
     "metadata": {},
     "output_type": "execute_result"
    }
   ],
   "source": []
  },
  {
   "cell_type": "code",
   "execution_count": 21,
   "id": "6a989bdd",
   "metadata": {},
   "outputs": [
    {
     "data": {
      "text/plain": [
       "ShapiroResult(statistic=0.3855152726173401, pvalue=0.0)"
      ]
     },
     "execution_count": 21,
     "metadata": {},
     "output_type": "execute_result"
    }
   ],
   "source": [
    "#the correlation coefficient is 0.33, which is low.\n",
    "#use df_five as the dataframe where <11 has been replaced with 5\n",
    "from scipy.stats import shapiro \n",
    "#test for normality\n",
    "shapiro(df_five['beds_i']) "
   ]
  },
  {
   "cell_type": "code",
   "execution_count": 22,
   "id": "e45e7e15",
   "metadata": {},
   "outputs": [
    {
     "data": {
      "text/plain": [
       "ShapiroResult(statistic=0.7841561436653137, pvalue=2.1468130133675747e-37)"
      ]
     },
     "execution_count": 22,
     "metadata": {},
     "output_type": "execute_result"
    }
   ],
   "source": [
    "shapiro(df_five['beds_a']) "
   ]
  },
  {
   "cell_type": "code",
   "execution_count": 24,
   "id": "4fdbd606",
   "metadata": {},
   "outputs": [
    {
     "data": {
      "image/png": "[encoded data removed]",
      "text/plain": [
       "<Figure size 432x288 with 1 Axes>"
      ]
     },
     "metadata": {
      "needs_background": "light"
     },
     "output_type": "display_data"
    },
    {
     "data": {
      "text/plain": [
       "0.0"
      ]
     },
     "execution_count": 24,
     "metadata": {},
     "output_type": "execute_result"
    }
   ],
   "source": [
    "#both data are not normally distributed, so nonparametric test.\n",
    "np.random.seed(87654321) \n",
    "\n",
    "n = len(df_five['beds_i']) \n",
    "\n",
    "def f1(): \n",
    "\n",
    "    pool = np.r_[df_five['beds_i'], df_five['beds_a']] \n",
    "\n",
    "    s1 = np.random.choice(pool, size=2*n) \n",
    "\n",
    "    control1 = s1[:n] \n",
    "\n",
    "    treatment = s1[n:2*n] \n",
    "\n",
    "    return(np.median(treatment)-np.median(control1)) \n",
    "\n",
    "sampdist = [f1() for _ in range(10000)] \n",
    "\n",
    "tstat = np.median(df_five['beds_i']) - np.median(df_five['beds_a']) \n",
    "\n",
    "p_2tail(sampdist, tstat) \n"
   ]
  },
  {
   "cell_type": "code",
   "execution_count": null,
   "id": "933267fb",
   "metadata": {},
   "outputs": [],
   "source": [
    "#the null hypotthesis that the numbers of beds avaialbe and equipped are unrelated can be rejected."
   ]
  }
 ],
 "metadata": {
  "kernelspec": {
   "display_name": "Python 3 (ipykernel)",
   "language": "python",
   "name": "python3"
  },
  "language_info": {
   "codemirror_mode": {
    "name": "ipython",
    "version": 3
   },
   "file_extension": ".py",
   "mimetype": "text/x-python",
   "name": "python",
   "nbconvert_exporter": "python",
   "pygments_lexer": "ipython3",
   "version": "3.8.5"
  }
 },
 "nbformat": 4,
 "nbformat_minor": 5
}
