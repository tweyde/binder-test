{
 "cells": [
  {
   "cell_type": "markdown",
   "metadata": {},
   "source": [
    "# Chapter 10: Reality Check"
   ]
  },
  {
   "cell_type": "markdown",
   "metadata": {},
   "source": [
    "## COVID-19 Nursing Homes"
   ]
  },
  {
   "cell_type": "code",
   "execution_count": 1,
   "metadata": {},
   "outputs": [],
   "source": [
    "import numpy as np\n",
    "import pandas as pd\n",
    "import math\n",
    "import matplotlib.pyplot as plt\n",
    "import seaborn as sns\n",
    "\n",
    "import scipy.stats"
   ]
  },
  {
   "cell_type": "code",
   "execution_count": 2,
   "metadata": {},
   "outputs": [],
   "source": [
    "def p_2tail(sampdist,tstat):\n",
    "    hyp = np.mean(sampdist)\n",
    "    cutoff1 = hyp - np.abs(hyp - tstat)\n",
    "    cutoff2 = hyp + np.abs(hyp - tstat)\n",
    "    \n",
    "    points = sns.kdeplot(sampdist).get_lines()[0].get_data() # get x and y values from plot\n",
    "    x = points[0]\n",
    "    y = points[1]\n",
    "\n",
    "    plt.fill_between(x,y, where = (x < cutoff1) | (x > cutoff2), color='r')\n",
    "    plt.fill_between(x,y, where = (x >= cutoff1) & (x <= cutoff2), color='g')\n",
    "    plt.show()\n",
    "    \n",
    "    pvalue = sum((sampdist < cutoff1) | (sampdist > cutoff2)) / len(sampdist)\n",
    "    return pvalue"
   ]
  },
  {
   "cell_type": "code",
   "execution_count": 3,
   "metadata": {},
   "outputs": [
    {
     "data": {
      "text/html": [
       "<div>\n",
       "<style scoped>\n",
       "    .dataframe tbody tr th:only-of-type {\n",
       "        vertical-align: middle;\n",
       "    }\n",
       "\n",
       "    .dataframe tbody tr th {\n",
       "        vertical-align: top;\n",
       "    }\n",
       "\n",
       "    .dataframe thead th {\n",
       "        text-align: right;\n",
       "    }\n",
       "</style>\n",
       "<table border=\"1\" class=\"dataframe\">\n",
       "  <thead>\n",
       "    <tr style=\"text-align: right;\">\n",
       "      <th></th>\n",
       "      <th>County</th>\n",
       "      <th>FACILITY NAME</th>\n",
       "      <th>COUNTY</th>\n",
       "      <th>FACILITY ID</th>\n",
       "      <th>AVAILABLE BEDS</th>\n",
       "      <th>AVAILABLE BEDS CAPABLE OF ISOLATION</th>\n",
       "      <th>NEW CONFIRMED POSITIVE RESIDENTS</th>\n",
       "      <th>CURRENT ACTIVE CASES RESIDENTS</th>\n",
       "      <th>CUMULATIVE POSITIVE RESIDENTS</th>\n",
       "      <th>COVID-RELATED RESIDENT DEATHS</th>\n",
       "      <th>NEW CONFIRMED POSITIVE HCW</th>\n",
       "      <th>CURRENT ACTIVE HCW</th>\n",
       "      <th>CUMULATIVE POSITIVE HCW</th>\n",
       "      <th>COVID-RELATED HCW DEATHS</th>\n",
       "    </tr>\n",
       "  </thead>\n",
       "  <tbody>\n",
       "    <tr>\n",
       "      <th>0</th>\n",
       "      <td>Alameda</td>\n",
       "      <td>ALAMEDA COUNTY MEDICAL CENTER D/P SNF</td>\n",
       "      <td>ALAMEDA</td>\n",
       "      <td>140000321</td>\n",
       "      <td>7</td>\n",
       "      <td>4</td>\n",
       "      <td>0</td>\n",
       "      <td>0</td>\n",
       "      <td>86</td>\n",
       "      <td>0</td>\n",
       "      <td>0</td>\n",
       "      <td>&lt;11</td>\n",
       "      <td>76</td>\n",
       "      <td>0</td>\n",
       "    </tr>\n",
       "    <tr>\n",
       "      <th>1</th>\n",
       "      <td>Alameda</td>\n",
       "      <td>ALAMEDA HEALTHCARE &amp; WELLNESS CENTER</td>\n",
       "      <td>ALAMEDA</td>\n",
       "      <td>20000043</td>\n",
       "      <td>54</td>\n",
       "      <td>8</td>\n",
       "      <td>0</td>\n",
       "      <td>0</td>\n",
       "      <td>88</td>\n",
       "      <td>&lt;11</td>\n",
       "      <td>0</td>\n",
       "      <td>0</td>\n",
       "      <td>55</td>\n",
       "      <td>0</td>\n",
       "    </tr>\n",
       "    <tr>\n",
       "      <th>2</th>\n",
       "      <td>Alameda</td>\n",
       "      <td>ALAMEDA HOSPITAL - SOUTHSHORE CONVALESCENT</td>\n",
       "      <td>ALAMEDA</td>\n",
       "      <td>630011864</td>\n",
       "      <td>1</td>\n",
       "      <td>1</td>\n",
       "      <td>0</td>\n",
       "      <td>0</td>\n",
       "      <td>&lt;11</td>\n",
       "      <td>0</td>\n",
       "      <td>0</td>\n",
       "      <td>0</td>\n",
       "      <td>&lt;11</td>\n",
       "      <td>0</td>\n",
       "    </tr>\n",
       "    <tr>\n",
       "      <th>3</th>\n",
       "      <td>Alameda</td>\n",
       "      <td>ALAMEDA HOSPITAL D/P SNF</td>\n",
       "      <td>ALAMEDA</td>\n",
       "      <td>140000686</td>\n",
       "      <td>3</td>\n",
       "      <td>1</td>\n",
       "      <td>0</td>\n",
       "      <td>0</td>\n",
       "      <td>&lt;11</td>\n",
       "      <td>0</td>\n",
       "      <td>0</td>\n",
       "      <td>0</td>\n",
       "      <td>13</td>\n",
       "      <td>0</td>\n",
       "    </tr>\n",
       "    <tr>\n",
       "      <th>4</th>\n",
       "      <td>Alameda</td>\n",
       "      <td>ALL SAINT'S MAUBERT</td>\n",
       "      <td>ALAMEDA</td>\n",
       "      <td>630013891</td>\n",
       "      <td>2</td>\n",
       "      <td>0</td>\n",
       "      <td>0</td>\n",
       "      <td>0</td>\n",
       "      <td>0</td>\n",
       "      <td>0</td>\n",
       "      <td>0</td>\n",
       "      <td>0</td>\n",
       "      <td>&lt;11</td>\n",
       "      <td>0</td>\n",
       "    </tr>\n",
       "  </tbody>\n",
       "</table>\n",
       "</div>"
      ],
      "text/plain": [
       "    County                               FACILITY NAME   COUNTY  FACILITY ID  \\\n",
       "0  Alameda       ALAMEDA COUNTY MEDICAL CENTER D/P SNF  ALAMEDA    140000321   \n",
       "1  Alameda        ALAMEDA HEALTHCARE & WELLNESS CENTER  ALAMEDA     20000043   \n",
       "2  Alameda  ALAMEDA HOSPITAL - SOUTHSHORE CONVALESCENT  ALAMEDA    630011864   \n",
       "3  Alameda                    ALAMEDA HOSPITAL D/P SNF  ALAMEDA    140000686   \n",
       "4  Alameda                         ALL SAINT'S MAUBERT  ALAMEDA    630013891   \n",
       "\n",
       "   AVAILABLE BEDS  AVAILABLE BEDS CAPABLE OF ISOLATION  \\\n",
       "0               7                                    4   \n",
       "1              54                                    8   \n",
       "2               1                                    1   \n",
       "3               3                                    1   \n",
       "4               2                                    0   \n",
       "\n",
       "  NEW CONFIRMED POSITIVE RESIDENTS  CURRENT ACTIVE CASES RESIDENTS   \\\n",
       "0                                 0                               0   \n",
       "1                                 0                               0   \n",
       "2                                 0                               0   \n",
       "3                                 0                               0   \n",
       "4                                 0                               0   \n",
       "\n",
       "  CUMULATIVE POSITIVE RESIDENTS  COVID-RELATED RESIDENT DEATHS  \\\n",
       "0                             86                             0   \n",
       "1                             88                           <11   \n",
       "2                            <11                             0   \n",
       "3                            <11                             0   \n",
       "4                              0                             0   \n",
       "\n",
       "  NEW CONFIRMED POSITIVE HCW    CURRENT ACTIVE HCW CUMULATIVE POSITIVE HCW   \\\n",
       "0                             0                <11                       76   \n",
       "1                             0                  0                       55   \n",
       "2                             0                  0                      <11   \n",
       "3                             0                  0                       13   \n",
       "4                             0                  0                      <11   \n",
       "\n",
       "  COVID-RELATED HCW DEATHS   \n",
       "0                         0  \n",
       "1                         0  \n",
       "2                         0  \n",
       "3                         0  \n",
       "4                         0  "
      ]
     },
     "execution_count": 3,
     "metadata": {},
     "output_type": "execute_result"
    }
   ],
   "source": [
    "CA_COVID = pd.read_csv(\"../data/CA COVID.csv\")\n",
    "CA_COVID.head()"
   ]
  },
  {
   "cell_type": "code",
   "execution_count": 4,
   "metadata": {},
   "outputs": [
    {
     "data": {
      "text/plain": [
       "Index(['County', 'FACILITY NAME', 'COUNTY', 'FACILITY ID', 'AVAILABLE BEDS',\n",
       "       'AVAILABLE BEDS CAPABLE OF ISOLATION',\n",
       "       'NEW CONFIRMED POSITIVE RESIDENTS ', 'CURRENT ACTIVE CASES RESIDENTS ',\n",
       "       'CUMULATIVE POSITIVE RESIDENTS ', 'COVID-RELATED RESIDENT DEATHS',\n",
       "       'NEW CONFIRMED POSITIVE HCW   ', 'CURRENT ACTIVE HCW',\n",
       "       'CUMULATIVE POSITIVE HCW ', 'COVID-RELATED HCW DEATHS '],\n",
       "      dtype='object')"
      ]
     },
     "execution_count": 4,
     "metadata": {},
     "output_type": "execute_result"
    }
   ],
   "source": [
    "CA_COVID.columns"
   ]
  },
  {
   "cell_type": "code",
   "execution_count": 5,
   "metadata": {},
   "outputs": [
    {
     "data": {
      "text/html": [
       "<div>\n",
       "<style scoped>\n",
       "    .dataframe tbody tr th:only-of-type {\n",
       "        vertical-align: middle;\n",
       "    }\n",
       "\n",
       "    .dataframe tbody tr th {\n",
       "        vertical-align: top;\n",
       "    }\n",
       "\n",
       "    .dataframe thead th {\n",
       "        text-align: right;\n",
       "    }\n",
       "</style>\n",
       "<table border=\"1\" class=\"dataframe\">\n",
       "  <thead>\n",
       "    <tr style=\"text-align: right;\">\n",
       "      <th></th>\n",
       "      <th>size</th>\n",
       "      <th>patients_I</th>\n",
       "      <th>staff_I</th>\n",
       "      <th>patients_D</th>\n",
       "      <th>staff_D</th>\n",
       "    </tr>\n",
       "  </thead>\n",
       "  <tbody>\n",
       "    <tr>\n",
       "      <th>0</th>\n",
       "      <td>7</td>\n",
       "      <td>86</td>\n",
       "      <td>76</td>\n",
       "      <td>0</td>\n",
       "      <td>0</td>\n",
       "    </tr>\n",
       "    <tr>\n",
       "      <th>1</th>\n",
       "      <td>54</td>\n",
       "      <td>88</td>\n",
       "      <td>55</td>\n",
       "      <td>&lt;11</td>\n",
       "      <td>0</td>\n",
       "    </tr>\n",
       "    <tr>\n",
       "      <th>2</th>\n",
       "      <td>1</td>\n",
       "      <td>&lt;11</td>\n",
       "      <td>&lt;11</td>\n",
       "      <td>0</td>\n",
       "      <td>0</td>\n",
       "    </tr>\n",
       "    <tr>\n",
       "      <th>3</th>\n",
       "      <td>3</td>\n",
       "      <td>&lt;11</td>\n",
       "      <td>13</td>\n",
       "      <td>0</td>\n",
       "      <td>0</td>\n",
       "    </tr>\n",
       "    <tr>\n",
       "      <th>4</th>\n",
       "      <td>2</td>\n",
       "      <td>0</td>\n",
       "      <td>&lt;11</td>\n",
       "      <td>0</td>\n",
       "      <td>0</td>\n",
       "    </tr>\n",
       "  </tbody>\n",
       "</table>\n",
       "</div>"
      ],
      "text/plain": [
       "   size patients_I staff_I patients_D staff_D\n",
       "0     7         86      76          0       0\n",
       "1    54         88      55        <11       0\n",
       "2     1        <11     <11          0       0\n",
       "3     3        <11      13          0       0\n",
       "4     2          0     <11          0       0"
      ]
     },
     "execution_count": 5,
     "metadata": {},
     "output_type": "execute_result"
    }
   ],
   "source": [
    "size = CA_COVID['AVAILABLE BEDS']\n",
    "patients_I = CA_COVID['CUMULATIVE POSITIVE RESIDENTS ']\n",
    "patients_D = CA_COVID['COVID-RELATED RESIDENT DEATHS']\n",
    "staff_I = CA_COVID['CUMULATIVE POSITIVE HCW ']\n",
    "staff_D = CA_COVID['COVID-RELATED HCW DEATHS ']\n",
    "\n",
    "df = pd.DataFrame(data = {'size':size, 'patients_I':patients_I, 'staff_I':staff_I, 'patients_D':patients_D, 'staff_D':staff_D})\n",
    "df.head()"
   ]
  },
  {
   "cell_type": "markdown",
   "metadata": {},
   "source": [
    "## Staff Infections and Deaths"
   ]
  },
  {
   "cell_type": "code",
   "execution_count": 6,
   "metadata": {},
   "outputs": [
    {
     "data": {
      "text/plain": [
       "0      1057\n",
       "<11     166\n",
       "Name: staff_D, dtype: int64"
      ]
     },
     "execution_count": 6,
     "metadata": {},
     "output_type": "execute_result"
    }
   ],
   "source": [
    "df['staff_D'].value_counts()"
   ]
  },
  {
   "cell_type": "code",
   "execution_count": 7,
   "metadata": {},
   "outputs": [
    {
     "data": {
      "text/plain": [
       "1201"
      ]
     },
     "execution_count": 7,
     "metadata": {},
     "output_type": "execute_result"
    }
   ],
   "source": [
    "len(df[df['staff_I'] != \"0\"])"
   ]
  },
  {
   "cell_type": "markdown",
   "metadata": {},
   "source": [
    "***prop test: how likely infections across the staff, null hypothesis 15%***"
   ]
  },
  {
   "cell_type": "code",
   "execution_count": 8,
   "metadata": {},
   "outputs": [
    {
     "data": {
      "text/plain": [
       "Power_divergenceResult(statistic=1.3075541623810225, pvalue=0.25283796546318715)"
      ]
     },
     "execution_count": 8,
     "metadata": {},
     "output_type": "execute_result"
    }
   ],
   "source": [
    "scipy.stats.chisquare([166, 1201-166], [0.15*1201, 0.85*1201])"
   ]
  },
  {
   "cell_type": "code",
   "execution_count": 9,
   "metadata": {},
   "outputs": [],
   "source": [
    "df1 = df[staff_I != \"0\"]\n",
    "staff_D_1 = np.where(df1['staff_D'] == \"0\", \"none\", \"some\")\n",
    "staff_I_1 = np.where(df1['staff_I'] == \"<11\", \"small\", \"large\")"
   ]
  },
  {
   "cell_type": "markdown",
   "metadata": {},
   "source": [
    "***chi square contingency table***"
   ]
  },
  {
   "cell_type": "code",
   "execution_count": 10,
   "metadata": {},
   "outputs": [
    {
     "data": {
      "text/plain": [
       "(4.148092869278095,\n",
       " 0.041681444354659966,\n",
       " 1,\n",
       " array([[1007.42298085,   27.57701915],\n",
       "        [ 161.57701915,    4.42298085]]))"
      ]
     },
     "execution_count": 10,
     "metadata": {},
     "output_type": "execute_result"
    }
   ],
   "source": [
    "no_d_large_inf = ((staff_D_1 == 'none') & (staff_I_1 == 'large')).sum()\n",
    "no_d_small_inf = ((staff_D_1 == 'none') & (staff_I_1 == 'small')).sum()\n",
    "some_d_small_inf = ((staff_D_1 == 'some') & (staff_I_1 == 'small')).sum()\n",
    "some_d_large_inf = ((staff_D_1 == 'some') & (staff_I_1 == 'large')).sum()\n",
    "test_arr =np.array( [[no_d_large_inf, no_d_small_inf], [some_d_large_inf, some_d_small_inf]])\n",
    "scipy.stats.chi2_contingency(test_arr)"
   ]
  },
  {
   "cell_type": "code",
   "execution_count": 11,
   "metadata": {},
   "outputs": [
    {
     "data": {
      "text/plain": [
       "none    1035\n",
       "some     166\n",
       "dtype: int64"
      ]
     },
     "execution_count": 11,
     "metadata": {},
     "output_type": "execute_result"
    }
   ],
   "source": [
    "staff_I_2 = np.where(df1['staff_I'] == \"<11\", 5, df1['staff_I'])\n",
    "staff_I_2 = staff_I_2.astype(int)\n",
    "pd.DataFrame(staff_D_1).value_counts()"
   ]
  },
  {
   "cell_type": "code",
   "execution_count": 12,
   "metadata": {},
   "outputs": [
    {
     "data": {
      "image/png": "[encoded data removed]",
      "text/plain": [
       "<Figure size 432x288 with 1 Axes>"
      ]
     },
     "metadata": {
      "needs_background": "light"
     },
     "output_type": "display_data"
    },
    {
     "data": {
      "text/plain": [
       "0.0"
      ]
     },
     "execution_count": 12,
     "metadata": {},
     "output_type": "execute_result"
    }
   ],
   "source": [
    "np.random.seed(87654321)\n",
    "def f1():\n",
    "    s1 = np.random.choice(staff_I_2, size=len(staff_I_2))\n",
    "    control1 = s1[:1035]\n",
    "    treatment = s1[1035:]\n",
    "    return(np.mean(treatment)-np.mean(control1))\n",
    "sampdist = [f1() for _ in range(10000)]\n",
    "t1 = np.mean(staff_I_2[staff_D_1 == \"none\"])\n",
    "t2 = np.mean(staff_I_2[staff_D_1 == \"some\"])\n",
    "tstat = t2 - t1\n",
    "p_2tail(sampdist, tstat)"
   ]
  },
  {
   "cell_type": "code",
   "execution_count": 13,
   "metadata": {},
   "outputs": [
    {
     "data": {
      "image/png": "[encoded data removed]",
      "text/plain": [
       "<Figure size 432x288 with 1 Axes>"
      ]
     },
     "metadata": {
      "needs_background": "light"
     },
     "output_type": "display_data"
    },
    {
     "data": {
      "text/plain": [
       "0.0"
      ]
     },
     "execution_count": 13,
     "metadata": {},
     "output_type": "execute_result"
    }
   ],
   "source": [
    "np.random.seed(87654321)\n",
    "def f1():\n",
    "    s1 = np.random.choice(staff_I_2, size=len(staff_I_2))\n",
    "    control1 = s1[:1035]\n",
    "    treatment = s1[1035:]\n",
    "    return(np.median(treatment)-np.median(control1))\n",
    "sampdist = [f1() for _ in range(10000)]\n",
    "t1 = np.median(staff_I_2[staff_D_1 == \"none\"])\n",
    "t2 = np.median(staff_I_2[staff_D_1 == \"some\"])\n",
    "tstat = t2 - t1\n",
    "p_2tail(sampdist, tstat)"
   ]
  },
  {
   "cell_type": "markdown",
   "metadata": {},
   "source": [
    "## Patient and Staff Infections"
   ]
  },
  {
   "cell_type": "code",
   "execution_count": 14,
   "metadata": {},
   "outputs": [],
   "source": [
    "staff_I_3 = np.where(df['staff_I'] == \"<11\", 5, df['staff_I'])\n",
    "staff_I_3 = staff_I_3.astype(int)\n",
    "patient_I_3 = np.where(df['patients_I'] == \"<11\", 5, df['patients_I'])\n",
    "patient_I_3 = patient_I_3.astype(int)"
   ]
  },
  {
   "cell_type": "code",
   "execution_count": 15,
   "metadata": {},
   "outputs": [
    {
     "data": {
      "text/plain": [
       "ShapiroResult(statistic=0.884861171245575, pvalue=3.3410557211274747e-29)"
      ]
     },
     "execution_count": 15,
     "metadata": {},
     "output_type": "execute_result"
    }
   ],
   "source": [
    "from scipy.stats import shapiro\n",
    "shapiro(staff_I_3)"
   ]
  },
  {
   "cell_type": "code",
   "execution_count": 16,
   "metadata": {},
   "outputs": [
    {
     "data": {
      "text/plain": [
       "ShapiroResult(statistic=0.9282321929931641, pvalue=9.703639944465253e-24)"
      ]
     },
     "execution_count": 16,
     "metadata": {},
     "output_type": "execute_result"
    }
   ],
   "source": [
    "shapiro(patient_I_3)"
   ]
  },
  {
   "cell_type": "code",
   "execution_count": 17,
   "metadata": {},
   "outputs": [
    {
     "data": {
      "image/png": "[encoded data removed]",
      "text/plain": [
       "<Figure size 432x288 with 1 Axes>"
      ]
     },
     "metadata": {
      "needs_background": "light"
     },
     "output_type": "display_data"
    },
    {
     "data": {
      "text/plain": [
       "0.1589"
      ]
     },
     "execution_count": 17,
     "metadata": {},
     "output_type": "execute_result"
    }
   ],
   "source": [
    "np.random.seed(87654321)\n",
    "n = len(patient_I_3)\n",
    "def f1():\n",
    "    pool = np.r_[staff_I_3, patient_I_3]\n",
    "    s1 = np.random.choice(pool, size=2*n)\n",
    "    control1 = s1[:n]\n",
    "    treatment = s1[n:2*n]\n",
    "    return(np.median(treatment)-np.median(control1))\n",
    "sampdist = [f1() for _ in range(10000)]\n",
    "tstat = np.median(patient_I_3) - np.median(staff_I_3)\n",
    "p_2tail(sampdist, tstat)"
   ]
  },
  {
   "cell_type": "code",
   "execution_count": 18,
   "metadata": {},
   "outputs": [
    {
     "data": {
      "image/png": "[encoded data removed]",
      "text/plain": [
       "<Figure size 432x288 with 1 Axes>"
      ]
     },
     "metadata": {
      "needs_background": "light"
     },
     "output_type": "display_data"
    },
    {
     "data": {
      "text/plain": [
       "0.1984"
      ]
     },
     "execution_count": 18,
     "metadata": {},
     "output_type": "execute_result"
    }
   ],
   "source": [
    "np.random.seed(87654321)\n",
    "n = len(patient_I_3)\n",
    "def f1():\n",
    "    pool = np.r_[staff_I_3, patient_I_3]\n",
    "    s1 = np.random.choice(pool, size=2*n)\n",
    "    control1 = s1[:n]\n",
    "    treatment = s1[n:2*n]\n",
    "    return(np.mean(treatment)-np.mean(control1))\n",
    "sampdist = [f1() for _ in range(10000)]\n",
    "tstat = np.mean(patient_I_3) - np.mean(staff_I_3)\n",
    "p_2tail(sampdist, tstat)"
   ]
  },
  {
   "cell_type": "code",
   "execution_count": 19,
   "metadata": {},
   "outputs": [
    {
     "data": {
      "image/png": "[encoded data removed]",
      "text/plain": [
       "<Figure size 432x288 with 1 Axes>"
      ]
     },
     "metadata": {
      "needs_background": "light"
     },
     "output_type": "display_data"
    },
    {
     "data": {
      "text/plain": [
       "0.2538"
      ]
     },
     "execution_count": 19,
     "metadata": {},
     "output_type": "execute_result"
    }
   ],
   "source": [
    "staff_I_3 = np.where(df['staff_I'] == \"<11\", 1, df['staff_I'])\n",
    "staff_I_3 = staff_I_3.astype(int)\n",
    "patient_I_3 = np.where(df['patients_I'] == \"<11\", 1, df['patients_I'])\n",
    "patient_I_3 = patient_I_3.astype(int)\n",
    "\n",
    "np.random.seed(87654321)\n",
    "n = len(patient_I_3)\n",
    "def f1():\n",
    "    pool = np.r_[staff_I_3, patient_I_3]\n",
    "    s1 = np.random.choice(pool, size=2*n)\n",
    "    control1 = s1[:n]\n",
    "    treatment = s1[n:2*n]\n",
    "    return(np.mean(treatment)-np.mean(control1))\n",
    "sampdist = [f1() for _ in range(10000)]\n",
    "tstat = np.mean(patient_I_3) - np.mean(staff_I_3)\n",
    "p_2tail(sampdist, tstat)"
   ]
  }
 ],
 "metadata": {
  "kernelspec": {
   "display_name": "Python 3",
   "language": "python",
   "name": "python3"
  },
  "language_info": {
   "codemirror_mode": {
    "name": "ipython",
    "version": 3
   },
   "file_extension": ".py",
   "mimetype": "text/x-python",
   "name": "python",
   "nbconvert_exporter": "python",
   "pygments_lexer": "ipython3",
   "version": "3.8.5"
  }
 },
 "nbformat": 4,
 "nbformat_minor": 4
}
