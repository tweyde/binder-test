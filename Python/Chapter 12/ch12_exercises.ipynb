{
 "cells": [
  {
   "cell_type": "markdown",
   "id": "cdd21c6c",
   "metadata": {},
   "source": [
    "# Chapter 12: Linear estimation models"
   ]
  },
  {
   "cell_type": "markdown",
   "id": "48ab6f92",
   "metadata": {},
   "source": [
    "Read the file Diamonds.csv \n",
    "\n",
    "1.Using the maximum likelihood approach develop a regression model for the outcome variable price based on the independent variables carat, depth, table, x, y, and z.  \n",
    "\n",
    "2.Compute the SST and SSE values. What is the R2 value? \n",
    "\n",
    "3.Plot the errors and visually examine if the errors are reasonably normal. \n",
    "\n",
    "4.Based on a visual plot, assess if there is heteroscedasticity in the regression model. "
   ]
  },
  {
   "cell_type": "code",
   "execution_count": 1,
   "id": "cc52eb0a",
   "metadata": {},
   "outputs": [],
   "source": [
    "import pandas as pd\n",
    "import numpy as np\n",
    "import seaborn as sns\n",
    "import matplotlib.pyplot as plt"
   ]
  },
  {
   "cell_type": "code",
   "execution_count": 2,
   "id": "4641aee5",
   "metadata": {},
   "outputs": [],
   "source": [
    "# Helper functions imported from textbook\n",
    "def p_rtail(sampdist,tstat): \n",
    "    points = sns.kdeplot(sampdist).get_lines()[0].get_data() # get x and y values from plot \n",
    "    x = points[0] \n",
    "    y = points[1] \n",
    "    plt.fill_between(x,y, where = x > tstat, color='r') \n",
    "    plt.fill_between(x,y, where = x <= tstat, color='g') \n",
    "    plt.show() \n",
    "    pvalue = np.sum(sampdist < tstat) / len(sampdist) \n",
    "    return pvalue \n",
    "\n",
    "def p_ltail(sampdist,tstat): \n",
    "    points = sns.kdeplot(sampdist).get_lines()[0].get_data() \n",
    "    x = points[0] \n",
    "    y = points[1] \n",
    "    plt.fill_between(x,y, where = x < tstat, color='r') \n",
    "    plt.fill_between(x,y, where = x >= tstat, color='g') \n",
    "    plt.show() \n",
    "    pvalue = np.sum(sampdist > tstat) / len(sampdist) \n",
    "\n",
    "    return pvalue \n",
    "\n",
    "def p_2tail(sampdist,tstat):\n",
    "    points = sns.kdeplot(sampdist).get_lines()[0].get_data() \n",
    "    hyp = np.mean(sampdist) \n",
    "    cutoff1 = hyp - np.abs(hyp - tstat) \n",
    "    cutoff2 = hyp + np.abs(hyp - tstat) \n",
    "    x = points[0] \n",
    "    y = points[1] \n",
    "    plt.fill_between(x,y, where = (x < cutoff1) | (x > cutoff2), color='r') \n",
    "    plt.fill_between(x,y, where = (x >= cutoff1) & (x <= cutoff2), color='g') \n",
    "    plt.show() \n",
    "    pvalue = np.sum((sampdist < cutoff1) | (sampdist > cutoff2)) / len(sampdist) \n",
    "    return pvalue "
   ]
  },
  {
   "cell_type": "code",
   "execution_count": 3,
   "id": "9bbca1dc",
   "metadata": {},
   "outputs": [
    {
     "data": {
      "text/html": [
       "<div>\n",
       "<style scoped>\n",
       "    .dataframe tbody tr th:only-of-type {\n",
       "        vertical-align: middle;\n",
       "    }\n",
       "\n",
       "    .dataframe tbody tr th {\n",
       "        vertical-align: top;\n",
       "    }\n",
       "\n",
       "    .dataframe thead th {\n",
       "        text-align: right;\n",
       "    }\n",
       "</style>\n",
       "<table border=\"1\" class=\"dataframe\">\n",
       "  <thead>\n",
       "    <tr style=\"text-align: right;\">\n",
       "      <th></th>\n",
       "      <th>Unnamed: 0</th>\n",
       "      <th>carat</th>\n",
       "      <th>cut</th>\n",
       "      <th>color</th>\n",
       "      <th>clarity</th>\n",
       "      <th>depth</th>\n",
       "      <th>table</th>\n",
       "      <th>price</th>\n",
       "      <th>x</th>\n",
       "      <th>y</th>\n",
       "      <th>z</th>\n",
       "    </tr>\n",
       "  </thead>\n",
       "  <tbody>\n",
       "    <tr>\n",
       "      <th>0</th>\n",
       "      <td>1</td>\n",
       "      <td>0.23</td>\n",
       "      <td>Ideal</td>\n",
       "      <td>E</td>\n",
       "      <td>SI2</td>\n",
       "      <td>61.5</td>\n",
       "      <td>55.0</td>\n",
       "      <td>326</td>\n",
       "      <td>3.95</td>\n",
       "      <td>3.98</td>\n",
       "      <td>2.43</td>\n",
       "    </tr>\n",
       "    <tr>\n",
       "      <th>1</th>\n",
       "      <td>2</td>\n",
       "      <td>0.21</td>\n",
       "      <td>Premium</td>\n",
       "      <td>E</td>\n",
       "      <td>SI1</td>\n",
       "      <td>59.8</td>\n",
       "      <td>61.0</td>\n",
       "      <td>326</td>\n",
       "      <td>3.89</td>\n",
       "      <td>3.84</td>\n",
       "      <td>2.31</td>\n",
       "    </tr>\n",
       "    <tr>\n",
       "      <th>2</th>\n",
       "      <td>3</td>\n",
       "      <td>0.23</td>\n",
       "      <td>Good</td>\n",
       "      <td>E</td>\n",
       "      <td>VS1</td>\n",
       "      <td>56.9</td>\n",
       "      <td>65.0</td>\n",
       "      <td>327</td>\n",
       "      <td>4.05</td>\n",
       "      <td>4.07</td>\n",
       "      <td>2.31</td>\n",
       "    </tr>\n",
       "    <tr>\n",
       "      <th>3</th>\n",
       "      <td>4</td>\n",
       "      <td>0.29</td>\n",
       "      <td>Premium</td>\n",
       "      <td>I</td>\n",
       "      <td>VS2</td>\n",
       "      <td>62.4</td>\n",
       "      <td>58.0</td>\n",
       "      <td>334</td>\n",
       "      <td>4.20</td>\n",
       "      <td>4.23</td>\n",
       "      <td>2.63</td>\n",
       "    </tr>\n",
       "    <tr>\n",
       "      <th>4</th>\n",
       "      <td>5</td>\n",
       "      <td>0.31</td>\n",
       "      <td>Good</td>\n",
       "      <td>J</td>\n",
       "      <td>SI2</td>\n",
       "      <td>63.3</td>\n",
       "      <td>58.0</td>\n",
       "      <td>335</td>\n",
       "      <td>4.34</td>\n",
       "      <td>4.35</td>\n",
       "      <td>2.75</td>\n",
       "    </tr>\n",
       "  </tbody>\n",
       "</table>\n",
       "</div>"
      ],
      "text/plain": [
       "   Unnamed: 0  carat      cut color clarity  depth  table  price     x     y  \\\n",
       "0           1   0.23    Ideal     E     SI2   61.5   55.0    326  3.95  3.98   \n",
       "1           2   0.21  Premium     E     SI1   59.8   61.0    326  3.89  3.84   \n",
       "2           3   0.23     Good     E     VS1   56.9   65.0    327  4.05  4.07   \n",
       "3           4   0.29  Premium     I     VS2   62.4   58.0    334  4.20  4.23   \n",
       "4           5   0.31     Good     J     SI2   63.3   58.0    335  4.34  4.35   \n",
       "\n",
       "      z  \n",
       "0  2.43  \n",
       "1  2.31  \n",
       "2  2.31  \n",
       "3  2.63  \n",
       "4  2.75  "
      ]
     },
     "execution_count": 3,
     "metadata": {},
     "output_type": "execute_result"
    }
   ],
   "source": [
    "#diamonds csv imported into the directory.\n",
    "diamonds = pd.read_csv(\"diamonds.csv\")\n",
    "diamonds.head(5)"
   ]
  },
  {
   "cell_type": "code",
   "execution_count": 15,
   "id": "c0d601a9",
   "metadata": {},
   "outputs": [
    {
     "name": "stdout",
     "output_type": "stream",
     "text": [
      "3932.799721913237\n",
      "3989.4397381463023\n"
     ]
    }
   ],
   "source": [
    "print(diamonds.price.mean())\n",
    "print(diamonds.price.std())"
   ]
  },
  {
   "cell_type": "markdown",
   "id": "91803511",
   "metadata": {},
   "source": [
    "1.Using the maximum likelihood approach develop a regression model for the outcome variable price based on the independent variables carat, depth, table, x, y, and z."
   ]
  },
  {
   "cell_type": "code",
   "execution_count": 17,
   "id": "1054abe1",
   "metadata": {},
   "outputs": [
    {
     "name": "stdout",
     "output_type": "stream",
     "text": [
      "Optimization terminated successfully.\n",
      "         Current function value: 9.710335\n",
      "         Iterations: 47\n",
      "         Function evaluations: 94\n",
      "                              myMLEbase Results                               \n",
      "==============================================================================\n",
      "Dep. Variable:                  price   Log-Likelihood:            -5.2378e+05\n",
      "Model:                      myMLEbase   AIC:                         1.048e+06\n",
      "Method:            Maximum Likelihood   BIC:                         1.048e+06\n",
      "Date:                Sun, 23 Oct 2022                                         \n",
      "Time:                        16:32:15                                         \n",
      "No. Observations:               53940                                         \n",
      "Df Residuals:                   53939                                         \n",
      "Df Model:                           0                                         \n",
      "==============================================================================\n",
      "                 coef    std err          z      P>|z|      [0.025      0.975]\n",
      "------------------------------------------------------------------------------\n",
      "mean        3932.7997     17.177    228.955      0.000    3899.133    3966.466\n",
      "std         3989.4028     12.146    328.451      0.000    3965.597    4013.209\n",
      "==============================================================================\n"
     ]
    }
   ],
   "source": [
    "from statsmodels.base.model import GenericLikelihoodModel \n",
    "\n",
    "from scipy import stats \n",
    "\n",
    " \n",
    "\n",
    "class myMLEbase(GenericLikelihoodModel): \n",
    "\n",
    "    def loglike(self, params): \n",
    "        return stats.norm.logpdf(self.endog,loc=params[0],scale=params[1]).sum()  \n",
    "exog = pd.DataFrame(np.ones([len(diamonds),2]),columns=['mean','std'],index=diamonds.index)  \n",
    "endog = diamonds[['price']] # target \n",
    "\n",
    " \n",
    "\n",
    "mybase = myMLEbase(endog,exog) # setup \n",
    "\n",
    "print((mybase.fit(start_params=[3932, 3989],maxiter=2000)).summary()) "
   ]
  },
  {
   "cell_type": "code",
   "execution_count": 11,
   "id": "f3146402",
   "metadata": {},
   "outputs": [
    {
     "name": "stdout",
     "output_type": "stream",
     "text": [
      "                            OLS Regression Results                            \n",
      "==============================================================================\n",
      "Dep. Variable:                  price   R-squared:                       0.859\n",
      "Model:                            OLS   Adj. R-squared:                  0.859\n",
      "Method:                 Least Squares   F-statistic:                 5.486e+04\n",
      "Date:                Sun, 23 Oct 2022   Prob (F-statistic):               0.00\n",
      "Time:                        03:20:37   Log-Likelihood:            -4.7090e+05\n",
      "No. Observations:               53940   AIC:                         9.418e+05\n",
      "Df Residuals:                   53933   BIC:                         9.419e+05\n",
      "Df Model:                           6                                         \n",
      "Covariance Type:            nonrobust                                         \n",
      "==============================================================================\n",
      "                 coef    std err          t      P>|t|      [0.025      0.975]\n",
      "------------------------------------------------------------------------------\n",
      "Intercept   2.085e+04    447.562     46.584      0.000       2e+04    2.17e+04\n",
      "carat       1.069e+04     63.201    169.085      0.000    1.06e+04    1.08e+04\n",
      "depth       -203.1541      5.504    -36.910      0.000    -213.942    -192.366\n",
      "table       -102.4457      3.084    -33.216      0.000    -108.491     -96.401\n",
      "x          -1315.6678     43.070    -30.547      0.000   -1400.086   -1231.250\n",
      "y             66.3216     25.523      2.599      0.009      16.296     116.347\n",
      "z             41.6277     44.305      0.940      0.347     -45.210     128.465\n",
      "==============================================================================\n",
      "Omnibus:                    14093.399   Durbin-Watson:                   1.249\n",
      "Prob(Omnibus):                  0.000   Jarque-Bera (JB):           373568.966\n",
      "Skew:                           0.674   Prob(JB):                         0.00\n",
      "Kurtosis:                      15.822   Cond. No.                     5.91e+03\n",
      "==============================================================================\n",
      "\n",
      "Notes:\n",
      "[1] Standard Errors assume that the covariance matrix of the errors is correctly specified.\n",
      "[2] The condition number is large, 5.91e+03. This might indicate that there are\n",
      "strong multicollinearity or other numerical problems.\n"
     ]
    }
   ],
   "source": [
    "from statsmodels.formula.api import ols \n",
    "\n",
    "res3 = ols(\"price ~ carat + depth + table + x + y + z\", data=diamonds).fit() \n",
    "\n",
    "print(res3.summary()) "
   ]
  },
  {
   "cell_type": "markdown",
   "id": "2045ae28",
   "metadata": {},
   "source": [
    "2.Compute the SST and SSE values. What is the R2 value?"
   ]
  },
  {
   "cell_type": "code",
   "execution_count": 10,
   "id": "07dd467e",
   "metadata": {},
   "outputs": [
    {
     "data": {
      "text/plain": [
       "858473170015"
      ]
     },
     "execution_count": 10,
     "metadata": {},
     "output_type": "execute_result"
    }
   ],
   "source": [
    "SST = np.sum((diamonds['price'] - 3932)**2) \n",
    "\n",
    "SST "
   ]
  },
  {
   "cell_type": "code",
   "execution_count": null,
   "id": "df87835d",
   "metadata": {},
   "outputs": [],
   "source": [
    "SSE = "
   ]
  },
  {
   "cell_type": "markdown",
   "id": "8dd7413b",
   "metadata": {},
   "source": [
    "Rsquared is 0.859"
   ]
  },
  {
   "cell_type": "markdown",
   "id": "e71cc376",
   "metadata": {},
   "source": [
    "3.Plot the errors and visually examine if the errors are reasonably normal.\n",
    "\n",
    "4.Based on a visual plot, assess if there is heteroscedasticity in the regression model."
   ]
  },
  {
   "cell_type": "code",
   "execution_count": 18,
   "id": "5bb0a0cc",
   "metadata": {},
   "outputs": [
    {
     "data": {
      "image/png": "[encoded data removed]",
      "text/plain": [
       "<Figure size 432x288 with 1 Axes>"
      ]
     },
     "metadata": {
      "needs_background": "light"
     },
     "output_type": "display_data"
    }
   ],
   "source": [
    "plt.stem(diamonds['price']-3932)  \n",
    "\n",
    "# diff to baseline \n",
    "\n",
    "ticks = np.arange(-4000,12000,1000)  \n",
    "# ticks from 660-baseline  \n",
    "\n",
    "plt.yticks(ticks=ticks, labels=ticks+3932) # show full values \n",
    "\n",
    "plt.show()  "
   ]
  },
  {
   "cell_type": "markdown",
   "id": "aa7ad24c",
   "metadata": {},
   "source": [
    "Read the file UsedCars2017.csv \n",
    "\n",
    "Using the maximum likelihood approach develop a regression model for the outcome variable Price based on the other variables in the dataframe.  \n",
    "\n",
    "Compute the SST and SSE values. What is the R2 value? \n",
    "\n",
    "Plot the errors and visually examine if the errors are reasonably normal. \n",
    "\n",
    "Based on a visual plot, assess if there is heteroscedasticity in the regression model. "
   ]
  },
  {
   "cell_type": "code",
   "execution_count": 19,
   "id": "8858c637",
   "metadata": {},
   "outputs": [
    {
     "data": {
      "text/html": [
       "<div>\n",
       "<style scoped>\n",
       "    .dataframe tbody tr th:only-of-type {\n",
       "        vertical-align: middle;\n",
       "    }\n",
       "\n",
       "    .dataframe tbody tr th {\n",
       "        vertical-align: top;\n",
       "    }\n",
       "\n",
       "    .dataframe thead th {\n",
       "        text-align: right;\n",
       "    }\n",
       "</style>\n",
       "<table border=\"1\" class=\"dataframe\">\n",
       "  <thead>\n",
       "    <tr style=\"text-align: right;\">\n",
       "      <th></th>\n",
       "      <th>Price</th>\n",
       "      <th>Age</th>\n",
       "      <th>Mileage</th>\n",
       "      <th>MPG</th>\n",
       "      <th>KBB Price</th>\n",
       "      <th>CR Reliability Score</th>\n",
       "    </tr>\n",
       "  </thead>\n",
       "  <tbody>\n",
       "    <tr>\n",
       "      <th>0</th>\n",
       "      <td>11858.0</td>\n",
       "      <td>6.0</td>\n",
       "      <td>69.7</td>\n",
       "      <td>34.0</td>\n",
       "      <td>10600.0</td>\n",
       "      <td>0.80</td>\n",
       "    </tr>\n",
       "    <tr>\n",
       "      <th>1</th>\n",
       "      <td>3092.0</td>\n",
       "      <td>17.0</td>\n",
       "      <td>166.7</td>\n",
       "      <td>21.0</td>\n",
       "      <td>2400.0</td>\n",
       "      <td>0.67</td>\n",
       "    </tr>\n",
       "    <tr>\n",
       "      <th>2</th>\n",
       "      <td>14300.0</td>\n",
       "      <td>4.0</td>\n",
       "      <td>42.3</td>\n",
       "      <td>35.0</td>\n",
       "      <td>11100.0</td>\n",
       "      <td>0.75</td>\n",
       "    </tr>\n",
       "    <tr>\n",
       "      <th>3</th>\n",
       "      <td>10942.0</td>\n",
       "      <td>6.0</td>\n",
       "      <td>84.4</td>\n",
       "      <td>28.0</td>\n",
       "      <td>8500.0</td>\n",
       "      <td>0.92</td>\n",
       "    </tr>\n",
       "    <tr>\n",
       "      <th>4</th>\n",
       "      <td>12968.0</td>\n",
       "      <td>5.0</td>\n",
       "      <td>56.6</td>\n",
       "      <td>27.0</td>\n",
       "      <td>10000.0</td>\n",
       "      <td>0.56</td>\n",
       "    </tr>\n",
       "  </tbody>\n",
       "</table>\n",
       "</div>"
      ],
      "text/plain": [
       "     Price   Age  Mileage   MPG  KBB Price  CR Reliability Score\n",
       "0  11858.0   6.0     69.7  34.0    10600.0                  0.80\n",
       "1   3092.0  17.0    166.7  21.0     2400.0                  0.67\n",
       "2  14300.0   4.0     42.3  35.0    11100.0                  0.75\n",
       "3  10942.0   6.0     84.4  28.0     8500.0                  0.92\n",
       "4  12968.0   5.0     56.6  27.0    10000.0                  0.56"
      ]
     },
     "execution_count": 19,
     "metadata": {},
     "output_type": "execute_result"
    }
   ],
   "source": [
    "#diamonds csv imported into the directory.\n",
    "cars = pd.read_csv(\"UsedCars2017.csv\")\n",
    "cars.head(5)"
   ]
  },
  {
   "cell_type": "code",
   "execution_count": 20,
   "id": "055f80b4",
   "metadata": {},
   "outputs": [
    {
     "name": "stdout",
     "output_type": "stream",
     "text": [
      "7095.789975649351\n",
      "5002.300711379531\n"
     ]
    }
   ],
   "source": [
    "print(cars.Price.mean())\n",
    "print(cars.Price.std())"
   ]
  },
  {
   "cell_type": "code",
   "execution_count": 21,
   "id": "d5401b9a",
   "metadata": {},
   "outputs": [
    {
     "name": "stdout",
     "output_type": "stream",
     "text": [
      "Optimization terminated successfully.\n",
      "         Current function value: 9.936490\n",
      "         Iterations: 53\n",
      "         Function evaluations: 105\n",
      "                              myMLEbase Results                               \n",
      "==============================================================================\n",
      "Dep. Variable:                  Price   Log-Likelihood:                -48967.\n",
      "Model:                      myMLEbase   AIC:                         9.794e+04\n",
      "Method:            Maximum Likelihood   BIC:                         9.794e+04\n",
      "Date:                Sun, 23 Oct 2022                                         \n",
      "Time:                        16:35:57                                         \n",
      "No. Observations:                4928                                         \n",
      "Df Residuals:                    4927                                         \n",
      "Df Model:                           0                                         \n",
      "==============================================================================\n",
      "                 coef    std err          z      P>|z|      [0.025      0.975]\n",
      "------------------------------------------------------------------------------\n",
      "mean        7095.7902     71.251     99.589      0.000    6956.141    7235.439\n",
      "std         5001.7931     50.382     99.277      0.000    4903.046    5100.540\n",
      "==============================================================================\n"
     ]
    }
   ],
   "source": [
    "class myMLEbase(GenericLikelihoodModel): \n",
    "\n",
    "    def loglike(self, params): \n",
    "        return stats.norm.logpdf(self.endog,loc=params[0],scale=params[1]).sum()  \n",
    "exog = pd.DataFrame(np.ones([len(cars),2]),columns=['mean','std'],index=cars.index)  \n",
    "endog = cars[['Price']] # target \n",
    "\n",
    " \n",
    "\n",
    "mybase = myMLEbase(endog,exog) # setup \n",
    "\n",
    "print((mybase.fit(start_params=[7095, 5002],maxiter=2000)).summary()) "
   ]
  },
  {
   "cell_type": "code",
   "execution_count": null,
   "id": "182a6e17",
   "metadata": {},
   "outputs": [],
   "source": [
    "SST = np.sum((diamonds['price'] - 3932)**2) \n",
    "\n",
    "SST "
   ]
  },
  {
   "cell_type": "code",
   "execution_count": null,
   "id": "89141442",
   "metadata": {},
   "outputs": [],
   "source": [
    "res3 = ols(\"Proce ~ Age + Mileage + table + x + y + z\", data=diamonds).fit() \n",
    "Age\tMileage\tMPG\tKBB Price\tCR Reliability Score\n",
    "print(res3.summary()) "
   ]
  }
 ],
 "metadata": {
  "kernelspec": {
   "display_name": "Python 3 (ipykernel)",
   "language": "python",
   "name": "python3"
  },
  "language_info": {
   "codemirror_mode": {
    "name": "ipython",
    "version": 3
   },
   "file_extension": ".py",
   "mimetype": "text/x-python",
   "name": "python",
   "nbconvert_exporter": "python",
   "pygments_lexer": "ipython3",
   "version": "3.8.5"
  }
 },
 "nbformat": 4,
 "nbformat_minor": 5
}
