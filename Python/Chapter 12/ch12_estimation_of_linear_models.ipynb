{
 "cells": [
  {
   "cell_type": "markdown",
   "metadata": {},
   "source": [
    "# Chapter 12: Estimation of Linear Models"
   ]
  },
  {
   "cell_type": "code",
   "execution_count": 1,
   "metadata": {},
   "outputs": [],
   "source": [
    "import numpy as np\n",
    "import pandas as pd\n",
    "import matplotlib.pyplot as plt\n",
    "import seaborn as sns\n",
    "\n",
    "import scipy.stats"
   ]
  },
  {
   "cell_type": "code",
   "execution_count": 2,
   "metadata": {},
   "outputs": [],
   "source": [
    "MASchools = pd.read_csv(\"../data/MASchools.csv\")"
   ]
  },
  {
   "cell_type": "code",
   "execution_count": 12,
   "metadata": {},
   "outputs": [
    {
     "name": "stdout",
     "output_type": "stream",
     "text": [
      "(220, 6)\n"
     ]
    },
    {
     "data": {
      "text/html": [
       "<div>\n",
       "<style scoped>\n",
       "    .dataframe tbody tr th:only-of-type {\n",
       "        vertical-align: middle;\n",
       "    }\n",
       "\n",
       "    .dataframe tbody tr th {\n",
       "        vertical-align: top;\n",
       "    }\n",
       "\n",
       "    .dataframe thead th {\n",
       "        text-align: right;\n",
       "    }\n",
       "</style>\n",
       "<table border=\"1\" class=\"dataframe\">\n",
       "  <thead>\n",
       "    <tr style=\"text-align: right;\">\n",
       "      <th></th>\n",
       "      <th>score4</th>\n",
       "      <th>exptot</th>\n",
       "      <th>scratio</th>\n",
       "      <th>special</th>\n",
       "      <th>stratio</th>\n",
       "      <th>salary</th>\n",
       "    </tr>\n",
       "  </thead>\n",
       "  <tbody>\n",
       "    <tr>\n",
       "      <th>0</th>\n",
       "      <td>714</td>\n",
       "      <td>4646</td>\n",
       "      <td>16.6</td>\n",
       "      <td>14.6</td>\n",
       "      <td>19.0</td>\n",
       "      <td>34.36</td>\n",
       "    </tr>\n",
       "    <tr>\n",
       "      <th>1</th>\n",
       "      <td>731</td>\n",
       "      <td>4930</td>\n",
       "      <td>5.7</td>\n",
       "      <td>17.4</td>\n",
       "      <td>22.6</td>\n",
       "      <td>38.06</td>\n",
       "    </tr>\n",
       "    <tr>\n",
       "      <th>2</th>\n",
       "      <td>704</td>\n",
       "      <td>4281</td>\n",
       "      <td>7.5</td>\n",
       "      <td>12.1</td>\n",
       "      <td>19.3</td>\n",
       "      <td>32.49</td>\n",
       "    </tr>\n",
       "    <tr>\n",
       "      <th>3</th>\n",
       "      <td>704</td>\n",
       "      <td>4826</td>\n",
       "      <td>8.6</td>\n",
       "      <td>21.1</td>\n",
       "      <td>17.9</td>\n",
       "      <td>33.11</td>\n",
       "    </tr>\n",
       "    <tr>\n",
       "      <th>4</th>\n",
       "      <td>701</td>\n",
       "      <td>4824</td>\n",
       "      <td>6.1</td>\n",
       "      <td>16.8</td>\n",
       "      <td>17.5</td>\n",
       "      <td>34.44</td>\n",
       "    </tr>\n",
       "    <tr>\n",
       "      <th>5</th>\n",
       "      <td>714</td>\n",
       "      <td>6454</td>\n",
       "      <td>7.7</td>\n",
       "      <td>17.2</td>\n",
       "      <td>15.7</td>\n",
       "      <td>NaN</td>\n",
       "    </tr>\n",
       "    <tr>\n",
       "      <th>6</th>\n",
       "      <td>725</td>\n",
       "      <td>5537</td>\n",
       "      <td>5.4</td>\n",
       "      <td>11.3</td>\n",
       "      <td>17.1</td>\n",
       "      <td>41.62</td>\n",
       "    </tr>\n",
       "  </tbody>\n",
       "</table>\n",
       "</div>"
      ],
      "text/plain": [
       "   score4  exptot  scratio  special  stratio  salary\n",
       "0     714    4646     16.6     14.6     19.0   34.36\n",
       "1     731    4930      5.7     17.4     22.6   38.06\n",
       "2     704    4281      7.5     12.1     19.3   32.49\n",
       "3     704    4826      8.6     21.1     17.9   33.11\n",
       "4     701    4824      6.1     16.8     17.5   34.44\n",
       "5     714    6454      7.7     17.2     15.7     NaN\n",
       "6     725    5537      5.4     11.3     17.1   41.62"
      ]
     },
     "execution_count": 12,
     "metadata": {},
     "output_type": "execute_result"
    }
   ],
   "source": [
    "df = MASchools.iloc[:, [12, 6,7,8,10,14]].copy()\n",
    "print(df.shape)\n",
    "df.head(7).round(2)"
   ]
  },
  {
   "cell_type": "code",
   "execution_count": 13,
   "metadata": {},
   "outputs": [
    {
     "data": {
      "text/plain": [
       "score4      0.000000\n",
       "exptot      0.000000\n",
       "scratio     4.090909\n",
       "special     0.000000\n",
       "stratio     0.000000\n",
       "salary     11.363636\n",
       "dtype: float64"
      ]
     },
     "execution_count": 13,
     "metadata": {},
     "output_type": "execute_result"
    }
   ],
   "source": [
    "df.isna().mean()*100"
   ]
  },
  {
   "cell_type": "code",
   "execution_count": 14,
   "metadata": {},
   "outputs": [
    {
     "name": "stdout",
     "output_type": "stream",
     "text": [
      "True:  34 False:  186\n"
     ]
    }
   ],
   "source": [
    "num_na = df.isna().any(axis=1).sum() # no of rows with any NAs \n",
    "num_complete = len(df) - num_na # complement\n",
    "print(\"True: \",num_na, \"False: \", num_complete)"
   ]
  },
  {
   "cell_type": "code",
   "execution_count": 15,
   "metadata": {},
   "outputs": [
    {
     "name": "stdout",
     "output_type": "stream",
     "text": [
      "35.992697446774216\n",
      "35.99269744677423\n",
      "3.1905555712426232\n",
      "3.0029293928495764\n"
     ]
    }
   ],
   "source": [
    "salarymean = df['salary'].mean()\n",
    "salaryimputed = df['salary'].fillna(salarymean)\n",
    "print(salarymean)\n",
    "print(salaryimputed.mean())\n",
    "print(df['salary'].std())\n",
    "print(salaryimputed.std())"
   ]
  },
  {
   "cell_type": "code",
   "execution_count": 49,
   "metadata": {},
   "outputs": [
    {
     "name": "stdout",
     "output_type": "stream",
     "text": [
      "220\n"
     ]
    },
    {
     "data": {
      "text/plain": [
       "186"
      ]
     },
     "execution_count": 49,
     "metadata": {},
     "output_type": "execute_result"
    }
   ],
   "source": [
    "df1 = df.dropna().copy() # copy is needed to make future assignments safe\n",
    "print(len(df))\n",
    "len(df1)"
   ]
  },
  {
   "cell_type": "markdown",
   "metadata": {},
   "source": [
    "## Baseline Model"
   ]
  },
  {
   "cell_type": "code",
   "execution_count": 26,
   "metadata": {},
   "outputs": [
    {
     "name": "stdout",
     "output_type": "stream",
     "text": [
      " final_simplex: (array([[709.03761985,  15.39565008],\n",
      "       [709.03770308,  15.39563556],\n",
      "       [709.03768281,  15.39557791]]), array([772.46215251, 772.46215251, 772.46215251]))\n",
      "           fun: 772.4621525059797\n",
      "       message: 'Optimization terminated successfully.'\n",
      "          nfev: 126\n",
      "           nit: 64\n",
      "        status: 0\n",
      "       success: True\n",
      "             x: array([709.03761985,  15.39565008])\n"
     ]
    }
   ],
   "source": [
    "# diectly using numeric optimization\n",
    "def LLnorm(params):\n",
    "    p = scipy.stats.norm(params[0], params[1]).pdf(df1['score4'])\n",
    "    LL = np.sum(np.log(p))\n",
    "    return(-1*LL)\n",
    "res1 = scipy.optimize.minimize(LLnorm, x0 = [700,50], method='Nelder-Mead')\n",
    "print(res1)"
   ]
  },
  {
   "cell_type": "code",
   "execution_count": 28,
   "metadata": {},
   "outputs": [
    {
     "name": "stdout",
     "output_type": "stream",
     "text": [
      "Optimization terminated successfully.\n",
      "         Current function value: 4.153022\n",
      "         Iterations: 64\n",
      "         Function evaluations: 126\n",
      "                              myMLEbase Results                               \n",
      "==============================================================================\n",
      "Dep. Variable:                 score4   Log-Likelihood:                -772.46\n",
      "Model:                      myMLEbase   AIC:                             1547.\n",
      "Method:            Maximum Likelihood   BIC:                             1550.\n",
      "Date:                Sun, 21 Aug 2022                                         \n",
      "Time:                        15:13:21                                         \n",
      "No. Observations:                 186                                         \n",
      "Df Residuals:                     185                                         \n",
      "Df Model:                           0                                         \n",
      "==============================================================================\n",
      "                 coef    std err          z      P>|z|      [0.025      0.975]\n",
      "------------------------------------------------------------------------------\n",
      "mean         709.0376      1.129    628.098      0.000     706.825     711.250\n",
      "std           15.3957      0.798     19.287      0.000      13.831      16.960\n",
      "==============================================================================\n"
     ]
    },
    {
     "name": "stderr",
     "output_type": "stream",
     "text": [
      "/Users/tweyde/opt/anaconda3/lib/python3.8/site-packages/statsmodels/base/model.py:2694: UserWarning: df_model + k_constant differs from nparams\n",
      "  warnings.warn(\"df_model + k_constant differs from nparams\")\n",
      "/Users/tweyde/opt/anaconda3/lib/python3.8/site-packages/statsmodels/base/model.py:2696: UserWarning: df_resid differs from nobs - nparams\n",
      "  warnings.warn(\"df_resid differs from nobs - nparams\")\n"
     ]
    }
   ],
   "source": [
    "# using the statsmodels class framework\n",
    "from statsmodels.base.model import GenericLikelihoodModel\n",
    "from scipy import stats\n",
    "\n",
    "class myMLEbase(GenericLikelihoodModel):\n",
    "    def loglike(self, params):\n",
    "        return stats.norm.logpdf(self.endog,loc=params[0],scale=params[1]).sum() \n",
    "\n",
    "exog = pd.DataFrame(np.ones([len(df1),2]),columns=['mean','std'],index=df1.index) \n",
    "endog = df1[['score4']] # target\n",
    "\n",
    "mybase = myMLEbase(endog,exog) # setup\n",
    "print((mybase.fit(start_params=[700, 50],maxiter=2000)).summary())"
   ]
  },
  {
   "cell_type": "code",
   "execution_count": 29,
   "metadata": {},
   "outputs": [
    {
     "data": {
      "image/png": "[encoded data removed]",
      "text/plain": [
       "<Figure size 432x288 with 1 Axes>"
      ]
     },
     "metadata": {
      "needs_background": "light"
     },
     "output_type": "display_data"
    }
   ],
   "source": [
    "plt.stem(df1['score4']-709) # plot difference from baseline\n",
    "ticks = np.arange(-49,40,20) # ticks from 660-baseline \n",
    "plt.yticks(ticks=ticks,labels=ticks+709) # show full values\n",
    "plt.show()"
   ]
  },
  {
   "cell_type": "code",
   "execution_count": 33,
   "metadata": {},
   "outputs": [
    {
     "data": {
      "text/plain": [
       "44087"
      ]
     },
     "execution_count": 33,
     "metadata": {},
     "output_type": "execute_result"
    }
   ],
   "source": [
    "SST = np.sum((df1['score4'] - 709)**2)\n",
    "SST"
   ]
  },
  {
   "cell_type": "markdown",
   "metadata": {},
   "source": [
    "## Linear Regression Model"
   ]
  },
  {
   "cell_type": "code",
   "execution_count": 31,
   "metadata": {},
   "outputs": [
    {
     "name": "stdout",
     "output_type": "stream",
     "text": [
      "   const  exptot  scratio    special    stratio     salary\n",
      "0    1.0    4646     16.6  14.600000  19.000000  34.360001\n",
      "1    1.0    4930      5.7  17.400000  22.600000  38.063000\n",
      "2    1.0    4281      7.5  12.100000  19.299999  32.491001\n",
      "3    1.0    4826      8.6  21.100000  17.900000  33.105999\n",
      "4    1.0    4824      6.1  16.799999  17.500000  34.436501\n",
      "Optimization terminated successfully.\n",
      "         Current function value: 3.991881\n",
      "         Iterations: 1343\n",
      "         Function evaluations: 2034\n",
      "                                myMLE Results                                 \n",
      "==============================================================================\n",
      "Dep. Variable:                 score4   Log-Likelihood:                -742.49\n",
      "Model:                          myMLE   AIC:                             1497.\n",
      "Method:            Maximum Likelihood   BIC:                             1516.\n",
      "Date:                Sun, 21 Aug 2022                                         \n",
      "Time:                        15:26:17                                         \n",
      "No. Observations:                 186                                         \n",
      "Df Residuals:                     180                                         \n",
      "Df Model:                           5                                         \n",
      "==============================================================================\n",
      "                 coef    std err          z      P>|z|      [0.025      0.975]\n",
      "------------------------------------------------------------------------------\n",
      "const        714.7036     16.078     44.453      0.000     683.192     746.215\n",
      "exptot        -0.0050      0.001     -3.409      0.001      -0.008      -0.002\n",
      "scratio       -0.1079      0.361     -0.299      0.765      -0.816       0.600\n",
      "special       -0.7163      0.276     -2.596      0.009      -1.257      -0.176\n",
      "stratio       -2.6469      0.484     -5.473      0.000      -3.595      -1.699\n",
      "salary         2.2107      0.368      6.012      0.000       1.490       2.931\n",
      "stddev        13.1043      0.679     19.287      0.000      11.773      14.436\n",
      "==============================================================================\n"
     ]
    },
    {
     "name": "stderr",
     "output_type": "stream",
     "text": [
      "/Users/tweyde/opt/anaconda3/lib/python3.8/site-packages/statsmodels/base/model.py:2694: UserWarning: df_model + k_constant differs from nparams\n",
      "  warnings.warn(\"df_model + k_constant differs from nparams\")\n",
      "/Users/tweyde/opt/anaconda3/lib/python3.8/site-packages/statsmodels/base/model.py:2696: UserWarning: df_resid differs from nobs - nparams\n",
      "  warnings.warn(\"df_resid differs from nobs - nparams\")\n"
     ]
    }
   ],
   "source": [
    "# using statsmodels GenericLikelihoodModel\n",
    "from statsmodels.base.model import GenericLikelihoodModel\n",
    "from scipy import stats\n",
    "import statsmodels.api as sm\n",
    "\n",
    "class myMLE(GenericLikelihoodModel):\n",
    "    def loglike(self, params):\n",
    "        stddev = params[-1] # separate treatment for the stddev\n",
    "        mean1 = self.exog.dot(params[:-1]) # \n",
    "        return stats.norm.logpdf(self.endog,loc=mean1,scale=stddev).sum() # ll \n",
    "\n",
    "exog = df1[['exptot','scratio','special','stratio','salary']]\n",
    "exog = sm.add_constant(exog, prepend=True) # add intercept\n",
    "print(exog.head())\n",
    "endog = df1[['score4']] # target\n",
    "\n",
    "myreg = myMLE(endog,exog) # setup\n",
    "myreg.exog_names.append('stddev') # add stddev param\n",
    "start_params = [709, 0, 0, 0, 0, 0, 15.4] # need start vals in right size\n",
    "res = myreg.fit(start_params=start_params,maxiter=2000,method='nm') #need many iters\n",
    "print(res.summary())"
   ]
  },
  {
   "cell_type": "code",
   "execution_count": 38,
   "metadata": {},
   "outputs": [
    {
     "name": "stdout",
     "output_type": "stream",
     "text": [
      "                 Generalized Linear Model Regression Results                  \n",
      "==============================================================================\n",
      "Dep. Variable:                 score4   No. Observations:                  186\n",
      "Model:                            GLM   Df Residuals:                      180\n",
      "Model Family:                Gaussian   Df Model:                            5\n",
      "Link Function:               identity   Scale:                          177.45\n",
      "Method:                          IRLS   Log-Likelihood:                -742.49\n",
      "Date:                Sun, 21 Aug 2022   Deviance:                       31941.\n",
      "Time:                        15:31:05   Pearson chi2:                 3.19e+04\n",
      "No. Iterations:                     3   Pseudo R-squ. (CS):             0.3083\n",
      "Covariance Type:            nonrobust                                         \n",
      "==============================================================================\n",
      "                 coef    std err          z      P>|z|      [0.025      0.975]\n",
      "------------------------------------------------------------------------------\n",
      "Intercept    714.7035     16.343     43.730      0.000     682.671     746.736\n",
      "exptot        -0.0050      0.001     -3.353      0.001      -0.008      -0.002\n",
      "scratio       -0.1079      0.367     -0.294      0.769      -0.828       0.612\n",
      "special       -0.7163      0.280     -2.554      0.011      -1.266      -0.167\n",
      "stratio       -2.6469      0.492     -5.384      0.000      -3.610      -1.683\n",
      "salary         2.2107      0.374      5.914      0.000       1.478       2.943\n",
      "==============================================================================\n"
     ]
    }
   ],
   "source": [
    "# using statsmodels glm from formula class\n",
    "import statsmodels.api as sm\n",
    "import statsmodels.formula.api as smf\n",
    "\n",
    "formula = \"score4 ~ exptot + scratio + special + stratio + salary\"\n",
    "mod1 = smf.glm(formula=formula, data=df1, family=sm.families.Gaussian()).fit()\n",
    "print(mod1.summary())\n",
    "pred = np.array(mod1.predict(df1)).reshape(-1,1)\n",
    "resid = pred-df1[['score4']]"
   ]
  },
  {
   "cell_type": "code",
   "execution_count": 39,
   "metadata": {},
   "outputs": [
    {
     "data": {
      "text/plain": [
       " final_simplex: (array([[ 7.14703557e+02, -5.02906439e-03, -1.07875748e-01,\n",
       "        -7.16282665e-01, -2.64688018e+00,  2.21067219e+00,\n",
       "         1.31043293e+01],\n",
       "       [ 7.14703497e+02, -5.02906333e-03, -1.07873831e-01,\n",
       "        -7.16281899e-01, -2.64687967e+00,  2.21067273e+00,\n",
       "         1.31043314e+01],\n",
       "       [ 7.14703514e+02, -5.02906002e-03, -1.07875143e-01,\n",
       "        -7.16282491e-01, -2.64687821e+00,  2.21067173e+00,\n",
       "         1.31043311e+01],\n",
       "       [ 7.14703511e+02, -5.02905158e-03, -1.07875102e-01,\n",
       "        -7.16283221e-01, -2.64687738e+00,  2.21067037e+00,\n",
       "         1.31043301e+01],\n",
       "       [ 7.14703581e+02, -5.02905840e-03, -1.07874494e-01,\n",
       "        -7.16283238e-01, -2.64687977e+00,  2.21067039e+00,\n",
       "         1.31043310e+01],\n",
       "       [ 7.14703612e+02, -5.02905935e-03, -1.07874652e-01,\n",
       "        -7.16283145e-01, -2.64688067e+00,  2.21067024e+00,\n",
       "         1.31043316e+01],\n",
       "       [ 7.14703554e+02, -5.02905387e-03, -1.07876596e-01,\n",
       "        -7.16281477e-01, -2.64687867e+00,  2.21066962e+00,\n",
       "         1.31043328e+01],\n",
       "       [ 7.14703515e+02, -5.02906494e-03, -1.07874630e-01,\n",
       "        -7.16282597e-01, -2.64687961e+00,  2.21067295e+00,\n",
       "         1.31043343e+01]]), array([742.48990939, 742.48990939, 742.48990939, 742.48990939,\n",
       "       742.48990939, 742.48990939, 742.48990939, 742.48990939]))\n",
       "           fun: 742.4899093887489\n",
       "       message: 'Optimization terminated successfully.'\n",
       "          nfev: 2034\n",
       "           nit: 1343\n",
       "        status: 0\n",
       "       success: True\n",
       "             x: array([ 7.14703557e+02, -5.02906439e-03, -1.07875748e-01, -7.16282665e-01,\n",
       "       -2.64688018e+00,  2.21067219e+00,  1.31043293e+01])"
      ]
     },
     "execution_count": 39,
     "metadata": {},
     "output_type": "execute_result"
    }
   ],
   "source": [
    "# using numeric optimization\n",
    "def LLnorm(params):\n",
    "    b0, b1, b2, b3, b4, b5, standdev = params\n",
    "    mean1 = b0 + b1*df1['exptot'] + b2*df1['scratio'] + b3*df1['special'] + b4*df1['stratio'] + b5*df1['salary']\n",
    "    p = scipy.stats.norm(mean1, standdev).pdf(df1['score4'])\n",
    "    LL = np.sum(np.log(p))\n",
    "    return(-1*LL)\n",
    "\n",
    "res2 = scipy.optimize.minimize(LLnorm, x0 = [709, 0, 0, 0, 0, 0, 15.4], \n",
    "                               method = 'Nelder-Mead', options={'maxiter':2000})\n",
    "#from pprint import pprint\n",
    "#['final_simplex', 'fun', 'message', 'nfev', 'nit', 'status', 'success', 'x']\n",
    "res2"
   ]
  },
  {
   "cell_type": "markdown",
   "metadata": {},
   "source": [
    "## Regression Equations"
   ]
  },
  {
   "cell_type": "code",
   "execution_count": 42,
   "metadata": {},
   "outputs": [
    {
     "data": {
      "text/plain": [
       "array([ 7.14703557e+02, -5.02906439e-03, -1.07875748e-01, -7.16282665e-01,\n",
       "       -2.64688018e+00,  2.21067219e+00,  1.31043293e+01])"
      ]
     },
     "execution_count": 42,
     "metadata": {},
     "output_type": "execute_result"
    }
   ],
   "source": [
    "res2.x"
   ]
  },
  {
   "cell_type": "code",
   "execution_count": 61,
   "metadata": {},
   "outputs": [
    {
     "name": "stdout",
     "output_type": "stream",
     "text": [
      "   score4  baseline  regression  regerror\n",
      "0     714       709     704.758     9.242\n",
      "1     731       709     701.157    29.843\n",
      "2     704       709     704.440    -0.440\n",
      "3     704       709     700.199     3.801\n",
      "4     701       709     707.559    -6.559\n"
     ]
    }
   ],
   "source": [
    "df1['baseline'] = 709\n",
    "df1['regression'] = df1[['exptot','scratio','special','stratio','salary']].dot(res2.x[1:6]) \\\n",
    "         + res2.x[0]\n",
    "df1['regerror'] = df1['score4'] - df1['regression']\n",
    "print(df1.head().round(3).iloc[:, [0,6,7,8]])"
   ]
  },
  {
   "cell_type": "code",
   "execution_count": 64,
   "metadata": {},
   "outputs": [
    {
     "data": {
      "image/png": "[encoded data removed]",
      "text/plain": [
       "<Figure size 432x288 with 1 Axes>"
      ]
     },
     "metadata": {
      "needs_background": "light"
     },
     "output_type": "display_data"
    }
   ],
   "source": [
    "x = np.arange(1, len(df1)+1)\n",
    "plt.stem(x, df1['regerror'])\n",
    "plt.axhline(0, color='red')\n",
    "plt.show()"
   ]
  },
  {
   "cell_type": "code",
   "execution_count": 71,
   "metadata": {},
   "outputs": [
    {
     "data": {
      "text/plain": [
       "31940.564"
      ]
     },
     "execution_count": 71,
     "metadata": {},
     "output_type": "execute_result"
    }
   ],
   "source": [
    "SSE = np.sum((df1['regression'] - df1['score4'])**2)\n",
    "round(SSE,2)"
   ]
  },
  {
   "cell_type": "code",
   "execution_count": 72,
   "metadata": {},
   "outputs": [
    {
     "data": {
      "text/plain": [
       "0.276"
      ]
     },
     "execution_count": 72,
     "metadata": {},
     "output_type": "execute_result"
    }
   ],
   "source": [
    "Rsquare = 1 - (SSE/SST)\n",
    "round(Rsquare,3)"
   ]
  },
  {
   "cell_type": "code",
   "execution_count": 75,
   "metadata": {},
   "outputs": [
    {
     "data": {
      "text/plain": [
       "0.276"
      ]
     },
     "execution_count": 75,
     "metadata": {},
     "output_type": "execute_result"
    }
   ],
   "source": [
    "varbaseline = 15.39563**2\n",
    "varregression = 13.1042240**2\n",
    "round(1 - (varregression/varbaseline),3)"
   ]
  },
  {
   "cell_type": "markdown",
   "metadata": {},
   "source": [
    "### Statistical Significance"
   ]
  },
  {
   "cell_type": "code",
   "execution_count": 92,
   "metadata": {},
   "outputs": [
    {
     "data": {
      "image/png": "[encoded data removed]",
      "text/plain": [
       "<Figure size 432x288 with 1 Axes>"
      ]
     },
     "metadata": {
      "needs_background": "light"
     },
     "output_type": "display_data"
    },
    {
     "data": {
      "text/plain": [
       "array([-1.95996398,  1.95996398])"
      ]
     },
     "execution_count": 92,
     "metadata": {},
     "output_type": "execute_result"
    }
   ],
   "source": [
    "m1 = -0.1083852\n",
    "se1 = 0.3516757\n",
    "x = np.arange(-1, 1, 0.01)\n",
    "p = scipy.stats.norm(m1, se1).pdf(x)\n",
    "plt.plot(x, p)\n",
    "plt.axvline(m1, color='red')\n",
    "plt.show()\n",
    "stats.norm.ppf([.05/2,1-.05/2])"
   ]
  },
  {
   "cell_type": "code",
   "execution_count": 93,
   "metadata": {},
   "outputs": [
    {
     "data": {
      "image/png": "[encoded data removed]",
      "text/plain": [
       "<Figure size 432x288 with 1 Axes>"
      ]
     },
     "metadata": {
      "needs_background": "light"
     },
     "output_type": "display_data"
    },
    {
     "data": {
      "text/plain": [
       "0.757933"
      ]
     },
     "execution_count": 93,
     "metadata": {},
     "output_type": "execute_result"
    }
   ],
   "source": [
    "gap = abs(m1 - 0)\n",
    "x = np.arange(-1, 1, 0.01)\n",
    "p = scipy.stats.norm(m1, se1).pdf(x)\n",
    "plt.plot(x, p)\n",
    "plt.axvline(m1, color='black')\n",
    "plt.axvline(m1 - gap, color='blue')\n",
    "plt.axvline(m1 + gap, color='blue')\n",
    "plt.show()\n",
    "a = scipy.stats.norm(m1, se1).cdf(m1 + gap)\n",
    "b = scipy.stats.norm(m1, se1).cdf(m1 - gap)\n",
    "pval1 = 1 - (a - b)\n",
    "round((pval1),6)"
   ]
  },
  {
   "cell_type": "markdown",
   "metadata": {},
   "source": [
    "### Assumptions of the Regression Model"
   ]
  },
  {
   "cell_type": "code",
   "execution_count": 95,
   "metadata": {},
   "outputs": [
    {
     "data": {
      "image/png": "[encoded data removed]",
      "text/plain": [
       "<Figure size 432x288 with 1 Axes>"
      ]
     },
     "metadata": {
      "needs_background": "light"
     },
     "output_type": "display_data"
    },
    {
     "name": "stdout",
     "output_type": "stream",
     "text": [
      "ShapiroResult(statistic=0.9886723160743713, pvalue=0.14497749507427216)\n"
     ]
    }
   ],
   "source": [
    "sns.kdeplot(df1['regerror'])\n",
    "plt.show()\n",
    "shapiro = scipy.stats.shapiro(df1['regerror'])\n",
    "print(shapiro)"
   ]
  },
  {
   "cell_type": "code",
   "execution_count": 96,
   "metadata": {},
   "outputs": [
    {
     "data": {
      "image/png": "[encoded data removed]",
      "text/plain": [
       "<Figure size 432x288 with 1 Axes>"
      ]
     },
     "metadata": {
      "needs_background": "light"
     },
     "output_type": "display_data"
    }
   ],
   "source": [
    "plt.stem(df1['regression'], df1['regerror'])\n",
    "plt.axhline(0, color='red')\n",
    "plt.xlabel('Regression')\n",
    "plt.ylabel('Regression Error')\n",
    "plt.show()"
   ]
  },
  {
   "cell_type": "markdown",
   "metadata": {},
   "source": [
    "### Regression Functions in R and Python"
   ]
  },
  {
   "cell_type": "code",
   "execution_count": 104,
   "metadata": {},
   "outputs": [
    {
     "name": "stdout",
     "output_type": "stream",
     "text": [
      "                            OLS Regression Results                            \n",
      "==============================================================================\n",
      "Dep. Variable:                 score4   R-squared:                       0.276\n",
      "Model:                            OLS   Adj. R-squared:                  0.255\n",
      "Method:                 Least Squares   F-statistic:                     13.69\n",
      "Date:                Sun, 21 Aug 2022   Prob (F-statistic):           2.50e-11\n",
      "Time:                        16:27:19   Log-Likelihood:                -742.49\n",
      "No. Observations:                 186   AIC:                             1497.\n",
      "Df Residuals:                     180   BIC:                             1516.\n",
      "Df Model:                           5                                         \n",
      "Covariance Type:            nonrobust                                         \n",
      "==============================================================================\n",
      "                 coef    std err          t      P>|t|      [0.025      0.975]\n",
      "------------------------------------------------------------------------------\n",
      "Intercept    714.7035     16.343     43.730      0.000     682.454     746.953\n",
      "exptot        -0.0050      0.001     -3.353      0.001      -0.008      -0.002\n",
      "scratio       -0.1079      0.367     -0.294      0.769      -0.833       0.617\n",
      "special       -0.7163      0.280     -2.554      0.011      -1.270      -0.163\n",
      "stratio       -2.6469      0.492     -5.384      0.000      -3.617      -1.677\n",
      "salary         2.2107      0.374      5.914      0.000       1.473       2.948\n",
      "==============================================================================\n",
      "Omnibus:                        3.989   Durbin-Watson:                   2.049\n",
      "Prob(Omnibus):                  0.136   Jarque-Bera (JB):                4.735\n",
      "Skew:                          -0.095   Prob(JB):                       0.0937\n",
      "Kurtosis:                       3.758   Cond. No.                     8.99e+04\n",
      "==============================================================================\n",
      "\n",
      "Notes:\n",
      "[1] Standard Errors assume that the covariance matrix of the errors is correctly specified.\n",
      "[2] The condition number is large, 8.99e+04. This might indicate that there are\n",
      "strong multicollinearity or other numerical problems.\n"
     ]
    }
   ],
   "source": [
    "from statsmodels.formula.api import ols\n",
    "res3 = ols(\"score4 ~ exptot + scratio + special + stratio + salary\", data=df1).fit()\n",
    "print(res3.summary())\n",
    "import statsmodels.formula.api as smf\n",
    "import statsmodels.api as sm\n",
    "#res4 = smf.glm(\"score4 ~ exptot + scratio + special + stratio + salary\", data=df1, family=sm.families.Gaussian()).fit()\n",
    "#print(res4.summary())"
   ]
  },
  {
   "cell_type": "code",
   "execution_count": null,
   "metadata": {},
   "outputs": [],
   "source": []
  }
 ],
 "metadata": {
  "interpreter": {
   "hash": "4e1d444b270bec56bb770703623aaae73b0d2100263d694401d1f160aa2b76ad"
  },
  "kernelspec": {
   "display_name": "Python 3 (ipykernel)",
   "language": "python",
   "name": "python3"
  },
  "language_info": {
   "codemirror_mode": {
    "name": "ipython",
    "version": 3
   },
   "file_extension": ".py",
   "mimetype": "text/x-python",
   "name": "python",
   "nbconvert_exporter": "python",
   "pygments_lexer": "ipython3",
   "version": "3.8.8"
  }
 },
 "nbformat": 4,
 "nbformat_minor": 4
}
