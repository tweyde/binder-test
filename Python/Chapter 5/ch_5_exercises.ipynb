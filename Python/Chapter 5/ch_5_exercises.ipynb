{
 "cells": [
  {
   "cell_type": "markdown",
   "metadata": {},
   "source": [
    "# Chapter 5: Random Variables, Probability, Distributions"
   ]
  },
  {
   "cell_type": "code",
   "execution_count": 4,
   "metadata": {},
   "outputs": [],
   "source": [
    "import numpy as np\n",
    "import pandas as pd"
   ]
  },
  {
   "cell_type": "markdown",
   "metadata": {},
   "source": [
    "# Exercises"
   ]
  },
  {
   "cell_type": "markdown",
   "metadata": {},
   "source": [
    "1. Consider an election with 5 candidates and 1000 voters. Assumed that the voters cast their vote randomly, what is the probability that there will be a tie for the first position?"
   ]
  },
  {
   "cell_type": "code",
   "execution_count": 5,
   "metadata": {},
   "outputs": [
    {
     "data": {
      "text/plain": [
       "0.0398"
      ]
     },
     "execution_count": 5,
     "metadata": {},
     "output_type": "execute_result"
    }
   ],
   "source": [
    "candidates = [1,2,3,4,5]\n",
    "prob = [.2,.2,.2,.2,.2]\n",
    "counts = 0\n",
    "num_trials = 10000\n",
    "for i in range(num_trials):\n",
    "    ranks = pd.DataFrame(\n",
    "        np.random.choice(candidates, size=1000, replace=True, p=prob)\n",
    "    ).value_counts().values\n",
    "    \n",
    "    if ranks[0] == ranks[1]:\n",
    "        counts += 1\n",
    "prob_estimate = counts / num_trials\n",
    "prob_estimate"
   ]
  },
  {
   "cell_type": "markdown",
   "metadata": {},
   "source": [
    "2. Throw two dice. What is the probability that the difference between them is 1, 2, or 3? #needs further clarification"
   ]
  },
  {
   "cell_type": "code",
   "execution_count": 6,
   "metadata": {},
   "outputs": [
    {
     "data": {
      "text/plain": [
       "0.666827"
      ]
     },
     "execution_count": 6,
     "metadata": {},
     "output_type": "execute_result"
    }
   ],
   "source": [
    "diedomain = range(1,7)\n",
    "dieprob = np.repeat(1/6,6)\n",
    "num_trials = 1000000\n",
    "die1 = np.random.choice(diedomain, size=num_trials, replace=True, p=dieprob)\n",
    "die2 = np.random.choice(diedomain, size=num_trials, replace=True, p=dieprob)\n",
    "diffs = np.abs(die1-die2)\n",
    "# sum die where differences is 1, 2 or 3.\n",
    "prob_estimate = ((diffs >= 1) & (diffs <= 3)).sum() / num_trials\n",
    "prob_estimate"
   ]
  },
  {
   "cell_type": "markdown",
   "metadata": {},
   "source": [
    "3. Given that a throw of three dice show three different faces, what is the probability that the sum of all the three digits is 11."
   ]
  },
  {
   "cell_type": "code",
   "execution_count": 7,
   "metadata": {},
   "outputs": [
    {
     "data": {
      "text/plain": [
       "0.14004102637924207"
      ]
     },
     "execution_count": 7,
     "metadata": {},
     "output_type": "execute_result"
    }
   ],
   "source": [
    "num_trials = 1000000\n",
    "die1 = np.random.choice(diedomain, size=num_trials, replace=True, p=dieprob)\n",
    "die2 = np.random.choice(diedomain, size=num_trials, replace=True, p=dieprob)\n",
    "die3 = np.random.choice(diedomain, size=num_trials, replace=True, p=dieprob)\n",
    "\n",
    "# prob three die show different faces\n",
    "prob_b = ((die1 != die2) & (die2 != die3)).sum() / num_trials\n",
    "\n",
    "# prob three die show different faces and sum to 11\n",
    "prob_a_and_b = (((die1 != die2) & (die2 != die3)) & ((die1 + die2 + die3) == 11)).sum() / num_trials \n",
    "\n",
    "# p(a|b) = p(a and b)/p(b)\n",
    "p_a_given_b = prob_a_and_b / prob_b\n",
    "p_a_given_b   "
   ]
  },
  {
   "cell_type": "markdown",
   "metadata": {},
   "source": [
    "Q4. A club is planning to invest 20000 dollars to host a golf tournament. They expect to sell tickets worth 30000 dollars. Unfortunately, if it rains on the day of the game, they won't sell any tickets and the club will lose all the money invested. The weather forecast for the day of tournament is 30% possibility of rain, is this a good investment? "
   ]
  },
  {
   "cell_type": "code",
   "execution_count": 8,
   "metadata": {},
   "outputs": [
    {
     "data": {
      "text/plain": [
       "1000.0"
      ]
     },
     "execution_count": 8,
     "metadata": {},
     "output_type": "execute_result"
    }
   ],
   "source": [
    "# Let X be the random variable the profit obtained on the day of the golf tournament\n",
    "# X takes value (0 - 20000) -20000 with probability 0.3, X takes value (30000 - 20000) 10000 with probability 0.7 \n",
    "# expected value of X is (and so expected profit)\n",
    "-20000 * 0.3 + 10000 * 0.7"
   ]
  },
  {
   "cell_type": "markdown",
   "metadata": {},
   "source": [
    "Q5. A soft-drink company sells its drink in 350 millilitres (ml) bottles.  Based on past data, the company knows that the contents of any particular bottle vary according to a normal distribution with mean 348 and variance 9. \n",
    "\n",
    "a)What is the probability that a bottle contains less than 345 ml? \n",
    "\n",
    "b)What is the probability that less than 10% of the bottles in a case of 100 bottles have content less than 345 ml. \n",
    "\n",
    "c)What is the 99th percentile for the number of millilitres of a single bottle (i.e., the number such that 99% of all bottles have less than this amount)? "
   ]
  },
  {
   "cell_type": "code",
   "execution_count": 61,
   "metadata": {},
   "outputs": [
    {
     "name": "stdout",
     "output_type": "stream",
     "text": [
      "0.15865525393145707\n",
      "3.143393162946721e-08\n"
     ]
    }
   ],
   "source": [
    "#mean 348, variance 9\n",
    "#standard deviation 3\n",
    "\n",
    "# A) cdf of normal. let a = norm(X <= 345)\n",
    "a = norm.cdf(345,348,3)\n",
    "print(a)\n",
    "\n",
    "# B) let X be the number of bottles having less than 345ml in a set of n bottles\n",
    "# X follows the binomial distribution binom(p=a, n=100)\n",
    "#number of bottles in the standard number that fit the condition in part A) (<=345)\n",
    "X = binom.cdf(k=0.1,n=100,p=a)\n",
    "print(X)\n",
    "\n",
    "# calculate p(X < 10) = p(X <= 9) using cumulative distribution of binomial dist\n",
    "# C) let X be the random variable denoting the number of ml in a bottle. \n",
    "\n",
    "\n",
    "# X follows a normal distribution N(348, 9) and has a cumulative distribution F\n",
    "# Want x such that F(x) == 0.99, so use inverse cumulative distribution F-1(0.99)\n",
    "\n"
   ]
  },
  {
   "cell_type": "code",
   "execution_count": 33,
   "metadata": {},
   "outputs": [
    {
     "name": "stdout",
     "output_type": "stream",
     "text": [
      "0.15865525393145707\n",
      "17\n"
     ]
    },
    {
     "ename": "AttributeError",
     "evalue": "'numpy.float64' object has no attribute 'ppf'",
     "output_type": "error",
     "traceback": [
      "\u001b[1;31m---------------------------------------------------------------------------\u001b[0m",
      "\u001b[1;31mAttributeError\u001b[0m                            Traceback (most recent call last)",
      "\u001b[1;32m~\\AppData\\Local\\Temp/ipykernel_15280/804026563.py\u001b[0m in \u001b[0;36m<module>\u001b[1;34m\u001b[0m\n\u001b[0;32m      6\u001b[0m \u001b[0mprint\u001b[0m\u001b[1;33m(\u001b[0m\u001b[0mX\u001b[0m\u001b[1;33m)\u001b[0m\u001b[1;33m\u001b[0m\u001b[1;33m\u001b[0m\u001b[0m\n\u001b[0;32m      7\u001b[0m \u001b[1;33m\u001b[0m\u001b[0m\n\u001b[1;32m----> 8\u001b[1;33m \u001b[0ma\u001b[0m\u001b[1;33m.\u001b[0m\u001b[0mppf\u001b[0m\u001b[1;33m(\u001b[0m\u001b[1;36m0.99\u001b[0m\u001b[1;33m)\u001b[0m\u001b[1;33m\u001b[0m\u001b[1;33m\u001b[0m\u001b[0m\n\u001b[0m",
      "\u001b[1;31mAttributeError\u001b[0m: 'numpy.float64' object has no attribute 'ppf'"
     ]
    }
   ],
   "source": [
    "\n",
    "a = norm.cdf(345,348,3)\n",
    "print(a)\n",
    "\n",
    "X = rng().binomial(100,a)\n",
    "print(X)\n",
    "\n",
    "a.ppf(0.99)"
   ]
  },
  {
   "cell_type": "markdown",
   "metadata": {},
   "source": [
    "Q6. Accidents occur with a Poisson distribution at an average of 4 per week. i.e., λ =4. Calculate the probability of more than 5 accidents in any one week. "
   ]
  },
  {
   "cell_type": "code",
   "execution_count": 7,
   "metadata": {},
   "outputs": [],
   "source": [
    "# Let X be the random variable denoting the number of accidents that occur in an\n",
    "# average week. X follows a poisson Distribution Poisson(lambda = 4)\n",
    "# Want P(X > 5) = 1 - P(X <=5) = 1 - F(5) where F is the cumulative distribution\n",
    "# function of the poisson distribution"
   ]
  },
  {
   "cell_type": "code",
   "execution_count": 56,
   "metadata": {},
   "outputs": [],
   "source": [
    "# X follows a poisson Distribution Poisson(lambda = 4)\n",
    "from scipy.stats import poisson\n",
    "X = 1-poisson.cdf(k=5,mu=4)"
   ]
  },
  {
   "cell_type": "code",
   "execution_count": 57,
   "metadata": {},
   "outputs": [
    {
     "name": "stdout",
     "output_type": "stream",
     "text": [
      "0.21486961296959484\n"
     ]
    }
   ],
   "source": [
    "print(X)"
   ]
  },
  {
   "cell_type": "code",
   "execution_count": null,
   "metadata": {},
   "outputs": [],
   "source": [
    "1"
   ]
  }
 ],
 "metadata": {
  "kernelspec": {
   "display_name": "Python 3 (ipykernel)",
   "language": "python",
   "name": "python3"
  },
  "language_info": {
   "codemirror_mode": {
    "name": "ipython",
    "version": 3
   },
   "file_extension": ".py",
   "mimetype": "text/x-python",
   "name": "python",
   "nbconvert_exporter": "python",
   "pygments_lexer": "ipython3",
   "version": "3.8.5"
  }
 },
 "nbformat": 4,
 "nbformat_minor": 4
}
