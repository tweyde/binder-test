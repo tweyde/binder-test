{
 "cells": [
  {
   "cell_type": "markdown",
   "metadata": {},
   "source": [
    "# Chapter 5: Random Variables, Probability, Distributions"
   ]
  },
  {
   "cell_type": "code",
   "execution_count": 1,
   "metadata": {},
   "outputs": [],
   "source": [
    "import numpy as np\n",
    "import pandas as pd"
   ]
  },
  {
   "cell_type": "markdown",
   "metadata": {},
   "source": [
    "# Exercises"
   ]
  },
  {
   "cell_type": "markdown",
   "metadata": {},
   "source": [
    "1. Consider an election with 5 candidates and 1000 voters. Assumed that the voters cast their vote randomly, what is the probability that there will be a tie for the first position?"
   ]
  },
  {
   "cell_type": "code",
   "execution_count": 2,
   "metadata": {},
   "outputs": [
    {
     "data": {
      "text/plain": [
       "0.0407"
      ]
     },
     "execution_count": 2,
     "metadata": {},
     "output_type": "execute_result"
    }
   ],
   "source": [
    "candidates = [1,2,3,4,5]\n",
    "prob = [.2,.2,.2,.2,.2]\n",
    "counts = 0\n",
    "num_trials = 10000\n",
    "for i in range(num_trials):\n",
    "    ranks = pd.DataFrame(\n",
    "        np.random.choice(candidates, size=1000, replace=True, p=prob)\n",
    "    ).value_counts().values\n",
    "    \n",
    "    if ranks[0] == ranks[1]:\n",
    "        counts += 1\n",
    "prob_estimate = counts / num_trials\n",
    "prob_estimate"
   ]
  },
  {
   "cell_type": "markdown",
   "metadata": {},
   "source": [
    "2. Throw two dice. What is the probability that the difference between them is 1, 2, or 3? #needs further clarification"
   ]
  },
  {
   "cell_type": "code",
   "execution_count": 3,
   "metadata": {},
   "outputs": [
    {
     "data": {
      "text/plain": [
       "0.666767"
      ]
     },
     "execution_count": 3,
     "metadata": {},
     "output_type": "execute_result"
    }
   ],
   "source": [
    "diedomain = range(1,7)\n",
    "dieprob = np.repeat(1/6,6)\n",
    "num_trials = 1000000\n",
    "die1 = np.random.choice(diedomain, size=num_trials, replace=True, p=dieprob)\n",
    "die2 = np.random.choice(diedomain, size=num_trials, replace=True, p=dieprob)\n",
    "diffs = np.abs(die1-die2)\n",
    "# sum die where differences is 1, 2 or 3.\n",
    "prob_estimate = ((diffs >= 1) & (diffs <= 3)).sum() / num_trials\n",
    "prob_estimate"
   ]
  },
  {
   "cell_type": "markdown",
   "metadata": {},
   "source": [
    "3. Given that a throw of three dice show three different faces, what is the probability that the sum of all the three digits is 11."
   ]
  },
  {
   "cell_type": "code",
   "execution_count": 4,
   "metadata": {},
   "outputs": [
    {
     "data": {
      "text/plain": [
       "0.1404025852726956"
      ]
     },
     "execution_count": 4,
     "metadata": {},
     "output_type": "execute_result"
    }
   ],
   "source": [
    "num_trials = 1000000\n",
    "die1 = np.random.choice(diedomain, size=num_trials, replace=True, p=dieprob)\n",
    "die2 = np.random.choice(diedomain, size=num_trials, replace=True, p=dieprob)\n",
    "die3 = np.random.choice(diedomain, size=num_trials, replace=True, p=dieprob)\n",
    "\n",
    "# prob three die show different faces\n",
    "prob_b = ((die1 != die2) & (die2 != die3)).sum() / num_trials\n",
    "\n",
    "# prob three die show different faces and sum to 11\n",
    "prob_a_and_b = (((die1 != die2) & (die2 != die3)) & ((die1 + die2 + die3) == 11)).sum() / num_trials \n",
    "\n",
    "# p(a|b) = p(a and b)/p(b)\n",
    "p_a_given_b = prob_a_and_b / prob_b\n",
    "p_a_given_b   "
   ]
  },
  {
   "cell_type": "markdown",
   "metadata": {},
   "source": [
    "Q4. It's 1000 >0 but is it worth to invest? decision theory?"
   ]
  },
  {
   "cell_type": "code",
   "execution_count": 5,
   "metadata": {},
   "outputs": [
    {
     "data": {
      "text/plain": [
       "1000.0"
      ]
     },
     "execution_count": 5,
     "metadata": {},
     "output_type": "execute_result"
    }
   ],
   "source": [
    "# Let X be the random variable the profit obtained on the day of the golf tournament\n",
    "# X takes value (0 - 20000) -20000 with probability 0.3, X takes value (30000 - 20000) 10000 with probability 0.7 \n",
    "# expected value of X is (and so expected profit)\n",
    "-20000 * 0.3 + 10000 * 0.7"
   ]
  },
  {
   "cell_type": "markdown",
   "metadata": {},
   "source": [
    "Q5. std 3 -> overflood?\n",
    "a) cumulative dif, probability norm(X <= 345), b) probability of success is binomial distribution(a, n=100), c), d)inversed cumulative distribution"
   ]
  },
  {
   "cell_type": "code",
   "execution_count": 6,
   "metadata": {},
   "outputs": [],
   "source": [
    "# A) cdf of normal. let a = norm(X <= 345)\n",
    "# B) let X be the number of bottles having less than 345ml in a set of n bottles\n",
    "# X follows the binomial distribution binom(p=a, n=100)\n",
    "# calculate p(X < 10) = p(X <= 9) using cumulative distribution of binomial dist\n",
    "# C) let X be the random variable denoting the number of ml in a bottle. \n",
    "# X follows a normal distribution N(348, 9) and has a cumulative distribution F\n",
    "# Want x such that F(x) == 0.99, so use inverse cumulative distribution F-1(0.99)"
   ]
  },
  {
   "cell_type": "markdown",
   "metadata": {},
   "source": [
    "Q6. Poisson distribution cares only the times of event"
   ]
  },
  {
   "cell_type": "code",
   "execution_count": 7,
   "metadata": {},
   "outputs": [],
   "source": [
    "# Let X be the random variable denoting the number of accidents that occur in an\n",
    "# average week. X follows a poisson Distribution Poisson(lambda = 4)\n",
    "# Want P(X > 5) = 1 - P(X <=5) = 1 - F(5) where F is the cumulative distribution\n",
    "# function of the poisson distribution"
   ]
  },
  {
   "cell_type": "code",
   "execution_count": null,
   "metadata": {},
   "outputs": [],
   "source": []
  }
 ],
 "metadata": {
  "kernelspec": {
   "display_name": "Python 3",
   "language": "python",
   "name": "python3"
  },
  "language_info": {
   "codemirror_mode": {
    "name": "ipython",
    "version": 3
   },
   "file_extension": ".py",
   "mimetype": "text/x-python",
   "name": "python",
   "nbconvert_exporter": "python",
   "pygments_lexer": "ipython3",
   "version": "3.8.5"
  }
 },
 "nbformat": 4,
 "nbformat_minor": 4
}
