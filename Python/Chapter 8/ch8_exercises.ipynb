{
 "cells": [
  {
   "cell_type": "markdown",
   "id": "f4d0b99d",
   "metadata": {},
   "source": [
    "# Chapter 8: Statistical Tests"
   ]
  },
  {
   "cell_type": "code",
   "execution_count": 8,
   "id": "8ecdbfbe",
   "metadata": {},
   "outputs": [],
   "source": [
    "import numpy as np\n",
    "import pandas as pd\n",
    "import seaborn as sns\n",
    "import matplotlib.pyplot as plt"
   ]
  },
  {
   "cell_type": "code",
   "execution_count": 9,
   "id": "3bbde3bf",
   "metadata": {},
   "outputs": [],
   "source": [
    "# Helper functions imported from textbook\n",
    "def p_rtail(sampdist,tstat): \n",
    "    points = sns.kdeplot(sampdist).get_lines()[0].get_data() # get x and y values from plot \n",
    "    x = points[0] \n",
    "    y = points[1] \n",
    "    plt.fill_between(x,y, where = x > tstat, color='r') \n",
    "    plt.fill_between(x,y, where = x <= tstat, color='g') \n",
    "    plt.show() \n",
    "    pvalue = np.sum(sampdist < tstat) / len(sampdist) \n",
    "    return pvalue \n",
    "\n",
    "def p_ltail(sampdist,tstat): \n",
    "    points = sns.kdeplot(sampdist).get_lines()[0].get_data() \n",
    "    x = points[0] \n",
    "    y = points[1] \n",
    "    plt.fill_between(x,y, where = x < tstat, color='r') \n",
    "    plt.fill_between(x,y, where = x >= tstat, color='g') \n",
    "    plt.show() \n",
    "    pvalue = np.sum(sampdist > tstat) / len(sampdist) \n",
    "\n",
    "    return pvalue \n",
    "\n",
    "def p_2tail(sampdist,tstat):\n",
    "    points = sns.kdeplot(sampdist).get_lines()[0].get_data() \n",
    "    hyp = np.mean(sampdist) \n",
    "    cutoff1 = hyp - np.abs(hyp - tstat) \n",
    "    cutoff2 = hyp + np.abs(hyp - tstat) \n",
    "    x = points[0] \n",
    "    y = points[1] \n",
    "    plt.fill_between(x,y, where = (x < cutoff1) | (x > cutoff2), color='r') \n",
    "    plt.fill_between(x,y, where = (x >= cutoff1) & (x <= cutoff2), color='g') \n",
    "    plt.show() \n",
    "    pvalue = np.sum((sampdist < cutoff1) | (sampdist > cutoff2)) / len(sampdist) \n",
    "    return pvalue "
   ]
  },
  {
   "cell_type": "code",
   "execution_count": 10,
   "id": "2d324991",
   "metadata": {},
   "outputs": [
    {
     "data": {
      "text/html": [
       "<div>\n",
       "<style scoped>\n",
       "    .dataframe tbody tr th:only-of-type {\n",
       "        vertical-align: middle;\n",
       "    }\n",
       "\n",
       "    .dataframe tbody tr th {\n",
       "        vertical-align: top;\n",
       "    }\n",
       "\n",
       "    .dataframe thead th {\n",
       "        text-align: right;\n",
       "    }\n",
       "</style>\n",
       "<table border=\"1\" class=\"dataframe\">\n",
       "  <thead>\n",
       "    <tr style=\"text-align: right;\">\n",
       "      <th></th>\n",
       "      <th>ofp</th>\n",
       "      <th>ofnp</th>\n",
       "      <th>opp</th>\n",
       "      <th>opnp</th>\n",
       "      <th>emr</th>\n",
       "      <th>hosp</th>\n",
       "      <th>exclhlth</th>\n",
       "      <th>poorhlth</th>\n",
       "      <th>numchron</th>\n",
       "      <th>adldiff</th>\n",
       "      <th>...</th>\n",
       "      <th>west</th>\n",
       "      <th>age</th>\n",
       "      <th>black</th>\n",
       "      <th>male</th>\n",
       "      <th>married</th>\n",
       "      <th>school</th>\n",
       "      <th>faminc</th>\n",
       "      <th>employed</th>\n",
       "      <th>privins</th>\n",
       "      <th>medicaid</th>\n",
       "    </tr>\n",
       "  </thead>\n",
       "  <tbody>\n",
       "    <tr>\n",
       "      <th>0</th>\n",
       "      <td>5</td>\n",
       "      <td>0</td>\n",
       "      <td>0</td>\n",
       "      <td>0</td>\n",
       "      <td>0</td>\n",
       "      <td>1</td>\n",
       "      <td>0</td>\n",
       "      <td>0</td>\n",
       "      <td>2</td>\n",
       "      <td>0</td>\n",
       "      <td>...</td>\n",
       "      <td>0</td>\n",
       "      <td>6.9</td>\n",
       "      <td>1</td>\n",
       "      <td>1</td>\n",
       "      <td>1</td>\n",
       "      <td>6</td>\n",
       "      <td>2.8810</td>\n",
       "      <td>1</td>\n",
       "      <td>1</td>\n",
       "      <td>0</td>\n",
       "    </tr>\n",
       "    <tr>\n",
       "      <th>1</th>\n",
       "      <td>1</td>\n",
       "      <td>0</td>\n",
       "      <td>2</td>\n",
       "      <td>0</td>\n",
       "      <td>2</td>\n",
       "      <td>0</td>\n",
       "      <td>0</td>\n",
       "      <td>0</td>\n",
       "      <td>2</td>\n",
       "      <td>0</td>\n",
       "      <td>...</td>\n",
       "      <td>0</td>\n",
       "      <td>7.4</td>\n",
       "      <td>0</td>\n",
       "      <td>0</td>\n",
       "      <td>1</td>\n",
       "      <td>10</td>\n",
       "      <td>2.7478</td>\n",
       "      <td>0</td>\n",
       "      <td>1</td>\n",
       "      <td>0</td>\n",
       "    </tr>\n",
       "    <tr>\n",
       "      <th>2</th>\n",
       "      <td>13</td>\n",
       "      <td>0</td>\n",
       "      <td>0</td>\n",
       "      <td>0</td>\n",
       "      <td>3</td>\n",
       "      <td>3</td>\n",
       "      <td>0</td>\n",
       "      <td>1</td>\n",
       "      <td>4</td>\n",
       "      <td>1</td>\n",
       "      <td>...</td>\n",
       "      <td>0</td>\n",
       "      <td>6.6</td>\n",
       "      <td>1</td>\n",
       "      <td>0</td>\n",
       "      <td>0</td>\n",
       "      <td>10</td>\n",
       "      <td>0.6532</td>\n",
       "      <td>0</td>\n",
       "      <td>0</td>\n",
       "      <td>1</td>\n",
       "    </tr>\n",
       "    <tr>\n",
       "      <th>3</th>\n",
       "      <td>16</td>\n",
       "      <td>0</td>\n",
       "      <td>5</td>\n",
       "      <td>0</td>\n",
       "      <td>1</td>\n",
       "      <td>1</td>\n",
       "      <td>0</td>\n",
       "      <td>1</td>\n",
       "      <td>2</td>\n",
       "      <td>1</td>\n",
       "      <td>...</td>\n",
       "      <td>0</td>\n",
       "      <td>7.6</td>\n",
       "      <td>0</td>\n",
       "      <td>1</td>\n",
       "      <td>1</td>\n",
       "      <td>3</td>\n",
       "      <td>0.6588</td>\n",
       "      <td>0</td>\n",
       "      <td>1</td>\n",
       "      <td>0</td>\n",
       "    </tr>\n",
       "    <tr>\n",
       "      <th>4</th>\n",
       "      <td>3</td>\n",
       "      <td>0</td>\n",
       "      <td>0</td>\n",
       "      <td>0</td>\n",
       "      <td>0</td>\n",
       "      <td>0</td>\n",
       "      <td>0</td>\n",
       "      <td>0</td>\n",
       "      <td>2</td>\n",
       "      <td>1</td>\n",
       "      <td>...</td>\n",
       "      <td>0</td>\n",
       "      <td>7.9</td>\n",
       "      <td>0</td>\n",
       "      <td>0</td>\n",
       "      <td>1</td>\n",
       "      <td>6</td>\n",
       "      <td>0.6588</td>\n",
       "      <td>0</td>\n",
       "      <td>1</td>\n",
       "      <td>0</td>\n",
       "    </tr>\n",
       "  </tbody>\n",
       "</table>\n",
       "<p>5 rows × 22 columns</p>\n",
       "</div>"
      ],
      "text/plain": [
       "   ofp  ofnp  opp  opnp  emr  hosp  exclhlth  poorhlth  numchron  adldiff  \\\n",
       "0    5     0    0     0    0     1         0         0         2        0   \n",
       "1    1     0    2     0    2     0         0         0         2        0   \n",
       "2   13     0    0     0    3     3         0         1         4        1   \n",
       "3   16     0    5     0    1     1         0         1         2        1   \n",
       "4    3     0    0     0    0     0         0         0         2        1   \n",
       "\n",
       "   ...  west  age  black  male  married  school  faminc  employed  privins  \\\n",
       "0  ...     0  6.9      1     1        1       6  2.8810         1        1   \n",
       "1  ...     0  7.4      0     0        1      10  2.7478         0        1   \n",
       "2  ...     0  6.6      1     0        0      10  0.6532         0        0   \n",
       "3  ...     0  7.6      0     1        1       3  0.6588         0        1   \n",
       "4  ...     0  7.9      0     0        1       6  0.6588         0        1   \n",
       "\n",
       "   medicaid  \n",
       "0         0  \n",
       "1         0  \n",
       "2         1  \n",
       "3         0  \n",
       "4         0  \n",
       "\n",
       "[5 rows x 22 columns]"
      ]
     },
     "execution_count": 10,
     "metadata": {},
     "output_type": "execute_result"
    }
   ],
   "source": [
    "#Health.csv moved into the folder for consistency in file input. Edit the file path as needed.\n",
    "health = pd.read_csv(\"Health.csv\")\n",
    "health.head(5)"
   ]
  },
  {
   "cell_type": "markdown",
   "id": "f62a9c82",
   "metadata": {},
   "source": [
    "1. There is a variable called faminc, which indicates the income of the family. Conduct a test for the median value of 1.75.  "
   ]
  },
  {
   "cell_type": "markdown",
   "id": "3e1b0957",
   "metadata": {},
   "source": [
    "1. Null Hypothesis :the median value is 1.75\n",
    "2.  Since the family income values are numerical, we will assume they follow N(μ,σ) \n",
    "Since a normal distribution is always symmetric about the mean, its median value will be the same as its mean."
   ]
  },
  {
   "cell_type": "code",
   "execution_count": 11,
   "id": "ee3d10e2",
   "metadata": {},
   "outputs": [
    {
     "name": "stdout",
     "output_type": "stream",
     "text": [
      "actual median : \n",
      "1.69815\n"
     ]
    },
    {
     "data": {
      "image/png": "[encoded data removed]",
      "text/plain": [
       "<Figure size 432x288 with 1 Axes>"
      ]
     },
     "metadata": {
      "needs_background": "light"
     },
     "output_type": "display_data"
    },
    {
     "data": {
      "text/plain": [
       "0.7476168860644575"
      ]
     },
     "execution_count": 11,
     "metadata": {},
     "output_type": "execute_result"
    }
   ],
   "source": [
    "median = np.median(health.faminc)\n",
    "print(\"actual median : \")\n",
    "print(median)\n",
    "p_2tail(health.faminc, 1.75)"
   ]
  },
  {
   "cell_type": "markdown",
   "id": "d7d4141f",
   "metadata": {},
   "source": [
    "p-value is largely above the threshold of 0.05, so the null hypothesis cannot be rejected. "
   ]
  },
  {
   "cell_type": "markdown",
   "id": "4454e282",
   "metadata": {},
   "source": [
    "2. There is a variable called age.  Assuming this follows an exponential distribution, test the hypothesis that the mean value of age is 7.5.  "
   ]
  },
  {
   "cell_type": "markdown",
   "id": "5da4c85d",
   "metadata": {},
   "source": [
    "Null Hypothesis :the mean value is 7.5\n",
    "\n",
    "Since the age values are numerical, we will assume they follow N(μ,σ) Since a normal distribution is always symmetric about the mean, its median value will be the same as its mean."
   ]
  },
  {
   "cell_type": "code",
   "execution_count": 12,
   "id": "c6f2b6c1",
   "metadata": {
    "scrolled": true
   },
   "outputs": [
    {
     "name": "stdout",
     "output_type": "stream",
     "text": [
      "actual mean: \n",
      "7.4024058102587125\n"
     ]
    },
    {
     "data": {
      "image/png": "[encoded data removed]",
      "text/plain": [
       "<Figure size 432x288 with 1 Axes>"
      ]
     },
     "metadata": {
      "needs_background": "light"
     },
     "output_type": "display_data"
    },
    {
     "data": {
      "text/plain": [
       "0.8949160236041761"
      ]
     },
     "execution_count": 12,
     "metadata": {},
     "output_type": "execute_result"
    }
   ],
   "source": [
    "mean = np.mean(health.age)\n",
    "print(\"actual mean: \")\n",
    "print(mean)\n",
    "p_2tail(health.age, 7.5)"
   ]
  },
  {
   "cell_type": "markdown",
   "id": "f0227236",
   "metadata": {},
   "source": [
    "p-value is slightly below the threshold of 0.05, so the null hypothesis is accepted. "
   ]
  },
  {
   "cell_type": "markdown",
   "id": "eab92925",
   "metadata": {},
   "source": [
    "3. There are two variables named males and exclhlth. The first one refers to gender and the second to the health condition. Both variables have only two values 0 or 1. Conduct (a chi-square) test to see if these two variables are related. Note that the null hypothesis is that there is no relationship between the two. "
   ]
  },
  {
   "cell_type": "markdown",
   "id": "5266700b",
   "metadata": {},
   "source": [
    "Null Hypothesis : there is no relationship between gender and health variables."
   ]
  },
  {
   "cell_type": "code",
   "execution_count": 15,
   "id": "da03e9ee",
   "metadata": {},
   "outputs": [
    {
     "data": {
      "text/html": [
       "<div>\n",
       "<style scoped>\n",
       "    .dataframe tbody tr th:only-of-type {\n",
       "        vertical-align: middle;\n",
       "    }\n",
       "\n",
       "    .dataframe tbody tr th {\n",
       "        vertical-align: top;\n",
       "    }\n",
       "\n",
       "    .dataframe thead th {\n",
       "        text-align: right;\n",
       "    }\n",
       "</style>\n",
       "<table border=\"1\" class=\"dataframe\">\n",
       "  <thead>\n",
       "    <tr style=\"text-align: right;\">\n",
       "      <th>exclhlth</th>\n",
       "      <th>0</th>\n",
       "      <th>1</th>\n",
       "    </tr>\n",
       "    <tr>\n",
       "      <th>male</th>\n",
       "      <th></th>\n",
       "      <th></th>\n",
       "    </tr>\n",
       "  </thead>\n",
       "  <tbody>\n",
       "    <tr>\n",
       "      <th>0</th>\n",
       "      <td>2435</td>\n",
       "      <td>193</td>\n",
       "    </tr>\n",
       "    <tr>\n",
       "      <th>1</th>\n",
       "      <td>1628</td>\n",
       "      <td>150</td>\n",
       "    </tr>\n",
       "  </tbody>\n",
       "</table>\n",
       "</div>"
      ],
      "text/plain": [
       "exclhlth     0    1\n",
       "male               \n",
       "0         2435  193\n",
       "1         1628  150"
      ]
     },
     "execution_count": 15,
     "metadata": {},
     "output_type": "execute_result"
    }
   ],
   "source": [
    "#make a contingency table\n",
    "contigency= pd.crosstab(health['male'], health['exclhlth']) \n",
    "contigency"
   ]
  },
  {
   "cell_type": "code",
   "execution_count": 16,
   "id": "20fabed6",
   "metadata": {},
   "outputs": [
    {
     "name": "stdout",
     "output_type": "stream",
     "text": [
      "0.20390566840673588\n"
     ]
    }
   ],
   "source": [
    "from scipy.stats import chi2_contingency\n",
    "\n",
    "c, p, dof, expected = chi2_contingency(contigency) \n",
    "print(p)"
   ]
  },
  {
   "cell_type": "markdown",
   "id": "f872def9",
   "metadata": {},
   "source": [
    "The two variables tend to be related, as the value is very low (0.21)"
   ]
  },
  {
   "cell_type": "code",
   "execution_count": 17,
   "id": "d9155183",
   "metadata": {},
   "outputs": [],
   "source": [
    "#UsedCars2017 csv also inserted into the directory.\n",
    "cars =  pd.read_csv(\"UsedCars2017.csv\")"
   ]
  },
  {
   "cell_type": "code",
   "execution_count": 18,
   "id": "a6f3eea8",
   "metadata": {},
   "outputs": [
    {
     "data": {
      "text/html": [
       "<div>\n",
       "<style scoped>\n",
       "    .dataframe tbody tr th:only-of-type {\n",
       "        vertical-align: middle;\n",
       "    }\n",
       "\n",
       "    .dataframe tbody tr th {\n",
       "        vertical-align: top;\n",
       "    }\n",
       "\n",
       "    .dataframe thead th {\n",
       "        text-align: right;\n",
       "    }\n",
       "</style>\n",
       "<table border=\"1\" class=\"dataframe\">\n",
       "  <thead>\n",
       "    <tr style=\"text-align: right;\">\n",
       "      <th></th>\n",
       "      <th>Price</th>\n",
       "      <th>Age</th>\n",
       "      <th>Mileage</th>\n",
       "      <th>MPG</th>\n",
       "      <th>KBB Price</th>\n",
       "      <th>CR Reliability Score</th>\n",
       "    </tr>\n",
       "  </thead>\n",
       "  <tbody>\n",
       "    <tr>\n",
       "      <th>0</th>\n",
       "      <td>11858.0</td>\n",
       "      <td>6.0</td>\n",
       "      <td>69.7</td>\n",
       "      <td>34.0</td>\n",
       "      <td>10600.0</td>\n",
       "      <td>0.80</td>\n",
       "    </tr>\n",
       "    <tr>\n",
       "      <th>1</th>\n",
       "      <td>3092.0</td>\n",
       "      <td>17.0</td>\n",
       "      <td>166.7</td>\n",
       "      <td>21.0</td>\n",
       "      <td>2400.0</td>\n",
       "      <td>0.67</td>\n",
       "    </tr>\n",
       "    <tr>\n",
       "      <th>2</th>\n",
       "      <td>14300.0</td>\n",
       "      <td>4.0</td>\n",
       "      <td>42.3</td>\n",
       "      <td>35.0</td>\n",
       "      <td>11100.0</td>\n",
       "      <td>0.75</td>\n",
       "    </tr>\n",
       "    <tr>\n",
       "      <th>3</th>\n",
       "      <td>10942.0</td>\n",
       "      <td>6.0</td>\n",
       "      <td>84.4</td>\n",
       "      <td>28.0</td>\n",
       "      <td>8500.0</td>\n",
       "      <td>0.92</td>\n",
       "    </tr>\n",
       "    <tr>\n",
       "      <th>4</th>\n",
       "      <td>12968.0</td>\n",
       "      <td>5.0</td>\n",
       "      <td>56.6</td>\n",
       "      <td>27.0</td>\n",
       "      <td>10000.0</td>\n",
       "      <td>0.56</td>\n",
       "    </tr>\n",
       "  </tbody>\n",
       "</table>\n",
       "</div>"
      ],
      "text/plain": [
       "     Price   Age  Mileage   MPG  KBB Price  CR Reliability Score\n",
       "0  11858.0   6.0     69.7  34.0    10600.0                  0.80\n",
       "1   3092.0  17.0    166.7  21.0     2400.0                  0.67\n",
       "2  14300.0   4.0     42.3  35.0    11100.0                  0.75\n",
       "3  10942.0   6.0     84.4  28.0     8500.0                  0.92\n",
       "4  12968.0   5.0     56.6  27.0    10000.0                  0.56"
      ]
     },
     "execution_count": 18,
     "metadata": {},
     "output_type": "execute_result"
    }
   ],
   "source": [
    "cars.head(5)"
   ]
  },
  {
   "cell_type": "markdown",
   "id": "2573cd7d",
   "metadata": {},
   "source": [
    "4. Develop a test to evaluate the hypothesis that the population mean Price is the same as the population median Price. Hint: Assume a normal distribution for the population. "
   ]
  },
  {
   "cell_type": "code",
   "execution_count": 19,
   "id": "264627c5",
   "metadata": {},
   "outputs": [],
   "source": [
    "#Null hypothesis : The mean and median are same\n",
    "#Since a normal distribution is always symmetric about the mean, its median value will be the same as its mean.\n",
    "#We will go for a normality test.\n",
    "mean = np.mean(cars.Price)\n",
    "median = np.median(cars.Price)\n",
    "#in terms of raw values, median is not same as the mean"
   ]
  },
  {
   "cell_type": "code",
   "execution_count": 20,
   "id": "a398e8a7",
   "metadata": {},
   "outputs": [
    {
     "data": {
      "image/png": "[encoded data removed]",
      "text/plain": [
       "<Figure size 432x288 with 1 Axes>"
      ]
     },
     "metadata": {
      "needs_background": "light"
     },
     "output_type": "display_data"
    },
    {
     "data": {
      "text/plain": [
       "0.0"
      ]
     },
     "execution_count": 20,
     "metadata": {},
     "output_type": "execute_result"
    }
   ],
   "source": [
    "np.random.seed(87654321) \n",
    "sampsize = len(cars) \n",
    "\n",
    "\n",
    "def f1(): \n",
    "    s1 = np.random.normal(size=sampsize, loc=median, scale=cars.std()['Price']) \n",
    "    return np.mean(s1) \n",
    "\n",
    "sampdist = [f1() for _ in range(10000)] \n",
    "tstat = cars.mean()['Price'] \n",
    "\n",
    "p_2tail(sampdist,tstat) "
   ]
  },
  {
   "cell_type": "markdown",
   "id": "ca51d5c2",
   "metadata": {},
   "source": [
    "5. Develop a test to evaluate the hypothesis that the population mean Price is 1.4 times the population standard deviation of Price. Hint: Assume a normal distribution for the population with standard deviation to be the same as the sample and the mean is 1.4 times the sample standard deviation. "
   ]
  },
  {
   "cell_type": "code",
   "execution_count": 50,
   "id": "022e1988",
   "metadata": {},
   "outputs": [
    {
     "name": "stdout",
     "output_type": "stream",
     "text": [
      "5001.793147001848\n",
      "7002.510405802587\n"
     ]
    }
   ],
   "source": [
    "stdev = np.std(cars.Price)\n",
    "print(stdev)\n",
    "print(stdev*1.4)"
   ]
  },
  {
   "cell_type": "code",
   "execution_count": 22,
   "id": "b7fef437",
   "metadata": {},
   "outputs": [
    {
     "data": {
      "image/png": "[encoded data removed]",
      "text/plain": [
       "<Figure size 432x288 with 1 Axes>"
      ]
     },
     "metadata": {
      "needs_background": "light"
     },
     "output_type": "display_data"
    },
    {
     "data": {
      "text/plain": [
       "0.1949"
      ]
     },
     "execution_count": 22,
     "metadata": {},
     "output_type": "execute_result"
    }
   ],
   "source": [
    "np.random.seed(87654321) \n",
    "\n",
    "\n",
    "def f1(): \n",
    "\n",
    "    mu = np.std(cars.Price)\n",
    "    s1 = np.random.normal(size=sampsize, loc=mu*1.4, scale=np.std(cars.Price)) \n",
    "    #mean is 1.4 of stdev\n",
    "\n",
    "    return np.mean(s1) \n",
    "\n",
    "sampdist = [f1() for _ in range(10000)] \n",
    "tstat = cars.mean()['Price'] \n",
    "\n",
    "p_2tail(sampdist,tstat) "
   ]
  },
  {
   "cell_type": "markdown",
   "id": "ce17f8d2",
   "metadata": {},
   "source": [
    "6. Develop a test to evaluate the hypothesis that the population correlation between Age and Mileage is 0.9. "
   ]
  },
  {
   "cell_type": "code",
   "execution_count": 24,
   "id": "7e033d93",
   "metadata": {},
   "outputs": [],
   "source": [
    "#helper function for scaling\n",
    "def scale(x): \n",
    "    return(x - np.mean(x)) / np.std(x) \n",
    "\n",
    " \n",
    "age1 = scale(cars['Age']) \n",
    "mileage1 = scale(cars['Mileage'])"
   ]
  },
  {
   "cell_type": "code",
   "execution_count": 35,
   "id": "7d2c3408",
   "metadata": {},
   "outputs": [],
   "source": [
    "np.random.seed(87654321) \n",
    "\n",
    "S = np.array([[1,0.9],[0.9,1]]) \n",
    "M = np.array([0,0])\n",
    "\n",
    "\n",
    "sampsize = len(cars) \n",
    "\n",
    "def f1(): \n",
    "    x = np.random.multivariate_normal(mean=M, cov=S, size=sampsize)\n",
    "    return(np.corrcoef(x[:,0], x[:,1])[0,1]) \n",
    "\n",
    "sampdist = [f1() for _ in range(10000)] "
   ]
  },
  {
   "cell_type": "code",
   "execution_count": 36,
   "id": "fafd6088",
   "metadata": {},
   "outputs": [
    {
     "data": {
      "image/png": "[encoded data removed]",
      "text/plain": [
       "<Figure size 432x288 with 1 Axes>"
      ]
     },
     "metadata": {
      "needs_background": "light"
     },
     "output_type": "display_data"
    },
    {
     "data": {
      "text/plain": [
       "0.0"
      ]
     },
     "execution_count": 36,
     "metadata": {},
     "output_type": "execute_result"
    }
   ],
   "source": [
    "tstat = np.corrcoef(age1, mileage1)[0,1] \n",
    "\n",
    "p_2tail(sampdist,tstat) "
   ]
  }
 ],
 "metadata": {
  "kernelspec": {
   "display_name": "Python 3 (ipykernel)",
   "language": "python",
   "name": "python3"
  },
  "language_info": {
   "codemirror_mode": {
    "name": "ipython",
    "version": 3
   },
   "file_extension": ".py",
   "mimetype": "text/x-python",
   "name": "python",
   "nbconvert_exporter": "python",
   "pygments_lexer": "ipython3",
   "version": "3.9.12"
  }
 },
 "nbformat": 4,
 "nbformat_minor": 5
}
